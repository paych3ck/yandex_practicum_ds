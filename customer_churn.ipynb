{
 "cells": [
  {
   "cell_type": "markdown",
   "metadata": {
    "toc": true
   },
   "source": [
    "<h1>Содержание<span class=\"tocSkip\"></span></h1>\n",
    "<div class=\"toc\"><ul class=\"toc-item\"><li><span><a href=\"#Подготовка-данных\" data-toc-modified-id=\"Подготовка-данных-1\"><span class=\"toc-item-num\">1&nbsp;&nbsp;</span>Подготовка данных</a></span></li><li><span><a href=\"#Исследование-задачи\" data-toc-modified-id=\"Исследование-задачи-2\"><span class=\"toc-item-num\">2&nbsp;&nbsp;</span>Исследование задачи</a></span></li><li><span><a href=\"#Борьба-с-дисбалансом\" data-toc-modified-id=\"Борьба-с-дисбалансом-3\"><span class=\"toc-item-num\">3&nbsp;&nbsp;</span>Борьба с дисбалансом</a></span></li><li><span><a href=\"#Тестирование-модели\" data-toc-modified-id=\"Тестирование-модели-4\"><span class=\"toc-item-num\">4&nbsp;&nbsp;</span>Тестирование модели</a></span></li><li><span><a href=\"#Вывод\" data-toc-modified-id=\"Вывод-5\"><span class=\"toc-item-num\">5&nbsp;&nbsp;</span>Вывод</a></span></li><li><span><a href=\"#Чек-лист-готовности-проекта\" data-toc-modified-id=\"Чек-лист-готовности-проекта-6\"><span class=\"toc-item-num\">6&nbsp;&nbsp;</span>Чек-лист готовности проекта</a></span></li></ul></div>"
   ]
  },
  {
   "cell_type": "markdown",
   "metadata": {},
   "source": [
    "# Отток клиентов"
   ]
  },
  {
   "cell_type": "markdown",
   "metadata": {},
   "source": [
    "Из «Бета-Банка» стали уходить клиенты. Каждый месяц. Немного, но заметно. Банковские маркетологи посчитали: сохранять текущих клиентов дешевле, чем привлекать новых.\n",
    "\n",
    "Нужно спрогнозировать, уйдёт клиент из банка в ближайшее время или нет. Вам предоставлены исторические данные о поведении клиентов и расторжении договоров с банком. \n",
    "\n",
    "Постройте модель с предельно большим значением *F1*-меры. Чтобы сдать проект успешно, нужно довести метрику до 0.59. Проверьте *F1*-меру на тестовой выборке самостоятельно.\n",
    "\n",
    "Дополнительно измеряйте *AUC-ROC*, сравнивайте её значение с *F1*-мерой.\n",
    "\n",
    "Источник данных: [https://www.kaggle.com/barelydedicated/bank-customer-churn-modeling](https://www.kaggle.com/barelydedicated/bank-customer-churn-modeling)"
   ]
  },
  {
   "cell_type": "markdown",
   "metadata": {},
   "source": [
    "## Подготовка данных"
   ]
  },
  {
   "cell_type": "code",
   "execution_count": 1,
   "metadata": {},
   "outputs": [],
   "source": [
    "import pandas as pd\n",
    "\n",
    "from sklearn.metrics import f1_score, roc_auc_score\n",
    "\n",
    "from sklearn.utils import shuffle\n",
    "\n",
    "from sklearn.model_selection import train_test_split\n",
    "\n",
    "from sklearn.ensemble import RandomForestClassifier\n",
    "from sklearn.tree import DecisionTreeClassifier\n",
    "\n",
    "from sklearn.preprocessing import OrdinalEncoder"
   ]
  },
  {
   "cell_type": "markdown",
   "metadata": {},
   "source": [
    "Импорт библиотек *pandas* и *sklearn*."
   ]
  },
  {
   "cell_type": "code",
   "execution_count": 2,
   "metadata": {},
   "outputs": [
    {
     "name": "stdout",
     "output_type": "stream",
     "text": [
      "<class 'pandas.core.frame.DataFrame'>\n",
      "RangeIndex: 10000 entries, 0 to 9999\n",
      "Data columns (total 14 columns):\n",
      " #   Column           Non-Null Count  Dtype  \n",
      "---  ------           --------------  -----  \n",
      " 0   RowNumber        10000 non-null  int64  \n",
      " 1   CustomerId       10000 non-null  int64  \n",
      " 2   Surname          10000 non-null  object \n",
      " 3   CreditScore      10000 non-null  int64  \n",
      " 4   Geography        10000 non-null  object \n",
      " 5   Gender           10000 non-null  object \n",
      " 6   Age              10000 non-null  int64  \n",
      " 7   Tenure           9091 non-null   float64\n",
      " 8   Balance          10000 non-null  float64\n",
      " 9   NumOfProducts    10000 non-null  int64  \n",
      " 10  HasCrCard        10000 non-null  int64  \n",
      " 11  IsActiveMember   10000 non-null  int64  \n",
      " 12  EstimatedSalary  10000 non-null  float64\n",
      " 13  Exited           10000 non-null  int64  \n",
      "dtypes: float64(3), int64(8), object(3)\n",
      "memory usage: 1.1+ MB\n"
     ]
    }
   ],
   "source": [
    "df = pd.read_csv('/datasets/Churn.csv')\n",
    "df.info()"
   ]
  },
  {
   "cell_type": "markdown",
   "metadata": {},
   "source": [
    "Загрузка данных и общая информация о датафрейме."
   ]
  },
  {
   "cell_type": "code",
   "execution_count": 3,
   "metadata": {},
   "outputs": [],
   "source": [
    "df.columns = [\n",
    "    'row_number',\n",
    "    'customer_id',\n",
    "    'surname',\n",
    "    'credit_score',\n",
    "    'geography',\n",
    "    'gender',\n",
    "    'age',\n",
    "    'tenure',\n",
    "    'balance',\n",
    "    'num_of_products',\n",
    "    'has_cr_card',\n",
    "    'is_active_member',\n",
    "    'estimated_salary',\n",
    "    'exited'\n",
    "             ]"
   ]
  },
  {
   "cell_type": "markdown",
   "metadata": {},
   "source": [
    "Приведение названий столбцов к *snake case*."
   ]
  },
  {
   "cell_type": "code",
   "execution_count": 4,
   "metadata": {
    "scrolled": true
   },
   "outputs": [
    {
     "data": {
      "text/plain": [
       "row_number            0\n",
       "customer_id           0\n",
       "surname               0\n",
       "credit_score          0\n",
       "geography             0\n",
       "gender                0\n",
       "age                   0\n",
       "tenure              909\n",
       "balance               0\n",
       "num_of_products       0\n",
       "has_cr_card           0\n",
       "is_active_member      0\n",
       "estimated_salary      0\n",
       "exited                0\n",
       "dtype: int64"
      ]
     },
     "execution_count": 4,
     "metadata": {},
     "output_type": "execute_result"
    }
   ],
   "source": [
    "df.isnull().sum()"
   ]
  },
  {
   "cell_type": "markdown",
   "metadata": {},
   "source": [
    "Количество пропусков в разных столбцах."
   ]
  },
  {
   "cell_type": "code",
   "execution_count": 5,
   "metadata": {},
   "outputs": [],
   "source": [
    "med_tenure = df['tenure'].median()\n",
    "df['tenure'] = df['tenure'].fillna(med_tenure)"
   ]
  },
  {
   "cell_type": "markdown",
   "metadata": {},
   "source": [
    "Заполняем пропуски в столбце *tenure* медианным значением."
   ]
  },
  {
   "cell_type": "code",
   "execution_count": 6,
   "metadata": {
    "scrolled": false
   },
   "outputs": [
    {
     "data": {
      "text/html": [
       "<div>\n",
       "<style scoped>\n",
       "    .dataframe tbody tr th:only-of-type {\n",
       "        vertical-align: middle;\n",
       "    }\n",
       "\n",
       "    .dataframe tbody tr th {\n",
       "        vertical-align: top;\n",
       "    }\n",
       "\n",
       "    .dataframe thead th {\n",
       "        text-align: right;\n",
       "    }\n",
       "</style>\n",
       "<table border=\"1\" class=\"dataframe\">\n",
       "  <thead>\n",
       "    <tr style=\"text-align: right;\">\n",
       "      <th></th>\n",
       "      <th>credit_score</th>\n",
       "      <th>geography</th>\n",
       "      <th>gender</th>\n",
       "      <th>age</th>\n",
       "      <th>tenure</th>\n",
       "      <th>balance</th>\n",
       "      <th>num_of_products</th>\n",
       "      <th>has_cr_card</th>\n",
       "      <th>is_active_member</th>\n",
       "      <th>estimated_salary</th>\n",
       "      <th>exited</th>\n",
       "    </tr>\n",
       "  </thead>\n",
       "  <tbody>\n",
       "    <tr>\n",
       "      <th>0</th>\n",
       "      <td>619</td>\n",
       "      <td>France</td>\n",
       "      <td>Female</td>\n",
       "      <td>42</td>\n",
       "      <td>2.0</td>\n",
       "      <td>0.00</td>\n",
       "      <td>1</td>\n",
       "      <td>1</td>\n",
       "      <td>1</td>\n",
       "      <td>101348.88</td>\n",
       "      <td>1</td>\n",
       "    </tr>\n",
       "    <tr>\n",
       "      <th>1</th>\n",
       "      <td>608</td>\n",
       "      <td>Spain</td>\n",
       "      <td>Female</td>\n",
       "      <td>41</td>\n",
       "      <td>1.0</td>\n",
       "      <td>83807.86</td>\n",
       "      <td>1</td>\n",
       "      <td>0</td>\n",
       "      <td>1</td>\n",
       "      <td>112542.58</td>\n",
       "      <td>0</td>\n",
       "    </tr>\n",
       "    <tr>\n",
       "      <th>2</th>\n",
       "      <td>502</td>\n",
       "      <td>France</td>\n",
       "      <td>Female</td>\n",
       "      <td>42</td>\n",
       "      <td>8.0</td>\n",
       "      <td>159660.80</td>\n",
       "      <td>3</td>\n",
       "      <td>1</td>\n",
       "      <td>0</td>\n",
       "      <td>113931.57</td>\n",
       "      <td>1</td>\n",
       "    </tr>\n",
       "    <tr>\n",
       "      <th>3</th>\n",
       "      <td>699</td>\n",
       "      <td>France</td>\n",
       "      <td>Female</td>\n",
       "      <td>39</td>\n",
       "      <td>1.0</td>\n",
       "      <td>0.00</td>\n",
       "      <td>2</td>\n",
       "      <td>0</td>\n",
       "      <td>0</td>\n",
       "      <td>93826.63</td>\n",
       "      <td>0</td>\n",
       "    </tr>\n",
       "    <tr>\n",
       "      <th>4</th>\n",
       "      <td>850</td>\n",
       "      <td>Spain</td>\n",
       "      <td>Female</td>\n",
       "      <td>43</td>\n",
       "      <td>2.0</td>\n",
       "      <td>125510.82</td>\n",
       "      <td>1</td>\n",
       "      <td>1</td>\n",
       "      <td>1</td>\n",
       "      <td>79084.10</td>\n",
       "      <td>0</td>\n",
       "    </tr>\n",
       "  </tbody>\n",
       "</table>\n",
       "</div>"
      ],
      "text/plain": [
       "   credit_score geography  gender  age  tenure    balance  num_of_products  \\\n",
       "0           619    France  Female   42     2.0       0.00                1   \n",
       "1           608     Spain  Female   41     1.0   83807.86                1   \n",
       "2           502    France  Female   42     8.0  159660.80                3   \n",
       "3           699    France  Female   39     1.0       0.00                2   \n",
       "4           850     Spain  Female   43     2.0  125510.82                1   \n",
       "\n",
       "   has_cr_card  is_active_member  estimated_salary  exited  \n",
       "0            1                 1         101348.88       1  \n",
       "1            0                 1         112542.58       0  \n",
       "2            1                 0         113931.57       1  \n",
       "3            0                 0          93826.63       0  \n",
       "4            1                 1          79084.10       0  "
      ]
     },
     "execution_count": 6,
     "metadata": {},
     "output_type": "execute_result"
    }
   ],
   "source": [
    "df = df.drop(['surname', 'row_number', 'customer_id'], axis=1)\n",
    "df.head()"
   ]
  },
  {
   "cell_type": "markdown",
   "metadata": {},
   "source": [
    "Удаляем малоинформативные признаки *surname*, *row_number* и *customer_id*."
   ]
  },
  {
   "cell_type": "code",
   "execution_count": 7,
   "metadata": {
    "scrolled": false
   },
   "outputs": [
    {
     "data": {
      "text/html": [
       "<div>\n",
       "<style scoped>\n",
       "    .dataframe tbody tr th:only-of-type {\n",
       "        vertical-align: middle;\n",
       "    }\n",
       "\n",
       "    .dataframe tbody tr th {\n",
       "        vertical-align: top;\n",
       "    }\n",
       "\n",
       "    .dataframe thead th {\n",
       "        text-align: right;\n",
       "    }\n",
       "</style>\n",
       "<table border=\"1\" class=\"dataframe\">\n",
       "  <thead>\n",
       "    <tr style=\"text-align: right;\">\n",
       "      <th></th>\n",
       "      <th>credit_score</th>\n",
       "      <th>geography</th>\n",
       "      <th>gender</th>\n",
       "      <th>age</th>\n",
       "      <th>tenure</th>\n",
       "      <th>balance</th>\n",
       "      <th>num_of_products</th>\n",
       "      <th>has_cr_card</th>\n",
       "      <th>is_active_member</th>\n",
       "      <th>estimated_salary</th>\n",
       "      <th>exited</th>\n",
       "    </tr>\n",
       "  </thead>\n",
       "  <tbody>\n",
       "    <tr>\n",
       "      <th>0</th>\n",
       "      <td>619</td>\n",
       "      <td>0</td>\n",
       "      <td>0</td>\n",
       "      <td>42</td>\n",
       "      <td>2.0</td>\n",
       "      <td>0.00</td>\n",
       "      <td>1</td>\n",
       "      <td>1</td>\n",
       "      <td>1</td>\n",
       "      <td>101348.88</td>\n",
       "      <td>1</td>\n",
       "    </tr>\n",
       "    <tr>\n",
       "      <th>1</th>\n",
       "      <td>608</td>\n",
       "      <td>2</td>\n",
       "      <td>0</td>\n",
       "      <td>41</td>\n",
       "      <td>1.0</td>\n",
       "      <td>83807.86</td>\n",
       "      <td>1</td>\n",
       "      <td>0</td>\n",
       "      <td>1</td>\n",
       "      <td>112542.58</td>\n",
       "      <td>0</td>\n",
       "    </tr>\n",
       "    <tr>\n",
       "      <th>2</th>\n",
       "      <td>502</td>\n",
       "      <td>0</td>\n",
       "      <td>0</td>\n",
       "      <td>42</td>\n",
       "      <td>8.0</td>\n",
       "      <td>159660.80</td>\n",
       "      <td>3</td>\n",
       "      <td>1</td>\n",
       "      <td>0</td>\n",
       "      <td>113931.57</td>\n",
       "      <td>1</td>\n",
       "    </tr>\n",
       "    <tr>\n",
       "      <th>3</th>\n",
       "      <td>699</td>\n",
       "      <td>0</td>\n",
       "      <td>0</td>\n",
       "      <td>39</td>\n",
       "      <td>1.0</td>\n",
       "      <td>0.00</td>\n",
       "      <td>2</td>\n",
       "      <td>0</td>\n",
       "      <td>0</td>\n",
       "      <td>93826.63</td>\n",
       "      <td>0</td>\n",
       "    </tr>\n",
       "    <tr>\n",
       "      <th>4</th>\n",
       "      <td>850</td>\n",
       "      <td>2</td>\n",
       "      <td>0</td>\n",
       "      <td>43</td>\n",
       "      <td>2.0</td>\n",
       "      <td>125510.82</td>\n",
       "      <td>1</td>\n",
       "      <td>1</td>\n",
       "      <td>1</td>\n",
       "      <td>79084.10</td>\n",
       "      <td>0</td>\n",
       "    </tr>\n",
       "  </tbody>\n",
       "</table>\n",
       "</div>"
      ],
      "text/plain": [
       "   credit_score  geography  gender  age  tenure    balance  num_of_products  \\\n",
       "0           619          0       0   42     2.0       0.00                1   \n",
       "1           608          2       0   41     1.0   83807.86                1   \n",
       "2           502          0       0   42     8.0  159660.80                3   \n",
       "3           699          0       0   39     1.0       0.00                2   \n",
       "4           850          2       0   43     2.0  125510.82                1   \n",
       "\n",
       "   has_cr_card  is_active_member  estimated_salary  exited  \n",
       "0            1                 1         101348.88       1  \n",
       "1            0                 1         112542.58       0  \n",
       "2            1                 0         113931.57       1  \n",
       "3            0                 0          93826.63       0  \n",
       "4            1                 1          79084.10       0  "
      ]
     },
     "execution_count": 7,
     "metadata": {},
     "output_type": "execute_result"
    }
   ],
   "source": [
    "encoder = OrdinalEncoder()\n",
    "encoder.fit(df[['geography', 'gender']])\n",
    "df[['geography', 'gender']] = encoder.transform(df[['geography', 'gender']]).astype(int)\n",
    "df.head()"
   ]
  },
  {
   "cell_type": "markdown",
   "metadata": {},
   "source": [
    "Кодируем столбцы *geography* и *gender* техникой **ordinal encoding**."
   ]
  },
  {
   "cell_type": "code",
   "execution_count": 8,
   "metadata": {},
   "outputs": [],
   "source": [
    "df_main, df_test = train_test_split(df, test_size=0.2, stratify=df['exited'], random_state=12345)\n",
    "df_train, df_valid = train_test_split(df_main, test_size=0.25, random_state=12345)\n",
    "\n",
    "features_train = df_train.drop('exited', axis=1)\n",
    "target_train = df_train['exited']\n",
    "\n",
    "features_valid = df_valid.drop('exited', axis=1)\n",
    "target_valid = df_valid['exited']"
   ]
  },
  {
   "cell_type": "markdown",
   "metadata": {},
   "source": [
    "Разделяем исходные данные на три выборки: обучающую, валидационную и тестовую."
   ]
  },
  {
   "cell_type": "markdown",
   "metadata": {},
   "source": [
    "## Исследование задачи"
   ]
  },
  {
   "cell_type": "code",
   "execution_count": 9,
   "metadata": {},
   "outputs": [],
   "source": [
    "depths = range(1, 15)\n",
    "estimators = range(10, 150, 10)"
   ]
  },
  {
   "cell_type": "markdown",
   "metadata": {},
   "source": [
    "Модель - **DecisionTreeClassifier**."
   ]
  },
  {
   "cell_type": "code",
   "execution_count": 10,
   "metadata": {},
   "outputs": [
    {
     "name": "stdout",
     "output_type": "stream",
     "text": [
      "max_depth = 1: 0.0\n",
      "max_depth = 2: 0.5119760479041915\n",
      "max_depth = 3: 0.5230312035661219\n",
      "max_depth = 4: 0.48796147672552165\n",
      "max_depth = 5: 0.509493670886076\n",
      "max_depth = 6: 0.5167173252279635\n",
      "max_depth = 7: 0.5128983308042488\n",
      "max_depth = 8: 0.5\n",
      "max_depth = 9: 0.5121212121212121\n"
     ]
    }
   ],
   "source": [
    "for depth in range(1, 10):\n",
    "    model = DecisionTreeClassifier(random_state=12345, max_depth=depth)\n",
    "    model.fit(features_train, target_train)\n",
    "    predictions_valid = model.predict(features_valid)\n",
    "    print(f'max_depth = {depth}: ', end='')\n",
    "    print(f1_score(target_valid, predictions_valid))"
   ]
  },
  {
   "cell_type": "markdown",
   "metadata": {},
   "source": [
    "Модель - **RandomForestClassifier**."
   ]
  },
  {
   "cell_type": "code",
   "execution_count": 11,
   "metadata": {},
   "outputs": [
    {
     "name": "stdout",
     "output_type": "stream",
     "text": [
      "n_estimators = 10, max_depth = 1: 0.0\n",
      "n_estimators = 20, max_depth = 2: 0.12334801762114538\n",
      "n_estimators = 30, max_depth = 3: 0.19491525423728814\n",
      "n_estimators = 40, max_depth = 4: 0.4482173174872665\n",
      "n_estimators = 50, max_depth = 5: 0.485342019543974\n",
      "n_estimators = 60, max_depth = 6: 0.48445171849427165\n",
      "n_estimators = 70, max_depth = 7: 0.5047923322683706\n",
      "n_estimators = 80, max_depth = 8: 0.5095541401273885\n",
      "n_estimators = 90, max_depth = 9: 0.5174603174603174\n",
      "n_estimators = 100, max_depth = 10: 0.5221518987341772\n",
      "n_estimators = 110, max_depth = 11: 0.5375000000000001\n",
      "n_estimators = 120, max_depth = 12: 0.5468750000000001\n",
      "n_estimators = 130, max_depth = 13: 0.5412130637636081\n",
      "n_estimators = 140, max_depth = 14: 0.5457364341085271\n"
     ]
    }
   ],
   "source": [
    "for d, e in zip(depths, estimators):\n",
    "    model = RandomForestClassifier(random_state=12345, max_depth=d, n_estimators=e)\n",
    "    model.fit(features_train, target_train)\n",
    "    predictions_valid = model.predict(features_valid)\n",
    "    print(f'n_estimators = {e}, max_depth = {d}: ', end='')\n",
    "    print(f1_score(target_valid, predictions_valid))"
   ]
  },
  {
   "cell_type": "markdown",
   "metadata": {},
   "source": [
    "Модели с дисбалансом классов показывают не очень хороший результат (особенно **DecisionTreeClassifier**)."
   ]
  },
  {
   "cell_type": "markdown",
   "metadata": {},
   "source": [
    "## Борьба с дисбалансом"
   ]
  },
  {
   "cell_type": "markdown",
   "metadata": {},
   "source": [
    "**Class_weight.**"
   ]
  },
  {
   "cell_type": "markdown",
   "metadata": {},
   "source": [
    "Задаем параметр *class_weight* конструкторов моделей равным *balanced* и проверяем результаты."
   ]
  },
  {
   "cell_type": "markdown",
   "metadata": {},
   "source": [
    "Модель - **DecisionTreeClassifier**."
   ]
  },
  {
   "cell_type": "code",
   "execution_count": 12,
   "metadata": {
    "scrolled": true
   },
   "outputs": [
    {
     "name": "stdout",
     "output_type": "stream",
     "text": [
      "max_depth = 1: 0.49093904448105435\n",
      "max_depth = 2: 0.5060827250608273\n",
      "max_depth = 3: 0.5167464114832536\n",
      "max_depth = 4: 0.5641025641025641\n",
      "max_depth = 5: 0.5811659192825112\n",
      "max_depth = 6: 0.5606773283160866\n",
      "max_depth = 7: 0.5590179414542021\n",
      "max_depth = 8: 0.5559440559440559\n",
      "max_depth = 9: 0.5247079964061097\n"
     ]
    }
   ],
   "source": [
    "for depth in range(1, 10):\n",
    "    model = DecisionTreeClassifier(random_state=12345, class_weight='balanced', max_depth=depth)\n",
    "    model.fit(features_train, target_train)\n",
    "    predictions_valid = model.predict(features_valid)\n",
    "    print(f'max_depth = {depth}: ', end='')\n",
    "    print(f1_score(target_valid, predictions_valid))"
   ]
  },
  {
   "cell_type": "markdown",
   "metadata": {},
   "source": [
    "Модель - **RandomForestClassifier**."
   ]
  },
  {
   "cell_type": "code",
   "execution_count": 13,
   "metadata": {},
   "outputs": [
    {
     "name": "stdout",
     "output_type": "stream",
     "text": [
      "n_estimators = 10, max_depth = 1: 0.5272895467160037\n",
      "n_estimators = 20, max_depth = 2: 0.567829457364341\n",
      "n_estimators = 30, max_depth = 3: 0.5722488038277512\n",
      "n_estimators = 40, max_depth = 4: 0.5835806132542037\n",
      "n_estimators = 50, max_depth = 5: 0.5950920245398774\n",
      "n_estimators = 60, max_depth = 6: 0.6082365364308342\n",
      "n_estimators = 70, max_depth = 7: 0.6013071895424836\n",
      "n_estimators = 80, max_depth = 8: 0.6084070796460177\n",
      "n_estimators = 90, max_depth = 9: 0.6004618937644342\n",
      "n_estimators = 100, max_depth = 10: 0.597812879708384\n",
      "n_estimators = 110, max_depth = 11: 0.5717948717948719\n",
      "n_estimators = 120, max_depth = 12: 0.5809906291834003\n",
      "n_estimators = 130, max_depth = 13: 0.5544554455445545\n",
      "n_estimators = 140, max_depth = 14: 0.5665236051502145\n"
     ]
    }
   ],
   "source": [
    "for d, e in zip(depths, estimators):\n",
    "    model = RandomForestClassifier(random_state=12345, max_depth=d, class_weight='balanced', n_estimators=e)\n",
    "    model.fit(features_train, target_train)\n",
    "    predictions_valid = model.predict(features_valid)\n",
    "    print(f'n_estimators = {e}, max_depth = {d}: ', end='')\n",
    "    print(f1_score(target_valid, predictions_valid))"
   ]
  },
  {
   "cell_type": "markdown",
   "metadata": {},
   "source": [
    "**Upsampling.**"
   ]
  },
  {
   "cell_type": "code",
   "execution_count": 14,
   "metadata": {},
   "outputs": [],
   "source": [
    "def upsample(features, target, repeat):\n",
    "    features_zeros = features[target == 0]\n",
    "    features_ones = features[target == 1]\n",
    "    target_zeros = target[target == 0]\n",
    "    target_ones = target[target == 1]\n",
    "\n",
    "    features_upsampled = pd.concat([features_zeros] + [features_ones] * repeat)\n",
    "    target_upsampled = pd.concat([target_zeros] + [target_ones] * repeat)\n",
    "    \n",
    "    features_upsampled, target_upsampled = shuffle(\n",
    "        features_upsampled, target_upsampled, random_state=12345)\n",
    "    \n",
    "    return features_upsampled, target_upsampled\n",
    "\n",
    "features_upsampled, target_upsampled = upsample(features_train, target_train, 10)"
   ]
  },
  {
   "cell_type": "markdown",
   "metadata": {},
   "source": [
    "Модель - **DecisionTreeClassifier**."
   ]
  },
  {
   "cell_type": "code",
   "execution_count": 15,
   "metadata": {},
   "outputs": [
    {
     "name": "stdout",
     "output_type": "stream",
     "text": [
      "max_depth = 1: 0.34983498349834985\n",
      "max_depth = 2: 0.5060827250608273\n",
      "max_depth = 3: 0.4515771997786385\n",
      "max_depth = 4: 0.4515771997786385\n",
      "max_depth = 5: 0.5006535947712418\n",
      "max_depth = 6: 0.5104022191400833\n",
      "max_depth = 7: 0.5143658023826209\n",
      "max_depth = 8: 0.5021834061135372\n",
      "max_depth = 9: 0.48784082535003687\n"
     ]
    }
   ],
   "source": [
    "for depth in range(1, 10):\n",
    "    model = DecisionTreeClassifier(random_state=12345, max_depth=depth)\n",
    "    model.fit(features_upsampled, target_upsampled)\n",
    "    predictions_valid = model.predict(features_valid)\n",
    "    print(f'max_depth = {depth}: ', end='')\n",
    "    print(f1_score(target_valid, predictions_valid))"
   ]
  },
  {
   "cell_type": "markdown",
   "metadata": {},
   "source": [
    "Модель - **RandomForestClassifier**."
   ]
  },
  {
   "cell_type": "code",
   "execution_count": 16,
   "metadata": {},
   "outputs": [
    {
     "name": "stdout",
     "output_type": "stream",
     "text": [
      "n_estimators = 10, max_depth = 1: 0.5359848484848486\n",
      "n_estimators = 20, max_depth = 2: 0.5597722960151802\n",
      "n_estimators = 30, max_depth = 3: 0.5790441176470588\n",
      "n_estimators = 40, max_depth = 4: 0.5719844357976653\n",
      "n_estimators = 50, max_depth = 5: 0.6005946481665015\n",
      "n_estimators = 60, max_depth = 6: 0.6060606060606061\n",
      "n_estimators = 70, max_depth = 7: 0.602880658436214\n",
      "n_estimators = 80, max_depth = 8: 0.6118143459915613\n",
      "n_estimators = 90, max_depth = 9: 0.611111111111111\n",
      "n_estimators = 100, max_depth = 10: 0.6121546961325967\n",
      "n_estimators = 110, max_depth = 11: 0.6224719101123596\n",
      "n_estimators = 120, max_depth = 12: 0.6105263157894737\n",
      "n_estimators = 130, max_depth = 13: 0.5934065934065934\n",
      "n_estimators = 140, max_depth = 14: 0.6073697585768741\n"
     ]
    }
   ],
   "source": [
    "for d, e in zip(depths, estimators):\n",
    "    model = RandomForestClassifier(random_state=12345, max_depth=d, class_weight='balanced', n_estimators=e)\n",
    "    model.fit(features_upsampled, target_upsampled)\n",
    "    predictions_valid = model.predict(features_valid)\n",
    "    print(f'n_estimators = {e}, max_depth = {d}: ', end='')\n",
    "    print(f1_score(target_valid, predictions_valid))"
   ]
  },
  {
   "cell_type": "markdown",
   "metadata": {},
   "source": [
    "Модели с балансировкой показали очень хороший результат *f1-меры*. В качестве лучшей выберем **RandomForestClassifier** с гиперпараметрами **max_depth = 8** и **n_estimators = 80**."
   ]
  },
  {
   "cell_type": "markdown",
   "metadata": {},
   "source": [
    "## Тестирование модели"
   ]
  },
  {
   "cell_type": "code",
   "execution_count": 17,
   "metadata": {},
   "outputs": [
    {
     "name": "stdout",
     "output_type": "stream",
     "text": [
      "auc-roc: 0.860854691363166\n",
      "f1-мера лучшей модели: 0.6209223847019122\n"
     ]
    }
   ],
   "source": [
    "features_test = df_test.drop('exited', axis=1)\n",
    "target_test = df_test['exited']\n",
    "\n",
    "best_model = RandomForestClassifier(random_state=12345, max_depth=8, n_estimators=80, class_weight='balanced')\n",
    "best_model.fit(features_train, target_train)\n",
    "predictions_test = best_model.predict(features_test)\n",
    "probabilities_test = best_model.predict_proba(features_test)\n",
    "probabilities_one_test = probabilities_test[:, 1]\n",
    "print(f'auc-roc: {roc_auc_score(target_test, probabilities_one_test)}')\n",
    "print(f'f1-мера лучшей модели: {f1_score(target_test, predictions_test)}')"
   ]
  },
  {
   "cell_type": "markdown",
   "metadata": {},
   "source": [
    "## Вывод"
   ]
  },
  {
   "cell_type": "markdown",
   "metadata": {},
   "source": [
    "Был проанализирован датафрейм с информацией о поведении клиентов банка. Были переименованы названия столбцов и заполнены пропуски. Данные были разбиты на выборки - обучающая, валидационная и тестовая. Затем были исследованы две модели - **DecisionTreeClassifier** и **RandomForestClassifier** с дисбалансом классов, а затем и с балансированием с помощью параметра **class_weight='balanced'**. Лучше всего себя показала модель **RandomForestClassifier** с гиперпараметром *max_depth* равным 8 и гиперпараметром *n_estimators* равным 80. Далее данная модель была проверена на тестовой выборке - она отлично показала себя на тестовых данных и выдала результат *f1-меры* равный 0,62."
   ]
  }
 ],
 "metadata": {
  "ExecuteTimeLog": [
   {
    "duration": 425,
    "start_time": "2023-04-12T18:16:30.664Z"
   },
   {
    "duration": 177,
    "start_time": "2023-04-12T18:16:31.118Z"
   },
   {
    "duration": 15,
    "start_time": "2023-04-12T18:16:31.959Z"
   },
   {
    "duration": 26,
    "start_time": "2023-04-12T18:16:50.909Z"
   },
   {
    "duration": 14,
    "start_time": "2023-04-12T18:17:01.145Z"
   },
   {
    "duration": 72,
    "start_time": "2023-04-12T18:36:21.903Z"
   },
   {
    "duration": 8,
    "start_time": "2023-04-12T18:36:24.815Z"
   },
   {
    "duration": 748,
    "start_time": "2023-04-12T18:36:28.813Z"
   },
   {
    "duration": 44,
    "start_time": "2023-04-12T18:36:29.687Z"
   },
   {
    "duration": 21,
    "start_time": "2023-04-12T18:36:30.991Z"
   },
   {
    "duration": 21,
    "start_time": "2023-04-12T18:36:32.837Z"
   },
   {
    "duration": 28,
    "start_time": "2023-04-12T18:36:33.349Z"
   },
   {
    "duration": 37,
    "start_time": "2023-04-12T18:37:35.789Z"
   },
   {
    "duration": 22,
    "start_time": "2023-04-12T18:37:51.215Z"
   },
   {
    "duration": 1079,
    "start_time": "2023-04-12T18:38:00.056Z"
   },
   {
    "duration": 45,
    "start_time": "2023-04-12T18:38:01.137Z"
   },
   {
    "duration": 15,
    "start_time": "2023-04-12T18:38:01.184Z"
   },
   {
    "duration": 37,
    "start_time": "2023-04-12T18:38:01.201Z"
   },
   {
    "duration": 35,
    "start_time": "2023-04-12T18:38:01.241Z"
   },
   {
    "duration": 26,
    "start_time": "2023-04-12T18:38:16.407Z"
   },
   {
    "duration": 1411,
    "start_time": "2023-04-12T21:40:15.850Z"
   },
   {
    "duration": 43,
    "start_time": "2023-04-12T21:40:17.264Z"
   },
   {
    "duration": 14,
    "start_time": "2023-04-12T21:40:17.308Z"
   },
   {
    "duration": 26,
    "start_time": "2023-04-12T21:40:17.324Z"
   },
   {
    "duration": 28,
    "start_time": "2023-04-12T21:40:17.353Z"
   },
   {
    "duration": 13,
    "start_time": "2023-04-12T21:40:17.382Z"
   },
   {
    "duration": 110,
    "start_time": "2023-04-12T21:54:49.753Z"
   },
   {
    "duration": 15,
    "start_time": "2023-04-12T21:56:26.472Z"
   },
   {
    "duration": 18,
    "start_time": "2023-04-12T21:57:54.024Z"
   },
   {
    "duration": 16,
    "start_time": "2023-04-12T21:59:00.426Z"
   },
   {
    "duration": 22,
    "start_time": "2023-04-12T21:59:03.816Z"
   },
   {
    "duration": 10,
    "start_time": "2023-04-12T21:59:08.001Z"
   },
   {
    "duration": 15,
    "start_time": "2023-04-12T21:59:12.152Z"
   },
   {
    "duration": 8,
    "start_time": "2023-04-12T22:01:37.446Z"
   },
   {
    "duration": 1069,
    "start_time": "2023-04-12T22:10:53.349Z"
   },
   {
    "duration": 44,
    "start_time": "2023-04-12T22:10:54.421Z"
   },
   {
    "duration": 12,
    "start_time": "2023-04-12T22:10:54.468Z"
   },
   {
    "duration": 11,
    "start_time": "2023-04-12T22:10:54.482Z"
   },
   {
    "duration": 13,
    "start_time": "2023-04-12T22:10:54.495Z"
   },
   {
    "duration": 38,
    "start_time": "2023-04-12T22:10:54.509Z"
   },
   {
    "duration": 10,
    "start_time": "2023-04-12T22:10:54.548Z"
   },
   {
    "duration": 126,
    "start_time": "2023-04-12T22:10:54.560Z"
   },
   {
    "duration": 19,
    "start_time": "2023-04-12T22:12:24.873Z"
   },
   {
    "duration": 11,
    "start_time": "2023-04-12T22:12:38.240Z"
   },
   {
    "duration": 19,
    "start_time": "2023-04-12T22:12:40.090Z"
   },
   {
    "duration": 1112,
    "start_time": "2023-04-12T22:13:07.027Z"
   },
   {
    "duration": 49,
    "start_time": "2023-04-12T22:13:08.142Z"
   },
   {
    "duration": 12,
    "start_time": "2023-04-12T22:13:08.193Z"
   },
   {
    "duration": 10,
    "start_time": "2023-04-12T22:13:08.207Z"
   },
   {
    "duration": 44,
    "start_time": "2023-04-12T22:13:08.219Z"
   },
   {
    "duration": 13,
    "start_time": "2023-04-12T22:13:08.265Z"
   },
   {
    "duration": 26,
    "start_time": "2023-04-12T22:13:08.280Z"
   },
   {
    "duration": 11,
    "start_time": "2023-04-12T22:13:08.307Z"
   },
   {
    "duration": 138,
    "start_time": "2023-04-12T22:13:08.320Z"
   },
   {
    "duration": 1099,
    "start_time": "2023-04-12T22:19:51.462Z"
   },
   {
    "duration": 46,
    "start_time": "2023-04-12T22:19:52.564Z"
   },
   {
    "duration": 14,
    "start_time": "2023-04-12T22:19:52.612Z"
   },
   {
    "duration": 41,
    "start_time": "2023-04-12T22:19:52.627Z"
   },
   {
    "duration": 59,
    "start_time": "2023-04-12T22:19:52.670Z"
   },
   {
    "duration": 21,
    "start_time": "2023-04-12T22:19:52.731Z"
   },
   {
    "duration": 39,
    "start_time": "2023-04-12T22:19:52.754Z"
   },
   {
    "duration": 18,
    "start_time": "2023-04-12T22:19:52.795Z"
   },
   {
    "duration": 91,
    "start_time": "2023-04-12T22:19:52.815Z"
   },
   {
    "duration": 209,
    "start_time": "2023-04-12T22:20:57.348Z"
   },
   {
    "duration": 1081,
    "start_time": "2023-04-12T22:21:26.389Z"
   },
   {
    "duration": 41,
    "start_time": "2023-04-12T22:21:27.472Z"
   },
   {
    "duration": 13,
    "start_time": "2023-04-12T22:21:27.514Z"
   },
   {
    "duration": 16,
    "start_time": "2023-04-12T22:21:27.529Z"
   },
   {
    "duration": 15,
    "start_time": "2023-04-12T22:21:27.548Z"
   },
   {
    "duration": 14,
    "start_time": "2023-04-12T22:21:27.564Z"
   },
   {
    "duration": 21,
    "start_time": "2023-04-12T22:21:27.579Z"
   },
   {
    "duration": 31,
    "start_time": "2023-04-12T22:21:27.602Z"
   },
   {
    "duration": 213,
    "start_time": "2023-04-12T22:21:27.635Z"
   },
   {
    "duration": 439,
    "start_time": "2023-04-12T22:22:22.950Z"
   },
   {
    "duration": 1123,
    "start_time": "2023-04-12T22:22:31.620Z"
   },
   {
    "duration": 43,
    "start_time": "2023-04-12T22:22:32.745Z"
   },
   {
    "duration": 11,
    "start_time": "2023-04-12T22:22:32.790Z"
   },
   {
    "duration": 11,
    "start_time": "2023-04-12T22:22:32.802Z"
   },
   {
    "duration": 11,
    "start_time": "2023-04-12T22:22:32.815Z"
   },
   {
    "duration": 30,
    "start_time": "2023-04-12T22:22:32.827Z"
   },
   {
    "duration": 28,
    "start_time": "2023-04-12T22:22:32.859Z"
   },
   {
    "duration": 14,
    "start_time": "2023-04-12T22:22:32.888Z"
   },
   {
    "duration": 212,
    "start_time": "2023-04-12T22:22:32.903Z"
   },
   {
    "duration": 465,
    "start_time": "2023-04-12T22:22:33.118Z"
   },
   {
    "duration": 212,
    "start_time": "2023-04-12T22:27:34.903Z"
   },
   {
    "duration": 501,
    "start_time": "2023-04-12T22:28:19.803Z"
   },
   {
    "duration": 1135,
    "start_time": "2023-04-12T22:29:41.713Z"
   },
   {
    "duration": 41,
    "start_time": "2023-04-12T22:29:42.850Z"
   },
   {
    "duration": 13,
    "start_time": "2023-04-12T22:29:42.893Z"
   },
   {
    "duration": 11,
    "start_time": "2023-04-12T22:29:42.907Z"
   },
   {
    "duration": 10,
    "start_time": "2023-04-12T22:29:42.921Z"
   },
   {
    "duration": 13,
    "start_time": "2023-04-12T22:29:42.933Z"
   },
   {
    "duration": 28,
    "start_time": "2023-04-12T22:29:42.947Z"
   },
   {
    "duration": 11,
    "start_time": "2023-04-12T22:29:42.976Z"
   },
   {
    "duration": 227,
    "start_time": "2023-04-12T22:29:42.988Z"
   },
   {
    "duration": 468,
    "start_time": "2023-04-12T22:29:43.216Z"
   },
   {
    "duration": 226,
    "start_time": "2023-04-12T22:29:43.686Z"
   },
   {
    "duration": 482,
    "start_time": "2023-04-12T22:29:43.914Z"
   },
   {
    "duration": 109,
    "start_time": "2023-04-12T22:41:40.429Z"
   },
   {
    "duration": 1242,
    "start_time": "2023-04-12T22:41:47.806Z"
   },
   {
    "duration": 45,
    "start_time": "2023-04-12T22:41:49.050Z"
   },
   {
    "duration": 14,
    "start_time": "2023-04-12T22:41:49.097Z"
   },
   {
    "duration": 13,
    "start_time": "2023-04-12T22:41:49.113Z"
   },
   {
    "duration": 11,
    "start_time": "2023-04-12T22:41:49.128Z"
   },
   {
    "duration": 16,
    "start_time": "2023-04-12T22:41:49.141Z"
   },
   {
    "duration": 26,
    "start_time": "2023-04-12T22:41:49.158Z"
   },
   {
    "duration": 12,
    "start_time": "2023-04-12T22:41:49.186Z"
   },
   {
    "duration": 252,
    "start_time": "2023-04-12T22:41:49.200Z"
   },
   {
    "duration": 534,
    "start_time": "2023-04-12T22:41:49.453Z"
   },
   {
    "duration": 5452,
    "start_time": "2023-04-12T22:41:49.989Z"
   },
   {
    "duration": 297,
    "start_time": "2023-04-12T22:41:55.446Z"
   },
   {
    "duration": 456,
    "start_time": "2023-04-12T22:41:55.744Z"
   },
   {
    "duration": 1125,
    "start_time": "2023-04-12T22:42:16.710Z"
   },
   {
    "duration": 42,
    "start_time": "2023-04-12T22:42:17.837Z"
   },
   {
    "duration": 13,
    "start_time": "2023-04-12T22:42:17.881Z"
   },
   {
    "duration": 17,
    "start_time": "2023-04-12T22:42:17.896Z"
   },
   {
    "duration": 10,
    "start_time": "2023-04-12T22:42:17.914Z"
   },
   {
    "duration": 16,
    "start_time": "2023-04-12T22:42:17.926Z"
   },
   {
    "duration": 22,
    "start_time": "2023-04-12T22:42:17.943Z"
   },
   {
    "duration": 10,
    "start_time": "2023-04-12T22:42:17.967Z"
   },
   {
    "duration": 219,
    "start_time": "2023-04-12T22:42:17.978Z"
   },
   {
    "duration": 469,
    "start_time": "2023-04-12T22:42:18.199Z"
   },
   {
    "duration": 5365,
    "start_time": "2023-04-12T22:42:18.669Z"
   },
   {
    "duration": 299,
    "start_time": "2023-04-12T22:42:24.036Z"
   },
   {
    "duration": 431,
    "start_time": "2023-04-12T22:42:24.337Z"
   },
   {
    "duration": 5383,
    "start_time": "2023-04-12T22:42:40.953Z"
   },
   {
    "duration": 1124,
    "start_time": "2023-04-12T22:45:19.718Z"
   },
   {
    "duration": 43,
    "start_time": "2023-04-12T22:45:20.844Z"
   },
   {
    "duration": 12,
    "start_time": "2023-04-12T22:45:20.889Z"
   },
   {
    "duration": 15,
    "start_time": "2023-04-12T22:45:20.903Z"
   },
   {
    "duration": 11,
    "start_time": "2023-04-12T22:45:20.920Z"
   },
   {
    "duration": 15,
    "start_time": "2023-04-12T22:45:20.932Z"
   },
   {
    "duration": 23,
    "start_time": "2023-04-12T22:45:20.949Z"
   },
   {
    "duration": 11,
    "start_time": "2023-04-12T22:45:20.973Z"
   },
   {
    "duration": 226,
    "start_time": "2023-04-12T22:45:20.985Z"
   },
   {
    "duration": 443,
    "start_time": "2023-04-12T22:45:21.212Z"
   },
   {
    "duration": 6578,
    "start_time": "2023-04-12T22:45:21.657Z"
   },
   {
    "duration": 301,
    "start_time": "2023-04-12T22:45:28.237Z"
   },
   {
    "duration": 425,
    "start_time": "2023-04-12T22:45:28.539Z"
   },
   {
    "duration": 1313,
    "start_time": "2023-04-13T15:28:13.568Z"
   },
   {
    "duration": 157,
    "start_time": "2023-04-13T15:28:14.883Z"
   },
   {
    "duration": 11,
    "start_time": "2023-04-13T15:28:15.041Z"
   },
   {
    "duration": 15,
    "start_time": "2023-04-13T15:28:15.054Z"
   },
   {
    "duration": 20,
    "start_time": "2023-04-13T15:28:15.070Z"
   },
   {
    "duration": 21,
    "start_time": "2023-04-13T15:28:15.092Z"
   },
   {
    "duration": 30,
    "start_time": "2023-04-13T15:28:15.114Z"
   },
   {
    "duration": 104,
    "start_time": "2023-04-13T15:28:15.146Z"
   },
   {
    "duration": 0,
    "start_time": "2023-04-13T15:28:15.251Z"
   },
   {
    "duration": 0,
    "start_time": "2023-04-13T15:28:15.252Z"
   },
   {
    "duration": 0,
    "start_time": "2023-04-13T15:28:15.253Z"
   },
   {
    "duration": 0,
    "start_time": "2023-04-13T15:28:15.254Z"
   },
   {
    "duration": 14,
    "start_time": "2023-04-13T15:29:33.661Z"
   },
   {
    "duration": 12,
    "start_time": "2023-04-13T15:31:22.326Z"
   },
   {
    "duration": 16,
    "start_time": "2023-04-13T15:31:29.866Z"
   },
   {
    "duration": 1739,
    "start_time": "2023-04-13T15:31:42.231Z"
   },
   {
    "duration": 40,
    "start_time": "2023-04-13T15:31:43.972Z"
   },
   {
    "duration": 14,
    "start_time": "2023-04-13T15:31:44.013Z"
   },
   {
    "duration": 21,
    "start_time": "2023-04-13T15:31:44.029Z"
   },
   {
    "duration": 17,
    "start_time": "2023-04-13T15:31:44.052Z"
   },
   {
    "duration": 14,
    "start_time": "2023-04-13T15:31:44.070Z"
   },
   {
    "duration": 34,
    "start_time": "2023-04-13T15:31:44.086Z"
   },
   {
    "duration": 11,
    "start_time": "2023-04-13T15:31:44.121Z"
   },
   {
    "duration": 210,
    "start_time": "2023-04-13T15:31:44.133Z"
   },
   {
    "duration": 451,
    "start_time": "2023-04-13T15:31:44.344Z"
   },
   {
    "duration": 219,
    "start_time": "2023-04-13T15:31:44.797Z"
   },
   {
    "duration": 458,
    "start_time": "2023-04-13T15:31:45.018Z"
   },
   {
    "duration": 104,
    "start_time": "2023-04-13T15:37:06.313Z"
   },
   {
    "duration": 235,
    "start_time": "2023-04-13T15:38:24.122Z"
   },
   {
    "duration": 1243,
    "start_time": "2023-04-13T15:39:28.504Z"
   },
   {
    "duration": 40,
    "start_time": "2023-04-13T15:39:29.749Z"
   },
   {
    "duration": 12,
    "start_time": "2023-04-13T15:39:29.790Z"
   },
   {
    "duration": 28,
    "start_time": "2023-04-13T15:39:29.803Z"
   },
   {
    "duration": 9,
    "start_time": "2023-04-13T15:39:29.832Z"
   },
   {
    "duration": 12,
    "start_time": "2023-04-13T15:39:29.842Z"
   },
   {
    "duration": 22,
    "start_time": "2023-04-13T15:39:29.855Z"
   },
   {
    "duration": 12,
    "start_time": "2023-04-13T15:39:29.878Z"
   },
   {
    "duration": 158,
    "start_time": "2023-04-13T15:39:29.891Z"
   },
   {
    "duration": 390,
    "start_time": "2023-04-13T15:39:30.050Z"
   },
   {
    "duration": 162,
    "start_time": "2023-04-13T15:39:30.442Z"
   },
   {
    "duration": 408,
    "start_time": "2023-04-13T15:39:30.606Z"
   },
   {
    "duration": 175,
    "start_time": "2023-04-13T15:39:31.016Z"
   },
   {
    "duration": 47,
    "start_time": "2023-04-13T17:37:07.046Z"
   },
   {
    "duration": 130,
    "start_time": "2023-04-13T17:37:07.640Z"
   },
   {
    "duration": 1124,
    "start_time": "2023-04-13T17:37:16.355Z"
   },
   {
    "duration": 48,
    "start_time": "2023-04-13T17:37:17.490Z"
   },
   {
    "duration": 17,
    "start_time": "2023-04-13T17:37:17.539Z"
   },
   {
    "duration": 10,
    "start_time": "2023-04-13T17:37:17.559Z"
   },
   {
    "duration": 20,
    "start_time": "2023-04-13T17:37:17.570Z"
   },
   {
    "duration": 25,
    "start_time": "2023-04-13T17:37:17.592Z"
   },
   {
    "duration": 20,
    "start_time": "2023-04-13T17:37:17.618Z"
   },
   {
    "duration": 10,
    "start_time": "2023-04-13T17:37:17.640Z"
   },
   {
    "duration": 151,
    "start_time": "2023-04-13T17:37:17.652Z"
   },
   {
    "duration": 385,
    "start_time": "2023-04-13T17:37:17.805Z"
   },
   {
    "duration": 161,
    "start_time": "2023-04-13T17:37:18.192Z"
   },
   {
    "duration": 382,
    "start_time": "2023-04-13T17:37:18.354Z"
   },
   {
    "duration": 168,
    "start_time": "2023-04-13T17:37:18.737Z"
   },
   {
    "duration": 6,
    "start_time": "2023-04-13T17:40:26.159Z"
   },
   {
    "duration": 112,
    "start_time": "2023-04-13T17:40:26.923Z"
   },
   {
    "duration": 1285,
    "start_time": "2023-04-13T17:40:34.604Z"
   },
   {
    "duration": 51,
    "start_time": "2023-04-13T17:40:35.892Z"
   },
   {
    "duration": 13,
    "start_time": "2023-04-13T17:40:35.946Z"
   },
   {
    "duration": 31,
    "start_time": "2023-04-13T17:40:35.962Z"
   },
   {
    "duration": 23,
    "start_time": "2023-04-13T17:40:35.996Z"
   },
   {
    "duration": 152,
    "start_time": "2023-04-13T17:40:36.021Z"
   },
   {
    "duration": 0,
    "start_time": "2023-04-13T17:40:36.175Z"
   },
   {
    "duration": 0,
    "start_time": "2023-04-13T17:40:36.177Z"
   },
   {
    "duration": 0,
    "start_time": "2023-04-13T17:40:36.178Z"
   },
   {
    "duration": 0,
    "start_time": "2023-04-13T17:40:36.179Z"
   },
   {
    "duration": 0,
    "start_time": "2023-04-13T17:40:36.180Z"
   },
   {
    "duration": 0,
    "start_time": "2023-04-13T17:40:36.181Z"
   },
   {
    "duration": 0,
    "start_time": "2023-04-13T17:40:36.182Z"
   },
   {
    "duration": 12,
    "start_time": "2023-04-13T17:42:41.547Z"
   },
   {
    "duration": 1139,
    "start_time": "2023-04-13T17:42:45.901Z"
   },
   {
    "duration": 75,
    "start_time": "2023-04-13T17:42:47.042Z"
   },
   {
    "duration": 16,
    "start_time": "2023-04-13T17:42:47.121Z"
   },
   {
    "duration": 46,
    "start_time": "2023-04-13T17:42:47.139Z"
   },
   {
    "duration": 13,
    "start_time": "2023-04-13T17:42:47.196Z"
   },
   {
    "duration": 23,
    "start_time": "2023-04-13T17:42:47.211Z"
   },
   {
    "duration": 24,
    "start_time": "2023-04-13T17:42:47.236Z"
   },
   {
    "duration": 28,
    "start_time": "2023-04-13T17:42:47.261Z"
   },
   {
    "duration": 125,
    "start_time": "2023-04-13T17:42:47.295Z"
   },
   {
    "duration": 0,
    "start_time": "2023-04-13T17:42:47.423Z"
   },
   {
    "duration": 0,
    "start_time": "2023-04-13T17:42:47.424Z"
   },
   {
    "duration": 0,
    "start_time": "2023-04-13T17:42:47.425Z"
   },
   {
    "duration": 0,
    "start_time": "2023-04-13T17:42:47.427Z"
   },
   {
    "duration": 4,
    "start_time": "2023-04-13T17:43:13.050Z"
   },
   {
    "duration": 1203,
    "start_time": "2023-04-13T17:43:17.492Z"
   },
   {
    "duration": 50,
    "start_time": "2023-04-13T17:43:18.698Z"
   },
   {
    "duration": 12,
    "start_time": "2023-04-13T17:43:18.750Z"
   },
   {
    "duration": 29,
    "start_time": "2023-04-13T17:43:18.763Z"
   },
   {
    "duration": 4,
    "start_time": "2023-04-13T17:43:18.795Z"
   },
   {
    "duration": 18,
    "start_time": "2023-04-13T17:43:18.800Z"
   },
   {
    "duration": 21,
    "start_time": "2023-04-13T17:43:18.819Z"
   },
   {
    "duration": 17,
    "start_time": "2023-04-13T17:43:18.842Z"
   },
   {
    "duration": 188,
    "start_time": "2023-04-13T17:43:18.861Z"
   },
   {
    "duration": 551,
    "start_time": "2023-04-13T17:43:19.051Z"
   },
   {
    "duration": 172,
    "start_time": "2023-04-13T17:43:19.604Z"
   },
   {
    "duration": 435,
    "start_time": "2023-04-13T17:43:19.789Z"
   },
   {
    "duration": 184,
    "start_time": "2023-04-13T17:43:20.226Z"
   },
   {
    "duration": 1101,
    "start_time": "2023-04-13T17:43:41.525Z"
   },
   {
    "duration": 62,
    "start_time": "2023-04-13T17:43:42.628Z"
   },
   {
    "duration": 16,
    "start_time": "2023-04-13T17:43:42.691Z"
   },
   {
    "duration": 25,
    "start_time": "2023-04-13T17:43:42.710Z"
   },
   {
    "duration": 6,
    "start_time": "2023-04-13T17:43:42.737Z"
   },
   {
    "duration": 21,
    "start_time": "2023-04-13T17:43:42.744Z"
   },
   {
    "duration": 36,
    "start_time": "2023-04-13T17:43:42.767Z"
   },
   {
    "duration": 15,
    "start_time": "2023-04-13T17:43:42.805Z"
   },
   {
    "duration": 194,
    "start_time": "2023-04-13T17:43:42.822Z"
   },
   {
    "duration": 461,
    "start_time": "2023-04-13T17:43:43.019Z"
   },
   {
    "duration": 215,
    "start_time": "2023-04-13T17:43:43.482Z"
   },
   {
    "duration": 429,
    "start_time": "2023-04-13T17:43:43.699Z"
   },
   {
    "duration": 178,
    "start_time": "2023-04-13T17:43:44.129Z"
   },
   {
    "duration": 1191,
    "start_time": "2023-04-13T17:46:22.250Z"
   },
   {
    "duration": 50,
    "start_time": "2023-04-13T17:46:23.443Z"
   },
   {
    "duration": 16,
    "start_time": "2023-04-13T17:46:23.496Z"
   },
   {
    "duration": 7,
    "start_time": "2023-04-13T17:46:23.514Z"
   },
   {
    "duration": 21,
    "start_time": "2023-04-13T17:46:23.523Z"
   },
   {
    "duration": 2711,
    "start_time": "2023-04-13T17:46:23.546Z"
   },
   {
    "duration": 0,
    "start_time": "2023-04-13T17:46:26.259Z"
   },
   {
    "duration": 0,
    "start_time": "2023-04-13T17:46:26.261Z"
   },
   {
    "duration": 0,
    "start_time": "2023-04-13T17:46:26.262Z"
   },
   {
    "duration": 0,
    "start_time": "2023-04-13T17:46:26.263Z"
   },
   {
    "duration": 0,
    "start_time": "2023-04-13T17:46:26.265Z"
   },
   {
    "duration": 0,
    "start_time": "2023-04-13T17:46:26.267Z"
   },
   {
    "duration": 0,
    "start_time": "2023-04-13T17:46:26.268Z"
   },
   {
    "duration": 0,
    "start_time": "2023-04-13T17:46:26.270Z"
   },
   {
    "duration": 1412,
    "start_time": "2023-04-13T17:47:46.209Z"
   },
   {
    "duration": 52,
    "start_time": "2023-04-13T17:47:47.623Z"
   },
   {
    "duration": 31,
    "start_time": "2023-04-13T17:47:47.677Z"
   },
   {
    "duration": 43,
    "start_time": "2023-04-13T17:47:47.714Z"
   },
   {
    "duration": 56,
    "start_time": "2023-04-13T17:47:47.759Z"
   },
   {
    "duration": 18,
    "start_time": "2023-04-13T17:47:47.818Z"
   },
   {
    "duration": 52,
    "start_time": "2023-04-13T17:47:47.838Z"
   },
   {
    "duration": 81,
    "start_time": "2023-04-13T17:47:47.895Z"
   },
   {
    "duration": 20,
    "start_time": "2023-04-13T17:47:47.978Z"
   },
   {
    "duration": 247,
    "start_time": "2023-04-13T17:47:48.005Z"
   },
   {
    "duration": 498,
    "start_time": "2023-04-13T17:47:48.254Z"
   },
   {
    "duration": 222,
    "start_time": "2023-04-13T17:47:48.754Z"
   },
   {
    "duration": 509,
    "start_time": "2023-04-13T17:47:48.978Z"
   },
   {
    "duration": 150,
    "start_time": "2023-04-13T17:47:49.488Z"
   },
   {
    "duration": 263,
    "start_time": "2023-04-13T17:48:28.235Z"
   },
   {
    "duration": 474,
    "start_time": "2023-04-13T17:56:20.148Z"
   },
   {
    "duration": 296,
    "start_time": "2023-04-13T17:56:27.153Z"
   },
   {
    "duration": 335,
    "start_time": "2023-04-13T17:56:34.398Z"
   },
   {
    "duration": 2312,
    "start_time": "2023-04-13T17:57:07.605Z"
   },
   {
    "duration": 902,
    "start_time": "2023-04-13T17:58:48.031Z"
   },
   {
    "duration": 859,
    "start_time": "2023-04-13T17:59:27.590Z"
   },
   {
    "duration": 6469,
    "start_time": "2023-04-13T17:59:45.669Z"
   },
   {
    "duration": 6173,
    "start_time": "2023-04-13T18:01:21.256Z"
   },
   {
    "duration": 433,
    "start_time": "2023-04-13T18:03:50.246Z"
   },
   {
    "duration": 527,
    "start_time": "2023-04-13T18:05:04.464Z"
   },
   {
    "duration": 208,
    "start_time": "2023-04-13T18:05:52.312Z"
   },
   {
    "duration": 183,
    "start_time": "2023-04-13T18:05:57.151Z"
   },
   {
    "duration": 6535,
    "start_time": "2023-04-13T18:07:05.109Z"
   },
   {
    "duration": 180,
    "start_time": "2023-04-13T18:07:42.405Z"
   },
   {
    "duration": 47,
    "start_time": "2023-04-13T18:08:34.851Z"
   },
   {
    "duration": 70,
    "start_time": "2023-04-13T18:13:31.726Z"
   },
   {
    "duration": 1616,
    "start_time": "2023-04-13T18:13:31.907Z"
   },
   {
    "duration": 1058,
    "start_time": "2023-04-13T18:25:08.743Z"
   },
   {
    "duration": 49,
    "start_time": "2023-04-13T18:25:09.803Z"
   },
   {
    "duration": 3,
    "start_time": "2023-04-13T18:25:09.854Z"
   },
   {
    "duration": 54,
    "start_time": "2023-04-13T18:25:09.858Z"
   },
   {
    "duration": 20,
    "start_time": "2023-04-13T18:25:09.914Z"
   },
   {
    "duration": 33,
    "start_time": "2023-04-13T18:25:09.936Z"
   },
   {
    "duration": 32,
    "start_time": "2023-04-13T18:25:09.972Z"
   },
   {
    "duration": 26,
    "start_time": "2023-04-13T18:25:10.005Z"
   },
   {
    "duration": 14,
    "start_time": "2023-04-13T18:25:10.033Z"
   },
   {
    "duration": 201,
    "start_time": "2023-04-13T18:25:10.049Z"
   },
   {
    "duration": 6442,
    "start_time": "2023-04-13T18:25:10.252Z"
   },
   {
    "duration": 174,
    "start_time": "2023-04-13T18:25:16.695Z"
   },
   {
    "duration": 6285,
    "start_time": "2023-04-13T18:25:16.872Z"
   },
   {
    "duration": 487,
    "start_time": "2023-04-13T18:25:23.160Z"
   },
   {
    "duration": 1012,
    "start_time": "2023-04-13T18:34:42.431Z"
   },
   {
    "duration": 53,
    "start_time": "2023-04-13T18:34:43.444Z"
   },
   {
    "duration": 4,
    "start_time": "2023-04-13T18:34:43.499Z"
   },
   {
    "duration": 18,
    "start_time": "2023-04-13T18:34:43.505Z"
   },
   {
    "duration": 4,
    "start_time": "2023-04-13T18:34:43.526Z"
   },
   {
    "duration": 19,
    "start_time": "2023-04-13T18:34:43.532Z"
   },
   {
    "duration": 33,
    "start_time": "2023-04-13T18:34:43.553Z"
   },
   {
    "duration": 17,
    "start_time": "2023-04-13T18:34:43.588Z"
   },
   {
    "duration": 9,
    "start_time": "2023-04-13T18:34:43.607Z"
   },
   {
    "duration": 164,
    "start_time": "2023-04-13T18:34:43.618Z"
   },
   {
    "duration": 6457,
    "start_time": "2023-04-13T18:34:43.783Z"
   },
   {
    "duration": 179,
    "start_time": "2023-04-13T18:34:50.241Z"
   },
   {
    "duration": 6395,
    "start_time": "2023-04-13T18:34:50.421Z"
   },
   {
    "duration": 506,
    "start_time": "2023-04-13T18:34:56.819Z"
   },
   {
    "duration": 77,
    "start_time": "2023-04-14T18:02:28.229Z"
   },
   {
    "duration": 1209,
    "start_time": "2023-04-14T18:02:34.961Z"
   },
   {
    "duration": 98,
    "start_time": "2023-04-14T18:02:36.172Z"
   },
   {
    "duration": 3,
    "start_time": "2023-04-14T18:02:36.272Z"
   },
   {
    "duration": 25,
    "start_time": "2023-04-14T18:02:36.277Z"
   },
   {
    "duration": 5,
    "start_time": "2023-04-14T18:02:36.304Z"
   },
   {
    "duration": 19,
    "start_time": "2023-04-14T18:02:36.310Z"
   },
   {
    "duration": 24,
    "start_time": "2023-04-14T18:02:36.331Z"
   },
   {
    "duration": 45,
    "start_time": "2023-04-14T18:02:36.356Z"
   },
   {
    "duration": 3,
    "start_time": "2023-04-14T18:02:36.402Z"
   },
   {
    "duration": 193,
    "start_time": "2023-04-14T18:02:36.407Z"
   },
   {
    "duration": 6734,
    "start_time": "2023-04-14T18:02:36.602Z"
   },
   {
    "duration": 103801,
    "start_time": "2023-04-14T18:02:43.338Z"
   },
   {
    "duration": 191,
    "start_time": "2023-04-14T18:04:27.141Z"
   },
   {
    "duration": 7035,
    "start_time": "2023-04-14T18:04:27.335Z"
   },
   {
    "duration": 543,
    "start_time": "2023-04-14T18:04:34.372Z"
   },
   {
    "duration": 1369,
    "start_time": "2023-04-14T18:11:48.204Z"
   },
   {
    "duration": 57,
    "start_time": "2023-04-14T18:11:49.575Z"
   },
   {
    "duration": 4,
    "start_time": "2023-04-14T18:11:49.634Z"
   },
   {
    "duration": 25,
    "start_time": "2023-04-14T18:11:49.639Z"
   },
   {
    "duration": 5,
    "start_time": "2023-04-14T18:11:49.666Z"
   },
   {
    "duration": 21,
    "start_time": "2023-04-14T18:11:49.672Z"
   },
   {
    "duration": 41,
    "start_time": "2023-04-14T18:11:49.698Z"
   },
   {
    "duration": 16,
    "start_time": "2023-04-14T18:11:49.741Z"
   },
   {
    "duration": 3,
    "start_time": "2023-04-14T18:11:49.759Z"
   },
   {
    "duration": 199,
    "start_time": "2023-04-14T18:11:49.764Z"
   },
   {
    "duration": 7104,
    "start_time": "2023-04-14T18:11:49.965Z"
   },
   {
    "duration": 205,
    "start_time": "2023-04-14T18:11:57.071Z"
   },
   {
    "duration": 7262,
    "start_time": "2023-04-14T18:11:57.278Z"
   },
   {
    "duration": 199,
    "start_time": "2023-04-14T18:12:04.544Z"
   },
   {
    "duration": 0,
    "start_time": "2023-04-14T18:12:04.746Z"
   },
   {
    "duration": 0,
    "start_time": "2023-04-14T18:12:04.748Z"
   },
   {
    "duration": 5,
    "start_time": "2023-04-14T18:12:21.599Z"
   },
   {
    "duration": 25,
    "start_time": "2023-04-14T18:12:25.603Z"
   },
   {
    "duration": 300,
    "start_time": "2023-04-14T18:12:28.378Z"
   },
   {
    "duration": 12598,
    "start_time": "2023-04-14T18:14:09.798Z"
   },
   {
    "duration": 1537,
    "start_time": "2023-04-14T18:16:02.661Z"
   },
   {
    "duration": 924,
    "start_time": "2023-04-14T18:16:27.952Z"
   },
   {
    "duration": 1196,
    "start_time": "2023-04-14T18:17:16.050Z"
   },
   {
    "duration": 48,
    "start_time": "2023-04-14T18:17:17.248Z"
   },
   {
    "duration": 4,
    "start_time": "2023-04-14T18:17:17.298Z"
   },
   {
    "duration": 14,
    "start_time": "2023-04-14T18:17:17.303Z"
   },
   {
    "duration": 5,
    "start_time": "2023-04-14T18:17:17.319Z"
   },
   {
    "duration": 18,
    "start_time": "2023-04-14T18:17:17.325Z"
   },
   {
    "duration": 49,
    "start_time": "2023-04-14T18:17:17.345Z"
   },
   {
    "duration": 15,
    "start_time": "2023-04-14T18:17:17.395Z"
   },
   {
    "duration": 3,
    "start_time": "2023-04-14T18:17:17.411Z"
   },
   {
    "duration": 211,
    "start_time": "2023-04-14T18:17:17.416Z"
   },
   {
    "duration": 6638,
    "start_time": "2023-04-14T18:17:17.629Z"
   },
   {
    "duration": 187,
    "start_time": "2023-04-14T18:17:24.270Z"
   },
   {
    "duration": 6698,
    "start_time": "2023-04-14T18:17:24.459Z"
   },
   {
    "duration": 25,
    "start_time": "2023-04-14T18:17:31.160Z"
   },
   {
    "duration": 302,
    "start_time": "2023-04-14T18:17:31.187Z"
   },
   {
    "duration": 12424,
    "start_time": "2023-04-14T18:17:31.491Z"
   },
   {
    "duration": 559,
    "start_time": "2023-04-14T18:17:43.917Z"
   }
  ],
  "kernelspec": {
   "display_name": "Python 3 (ipykernel)",
   "language": "python",
   "name": "python3"
  },
  "language_info": {
   "codemirror_mode": {
    "name": "ipython",
    "version": 3
   },
   "file_extension": ".py",
   "mimetype": "text/x-python",
   "name": "python",
   "nbconvert_exporter": "python",
   "pygments_lexer": "ipython3",
   "version": "3.9.5"
  },
  "toc": {
   "base_numbering": 1,
   "nav_menu": {},
   "number_sections": true,
   "sideBar": true,
   "skip_h1_title": true,
   "title_cell": "Содержание",
   "title_sidebar": "Contents",
   "toc_cell": true,
   "toc_position": {},
   "toc_section_display": true,
   "toc_window_display": false
  }
 },
 "nbformat": 4,
 "nbformat_minor": 2
}
