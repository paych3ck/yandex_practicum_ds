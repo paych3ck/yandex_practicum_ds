{
 "cells": [
  {
   "cell_type": "markdown",
   "metadata": {},
   "source": [
    "# Определение стоимости автомобилей"
   ]
  },
  {
   "cell_type": "markdown",
   "metadata": {},
   "source": [
    "Сервис по продаже автомобилей с пробегом «Не бит, не крашен» разрабатывает приложение для привлечения новых клиентов. В нём можно быстро узнать рыночную стоимость своего автомобиля. В вашем распоряжении исторические данные: технические характеристики, комплектации и цены автомобилей. Вам нужно построить модель для определения стоимости. \n",
    "\n",
    "Заказчику важны:\n",
    "\n",
    "- качество предсказания;\n",
    "- скорость предсказания;\n",
    "- время обучения."
   ]
  },
  {
   "cell_type": "markdown",
   "metadata": {},
   "source": [
    "## Подготовка данных"
   ]
  },
  {
   "cell_type": "code",
   "execution_count": 29,
   "metadata": {},
   "outputs": [],
   "source": [
    "import pandas as pd\n",
    "import lightgbm as lgb\n",
    "import re\n",
    "import time\n",
    "import numpy as np\n",
    "\n",
    "from sklearn.preprocessing import StandardScaler\n",
    "from sklearn.metrics import mean_squared_error\n",
    "from sklearn.pipeline import make_pipeline\n",
    "from sklearn.linear_model import LinearRegression\n",
    "from sklearn.model_selection import train_test_split, GridSearchCV\n",
    "from catboost import CatBoostRegressor"
   ]
  },
  {
   "cell_type": "code",
   "execution_count": 4,
   "metadata": {},
   "outputs": [],
   "source": [
    "data = pd.read_csv('/datasets/autos.csv')"
   ]
  },
  {
   "cell_type": "code",
   "execution_count": 5,
   "metadata": {},
   "outputs": [
    {
     "data": {
      "text/html": [
       "<div>\n",
       "<style scoped>\n",
       "    .dataframe tbody tr th:only-of-type {\n",
       "        vertical-align: middle;\n",
       "    }\n",
       "\n",
       "    .dataframe tbody tr th {\n",
       "        vertical-align: top;\n",
       "    }\n",
       "\n",
       "    .dataframe thead th {\n",
       "        text-align: right;\n",
       "    }\n",
       "</style>\n",
       "<table border=\"1\" class=\"dataframe\">\n",
       "  <thead>\n",
       "    <tr style=\"text-align: right;\">\n",
       "      <th></th>\n",
       "      <th>DateCrawled</th>\n",
       "      <th>Price</th>\n",
       "      <th>VehicleType</th>\n",
       "      <th>RegistrationYear</th>\n",
       "      <th>Gearbox</th>\n",
       "      <th>Power</th>\n",
       "      <th>Model</th>\n",
       "      <th>Kilometer</th>\n",
       "      <th>RegistrationMonth</th>\n",
       "      <th>FuelType</th>\n",
       "      <th>Brand</th>\n",
       "      <th>Repaired</th>\n",
       "      <th>DateCreated</th>\n",
       "      <th>NumberOfPictures</th>\n",
       "      <th>PostalCode</th>\n",
       "      <th>LastSeen</th>\n",
       "    </tr>\n",
       "  </thead>\n",
       "  <tbody>\n",
       "    <tr>\n",
       "      <th>0</th>\n",
       "      <td>2016-03-24 11:52:17</td>\n",
       "      <td>480</td>\n",
       "      <td>NaN</td>\n",
       "      <td>1993</td>\n",
       "      <td>manual</td>\n",
       "      <td>0</td>\n",
       "      <td>golf</td>\n",
       "      <td>150000</td>\n",
       "      <td>0</td>\n",
       "      <td>petrol</td>\n",
       "      <td>volkswagen</td>\n",
       "      <td>NaN</td>\n",
       "      <td>2016-03-24 00:00:00</td>\n",
       "      <td>0</td>\n",
       "      <td>70435</td>\n",
       "      <td>2016-04-07 03:16:57</td>\n",
       "    </tr>\n",
       "    <tr>\n",
       "      <th>1</th>\n",
       "      <td>2016-03-24 10:58:45</td>\n",
       "      <td>18300</td>\n",
       "      <td>coupe</td>\n",
       "      <td>2011</td>\n",
       "      <td>manual</td>\n",
       "      <td>190</td>\n",
       "      <td>NaN</td>\n",
       "      <td>125000</td>\n",
       "      <td>5</td>\n",
       "      <td>gasoline</td>\n",
       "      <td>audi</td>\n",
       "      <td>yes</td>\n",
       "      <td>2016-03-24 00:00:00</td>\n",
       "      <td>0</td>\n",
       "      <td>66954</td>\n",
       "      <td>2016-04-07 01:46:50</td>\n",
       "    </tr>\n",
       "    <tr>\n",
       "      <th>2</th>\n",
       "      <td>2016-03-14 12:52:21</td>\n",
       "      <td>9800</td>\n",
       "      <td>suv</td>\n",
       "      <td>2004</td>\n",
       "      <td>auto</td>\n",
       "      <td>163</td>\n",
       "      <td>grand</td>\n",
       "      <td>125000</td>\n",
       "      <td>8</td>\n",
       "      <td>gasoline</td>\n",
       "      <td>jeep</td>\n",
       "      <td>NaN</td>\n",
       "      <td>2016-03-14 00:00:00</td>\n",
       "      <td>0</td>\n",
       "      <td>90480</td>\n",
       "      <td>2016-04-05 12:47:46</td>\n",
       "    </tr>\n",
       "    <tr>\n",
       "      <th>3</th>\n",
       "      <td>2016-03-17 16:54:04</td>\n",
       "      <td>1500</td>\n",
       "      <td>small</td>\n",
       "      <td>2001</td>\n",
       "      <td>manual</td>\n",
       "      <td>75</td>\n",
       "      <td>golf</td>\n",
       "      <td>150000</td>\n",
       "      <td>6</td>\n",
       "      <td>petrol</td>\n",
       "      <td>volkswagen</td>\n",
       "      <td>no</td>\n",
       "      <td>2016-03-17 00:00:00</td>\n",
       "      <td>0</td>\n",
       "      <td>91074</td>\n",
       "      <td>2016-03-17 17:40:17</td>\n",
       "    </tr>\n",
       "    <tr>\n",
       "      <th>4</th>\n",
       "      <td>2016-03-31 17:25:20</td>\n",
       "      <td>3600</td>\n",
       "      <td>small</td>\n",
       "      <td>2008</td>\n",
       "      <td>manual</td>\n",
       "      <td>69</td>\n",
       "      <td>fabia</td>\n",
       "      <td>90000</td>\n",
       "      <td>7</td>\n",
       "      <td>gasoline</td>\n",
       "      <td>skoda</td>\n",
       "      <td>no</td>\n",
       "      <td>2016-03-31 00:00:00</td>\n",
       "      <td>0</td>\n",
       "      <td>60437</td>\n",
       "      <td>2016-04-06 10:17:21</td>\n",
       "    </tr>\n",
       "  </tbody>\n",
       "</table>\n",
       "</div>"
      ],
      "text/plain": [
       "           DateCrawled  Price VehicleType  RegistrationYear Gearbox  Power  \\\n",
       "0  2016-03-24 11:52:17    480         NaN              1993  manual      0   \n",
       "1  2016-03-24 10:58:45  18300       coupe              2011  manual    190   \n",
       "2  2016-03-14 12:52:21   9800         suv              2004    auto    163   \n",
       "3  2016-03-17 16:54:04   1500       small              2001  manual     75   \n",
       "4  2016-03-31 17:25:20   3600       small              2008  manual     69   \n",
       "\n",
       "   Model  Kilometer  RegistrationMonth  FuelType       Brand Repaired  \\\n",
       "0   golf     150000                  0    petrol  volkswagen      NaN   \n",
       "1    NaN     125000                  5  gasoline        audi      yes   \n",
       "2  grand     125000                  8  gasoline        jeep      NaN   \n",
       "3   golf     150000                  6    petrol  volkswagen       no   \n",
       "4  fabia      90000                  7  gasoline       skoda       no   \n",
       "\n",
       "           DateCreated  NumberOfPictures  PostalCode             LastSeen  \n",
       "0  2016-03-24 00:00:00                 0       70435  2016-04-07 03:16:57  \n",
       "1  2016-03-24 00:00:00                 0       66954  2016-04-07 01:46:50  \n",
       "2  2016-03-14 00:00:00                 0       90480  2016-04-05 12:47:46  \n",
       "3  2016-03-17 00:00:00                 0       91074  2016-03-17 17:40:17  \n",
       "4  2016-03-31 00:00:00                 0       60437  2016-04-06 10:17:21  "
      ]
     },
     "execution_count": 5,
     "metadata": {},
     "output_type": "execute_result"
    }
   ],
   "source": [
    "data.head()"
   ]
  },
  {
   "cell_type": "code",
   "execution_count": 6,
   "metadata": {},
   "outputs": [
    {
     "name": "stdout",
     "output_type": "stream",
     "text": [
      "<class 'pandas.core.frame.DataFrame'>\n",
      "RangeIndex: 354369 entries, 0 to 354368\n",
      "Data columns (total 16 columns):\n",
      " #   Column             Non-Null Count   Dtype \n",
      "---  ------             --------------   ----- \n",
      " 0   DateCrawled        354369 non-null  object\n",
      " 1   Price              354369 non-null  int64 \n",
      " 2   VehicleType        316879 non-null  object\n",
      " 3   RegistrationYear   354369 non-null  int64 \n",
      " 4   Gearbox            334536 non-null  object\n",
      " 5   Power              354369 non-null  int64 \n",
      " 6   Model              334664 non-null  object\n",
      " 7   Kilometer          354369 non-null  int64 \n",
      " 8   RegistrationMonth  354369 non-null  int64 \n",
      " 9   FuelType           321474 non-null  object\n",
      " 10  Brand              354369 non-null  object\n",
      " 11  Repaired           283215 non-null  object\n",
      " 12  DateCreated        354369 non-null  object\n",
      " 13  NumberOfPictures   354369 non-null  int64 \n",
      " 14  PostalCode         354369 non-null  int64 \n",
      " 15  LastSeen           354369 non-null  object\n",
      "dtypes: int64(7), object(9)\n",
      "memory usage: 43.3+ MB\n"
     ]
    }
   ],
   "source": [
    "data.info()"
   ]
  },
  {
   "cell_type": "code",
   "execution_count": 7,
   "metadata": {},
   "outputs": [
    {
     "data": {
      "text/plain": [
       "DateCrawled              0\n",
       "Price                    0\n",
       "VehicleType          37490\n",
       "RegistrationYear         0\n",
       "Gearbox              19833\n",
       "Power                    0\n",
       "Model                19705\n",
       "Kilometer                0\n",
       "RegistrationMonth        0\n",
       "FuelType             32895\n",
       "Brand                    0\n",
       "Repaired             71154\n",
       "DateCreated              0\n",
       "NumberOfPictures         0\n",
       "PostalCode               0\n",
       "LastSeen                 0\n",
       "dtype: int64"
      ]
     },
     "execution_count": 7,
     "metadata": {},
     "output_type": "execute_result"
    }
   ],
   "source": [
    "data.isnull().sum()"
   ]
  },
  {
   "cell_type": "markdown",
   "metadata": {},
   "source": [
    "Приведение названия столбцов к *snake_case*."
   ]
  },
  {
   "cell_type": "code",
   "execution_count": 8,
   "metadata": {},
   "outputs": [
    {
     "data": {
      "text/plain": [
       "Index(['date_crawled', 'price', 'vehicle_type', 'registration_year', 'gearbox',\n",
       "       'power', 'model', 'kilometer', 'registration_month', 'fuel_type',\n",
       "       'brand', 'repaired', 'date_created', 'number_of_pictures',\n",
       "       'postal_code', 'last_seen'],\n",
       "      dtype='object')"
      ]
     },
     "execution_count": 8,
     "metadata": {},
     "output_type": "execute_result"
    }
   ],
   "source": [
    "def snake_case(name):\n",
    "    name = re.sub(r'([A-Z]+)([A-Z][a-z])', r'\\1_\\2', name)\n",
    "    name = re.sub(r'([a-z\\d])([A-Z])', r'\\1_\\2', name)\n",
    "    name = re.sub(r'-', '_', name)\n",
    "    return name.lower()\n",
    "\n",
    "data.columns = [snake_case(col) for col in data.columns]\n",
    "data.columns"
   ]
  },
  {
   "cell_type": "markdown",
   "metadata": {},
   "source": [
    "Удаление неинформативных признаков.\n",
    "\n",
    "На цену машины как объекта никак не может влиять дата публикации объявления, дата его скачивания, количество картинок, почтовый индекс владельца анкеты и его последний онлайн."
   ]
  },
  {
   "cell_type": "code",
   "execution_count": 9,
   "metadata": {},
   "outputs": [],
   "source": [
    "data = data.drop(['date_crawled', 'date_created', 'number_of_pictures', 'postal_code', 'last_seen'], axis=1)"
   ]
  },
  {
   "cell_type": "markdown",
   "metadata": {},
   "source": [
    "Заполнение пропусков в столбцах 'vehicle_type', 'gearbox', 'fuel_type' наиболее часто встречающимся значением и в столбце 'model' наиболее популярной моделью."
   ]
  },
  {
   "cell_type": "code",
   "execution_count": 10,
   "metadata": {},
   "outputs": [
    {
     "data": {
      "text/plain": [
       "price                 0\n",
       "vehicle_type          0\n",
       "registration_year     0\n",
       "gearbox               0\n",
       "power                 0\n",
       "model                 0\n",
       "kilometer             0\n",
       "registration_month    0\n",
       "fuel_type             0\n",
       "brand                 0\n",
       "repaired              0\n",
       "dtype: int64"
      ]
     },
     "execution_count": 10,
     "metadata": {},
     "output_type": "execute_result"
    }
   ],
   "source": [
    "for col in ['vehicle_type', 'gearbox', 'fuel_type']:\n",
    "    data[col].fillna(data[col].mode()[0], inplace=True)\n",
    "\n",
    "data['model'].fillna(data['model'].value_counts().idxmax(), inplace=True)\n",
    "data['repaired'].fillna('unknown', inplace=True)\n",
    "\n",
    "data.isnull().sum()"
   ]
  },
  {
   "cell_type": "markdown",
   "metadata": {},
   "source": [
    "Удаление аномалий в столбце *price* и замена аномальных значений в столбце *power* на медиану."
   ]
  },
  {
   "cell_type": "code",
   "execution_count": 11,
   "metadata": {},
   "outputs": [],
   "source": [
    "power_median = data['power'].median()\n",
    "power_std = data['power'].std()\n",
    "power_upper_threshold = power_median + 3 * power_std\n",
    "data.loc[data['power'] > power_upper_threshold, 'power'] = power_median\n",
    "\n",
    "price_median = data['price'].median()\n",
    "price_std = data['price'].std()\n",
    "price_upper_threshold = price_median + 3 * price_std\n",
    "data = data[data['price'] <= price_upper_threshold]\n",
    "\n",
    "registration_year_median = data['registration_year'].median()\n",
    "registration_year_std = data['registration_year'].std()\n",
    "registration_year_upper_threshold = registration_year_median + 3 * registration_year_std\n",
    "data = data[data['registration_year'] <= registration_year_upper_threshold]"
   ]
  },
  {
   "cell_type": "code",
   "execution_count": 12,
   "metadata": {},
   "outputs": [
    {
     "data": {
      "text/plain": [
       "218241    1800\n",
       "139360    1800\n",
       "195855    1800\n",
       "34332     1800\n",
       "351682    1800\n",
       "29383     1910\n",
       "302641    1910\n",
       "69320     1910\n",
       "87717     1910\n",
       "57063     1910\n",
       "321782    1910\n",
       "303721    1910\n",
       "334901    1910\n",
       "261973    1910\n",
       "218273    1910\n",
       "353961    1910\n",
       "78374     1910\n",
       "224891    1910\n",
       "193266    1910\n",
       "29516     1910\n",
       "Name: registration_year, dtype: int64"
      ]
     },
     "execution_count": 12,
     "metadata": {},
     "output_type": "execute_result"
    }
   ],
   "source": [
    "data['registration_year'].sort_values(ascending=True).iloc[60:80]"
   ]
  },
  {
   "cell_type": "markdown",
   "metadata": {},
   "source": [
    "В качестве наименьшего возможного значения столбца *registration_year* возьмем 1910 год, в качестве максимального - 2016."
   ]
  },
  {
   "cell_type": "code",
   "execution_count": 13,
   "metadata": {},
   "outputs": [],
   "source": [
    "data = data[(data.registration_year >= 1910) & (data.registration_year <= 2016)]"
   ]
  },
  {
   "cell_type": "markdown",
   "metadata": {},
   "source": [
    "Теперь обработаем нижний диапазон значений в столбце *power*. Перейдем на auto.ru, поставим максимально возможное значение Л.С равное 10. В России продается только одна такая машина - СМЗ С-3А С-3АМ. За минимальное возможное значение Л.С. возьмем 10."
   ]
  },
  {
   "cell_type": "code",
   "execution_count": 14,
   "metadata": {},
   "outputs": [],
   "source": [
    "data = data[(data.power >= 10)]"
   ]
  },
  {
   "cell_type": "code",
   "execution_count": 15,
   "metadata": {},
   "outputs": [
    {
     "data": {
      "text/plain": [
       "43981     150\n",
       "240962    150\n",
       "91531     150\n",
       "276582    150\n",
       "220034    150\n",
       "         ... \n",
       "42937     200\n",
       "42945     200\n",
       "151307    200\n",
       "144117    200\n",
       "70592     200\n",
       "Name: price, Length: 800, dtype: int64"
      ]
     },
     "execution_count": 15,
     "metadata": {},
     "output_type": "execute_result"
    }
   ],
   "source": [
    "data['price'].sort_values(ascending=True).iloc[9500:10300]"
   ]
  },
  {
   "cell_type": "markdown",
   "metadata": {},
   "source": [
    "В качестве наименьшего возможного значения столбца *price* возьмем 200. Так стоит самая дешевая машина на auto.ru"
   ]
  },
  {
   "cell_type": "code",
   "execution_count": 16,
   "metadata": {},
   "outputs": [],
   "source": [
    "data = data[(data.price >= 200)]"
   ]
  },
  {
   "cell_type": "code",
   "execution_count": 17,
   "metadata": {},
   "outputs": [],
   "source": [
    "data = pd.get_dummies(data, columns=['vehicle_type', 'gearbox', 'model', 'fuel_type', 'brand', 'repaired'], drop_first=True)"
   ]
  },
  {
   "cell_type": "markdown",
   "metadata": {},
   "source": [
    "Датасет был проанализирован, названия столбцов приведены к snake_case, были удалены аномалии, к категориальным признакам был применен *get_dummies*."
   ]
  },
  {
   "cell_type": "markdown",
   "metadata": {},
   "source": [
    "## Обучение моделей"
   ]
  },
  {
   "cell_type": "markdown",
   "metadata": {},
   "source": [
    "Разделение данных на обучающую и тестовую выборки, создание функции *rmse_scorer* для ее дальнейшего использования в параметрах GridSearchCV."
   ]
  },
  {
   "cell_type": "code",
   "execution_count": 18,
   "metadata": {},
   "outputs": [],
   "source": [
    "features = data.drop('price', axis=1)\n",
    "target = data['price']\n",
    "\n",
    "features_train, features_test, target_train, target_test = train_test_split(features, target, test_size=0.2, random_state=12345)"
   ]
  },
  {
   "cell_type": "markdown",
   "metadata": {},
   "source": [
    "**Модель LightGBM**"
   ]
  },
  {
   "cell_type": "code",
   "execution_count": 19,
   "metadata": {
    "collapsed": true
   },
   "outputs": [
    {
     "name": "stdout",
     "output_type": "stream",
     "text": [
      "LightGBM\n",
      "RMSE: 1426.092474160897\n",
      "Лучшие параметры: {'learning_rate': 0.1, 'max_depth': -1, 'n_estimators': 300}\n"
     ]
    }
   ],
   "source": [
    "model_lgb = lgb.LGBMRegressor()\n",
    "\n",
    "param_grid_lgb = {\n",
    "   'n_estimators': [100, 200, 300], \n",
    "   'learning_rate': [0.01, 0.05, 0.1], \n",
    "   'max_depth': [3, 5, -1]\n",
    "}\n",
    "\n",
    "grid_search_lgb = GridSearchCV(estimator=model_lgb, param_grid=param_grid_lgb, scoring='neg_root_mean_squared_error', cv=3)\n",
    "grid_search_lgb.fit(features_train, target_train)\n",
    "best_params_lgb = grid_search_lgb.best_params_\n",
    "best_rmse_lgb = grid_search_lgb.best_score_ * -1\n",
    "print(\"LightGBM\")\n",
    "print(\"RMSE:\", best_rmse_lgb)\n",
    "print(\"Лучшие параметры:\", best_params_lgb)"
   ]
  },
  {
   "cell_type": "markdown",
   "metadata": {},
   "source": [
    "**Модель CatBoostRegressor**"
   ]
  },
  {
   "cell_type": "code",
   "execution_count": 20,
   "metadata": {
    "scrolled": true
   },
   "outputs": [
    {
     "name": "stdout",
     "output_type": "stream",
     "text": [
      "CatBoostRegressor\n",
      "RMSE: 1450.1476281628009\n",
      "Лучшие параметры: {'depth': 8, 'iterations': 300, 'learning_rate': 0.1}\n"
     ]
    }
   ],
   "source": [
    "model_cb = CatBoostRegressor(verbose=False)\n",
    "\n",
    "param_grid_cb = {\n",
    "   'learning_rate': [0.1, 0.01, 0.001],\n",
    "   'depth': [4, 6, 8],\n",
    "   'iterations': [100, 200, 300]\n",
    "}\n",
    "\n",
    "grid_search_cb = GridSearchCV(estimator=model_cb, param_grid=param_grid_cb, scoring='neg_root_mean_squared_error', cv=3)\n",
    "grid_search_cb.fit(features_train, target_train)\n",
    "\n",
    "best_params_cb = grid_search_cb.best_params_\n",
    "best_rmse_cb = grid_search_cb.best_score_ * -1\n",
    "print(\"CatBoostRegressor\")\n",
    "print(\"RMSE:\", best_rmse_cb)\n",
    "print(\"Лучшие параметры:\", best_params_cb)"
   ]
  },
  {
   "cell_type": "markdown",
   "metadata": {},
   "source": [
    "**Модель LinearRegression**"
   ]
  },
  {
   "cell_type": "markdown",
   "metadata": {},
   "source": [
    "Подготовка к масштабированию."
   ]
  },
  {
   "cell_type": "code",
   "execution_count": 21,
   "metadata": {},
   "outputs": [],
   "source": [
    "nums = ['registration_year', 'kilometer', 'power']\n",
    "scaler = StandardScaler()\n",
    "features_train_lr = features_train.copy()\n",
    "features_test_lr = features_test.copy()\n",
    "features_train_lr[nums] = scaler.fit_transform(features_train_lr[nums])\n",
    "features_test_lr[nums] = scaler.transform(features_test_lr[nums])"
   ]
  },
  {
   "cell_type": "code",
   "execution_count": 22,
   "metadata": {},
   "outputs": [
    {
     "name": "stdout",
     "output_type": "stream",
     "text": [
      "LinearRegression\n",
      "RMSE: 2298.8016943493967\n",
      "Лучшие параметры: {}\n"
     ]
    }
   ],
   "source": [
    "model_lr = LinearRegression()\n",
    "\n",
    "param_grid_lr = {}\n",
    "\n",
    "grid_search_lr = GridSearchCV(model_lr, param_grid_lr, scoring='neg_root_mean_squared_error', cv=5)\n",
    "grid_search_lr.fit(features_train_lr, target_train)\n",
    "\n",
    "best_params_lr = grid_search_lr.best_params_\n",
    "best_rmse_lr = grid_search_lr.best_score_ * -1\n",
    "print(\"LinearRegression\")\n",
    "print(\"RMSE:\", best_rmse_lr)\n",
    "print(\"Лучшие параметры:\", best_params_lr)"
   ]
  },
  {
   "cell_type": "markdown",
   "metadata": {},
   "source": [
    "## Анализ моделей"
   ]
  },
  {
   "cell_type": "markdown",
   "metadata": {},
   "source": [
    "Модель LightGBM показала наилучший результат RMSE - 1600.5875133724232, CatBoostRegressor - 1625.0127033919537.\n",
    "\n",
    "LinearRegression показала неудовлетворительный результат RMSE, равный 2628.80613674923.\n",
    "\n",
    "Рассмотрим модели LightGBM и CatBoostRegressor."
   ]
  },
  {
   "cell_type": "markdown",
   "metadata": {},
   "source": [
    "**LightGBM**"
   ]
  },
  {
   "cell_type": "code",
   "execution_count": 23,
   "metadata": {},
   "outputs": [
    {
     "name": "stdout",
     "output_type": "stream",
     "text": [
      "Время обучения: 1.1930139064788818\n",
      "Время предсказания: 0.676377534866333\n"
     ]
    }
   ],
   "source": [
    "best_model_lgbm = lgb.LGBMRegressor(learning_rate=0.1, max_depth=-1, n_estimators=300)\n",
    "\n",
    "start_time = time.time()\n",
    "best_model_lgbm.fit(features_train, target_train)\n",
    "end_time = time.time()\n",
    "print(\"Время обучения:\", end_time - start_time)\n",
    "\n",
    "start_time = time.time()\n",
    "best_model_lgbm_predicted = best_model_lgbm.predict(features_train)\n",
    "end_time = time.time()\n",
    "print(\"Время предсказания:\", end_time - start_time)"
   ]
  },
  {
   "cell_type": "markdown",
   "metadata": {},
   "source": [
    "**CatBoostRegressor**"
   ]
  },
  {
   "cell_type": "code",
   "execution_count": 27,
   "metadata": {},
   "outputs": [
    {
     "name": "stdout",
     "output_type": "stream",
     "text": [
      "Время обучения: 3.6803102493286133\n",
      "Время предсказания: 0.0578460693359375\n"
     ]
    }
   ],
   "source": [
    "best_model_cbr = CatBoostRegressor(depth=8, iterations=300, learning_rate=0.1, verbose=False)\n",
    "\n",
    "start_time = time.time()\n",
    "best_model_cbr.fit(features_train, target_train)\n",
    "end_time = time.time()\n",
    "print(\"Время обучения:\", end_time - start_time)\n",
    "\n",
    "start_time = time.time()\n",
    "best_model_cbr_predicted = best_model_cbr.predict(features_train)\n",
    "end_time = time.time()\n",
    "print(\"Время предсказания:\", end_time - start_time)"
   ]
  },
  {
   "cell_type": "markdown",
   "metadata": {},
   "source": [
    "**LinearRegression**"
   ]
  },
  {
   "cell_type": "code",
   "execution_count": 26,
   "metadata": {},
   "outputs": [
    {
     "name": "stdout",
     "output_type": "stream",
     "text": [
      "Время обучения: 4.076190710067749\n",
      "Время предсказания: 0.1810903549194336\n"
     ]
    }
   ],
   "source": [
    "best_model_lr = LinearRegression()\n",
    "\n",
    "start_time = time.time()\n",
    "best_model_lr.fit(features_train_lr, target_train)\n",
    "end_time = time.time()\n",
    "print(\"Время обучения:\", end_time - start_time)\n",
    "\n",
    "start_time = time.time()\n",
    "best_model_lr_predicted = best_model_lr.predict(features_train_lr)\n",
    "end_time = time.time()\n",
    "print(\"Время предсказания:\", end_time - start_time)"
   ]
  },
  {
   "cell_type": "markdown",
   "metadata": {},
   "source": [
    "Лучшей моделью выбираем LightGBM ввиду очень быстрой скорости обучения (1.13 сек) по сравнению с CatBoostRegressor (3.7 сек) и LinearRegression (4.08). LightGBM также показала отличное значение RMSE на кросс-валидации - 1412.4"
   ]
  },
  {
   "cell_type": "markdown",
   "metadata": {},
   "source": [
    "**Тестирование лучшей модели**"
   ]
  },
  {
   "cell_type": "code",
   "execution_count": 31,
   "metadata": {},
   "outputs": [
    {
     "name": "stdout",
     "output_type": "stream",
     "text": [
      "Время предсказания лучшей модели на тестовой выборке: 0.20096826553344727\n",
      "RMSE лучшей модели на тестовой выборке: 1412.030024433636\n"
     ]
    }
   ],
   "source": [
    "start_time = time.time()\n",
    "best_model_lgbm_predicted = best_model_lgbm.predict(features_test)\n",
    "end_time = time.time()\n",
    "print(\"Время предсказания лучшей модели на тестовой выборке:\", end_time - start_time)\n",
    "print(\"RMSE лучшей модели на тестовой выборке:\", np.sqrt(mean_squared_error(target_test, best_model_lgbm_predicted)))"
   ]
  },
  {
   "cell_type": "markdown",
   "metadata": {},
   "source": [
    "## Вывод"
   ]
  },
  {
   "cell_type": "markdown",
   "metadata": {},
   "source": [
    "В ходе работы был проведен анализ датасета, приведены к snake_case названия столбцов. Удалены неинформативные признаки, обработаны пропуски и аномалии. \n",
    "\n",
    "Были проанализрованы три модели - CatBoostRegressor, LightGBM и LinearRegression. В качестве лучшей выбрана LightGBM ввиду высокой точности (RMSE - 1412) и крайне маленьким временем обучения - 0.2 сек."
   ]
  }
 ],
 "metadata": {
  "ExecuteTimeLog": [
   {
    "duration": 455,
    "start_time": "2023-06-26T20:16:37.027Z"
   },
   {
    "duration": 1274,
    "start_time": "2023-06-26T20:16:37.485Z"
   },
   {
    "duration": 22,
    "start_time": "2023-06-26T20:16:38.761Z"
   },
   {
    "duration": 126,
    "start_time": "2023-06-26T20:17:48.523Z"
   },
   {
    "duration": 101,
    "start_time": "2023-06-26T20:18:25.338Z"
   },
   {
    "duration": 118,
    "start_time": "2023-06-26T20:18:30.111Z"
   },
   {
    "duration": 7,
    "start_time": "2023-06-26T20:20:54.861Z"
   },
   {
    "duration": 5,
    "start_time": "2023-06-26T20:58:28.540Z"
   },
   {
    "duration": 8,
    "start_time": "2023-06-26T20:58:57.412Z"
   },
   {
    "duration": 12,
    "start_time": "2023-06-26T20:59:04.802Z"
   },
   {
    "duration": 463,
    "start_time": "2023-06-26T20:59:16.347Z"
   },
   {
    "duration": 1131,
    "start_time": "2023-06-26T20:59:16.812Z"
   },
   {
    "duration": 32,
    "start_time": "2023-06-26T20:59:17.945Z"
   },
   {
    "duration": 130,
    "start_time": "2023-06-26T20:59:17.979Z"
   },
   {
    "duration": 131,
    "start_time": "2023-06-26T20:59:18.111Z"
   },
   {
    "duration": 18,
    "start_time": "2023-06-26T20:59:18.244Z"
   },
   {
    "duration": 147,
    "start_time": "2023-06-26T20:59:18.265Z"
   },
   {
    "duration": 7,
    "start_time": "2023-06-26T21:13:33.584Z"
   },
   {
    "duration": 44,
    "start_time": "2023-06-26T21:15:40.946Z"
   },
   {
    "duration": 261,
    "start_time": "2023-06-26T21:20:48.560Z"
   },
   {
    "duration": 166,
    "start_time": "2023-06-26T21:21:43.071Z"
   },
   {
    "duration": 245,
    "start_time": "2023-06-26T21:25:17.534Z"
   },
   {
    "duration": 74,
    "start_time": "2023-06-26T21:26:11.312Z"
   },
   {
    "duration": 1209,
    "start_time": "2023-06-26T21:39:23.460Z"
   },
   {
    "duration": 1041,
    "start_time": "2023-06-26T21:39:24.672Z"
   },
   {
    "duration": 25,
    "start_time": "2023-06-26T21:39:25.715Z"
   },
   {
    "duration": 172,
    "start_time": "2023-06-26T21:39:25.742Z"
   },
   {
    "duration": 147,
    "start_time": "2023-06-26T21:39:25.916Z"
   },
   {
    "duration": 5,
    "start_time": "2023-06-26T21:39:26.065Z"
   },
   {
    "duration": 24,
    "start_time": "2023-06-26T21:39:26.072Z"
   },
   {
    "duration": 47,
    "start_time": "2023-06-26T21:39:26.097Z"
   },
   {
    "duration": 257,
    "start_time": "2023-06-26T21:39:26.146Z"
   },
   {
    "duration": 87,
    "start_time": "2023-06-26T21:39:26.407Z"
   },
   {
    "duration": 138,
    "start_time": "2023-06-26T21:39:26.496Z"
   },
   {
    "duration": 31100,
    "start_time": "2023-06-26T21:39:26.636Z"
   },
   {
    "duration": 1249,
    "start_time": "2023-06-26T21:46:15.244Z"
   },
   {
    "duration": 985,
    "start_time": "2023-06-26T21:46:16.495Z"
   },
   {
    "duration": 27,
    "start_time": "2023-06-26T21:46:17.482Z"
   },
   {
    "duration": 160,
    "start_time": "2023-06-26T21:46:17.511Z"
   },
   {
    "duration": 140,
    "start_time": "2023-06-26T21:46:17.674Z"
   },
   {
    "duration": 3,
    "start_time": "2023-06-26T21:46:17.817Z"
   },
   {
    "duration": 10,
    "start_time": "2023-06-26T21:46:17.823Z"
   },
   {
    "duration": 43,
    "start_time": "2023-06-26T21:46:17.835Z"
   },
   {
    "duration": 636,
    "start_time": "2023-06-26T21:46:17.880Z"
   },
   {
    "duration": 112,
    "start_time": "2023-06-26T21:46:18.519Z"
   },
   {
    "duration": 139,
    "start_time": "2023-06-26T21:46:18.634Z"
   },
   {
    "duration": 59194,
    "start_time": "2023-06-26T21:46:18.776Z"
   },
   {
    "duration": 1279,
    "start_time": "2023-06-26T21:58:52.130Z"
   },
   {
    "duration": 958,
    "start_time": "2023-06-26T21:58:53.411Z"
   },
   {
    "duration": 24,
    "start_time": "2023-06-26T21:58:54.371Z"
   },
   {
    "duration": 137,
    "start_time": "2023-06-26T21:58:54.398Z"
   },
   {
    "duration": 130,
    "start_time": "2023-06-26T21:58:54.537Z"
   },
   {
    "duration": 22,
    "start_time": "2023-06-26T21:58:54.670Z"
   },
   {
    "duration": 17,
    "start_time": "2023-06-26T21:58:54.694Z"
   },
   {
    "duration": 35,
    "start_time": "2023-06-26T21:58:54.713Z"
   },
   {
    "duration": 246,
    "start_time": "2023-06-26T21:58:54.750Z"
   },
   {
    "duration": 80,
    "start_time": "2023-06-26T21:58:54.999Z"
   },
   {
    "duration": 112,
    "start_time": "2023-06-26T21:58:55.080Z"
   },
   {
    "duration": 0,
    "start_time": "2023-06-26T21:58:55.194Z"
   },
   {
    "duration": 0,
    "start_time": "2023-06-26T21:58:55.195Z"
   },
   {
    "duration": 1275,
    "start_time": "2023-06-26T21:59:17.873Z"
   },
   {
    "duration": 989,
    "start_time": "2023-06-26T21:59:19.150Z"
   },
   {
    "duration": 31,
    "start_time": "2023-06-26T21:59:20.141Z"
   },
   {
    "duration": 149,
    "start_time": "2023-06-26T21:59:20.174Z"
   },
   {
    "duration": 138,
    "start_time": "2023-06-26T21:59:20.326Z"
   },
   {
    "duration": 4,
    "start_time": "2023-06-26T21:59:20.468Z"
   },
   {
    "duration": 26,
    "start_time": "2023-06-26T21:59:20.475Z"
   },
   {
    "duration": 35,
    "start_time": "2023-06-26T21:59:20.503Z"
   },
   {
    "duration": 246,
    "start_time": "2023-06-26T21:59:20.540Z"
   },
   {
    "duration": 88,
    "start_time": "2023-06-26T21:59:20.788Z"
   },
   {
    "duration": 1691,
    "start_time": "2023-06-26T21:59:20.878Z"
   },
   {
    "duration": 118,
    "start_time": "2023-06-26T21:59:22.571Z"
   },
   {
    "duration": 0,
    "start_time": "2023-06-26T21:59:22.691Z"
   },
   {
    "duration": 16,
    "start_time": "2023-06-26T21:59:46.700Z"
   },
   {
    "duration": 1500,
    "start_time": "2023-06-26T21:59:56.226Z"
   },
   {
    "duration": 1043,
    "start_time": "2023-06-26T21:59:57.728Z"
   },
   {
    "duration": 24,
    "start_time": "2023-06-26T21:59:58.772Z"
   },
   {
    "duration": 158,
    "start_time": "2023-06-26T21:59:58.798Z"
   },
   {
    "duration": 135,
    "start_time": "2023-06-26T21:59:58.963Z"
   },
   {
    "duration": 4,
    "start_time": "2023-06-26T21:59:59.099Z"
   },
   {
    "duration": 22,
    "start_time": "2023-06-26T21:59:59.105Z"
   },
   {
    "duration": 62,
    "start_time": "2023-06-26T21:59:59.133Z"
   },
   {
    "duration": 236,
    "start_time": "2023-06-26T21:59:59.198Z"
   },
   {
    "duration": 82,
    "start_time": "2023-06-26T21:59:59.437Z"
   },
   {
    "duration": 1675,
    "start_time": "2023-06-26T21:59:59.521Z"
   },
   {
    "duration": 123,
    "start_time": "2023-06-26T22:00:01.198Z"
   },
   {
    "duration": 0,
    "start_time": "2023-06-26T22:00:01.323Z"
   },
   {
    "duration": 17,
    "start_time": "2023-06-26T22:00:12.306Z"
   },
   {
    "duration": 1343,
    "start_time": "2023-06-26T22:00:17.829Z"
   },
   {
    "duration": 1003,
    "start_time": "2023-06-26T22:00:19.175Z"
   },
   {
    "duration": 25,
    "start_time": "2023-06-26T22:00:20.180Z"
   },
   {
    "duration": 161,
    "start_time": "2023-06-26T22:00:20.208Z"
   },
   {
    "duration": 152,
    "start_time": "2023-06-26T22:00:20.371Z"
   },
   {
    "duration": 4,
    "start_time": "2023-06-26T22:00:20.525Z"
   },
   {
    "duration": 11,
    "start_time": "2023-06-26T22:00:20.530Z"
   },
   {
    "duration": 51,
    "start_time": "2023-06-26T22:00:20.552Z"
   },
   {
    "duration": 263,
    "start_time": "2023-06-26T22:00:20.605Z"
   },
   {
    "duration": 87,
    "start_time": "2023-06-26T22:00:20.870Z"
   },
   {
    "duration": 2011,
    "start_time": "2023-06-26T22:00:20.966Z"
   },
   {
    "duration": 129,
    "start_time": "2023-06-26T22:00:22.978Z"
   },
   {
    "duration": 0,
    "start_time": "2023-06-26T22:00:23.109Z"
   },
   {
    "duration": 19,
    "start_time": "2023-06-26T22:02:41.557Z"
   },
   {
    "duration": 1287,
    "start_time": "2023-06-26T22:02:47.601Z"
   },
   {
    "duration": 973,
    "start_time": "2023-06-26T22:02:48.890Z"
   },
   {
    "duration": 23,
    "start_time": "2023-06-26T22:02:49.864Z"
   },
   {
    "duration": 148,
    "start_time": "2023-06-26T22:02:49.889Z"
   },
   {
    "duration": 130,
    "start_time": "2023-06-26T22:02:50.040Z"
   },
   {
    "duration": 4,
    "start_time": "2023-06-26T22:02:50.171Z"
   },
   {
    "duration": 13,
    "start_time": "2023-06-26T22:02:50.177Z"
   },
   {
    "duration": 35,
    "start_time": "2023-06-26T22:02:50.192Z"
   },
   {
    "duration": 271,
    "start_time": "2023-06-26T22:02:50.228Z"
   },
   {
    "duration": 87,
    "start_time": "2023-06-26T22:02:50.501Z"
   },
   {
    "duration": 1540,
    "start_time": "2023-06-26T22:02:50.590Z"
   },
   {
    "duration": 876,
    "start_time": "2023-06-26T22:02:52.132Z"
   },
   {
    "duration": 771348,
    "start_time": "2023-06-26T22:02:53.012Z"
   },
   {
    "duration": 93,
    "start_time": "2023-06-26T22:16:56.624Z"
   },
   {
    "duration": 11,
    "start_time": "2023-06-26T22:22:16.804Z"
   },
   {
    "duration": 25,
    "start_time": "2023-06-26T22:22:24.404Z"
   },
   {
    "duration": 57318,
    "start_time": "2023-06-26T22:22:29.344Z"
   },
   {
    "duration": 36,
    "start_time": "2023-06-26T22:24:49.348Z"
   },
   {
    "duration": 1393,
    "start_time": "2023-06-26T22:31:54.621Z"
   },
   {
    "duration": 1100,
    "start_time": "2023-06-26T22:31:56.017Z"
   },
   {
    "duration": 23,
    "start_time": "2023-06-26T22:31:57.119Z"
   },
   {
    "duration": 129,
    "start_time": "2023-06-26T22:31:57.144Z"
   },
   {
    "duration": 153,
    "start_time": "2023-06-26T22:31:57.275Z"
   },
   {
    "duration": 4,
    "start_time": "2023-06-26T22:31:57.431Z"
   },
   {
    "duration": 18,
    "start_time": "2023-06-26T22:31:57.436Z"
   },
   {
    "duration": 36,
    "start_time": "2023-06-26T22:31:57.455Z"
   },
   {
    "duration": 241,
    "start_time": "2023-06-26T22:31:57.494Z"
   },
   {
    "duration": 84,
    "start_time": "2023-06-26T22:31:57.738Z"
   },
   {
    "duration": 1297,
    "start_time": "2023-06-26T22:31:57.823Z"
   },
   {
    "duration": 725,
    "start_time": "2023-06-26T22:31:59.122Z"
   },
   {
    "duration": 0,
    "start_time": "2023-06-26T22:31:59.849Z"
   },
   {
    "duration": 0,
    "start_time": "2023-06-26T22:31:59.852Z"
   },
   {
    "duration": 0,
    "start_time": "2023-06-26T22:31:59.854Z"
   },
   {
    "duration": 1181,
    "start_time": "2023-06-26T22:32:35.198Z"
   },
   {
    "duration": 931,
    "start_time": "2023-06-26T22:32:36.382Z"
   },
   {
    "duration": 38,
    "start_time": "2023-06-26T22:32:37.317Z"
   },
   {
    "duration": 139,
    "start_time": "2023-06-26T22:32:37.358Z"
   },
   {
    "duration": 128,
    "start_time": "2023-06-26T22:32:37.499Z"
   },
   {
    "duration": 4,
    "start_time": "2023-06-26T22:32:37.628Z"
   },
   {
    "duration": 19,
    "start_time": "2023-06-26T22:32:37.633Z"
   },
   {
    "duration": 30,
    "start_time": "2023-06-26T22:32:37.654Z"
   },
   {
    "duration": 241,
    "start_time": "2023-06-26T22:32:37.686Z"
   },
   {
    "duration": 85,
    "start_time": "2023-06-26T22:32:37.929Z"
   },
   {
    "duration": 1233,
    "start_time": "2023-06-26T22:32:38.016Z"
   },
   {
    "duration": 600,
    "start_time": "2023-06-26T22:32:39.252Z"
   },
   {
    "duration": 58,
    "start_time": "2023-06-26T22:32:39.855Z"
   },
   {
    "duration": 0,
    "start_time": "2023-06-26T22:32:39.915Z"
   },
   {
    "duration": 0,
    "start_time": "2023-06-26T22:32:39.916Z"
   },
   {
    "duration": 1346,
    "start_time": "2023-06-26T22:32:54.008Z"
   },
   {
    "duration": 965,
    "start_time": "2023-06-26T22:32:55.357Z"
   },
   {
    "duration": 29,
    "start_time": "2023-06-26T22:32:56.324Z"
   },
   {
    "duration": 138,
    "start_time": "2023-06-26T22:32:56.355Z"
   },
   {
    "duration": 133,
    "start_time": "2023-06-26T22:32:56.496Z"
   },
   {
    "duration": 4,
    "start_time": "2023-06-26T22:32:56.631Z"
   },
   {
    "duration": 17,
    "start_time": "2023-06-26T22:32:56.637Z"
   },
   {
    "duration": 31,
    "start_time": "2023-06-26T22:32:56.656Z"
   },
   {
    "duration": 236,
    "start_time": "2023-06-26T22:32:56.690Z"
   },
   {
    "duration": 84,
    "start_time": "2023-06-26T22:32:56.928Z"
   },
   {
    "duration": 1217,
    "start_time": "2023-06-26T22:32:57.014Z"
   },
   {
    "duration": 638,
    "start_time": "2023-06-26T22:32:58.235Z"
   },
   {
    "duration": 705982,
    "start_time": "2023-06-26T22:32:58.875Z"
   },
   {
    "duration": 31299,
    "start_time": "2023-06-26T22:44:44.860Z"
   },
   {
    "duration": 299,
    "start_time": "2023-06-26T22:45:16.160Z"
   },
   {
    "duration": 16,
    "start_time": "2023-06-26T22:49:26.893Z"
   },
   {
    "duration": 11,
    "start_time": "2023-06-26T22:50:23.723Z"
   },
   {
    "duration": 4,
    "start_time": "2023-06-26T22:50:32.374Z"
   },
   {
    "duration": 13,
    "start_time": "2023-06-26T22:50:38.896Z"
   },
   {
    "duration": 519,
    "start_time": "2023-06-26T22:52:36.930Z"
   },
   {
    "duration": 0,
    "start_time": "2023-06-26T23:46:48.751Z"
   },
   {
    "duration": 1231,
    "start_time": "2023-06-26T23:54:54.542Z"
   },
   {
    "duration": 898,
    "start_time": "2023-06-26T23:54:55.775Z"
   },
   {
    "duration": 22,
    "start_time": "2023-06-26T23:54:56.674Z"
   },
   {
    "duration": 131,
    "start_time": "2023-06-26T23:54:56.697Z"
   },
   {
    "duration": 123,
    "start_time": "2023-06-26T23:54:56.831Z"
   },
   {
    "duration": 15,
    "start_time": "2023-06-26T23:54:56.955Z"
   },
   {
    "duration": 37,
    "start_time": "2023-06-26T23:54:56.972Z"
   },
   {
    "duration": 209,
    "start_time": "2023-06-26T23:54:57.012Z"
   },
   {
    "duration": 76,
    "start_time": "2023-06-26T23:54:57.223Z"
   },
   {
    "duration": 1012,
    "start_time": "2023-06-26T23:54:57.301Z"
   },
   {
    "duration": 613,
    "start_time": "2023-06-26T23:54:58.315Z"
   },
   {
    "duration": 3,
    "start_time": "2023-06-26T23:54:58.930Z"
   },
   {
    "duration": 711268,
    "start_time": "2023-06-26T23:54:58.935Z"
   },
   {
    "duration": 18304,
    "start_time": "2023-06-27T00:06:50.207Z"
   },
   {
    "duration": 30266,
    "start_time": "2023-06-27T00:07:08.513Z"
   },
   {
    "duration": 17581,
    "start_time": "2023-06-27T00:07:38.782Z"
   },
   {
    "duration": 31040,
    "start_time": "2023-06-27T00:09:05.013Z"
   },
   {
    "duration": 52,
    "start_time": "2023-06-28T20:20:36.699Z"
   },
   {
    "duration": 1700,
    "start_time": "2023-06-28T20:20:51.226Z"
   },
   {
    "duration": 97,
    "start_time": "2023-06-28T20:21:01.652Z"
   },
   {
    "duration": 1291,
    "start_time": "2023-06-28T20:21:10.604Z"
   },
   {
    "duration": 3140,
    "start_time": "2023-06-28T20:21:11.897Z"
   },
   {
    "duration": 24,
    "start_time": "2023-06-28T20:21:15.039Z"
   },
   {
    "duration": 127,
    "start_time": "2023-06-28T20:21:15.065Z"
   },
   {
    "duration": 130,
    "start_time": "2023-06-28T20:21:15.195Z"
   },
   {
    "duration": 6,
    "start_time": "2023-06-28T20:21:15.327Z"
   },
   {
    "duration": 39,
    "start_time": "2023-06-28T20:21:15.335Z"
   },
   {
    "duration": 621,
    "start_time": "2023-06-28T20:21:15.376Z"
   },
   {
    "duration": 234,
    "start_time": "2023-06-28T20:21:15.999Z"
   },
   {
    "duration": 74,
    "start_time": "2023-06-28T20:21:16.235Z"
   },
   {
    "duration": 866,
    "start_time": "2023-06-28T20:21:16.311Z"
   },
   {
    "duration": 550,
    "start_time": "2023-06-28T20:21:17.178Z"
   },
   {
    "duration": 3,
    "start_time": "2023-06-28T20:21:17.730Z"
   },
   {
    "duration": 43661,
    "start_time": "2023-06-28T20:21:17.734Z"
   },
   {
    "duration": 105,
    "start_time": "2023-06-28T20:22:01.397Z"
   },
   {
    "duration": 2159,
    "start_time": "2023-06-28T20:23:02.451Z"
   },
   {
    "duration": 1548,
    "start_time": "2023-06-28T20:23:06.069Z"
   },
   {
    "duration": 16,
    "start_time": "2023-06-28T20:23:08.607Z"
   },
   {
    "duration": 146,
    "start_time": "2023-06-28T20:23:10.506Z"
   },
   {
    "duration": 152,
    "start_time": "2023-06-28T20:23:11.354Z"
   },
   {
    "duration": 6,
    "start_time": "2023-06-28T20:23:13.303Z"
   },
   {
    "duration": 26,
    "start_time": "2023-06-28T20:23:16.201Z"
   },
   {
    "duration": 1407,
    "start_time": "2023-06-28T20:23:17.712Z"
   },
   {
    "duration": 1505,
    "start_time": "2023-06-28T20:23:56.754Z"
   },
   {
    "duration": 922,
    "start_time": "2023-06-28T20:23:58.261Z"
   },
   {
    "duration": 18,
    "start_time": "2023-06-28T20:23:59.185Z"
   },
   {
    "duration": 145,
    "start_time": "2023-06-28T20:23:59.205Z"
   },
   {
    "duration": 136,
    "start_time": "2023-06-28T20:23:59.352Z"
   },
   {
    "duration": 8,
    "start_time": "2023-06-28T20:23:59.490Z"
   },
   {
    "duration": 2,
    "start_time": "2023-06-28T20:24:01.115Z"
   },
   {
    "duration": 1441,
    "start_time": "2023-06-28T21:17:03.704Z"
   },
   {
    "duration": 828,
    "start_time": "2023-06-28T21:17:05.147Z"
   },
   {
    "duration": 16,
    "start_time": "2023-06-28T21:17:06.609Z"
   },
   {
    "duration": 135,
    "start_time": "2023-06-28T21:17:08.829Z"
   },
   {
    "duration": 120,
    "start_time": "2023-06-28T21:17:12.201Z"
   },
   {
    "duration": 6,
    "start_time": "2023-06-28T21:17:12.633Z"
   },
   {
    "duration": 1580,
    "start_time": "2023-06-28T21:19:00.209Z"
   },
   {
    "duration": 76,
    "start_time": "2023-06-28T21:19:12.468Z"
   },
   {
    "duration": 24,
    "start_time": "2023-06-28T21:19:29.293Z"
   },
   {
    "duration": 256,
    "start_time": "2023-06-28T21:19:33.852Z"
   },
   {
    "duration": 341,
    "start_time": "2023-06-28T21:21:29.751Z"
   },
   {
    "duration": 345,
    "start_time": "2023-06-28T21:22:17.930Z"
   },
   {
    "duration": 412,
    "start_time": "2023-06-28T21:23:09.714Z"
   },
   {
    "duration": 445,
    "start_time": "2023-06-28T21:23:27.597Z"
   },
   {
    "duration": 614,
    "start_time": "2023-06-28T21:24:54.422Z"
   },
   {
    "duration": 105,
    "start_time": "2023-06-28T21:59:38.645Z"
   },
   {
    "duration": 1449,
    "start_time": "2023-06-28T22:03:31.802Z"
   },
   {
    "duration": 874,
    "start_time": "2023-06-28T22:03:33.253Z"
   },
   {
    "duration": 23,
    "start_time": "2023-06-28T22:03:34.129Z"
   },
   {
    "duration": 150,
    "start_time": "2023-06-28T22:03:34.154Z"
   },
   {
    "duration": 122,
    "start_time": "2023-06-28T22:03:34.306Z"
   },
   {
    "duration": 5,
    "start_time": "2023-06-28T22:03:34.430Z"
   },
   {
    "duration": 48,
    "start_time": "2023-06-28T22:03:34.437Z"
   },
   {
    "duration": 271,
    "start_time": "2023-06-28T22:03:34.486Z"
   },
   {
    "duration": 94,
    "start_time": "2023-06-28T22:03:34.759Z"
   },
   {
    "duration": 801,
    "start_time": "2023-06-28T22:03:34.855Z"
   },
   {
    "duration": 572,
    "start_time": "2023-06-28T22:03:35.657Z"
   },
   {
    "duration": 115,
    "start_time": "2023-06-28T22:03:36.230Z"
   },
   {
    "duration": 0,
    "start_time": "2023-06-28T22:03:36.346Z"
   },
   {
    "duration": 0,
    "start_time": "2023-06-28T22:03:36.347Z"
   },
   {
    "duration": 0,
    "start_time": "2023-06-28T22:03:36.349Z"
   },
   {
    "duration": 12,
    "start_time": "2023-06-28T22:03:49.611Z"
   },
   {
    "duration": 4,
    "start_time": "2023-06-28T22:03:56.596Z"
   },
   {
    "duration": 2007838,
    "start_time": "2023-06-28T22:04:02.739Z"
   },
   {
    "duration": 1565,
    "start_time": "2023-06-28T22:40:43.992Z"
   },
   {
    "duration": 858,
    "start_time": "2023-06-28T22:40:45.559Z"
   },
   {
    "duration": 15,
    "start_time": "2023-06-28T22:40:46.418Z"
   },
   {
    "duration": 140,
    "start_time": "2023-06-28T22:40:46.435Z"
   },
   {
    "duration": 124,
    "start_time": "2023-06-28T22:40:46.577Z"
   },
   {
    "duration": 6,
    "start_time": "2023-06-28T22:40:46.702Z"
   },
   {
    "duration": 22,
    "start_time": "2023-06-28T22:40:46.710Z"
   },
   {
    "duration": 255,
    "start_time": "2023-06-28T22:40:46.734Z"
   },
   {
    "duration": 112,
    "start_time": "2023-06-28T22:40:46.991Z"
   },
   {
    "duration": 839,
    "start_time": "2023-06-28T22:40:47.104Z"
   },
   {
    "duration": 587,
    "start_time": "2023-06-28T22:40:47.945Z"
   },
   {
    "duration": 4,
    "start_time": "2023-06-28T22:40:48.534Z"
   },
   {
    "duration": 620185,
    "start_time": "2023-06-28T22:40:48.540Z"
   },
   {
    "duration": 3,
    "start_time": "2023-06-28T22:51:08.727Z"
   },
   {
    "duration": 46542,
    "start_time": "2023-06-28T22:51:08.731Z"
   },
   {
    "duration": 1557,
    "start_time": "2023-06-28T23:16:22.890Z"
   },
   {
    "duration": 845,
    "start_time": "2023-06-28T23:16:24.448Z"
   },
   {
    "duration": 17,
    "start_time": "2023-06-28T23:16:25.295Z"
   },
   {
    "duration": 129,
    "start_time": "2023-06-28T23:16:25.314Z"
   },
   {
    "duration": 135,
    "start_time": "2023-06-28T23:16:25.445Z"
   },
   {
    "duration": 10,
    "start_time": "2023-06-28T23:16:25.582Z"
   },
   {
    "duration": 39,
    "start_time": "2023-06-28T23:16:25.593Z"
   },
   {
    "duration": 247,
    "start_time": "2023-06-28T23:16:25.633Z"
   },
   {
    "duration": 107,
    "start_time": "2023-06-28T23:16:25.882Z"
   },
   {
    "duration": 789,
    "start_time": "2023-06-28T23:16:25.991Z"
   },
   {
    "duration": 567,
    "start_time": "2023-06-28T23:16:26.782Z"
   },
   {
    "duration": 3647929,
    "start_time": "2023-06-28T23:16:27.351Z"
   },
   {
    "duration": 584392,
    "start_time": "2023-06-29T00:17:15.282Z"
   },
   {
    "duration": 45,
    "start_time": "2023-06-29T09:58:51.913Z"
   },
   {
    "duration": 1502,
    "start_time": "2023-06-29T09:59:41.060Z"
   },
   {
    "duration": 2931,
    "start_time": "2023-06-29T09:59:46.131Z"
   },
   {
    "duration": 15,
    "start_time": "2023-06-29T09:59:49.092Z"
   },
   {
    "duration": 141,
    "start_time": "2023-06-29T09:59:49.689Z"
   },
   {
    "duration": 144,
    "start_time": "2023-06-29T09:59:52.063Z"
   },
   {
    "duration": 7,
    "start_time": "2023-06-29T09:59:54.227Z"
   },
   {
    "duration": 34,
    "start_time": "2023-06-29T09:59:56.545Z"
   },
   {
    "duration": 246,
    "start_time": "2023-06-29T09:59:59.443Z"
   },
   {
    "duration": 104,
    "start_time": "2023-06-29T10:00:03.047Z"
   },
   {
    "duration": 839,
    "start_time": "2023-06-29T10:00:08.040Z"
   },
   {
    "duration": 534,
    "start_time": "2023-06-29T10:00:15.650Z"
   },
   {
    "duration": 67,
    "start_time": "2023-06-29T11:27:03.957Z"
   },
   {
    "duration": 2119,
    "start_time": "2023-06-29T11:27:48.788Z"
   },
   {
    "duration": 3220,
    "start_time": "2023-06-29T11:27:50.909Z"
   },
   {
    "duration": 19,
    "start_time": "2023-06-29T11:27:54.132Z"
   },
   {
    "duration": 165,
    "start_time": "2023-06-29T11:27:54.154Z"
   },
   {
    "duration": 129,
    "start_time": "2023-06-29T11:27:54.321Z"
   },
   {
    "duration": 6,
    "start_time": "2023-06-29T11:27:54.451Z"
   },
   {
    "duration": 43,
    "start_time": "2023-06-29T11:27:54.458Z"
   },
   {
    "duration": 246,
    "start_time": "2023-06-29T11:27:54.503Z"
   },
   {
    "duration": 113,
    "start_time": "2023-06-29T11:27:54.752Z"
   },
   {
    "duration": 877,
    "start_time": "2023-06-29T11:27:54.867Z"
   },
   {
    "duration": 567,
    "start_time": "2023-06-29T11:27:55.746Z"
   },
   {
    "duration": 2,
    "start_time": "2023-06-29T11:27:56.315Z"
   },
   {
    "duration": 12,
    "start_time": "2023-06-29T11:27:56.318Z"
   },
   {
    "duration": 2648678,
    "start_time": "2023-06-29T11:27:56.332Z"
   },
   {
    "duration": 1642,
    "start_time": "2023-06-30T12:36:33.230Z"
   },
   {
    "duration": 3129,
    "start_time": "2023-06-30T12:36:34.874Z"
   },
   {
    "duration": 31,
    "start_time": "2023-06-30T12:36:38.005Z"
   },
   {
    "duration": 261,
    "start_time": "2023-06-30T12:36:38.039Z"
   },
   {
    "duration": 174,
    "start_time": "2023-06-30T12:36:38.301Z"
   },
   {
    "duration": 6,
    "start_time": "2023-06-30T12:36:38.478Z"
   },
   {
    "duration": 28,
    "start_time": "2023-06-30T12:36:38.486Z"
   },
   {
    "duration": 306,
    "start_time": "2023-06-30T12:36:38.517Z"
   },
   {
    "duration": 129,
    "start_time": "2023-06-30T12:36:38.824Z"
   },
   {
    "duration": 129,
    "start_time": "2023-06-30T12:36:38.958Z"
   },
   {
    "duration": 0,
    "start_time": "2023-06-30T12:36:39.089Z"
   },
   {
    "duration": 0,
    "start_time": "2023-06-30T12:36:39.091Z"
   },
   {
    "duration": 0,
    "start_time": "2023-06-30T12:36:39.092Z"
   },
   {
    "duration": 0,
    "start_time": "2023-06-30T12:36:39.094Z"
   },
   {
    "duration": 1,
    "start_time": "2023-06-30T12:36:39.095Z"
   },
   {
    "duration": 0,
    "start_time": "2023-06-30T12:36:39.097Z"
   },
   {
    "duration": 0,
    "start_time": "2023-06-30T12:36:39.099Z"
   },
   {
    "duration": 0,
    "start_time": "2023-06-30T12:36:39.100Z"
   },
   {
    "duration": 0,
    "start_time": "2023-06-30T12:36:39.102Z"
   },
   {
    "duration": 531,
    "start_time": "2023-06-30T12:47:04.846Z"
   },
   {
    "duration": 5,
    "start_time": "2023-06-30T12:47:11.000Z"
   },
   {
    "duration": 5,
    "start_time": "2023-06-30T12:47:18.559Z"
   },
   {
    "duration": 5,
    "start_time": "2023-06-30T12:47:50.485Z"
   },
   {
    "duration": 999,
    "start_time": "2023-06-30T12:49:44.506Z"
   },
   {
    "duration": 1255,
    "start_time": "2023-06-30T12:49:45.508Z"
   },
   {
    "duration": 30538,
    "start_time": "2023-06-30T12:49:46.765Z"
   },
   {
    "duration": 0,
    "start_time": "2023-06-30T12:50:17.306Z"
   },
   {
    "duration": 0,
    "start_time": "2023-06-30T12:50:17.308Z"
   },
   {
    "duration": 0,
    "start_time": "2023-06-30T12:50:17.310Z"
   },
   {
    "duration": 0,
    "start_time": "2023-06-30T12:50:17.311Z"
   },
   {
    "duration": 0,
    "start_time": "2023-06-30T12:50:17.313Z"
   },
   {
    "duration": 0,
    "start_time": "2023-06-30T12:50:17.314Z"
   },
   {
    "duration": 0,
    "start_time": "2023-06-30T12:50:17.316Z"
   },
   {
    "duration": 18,
    "start_time": "2023-06-30T12:50:18.957Z"
   },
   {
    "duration": 24,
    "start_time": "2023-06-30T12:50:37.520Z"
   },
   {
    "duration": 496930,
    "start_time": "2023-06-30T12:53:36.947Z"
   },
   {
    "duration": 0,
    "start_time": "2023-06-30T13:01:53.880Z"
   },
   {
    "duration": 0,
    "start_time": "2023-06-30T13:01:53.881Z"
   },
   {
    "duration": 0,
    "start_time": "2023-06-30T13:01:53.883Z"
   },
   {
    "duration": 0,
    "start_time": "2023-06-30T13:01:53.884Z"
   },
   {
    "duration": 0,
    "start_time": "2023-06-30T13:01:53.885Z"
   },
   {
    "duration": 0,
    "start_time": "2023-06-30T13:01:53.887Z"
   }
  ],
  "kernelspec": {
   "display_name": "Python 3 (ipykernel)",
   "language": "python",
   "name": "python3"
  },
  "language_info": {
   "codemirror_mode": {
    "name": "ipython",
    "version": 3
   },
   "file_extension": ".py",
   "mimetype": "text/x-python",
   "name": "python",
   "nbconvert_exporter": "python",
   "pygments_lexer": "ipython3",
   "version": "3.9.5"
  },
  "toc": {
   "base_numbering": 1,
   "nav_menu": {},
   "number_sections": true,
   "sideBar": true,
   "skip_h1_title": true,
   "title_cell": "Table of Contents",
   "title_sidebar": "Contents",
   "toc_cell": false,
   "toc_position": {},
   "toc_section_display": true,
   "toc_window_display": false
  }
 },
 "nbformat": 4,
 "nbformat_minor": 2
}
