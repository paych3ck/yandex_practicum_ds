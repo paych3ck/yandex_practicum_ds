{
 "cells": [
  {
   "cell_type": "markdown",
   "metadata": {},
   "source": [
    "# Рекомендация тарифов"
   ]
  },
  {
   "cell_type": "markdown",
   "metadata": {},
   "source": [
    "В вашем распоряжении данные о поведении клиентов, которые уже перешли на эти тарифы (из проекта курса «Статистический анализ данных»). Нужно построить модель для задачи классификации, которая выберет подходящий тариф. Предобработка данных не понадобится — вы её уже сделали.\n",
    "\n",
    "Постройте модель с максимально большим значением *accuracy*. Чтобы сдать проект успешно, нужно довести долю правильных ответов по крайней мере до 0.75. Проверьте *accuracy* на тестовой выборке самостоятельно."
   ]
  },
  {
   "cell_type": "markdown",
   "metadata": {},
   "source": [
    "## Откройте и изучите файл"
   ]
  },
  {
   "cell_type": "code",
   "execution_count": 1,
   "metadata": {},
   "outputs": [],
   "source": [
    "import pandas as pd\n",
    "from sklearn.metrics import accuracy_score\n",
    "from sklearn.model_selection import train_test_split\n",
    "from sklearn.tree import DecisionTreeClassifier\n",
    "from sklearn.ensemble import RandomForestClassifier"
   ]
  },
  {
   "cell_type": "markdown",
   "metadata": {},
   "source": [
    "Подключение необходимых библиотек - **pandas** и **sklearn**."
   ]
  },
  {
   "cell_type": "code",
   "execution_count": 2,
   "metadata": {},
   "outputs": [
    {
     "name": "stdout",
     "output_type": "stream",
     "text": [
      "<class 'pandas.core.frame.DataFrame'>\n",
      "RangeIndex: 3214 entries, 0 to 3213\n",
      "Data columns (total 5 columns):\n",
      " #   Column    Non-Null Count  Dtype  \n",
      "---  ------    --------------  -----  \n",
      " 0   calls     3214 non-null   float64\n",
      " 1   minutes   3214 non-null   float64\n",
      " 2   messages  3214 non-null   float64\n",
      " 3   mb_used   3214 non-null   float64\n",
      " 4   is_ultra  3214 non-null   int64  \n",
      "dtypes: float64(4), int64(1)\n",
      "memory usage: 125.7 KB\n"
     ]
    }
   ],
   "source": [
    "df = pd.read_csv('/datasets/users_behavior.csv')\n",
    "df.info()"
   ]
  },
  {
   "cell_type": "markdown",
   "metadata": {},
   "source": [
    "Общая информация о датасете."
   ]
  },
  {
   "cell_type": "code",
   "execution_count": 3,
   "metadata": {},
   "outputs": [
    {
     "data": {
      "text/html": [
       "<div>\n",
       "<style scoped>\n",
       "    .dataframe tbody tr th:only-of-type {\n",
       "        vertical-align: middle;\n",
       "    }\n",
       "\n",
       "    .dataframe tbody tr th {\n",
       "        vertical-align: top;\n",
       "    }\n",
       "\n",
       "    .dataframe thead th {\n",
       "        text-align: right;\n",
       "    }\n",
       "</style>\n",
       "<table border=\"1\" class=\"dataframe\">\n",
       "  <thead>\n",
       "    <tr style=\"text-align: right;\">\n",
       "      <th></th>\n",
       "      <th>calls</th>\n",
       "      <th>minutes</th>\n",
       "      <th>messages</th>\n",
       "      <th>mb_used</th>\n",
       "      <th>is_ultra</th>\n",
       "    </tr>\n",
       "  </thead>\n",
       "  <tbody>\n",
       "    <tr>\n",
       "      <th>0</th>\n",
       "      <td>40.0</td>\n",
       "      <td>311.90</td>\n",
       "      <td>83.0</td>\n",
       "      <td>19915.42</td>\n",
       "      <td>0</td>\n",
       "    </tr>\n",
       "    <tr>\n",
       "      <th>1</th>\n",
       "      <td>85.0</td>\n",
       "      <td>516.75</td>\n",
       "      <td>56.0</td>\n",
       "      <td>22696.96</td>\n",
       "      <td>0</td>\n",
       "    </tr>\n",
       "    <tr>\n",
       "      <th>2</th>\n",
       "      <td>77.0</td>\n",
       "      <td>467.66</td>\n",
       "      <td>86.0</td>\n",
       "      <td>21060.45</td>\n",
       "      <td>0</td>\n",
       "    </tr>\n",
       "    <tr>\n",
       "      <th>3</th>\n",
       "      <td>106.0</td>\n",
       "      <td>745.53</td>\n",
       "      <td>81.0</td>\n",
       "      <td>8437.39</td>\n",
       "      <td>1</td>\n",
       "    </tr>\n",
       "    <tr>\n",
       "      <th>4</th>\n",
       "      <td>66.0</td>\n",
       "      <td>418.74</td>\n",
       "      <td>1.0</td>\n",
       "      <td>14502.75</td>\n",
       "      <td>0</td>\n",
       "    </tr>\n",
       "  </tbody>\n",
       "</table>\n",
       "</div>"
      ],
      "text/plain": [
       "   calls  minutes  messages   mb_used  is_ultra\n",
       "0   40.0   311.90      83.0  19915.42         0\n",
       "1   85.0   516.75      56.0  22696.96         0\n",
       "2   77.0   467.66      86.0  21060.45         0\n",
       "3  106.0   745.53      81.0   8437.39         1\n",
       "4   66.0   418.74       1.0  14502.75         0"
      ]
     },
     "execution_count": 3,
     "metadata": {},
     "output_type": "execute_result"
    }
   ],
   "source": [
    "df.head()"
   ]
  },
  {
   "cell_type": "markdown",
   "metadata": {},
   "source": [
    "Первые пять строк датасета."
   ]
  },
  {
   "cell_type": "markdown",
   "metadata": {},
   "source": [
    "## Разбейте данные на выборки"
   ]
  },
  {
   "cell_type": "code",
   "execution_count": 4,
   "metadata": {},
   "outputs": [],
   "source": [
    "df_main, df_test = train_test_split(df, test_size=0.2, random_state=12345)\n",
    "df_train, df_valid = train_test_split(df_main, test_size=0.25, random_state=12345)\n",
    "\n",
    "features_train = df_train.drop('is_ultra', axis=1)\n",
    "target_train = df_train['is_ultra']\n",
    "\n",
    "features_valid = df_valid.drop('is_ultra', axis=1)\n",
    "target_valid = df_valid['is_ultra']"
   ]
  },
  {
   "cell_type": "markdown",
   "metadata": {},
   "source": [
    "Данные были разбиты на обучающую, валидационную и тестовую выборки."
   ]
  },
  {
   "cell_type": "markdown",
   "metadata": {},
   "source": [
    "## Исследуйте модели"
   ]
  },
  {
   "cell_type": "markdown",
   "metadata": {},
   "source": [
    "**Модель - DecisionTreeClassifier.**"
   ]
  },
  {
   "cell_type": "code",
   "execution_count": 5,
   "metadata": {},
   "outputs": [
    {
     "name": "stdout",
     "output_type": "stream",
     "text": [
      "max_depth = 1 : 0.7387247278382582\n",
      "max_depth = 2 : 0.7573872472783826\n",
      "max_depth = 3 : 0.7651632970451011\n",
      "max_depth = 4 : 0.7636080870917574\n",
      "max_depth = 5 : 0.7589424572317263\n"
     ]
    }
   ],
   "source": [
    "for depth in range(1, 6):\n",
    "    model = DecisionTreeClassifier(random_state=12345, max_depth=depth)\n",
    "    model.fit(features_train, target_train)\n",
    "    predictions_valid = model.predict(features_valid)\n",
    "    print(\"max_depth =\", depth, \": \", end='')\n",
    "    print(accuracy_score(target_valid, predictions_valid)) "
   ]
  },
  {
   "cell_type": "markdown",
   "metadata": {},
   "source": [
    "С использованием модели DecisionTreeClassifier лучше всего параметр accuracy получается при гиперпараметре max_depth равном 4 (0.7978227060653188)"
   ]
  },
  {
   "cell_type": "markdown",
   "metadata": {},
   "source": [
    "**Модель - RandomForestClassifier.**"
   ]
  },
  {
   "cell_type": "code",
   "execution_count": 6,
   "metadata": {},
   "outputs": [
    {
     "name": "stdout",
     "output_type": "stream",
     "text": [
      "n_estimators = 1 : 0.702954898911353\n",
      "n_estimators = 2 : 0.7573872472783826\n",
      "n_estimators = 3 : 0.744945567651633\n",
      "n_estimators = 4 : 0.7651632970451011\n",
      "n_estimators = 5 : 0.7620528771384136\n"
     ]
    }
   ],
   "source": [
    "for est in range(1, 6):\n",
    "    model = RandomForestClassifier(random_state=12345, n_estimators=est)\n",
    "    model.fit(features_train, target_train)\n",
    "    predictions_valid = model.predict(features_valid)\n",
    "    print('n_estimators =', est, ': ', end='')\n",
    "    print(accuracy_score(target_valid, predictions_valid))"
   ]
  },
  {
   "cell_type": "markdown",
   "metadata": {},
   "source": [
    "С использованием модели RandomForestClassifier лучше всего параметр accuracy получается при гиперпараметре n_estimators равном 2 (0.7589424572317263)"
   ]
  },
  {
   "cell_type": "markdown",
   "metadata": {},
   "source": [
    "В качестве лучшей модели выберем DecisionTreeClassifier с гиперпараметром max_depth равным 4."
   ]
  },
  {
   "cell_type": "markdown",
   "metadata": {},
   "source": [
    "## Проверьте модель на тестовой выборке"
   ]
  },
  {
   "cell_type": "code",
   "execution_count": 9,
   "metadata": {},
   "outputs": [
    {
     "name": "stdout",
     "output_type": "stream",
     "text": [
      "Точность модели: 0.7651632970451011\n"
     ]
    }
   ],
   "source": [
    "features_test = df_test.drop('is_ultra', axis=1)\n",
    "target_test = df_test['is_ultra']\n",
    "\n",
    "best_model = DecisionTreeClassifier(random_state=12345, max_depth=4)\n",
    "best_model.fit(features_train, target_train)\n",
    "best_predictions = best_model.predict(features_test)\n",
    "print(f'Точность модели: {accuracy_score(target_test, best_predictions)}')"
   ]
  },
  {
   "cell_type": "markdown",
   "metadata": {},
   "source": [
    "Выбранная модель - **DecisionTreeClassifier** - отлично показала себя на тестовых данных: точность 77%."
   ]
  },
  {
   "cell_type": "markdown",
   "metadata": {},
   "source": [
    "## Вывод"
   ]
  },
  {
   "cell_type": "markdown",
   "metadata": {},
   "source": [
    "Был проанализирован датафрейм с информацией о поведении клиентов и их тарифах. Данные были разбиты на выборки - обучающая, валидационная и тестовая. Затем были исследованы две модели - **DecisionTreeClassifier** и **RandomForestClassifier**. На валидационной выборке лучше всего себя показала модель **DecisionTreeClassifier** с гиперпараметром *max_depth* равным 4. Далее данная модель была проверена на тестовой выборке - она отлично показала себя на тестовых данных с точностью (*accuracy*) **77%**."
   ]
  }
 ],
 "metadata": {
  "ExecuteTimeLog": [
   {
    "duration": 418,
    "start_time": "2023-03-17T15:31:48.901Z"
   },
   {
    "duration": 79,
    "start_time": "2023-03-17T15:31:50.501Z"
   },
   {
    "duration": 34,
    "start_time": "2023-03-17T15:32:07.757Z"
   },
   {
    "duration": 17,
    "start_time": "2023-03-17T15:32:21.075Z"
   },
   {
    "duration": 76,
    "start_time": "2023-03-17T15:33:30.412Z"
   },
   {
    "duration": 8,
    "start_time": "2023-03-17T15:33:32.992Z"
   },
   {
    "duration": 15,
    "start_time": "2023-03-17T15:33:34.411Z"
   },
   {
    "duration": 6,
    "start_time": "2023-03-17T15:33:39.163Z"
   },
   {
    "duration": 11,
    "start_time": "2023-03-17T15:36:18.953Z"
   },
   {
    "duration": 10,
    "start_time": "2023-03-17T15:36:23.651Z"
   },
   {
    "duration": 1250,
    "start_time": "2023-03-17T15:36:29.179Z"
   },
   {
    "duration": 42,
    "start_time": "2023-03-17T15:36:30.431Z"
   },
   {
    "duration": 19,
    "start_time": "2023-03-17T15:36:30.475Z"
   },
   {
    "duration": 38,
    "start_time": "2023-03-17T15:36:30.501Z"
   },
   {
    "duration": 71,
    "start_time": "2023-03-17T15:44:44.009Z"
   },
   {
    "duration": 1116,
    "start_time": "2023-04-09T10:38:09.350Z"
   },
   {
    "duration": 122,
    "start_time": "2023-04-09T10:38:10.935Z"
   },
   {
    "duration": 16,
    "start_time": "2023-04-09T10:38:12.581Z"
   },
   {
    "duration": 8,
    "start_time": "2023-04-09T10:38:14.199Z"
   },
   {
    "duration": 109,
    "start_time": "2023-04-09T12:50:59.637Z"
   },
   {
    "duration": 2,
    "start_time": "2023-04-09T12:51:12.424Z"
   },
   {
    "duration": 39,
    "start_time": "2023-04-09T12:51:14.844Z"
   },
   {
    "duration": 36,
    "start_time": "2023-04-09T13:04:12.344Z"
   },
   {
    "duration": 8,
    "start_time": "2023-04-09T13:04:40.932Z"
   },
   {
    "duration": 80,
    "start_time": "2023-04-09T15:05:28.831Z"
   },
   {
    "duration": 1331,
    "start_time": "2023-04-09T15:05:40.496Z"
   },
   {
    "duration": 223,
    "start_time": "2023-04-09T15:05:41.830Z"
   },
   {
    "duration": 38,
    "start_time": "2023-04-09T15:05:42.055Z"
   },
   {
    "duration": 21,
    "start_time": "2023-04-09T15:05:42.097Z"
   },
   {
    "duration": 41,
    "start_time": "2023-04-09T15:05:42.121Z"
   },
   {
    "duration": 160,
    "start_time": "2023-04-09T15:05:42.164Z"
   },
   {
    "duration": 141,
    "start_time": "2023-04-09T15:05:56.191Z"
   },
   {
    "duration": 300,
    "start_time": "2023-04-09T15:09:12.310Z"
   },
   {
    "duration": 407,
    "start_time": "2023-04-09T15:09:24.916Z"
   },
   {
    "duration": 91,
    "start_time": "2023-04-09T15:10:27.231Z"
   },
   {
    "duration": 60,
    "start_time": "2023-04-09T15:10:33.521Z"
   },
   {
    "duration": 409,
    "start_time": "2023-04-09T15:10:42.573Z"
   },
   {
    "duration": 96,
    "start_time": "2023-04-09T15:15:30.410Z"
   },
   {
    "duration": 308,
    "start_time": "2023-04-09T15:15:33.711Z"
   },
   {
    "duration": 3,
    "start_time": "2023-04-09T15:29:55.223Z"
   },
   {
    "duration": 17,
    "start_time": "2023-04-09T15:33:45.713Z"
   },
   {
    "duration": 13,
    "start_time": "2023-04-09T15:33:51.119Z"
   },
   {
    "duration": 10,
    "start_time": "2023-04-09T15:34:33.515Z"
   },
   {
    "duration": 1516,
    "start_time": "2023-04-09T15:34:38.914Z"
   },
   {
    "duration": 75,
    "start_time": "2023-04-09T15:34:40.433Z"
   },
   {
    "duration": 21,
    "start_time": "2023-04-09T15:34:40.512Z"
   },
   {
    "duration": 13,
    "start_time": "2023-04-09T15:34:40.535Z"
   },
   {
    "duration": 70,
    "start_time": "2023-04-09T15:34:40.550Z"
   },
   {
    "duration": 142,
    "start_time": "2023-04-09T15:34:40.622Z"
   },
   {
    "duration": 27,
    "start_time": "2023-04-09T15:34:40.781Z"
   },
   {
    "duration": 20,
    "start_time": "2023-04-09T15:34:53.401Z"
   },
   {
    "duration": 58,
    "start_time": "2023-04-09T15:37:04.290Z"
   },
   {
    "duration": 28,
    "start_time": "2023-04-09T15:37:58.086Z"
   },
   {
    "duration": 38,
    "start_time": "2023-04-09T15:38:04.479Z"
   },
   {
    "duration": 103,
    "start_time": "2023-04-09T15:38:32.122Z"
   },
   {
    "duration": 192,
    "start_time": "2023-04-09T15:38:36.734Z"
   },
   {
    "duration": 80,
    "start_time": "2023-04-09T15:39:51.306Z"
   },
   {
    "duration": 104,
    "start_time": "2023-04-09T15:44:08.128Z"
   },
   {
    "duration": 140,
    "start_time": "2023-04-09T15:45:27.288Z"
   },
   {
    "duration": 103,
    "start_time": "2023-04-09T15:46:18.812Z"
   },
   {
    "duration": 31,
    "start_time": "2023-04-09T15:46:34.840Z"
   },
   {
    "duration": 1514,
    "start_time": "2023-04-09T15:46:42.157Z"
   },
   {
    "duration": 56,
    "start_time": "2023-04-09T15:46:43.685Z"
   },
   {
    "duration": 37,
    "start_time": "2023-04-09T15:46:43.746Z"
   },
   {
    "duration": 46,
    "start_time": "2023-04-09T15:46:43.792Z"
   },
   {
    "duration": 120,
    "start_time": "2023-04-09T15:46:43.840Z"
   },
   {
    "duration": 132,
    "start_time": "2023-04-09T15:46:43.969Z"
   },
   {
    "duration": 17,
    "start_time": "2023-04-09T15:46:44.103Z"
   },
   {
    "duration": 12,
    "start_time": "2023-04-09T15:47:22.113Z"
   },
   {
    "duration": 2315,
    "start_time": "2023-04-09T16:14:01.199Z"
   },
   {
    "duration": 66,
    "start_time": "2023-04-09T16:14:03.517Z"
   },
   {
    "duration": 14,
    "start_time": "2023-04-09T16:14:03.587Z"
   },
   {
    "duration": 10,
    "start_time": "2023-04-09T16:14:03.602Z"
   },
   {
    "duration": 41,
    "start_time": "2023-04-09T16:14:03.613Z"
   },
   {
    "duration": 92,
    "start_time": "2023-04-09T16:14:03.656Z"
   },
   {
    "duration": 14,
    "start_time": "2023-04-09T16:14:03.751Z"
   },
   {
    "duration": 28,
    "start_time": "2023-04-09T16:14:37.888Z"
   },
   {
    "duration": 2129,
    "start_time": "2023-04-09T16:17:43.615Z"
   },
   {
    "duration": 30,
    "start_time": "2023-04-09T16:17:45.746Z"
   },
   {
    "duration": 16,
    "start_time": "2023-04-09T16:17:45.777Z"
   },
   {
    "duration": 8,
    "start_time": "2023-04-09T16:17:45.795Z"
   },
   {
    "duration": 47,
    "start_time": "2023-04-09T16:17:45.804Z"
   },
   {
    "duration": 88,
    "start_time": "2023-04-09T16:17:45.853Z"
   },
   {
    "duration": 12,
    "start_time": "2023-04-09T16:17:45.942Z"
   },
   {
    "duration": 18,
    "start_time": "2023-04-09T18:16:35.233Z"
   }
  ],
  "kernelspec": {
   "display_name": "Python 3 (ipykernel)",
   "language": "python",
   "name": "python3"
  },
  "language_info": {
   "codemirror_mode": {
    "name": "ipython",
    "version": 3
   },
   "file_extension": ".py",
   "mimetype": "text/x-python",
   "name": "python",
   "nbconvert_exporter": "python",
   "pygments_lexer": "ipython3",
   "version": "3.9.5"
  },
  "toc": {
   "base_numbering": 1,
   "nav_menu": {},
   "number_sections": true,
   "sideBar": true,
   "skip_h1_title": true,
   "title_cell": "Table of Contents",
   "title_sidebar": "Contents",
   "toc_cell": false,
   "toc_position": {},
   "toc_section_display": true,
   "toc_window_display": true
  }
 },
 "nbformat": 4,
 "nbformat_minor": 2
}
