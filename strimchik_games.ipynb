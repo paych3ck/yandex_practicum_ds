{
 "cells": [
  {
   "cell_type": "markdown",
   "metadata": {},
   "source": [
    "# Описание проекта.\n"
   ]
  },
  {
   "cell_type": "markdown",
   "metadata": {},
   "source": [
    "Вы работаете в интернет-магазине «Стримчик», который продаёт по всему миру компьютерные игры. Из открытых источников доступны исторические данные о продажах игр, оценки пользователей и экспертов, жанры и платформы (например, Xbox или PlayStation). Вам нужно выявить определяющие успешность игры закономерности. Это позволит сделать ставку на потенциально популярный продукт и спланировать рекламные кампании.\n",
    "\n",
    "Перед вами данные до 2016 года. Представим, что сейчас декабрь 2016 г., и вы планируете кампанию на 2017-й. Нужно отработать принцип работы с данными. Неважно, прогнозируете ли вы продажи на 2017 год по данным 2016-го или же 2027-й — по данным 2026 года.\n",
    "\n",
    "В наборе данных попадается аббревиатура ESRB (Entertainment Software Rating Board) — это ассоциация, определяющая возрастной рейтинг компьютерных игр. ESRB оценивает игровой контент и присваивает ему подходящую возрастную категорию, например, «Для взрослых», «Для детей младшего возраста» или «Для подростков»."
   ]
  },
  {
   "cell_type": "markdown",
   "metadata": {},
   "source": [
    "# Структура проекта."
   ]
  },
  {
   "cell_type": "markdown",
   "metadata": {},
   "source": [
    "* **Первый шаг. Изучение общей информации о данных.**\n",
    "\n",
    "\n",
    "* **Второй шаг. Предобработка данных.**\n",
    "    * Приведение названий столбцов к нижнему регистру.\n",
    "    * Преобразование данных в столбцах к нужному типу.\n",
    "    * Обработка пропусков.\n",
    "    * Создание отдельного столбца с суммарными продажами во всех регионах.\n",
    "    \n",
    "    \n",
    "* **Третий шаг. Исследовательский анализ данных.**\n",
    "    * Сколько игр выпускалось в разные годы?\n",
    "    * Зависимость продаж от платформы.\n",
    "    * Выбор актуального периода для прогнозирования.\n",
    "    * Удаление данных за неактуальный период.\n",
    "    * Выбор потенциально прибыльных платформ.\n",
    "    * Построение графика *ящик с усами* по глобальным продажам игр в разбивке по платформам.\n",
    "    * Влияние отзывов пользователей и критиков на продажи. Построение диаграммы рассеяния и подсчет корреляции.\n",
    "    \n",
    "    \n",
    "* **Четвертый шаг. Составление портрета пользователя для каждого региона.**\n",
    "    * Самые популярные платформы в каждом регионе.\n",
    "    * Самые популярные жанры в каждом регионе.\n",
    "    * Самые частовстречающиеся рейтинги в каждом регионе.\n",
    "    \n",
    "    \n",
    "* **Пятый шаг. Проверка гипотез.**\n",
    "    * Средние пользовательские рейтинги платформ Xbox One и PC одинаковые.\n",
    "    * Средние пользовательские рейтинги жанров Action (англ. «действие», экшен-игры) и Sports (англ. «спортивные соревнования») разные.\n",
    "    \n",
    "    \n",
    "* **Шестой шаг. Вывод.**"
   ]
  },
  {
   "cell_type": "markdown",
   "metadata": {},
   "source": [
    "# Первый шаг. Изучение общей информации о данных."
   ]
  },
  {
   "cell_type": "code",
   "execution_count": 1,
   "metadata": {},
   "outputs": [],
   "source": [
    "import pandas as pd\n",
    "import numpy as np\n",
    "import matplotlib.pyplot as plt\n",
    "from scipy import stats as st"
   ]
  },
  {
   "cell_type": "markdown",
   "metadata": {},
   "source": [
    "Импорт библиотек *pandas*, *numpy*, *matplotlib* и *scipy*."
   ]
  },
  {
   "cell_type": "code",
   "execution_count": 2,
   "metadata": {},
   "outputs": [
    {
     "name": "stdout",
     "output_type": "stream",
     "text": [
      "<class 'pandas.core.frame.DataFrame'>\n",
      "RangeIndex: 16715 entries, 0 to 16714\n",
      "Data columns (total 11 columns):\n",
      " #   Column           Non-Null Count  Dtype  \n",
      "---  ------           --------------  -----  \n",
      " 0   Name             16713 non-null  object \n",
      " 1   Platform         16715 non-null  object \n",
      " 2   Year_of_Release  16446 non-null  float64\n",
      " 3   Genre            16713 non-null  object \n",
      " 4   NA_sales         16715 non-null  float64\n",
      " 5   EU_sales         16715 non-null  float64\n",
      " 6   JP_sales         16715 non-null  float64\n",
      " 7   Other_sales      16715 non-null  float64\n",
      " 8   Critic_Score     8137 non-null   float64\n",
      " 9   User_Score       10014 non-null  object \n",
      " 10  Rating           9949 non-null   object \n",
      "dtypes: float64(6), object(5)\n",
      "memory usage: 1.4+ MB\n"
     ]
    }
   ],
   "source": [
    "games = pd.read_csv('/datasets/games.csv')\n",
    "games.info()"
   ]
  },
  {
   "cell_type": "markdown",
   "metadata": {},
   "source": [
    "**Описание данных:**\n",
    "* Name — название игры.\n",
    "* Platform — платформа.\n",
    "* Year_of_Release — год выпуска.\n",
    "* Genre — жанр игры.\n",
    "* NA_sales — продажи в Северной Америке (миллионы проданных копий).\n",
    "* EU_sales — продажи в Европе (миллионы проданных копий).\n",
    "* JP_sales — продажи в Японии (миллионы проданных копий).\n",
    "* Other_sales — продажи в других странах (миллионы проданных копий).\n",
    "* Critic_Score — оценка критиков (максимум 100).\n",
    "* User_Score — оценка пользователей (максимум 10).\n",
    "* Rating — рейтинг от организации ESRB (англ. Entertainment Software Rating Board). Эта ассоциация определяет рейтинг компьютерных игр и присваивает им подходящую возрастную категорию."
   ]
  },
  {
   "cell_type": "code",
   "execution_count": 3,
   "metadata": {
    "scrolled": true
   },
   "outputs": [
    {
     "data": {
      "text/html": [
       "<div>\n",
       "<style scoped>\n",
       "    .dataframe tbody tr th:only-of-type {\n",
       "        vertical-align: middle;\n",
       "    }\n",
       "\n",
       "    .dataframe tbody tr th {\n",
       "        vertical-align: top;\n",
       "    }\n",
       "\n",
       "    .dataframe thead th {\n",
       "        text-align: right;\n",
       "    }\n",
       "</style>\n",
       "<table border=\"1\" class=\"dataframe\">\n",
       "  <thead>\n",
       "    <tr style=\"text-align: right;\">\n",
       "      <th></th>\n",
       "      <th>Name</th>\n",
       "      <th>Platform</th>\n",
       "      <th>Year_of_Release</th>\n",
       "      <th>Genre</th>\n",
       "      <th>NA_sales</th>\n",
       "      <th>EU_sales</th>\n",
       "      <th>JP_sales</th>\n",
       "      <th>Other_sales</th>\n",
       "      <th>Critic_Score</th>\n",
       "      <th>User_Score</th>\n",
       "      <th>Rating</th>\n",
       "    </tr>\n",
       "  </thead>\n",
       "  <tbody>\n",
       "    <tr>\n",
       "      <th>0</th>\n",
       "      <td>Wii Sports</td>\n",
       "      <td>Wii</td>\n",
       "      <td>2006.0</td>\n",
       "      <td>Sports</td>\n",
       "      <td>41.36</td>\n",
       "      <td>28.96</td>\n",
       "      <td>3.77</td>\n",
       "      <td>8.45</td>\n",
       "      <td>76.0</td>\n",
       "      <td>8</td>\n",
       "      <td>E</td>\n",
       "    </tr>\n",
       "    <tr>\n",
       "      <th>1</th>\n",
       "      <td>Super Mario Bros.</td>\n",
       "      <td>NES</td>\n",
       "      <td>1985.0</td>\n",
       "      <td>Platform</td>\n",
       "      <td>29.08</td>\n",
       "      <td>3.58</td>\n",
       "      <td>6.81</td>\n",
       "      <td>0.77</td>\n",
       "      <td>NaN</td>\n",
       "      <td>NaN</td>\n",
       "      <td>NaN</td>\n",
       "    </tr>\n",
       "    <tr>\n",
       "      <th>2</th>\n",
       "      <td>Mario Kart Wii</td>\n",
       "      <td>Wii</td>\n",
       "      <td>2008.0</td>\n",
       "      <td>Racing</td>\n",
       "      <td>15.68</td>\n",
       "      <td>12.76</td>\n",
       "      <td>3.79</td>\n",
       "      <td>3.29</td>\n",
       "      <td>82.0</td>\n",
       "      <td>8.3</td>\n",
       "      <td>E</td>\n",
       "    </tr>\n",
       "    <tr>\n",
       "      <th>3</th>\n",
       "      <td>Wii Sports Resort</td>\n",
       "      <td>Wii</td>\n",
       "      <td>2009.0</td>\n",
       "      <td>Sports</td>\n",
       "      <td>15.61</td>\n",
       "      <td>10.93</td>\n",
       "      <td>3.28</td>\n",
       "      <td>2.95</td>\n",
       "      <td>80.0</td>\n",
       "      <td>8</td>\n",
       "      <td>E</td>\n",
       "    </tr>\n",
       "    <tr>\n",
       "      <th>4</th>\n",
       "      <td>Pokemon Red/Pokemon Blue</td>\n",
       "      <td>GB</td>\n",
       "      <td>1996.0</td>\n",
       "      <td>Role-Playing</td>\n",
       "      <td>11.27</td>\n",
       "      <td>8.89</td>\n",
       "      <td>10.22</td>\n",
       "      <td>1.00</td>\n",
       "      <td>NaN</td>\n",
       "      <td>NaN</td>\n",
       "      <td>NaN</td>\n",
       "    </tr>\n",
       "  </tbody>\n",
       "</table>\n",
       "</div>"
      ],
      "text/plain": [
       "                       Name Platform  Year_of_Release         Genre  NA_sales  \\\n",
       "0                Wii Sports      Wii           2006.0        Sports     41.36   \n",
       "1         Super Mario Bros.      NES           1985.0      Platform     29.08   \n",
       "2            Mario Kart Wii      Wii           2008.0        Racing     15.68   \n",
       "3         Wii Sports Resort      Wii           2009.0        Sports     15.61   \n",
       "4  Pokemon Red/Pokemon Blue       GB           1996.0  Role-Playing     11.27   \n",
       "\n",
       "   EU_sales  JP_sales  Other_sales  Critic_Score User_Score Rating  \n",
       "0     28.96      3.77         8.45          76.0          8      E  \n",
       "1      3.58      6.81         0.77           NaN        NaN    NaN  \n",
       "2     12.76      3.79         3.29          82.0        8.3      E  \n",
       "3     10.93      3.28         2.95          80.0          8      E  \n",
       "4      8.89     10.22         1.00           NaN        NaN    NaN  "
      ]
     },
     "execution_count": 3,
     "metadata": {},
     "output_type": "execute_result"
    }
   ],
   "source": [
    "games.head()"
   ]
  },
  {
   "cell_type": "markdown",
   "metadata": {},
   "source": [
    "Вывод пяти первых строк датафрейма."
   ]
  },
  {
   "cell_type": "markdown",
   "metadata": {},
   "source": [
    "**Были подключены необходимые для работы библиотеки, описаны данные в датасете.**"
   ]
  },
  {
   "cell_type": "markdown",
   "metadata": {},
   "source": [
    "# Второй шаг. Предобработка данных."
   ]
  },
  {
   "cell_type": "code",
   "execution_count": 4,
   "metadata": {},
   "outputs": [],
   "source": [
    "games.columns = games.columns.str.lower()"
   ]
  },
  {
   "cell_type": "markdown",
   "metadata": {},
   "source": [
    "Теперь названия всех столбцов записаны в нижнем регистре."
   ]
  },
  {
   "cell_type": "code",
   "execution_count": 5,
   "metadata": {},
   "outputs": [],
   "source": [
    "games['year_of_release'] = games['year_of_release'].astype('Int64')"
   ]
  },
  {
   "cell_type": "markdown",
   "metadata": {},
   "source": [
    "Типы данных были изменены в столбцах *year_of_release* и *critic_score* с *float64* на *Int64*. В данных столбцах были указаны целочисленные значения, следовательно оставлять тип данных *float64* нет смысла."
   ]
  },
  {
   "cell_type": "code",
   "execution_count": 6,
   "metadata": {},
   "outputs": [
    {
     "data": {
      "text/plain": [
       "name                  2\n",
       "platform              0\n",
       "year_of_release     269\n",
       "genre                 2\n",
       "na_sales              0\n",
       "eu_sales              0\n",
       "jp_sales              0\n",
       "other_sales           0\n",
       "critic_score       8578\n",
       "user_score         6701\n",
       "rating             6766\n",
       "dtype: int64"
      ]
     },
     "execution_count": 6,
     "metadata": {},
     "output_type": "execute_result"
    }
   ],
   "source": [
    "games.isnull().sum()"
   ]
  },
  {
   "cell_type": "markdown",
   "metadata": {},
   "source": [
    "Количество пропусков в разных столбцах: слева название столбца, справа - количество пропусков в этом столбце."
   ]
  },
  {
   "cell_type": "code",
   "execution_count": 7,
   "metadata": {},
   "outputs": [],
   "source": [
    "games = games.query('name.notnull()')\n",
    "games = games.query('year_of_release.notnull()')\n",
    "games.loc[games['user_score'] == 'tbd', 'user_score'] = np.nan\n",
    "games['user_score'] = games['user_score'].astype('float')"
   ]
  },
  {
   "cell_type": "code",
   "execution_count": 8,
   "metadata": {},
   "outputs": [
    {
     "data": {
      "text/plain": [
       "name                  0\n",
       "platform              0\n",
       "year_of_release       0\n",
       "genre                 0\n",
       "na_sales              0\n",
       "eu_sales              0\n",
       "jp_sales              0\n",
       "other_sales           0\n",
       "critic_score       8461\n",
       "user_score         8981\n",
       "rating             6676\n",
       "dtype: int64"
      ]
     },
     "execution_count": 8,
     "metadata": {},
     "output_type": "execute_result"
    }
   ],
   "source": [
    "games.isnull().sum()"
   ]
  },
  {
   "cell_type": "markdown",
   "metadata": {},
   "source": [
    "Я решил не заполнять пропуски, потому что в аналитическом проекта особого смысла нет. В то же время, я удалил строки с пропусками в столбцах *name* и *year_of_release*. Пропусков было немного, при этом набор данных стал чище. \n",
    "\n",
    "Значение *tbd* **(to be determined)** в столбце *user_score* было заменено на *nan* (считаем, что это пропуск) для дальнейшего анализа. Также тип данных столбца *user_score* был изменен на *float64*.\n",
    "\n",
    "К пропускам в столбцах *critic_score* и *user_score* могло привести малое количество отзывов об играх, в следствие чего у игры не было рейтинга. Причиной пропусков в столбцах *name* и *year_of_release* могла быть ошибка при выгрузке данных."
   ]
  },
  {
   "cell_type": "code",
   "execution_count": 9,
   "metadata": {},
   "outputs": [
    {
     "name": "stdout",
     "output_type": "stream",
     "text": [
      "<class 'pandas.core.frame.DataFrame'>\n",
      "Int64Index: 16444 entries, 0 to 16714\n",
      "Data columns (total 11 columns):\n",
      " #   Column           Non-Null Count  Dtype  \n",
      "---  ------           --------------  -----  \n",
      " 0   name             16444 non-null  object \n",
      " 1   platform         16444 non-null  object \n",
      " 2   year_of_release  16444 non-null  Int64  \n",
      " 3   genre            16444 non-null  object \n",
      " 4   na_sales         16444 non-null  float64\n",
      " 5   eu_sales         16444 non-null  float64\n",
      " 6   jp_sales         16444 non-null  float64\n",
      " 7   other_sales      16444 non-null  float64\n",
      " 8   critic_score     7983 non-null   float64\n",
      " 9   user_score       7463 non-null   float64\n",
      " 10  rating           9768 non-null   object \n",
      "dtypes: Int64(1), float64(6), object(4)\n",
      "memory usage: 1.5+ MB\n"
     ]
    }
   ],
   "source": [
    "games.info()"
   ]
  },
  {
   "cell_type": "code",
   "execution_count": 10,
   "metadata": {},
   "outputs": [],
   "source": [
    "games['total_sales'] = (games['na_sales'] \n",
    "                     + games['eu_sales'] \n",
    "                     + games['jp_sales'] \n",
    "                     + games['other_sales'])"
   ]
  },
  {
   "cell_type": "markdown",
   "metadata": {},
   "source": [
    "Создание столбца *total_sales*, который содержит в себе сумму всех продаж по разным регионам."
   ]
  },
  {
   "cell_type": "markdown",
   "metadata": {},
   "source": [
    "# Третий шаг. Исследовательский анализ данных."
   ]
  },
  {
   "cell_type": "code",
   "execution_count": 12,
   "metadata": {
    "scrolled": true
   },
   "outputs": [
    {
     "data": {
      "text/plain": [
       "2008    1427\n",
       "2009    1426\n",
       "2010    1255\n",
       "2007    1197\n",
       "2011    1136\n",
       "2006    1006\n",
       "2005     939\n",
       "2002     829\n",
       "2003     775\n",
       "2004     762\n",
       "2012     653\n",
       "2015     606\n",
       "2014     581\n",
       "2013     544\n",
       "2016     502\n",
       "2001     482\n",
       "1998     379\n",
       "2000     350\n",
       "1999     338\n",
       "1997     289\n",
       "1996     263\n",
       "1995     219\n",
       "1994     121\n",
       "1993      60\n",
       "1981      46\n",
       "1992      43\n",
       "1991      41\n",
       "1982      36\n",
       "1986      21\n",
       "1983      17\n",
       "1989      17\n",
       "1990      16\n",
       "1987      16\n",
       "1988      15\n",
       "1985      14\n",
       "1984      14\n",
       "1980       9\n",
       "Name: year_of_release, dtype: Int64"
      ]
     },
     "execution_count": 12,
     "metadata": {},
     "output_type": "execute_result"
    }
   ],
   "source": [
    "games['year_of_release'].value_counts(ascending=False)"
   ]
  },
  {
   "cell_type": "code",
   "execution_count": 13,
   "metadata": {},
   "outputs": [
    {
     "data": {
      "image/png": "[encoded data removed]",
      "text/plain": [
       "<Figure size 648x648 with 1 Axes>"
      ]
     },
     "metadata": {
      "needs_background": "light"
     },
     "output_type": "display_data"
    }
   ],
   "source": [
    "b = len(games['year_of_release'].value_counts()) * 2 + 1\n",
    "year_hist = games['year_of_release'].plot(kind='hist', \n",
    "                                          figsize=(9, 9),\n",
    "                                          title='Количество игр по годам',\n",
    "                                          bins=b,\n",
    "                                          grid=True);\n",
    "year_hist.set_xlabel('Год');\n",
    "year_hist.set_ylabel('Количество игр');"
   ]
  },
  {
   "cell_type": "code",
   "execution_count": 14,
   "metadata": {
    "scrolled": true
   },
   "outputs": [
    {
     "data": {
      "text/html": [
       "<div>\n",
       "<style scoped>\n",
       "    .dataframe tbody tr th:only-of-type {\n",
       "        vertical-align: middle;\n",
       "    }\n",
       "\n",
       "    .dataframe tbody tr th {\n",
       "        vertical-align: top;\n",
       "    }\n",
       "\n",
       "    .dataframe thead th {\n",
       "        text-align: right;\n",
       "    }\n",
       "</style>\n",
       "<table border=\"1\" class=\"dataframe\">\n",
       "  <thead>\n",
       "    <tr style=\"text-align: right;\">\n",
       "      <th></th>\n",
       "      <th>platform</th>\n",
       "    </tr>\n",
       "    <tr>\n",
       "      <th>year_of_release</th>\n",
       "      <th></th>\n",
       "    </tr>\n",
       "  </thead>\n",
       "  <tbody>\n",
       "    <tr>\n",
       "      <th>1980</th>\n",
       "      <td>1</td>\n",
       "    </tr>\n",
       "    <tr>\n",
       "      <th>1981</th>\n",
       "      <td>1</td>\n",
       "    </tr>\n",
       "    <tr>\n",
       "      <th>1982</th>\n",
       "      <td>1</td>\n",
       "    </tr>\n",
       "    <tr>\n",
       "      <th>1983</th>\n",
       "      <td>2</td>\n",
       "    </tr>\n",
       "    <tr>\n",
       "      <th>1984</th>\n",
       "      <td>2</td>\n",
       "    </tr>\n",
       "    <tr>\n",
       "      <th>1985</th>\n",
       "      <td>4</td>\n",
       "    </tr>\n",
       "    <tr>\n",
       "      <th>1986</th>\n",
       "      <td>2</td>\n",
       "    </tr>\n",
       "    <tr>\n",
       "      <th>1987</th>\n",
       "      <td>2</td>\n",
       "    </tr>\n",
       "    <tr>\n",
       "      <th>1988</th>\n",
       "      <td>4</td>\n",
       "    </tr>\n",
       "    <tr>\n",
       "      <th>1989</th>\n",
       "      <td>3</td>\n",
       "    </tr>\n",
       "    <tr>\n",
       "      <th>1990</th>\n",
       "      <td>4</td>\n",
       "    </tr>\n",
       "    <tr>\n",
       "      <th>1991</th>\n",
       "      <td>4</td>\n",
       "    </tr>\n",
       "    <tr>\n",
       "      <th>1992</th>\n",
       "      <td>6</td>\n",
       "    </tr>\n",
       "    <tr>\n",
       "      <th>1993</th>\n",
       "      <td>5</td>\n",
       "    </tr>\n",
       "    <tr>\n",
       "      <th>1994</th>\n",
       "      <td>10</td>\n",
       "    </tr>\n",
       "    <tr>\n",
       "      <th>1995</th>\n",
       "      <td>8</td>\n",
       "    </tr>\n",
       "    <tr>\n",
       "      <th>1996</th>\n",
       "      <td>8</td>\n",
       "    </tr>\n",
       "    <tr>\n",
       "      <th>1997</th>\n",
       "      <td>6</td>\n",
       "    </tr>\n",
       "    <tr>\n",
       "      <th>1998</th>\n",
       "      <td>7</td>\n",
       "    </tr>\n",
       "    <tr>\n",
       "      <th>1999</th>\n",
       "      <td>8</td>\n",
       "    </tr>\n",
       "    <tr>\n",
       "      <th>2000</th>\n",
       "      <td>9</td>\n",
       "    </tr>\n",
       "    <tr>\n",
       "      <th>2001</th>\n",
       "      <td>10</td>\n",
       "    </tr>\n",
       "    <tr>\n",
       "      <th>2002</th>\n",
       "      <td>8</td>\n",
       "    </tr>\n",
       "    <tr>\n",
       "      <th>2003</th>\n",
       "      <td>6</td>\n",
       "    </tr>\n",
       "    <tr>\n",
       "      <th>2004</th>\n",
       "      <td>7</td>\n",
       "    </tr>\n",
       "    <tr>\n",
       "      <th>2005</th>\n",
       "      <td>8</td>\n",
       "    </tr>\n",
       "    <tr>\n",
       "      <th>2006</th>\n",
       "      <td>10</td>\n",
       "    </tr>\n",
       "    <tr>\n",
       "      <th>2007</th>\n",
       "      <td>11</td>\n",
       "    </tr>\n",
       "    <tr>\n",
       "      <th>2008</th>\n",
       "      <td>9</td>\n",
       "    </tr>\n",
       "    <tr>\n",
       "      <th>2009</th>\n",
       "      <td>7</td>\n",
       "    </tr>\n",
       "    <tr>\n",
       "      <th>2010</th>\n",
       "      <td>7</td>\n",
       "    </tr>\n",
       "    <tr>\n",
       "      <th>2011</th>\n",
       "      <td>9</td>\n",
       "    </tr>\n",
       "    <tr>\n",
       "      <th>2012</th>\n",
       "      <td>9</td>\n",
       "    </tr>\n",
       "    <tr>\n",
       "      <th>2013</th>\n",
       "      <td>11</td>\n",
       "    </tr>\n",
       "    <tr>\n",
       "      <th>2014</th>\n",
       "      <td>10</td>\n",
       "    </tr>\n",
       "    <tr>\n",
       "      <th>2015</th>\n",
       "      <td>10</td>\n",
       "    </tr>\n",
       "    <tr>\n",
       "      <th>2016</th>\n",
       "      <td>9</td>\n",
       "    </tr>\n",
       "  </tbody>\n",
       "</table>\n",
       "</div>"
      ],
      "text/plain": [
       "                 platform\n",
       "year_of_release          \n",
       "1980                    1\n",
       "1981                    1\n",
       "1982                    1\n",
       "1983                    2\n",
       "1984                    2\n",
       "1985                    4\n",
       "1986                    2\n",
       "1987                    2\n",
       "1988                    4\n",
       "1989                    3\n",
       "1990                    4\n",
       "1991                    4\n",
       "1992                    6\n",
       "1993                    5\n",
       "1994                   10\n",
       "1995                    8\n",
       "1996                    8\n",
       "1997                    6\n",
       "1998                    7\n",
       "1999                    8\n",
       "2000                    9\n",
       "2001                   10\n",
       "2002                    8\n",
       "2003                    6\n",
       "2004                    7\n",
       "2005                    8\n",
       "2006                   10\n",
       "2007                   11\n",
       "2008                    9\n",
       "2009                    7\n",
       "2010                    7\n",
       "2011                    9\n",
       "2012                    9\n",
       "2013                   11\n",
       "2014                   10\n",
       "2015                   10\n",
       "2016                    9"
      ]
     },
     "execution_count": 14,
     "metadata": {},
     "output_type": "execute_result"
    }
   ],
   "source": [
    "pd.pivot_table(games, values='platform', index='year_of_release', aggfunc=lambda x: len(x.unique()))"
   ]
  },
  {
   "cell_type": "markdown",
   "metadata": {},
   "source": [
    "С каждым годом количество игровых платформ увеличивалось."
   ]
  },
  {
   "cell_type": "code",
   "execution_count": 15,
   "metadata": {},
   "outputs": [
    {
     "name": "stdout",
     "output_type": "stream",
     "text": [
      "platform\n",
      "PS2     1233.56\n",
      "X360     961.24\n",
      "PS3      931.34\n",
      "Wii      891.18\n",
      "DS       802.78\n",
      "PS       727.58\n",
      "PS4      314.14\n",
      "GBA      312.88\n",
      "PSP      289.53\n",
      "3DS      257.81\n",
      "Name: total_sales, dtype: float64\n"
     ]
    },
    {
     "data": {
      "image/png": "[encoded data removed]",
      "text/plain": [
       "<Figure size 432x288 with 1 Axes>"
      ]
     },
     "metadata": {
      "needs_background": "light"
     },
     "output_type": "display_data"
    }
   ],
   "source": [
    "games_pltf = games.groupby(by=['platform'])['total_sales'].sum().sort_values(ascending=False).head(10)\n",
    "print(games_pltf)\n",
    "\n",
    "games_pltf.plot(kind='bar',\n",
    "                title='Продажи разных платформ',\n",
    "                ylabel='Продано копий (млн)',\n",
    "                xlabel='Платформа',\n",
    "                grid=True);"
   ]
  },
  {
   "cell_type": "markdown",
   "metadata": {},
   "source": [
    "Десять платформ с наибольшими суммарными продажами за все время."
   ]
  },
  {
   "cell_type": "markdown",
   "metadata": {},
   "source": [
    "**Жизненный цикл современных платформ от старта релизов до их сведения к минимуму составляет в среднем 5-6 лет. В таком случае, для оценки платформ хватит как раз половины их жизненного цикла (2-3 года). В качестве актуального периода берем данные за 2015 и 2016 года.**"
   ]
  },
  {
   "cell_type": "code",
   "execution_count": 16,
   "metadata": {},
   "outputs": [],
   "source": [
    "games = games.query('year_of_release in [2016, 2017]')"
   ]
  },
  {
   "cell_type": "markdown",
   "metadata": {},
   "source": [
    "Из датасета были убраны строки, где год выпуска игры не был равен 2016 или 2017."
   ]
  },
  {
   "cell_type": "code",
   "execution_count": 17,
   "metadata": {},
   "outputs": [
    {
     "data": {
      "text/plain": [
       "platform\n",
       "PS4     69.25\n",
       "XOne    26.15\n",
       "3DS     15.14\n",
       "PC       5.25\n",
       "WiiU     4.60\n",
       "PSV      4.25\n",
       "PS3      3.60\n",
       "X360     1.52\n",
       "Wii      0.18\n",
       "Name: total_sales, dtype: float64"
      ]
     },
     "execution_count": 17,
     "metadata": {},
     "output_type": "execute_result"
    }
   ],
   "source": [
    "platform_sales = games.groupby(by=['platform'])['total_sales'].sum().sort_values(ascending=False)\n",
    "platform_sales"
   ]
  },
  {
   "cell_type": "code",
   "execution_count": 18,
   "metadata": {},
   "outputs": [
    {
     "data": {
      "image/png": "[encoded data removed]",
      "text/plain": [
       "<Figure size 720x720 with 1 Axes>"
      ]
     },
     "metadata": {},
     "output_type": "display_data"
    }
   ],
   "source": [
    "plt.figure(figsize=(10,10))\n",
    "plt.pie(platform_sales, labels=platform_sales.index)\n",
    "plt.legend(bbox_to_anchor = (-0.16, 0.45, 0.25, 0.25),\n",
    "           labels=platform_sales.index);"
   ]
  },
  {
   "cell_type": "markdown",
   "metadata": {},
   "source": [
    "Платформы и их прибыльность. В качестве потенциально прибыльных платформ можно выбрать *PS4*, *XOne* и *3DS*."
   ]
  },
  {
   "cell_type": "code",
   "execution_count": 19,
   "metadata": {},
   "outputs": [
    {
     "data": {
      "text/plain": [
       "<AxesSubplot:>"
      ]
     },
     "execution_count": 19,
     "metadata": {},
     "output_type": "execute_result"
    },
    {
     "data": {
      "image/png": "[encoded data removed]",
      "text/plain": [
       "<Figure size 432x288 with 1 Axes>"
      ]
     },
     "metadata": {
      "needs_background": "light"
     },
     "output_type": "display_data"
    }
   ],
   "source": [
    "PS4 = games.query('platform == \"PS4\"')['total_sales']\n",
    "XOne = games.query('platform == \"XOne\"')['total_sales']\n",
    "_3DS = games.query('platform == \"3DS\"')['total_sales']\n",
    "PC = games.query('platform == \"PC\"')['total_sales']\n",
    "WiiU = games.query('platform == \"WiiU\"')['total_sales']\n",
    "PSV = games.query('platform == \"PSV\"')['total_sales']\n",
    "PS3 = games.query('platform == \"PS3\"')['total_sales']\n",
    "X360 = games.query('platform == \"X360\"')['total_sales']\n",
    "Wii = games.query('platform == \"Wii\"')['total_sales']\n",
    "\n",
    "platforms_boxplot = pd.DataFrame({\n",
    "    'PS4': PS4,\n",
    "    'XOne': XOne,\n",
    "    '3DS': _3DS,\n",
    "    'PC': PC,\n",
    "    'WiiU': WiiU,\n",
    "    'PSV': PSV,\n",
    "    'PS3': PS3,\n",
    "    'X360': X360,\n",
    "    'Wii': Wii\n",
    "})\n",
    "\n",
    "platforms_boxplot[['PS4', 'XOne', '3DS']].plot(kind='box')"
   ]
  },
  {
   "cell_type": "markdown",
   "metadata": {},
   "source": [
    "Построен график 'ящик с усами' по глобальным продажам игр в разбивке по трем платформам (PS4, XOne, 3DS)."
   ]
  },
  {
   "cell_type": "markdown",
   "metadata": {},
   "source": [
    "<div class=\"alert alert-warning\">\n",
    "    \n",
    "**Артём:** 👉👉👉 К сожалению, на этом боксплоте видны только выбросы, и совсем не видны медиана и 75% квантиль. Отрежь выбросы и все будет отлично.\n",
    "\n",
    "</div>"
   ]
  },
  {
   "cell_type": "markdown",
   "metadata": {},
   "source": [
    "Проверим, как влияют на продажи отзывы пользователей и критиков. В качестве платформы для анализа возьмем XOne."
   ]
  },
  {
   "cell_type": "code",
   "execution_count": 20,
   "metadata": {},
   "outputs": [],
   "source": [
    "xone_scores = games.query('platform == \"XOne\"')"
   ]
  },
  {
   "cell_type": "code",
   "execution_count": 21,
   "metadata": {},
   "outputs": [
    {
     "data": {
      "image/png": "[encoded data removed]",
      "text/plain": [
       "<Figure size 432x288 with 1 Axes>"
      ]
     },
     "metadata": {
      "needs_background": "light"
     },
     "output_type": "display_data"
    }
   ],
   "source": [
    "plt.scatter(xone_scores.user_score, xone_scores.total_sales);"
   ]
  },
  {
   "cell_type": "code",
   "execution_count": 22,
   "metadata": {},
   "outputs": [
    {
     "data": {
      "text/plain": [
       "-0.1303029975447243"
      ]
     },
     "execution_count": 22,
     "metadata": {},
     "output_type": "execute_result"
    }
   ],
   "source": [
    "xone_scores['user_score'].corr(xone_scores['total_sales'])"
   ]
  },
  {
   "cell_type": "markdown",
   "metadata": {},
   "source": [
    "Зависимости между оценкой пользователей и продажами нет."
   ]
  },
  {
   "cell_type": "code",
   "execution_count": 23,
   "metadata": {},
   "outputs": [
    {
     "data": {
      "image/png": "[encoded data removed]",
      "text/plain": [
       "<Figure size 432x288 with 1 Axes>"
      ]
     },
     "metadata": {
      "needs_background": "light"
     },
     "output_type": "display_data"
    }
   ],
   "source": [
    "plt.scatter(xone_scores.critic_score, xone_scores.total_sales);"
   ]
  },
  {
   "cell_type": "code",
   "execution_count": 24,
   "metadata": {},
   "outputs": [
    {
     "data": {
      "text/plain": [
       "0.41200525431688656"
      ]
     },
     "execution_count": 24,
     "metadata": {},
     "output_type": "execute_result"
    }
   ],
   "source": [
    "xone_scores['critic_score'].corr(xone_scores['total_sales'])"
   ]
  },
  {
   "cell_type": "markdown",
   "metadata": {},
   "source": [
    "Судя по коэффициенту корреляции 0.4, присутствует слабая обратная зависимость: чем больше рейтинг критиков, тем больше суммарных продаж."
   ]
  },
  {
   "cell_type": "code",
   "execution_count": 25,
   "metadata": {},
   "outputs": [
    {
     "data": {
      "text/plain": [
       "genre\n",
       "Shooter         38.22\n",
       "Action          30.11\n",
       "Sports          23.49\n",
       "Role-Playing    18.18\n",
       "Fighting         4.47\n",
       "Adventure        3.82\n",
       "Platform         3.23\n",
       "Racing           2.79\n",
       "Misc             2.60\n",
       "Simulation       1.89\n",
       "Strategy         1.13\n",
       "Puzzle           0.01\n",
       "Name: total_sales, dtype: float64"
      ]
     },
     "execution_count": 25,
     "metadata": {},
     "output_type": "execute_result"
    }
   ],
   "source": [
    "genre_sales = games.groupby(by=['genre'])['total_sales'].sum().sort_values(ascending=False)\n",
    "genre_sales"
   ]
  },
  {
   "cell_type": "code",
   "execution_count": 26,
   "metadata": {},
   "outputs": [
    {
     "data": {
      "image/png": "[encoded data removed]",
      "text/plain": [
       "<Figure size 936x936 with 1 Axes>"
      ]
     },
     "metadata": {},
     "output_type": "display_data"
    }
   ],
   "source": [
    "plt.figure(figsize=(13, 13))\n",
    "plt.pie(genre_sales, \n",
    "        labels=genre_sales.index);\n",
    "plt.legend(bbox_to_anchor = (-0.16, 0.45, 0.25, 0.25),\n",
    "           labels=genre_sales.index);"
   ]
  },
  {
   "cell_type": "markdown",
   "metadata": {},
   "source": [
    "Выше представлена диаграмма самых прибыльных жанров. Прибыльные жанры - *Shooter*, *Action*, *Sports* и *Role-Playing*. Самые низкие продажи у жанра *Puzzle*."
   ]
  },
  {
   "cell_type": "markdown",
   "metadata": {},
   "source": [
    "# Четвертый шаг. Составление портрета пользователя для каждого региона."
   ]
  },
  {
   "cell_type": "markdown",
   "metadata": {},
   "source": [
    "**Определение портрета пользователя NA-региона.**"
   ]
  },
  {
   "cell_type": "code",
   "execution_count": 27,
   "metadata": {},
   "outputs": [
    {
     "data": {
      "text/html": [
       "<div>\n",
       "<style scoped>\n",
       "    .dataframe tbody tr th:only-of-type {\n",
       "        vertical-align: middle;\n",
       "    }\n",
       "\n",
       "    .dataframe tbody tr th {\n",
       "        vertical-align: top;\n",
       "    }\n",
       "\n",
       "    .dataframe thead th {\n",
       "        text-align: right;\n",
       "    }\n",
       "</style>\n",
       "<table border=\"1\" class=\"dataframe\">\n",
       "  <thead>\n",
       "    <tr style=\"text-align: right;\">\n",
       "      <th></th>\n",
       "      <th>na_sales</th>\n",
       "    </tr>\n",
       "    <tr>\n",
       "      <th>platform</th>\n",
       "      <th></th>\n",
       "    </tr>\n",
       "  </thead>\n",
       "  <tbody>\n",
       "    <tr>\n",
       "      <th>PS4</th>\n",
       "      <td>21.49</td>\n",
       "    </tr>\n",
       "    <tr>\n",
       "      <th>XOne</th>\n",
       "      <td>14.27</td>\n",
       "    </tr>\n",
       "    <tr>\n",
       "      <th>3DS</th>\n",
       "      <td>4.14</td>\n",
       "    </tr>\n",
       "    <tr>\n",
       "      <th>WiiU</th>\n",
       "      <td>2.10</td>\n",
       "    </tr>\n",
       "    <tr>\n",
       "      <th>PC</th>\n",
       "      <td>1.36</td>\n",
       "    </tr>\n",
       "  </tbody>\n",
       "</table>\n",
       "</div>"
      ],
      "text/plain": [
       "          na_sales\n",
       "platform          \n",
       "PS4          21.49\n",
       "XOne         14.27\n",
       "3DS           4.14\n",
       "WiiU          2.10\n",
       "PC            1.36"
      ]
     },
     "execution_count": 27,
     "metadata": {},
     "output_type": "execute_result"
    }
   ],
   "source": [
    "na_pltf_sales = pd.pivot_table(games, \n",
    "                           values='na_sales', \n",
    "                           index='platform', \n",
    "                           aggfunc='sum').sort_values(by='na_sales', ascending=False).head()\n",
    "na_pltf_sales"
   ]
  },
  {
   "cell_type": "code",
   "execution_count": 28,
   "metadata": {},
   "outputs": [
    {
     "data": {
      "image/png": "[encoded data removed]",
      "text/plain": [
       "<Figure size 432x288 with 1 Axes>"
      ]
     },
     "metadata": {
      "needs_background": "light"
     },
     "output_type": "display_data"
    }
   ],
   "source": [
    "na_pltf_sales.plot(kind='bar',\n",
    "               title='Продажи по платформам в NA-регионе',\n",
    "               ylabel='Продано копий (млн)',\n",
    "               xlabel='Платформа',\n",
    "               grid=True);"
   ]
  },
  {
   "cell_type": "code",
   "execution_count": 29,
   "metadata": {},
   "outputs": [
    {
     "data": {
      "text/html": [
       "<div>\n",
       "<style scoped>\n",
       "    .dataframe tbody tr th:only-of-type {\n",
       "        vertical-align: middle;\n",
       "    }\n",
       "\n",
       "    .dataframe tbody tr th {\n",
       "        vertical-align: top;\n",
       "    }\n",
       "\n",
       "    .dataframe thead th {\n",
       "        text-align: right;\n",
       "    }\n",
       "</style>\n",
       "<table border=\"1\" class=\"dataframe\">\n",
       "  <thead>\n",
       "    <tr style=\"text-align: right;\">\n",
       "      <th></th>\n",
       "      <th>na_sales</th>\n",
       "    </tr>\n",
       "    <tr>\n",
       "      <th>genre</th>\n",
       "      <th></th>\n",
       "    </tr>\n",
       "  </thead>\n",
       "  <tbody>\n",
       "    <tr>\n",
       "      <th>Shooter</th>\n",
       "      <td>16.24</td>\n",
       "    </tr>\n",
       "    <tr>\n",
       "      <th>Action</th>\n",
       "      <td>9.29</td>\n",
       "    </tr>\n",
       "    <tr>\n",
       "      <th>Sports</th>\n",
       "      <td>7.54</td>\n",
       "    </tr>\n",
       "    <tr>\n",
       "      <th>Role-Playing</th>\n",
       "      <td>5.89</td>\n",
       "    </tr>\n",
       "    <tr>\n",
       "      <th>Fighting</th>\n",
       "      <td>1.84</td>\n",
       "    </tr>\n",
       "  </tbody>\n",
       "</table>\n",
       "</div>"
      ],
      "text/plain": [
       "              na_sales\n",
       "genre                 \n",
       "Shooter          16.24\n",
       "Action            9.29\n",
       "Sports            7.54\n",
       "Role-Playing      5.89\n",
       "Fighting          1.84"
      ]
     },
     "execution_count": 29,
     "metadata": {},
     "output_type": "execute_result"
    }
   ],
   "source": [
    "na_gnr_sales = pd.pivot_table(games, \n",
    "                              values='na_sales', \n",
    "                              index='genre', \n",
    "                              aggfunc='sum').sort_values(by='na_sales', ascending=False).head()\n",
    "na_gnr_sales"
   ]
  },
  {
   "cell_type": "code",
   "execution_count": 30,
   "metadata": {},
   "outputs": [
    {
     "data": {
      "image/png": "[encoded data removed]",
      "text/plain": [
       "<Figure size 432x288 with 1 Axes>"
      ]
     },
     "metadata": {
      "needs_background": "light"
     },
     "output_type": "display_data"
    }
   ],
   "source": [
    "na_gnr_sales.plot(kind='bar',\n",
    "               title='Продажи по жанрам в NA-регионе',\n",
    "               ylabel='Продано копий (млн)',\n",
    "               xlabel='Жанр',\n",
    "               grid=True);"
   ]
  },
  {
   "cell_type": "code",
   "execution_count": 31,
   "metadata": {},
   "outputs": [
    {
     "data": {
      "text/html": [
       "<div>\n",
       "<style scoped>\n",
       "    .dataframe tbody tr th:only-of-type {\n",
       "        vertical-align: middle;\n",
       "    }\n",
       "\n",
       "    .dataframe tbody tr th {\n",
       "        vertical-align: top;\n",
       "    }\n",
       "\n",
       "    .dataframe thead th {\n",
       "        text-align: right;\n",
       "    }\n",
       "</style>\n",
       "<table border=\"1\" class=\"dataframe\">\n",
       "  <thead>\n",
       "    <tr style=\"text-align: right;\">\n",
       "      <th></th>\n",
       "      <th>na_sales</th>\n",
       "    </tr>\n",
       "    <tr>\n",
       "      <th>rating</th>\n",
       "      <th></th>\n",
       "    </tr>\n",
       "  </thead>\n",
       "  <tbody>\n",
       "    <tr>\n",
       "      <th>M</th>\n",
       "      <td>15.67</td>\n",
       "    </tr>\n",
       "    <tr>\n",
       "      <th>T</th>\n",
       "      <td>8.95</td>\n",
       "    </tr>\n",
       "    <tr>\n",
       "      <th>E</th>\n",
       "      <td>7.97</td>\n",
       "    </tr>\n",
       "    <tr>\n",
       "      <th>E10+</th>\n",
       "      <td>3.81</td>\n",
       "    </tr>\n",
       "  </tbody>\n",
       "</table>\n",
       "</div>"
      ],
      "text/plain": [
       "        na_sales\n",
       "rating          \n",
       "M          15.67\n",
       "T           8.95\n",
       "E           7.97\n",
       "E10+        3.81"
      ]
     },
     "execution_count": 31,
     "metadata": {},
     "output_type": "execute_result"
    }
   ],
   "source": [
    "na_rtng_sales = pd.pivot_table(games, \n",
    "                               values='na_sales', \n",
    "                               index='rating', \n",
    "                               aggfunc='sum').sort_values(by='na_sales', ascending=False).head()\n",
    "na_rtng_sales"
   ]
  },
  {
   "cell_type": "code",
   "execution_count": 32,
   "metadata": {},
   "outputs": [
    {
     "data": {
      "image/png": "[encoded data removed]",
      "text/plain": [
       "<Figure size 432x288 with 1 Axes>"
      ]
     },
     "metadata": {
      "needs_background": "light"
     },
     "output_type": "display_data"
    }
   ],
   "source": [
    "na_rtng_sales.plot(kind='bar',\n",
    "               title='Продажи по рейтингу в NA-регионе',\n",
    "               ylabel='Продано копий (млн)',\n",
    "               xlabel='Рейтинг',\n",
    "               grid=True);"
   ]
  },
  {
   "cell_type": "markdown",
   "metadata": {},
   "source": [
    "В **NA-регионе** большего всего продаж у платформы *PS4*, самый популярный жанр - *Shooter*, самый частый рейтинг у игр - *M*."
   ]
  },
  {
   "cell_type": "markdown",
   "metadata": {},
   "source": [
    "**Определение портрета пользователя EU-региона.**"
   ]
  },
  {
   "cell_type": "code",
   "execution_count": 33,
   "metadata": {},
   "outputs": [
    {
     "data": {
      "text/html": [
       "<div>\n",
       "<style scoped>\n",
       "    .dataframe tbody tr th:only-of-type {\n",
       "        vertical-align: middle;\n",
       "    }\n",
       "\n",
       "    .dataframe tbody tr th {\n",
       "        vertical-align: top;\n",
       "    }\n",
       "\n",
       "    .dataframe thead th {\n",
       "        text-align: right;\n",
       "    }\n",
       "</style>\n",
       "<table border=\"1\" class=\"dataframe\">\n",
       "  <thead>\n",
       "    <tr style=\"text-align: right;\">\n",
       "      <th></th>\n",
       "      <th>eu_sales</th>\n",
       "    </tr>\n",
       "    <tr>\n",
       "      <th>platform</th>\n",
       "      <th></th>\n",
       "    </tr>\n",
       "  </thead>\n",
       "  <tbody>\n",
       "    <tr>\n",
       "      <th>PS4</th>\n",
       "      <td>31.78</td>\n",
       "    </tr>\n",
       "    <tr>\n",
       "      <th>XOne</th>\n",
       "      <td>9.63</td>\n",
       "    </tr>\n",
       "    <tr>\n",
       "      <th>PC</th>\n",
       "      <td>3.53</td>\n",
       "    </tr>\n",
       "    <tr>\n",
       "      <th>3DS</th>\n",
       "      <td>2.33</td>\n",
       "    </tr>\n",
       "    <tr>\n",
       "      <th>WiiU</th>\n",
       "      <td>1.48</td>\n",
       "    </tr>\n",
       "  </tbody>\n",
       "</table>\n",
       "</div>"
      ],
      "text/plain": [
       "          eu_sales\n",
       "platform          \n",
       "PS4          31.78\n",
       "XOne          9.63\n",
       "PC            3.53\n",
       "3DS           2.33\n",
       "WiiU          1.48"
      ]
     },
     "execution_count": 33,
     "metadata": {},
     "output_type": "execute_result"
    }
   ],
   "source": [
    "eu_pltf_sales = pd.pivot_table(games, values='eu_sales', \n",
    "                               index='platform', \n",
    "                               aggfunc='sum').sort_values(by='eu_sales', ascending=False).head()\n",
    "eu_pltf_sales"
   ]
  },
  {
   "cell_type": "code",
   "execution_count": 34,
   "metadata": {},
   "outputs": [
    {
     "data": {
      "image/png": "[encoded data removed]",
      "text/plain": [
       "<Figure size 432x288 with 1 Axes>"
      ]
     },
     "metadata": {
      "needs_background": "light"
     },
     "output_type": "display_data"
    }
   ],
   "source": [
    "eu_pltf_sales.plot(kind='bar',\n",
    "               title='Продажи по платформе в EU-регионе',\n",
    "               ylabel='Продано копий (млн)',\n",
    "               xlabel='Платформа',\n",
    "               grid=True);"
   ]
  },
  {
   "cell_type": "code",
   "execution_count": 35,
   "metadata": {},
   "outputs": [
    {
     "data": {
      "text/html": [
       "<div>\n",
       "<style scoped>\n",
       "    .dataframe tbody tr th:only-of-type {\n",
       "        vertical-align: middle;\n",
       "    }\n",
       "\n",
       "    .dataframe tbody tr th {\n",
       "        vertical-align: top;\n",
       "    }\n",
       "\n",
       "    .dataframe thead th {\n",
       "        text-align: right;\n",
       "    }\n",
       "</style>\n",
       "<table border=\"1\" class=\"dataframe\">\n",
       "  <thead>\n",
       "    <tr style=\"text-align: right;\">\n",
       "      <th></th>\n",
       "      <th>eu_sales</th>\n",
       "    </tr>\n",
       "    <tr>\n",
       "      <th>genre</th>\n",
       "      <th></th>\n",
       "    </tr>\n",
       "  </thead>\n",
       "  <tbody>\n",
       "    <tr>\n",
       "      <th>Shooter</th>\n",
       "      <td>15.90</td>\n",
       "    </tr>\n",
       "    <tr>\n",
       "      <th>Sports</th>\n",
       "      <td>12.01</td>\n",
       "    </tr>\n",
       "    <tr>\n",
       "      <th>Action</th>\n",
       "      <td>10.68</td>\n",
       "    </tr>\n",
       "    <tr>\n",
       "      <th>Role-Playing</th>\n",
       "      <td>4.28</td>\n",
       "    </tr>\n",
       "    <tr>\n",
       "      <th>Racing</th>\n",
       "      <td>1.77</td>\n",
       "    </tr>\n",
       "  </tbody>\n",
       "</table>\n",
       "</div>"
      ],
      "text/plain": [
       "              eu_sales\n",
       "genre                 \n",
       "Shooter          15.90\n",
       "Sports           12.01\n",
       "Action           10.68\n",
       "Role-Playing      4.28\n",
       "Racing            1.77"
      ]
     },
     "execution_count": 35,
     "metadata": {},
     "output_type": "execute_result"
    }
   ],
   "source": [
    "eu_gnr_sales = pd.pivot_table(games, \n",
    "                              values='eu_sales', \n",
    "                              index='genre', \n",
    "                              aggfunc='sum').sort_values(by='eu_sales', ascending=False).head()\n",
    "eu_gnr_sales"
   ]
  },
  {
   "cell_type": "code",
   "execution_count": 36,
   "metadata": {},
   "outputs": [
    {
     "data": {
      "image/png": "[encoded data removed]",
      "text/plain": [
       "<Figure size 432x288 with 1 Axes>"
      ]
     },
     "metadata": {
      "needs_background": "light"
     },
     "output_type": "display_data"
    }
   ],
   "source": [
    "eu_gnr_sales.plot(kind='bar',\n",
    "               title='Продажи по жанру в EU-регионе',\n",
    "               ylabel='Продано копий (млн)',\n",
    "               xlabel='Жанр',\n",
    "               grid=True);"
   ]
  },
  {
   "cell_type": "code",
   "execution_count": 37,
   "metadata": {
    "scrolled": true
   },
   "outputs": [
    {
     "data": {
      "text/html": [
       "<div>\n",
       "<style scoped>\n",
       "    .dataframe tbody tr th:only-of-type {\n",
       "        vertical-align: middle;\n",
       "    }\n",
       "\n",
       "    .dataframe tbody tr th {\n",
       "        vertical-align: top;\n",
       "    }\n",
       "\n",
       "    .dataframe thead th {\n",
       "        text-align: right;\n",
       "    }\n",
       "</style>\n",
       "<table border=\"1\" class=\"dataframe\">\n",
       "  <thead>\n",
       "    <tr style=\"text-align: right;\">\n",
       "      <th></th>\n",
       "      <th>eu_sales</th>\n",
       "    </tr>\n",
       "    <tr>\n",
       "      <th>rating</th>\n",
       "      <th></th>\n",
       "    </tr>\n",
       "  </thead>\n",
       "  <tbody>\n",
       "    <tr>\n",
       "      <th>M</th>\n",
       "      <td>16.54</td>\n",
       "    </tr>\n",
       "    <tr>\n",
       "      <th>E</th>\n",
       "      <td>13.61</td>\n",
       "    </tr>\n",
       "    <tr>\n",
       "      <th>T</th>\n",
       "      <td>9.79</td>\n",
       "    </tr>\n",
       "    <tr>\n",
       "      <th>E10+</th>\n",
       "      <td>3.81</td>\n",
       "    </tr>\n",
       "  </tbody>\n",
       "</table>\n",
       "</div>"
      ],
      "text/plain": [
       "        eu_sales\n",
       "rating          \n",
       "M          16.54\n",
       "E          13.61\n",
       "T           9.79\n",
       "E10+        3.81"
      ]
     },
     "execution_count": 37,
     "metadata": {},
     "output_type": "execute_result"
    }
   ],
   "source": [
    "eu_rtng_sales = pd.pivot_table(games, \n",
    "                               values='eu_sales', \n",
    "                               index='rating', \n",
    "                               aggfunc='sum').sort_values(by='eu_sales', ascending=False).head()\n",
    "eu_rtng_sales"
   ]
  },
  {
   "cell_type": "code",
   "execution_count": 38,
   "metadata": {},
   "outputs": [
    {
     "data": {
      "image/png": "[encoded data removed]",
      "text/plain": [
       "<Figure size 432x288 with 1 Axes>"
      ]
     },
     "metadata": {
      "needs_background": "light"
     },
     "output_type": "display_data"
    }
   ],
   "source": [
    "eu_rtng_sales.plot(kind='bar',\n",
    "               title='Продажи по рейтингу в EU-регионе',\n",
    "               ylabel='Продано копий (млн)',\n",
    "               xlabel='Рейтинг',\n",
    "               grid=True);"
   ]
  },
  {
   "cell_type": "markdown",
   "metadata": {},
   "source": [
    "В **EU-регионе** большего всего продаж у платформы *PS4*, самый популярный жанр - *Shooter*, самый частый рейтинг у игр - *M*."
   ]
  },
  {
   "cell_type": "markdown",
   "metadata": {},
   "source": [
    "**Определение портрета пользователя JP-региона.**"
   ]
  },
  {
   "cell_type": "code",
   "execution_count": 39,
   "metadata": {},
   "outputs": [
    {
     "data": {
      "text/html": [
       "<div>\n",
       "<style scoped>\n",
       "    .dataframe tbody tr th:only-of-type {\n",
       "        vertical-align: middle;\n",
       "    }\n",
       "\n",
       "    .dataframe tbody tr th {\n",
       "        vertical-align: top;\n",
       "    }\n",
       "\n",
       "    .dataframe thead th {\n",
       "        text-align: right;\n",
       "    }\n",
       "</style>\n",
       "<table border=\"1\" class=\"dataframe\">\n",
       "  <thead>\n",
       "    <tr style=\"text-align: right;\">\n",
       "      <th></th>\n",
       "      <th>jp_sales</th>\n",
       "    </tr>\n",
       "    <tr>\n",
       "      <th>platform</th>\n",
       "      <th></th>\n",
       "    </tr>\n",
       "  </thead>\n",
       "  <tbody>\n",
       "    <tr>\n",
       "      <th>3DS</th>\n",
       "      <td>8.03</td>\n",
       "    </tr>\n",
       "    <tr>\n",
       "      <th>PS4</th>\n",
       "      <td>5.74</td>\n",
       "    </tr>\n",
       "    <tr>\n",
       "      <th>PSV</th>\n",
       "      <td>3.56</td>\n",
       "    </tr>\n",
       "    <tr>\n",
       "      <th>PS3</th>\n",
       "      <td>1.30</td>\n",
       "    </tr>\n",
       "    <tr>\n",
       "      <th>WiiU</th>\n",
       "      <td>0.67</td>\n",
       "    </tr>\n",
       "  </tbody>\n",
       "</table>\n",
       "</div>"
      ],
      "text/plain": [
       "          jp_sales\n",
       "platform          \n",
       "3DS           8.03\n",
       "PS4           5.74\n",
       "PSV           3.56\n",
       "PS3           1.30\n",
       "WiiU          0.67"
      ]
     },
     "execution_count": 39,
     "metadata": {},
     "output_type": "execute_result"
    }
   ],
   "source": [
    "jp_pltf_sales = pd.pivot_table(games, \n",
    "                               values='jp_sales', \n",
    "                               index='platform', \n",
    "                               aggfunc='sum').sort_values(by='jp_sales', ascending=False).head()\n",
    "jp_pltf_sales"
   ]
  },
  {
   "cell_type": "code",
   "execution_count": 40,
   "metadata": {},
   "outputs": [
    {
     "data": {
      "image/png": "[encoded data removed]",
      "text/plain": [
       "<Figure size 432x288 with 1 Axes>"
      ]
     },
     "metadata": {
      "needs_background": "light"
     },
     "output_type": "display_data"
    }
   ],
   "source": [
    "jp_pltf_sales.plot(kind='bar',\n",
    "               title='Продажи по платформе в JP-регионе',\n",
    "               ylabel='Продано копий (млн)',\n",
    "               xlabel='Платформа',\n",
    "               grid=True);"
   ]
  },
  {
   "cell_type": "code",
   "execution_count": 41,
   "metadata": {},
   "outputs": [
    {
     "data": {
      "text/html": [
       "<div>\n",
       "<style scoped>\n",
       "    .dataframe tbody tr th:only-of-type {\n",
       "        vertical-align: middle;\n",
       "    }\n",
       "\n",
       "    .dataframe tbody tr th {\n",
       "        vertical-align: top;\n",
       "    }\n",
       "\n",
       "    .dataframe thead th {\n",
       "        text-align: right;\n",
       "    }\n",
       "</style>\n",
       "<table border=\"1\" class=\"dataframe\">\n",
       "  <thead>\n",
       "    <tr style=\"text-align: right;\">\n",
       "      <th></th>\n",
       "      <th>jp_sales</th>\n",
       "    </tr>\n",
       "    <tr>\n",
       "      <th>genre</th>\n",
       "      <th></th>\n",
       "    </tr>\n",
       "  </thead>\n",
       "  <tbody>\n",
       "    <tr>\n",
       "      <th>Action</th>\n",
       "      <td>7.07</td>\n",
       "    </tr>\n",
       "    <tr>\n",
       "      <th>Role-Playing</th>\n",
       "      <td>6.61</td>\n",
       "    </tr>\n",
       "    <tr>\n",
       "      <th>Adventure</th>\n",
       "      <td>1.18</td>\n",
       "    </tr>\n",
       "    <tr>\n",
       "      <th>Shooter</th>\n",
       "      <td>1.06</td>\n",
       "    </tr>\n",
       "    <tr>\n",
       "      <th>Misc</th>\n",
       "      <td>1.04</td>\n",
       "    </tr>\n",
       "  </tbody>\n",
       "</table>\n",
       "</div>"
      ],
      "text/plain": [
       "              jp_sales\n",
       "genre                 \n",
       "Action            7.07\n",
       "Role-Playing      6.61\n",
       "Adventure         1.18\n",
       "Shooter           1.06\n",
       "Misc              1.04"
      ]
     },
     "execution_count": 41,
     "metadata": {},
     "output_type": "execute_result"
    }
   ],
   "source": [
    "jp_gnr_sales = pd.pivot_table(games, \n",
    "                              values='jp_sales', \n",
    "                              index='genre', \n",
    "                              aggfunc='sum').sort_values(by='jp_sales', ascending=False).head()\n",
    "jp_gnr_sales"
   ]
  },
  {
   "cell_type": "code",
   "execution_count": 42,
   "metadata": {},
   "outputs": [
    {
     "data": {
      "image/png": "[encoded data removed]",
      "text/plain": [
       "<Figure size 432x288 with 1 Axes>"
      ]
     },
     "metadata": {
      "needs_background": "light"
     },
     "output_type": "display_data"
    }
   ],
   "source": [
    "jp_gnr_sales.plot(kind='bar',\n",
    "               title='Продажи по жанру в JP-регионе',\n",
    "               ylabel='Продано копий (млн)',\n",
    "               xlabel='Жанр',\n",
    "               grid=True);"
   ]
  },
  {
   "cell_type": "code",
   "execution_count": 43,
   "metadata": {},
   "outputs": [
    {
     "data": {
      "text/html": [
       "<div>\n",
       "<style scoped>\n",
       "    .dataframe tbody tr th:only-of-type {\n",
       "        vertical-align: middle;\n",
       "    }\n",
       "\n",
       "    .dataframe tbody tr th {\n",
       "        vertical-align: top;\n",
       "    }\n",
       "\n",
       "    .dataframe thead th {\n",
       "        text-align: right;\n",
       "    }\n",
       "</style>\n",
       "<table border=\"1\" class=\"dataframe\">\n",
       "  <thead>\n",
       "    <tr style=\"text-align: right;\">\n",
       "      <th></th>\n",
       "      <th>jp_sales</th>\n",
       "    </tr>\n",
       "    <tr>\n",
       "      <th>rating</th>\n",
       "      <th></th>\n",
       "    </tr>\n",
       "  </thead>\n",
       "  <tbody>\n",
       "    <tr>\n",
       "      <th>T</th>\n",
       "      <td>2.27</td>\n",
       "    </tr>\n",
       "    <tr>\n",
       "      <th>M</th>\n",
       "      <td>1.20</td>\n",
       "    </tr>\n",
       "    <tr>\n",
       "      <th>E</th>\n",
       "      <td>1.07</td>\n",
       "    </tr>\n",
       "    <tr>\n",
       "      <th>E10+</th>\n",
       "      <td>0.45</td>\n",
       "    </tr>\n",
       "  </tbody>\n",
       "</table>\n",
       "</div>"
      ],
      "text/plain": [
       "        jp_sales\n",
       "rating          \n",
       "T           2.27\n",
       "M           1.20\n",
       "E           1.07\n",
       "E10+        0.45"
      ]
     },
     "execution_count": 43,
     "metadata": {},
     "output_type": "execute_result"
    }
   ],
   "source": [
    "jp_rtng_sales = pd.pivot_table(games, \n",
    "                               values='jp_sales', \n",
    "                               index='rating', \n",
    "                               aggfunc='sum').sort_values(by='jp_sales', ascending=False).head()\n",
    "jp_rtng_sales"
   ]
  },
  {
   "cell_type": "code",
   "execution_count": 44,
   "metadata": {},
   "outputs": [
    {
     "data": {
      "image/png": "[encoded data removed]",
      "text/plain": [
       "<Figure size 432x288 with 1 Axes>"
      ]
     },
     "metadata": {
      "needs_background": "light"
     },
     "output_type": "display_data"
    }
   ],
   "source": [
    "jp_rtng_sales.plot(kind='bar',\n",
    "               title='Продажи по рейтингу в JP-регионе',\n",
    "               ylabel='Продано копий (млн)',\n",
    "               xlabel='Рейтинг',\n",
    "               grid=True);"
   ]
  },
  {
   "cell_type": "markdown",
   "metadata": {},
   "source": [
    "В **JP-регионе** большего всего продаж у платформы *3DS*, самый популярный жанр - *Action*, самый частый рейтинг у игр - *T*."
   ]
  },
  {
   "cell_type": "markdown",
   "metadata": {},
   "source": [
    "# Пятый шаг. Проверка гипотез."
   ]
  },
  {
   "cell_type": "markdown",
   "metadata": {},
   "source": [
    "### 📊 Средние пользовательские рейтинги платформ Xbox One и PC одинаковые;"
   ]
  },
  {
   "cell_type": "markdown",
   "metadata": {},
   "source": [
    "**Гипотеза №1:**\n",
    "\n",
    "H₀: средний пользовательский рейтинг платформы Xbox One равен среднему пользовательскому рейтингу PС-платформы.\n",
    "\n",
    "H₁: средний пользовательский рейтинг платформы Xbox One не равен среднему пользовательскому рейтингу PС-платформы."
   ]
  },
  {
   "cell_type": "code",
   "execution_count": 45,
   "metadata": {},
   "outputs": [
    {
     "name": "stdout",
     "output_type": "stream",
     "text": [
      "p-значение: 0.3516273078893254\n",
      "Средний пользовательский рейтинг платформы Xbox One равен среднему пользовательскому рейтингу PС-платформы.\n"
     ]
    }
   ],
   "source": [
    "xone_rating = games.query('platform == \"XOne\"')['user_score']\n",
    "pc_rating = games.query('platform == \"PC\"')['user_score']\n",
    " \n",
    "alpha = 0.05\n",
    "\n",
    "results = st.ttest_ind(xone_rating.dropna(), \n",
    "                       pc_rating.dropna(), \n",
    "                       equal_var=False)\n",
    "\n",
    "print('p-значение:', results.pvalue)\n",
    " \n",
    "if results.pvalue > alpha:\n",
    "    print('Средний пользовательский рейтинг платформы Xbox One равен среднему пользовательскому рейтингу PС-платформы.')\n",
    "    \n",
    "else:\n",
    "    print('Средний пользовательский рейтинг платформы Xbox One не равен среднему пользовательскому рейтингу PС-платформы.')"
   ]
  },
  {
   "cell_type": "markdown",
   "metadata": {},
   "source": [
    "\n",
    "### 📊 Средние пользовательские рейтинги жанров Action (англ. «действие», экшен-игры) и Sports (англ. «спортивные соревнования») разные."
   ]
  },
  {
   "cell_type": "markdown",
   "metadata": {},
   "source": [
    "**Гипотеза №2:**\n",
    "    \n",
    "H₀: средний пользовательский рейтинг жанра *Action* равен среднему пользовательскому рейтингу жанра *Sports*.\n",
    "\n",
    "H₁: средний пользовательский рейтинг жанра *Action* не равен среднему пользовательскому рейтингу жанра *Sports*."
   ]
  },
  {
   "cell_type": "code",
   "execution_count": 46,
   "metadata": {},
   "outputs": [
    {
     "name": "stdout",
     "output_type": "stream",
     "text": [
      "p-значение: 0.002025023028063322\n",
      "Средний пользовательский рейтинг жанра Action не равен среднему пользовательскому рейтингу жанра Sports.\n"
     ]
    }
   ],
   "source": [
    "action_rating = games.query('genre == \"Action\"')['user_score']\n",
    "sports_rating = games.query('genre == \"Sports\"')['user_score']\n",
    " \n",
    "alpha = 0.05\n",
    "\n",
    "results = st.ttest_ind(action_rating.dropna(), \n",
    "                       sports_rating.dropna(), \n",
    "                       equal_var=False)\n",
    "\n",
    "print('p-значение:', results.pvalue)\n",
    " \n",
    "if results.pvalue > alpha:\n",
    "    print('Средний пользовательский рейтинг жанра Action равен среднему пользовательскому рейтингу жанра Sports.')\n",
    "    \n",
    "else:\n",
    "    print('Средний пользовательский рейтинг жанра Action не равен среднему пользовательскому рейтингу жанра Sports.')"
   ]
  },
  {
   "cell_type": "markdown",
   "metadata": {},
   "source": [
    "# Шестой шаг. Выводы."
   ]
  },
  {
   "cell_type": "markdown",
   "metadata": {},
   "source": [
    "В ходе работы была проведена оптимизация датасета - названия столбцов приведены к нижнему регистру, данные в столбцах были преобразованы в нужный тип. \n",
    "\n",
    "Была удалена небольшая часть датасета, пропуски заполнять нецелесообразно. Был создан отдельный столбец с суммарными продажами во всех регионах. *Доказана прямая зависимость между отзывами критиков и продажами игр*. Был выявлен жизненный цикл игровых платформ - **два или три года**; исходя из этого был выбран актуальный период для анализа - **2015 и 2016 года**. Самая продаваемая за все время платформа - **PS2**, самая продаваемая за актуальный период - **PS4**.\n",
    "\n",
    "Были составлены портреты пользователей каждого из регионов **(NA, EU, JP)**. В каждом из этих регионов были выделены самые продаваемые платформы и жанры. *JP-регион очень сильно отличается по характеристикам от двух остальных исследуемых регионов.*\n",
    "\n",
    "Обе заданные в пятом шаге гипотезы были проверены - **средний пользовательский рейтинг платформы Xbox One равен среднему пользовательскому рейтингу PС-платформы** и **средний пользовательский рейтинг жанра Action не равен среднему пользовательскому рейтингу жанра Sports**."
   ]
  }
 ],
 "metadata": {
  "ExecuteTimeLog": [
   {
    "duration": 51,
    "start_time": "2023-02-15T13:30:05.157Z"
   },
   {
    "duration": 390,
    "start_time": "2023-02-15T13:30:07.397Z"
   },
   {
    "duration": 99,
    "start_time": "2023-02-15T13:30:08.971Z"
   },
   {
    "duration": 22,
    "start_time": "2023-02-15T13:30:14.626Z"
   },
   {
    "duration": 14,
    "start_time": "2023-02-15T13:31:16.869Z"
   },
   {
    "duration": 922,
    "start_time": "2023-02-15T13:32:28.393Z"
   },
   {
    "duration": 8,
    "start_time": "2023-02-15T13:37:31.672Z"
   },
   {
    "duration": 6,
    "start_time": "2023-02-15T13:37:48.310Z"
   },
   {
    "duration": 8,
    "start_time": "2023-02-15T13:38:16.388Z"
   },
   {
    "duration": 56,
    "start_time": "2023-02-15T13:40:03.070Z"
   },
   {
    "duration": 11,
    "start_time": "2023-02-15T13:40:45.290Z"
   },
   {
    "duration": 11,
    "start_time": "2023-02-15T13:41:16.055Z"
   },
   {
    "duration": 10,
    "start_time": "2023-02-15T13:41:22.261Z"
   },
   {
    "duration": 7,
    "start_time": "2023-02-15T13:42:49.205Z"
   },
   {
    "duration": 23,
    "start_time": "2023-02-15T13:43:26.902Z"
   },
   {
    "duration": 8,
    "start_time": "2023-02-15T13:44:56.454Z"
   },
   {
    "duration": 11,
    "start_time": "2023-02-15T13:46:27.201Z"
   },
   {
    "duration": 21,
    "start_time": "2023-02-15T13:48:21.352Z"
   },
   {
    "duration": 11,
    "start_time": "2023-02-15T13:48:30.400Z"
   },
   {
    "duration": 10,
    "start_time": "2023-02-15T13:48:35.951Z"
   },
   {
    "duration": 8,
    "start_time": "2023-02-15T13:48:37.861Z"
   },
   {
    "duration": 15,
    "start_time": "2023-02-15T13:48:46.431Z"
   },
   {
    "duration": 11,
    "start_time": "2023-02-15T13:49:07.983Z"
   },
   {
    "duration": 6,
    "start_time": "2023-02-15T13:49:14.223Z"
   },
   {
    "duration": 483,
    "start_time": "2023-02-15T13:49:20.035Z"
   },
   {
    "duration": 18,
    "start_time": "2023-02-15T13:49:20.520Z"
   },
   {
    "duration": 24,
    "start_time": "2023-02-15T13:49:20.541Z"
   },
   {
    "duration": 7,
    "start_time": "2023-02-15T13:49:20.567Z"
   },
   {
    "duration": 13,
    "start_time": "2023-02-15T13:49:20.577Z"
   },
   {
    "duration": 7,
    "start_time": "2023-02-15T13:49:20.592Z"
   },
   {
    "duration": 62,
    "start_time": "2023-02-15T13:49:20.601Z"
   },
   {
    "duration": 11,
    "start_time": "2023-02-15T13:49:20.665Z"
   },
   {
    "duration": 12,
    "start_time": "2023-02-15T13:49:39.692Z"
   },
   {
    "duration": 14,
    "start_time": "2023-02-15T13:49:41.743Z"
   },
   {
    "duration": 8,
    "start_time": "2023-02-15T14:03:17.306Z"
   },
   {
    "duration": 8,
    "start_time": "2023-02-15T14:04:45.446Z"
   },
   {
    "duration": 103,
    "start_time": "2023-02-15T14:05:56.045Z"
   },
   {
    "duration": 20,
    "start_time": "2023-02-15T14:06:02.644Z"
   },
   {
    "duration": 8,
    "start_time": "2023-02-15T14:16:46.099Z"
   },
   {
    "duration": 8,
    "start_time": "2023-02-15T14:17:08.367Z"
   },
   {
    "duration": 13,
    "start_time": "2023-02-15T14:23:52.246Z"
   },
   {
    "duration": 14,
    "start_time": "2023-02-15T14:24:43.185Z"
   },
   {
    "duration": 18,
    "start_time": "2023-02-15T14:54:07.002Z"
   },
   {
    "duration": 7,
    "start_time": "2023-02-15T14:54:42.463Z"
   },
   {
    "duration": 14,
    "start_time": "2023-02-15T14:56:49.281Z"
   },
   {
    "duration": 10,
    "start_time": "2023-02-15T14:56:50.520Z"
   },
   {
    "duration": 5,
    "start_time": "2023-02-15T14:57:35.192Z"
   },
   {
    "duration": 19,
    "start_time": "2023-02-15T14:57:41.311Z"
   },
   {
    "duration": 71,
    "start_time": "2023-02-15T14:59:22.904Z"
   },
   {
    "duration": 27,
    "start_time": "2023-02-15T15:00:09.302Z"
   },
   {
    "duration": 3,
    "start_time": "2023-02-15T15:00:29.287Z"
   },
   {
    "duration": 16,
    "start_time": "2023-02-15T15:01:27.471Z"
   },
   {
    "duration": 3,
    "start_time": "2023-02-15T15:02:50.191Z"
   },
   {
    "duration": 6,
    "start_time": "2023-02-15T15:05:14.821Z"
   },
   {
    "duration": 28,
    "start_time": "2023-02-15T15:05:18.556Z"
   },
   {
    "duration": 7,
    "start_time": "2023-02-15T15:09:06.521Z"
   },
   {
    "duration": 7,
    "start_time": "2023-02-15T15:09:21.854Z"
   },
   {
    "duration": 384,
    "start_time": "2023-02-15T15:09:46.931Z"
   },
   {
    "duration": 6,
    "start_time": "2023-02-15T15:10:04.175Z"
   },
   {
    "duration": 140,
    "start_time": "2023-02-15T15:10:15.628Z"
   },
   {
    "duration": 132,
    "start_time": "2023-02-15T15:10:30.591Z"
   },
   {
    "duration": 10,
    "start_time": "2023-02-15T15:15:35.885Z"
   },
   {
    "duration": 7,
    "start_time": "2023-02-15T15:15:55.975Z"
   },
   {
    "duration": 10,
    "start_time": "2023-02-15T15:16:36.672Z"
   },
   {
    "duration": 9,
    "start_time": "2023-02-15T15:19:20.815Z"
   },
   {
    "duration": 8,
    "start_time": "2023-02-15T15:19:49.674Z"
   },
   {
    "duration": 8,
    "start_time": "2023-02-15T15:20:08.246Z"
   },
   {
    "duration": 8,
    "start_time": "2023-02-15T15:20:40.921Z"
   },
   {
    "duration": 8,
    "start_time": "2023-02-15T15:20:59.546Z"
   },
   {
    "duration": 56,
    "start_time": "2023-02-15T15:35:52.928Z"
   },
   {
    "duration": 395,
    "start_time": "2023-02-15T15:37:34.278Z"
   },
   {
    "duration": 70,
    "start_time": "2023-02-15T15:37:37.602Z"
   },
   {
    "duration": 1001,
    "start_time": "2023-02-15T15:37:40.641Z"
   },
   {
    "duration": 148,
    "start_time": "2023-02-15T15:38:30.007Z"
   },
   {
    "duration": 182,
    "start_time": "2023-02-15T15:38:39.016Z"
   },
   {
    "duration": 183,
    "start_time": "2023-02-15T15:38:49.645Z"
   },
   {
    "duration": 151,
    "start_time": "2023-02-15T15:38:58.998Z"
   },
   {
    "duration": 145,
    "start_time": "2023-02-15T15:39:03.248Z"
   },
   {
    "duration": 151,
    "start_time": "2023-02-15T15:39:08.294Z"
   },
   {
    "duration": 15,
    "start_time": "2023-02-15T15:44:06.311Z"
   },
   {
    "duration": 7,
    "start_time": "2023-02-15T15:46:38.650Z"
   },
   {
    "duration": 9,
    "start_time": "2023-02-15T15:47:21.603Z"
   },
   {
    "duration": 20,
    "start_time": "2023-02-15T15:48:05.102Z"
   },
   {
    "duration": 398,
    "start_time": "2023-02-23T09:45:41.084Z"
   },
   {
    "duration": 200,
    "start_time": "2023-02-23T09:45:43.361Z"
   },
   {
    "duration": 19,
    "start_time": "2023-02-23T09:45:45.223Z"
   },
   {
    "duration": 6,
    "start_time": "2023-02-23T09:45:48.102Z"
   },
   {
    "duration": 72,
    "start_time": "2023-02-23T09:45:50.147Z"
   },
   {
    "duration": 12,
    "start_time": "2023-02-23T09:47:36.677Z"
   },
   {
    "duration": 13,
    "start_time": "2023-02-23T09:48:18.356Z"
   },
   {
    "duration": 4,
    "start_time": "2023-02-23T09:49:17.761Z"
   },
   {
    "duration": 47,
    "start_time": "2023-02-23T09:50:54.305Z"
   },
   {
    "duration": 10,
    "start_time": "2023-02-23T09:51:13.536Z"
   },
   {
    "duration": 14,
    "start_time": "2023-02-23T09:51:16.830Z"
   },
   {
    "duration": 10,
    "start_time": "2023-02-23T09:51:19.691Z"
   },
   {
    "duration": 14,
    "start_time": "2023-02-23T09:51:24.353Z"
   },
   {
    "duration": 55,
    "start_time": "2023-02-23T09:54:05.618Z"
   },
   {
    "duration": 15,
    "start_time": "2023-02-23T09:54:26.988Z"
   },
   {
    "duration": 12,
    "start_time": "2023-02-23T09:57:05.701Z"
   },
   {
    "duration": 5,
    "start_time": "2023-02-23T09:57:06.320Z"
   },
   {
    "duration": 6,
    "start_time": "2023-02-23T09:57:07.728Z"
   },
   {
    "duration": 570,
    "start_time": "2023-02-23T10:00:36.635Z"
   },
   {
    "duration": 17,
    "start_time": "2023-02-23T10:04:07.565Z"
   },
   {
    "duration": 25,
    "start_time": "2023-02-23T10:06:49.853Z"
   },
   {
    "duration": 14,
    "start_time": "2023-02-23T10:22:58.328Z"
   },
   {
    "duration": 7,
    "start_time": "2023-02-23T10:23:24.711Z"
   },
   {
    "duration": 12,
    "start_time": "2023-02-23T10:23:46.550Z"
   },
   {
    "duration": 14,
    "start_time": "2023-02-23T10:25:05.771Z"
   },
   {
    "duration": 14,
    "start_time": "2023-02-23T10:25:25.944Z"
   },
   {
    "duration": 12,
    "start_time": "2023-02-23T10:27:52.865Z"
   },
   {
    "duration": 18,
    "start_time": "2023-02-23T10:28:43.380Z"
   },
   {
    "duration": 23,
    "start_time": "2023-02-23T10:30:39.561Z"
   },
   {
    "duration": 25,
    "start_time": "2023-02-23T10:31:21.817Z"
   },
   {
    "duration": 7,
    "start_time": "2023-02-23T10:31:48.321Z"
   },
   {
    "duration": 10,
    "start_time": "2023-02-23T10:32:05.352Z"
   },
   {
    "duration": 10,
    "start_time": "2023-02-23T10:32:48.714Z"
   },
   {
    "duration": 58,
    "start_time": "2023-02-23T10:34:57.804Z"
   },
   {
    "duration": 8,
    "start_time": "2023-02-23T10:38:54.676Z"
   },
   {
    "duration": 7,
    "start_time": "2023-02-23T10:38:59.129Z"
   },
   {
    "duration": 17,
    "start_time": "2023-02-23T10:41:58.857Z"
   },
   {
    "duration": 12,
    "start_time": "2023-02-23T10:42:16.219Z"
   },
   {
    "duration": 16,
    "start_time": "2023-02-23T10:42:28.745Z"
   },
   {
    "duration": 15,
    "start_time": "2023-02-23T10:42:44.475Z"
   },
   {
    "duration": 15,
    "start_time": "2023-02-23T10:43:04.467Z"
   },
   {
    "duration": 19,
    "start_time": "2023-02-23T10:43:12.268Z"
   },
   {
    "duration": 18,
    "start_time": "2023-02-23T10:46:10.231Z"
   },
   {
    "duration": 20,
    "start_time": "2023-02-23T10:47:22.574Z"
   },
   {
    "duration": 18,
    "start_time": "2023-02-23T10:47:28.816Z"
   },
   {
    "duration": 23,
    "start_time": "2023-02-23T10:49:28.519Z"
   },
   {
    "duration": 15,
    "start_time": "2023-02-23T10:49:35.309Z"
   },
   {
    "duration": 19,
    "start_time": "2023-02-23T10:50:04.170Z"
   },
   {
    "duration": 21,
    "start_time": "2023-02-23T10:50:28.411Z"
   },
   {
    "duration": 49,
    "start_time": "2023-02-23T10:53:15.664Z"
   },
   {
    "duration": 14,
    "start_time": "2023-02-23T10:54:31.048Z"
   },
   {
    "duration": 14,
    "start_time": "2023-02-23T10:54:34.148Z"
   },
   {
    "duration": 15,
    "start_time": "2023-02-23T10:54:36.065Z"
   },
   {
    "duration": 14,
    "start_time": "2023-02-23T10:55:55.132Z"
   },
   {
    "duration": 10,
    "start_time": "2023-02-23T10:55:58.116Z"
   },
   {
    "duration": 16,
    "start_time": "2023-02-23T10:56:08.836Z"
   },
   {
    "duration": 158,
    "start_time": "2023-02-23T10:56:13.710Z"
   },
   {
    "duration": 15,
    "start_time": "2023-02-23T10:56:21.888Z"
   },
   {
    "duration": 69,
    "start_time": "2023-02-23T10:59:06.295Z"
   },
   {
    "duration": 14,
    "start_time": "2023-02-23T12:43:26.880Z"
   },
   {
    "duration": 8,
    "start_time": "2023-02-23T12:43:34.071Z"
   },
   {
    "duration": 17,
    "start_time": "2023-02-23T12:43:40.158Z"
   },
   {
    "duration": 17,
    "start_time": "2023-02-23T12:47:59.147Z"
   },
   {
    "duration": 428,
    "start_time": "2023-02-23T12:48:10.476Z"
   },
   {
    "duration": 63,
    "start_time": "2023-02-23T12:48:10.905Z"
   },
   {
    "duration": 19,
    "start_time": "2023-02-23T12:48:10.970Z"
   },
   {
    "duration": 7,
    "start_time": "2023-02-23T12:48:10.990Z"
   },
   {
    "duration": 8,
    "start_time": "2023-02-23T12:48:10.998Z"
   },
   {
    "duration": 11,
    "start_time": "2023-02-23T12:48:11.007Z"
   },
   {
    "duration": 84,
    "start_time": "2023-02-23T12:48:11.019Z"
   },
   {
    "duration": 0,
    "start_time": "2023-02-23T12:48:11.106Z"
   },
   {
    "duration": 0,
    "start_time": "2023-02-23T12:48:11.107Z"
   },
   {
    "duration": 0,
    "start_time": "2023-02-23T12:48:11.109Z"
   },
   {
    "duration": 0,
    "start_time": "2023-02-23T12:48:11.111Z"
   },
   {
    "duration": 0,
    "start_time": "2023-02-23T12:48:11.112Z"
   },
   {
    "duration": 0,
    "start_time": "2023-02-23T12:48:11.114Z"
   },
   {
    "duration": 0,
    "start_time": "2023-02-23T12:48:11.116Z"
   },
   {
    "duration": 0,
    "start_time": "2023-02-23T12:48:11.118Z"
   },
   {
    "duration": 0,
    "start_time": "2023-02-23T12:48:11.119Z"
   },
   {
    "duration": 0,
    "start_time": "2023-02-23T12:48:11.121Z"
   },
   {
    "duration": 0,
    "start_time": "2023-02-23T12:48:11.122Z"
   },
   {
    "duration": 0,
    "start_time": "2023-02-23T12:48:11.124Z"
   },
   {
    "duration": 0,
    "start_time": "2023-02-23T12:48:11.125Z"
   },
   {
    "duration": 0,
    "start_time": "2023-02-23T12:48:11.127Z"
   },
   {
    "duration": 0,
    "start_time": "2023-02-23T12:48:11.128Z"
   },
   {
    "duration": 0,
    "start_time": "2023-02-23T12:48:11.129Z"
   },
   {
    "duration": 0,
    "start_time": "2023-02-23T12:48:11.131Z"
   },
   {
    "duration": 8,
    "start_time": "2023-02-23T12:49:07.453Z"
   },
   {
    "duration": 406,
    "start_time": "2023-02-23T12:49:13.103Z"
   },
   {
    "duration": 62,
    "start_time": "2023-02-23T12:49:13.510Z"
   },
   {
    "duration": 18,
    "start_time": "2023-02-23T12:49:13.574Z"
   },
   {
    "duration": 19,
    "start_time": "2023-02-23T12:49:13.595Z"
   },
   {
    "duration": 10,
    "start_time": "2023-02-23T12:49:13.616Z"
   },
   {
    "duration": 10,
    "start_time": "2023-02-23T12:49:13.628Z"
   },
   {
    "duration": 17,
    "start_time": "2023-02-23T12:49:13.640Z"
   },
   {
    "duration": 9,
    "start_time": "2023-02-23T12:49:13.658Z"
   },
   {
    "duration": 12,
    "start_time": "2023-02-23T12:49:13.668Z"
   },
   {
    "duration": 21,
    "start_time": "2023-02-23T12:49:13.682Z"
   },
   {
    "duration": 6,
    "start_time": "2023-02-23T12:49:13.705Z"
   },
   {
    "duration": 353,
    "start_time": "2023-02-23T12:49:13.712Z"
   },
   {
    "duration": 19,
    "start_time": "2023-02-23T12:49:14.066Z"
   },
   {
    "duration": 20,
    "start_time": "2023-02-23T12:49:14.086Z"
   },
   {
    "duration": 12,
    "start_time": "2023-02-23T12:49:14.107Z"
   },
   {
    "duration": 12,
    "start_time": "2023-02-23T12:49:14.120Z"
   },
   {
    "duration": 12,
    "start_time": "2023-02-23T12:49:14.133Z"
   },
   {
    "duration": 18,
    "start_time": "2023-02-23T12:49:14.147Z"
   },
   {
    "duration": 15,
    "start_time": "2023-02-23T12:49:14.167Z"
   },
   {
    "duration": 13,
    "start_time": "2023-02-23T12:49:14.204Z"
   },
   {
    "duration": 12,
    "start_time": "2023-02-23T12:49:14.219Z"
   },
   {
    "duration": 13,
    "start_time": "2023-02-23T12:49:14.232Z"
   },
   {
    "duration": 12,
    "start_time": "2023-02-23T12:49:14.247Z"
   },
   {
    "duration": 111,
    "start_time": "2023-02-23T12:49:14.261Z"
   },
   {
    "duration": 16,
    "start_time": "2023-02-23T12:50:33.745Z"
   },
   {
    "duration": 17,
    "start_time": "2023-02-23T12:51:03.919Z"
   },
   {
    "duration": 10,
    "start_time": "2023-02-23T12:51:05.057Z"
   },
   {
    "duration": 14,
    "start_time": "2023-02-23T12:51:07.850Z"
   },
   {
    "duration": 4,
    "start_time": "2023-02-23T12:51:11.252Z"
   },
   {
    "duration": 8,
    "start_time": "2023-02-23T12:51:12.629Z"
   },
   {
    "duration": 140,
    "start_time": "2023-02-23T12:51:13.011Z"
   },
   {
    "duration": 21,
    "start_time": "2023-02-23T12:51:13.385Z"
   },
   {
    "duration": 9,
    "start_time": "2023-02-23T12:51:14.178Z"
   },
   {
    "duration": 20,
    "start_time": "2023-02-23T12:51:16.776Z"
   },
   {
    "duration": 19,
    "start_time": "2023-02-23T12:51:17.339Z"
   },
   {
    "duration": 17,
    "start_time": "2023-02-23T12:51:17.634Z"
   },
   {
    "duration": 15,
    "start_time": "2023-02-23T12:51:18.329Z"
   },
   {
    "duration": 18,
    "start_time": "2023-02-23T12:51:18.700Z"
   },
   {
    "duration": 18,
    "start_time": "2023-02-23T12:51:19.078Z"
   },
   {
    "duration": 14,
    "start_time": "2023-02-23T12:51:19.869Z"
   },
   {
    "duration": 14,
    "start_time": "2023-02-23T12:51:20.278Z"
   },
   {
    "duration": 14,
    "start_time": "2023-02-23T12:51:20.762Z"
   },
   {
    "duration": 6,
    "start_time": "2023-02-23T12:51:22.208Z"
   },
   {
    "duration": 5,
    "start_time": "2023-02-23T12:58:25.931Z"
   },
   {
    "duration": 7,
    "start_time": "2023-02-23T12:58:38.561Z"
   },
   {
    "duration": 8,
    "start_time": "2023-02-23T12:58:44.204Z"
   },
   {
    "duration": 5,
    "start_time": "2023-02-23T12:59:18.806Z"
   },
   {
    "duration": 10,
    "start_time": "2023-02-23T12:59:52.031Z"
   },
   {
    "duration": 8,
    "start_time": "2023-02-23T12:59:55.441Z"
   },
   {
    "duration": 13,
    "start_time": "2023-02-23T13:01:33.066Z"
   },
   {
    "duration": 819,
    "start_time": "2023-02-23T13:01:37.445Z"
   },
   {
    "duration": 64,
    "start_time": "2023-02-23T13:01:38.266Z"
   },
   {
    "duration": 20,
    "start_time": "2023-02-23T13:01:38.332Z"
   },
   {
    "duration": 6,
    "start_time": "2023-02-23T13:01:38.354Z"
   },
   {
    "duration": 8,
    "start_time": "2023-02-23T13:01:38.362Z"
   },
   {
    "duration": 33,
    "start_time": "2023-02-23T13:01:38.372Z"
   },
   {
    "duration": 17,
    "start_time": "2023-02-23T13:01:38.407Z"
   },
   {
    "duration": 7,
    "start_time": "2023-02-23T13:01:38.426Z"
   },
   {
    "duration": 12,
    "start_time": "2023-02-23T13:01:38.435Z"
   },
   {
    "duration": 4,
    "start_time": "2023-02-23T13:01:38.449Z"
   },
   {
    "duration": 8,
    "start_time": "2023-02-23T13:01:38.454Z"
   },
   {
    "duration": 388,
    "start_time": "2023-02-23T13:01:38.463Z"
   },
   {
    "duration": 20,
    "start_time": "2023-02-23T13:01:38.852Z"
   },
   {
    "duration": 7,
    "start_time": "2023-02-23T13:01:38.873Z"
   },
   {
    "duration": 32,
    "start_time": "2023-02-23T13:01:38.881Z"
   },
   {
    "duration": 12,
    "start_time": "2023-02-23T13:01:38.915Z"
   },
   {
    "duration": 12,
    "start_time": "2023-02-23T13:01:38.929Z"
   },
   {
    "duration": 11,
    "start_time": "2023-02-23T13:01:38.942Z"
   },
   {
    "duration": 12,
    "start_time": "2023-02-23T13:01:38.955Z"
   },
   {
    "duration": 44,
    "start_time": "2023-02-23T13:01:38.968Z"
   },
   {
    "duration": 16,
    "start_time": "2023-02-23T13:01:39.013Z"
   },
   {
    "duration": 14,
    "start_time": "2023-02-23T13:01:39.030Z"
   },
   {
    "duration": 14,
    "start_time": "2023-02-23T13:01:39.045Z"
   },
   {
    "duration": 12,
    "start_time": "2023-02-23T13:01:39.061Z"
   },
   {
    "duration": 107,
    "start_time": "2023-02-23T13:06:14.897Z"
   },
   {
    "duration": 792,
    "start_time": "2023-02-23T13:06:25.940Z"
   },
   {
    "duration": 61,
    "start_time": "2023-02-23T13:06:26.735Z"
   },
   {
    "duration": 20,
    "start_time": "2023-02-23T13:06:26.797Z"
   },
   {
    "duration": 5,
    "start_time": "2023-02-23T13:06:26.818Z"
   },
   {
    "duration": 7,
    "start_time": "2023-02-23T13:06:26.825Z"
   },
   {
    "duration": 11,
    "start_time": "2023-02-23T13:06:26.833Z"
   },
   {
    "duration": 17,
    "start_time": "2023-02-23T13:06:26.845Z"
   },
   {
    "duration": 9,
    "start_time": "2023-02-23T13:06:26.863Z"
   },
   {
    "duration": 36,
    "start_time": "2023-02-23T13:06:26.873Z"
   },
   {
    "duration": 13,
    "start_time": "2023-02-23T13:06:26.911Z"
   },
   {
    "duration": 13,
    "start_time": "2023-02-23T13:06:26.926Z"
   },
   {
    "duration": 413,
    "start_time": "2023-02-23T13:06:26.941Z"
   },
   {
    "duration": 20,
    "start_time": "2023-02-23T13:06:27.355Z"
   },
   {
    "duration": 7,
    "start_time": "2023-02-23T13:06:27.378Z"
   },
   {
    "duration": 29,
    "start_time": "2023-02-23T13:06:27.386Z"
   },
   {
    "duration": 18,
    "start_time": "2023-02-23T13:06:27.416Z"
   },
   {
    "duration": 13,
    "start_time": "2023-02-23T13:06:27.435Z"
   },
   {
    "duration": 14,
    "start_time": "2023-02-23T13:06:27.449Z"
   },
   {
    "duration": 42,
    "start_time": "2023-02-23T13:06:27.464Z"
   },
   {
    "duration": 14,
    "start_time": "2023-02-23T13:06:27.508Z"
   },
   {
    "duration": 13,
    "start_time": "2023-02-23T13:06:27.523Z"
   },
   {
    "duration": 13,
    "start_time": "2023-02-23T13:06:27.537Z"
   },
   {
    "duration": 13,
    "start_time": "2023-02-23T13:06:27.551Z"
   },
   {
    "duration": 140,
    "start_time": "2023-02-23T13:06:27.565Z"
   },
   {
    "duration": 19,
    "start_time": "2023-02-23T13:07:06.723Z"
   },
   {
    "duration": 11,
    "start_time": "2023-02-23T13:07:23.063Z"
   },
   {
    "duration": 12,
    "start_time": "2023-02-23T13:07:58.317Z"
   },
   {
    "duration": 11,
    "start_time": "2023-02-23T13:09:48.285Z"
   },
   {
    "duration": 863,
    "start_time": "2023-02-23T13:09:53.379Z"
   },
   {
    "duration": 62,
    "start_time": "2023-02-23T13:09:54.244Z"
   },
   {
    "duration": 19,
    "start_time": "2023-02-23T13:09:54.308Z"
   },
   {
    "duration": 11,
    "start_time": "2023-02-23T13:09:54.328Z"
   },
   {
    "duration": 21,
    "start_time": "2023-02-23T13:09:54.341Z"
   },
   {
    "duration": 18,
    "start_time": "2023-02-23T13:09:54.363Z"
   },
   {
    "duration": 22,
    "start_time": "2023-02-23T13:09:54.382Z"
   },
   {
    "duration": 10,
    "start_time": "2023-02-23T13:09:54.405Z"
   },
   {
    "duration": 14,
    "start_time": "2023-02-23T13:09:54.417Z"
   },
   {
    "duration": 4,
    "start_time": "2023-02-23T13:09:54.433Z"
   },
   {
    "duration": 9,
    "start_time": "2023-02-23T13:09:54.439Z"
   },
   {
    "duration": 358,
    "start_time": "2023-02-23T13:09:54.449Z"
   },
   {
    "duration": 19,
    "start_time": "2023-02-23T13:09:54.809Z"
   },
   {
    "duration": 6,
    "start_time": "2023-02-23T13:09:54.830Z"
   },
   {
    "duration": 12,
    "start_time": "2023-02-23T13:09:54.838Z"
   },
   {
    "duration": 18,
    "start_time": "2023-02-23T13:09:54.851Z"
   },
   {
    "duration": 36,
    "start_time": "2023-02-23T13:09:54.871Z"
   },
   {
    "duration": 16,
    "start_time": "2023-02-23T13:09:54.908Z"
   },
   {
    "duration": 31,
    "start_time": "2023-02-23T13:09:54.927Z"
   },
   {
    "duration": 16,
    "start_time": "2023-02-23T13:09:54.960Z"
   },
   {
    "duration": 19,
    "start_time": "2023-02-23T13:09:54.977Z"
   },
   {
    "duration": 35,
    "start_time": "2023-02-23T13:09:54.998Z"
   },
   {
    "duration": 23,
    "start_time": "2023-02-23T13:09:55.034Z"
   },
   {
    "duration": 11,
    "start_time": "2023-02-23T13:09:55.058Z"
   },
   {
    "duration": 795,
    "start_time": "2023-02-23T13:10:07.946Z"
   },
   {
    "duration": 61,
    "start_time": "2023-02-23T13:10:08.743Z"
   },
   {
    "duration": 20,
    "start_time": "2023-02-23T13:10:08.805Z"
   },
   {
    "duration": 9,
    "start_time": "2023-02-23T13:10:08.827Z"
   },
   {
    "duration": 12,
    "start_time": "2023-02-23T13:10:08.838Z"
   },
   {
    "duration": 26,
    "start_time": "2023-02-23T13:10:08.852Z"
   },
   {
    "duration": 15,
    "start_time": "2023-02-23T13:10:08.880Z"
   },
   {
    "duration": 12,
    "start_time": "2023-02-23T13:10:08.897Z"
   },
   {
    "duration": 12,
    "start_time": "2023-02-23T13:10:08.911Z"
   },
   {
    "duration": 5,
    "start_time": "2023-02-23T13:10:08.925Z"
   },
   {
    "duration": 7,
    "start_time": "2023-02-23T13:10:08.932Z"
   },
   {
    "duration": 388,
    "start_time": "2023-02-23T13:10:08.941Z"
   },
   {
    "duration": 20,
    "start_time": "2023-02-23T13:10:09.331Z"
   },
   {
    "duration": 8,
    "start_time": "2023-02-23T13:10:09.353Z"
   },
   {
    "duration": 14,
    "start_time": "2023-02-23T13:10:09.363Z"
   },
   {
    "duration": 33,
    "start_time": "2023-02-23T13:10:09.379Z"
   },
   {
    "duration": 13,
    "start_time": "2023-02-23T13:10:09.414Z"
   },
   {
    "duration": 12,
    "start_time": "2023-02-23T13:10:09.429Z"
   },
   {
    "duration": 12,
    "start_time": "2023-02-23T13:10:09.442Z"
   },
   {
    "duration": 13,
    "start_time": "2023-02-23T13:10:09.455Z"
   },
   {
    "duration": 44,
    "start_time": "2023-02-23T13:10:09.469Z"
   },
   {
    "duration": 12,
    "start_time": "2023-02-23T13:10:09.515Z"
   },
   {
    "duration": 11,
    "start_time": "2023-02-23T13:10:09.529Z"
   },
   {
    "duration": 9,
    "start_time": "2023-02-23T13:10:09.541Z"
   },
   {
    "duration": 13,
    "start_time": "2023-02-23T13:11:23.476Z"
   },
   {
    "duration": 107,
    "start_time": "2023-02-23T13:12:43.491Z"
   },
   {
    "duration": 14,
    "start_time": "2023-02-23T13:12:50.254Z"
   },
   {
    "duration": 13,
    "start_time": "2023-02-23T13:13:02.692Z"
   },
   {
    "duration": 819,
    "start_time": "2023-02-23T13:16:49.823Z"
   },
   {
    "duration": 60,
    "start_time": "2023-02-23T13:16:50.644Z"
   },
   {
    "duration": 20,
    "start_time": "2023-02-23T13:16:50.705Z"
   },
   {
    "duration": 5,
    "start_time": "2023-02-23T13:16:50.726Z"
   },
   {
    "duration": 9,
    "start_time": "2023-02-23T13:16:50.733Z"
   },
   {
    "duration": 11,
    "start_time": "2023-02-23T13:16:50.744Z"
   },
   {
    "duration": 15,
    "start_time": "2023-02-23T13:16:50.756Z"
   },
   {
    "duration": 31,
    "start_time": "2023-02-23T13:16:50.773Z"
   },
   {
    "duration": 12,
    "start_time": "2023-02-23T13:16:50.806Z"
   },
   {
    "duration": 4,
    "start_time": "2023-02-23T13:16:50.821Z"
   },
   {
    "duration": 7,
    "start_time": "2023-02-23T13:16:50.827Z"
   },
   {
    "duration": 370,
    "start_time": "2023-02-23T13:16:50.835Z"
   },
   {
    "duration": 20,
    "start_time": "2023-02-23T13:16:51.207Z"
   },
   {
    "duration": 7,
    "start_time": "2023-02-23T13:16:51.229Z"
   },
   {
    "duration": 18,
    "start_time": "2023-02-23T13:16:51.237Z"
   },
   {
    "duration": 15,
    "start_time": "2023-02-23T13:16:51.257Z"
   },
   {
    "duration": 38,
    "start_time": "2023-02-23T13:16:51.274Z"
   },
   {
    "duration": 27,
    "start_time": "2023-02-23T13:16:51.314Z"
   },
   {
    "duration": 20,
    "start_time": "2023-02-23T13:16:51.343Z"
   },
   {
    "duration": 19,
    "start_time": "2023-02-23T13:16:51.365Z"
   },
   {
    "duration": 19,
    "start_time": "2023-02-23T13:16:51.385Z"
   },
   {
    "duration": 23,
    "start_time": "2023-02-23T13:16:51.406Z"
   },
   {
    "duration": 30,
    "start_time": "2023-02-23T13:16:51.431Z"
   },
   {
    "duration": 11,
    "start_time": "2023-02-23T13:16:51.463Z"
   },
   {
    "duration": 47,
    "start_time": "2023-02-23T13:26:14.806Z"
   },
   {
    "duration": 10,
    "start_time": "2023-02-23T13:26:31.687Z"
   },
   {
    "duration": 56,
    "start_time": "2023-02-23T13:27:49.980Z"
   },
   {
    "duration": 14,
    "start_time": "2023-02-23T13:28:08.594Z"
   },
   {
    "duration": 16,
    "start_time": "2023-02-23T13:28:11.751Z"
   },
   {
    "duration": 21,
    "start_time": "2023-02-23T13:29:06.287Z"
   },
   {
    "duration": 13,
    "start_time": "2023-02-23T13:29:28.523Z"
   },
   {
    "duration": 57,
    "start_time": "2023-02-23T13:30:08.288Z"
   },
   {
    "duration": 4,
    "start_time": "2023-02-23T13:30:56.952Z"
   },
   {
    "duration": 4,
    "start_time": "2023-02-23T13:31:32.782Z"
   },
   {
    "duration": 12,
    "start_time": "2023-02-23T13:33:57.990Z"
   },
   {
    "duration": 10,
    "start_time": "2023-02-23T13:34:20.115Z"
   },
   {
    "duration": 12,
    "start_time": "2023-02-23T13:34:58.830Z"
   },
   {
    "duration": 791,
    "start_time": "2023-02-23T13:35:13.049Z"
   },
   {
    "duration": 62,
    "start_time": "2023-02-23T13:35:13.842Z"
   },
   {
    "duration": 19,
    "start_time": "2023-02-23T13:35:13.905Z"
   },
   {
    "duration": 7,
    "start_time": "2023-02-23T13:35:13.926Z"
   },
   {
    "duration": 11,
    "start_time": "2023-02-23T13:35:13.934Z"
   },
   {
    "duration": 14,
    "start_time": "2023-02-23T13:35:13.946Z"
   },
   {
    "duration": 16,
    "start_time": "2023-02-23T13:35:13.962Z"
   },
   {
    "duration": 27,
    "start_time": "2023-02-23T13:35:13.980Z"
   },
   {
    "duration": 24,
    "start_time": "2023-02-23T13:35:14.009Z"
   },
   {
    "duration": 18,
    "start_time": "2023-02-23T13:35:14.035Z"
   },
   {
    "duration": 23,
    "start_time": "2023-02-23T13:35:14.055Z"
   },
   {
    "duration": 361,
    "start_time": "2023-02-23T13:35:14.079Z"
   },
   {
    "duration": 20,
    "start_time": "2023-02-23T13:35:14.442Z"
   },
   {
    "duration": 8,
    "start_time": "2023-02-23T13:35:14.464Z"
   },
   {
    "duration": 36,
    "start_time": "2023-02-23T13:35:14.474Z"
   },
   {
    "duration": 12,
    "start_time": "2023-02-23T13:35:14.512Z"
   },
   {
    "duration": 12,
    "start_time": "2023-02-23T13:35:14.526Z"
   },
   {
    "duration": 12,
    "start_time": "2023-02-23T13:35:14.540Z"
   },
   {
    "duration": 21,
    "start_time": "2023-02-23T13:35:14.553Z"
   },
   {
    "duration": 30,
    "start_time": "2023-02-23T13:35:14.576Z"
   },
   {
    "duration": 11,
    "start_time": "2023-02-23T13:35:14.607Z"
   },
   {
    "duration": 11,
    "start_time": "2023-02-23T13:35:14.620Z"
   },
   {
    "duration": 13,
    "start_time": "2023-02-23T13:35:14.632Z"
   },
   {
    "duration": 12,
    "start_time": "2023-02-23T13:35:14.646Z"
   },
   {
    "duration": 44,
    "start_time": "2023-02-23T13:35:14.660Z"
   },
   {
    "duration": 15,
    "start_time": "2023-02-23T13:35:25.607Z"
   },
   {
    "duration": 13,
    "start_time": "2023-02-23T13:35:59.831Z"
   },
   {
    "duration": 12,
    "start_time": "2023-02-23T13:37:29.283Z"
   },
   {
    "duration": 10,
    "start_time": "2023-02-23T13:37:43.908Z"
   },
   {
    "duration": 12,
    "start_time": "2023-02-23T13:38:01.263Z"
   },
   {
    "duration": 15,
    "start_time": "2023-02-23T13:41:25.639Z"
   },
   {
    "duration": 950,
    "start_time": "2023-02-23T13:41:36.394Z"
   },
   {
    "duration": 66,
    "start_time": "2023-02-23T13:41:37.346Z"
   },
   {
    "duration": 22,
    "start_time": "2023-02-23T13:41:37.413Z"
   },
   {
    "duration": 6,
    "start_time": "2023-02-23T13:41:37.436Z"
   },
   {
    "duration": 11,
    "start_time": "2023-02-23T13:41:37.443Z"
   },
   {
    "duration": 21,
    "start_time": "2023-02-23T13:41:37.456Z"
   },
   {
    "duration": 27,
    "start_time": "2023-02-23T13:41:37.479Z"
   },
   {
    "duration": 10,
    "start_time": "2023-02-23T13:41:37.508Z"
   },
   {
    "duration": 14,
    "start_time": "2023-02-23T13:41:37.519Z"
   },
   {
    "duration": 7,
    "start_time": "2023-02-23T13:41:37.536Z"
   },
   {
    "duration": 10,
    "start_time": "2023-02-23T13:41:37.544Z"
   },
   {
    "duration": 443,
    "start_time": "2023-02-23T13:41:37.556Z"
   },
   {
    "duration": 31,
    "start_time": "2023-02-23T13:41:38.006Z"
   },
   {
    "duration": 8,
    "start_time": "2023-02-23T13:41:38.039Z"
   },
   {
    "duration": 38,
    "start_time": "2023-02-23T13:41:38.049Z"
   },
   {
    "duration": 23,
    "start_time": "2023-02-23T13:41:38.089Z"
   },
   {
    "duration": 20,
    "start_time": "2023-02-23T13:41:38.114Z"
   },
   {
    "duration": 20,
    "start_time": "2023-02-23T13:41:38.136Z"
   },
   {
    "duration": 48,
    "start_time": "2023-02-23T13:41:38.158Z"
   },
   {
    "duration": 22,
    "start_time": "2023-02-23T13:41:38.208Z"
   },
   {
    "duration": 20,
    "start_time": "2023-02-23T13:41:38.232Z"
   },
   {
    "duration": 19,
    "start_time": "2023-02-23T13:41:38.254Z"
   },
   {
    "duration": 19,
    "start_time": "2023-02-23T13:41:38.304Z"
   },
   {
    "duration": 15,
    "start_time": "2023-02-23T13:41:38.325Z"
   },
   {
    "duration": 19,
    "start_time": "2023-02-23T13:41:38.341Z"
   },
   {
    "duration": 15,
    "start_time": "2023-02-23T13:41:38.362Z"
   },
   {
    "duration": 49,
    "start_time": "2023-02-23T13:43:21.445Z"
   },
   {
    "duration": 9,
    "start_time": "2023-02-23T13:50:06.668Z"
   },
   {
    "duration": 26,
    "start_time": "2023-02-23T13:56:27.200Z"
   },
   {
    "duration": 860,
    "start_time": "2023-02-23T13:56:38.985Z"
   },
   {
    "duration": 65,
    "start_time": "2023-02-23T13:56:39.848Z"
   },
   {
    "duration": 20,
    "start_time": "2023-02-23T13:56:39.914Z"
   },
   {
    "duration": 17,
    "start_time": "2023-02-23T13:56:39.936Z"
   },
   {
    "duration": 11,
    "start_time": "2023-02-23T13:56:39.954Z"
   },
   {
    "duration": 8,
    "start_time": "2023-02-23T13:56:39.967Z"
   },
   {
    "duration": 16,
    "start_time": "2023-02-23T13:56:39.977Z"
   },
   {
    "duration": 15,
    "start_time": "2023-02-23T13:56:39.994Z"
   },
   {
    "duration": 13,
    "start_time": "2023-02-23T13:56:40.011Z"
   },
   {
    "duration": 5,
    "start_time": "2023-02-23T13:56:40.027Z"
   },
   {
    "duration": 6,
    "start_time": "2023-02-23T13:56:40.034Z"
   },
   {
    "duration": 376,
    "start_time": "2023-02-23T13:56:40.042Z"
   },
   {
    "duration": 19,
    "start_time": "2023-02-23T13:56:40.420Z"
   },
   {
    "duration": 7,
    "start_time": "2023-02-23T13:56:40.440Z"
   },
   {
    "duration": 9,
    "start_time": "2023-02-23T13:56:40.448Z"
   },
   {
    "duration": 14,
    "start_time": "2023-02-23T13:56:40.458Z"
   },
   {
    "duration": 33,
    "start_time": "2023-02-23T13:56:40.474Z"
   },
   {
    "duration": 12,
    "start_time": "2023-02-23T13:56:40.508Z"
   },
   {
    "duration": 14,
    "start_time": "2023-02-23T13:56:40.521Z"
   },
   {
    "duration": 15,
    "start_time": "2023-02-23T13:56:40.536Z"
   },
   {
    "duration": 13,
    "start_time": "2023-02-23T13:56:40.552Z"
   },
   {
    "duration": 11,
    "start_time": "2023-02-23T13:56:40.566Z"
   },
   {
    "duration": 12,
    "start_time": "2023-02-23T13:56:40.604Z"
   },
   {
    "duration": 13,
    "start_time": "2023-02-23T13:56:40.617Z"
   },
   {
    "duration": 9,
    "start_time": "2023-02-23T13:56:40.631Z"
   },
   {
    "duration": 11,
    "start_time": "2023-02-23T13:56:40.641Z"
   },
   {
    "duration": 14,
    "start_time": "2023-02-23T13:56:40.654Z"
   },
   {
    "duration": 7,
    "start_time": "2023-02-23T13:59:25.276Z"
   },
   {
    "duration": 74,
    "start_time": "2023-02-23T14:01:35.770Z"
   },
   {
    "duration": 3,
    "start_time": "2023-02-23T14:05:50.994Z"
   },
   {
    "duration": 97,
    "start_time": "2023-02-23T14:06:47.032Z"
   },
   {
    "duration": 1057,
    "start_time": "2023-02-23T14:06:50.402Z"
   },
   {
    "duration": 62,
    "start_time": "2023-02-23T14:06:51.461Z"
   },
   {
    "duration": 16,
    "start_time": "2023-02-23T14:06:51.525Z"
   },
   {
    "duration": 5,
    "start_time": "2023-02-23T14:06:51.543Z"
   },
   {
    "duration": 6,
    "start_time": "2023-02-23T14:06:51.549Z"
   },
   {
    "duration": 15,
    "start_time": "2023-02-23T14:06:51.556Z"
   },
   {
    "duration": 31,
    "start_time": "2023-02-23T14:06:51.573Z"
   },
   {
    "duration": 8,
    "start_time": "2023-02-23T14:06:51.606Z"
   },
   {
    "duration": 25,
    "start_time": "2023-02-23T14:06:51.615Z"
   },
   {
    "duration": 4,
    "start_time": "2023-02-23T14:06:51.644Z"
   },
   {
    "duration": 8,
    "start_time": "2023-02-23T14:06:51.650Z"
   },
   {
    "duration": 153,
    "start_time": "2023-02-23T14:06:51.660Z"
   },
   {
    "duration": 19,
    "start_time": "2023-02-23T14:06:51.815Z"
   },
   {
    "duration": 7,
    "start_time": "2023-02-23T14:06:51.835Z"
   },
   {
    "duration": 12,
    "start_time": "2023-02-23T14:06:51.844Z"
   },
   {
    "duration": 8,
    "start_time": "2023-02-23T14:06:51.858Z"
   },
   {
    "duration": 126,
    "start_time": "2023-02-23T14:06:51.867Z"
   },
   {
    "duration": 13,
    "start_time": "2023-02-23T14:06:52.004Z"
   },
   {
    "duration": 19,
    "start_time": "2023-02-23T14:06:52.018Z"
   },
   {
    "duration": 14,
    "start_time": "2023-02-23T14:06:52.038Z"
   },
   {
    "duration": 17,
    "start_time": "2023-02-23T14:06:52.053Z"
   },
   {
    "duration": 31,
    "start_time": "2023-02-23T14:06:52.072Z"
   },
   {
    "duration": 12,
    "start_time": "2023-02-23T14:06:52.105Z"
   },
   {
    "duration": 18,
    "start_time": "2023-02-23T14:06:52.119Z"
   },
   {
    "duration": 23,
    "start_time": "2023-02-23T14:06:52.139Z"
   },
   {
    "duration": 16,
    "start_time": "2023-02-23T14:06:52.164Z"
   },
   {
    "duration": 27,
    "start_time": "2023-02-23T14:06:52.181Z"
   },
   {
    "duration": 12,
    "start_time": "2023-02-23T14:06:52.211Z"
   },
   {
    "duration": 10,
    "start_time": "2023-02-23T14:06:52.225Z"
   },
   {
    "duration": 93,
    "start_time": "2023-02-23T14:07:01.543Z"
   },
   {
    "duration": 89,
    "start_time": "2023-02-23T14:08:11.984Z"
   },
   {
    "duration": 92,
    "start_time": "2023-02-23T14:08:19.624Z"
   },
   {
    "duration": 8,
    "start_time": "2023-02-23T14:11:02.345Z"
   },
   {
    "duration": 96,
    "start_time": "2023-02-23T14:11:07.483Z"
   },
   {
    "duration": 42,
    "start_time": "2023-02-23T16:45:16.896Z"
   },
   {
    "duration": 1215,
    "start_time": "2023-02-23T16:45:27.535Z"
   },
   {
    "duration": 104,
    "start_time": "2023-02-23T16:45:28.752Z"
   },
   {
    "duration": 17,
    "start_time": "2023-02-23T16:45:28.857Z"
   },
   {
    "duration": 7,
    "start_time": "2023-02-23T16:45:28.876Z"
   },
   {
    "duration": 9,
    "start_time": "2023-02-23T16:45:28.884Z"
   },
   {
    "duration": 10,
    "start_time": "2023-02-23T16:45:28.894Z"
   },
   {
    "duration": 17,
    "start_time": "2023-02-23T16:45:28.905Z"
   },
   {
    "duration": 8,
    "start_time": "2023-02-23T16:45:28.924Z"
   },
   {
    "duration": 13,
    "start_time": "2023-02-23T16:45:28.934Z"
   },
   {
    "duration": 5,
    "start_time": "2023-02-23T16:45:28.950Z"
   },
   {
    "duration": 33,
    "start_time": "2023-02-23T16:45:28.956Z"
   },
   {
    "duration": 162,
    "start_time": "2023-02-23T16:45:28.991Z"
   },
   {
    "duration": 19,
    "start_time": "2023-02-23T16:45:29.154Z"
   },
   {
    "duration": 24,
    "start_time": "2023-02-23T16:45:29.174Z"
   },
   {
    "duration": 19,
    "start_time": "2023-02-23T16:45:29.200Z"
   },
   {
    "duration": 12,
    "start_time": "2023-02-23T16:45:29.221Z"
   },
   {
    "duration": 95,
    "start_time": "2023-02-23T16:45:29.234Z"
   },
   {
    "duration": 6,
    "start_time": "2023-02-23T16:45:29.331Z"
   },
   {
    "duration": 22,
    "start_time": "2023-02-23T16:45:29.338Z"
   },
   {
    "duration": 24,
    "start_time": "2023-02-23T16:45:29.362Z"
   },
   {
    "duration": 15,
    "start_time": "2023-02-23T16:45:29.387Z"
   },
   {
    "duration": 14,
    "start_time": "2023-02-23T16:45:29.403Z"
   },
   {
    "duration": 13,
    "start_time": "2023-02-23T16:45:29.418Z"
   },
   {
    "duration": 14,
    "start_time": "2023-02-23T16:45:29.433Z"
   },
   {
    "duration": 41,
    "start_time": "2023-02-23T16:45:29.448Z"
   },
   {
    "duration": 12,
    "start_time": "2023-02-23T16:45:29.491Z"
   },
   {
    "duration": 17,
    "start_time": "2023-02-23T16:45:29.505Z"
   },
   {
    "duration": 10,
    "start_time": "2023-02-23T16:45:29.524Z"
   },
   {
    "duration": 10,
    "start_time": "2023-02-23T16:45:29.536Z"
   },
   {
    "duration": 43,
    "start_time": "2023-02-23T16:45:29.547Z"
   },
   {
    "duration": 92,
    "start_time": "2023-02-23T16:47:04.065Z"
   },
   {
    "duration": 112,
    "start_time": "2023-02-23T16:47:10.440Z"
   },
   {
    "duration": 116,
    "start_time": "2023-02-23T16:47:21.860Z"
   },
   {
    "duration": 145,
    "start_time": "2023-02-23T16:47:25.658Z"
   },
   {
    "duration": 116,
    "start_time": "2023-02-23T16:47:28.657Z"
   },
   {
    "duration": 5,
    "start_time": "2023-02-23T16:48:26.683Z"
   },
   {
    "duration": 108,
    "start_time": "2023-02-23T16:48:56.039Z"
   },
   {
    "duration": 102,
    "start_time": "2023-02-23T16:50:19.612Z"
   },
   {
    "duration": 100,
    "start_time": "2023-02-23T16:50:37.222Z"
   },
   {
    "duration": 10,
    "start_time": "2023-02-23T16:51:31.012Z"
   },
   {
    "duration": 1002,
    "start_time": "2023-02-23T16:52:06.312Z"
   },
   {
    "duration": 54,
    "start_time": "2023-02-23T16:52:07.316Z"
   },
   {
    "duration": 15,
    "start_time": "2023-02-23T16:52:07.372Z"
   },
   {
    "duration": 6,
    "start_time": "2023-02-23T16:52:07.389Z"
   },
   {
    "duration": 12,
    "start_time": "2023-02-23T16:52:07.396Z"
   },
   {
    "duration": 10,
    "start_time": "2023-02-23T16:52:07.409Z"
   },
   {
    "duration": 14,
    "start_time": "2023-02-23T16:52:07.420Z"
   },
   {
    "duration": 8,
    "start_time": "2023-02-23T16:52:07.436Z"
   },
   {
    "duration": 13,
    "start_time": "2023-02-23T16:52:07.445Z"
   },
   {
    "duration": 25,
    "start_time": "2023-02-23T16:52:07.461Z"
   },
   {
    "duration": 8,
    "start_time": "2023-02-23T16:52:07.487Z"
   },
   {
    "duration": 125,
    "start_time": "2023-02-23T16:52:07.496Z"
   },
   {
    "duration": 19,
    "start_time": "2023-02-23T16:52:07.622Z"
   },
   {
    "duration": 7,
    "start_time": "2023-02-23T16:52:07.642Z"
   },
   {
    "duration": 10,
    "start_time": "2023-02-23T16:52:07.650Z"
   },
   {
    "duration": 27,
    "start_time": "2023-02-23T16:52:07.661Z"
   },
   {
    "duration": 80,
    "start_time": "2023-02-23T16:52:07.690Z"
   },
   {
    "duration": 5,
    "start_time": "2023-02-23T16:52:07.772Z"
   },
   {
    "duration": 109,
    "start_time": "2023-02-23T16:52:07.785Z"
   },
   {
    "duration": 4,
    "start_time": "2023-02-23T16:52:07.896Z"
   },
   {
    "duration": 112,
    "start_time": "2023-02-23T16:52:07.902Z"
   },
   {
    "duration": 13,
    "start_time": "2023-02-23T16:52:08.015Z"
   },
   {
    "duration": 18,
    "start_time": "2023-02-23T16:52:08.029Z"
   },
   {
    "duration": 16,
    "start_time": "2023-02-23T16:52:08.048Z"
   },
   {
    "duration": 20,
    "start_time": "2023-02-23T16:52:08.066Z"
   },
   {
    "duration": 13,
    "start_time": "2023-02-23T16:52:08.087Z"
   },
   {
    "duration": 13,
    "start_time": "2023-02-23T16:52:08.101Z"
   },
   {
    "duration": 12,
    "start_time": "2023-02-23T16:52:08.117Z"
   },
   {
    "duration": 14,
    "start_time": "2023-02-23T16:52:08.131Z"
   },
   {
    "duration": 11,
    "start_time": "2023-02-23T16:52:08.146Z"
   },
   {
    "duration": 39,
    "start_time": "2023-02-23T16:52:08.158Z"
   },
   {
    "duration": 16,
    "start_time": "2023-02-23T16:52:08.199Z"
   },
   {
    "duration": 14,
    "start_time": "2023-02-23T16:52:08.216Z"
   },
   {
    "duration": 4,
    "start_time": "2023-02-23T16:52:46.018Z"
   },
   {
    "duration": 25,
    "start_time": "2023-02-23T16:53:07.265Z"
   },
   {
    "duration": 6,
    "start_time": "2023-02-23T16:53:16.169Z"
   },
   {
    "duration": 6,
    "start_time": "2023-02-23T18:03:40.806Z"
   },
   {
    "duration": 7,
    "start_time": "2023-02-23T18:05:49.993Z"
   },
   {
    "duration": 88,
    "start_time": "2023-02-23T18:05:55.287Z"
   },
   {
    "duration": 78,
    "start_time": "2023-02-23T18:05:59.779Z"
   },
   {
    "duration": 92,
    "start_time": "2023-02-23T18:06:31.648Z"
   },
   {
    "duration": 5,
    "start_time": "2023-02-23T18:06:43.866Z"
   },
   {
    "duration": 119,
    "start_time": "2023-02-23T18:07:00.985Z"
   },
   {
    "duration": 116,
    "start_time": "2023-02-23T18:08:22.261Z"
   },
   {
    "duration": 112,
    "start_time": "2023-02-23T18:08:52.656Z"
   },
   {
    "duration": 9,
    "start_time": "2023-02-23T18:09:45.170Z"
   },
   {
    "duration": 172,
    "start_time": "2023-02-23T18:10:02.205Z"
   },
   {
    "duration": 199,
    "start_time": "2023-02-23T18:10:17.856Z"
   },
   {
    "duration": 121,
    "start_time": "2023-02-23T18:10:36.274Z"
   },
   {
    "duration": 102,
    "start_time": "2023-02-23T18:10:58.332Z"
   },
   {
    "duration": 66,
    "start_time": "2023-02-23T18:13:32.055Z"
   },
   {
    "duration": 1075,
    "start_time": "2023-02-23T21:07:21.869Z"
   },
   {
    "duration": 71,
    "start_time": "2023-02-23T21:07:22.945Z"
   },
   {
    "duration": 23,
    "start_time": "2023-02-23T21:07:23.018Z"
   },
   {
    "duration": 7,
    "start_time": "2023-02-23T21:07:23.043Z"
   },
   {
    "duration": 5,
    "start_time": "2023-02-23T21:07:23.053Z"
   },
   {
    "duration": 48,
    "start_time": "2023-02-23T21:07:23.061Z"
   },
   {
    "duration": 31,
    "start_time": "2023-02-23T21:07:23.112Z"
   },
   {
    "duration": 13,
    "start_time": "2023-02-23T21:07:23.145Z"
   },
   {
    "duration": 14,
    "start_time": "2023-02-23T21:07:23.160Z"
   },
   {
    "duration": 53,
    "start_time": "2023-02-23T21:07:23.176Z"
   },
   {
    "duration": 17,
    "start_time": "2023-02-23T21:07:23.231Z"
   },
   {
    "duration": 214,
    "start_time": "2023-02-23T21:07:23.251Z"
   },
   {
    "duration": 42,
    "start_time": "2023-02-23T21:07:23.467Z"
   },
   {
    "duration": 11,
    "start_time": "2023-02-23T21:07:23.513Z"
   },
   {
    "duration": 20,
    "start_time": "2023-02-23T21:07:23.526Z"
   },
   {
    "duration": 15,
    "start_time": "2023-02-23T21:07:23.548Z"
   },
   {
    "duration": 105,
    "start_time": "2023-02-23T21:07:23.565Z"
   },
   {
    "duration": 108,
    "start_time": "2023-02-23T21:07:23.672Z"
   },
   {
    "duration": 6,
    "start_time": "2023-02-23T21:07:23.781Z"
   },
   {
    "duration": 147,
    "start_time": "2023-02-23T21:07:23.791Z"
   },
   {
    "duration": 5,
    "start_time": "2023-02-23T21:07:23.940Z"
   },
   {
    "duration": 134,
    "start_time": "2023-02-23T21:07:23.948Z"
   },
   {
    "duration": 13,
    "start_time": "2023-02-23T21:07:24.084Z"
   },
   {
    "duration": 23,
    "start_time": "2023-02-23T21:07:24.100Z"
   },
   {
    "duration": 119,
    "start_time": "2023-02-23T21:07:24.125Z"
   },
   {
    "duration": 13,
    "start_time": "2023-02-23T21:07:24.246Z"
   },
   {
    "duration": 34,
    "start_time": "2023-02-23T21:07:24.261Z"
   },
   {
    "duration": 14,
    "start_time": "2023-02-23T21:07:24.297Z"
   },
   {
    "duration": 17,
    "start_time": "2023-02-23T21:07:24.312Z"
   },
   {
    "duration": 13,
    "start_time": "2023-02-23T21:07:24.331Z"
   },
   {
    "duration": 13,
    "start_time": "2023-02-23T21:07:24.346Z"
   },
   {
    "duration": 48,
    "start_time": "2023-02-23T21:07:24.361Z"
   },
   {
    "duration": 16,
    "start_time": "2023-02-23T21:07:24.410Z"
   },
   {
    "duration": 13,
    "start_time": "2023-02-23T21:07:24.428Z"
   },
   {
    "duration": 10,
    "start_time": "2023-02-23T21:07:24.443Z"
   },
   {
    "duration": 11,
    "start_time": "2023-02-23T21:07:24.454Z"
   },
   {
    "duration": 87,
    "start_time": "2023-02-23T21:32:57.691Z"
   },
   {
    "duration": 6,
    "start_time": "2023-02-23T21:36:30.484Z"
   },
   {
    "duration": 54,
    "start_time": "2023-02-24T07:49:49.588Z"
   },
   {
    "duration": 8,
    "start_time": "2023-02-24T07:50:21.885Z"
   },
   {
    "duration": 72,
    "start_time": "2023-02-24T08:11:21.063Z"
   },
   {
    "duration": 7,
    "start_time": "2023-02-24T08:13:26.358Z"
   },
   {
    "duration": 1474,
    "start_time": "2023-02-24T08:13:30.826Z"
   },
   {
    "duration": 115,
    "start_time": "2023-02-24T08:13:32.302Z"
   },
   {
    "duration": 19,
    "start_time": "2023-02-24T08:13:32.419Z"
   },
   {
    "duration": 7,
    "start_time": "2023-02-24T08:13:32.440Z"
   },
   {
    "duration": 14,
    "start_time": "2023-02-24T08:13:32.450Z"
   },
   {
    "duration": 24,
    "start_time": "2023-02-24T08:13:32.466Z"
   },
   {
    "duration": 23,
    "start_time": "2023-02-24T08:13:32.493Z"
   },
   {
    "duration": 21,
    "start_time": "2023-02-24T08:13:32.519Z"
   },
   {
    "duration": 15,
    "start_time": "2023-02-24T08:13:32.542Z"
   },
   {
    "duration": 6,
    "start_time": "2023-02-24T08:13:32.558Z"
   },
   {
    "duration": 10,
    "start_time": "2023-02-24T08:13:32.566Z"
   },
   {
    "duration": 188,
    "start_time": "2023-02-24T08:13:32.578Z"
   },
   {
    "duration": 22,
    "start_time": "2023-02-24T08:13:32.768Z"
   },
   {
    "duration": 12,
    "start_time": "2023-02-24T08:13:32.796Z"
   },
   {
    "duration": 36,
    "start_time": "2023-02-24T08:13:32.810Z"
   },
   {
    "duration": 10,
    "start_time": "2023-02-24T08:13:32.848Z"
   },
   {
    "duration": 125,
    "start_time": "2023-02-24T08:13:32.860Z"
   },
   {
    "duration": 142,
    "start_time": "2023-02-24T08:13:32.987Z"
   },
   {
    "duration": 5,
    "start_time": "2023-02-24T08:13:33.131Z"
   },
   {
    "duration": 212,
    "start_time": "2023-02-24T08:13:33.140Z"
   },
   {
    "duration": 5,
    "start_time": "2023-02-24T08:13:33.355Z"
   },
   {
    "duration": 151,
    "start_time": "2023-02-24T08:13:33.362Z"
   },
   {
    "duration": 6,
    "start_time": "2023-02-24T08:13:33.515Z"
   },
   {
    "duration": 34,
    "start_time": "2023-02-24T08:13:33.522Z"
   },
   {
    "duration": 310,
    "start_time": "2023-02-24T08:13:33.558Z"
   },
   {
    "duration": 16,
    "start_time": "2023-02-24T08:13:33.870Z"
   },
   {
    "duration": 28,
    "start_time": "2023-02-24T08:13:33.889Z"
   },
   {
    "duration": 39,
    "start_time": "2023-02-24T08:13:33.919Z"
   },
   {
    "duration": 17,
    "start_time": "2023-02-24T08:13:33.960Z"
   },
   {
    "duration": 14,
    "start_time": "2023-02-24T08:13:33.979Z"
   },
   {
    "duration": 20,
    "start_time": "2023-02-24T08:13:33.995Z"
   },
   {
    "duration": 37,
    "start_time": "2023-02-24T08:13:34.018Z"
   },
   {
    "duration": 16,
    "start_time": "2023-02-24T08:13:34.057Z"
   },
   {
    "duration": 18,
    "start_time": "2023-02-24T08:13:34.074Z"
   },
   {
    "duration": 46,
    "start_time": "2023-02-24T08:13:34.094Z"
   },
   {
    "duration": 17,
    "start_time": "2023-02-24T08:13:34.143Z"
   },
   {
    "duration": 299,
    "start_time": "2023-02-24T08:13:59.135Z"
   },
   {
    "duration": 324,
    "start_time": "2023-02-24T08:14:21.850Z"
   },
   {
    "duration": 321,
    "start_time": "2023-02-24T08:16:51.425Z"
   },
   {
    "duration": 362,
    "start_time": "2023-02-24T08:17:04.153Z"
   },
   {
    "duration": 331,
    "start_time": "2023-02-24T08:25:31.402Z"
   },
   {
    "duration": 275,
    "start_time": "2023-02-24T08:25:45.294Z"
   },
   {
    "duration": 229,
    "start_time": "2023-02-24T08:27:12.566Z"
   },
   {
    "duration": 9,
    "start_time": "2023-02-24T08:27:48.768Z"
   },
   {
    "duration": 157,
    "start_time": "2023-02-24T08:27:57.931Z"
   },
   {
    "duration": 170,
    "start_time": "2023-02-24T08:30:52.413Z"
   },
   {
    "duration": 176,
    "start_time": "2023-02-24T08:31:02.849Z"
   },
   {
    "duration": 166,
    "start_time": "2023-02-24T08:31:46.181Z"
   },
   {
    "duration": 11,
    "start_time": "2023-02-24T08:33:32.128Z"
   },
   {
    "duration": 74,
    "start_time": "2023-02-24T08:34:12.736Z"
   },
   {
    "duration": 11,
    "start_time": "2023-02-24T08:34:21.015Z"
   },
   {
    "duration": 14,
    "start_time": "2023-02-24T08:34:26.808Z"
   },
   {
    "duration": 12,
    "start_time": "2023-02-24T08:34:43.660Z"
   },
   {
    "duration": 14,
    "start_time": "2023-02-24T08:34:52.304Z"
   },
   {
    "duration": 154,
    "start_time": "2023-02-24T08:35:11.430Z"
   },
   {
    "duration": 72,
    "start_time": "2023-02-24T08:35:38.964Z"
   },
   {
    "duration": 140,
    "start_time": "2023-02-24T08:35:43.662Z"
   },
   {
    "duration": 165,
    "start_time": "2023-02-24T08:36:18.712Z"
   },
   {
    "duration": 15,
    "start_time": "2023-02-24T08:37:54.994Z"
   },
   {
    "duration": 276,
    "start_time": "2023-02-24T08:38:12.689Z"
   },
   {
    "duration": 21,
    "start_time": "2023-02-24T08:39:13.309Z"
   },
   {
    "duration": 160,
    "start_time": "2023-02-24T08:39:38.651Z"
   },
   {
    "duration": 82,
    "start_time": "2023-02-24T08:40:47.855Z"
   },
   {
    "duration": 14,
    "start_time": "2023-02-24T08:42:46.666Z"
   },
   {
    "duration": 169,
    "start_time": "2023-02-24T08:43:27.441Z"
   },
   {
    "duration": 15,
    "start_time": "2023-02-24T08:43:56.928Z"
   },
   {
    "duration": 170,
    "start_time": "2023-02-24T08:44:27.753Z"
   },
   {
    "duration": 20,
    "start_time": "2023-02-24T08:45:05.925Z"
   },
   {
    "duration": 155,
    "start_time": "2023-02-24T08:45:27.394Z"
   },
   {
    "duration": 114,
    "start_time": "2023-02-24T08:46:17.863Z"
   },
   {
    "duration": 11,
    "start_time": "2023-02-24T08:46:20.910Z"
   },
   {
    "duration": 166,
    "start_time": "2023-02-24T08:46:24.370Z"
   },
   {
    "duration": 15,
    "start_time": "2023-02-24T08:46:33.276Z"
   },
   {
    "duration": 20,
    "start_time": "2023-02-24T08:46:58.656Z"
   },
   {
    "duration": 156,
    "start_time": "2023-02-24T08:47:20.534Z"
   },
   {
    "duration": 14,
    "start_time": "2023-02-24T08:47:51.680Z"
   },
   {
    "duration": 141,
    "start_time": "2023-02-24T08:48:14.203Z"
   },
   {
    "duration": 1181,
    "start_time": "2023-02-24T08:48:25.526Z"
   },
   {
    "duration": 69,
    "start_time": "2023-02-24T08:48:26.709Z"
   },
   {
    "duration": 21,
    "start_time": "2023-02-24T08:48:26.779Z"
   },
   {
    "duration": 15,
    "start_time": "2023-02-24T08:48:26.802Z"
   },
   {
    "duration": 13,
    "start_time": "2023-02-24T08:48:26.819Z"
   },
   {
    "duration": 20,
    "start_time": "2023-02-24T08:48:26.840Z"
   },
   {
    "duration": 54,
    "start_time": "2023-02-24T08:48:26.862Z"
   },
   {
    "duration": 10,
    "start_time": "2023-02-24T08:48:26.918Z"
   },
   {
    "duration": 25,
    "start_time": "2023-02-24T08:48:26.930Z"
   },
   {
    "duration": 11,
    "start_time": "2023-02-24T08:48:26.957Z"
   },
   {
    "duration": 13,
    "start_time": "2023-02-24T08:48:26.970Z"
   },
   {
    "duration": 178,
    "start_time": "2023-02-24T08:48:26.985Z"
   },
   {
    "duration": 21,
    "start_time": "2023-02-24T08:48:27.165Z"
   },
   {
    "duration": 191,
    "start_time": "2023-02-24T08:48:27.189Z"
   },
   {
    "duration": 9,
    "start_time": "2023-02-24T08:48:27.382Z"
   },
   {
    "duration": 12,
    "start_time": "2023-02-24T08:48:27.393Z"
   },
   {
    "duration": 264,
    "start_time": "2023-02-24T08:48:27.406Z"
   },
   {
    "duration": 113,
    "start_time": "2023-02-24T08:48:27.672Z"
   },
   {
    "duration": 6,
    "start_time": "2023-02-24T08:48:27.787Z"
   },
   {
    "duration": 151,
    "start_time": "2023-02-24T08:48:27.795Z"
   },
   {
    "duration": 5,
    "start_time": "2023-02-24T08:48:27.948Z"
   },
   {
    "duration": 148,
    "start_time": "2023-02-24T08:48:27.955Z"
   },
   {
    "duration": 5,
    "start_time": "2023-02-24T08:48:28.104Z"
   },
   {
    "duration": 10,
    "start_time": "2023-02-24T08:48:28.111Z"
   },
   {
    "duration": 318,
    "start_time": "2023-02-24T08:48:28.122Z"
   },
   {
    "duration": 16,
    "start_time": "2023-02-24T08:48:28.441Z"
   },
   {
    "duration": 165,
    "start_time": "2023-02-24T08:48:28.459Z"
   },
   {
    "duration": 20,
    "start_time": "2023-02-24T08:48:28.626Z"
   },
   {
    "duration": 183,
    "start_time": "2023-02-24T08:48:28.648Z"
   },
   {
    "duration": 24,
    "start_time": "2023-02-24T08:48:28.840Z"
   },
   {
    "duration": 292,
    "start_time": "2023-02-24T08:48:28.867Z"
   },
   {
    "duration": 15,
    "start_time": "2023-02-24T08:48:29.161Z"
   },
   {
    "duration": 173,
    "start_time": "2023-02-24T08:48:29.178Z"
   },
   {
    "duration": 15,
    "start_time": "2023-02-24T08:48:29.353Z"
   },
   {
    "duration": 185,
    "start_time": "2023-02-24T08:48:29.369Z"
   },
   {
    "duration": 15,
    "start_time": "2023-02-24T08:48:29.556Z"
   },
   {
    "duration": 173,
    "start_time": "2023-02-24T08:48:29.573Z"
   },
   {
    "duration": 16,
    "start_time": "2023-02-24T08:48:29.748Z"
   },
   {
    "duration": 193,
    "start_time": "2023-02-24T08:48:29.765Z"
   },
   {
    "duration": 15,
    "start_time": "2023-02-24T08:48:29.960Z"
   },
   {
    "duration": 174,
    "start_time": "2023-02-24T08:48:29.979Z"
   },
   {
    "duration": 15,
    "start_time": "2023-02-24T08:48:30.155Z"
   },
   {
    "duration": 150,
    "start_time": "2023-02-24T08:48:30.172Z"
   },
   {
    "duration": 21,
    "start_time": "2023-02-24T08:48:30.323Z"
   },
   {
    "duration": 46,
    "start_time": "2023-02-24T08:48:30.346Z"
   },
   {
    "duration": 7,
    "start_time": "2023-02-24T09:10:31.355Z"
   },
   {
    "duration": 79,
    "start_time": "2023-02-24T09:10:37.084Z"
   },
   {
    "duration": 6,
    "start_time": "2023-02-24T09:10:42.072Z"
   },
   {
    "duration": 9,
    "start_time": "2023-02-24T09:10:48.401Z"
   },
   {
    "duration": 1192,
    "start_time": "2023-02-24T09:11:17.422Z"
   },
   {
    "duration": 66,
    "start_time": "2023-02-24T09:11:18.616Z"
   },
   {
    "duration": 18,
    "start_time": "2023-02-24T09:11:18.684Z"
   },
   {
    "duration": 4,
    "start_time": "2023-02-24T09:11:18.703Z"
   },
   {
    "duration": 5,
    "start_time": "2023-02-24T09:11:18.709Z"
   },
   {
    "duration": 26,
    "start_time": "2023-02-24T09:11:18.716Z"
   },
   {
    "duration": 21,
    "start_time": "2023-02-24T09:11:18.744Z"
   },
   {
    "duration": 10,
    "start_time": "2023-02-24T09:11:18.766Z"
   },
   {
    "duration": 36,
    "start_time": "2023-02-24T09:11:18.778Z"
   },
   {
    "duration": 23,
    "start_time": "2023-02-24T09:11:18.816Z"
   },
   {
    "duration": 9,
    "start_time": "2023-02-24T09:11:18.842Z"
   },
   {
    "duration": 211,
    "start_time": "2023-02-24T09:11:18.853Z"
   },
   {
    "duration": 23,
    "start_time": "2023-02-24T09:11:19.065Z"
   },
   {
    "duration": 187,
    "start_time": "2023-02-24T09:11:19.092Z"
   },
   {
    "duration": 8,
    "start_time": "2023-02-24T09:11:19.281Z"
   },
   {
    "duration": 18,
    "start_time": "2023-02-24T09:11:19.291Z"
   },
   {
    "duration": 247,
    "start_time": "2023-02-24T09:11:19.311Z"
   },
   {
    "duration": 106,
    "start_time": "2023-02-24T09:11:19.560Z"
   },
   {
    "duration": 6,
    "start_time": "2023-02-24T09:11:19.668Z"
   },
   {
    "duration": 132,
    "start_time": "2023-02-24T09:11:19.676Z"
   },
   {
    "duration": 5,
    "start_time": "2023-02-24T09:11:19.810Z"
   },
   {
    "duration": 152,
    "start_time": "2023-02-24T09:11:19.817Z"
   },
   {
    "duration": 5,
    "start_time": "2023-02-24T09:11:19.971Z"
   },
   {
    "duration": 67,
    "start_time": "2023-02-24T09:11:19.977Z"
   },
   {
    "duration": 602,
    "start_time": "2023-02-24T09:11:20.046Z"
   },
   {
    "duration": 14,
    "start_time": "2023-02-24T09:11:20.650Z"
   },
   {
    "duration": 305,
    "start_time": "2023-02-24T09:11:20.666Z"
   },
   {
    "duration": 15,
    "start_time": "2023-02-24T09:11:20.973Z"
   },
   {
    "duration": 326,
    "start_time": "2023-02-24T09:11:21.040Z"
   },
   {
    "duration": 71,
    "start_time": "2023-02-24T09:11:21.368Z"
   },
   {
    "duration": 427,
    "start_time": "2023-02-24T09:11:21.441Z"
   },
   {
    "duration": 13,
    "start_time": "2023-02-24T09:11:21.870Z"
   },
   {
    "duration": 174,
    "start_time": "2023-02-24T09:11:21.885Z"
   },
   {
    "duration": 15,
    "start_time": "2023-02-24T09:11:22.060Z"
   },
   {
    "duration": 173,
    "start_time": "2023-02-24T09:11:22.077Z"
   },
   {
    "duration": 16,
    "start_time": "2023-02-24T09:11:22.252Z"
   },
   {
    "duration": 173,
    "start_time": "2023-02-24T09:11:22.270Z"
   },
   {
    "duration": 15,
    "start_time": "2023-02-24T09:11:22.445Z"
   },
   {
    "duration": 182,
    "start_time": "2023-02-24T09:11:22.462Z"
   },
   {
    "duration": 16,
    "start_time": "2023-02-24T09:11:22.646Z"
   },
   {
    "duration": 175,
    "start_time": "2023-02-24T09:11:22.667Z"
   },
   {
    "duration": 16,
    "start_time": "2023-02-24T09:11:22.843Z"
   },
   {
    "duration": 155,
    "start_time": "2023-02-24T09:11:22.860Z"
   },
   {
    "duration": 11,
    "start_time": "2023-02-24T09:11:23.017Z"
   },
   {
    "duration": 12,
    "start_time": "2023-02-24T09:11:23.040Z"
   },
   {
    "duration": 75,
    "start_time": "2023-02-24T09:11:52.497Z"
   },
   {
    "duration": 120,
    "start_time": "2023-02-24T09:12:18.836Z"
   },
   {
    "duration": 1190,
    "start_time": "2023-02-24T09:12:25.426Z"
   },
   {
    "duration": 65,
    "start_time": "2023-02-24T09:12:26.618Z"
   },
   {
    "duration": 18,
    "start_time": "2023-02-24T09:12:26.684Z"
   },
   {
    "duration": 3,
    "start_time": "2023-02-24T09:12:26.704Z"
   },
   {
    "duration": 10,
    "start_time": "2023-02-24T09:12:26.709Z"
   },
   {
    "duration": 22,
    "start_time": "2023-02-24T09:12:26.721Z"
   },
   {
    "duration": 18,
    "start_time": "2023-02-24T09:12:26.745Z"
   },
   {
    "duration": 10,
    "start_time": "2023-02-24T09:12:26.765Z"
   },
   {
    "duration": 14,
    "start_time": "2023-02-24T09:12:26.776Z"
   },
   {
    "duration": 6,
    "start_time": "2023-02-24T09:12:26.792Z"
   },
   {
    "duration": 42,
    "start_time": "2023-02-24T09:12:26.799Z"
   },
   {
    "duration": 257,
    "start_time": "2023-02-24T09:12:26.843Z"
   },
   {
    "duration": 24,
    "start_time": "2023-02-24T09:12:27.102Z"
   },
   {
    "duration": 193,
    "start_time": "2023-02-24T09:12:27.130Z"
   },
   {
    "duration": 18,
    "start_time": "2023-02-24T09:12:27.325Z"
   },
   {
    "duration": 8,
    "start_time": "2023-02-24T09:12:27.345Z"
   },
   {
    "duration": 397,
    "start_time": "2023-02-24T09:12:27.356Z"
   },
   {
    "duration": 213,
    "start_time": "2023-02-24T09:12:27.755Z"
   },
   {
    "duration": 6,
    "start_time": "2023-02-24T09:12:27.969Z"
   },
   {
    "duration": 289,
    "start_time": "2023-02-24T09:12:27.977Z"
   },
   {
    "duration": 5,
    "start_time": "2023-02-24T09:12:28.268Z"
   },
   {
    "duration": 290,
    "start_time": "2023-02-24T09:12:28.274Z"
   },
   {
    "duration": 5,
    "start_time": "2023-02-24T09:12:28.566Z"
   },
   {
    "duration": 14,
    "start_time": "2023-02-24T09:12:28.572Z"
   },
   {
    "duration": 686,
    "start_time": "2023-02-24T09:12:28.587Z"
   },
   {
    "duration": 69,
    "start_time": "2023-02-24T09:12:29.275Z"
   },
   {
    "duration": 312,
    "start_time": "2023-02-24T09:12:29.345Z"
   },
   {
    "duration": 14,
    "start_time": "2023-02-24T09:12:29.660Z"
   },
   {
    "duration": 501,
    "start_time": "2023-02-24T09:12:29.676Z"
   },
   {
    "duration": 67,
    "start_time": "2023-02-24T09:12:30.179Z"
   },
   {
    "duration": 321,
    "start_time": "2023-02-24T09:12:30.247Z"
   },
   {
    "duration": 13,
    "start_time": "2023-02-24T09:12:30.570Z"
   },
   {
    "duration": 362,
    "start_time": "2023-02-24T09:12:30.585Z"
   },
   {
    "duration": 16,
    "start_time": "2023-02-24T09:12:30.949Z"
   },
   {
    "duration": 373,
    "start_time": "2023-02-24T09:12:30.967Z"
   },
   {
    "duration": 15,
    "start_time": "2023-02-24T09:12:31.342Z"
   },
   {
    "duration": 240,
    "start_time": "2023-02-24T09:12:31.359Z"
   },
   {
    "duration": 14,
    "start_time": "2023-02-24T09:12:31.600Z"
   },
   {
    "duration": 171,
    "start_time": "2023-02-24T09:12:31.616Z"
   },
   {
    "duration": 15,
    "start_time": "2023-02-24T09:12:31.789Z"
   },
   {
    "duration": 188,
    "start_time": "2023-02-24T09:12:31.808Z"
   },
   {
    "duration": 17,
    "start_time": "2023-02-24T09:12:31.997Z"
   },
   {
    "duration": 182,
    "start_time": "2023-02-24T09:12:32.016Z"
   },
   {
    "duration": 11,
    "start_time": "2023-02-24T09:12:32.200Z"
   },
   {
    "duration": 29,
    "start_time": "2023-02-24T09:12:32.213Z"
   },
   {
    "duration": 121,
    "start_time": "2023-02-24T09:16:08.327Z"
   },
   {
    "duration": 217,
    "start_time": "2023-02-24T09:16:55.544Z"
   },
   {
    "duration": 136,
    "start_time": "2023-02-24T09:17:05.998Z"
   },
   {
    "duration": 214,
    "start_time": "2023-02-24T09:17:42.126Z"
   },
   {
    "duration": 1202,
    "start_time": "2023-02-24T09:17:49.012Z"
   },
   {
    "duration": 66,
    "start_time": "2023-02-24T09:17:50.216Z"
   },
   {
    "duration": 20,
    "start_time": "2023-02-24T09:17:50.283Z"
   },
   {
    "duration": 3,
    "start_time": "2023-02-24T09:17:50.305Z"
   },
   {
    "duration": 8,
    "start_time": "2023-02-24T09:17:50.311Z"
   },
   {
    "duration": 29,
    "start_time": "2023-02-24T09:17:50.320Z"
   },
   {
    "duration": 19,
    "start_time": "2023-02-24T09:17:50.350Z"
   },
   {
    "duration": 9,
    "start_time": "2023-02-24T09:17:50.371Z"
   },
   {
    "duration": 18,
    "start_time": "2023-02-24T09:17:50.382Z"
   },
   {
    "duration": 6,
    "start_time": "2023-02-24T09:17:50.402Z"
   },
   {
    "duration": 37,
    "start_time": "2023-02-24T09:17:50.410Z"
   },
   {
    "duration": 353,
    "start_time": "2023-02-24T09:17:50.449Z"
   },
   {
    "duration": 0,
    "start_time": "2023-02-24T09:17:50.805Z"
   },
   {
    "duration": 0,
    "start_time": "2023-02-24T09:17:50.806Z"
   },
   {
    "duration": 0,
    "start_time": "2023-02-24T09:17:50.807Z"
   },
   {
    "duration": 0,
    "start_time": "2023-02-24T09:17:50.808Z"
   },
   {
    "duration": 0,
    "start_time": "2023-02-24T09:17:50.809Z"
   },
   {
    "duration": 0,
    "start_time": "2023-02-24T09:17:50.811Z"
   },
   {
    "duration": 0,
    "start_time": "2023-02-24T09:17:50.812Z"
   },
   {
    "duration": 0,
    "start_time": "2023-02-24T09:17:50.813Z"
   },
   {
    "duration": 0,
    "start_time": "2023-02-24T09:17:50.814Z"
   },
   {
    "duration": 0,
    "start_time": "2023-02-24T09:17:50.840Z"
   },
   {
    "duration": 0,
    "start_time": "2023-02-24T09:17:50.841Z"
   },
   {
    "duration": 0,
    "start_time": "2023-02-24T09:17:50.842Z"
   },
   {
    "duration": 0,
    "start_time": "2023-02-24T09:17:50.844Z"
   },
   {
    "duration": 0,
    "start_time": "2023-02-24T09:17:50.845Z"
   },
   {
    "duration": 0,
    "start_time": "2023-02-24T09:17:50.845Z"
   },
   {
    "duration": 0,
    "start_time": "2023-02-24T09:17:50.846Z"
   },
   {
    "duration": 0,
    "start_time": "2023-02-24T09:17:50.848Z"
   },
   {
    "duration": 0,
    "start_time": "2023-02-24T09:17:50.849Z"
   },
   {
    "duration": 0,
    "start_time": "2023-02-24T09:17:50.851Z"
   },
   {
    "duration": 0,
    "start_time": "2023-02-24T09:17:50.852Z"
   },
   {
    "duration": 0,
    "start_time": "2023-02-24T09:17:50.853Z"
   },
   {
    "duration": 0,
    "start_time": "2023-02-24T09:17:50.854Z"
   },
   {
    "duration": 0,
    "start_time": "2023-02-24T09:17:50.855Z"
   },
   {
    "duration": 0,
    "start_time": "2023-02-24T09:17:50.857Z"
   },
   {
    "duration": 0,
    "start_time": "2023-02-24T09:17:50.858Z"
   },
   {
    "duration": 0,
    "start_time": "2023-02-24T09:17:50.859Z"
   },
   {
    "duration": 0,
    "start_time": "2023-02-24T09:17:50.860Z"
   },
   {
    "duration": 0,
    "start_time": "2023-02-24T09:17:50.862Z"
   },
   {
    "duration": 0,
    "start_time": "2023-02-24T09:17:50.863Z"
   },
   {
    "duration": 0,
    "start_time": "2023-02-24T09:17:50.864Z"
   },
   {
    "duration": 0,
    "start_time": "2023-02-24T09:17:50.865Z"
   },
   {
    "duration": 0,
    "start_time": "2023-02-24T09:17:50.867Z"
   },
   {
    "duration": 0,
    "start_time": "2023-02-24T09:17:50.868Z"
   },
   {
    "duration": 247,
    "start_time": "2023-02-24T09:18:15.355Z"
   },
   {
    "duration": 244,
    "start_time": "2023-02-24T09:19:27.661Z"
   },
   {
    "duration": 238,
    "start_time": "2023-02-24T09:19:36.082Z"
   },
   {
    "duration": 326,
    "start_time": "2023-02-24T09:20:38.345Z"
   },
   {
    "duration": 244,
    "start_time": "2023-02-24T09:20:53.696Z"
   },
   {
    "duration": 259,
    "start_time": "2023-02-24T09:20:59.254Z"
   },
   {
    "duration": 240,
    "start_time": "2023-02-24T09:21:11.990Z"
   },
   {
    "duration": 175,
    "start_time": "2023-02-24T09:22:15.240Z"
   },
   {
    "duration": 152,
    "start_time": "2023-02-24T09:22:40.281Z"
   },
   {
    "duration": 256,
    "start_time": "2023-02-24T09:22:54.239Z"
   },
   {
    "duration": 333,
    "start_time": "2023-02-24T09:23:11.847Z"
   },
   {
    "duration": 1230,
    "start_time": "2023-02-24T09:23:42.914Z"
   },
   {
    "duration": 68,
    "start_time": "2023-02-24T09:23:44.147Z"
   },
   {
    "duration": 19,
    "start_time": "2023-02-24T09:23:44.219Z"
   },
   {
    "duration": 3,
    "start_time": "2023-02-24T09:23:44.241Z"
   },
   {
    "duration": 9,
    "start_time": "2023-02-24T09:23:44.245Z"
   },
   {
    "duration": 10,
    "start_time": "2023-02-24T09:23:44.256Z"
   },
   {
    "duration": 17,
    "start_time": "2023-02-24T09:23:44.268Z"
   },
   {
    "duration": 10,
    "start_time": "2023-02-24T09:23:44.287Z"
   },
   {
    "duration": 42,
    "start_time": "2023-02-24T09:23:44.298Z"
   },
   {
    "duration": 6,
    "start_time": "2023-02-24T09:23:44.342Z"
   },
   {
    "duration": 24,
    "start_time": "2023-02-24T09:23:44.350Z"
   },
   {
    "duration": 123,
    "start_time": "2023-02-24T09:23:44.376Z"
   },
   {
    "duration": 0,
    "start_time": "2023-02-24T09:23:44.502Z"
   },
   {
    "duration": 0,
    "start_time": "2023-02-24T09:23:44.504Z"
   },
   {
    "duration": 0,
    "start_time": "2023-02-24T09:23:44.505Z"
   },
   {
    "duration": 0,
    "start_time": "2023-02-24T09:23:44.506Z"
   },
   {
    "duration": 0,
    "start_time": "2023-02-24T09:23:44.507Z"
   },
   {
    "duration": 0,
    "start_time": "2023-02-24T09:23:44.509Z"
   },
   {
    "duration": 0,
    "start_time": "2023-02-24T09:23:44.510Z"
   },
   {
    "duration": 0,
    "start_time": "2023-02-24T09:23:44.512Z"
   },
   {
    "duration": 0,
    "start_time": "2023-02-24T09:23:44.513Z"
   },
   {
    "duration": 0,
    "start_time": "2023-02-24T09:23:44.514Z"
   },
   {
    "duration": 0,
    "start_time": "2023-02-24T09:23:44.515Z"
   },
   {
    "duration": 0,
    "start_time": "2023-02-24T09:23:44.540Z"
   },
   {
    "duration": 0,
    "start_time": "2023-02-24T09:23:44.541Z"
   },
   {
    "duration": 0,
    "start_time": "2023-02-24T09:23:44.542Z"
   },
   {
    "duration": 0,
    "start_time": "2023-02-24T09:23:44.543Z"
   },
   {
    "duration": 1,
    "start_time": "2023-02-24T09:23:44.544Z"
   },
   {
    "duration": 0,
    "start_time": "2023-02-24T09:23:44.546Z"
   },
   {
    "duration": 0,
    "start_time": "2023-02-24T09:23:44.547Z"
   },
   {
    "duration": 0,
    "start_time": "2023-02-24T09:23:44.548Z"
   },
   {
    "duration": 0,
    "start_time": "2023-02-24T09:23:44.549Z"
   },
   {
    "duration": 0,
    "start_time": "2023-02-24T09:23:44.550Z"
   },
   {
    "duration": 0,
    "start_time": "2023-02-24T09:23:44.552Z"
   },
   {
    "duration": 0,
    "start_time": "2023-02-24T09:23:44.553Z"
   },
   {
    "duration": 0,
    "start_time": "2023-02-24T09:23:44.554Z"
   },
   {
    "duration": 0,
    "start_time": "2023-02-24T09:23:44.556Z"
   },
   {
    "duration": 0,
    "start_time": "2023-02-24T09:23:44.557Z"
   },
   {
    "duration": 0,
    "start_time": "2023-02-24T09:23:44.560Z"
   },
   {
    "duration": 0,
    "start_time": "2023-02-24T09:23:44.561Z"
   },
   {
    "duration": 0,
    "start_time": "2023-02-24T09:23:44.563Z"
   },
   {
    "duration": 0,
    "start_time": "2023-02-24T09:23:44.567Z"
   },
   {
    "duration": 0,
    "start_time": "2023-02-24T09:23:44.568Z"
   },
   {
    "duration": 0,
    "start_time": "2023-02-24T09:23:44.569Z"
   },
   {
    "duration": 0,
    "start_time": "2023-02-24T09:23:44.571Z"
   },
   {
    "duration": 19,
    "start_time": "2023-02-24T09:24:04.165Z"
   },
   {
    "duration": 1190,
    "start_time": "2023-02-24T09:24:10.066Z"
   },
   {
    "duration": 70,
    "start_time": "2023-02-24T09:24:11.258Z"
   },
   {
    "duration": 21,
    "start_time": "2023-02-24T09:24:11.330Z"
   },
   {
    "duration": 4,
    "start_time": "2023-02-24T09:24:11.354Z"
   },
   {
    "duration": 20,
    "start_time": "2023-02-24T09:24:11.360Z"
   },
   {
    "duration": 21,
    "start_time": "2023-02-24T09:24:11.382Z"
   },
   {
    "duration": 23,
    "start_time": "2023-02-24T09:24:11.405Z"
   },
   {
    "duration": 14,
    "start_time": "2023-02-24T09:24:11.431Z"
   },
   {
    "duration": 29,
    "start_time": "2023-02-24T09:24:11.447Z"
   },
   {
    "duration": 10,
    "start_time": "2023-02-24T09:24:11.479Z"
   },
   {
    "duration": 18,
    "start_time": "2023-02-24T09:24:11.491Z"
   },
   {
    "duration": 308,
    "start_time": "2023-02-24T09:24:11.511Z"
   },
   {
    "duration": 25,
    "start_time": "2023-02-24T09:24:11.820Z"
   },
   {
    "duration": 185,
    "start_time": "2023-02-24T09:24:11.847Z"
   },
   {
    "duration": 11,
    "start_time": "2023-02-24T09:24:12.049Z"
   },
   {
    "duration": 15,
    "start_time": "2023-02-24T09:24:12.061Z"
   },
   {
    "duration": 313,
    "start_time": "2023-02-24T09:24:12.078Z"
   },
   {
    "duration": 121,
    "start_time": "2023-02-24T09:24:12.393Z"
   },
   {
    "duration": 6,
    "start_time": "2023-02-24T09:24:12.516Z"
   },
   {
    "duration": 141,
    "start_time": "2023-02-24T09:24:12.524Z"
   },
   {
    "duration": 5,
    "start_time": "2023-02-24T09:24:12.667Z"
   },
   {
    "duration": 141,
    "start_time": "2023-02-24T09:24:12.674Z"
   },
   {
    "duration": 6,
    "start_time": "2023-02-24T09:24:12.817Z"
   },
   {
    "duration": 23,
    "start_time": "2023-02-24T09:24:12.825Z"
   },
   {
    "duration": 314,
    "start_time": "2023-02-24T09:24:12.850Z"
   },
   {
    "duration": 20,
    "start_time": "2023-02-24T09:24:13.166Z"
   },
   {
    "duration": 162,
    "start_time": "2023-02-24T09:24:13.188Z"
   },
   {
    "duration": 18,
    "start_time": "2023-02-24T09:24:13.354Z"
   },
   {
    "duration": 271,
    "start_time": "2023-02-24T09:24:13.374Z"
   },
   {
    "duration": 15,
    "start_time": "2023-02-24T09:24:13.646Z"
   },
   {
    "duration": 179,
    "start_time": "2023-02-24T09:24:13.663Z"
   },
   {
    "duration": 15,
    "start_time": "2023-02-24T09:24:13.844Z"
   },
   {
    "duration": 182,
    "start_time": "2023-02-24T09:24:13.861Z"
   },
   {
    "duration": 15,
    "start_time": "2023-02-24T09:24:14.044Z"
   },
   {
    "duration": 206,
    "start_time": "2023-02-24T09:24:14.061Z"
   },
   {
    "duration": 13,
    "start_time": "2023-02-24T09:24:14.269Z"
   },
   {
    "duration": 168,
    "start_time": "2023-02-24T09:24:14.284Z"
   },
   {
    "duration": 16,
    "start_time": "2023-02-24T09:24:14.454Z"
   },
   {
    "duration": 179,
    "start_time": "2023-02-24T09:24:14.471Z"
   },
   {
    "duration": 22,
    "start_time": "2023-02-24T09:24:14.652Z"
   },
   {
    "duration": 200,
    "start_time": "2023-02-24T09:24:14.676Z"
   },
   {
    "duration": 18,
    "start_time": "2023-02-24T09:24:14.880Z"
   },
   {
    "duration": 168,
    "start_time": "2023-02-24T09:24:14.900Z"
   },
   {
    "duration": 11,
    "start_time": "2023-02-24T09:24:15.070Z"
   },
   {
    "duration": 18,
    "start_time": "2023-02-24T09:24:15.084Z"
   },
   {
    "duration": 83,
    "start_time": "2023-02-24T09:25:28.326Z"
   },
   {
    "duration": 111,
    "start_time": "2023-02-24T09:25:32.101Z"
   },
   {
    "duration": 120,
    "start_time": "2023-02-24T09:26:02.304Z"
   },
   {
    "duration": 159,
    "start_time": "2023-02-24T09:26:08.140Z"
   },
   {
    "duration": 1145,
    "start_time": "2023-02-24T09:26:14.190Z"
   },
   {
    "duration": 65,
    "start_time": "2023-02-24T09:26:15.337Z"
   },
   {
    "duration": 20,
    "start_time": "2023-02-24T09:26:15.404Z"
   },
   {
    "duration": 3,
    "start_time": "2023-02-24T09:26:15.427Z"
   },
   {
    "duration": 9,
    "start_time": "2023-02-24T09:26:15.432Z"
   },
   {
    "duration": 10,
    "start_time": "2023-02-24T09:26:15.443Z"
   },
   {
    "duration": 34,
    "start_time": "2023-02-24T09:26:15.454Z"
   },
   {
    "duration": 9,
    "start_time": "2023-02-24T09:26:15.490Z"
   },
   {
    "duration": 20,
    "start_time": "2023-02-24T09:26:15.501Z"
   },
   {
    "duration": 19,
    "start_time": "2023-02-24T09:26:15.524Z"
   },
   {
    "duration": 7,
    "start_time": "2023-02-24T09:26:15.545Z"
   },
   {
    "duration": 310,
    "start_time": "2023-02-24T09:26:15.554Z"
   },
   {
    "duration": 31,
    "start_time": "2023-02-24T09:26:15.866Z"
   },
   {
    "duration": 206,
    "start_time": "2023-02-24T09:26:15.900Z"
   },
   {
    "duration": 10,
    "start_time": "2023-02-24T09:26:16.108Z"
   },
   {
    "duration": 21,
    "start_time": "2023-02-24T09:26:16.121Z"
   },
   {
    "duration": 239,
    "start_time": "2023-02-24T09:26:16.144Z"
   },
   {
    "duration": 109,
    "start_time": "2023-02-24T09:26:16.384Z"
   },
   {
    "duration": 6,
    "start_time": "2023-02-24T09:26:16.495Z"
   },
   {
    "duration": 141,
    "start_time": "2023-02-24T09:26:16.503Z"
   },
   {
    "duration": 5,
    "start_time": "2023-02-24T09:26:16.645Z"
   },
   {
    "duration": 142,
    "start_time": "2023-02-24T09:26:16.652Z"
   },
   {
    "duration": 4,
    "start_time": "2023-02-24T09:26:16.796Z"
   },
   {
    "duration": 8,
    "start_time": "2023-02-24T09:26:16.802Z"
   },
   {
    "duration": 311,
    "start_time": "2023-02-24T09:26:16.812Z"
   },
   {
    "duration": 29,
    "start_time": "2023-02-24T09:26:17.126Z"
   },
   {
    "duration": 172,
    "start_time": "2023-02-24T09:26:17.157Z"
   },
   {
    "duration": 19,
    "start_time": "2023-02-24T09:26:17.334Z"
   },
   {
    "duration": 264,
    "start_time": "2023-02-24T09:26:17.355Z"
   },
   {
    "duration": 20,
    "start_time": "2023-02-24T09:26:17.621Z"
   },
   {
    "duration": 173,
    "start_time": "2023-02-24T09:26:17.643Z"
   },
   {
    "duration": 26,
    "start_time": "2023-02-24T09:26:17.818Z"
   },
   {
    "duration": 179,
    "start_time": "2023-02-24T09:26:17.846Z"
   },
   {
    "duration": 22,
    "start_time": "2023-02-24T09:26:18.027Z"
   },
   {
    "duration": 182,
    "start_time": "2023-02-24T09:26:18.051Z"
   },
   {
    "duration": 18,
    "start_time": "2023-02-24T09:26:18.235Z"
   },
   {
    "duration": 178,
    "start_time": "2023-02-24T09:26:18.254Z"
   },
   {
    "duration": 14,
    "start_time": "2023-02-24T09:26:18.440Z"
   },
   {
    "duration": 184,
    "start_time": "2023-02-24T09:26:18.456Z"
   },
   {
    "duration": 15,
    "start_time": "2023-02-24T09:26:18.642Z"
   },
   {
    "duration": 173,
    "start_time": "2023-02-24T09:26:18.658Z"
   },
   {
    "duration": 14,
    "start_time": "2023-02-24T09:26:18.840Z"
   },
   {
    "duration": 152,
    "start_time": "2023-02-24T09:26:18.856Z"
   },
   {
    "duration": 13,
    "start_time": "2023-02-24T09:26:19.010Z"
   },
   {
    "duration": 25,
    "start_time": "2023-02-24T09:26:19.025Z"
   },
   {
    "duration": 165,
    "start_time": "2023-02-24T09:26:57.545Z"
   },
   {
    "duration": 118,
    "start_time": "2023-02-24T09:27:51.436Z"
   },
   {
    "duration": 222,
    "start_time": "2023-02-24T09:29:49.132Z"
   },
   {
    "duration": 140,
    "start_time": "2023-02-24T09:30:09.426Z"
   },
   {
    "duration": 1197,
    "start_time": "2023-02-24T09:30:14.823Z"
   },
   {
    "duration": 73,
    "start_time": "2023-02-24T09:30:16.023Z"
   },
   {
    "duration": 29,
    "start_time": "2023-02-24T09:30:16.099Z"
   },
   {
    "duration": 5,
    "start_time": "2023-02-24T09:30:16.130Z"
   },
   {
    "duration": 9,
    "start_time": "2023-02-24T09:30:16.139Z"
   },
   {
    "duration": 25,
    "start_time": "2023-02-24T09:30:16.149Z"
   },
   {
    "duration": 19,
    "start_time": "2023-02-24T09:30:16.175Z"
   },
   {
    "duration": 10,
    "start_time": "2023-02-24T09:30:16.196Z"
   },
   {
    "duration": 33,
    "start_time": "2023-02-24T09:30:16.207Z"
   },
   {
    "duration": 6,
    "start_time": "2023-02-24T09:30:16.241Z"
   },
   {
    "duration": 12,
    "start_time": "2023-02-24T09:30:16.249Z"
   },
   {
    "duration": 339,
    "start_time": "2023-02-24T09:30:16.263Z"
   },
   {
    "duration": 21,
    "start_time": "2023-02-24T09:30:16.604Z"
   },
   {
    "duration": 180,
    "start_time": "2023-02-24T09:30:16.641Z"
   },
   {
    "duration": 19,
    "start_time": "2023-02-24T09:30:16.822Z"
   },
   {
    "duration": 8,
    "start_time": "2023-02-24T09:30:16.843Z"
   },
   {
    "duration": 291,
    "start_time": "2023-02-24T09:30:16.852Z"
   },
   {
    "duration": 232,
    "start_time": "2023-02-24T09:30:17.145Z"
   },
   {
    "duration": 0,
    "start_time": "2023-02-24T09:30:17.379Z"
   },
   {
    "duration": 0,
    "start_time": "2023-02-24T09:30:17.380Z"
   },
   {
    "duration": 0,
    "start_time": "2023-02-24T09:30:17.381Z"
   },
   {
    "duration": 0,
    "start_time": "2023-02-24T09:30:17.383Z"
   },
   {
    "duration": 0,
    "start_time": "2023-02-24T09:30:17.384Z"
   },
   {
    "duration": 0,
    "start_time": "2023-02-24T09:30:17.385Z"
   },
   {
    "duration": 0,
    "start_time": "2023-02-24T09:30:17.386Z"
   },
   {
    "duration": 0,
    "start_time": "2023-02-24T09:30:17.388Z"
   },
   {
    "duration": 0,
    "start_time": "2023-02-24T09:30:17.389Z"
   },
   {
    "duration": 0,
    "start_time": "2023-02-24T09:30:17.389Z"
   },
   {
    "duration": 0,
    "start_time": "2023-02-24T09:30:17.391Z"
   },
   {
    "duration": 0,
    "start_time": "2023-02-24T09:30:17.392Z"
   },
   {
    "duration": 0,
    "start_time": "2023-02-24T09:30:17.393Z"
   },
   {
    "duration": 0,
    "start_time": "2023-02-24T09:30:17.394Z"
   },
   {
    "duration": 0,
    "start_time": "2023-02-24T09:30:17.395Z"
   },
   {
    "duration": 0,
    "start_time": "2023-02-24T09:30:17.396Z"
   },
   {
    "duration": 0,
    "start_time": "2023-02-24T09:30:17.398Z"
   },
   {
    "duration": 0,
    "start_time": "2023-02-24T09:30:17.398Z"
   },
   {
    "duration": 0,
    "start_time": "2023-02-24T09:30:17.400Z"
   },
   {
    "duration": 0,
    "start_time": "2023-02-24T09:30:17.401Z"
   },
   {
    "duration": 0,
    "start_time": "2023-02-24T09:30:17.402Z"
   },
   {
    "duration": 0,
    "start_time": "2023-02-24T09:30:17.440Z"
   },
   {
    "duration": 0,
    "start_time": "2023-02-24T09:30:17.441Z"
   },
   {
    "duration": 0,
    "start_time": "2023-02-24T09:30:17.442Z"
   },
   {
    "duration": 0,
    "start_time": "2023-02-24T09:30:17.444Z"
   },
   {
    "duration": 0,
    "start_time": "2023-02-24T09:30:17.445Z"
   },
   {
    "duration": 0,
    "start_time": "2023-02-24T09:30:17.446Z"
   },
   {
    "duration": 11,
    "start_time": "2023-02-24T09:31:36.010Z"
   },
   {
    "duration": 114,
    "start_time": "2023-02-24T09:31:52.428Z"
   },
   {
    "duration": 12,
    "start_time": "2023-02-24T09:32:48.865Z"
   },
   {
    "duration": 125,
    "start_time": "2023-02-24T09:33:55.696Z"
   },
   {
    "duration": 122,
    "start_time": "2023-02-24T09:37:09.141Z"
   },
   {
    "duration": 1162,
    "start_time": "2023-02-24T09:41:34.782Z"
   },
   {
    "duration": 68,
    "start_time": "2023-02-24T09:41:35.947Z"
   },
   {
    "duration": 22,
    "start_time": "2023-02-24T09:41:36.019Z"
   },
   {
    "duration": 11,
    "start_time": "2023-02-24T09:41:36.043Z"
   },
   {
    "duration": 13,
    "start_time": "2023-02-24T09:41:36.057Z"
   },
   {
    "duration": 13,
    "start_time": "2023-02-24T09:41:36.073Z"
   },
   {
    "duration": 47,
    "start_time": "2023-02-24T09:41:36.088Z"
   },
   {
    "duration": 11,
    "start_time": "2023-02-24T09:41:36.136Z"
   },
   {
    "duration": 27,
    "start_time": "2023-02-24T09:41:36.149Z"
   },
   {
    "duration": 11,
    "start_time": "2023-02-24T09:41:36.178Z"
   },
   {
    "duration": 9,
    "start_time": "2023-02-24T09:41:36.190Z"
   },
   {
    "duration": 299,
    "start_time": "2023-02-24T09:41:36.201Z"
   },
   {
    "duration": 22,
    "start_time": "2023-02-24T09:41:36.501Z"
   },
   {
    "duration": 193,
    "start_time": "2023-02-24T09:41:36.539Z"
   },
   {
    "duration": 9,
    "start_time": "2023-02-24T09:41:36.735Z"
   },
   {
    "duration": 28,
    "start_time": "2023-02-24T09:41:36.745Z"
   },
   {
    "duration": 284,
    "start_time": "2023-02-24T09:41:36.774Z"
   },
   {
    "duration": 145,
    "start_time": "2023-02-24T09:41:37.060Z"
   },
   {
    "duration": 7,
    "start_time": "2023-02-24T09:41:37.207Z"
   },
   {
    "duration": 141,
    "start_time": "2023-02-24T09:41:37.217Z"
   },
   {
    "duration": 6,
    "start_time": "2023-02-24T09:41:37.360Z"
   },
   {
    "duration": 138,
    "start_time": "2023-02-24T09:41:37.368Z"
   },
   {
    "duration": 5,
    "start_time": "2023-02-24T09:41:37.508Z"
   },
   {
    "duration": 26,
    "start_time": "2023-02-24T09:41:37.515Z"
   },
   {
    "duration": 310,
    "start_time": "2023-02-24T09:41:37.543Z"
   },
   {
    "duration": 17,
    "start_time": "2023-02-24T09:41:37.856Z"
   },
   {
    "duration": 178,
    "start_time": "2023-02-24T09:41:37.875Z"
   },
   {
    "duration": 15,
    "start_time": "2023-02-24T09:41:38.055Z"
   },
   {
    "duration": 263,
    "start_time": "2023-02-24T09:41:38.071Z"
   },
   {
    "duration": 14,
    "start_time": "2023-02-24T09:41:38.340Z"
   },
   {
    "duration": 179,
    "start_time": "2023-02-24T09:41:38.356Z"
   },
   {
    "duration": 16,
    "start_time": "2023-02-24T09:41:38.539Z"
   },
   {
    "duration": 172,
    "start_time": "2023-02-24T09:41:38.558Z"
   },
   {
    "duration": 20,
    "start_time": "2023-02-24T09:41:38.732Z"
   },
   {
    "duration": 230,
    "start_time": "2023-02-24T09:41:38.754Z"
   },
   {
    "duration": 20,
    "start_time": "2023-02-24T09:41:38.985Z"
   },
   {
    "duration": 193,
    "start_time": "2023-02-24T09:41:39.008Z"
   },
   {
    "duration": 14,
    "start_time": "2023-02-24T09:41:39.203Z"
   },
   {
    "duration": 181,
    "start_time": "2023-02-24T09:41:39.219Z"
   },
   {
    "duration": 15,
    "start_time": "2023-02-24T09:41:39.402Z"
   },
   {
    "duration": 183,
    "start_time": "2023-02-24T09:41:39.421Z"
   },
   {
    "duration": 15,
    "start_time": "2023-02-24T09:41:39.606Z"
   },
   {
    "duration": 176,
    "start_time": "2023-02-24T09:41:39.623Z"
   },
   {
    "duration": 11,
    "start_time": "2023-02-24T09:41:39.801Z"
   },
   {
    "duration": 17,
    "start_time": "2023-02-24T09:41:39.814Z"
   },
   {
    "duration": 1276,
    "start_time": "2023-02-24T09:46:33.645Z"
   },
   {
    "duration": 67,
    "start_time": "2023-02-24T09:46:34.925Z"
   },
   {
    "duration": 22,
    "start_time": "2023-02-24T09:46:34.995Z"
   },
   {
    "duration": 3,
    "start_time": "2023-02-24T09:46:35.019Z"
   },
   {
    "duration": 7,
    "start_time": "2023-02-24T09:46:35.039Z"
   },
   {
    "duration": 15,
    "start_time": "2023-02-24T09:46:35.048Z"
   },
   {
    "duration": 23,
    "start_time": "2023-02-24T09:46:35.065Z"
   },
   {
    "duration": 11,
    "start_time": "2023-02-24T09:46:35.090Z"
   },
   {
    "duration": 51,
    "start_time": "2023-02-24T09:46:35.103Z"
   },
   {
    "duration": 7,
    "start_time": "2023-02-24T09:46:35.156Z"
   },
   {
    "duration": 11,
    "start_time": "2023-02-24T09:46:35.165Z"
   },
   {
    "duration": 348,
    "start_time": "2023-02-24T09:46:35.178Z"
   },
   {
    "duration": 32,
    "start_time": "2023-02-24T09:46:35.528Z"
   },
   {
    "duration": 197,
    "start_time": "2023-02-24T09:46:35.563Z"
   },
   {
    "duration": 8,
    "start_time": "2023-02-24T09:46:35.762Z"
   },
   {
    "duration": 11,
    "start_time": "2023-02-24T09:46:35.772Z"
   },
   {
    "duration": 346,
    "start_time": "2023-02-24T09:46:35.785Z"
   },
   {
    "duration": 136,
    "start_time": "2023-02-24T09:46:36.133Z"
   },
   {
    "duration": 5,
    "start_time": "2023-02-24T09:46:36.271Z"
   },
   {
    "duration": 150,
    "start_time": "2023-02-24T09:46:36.278Z"
   },
   {
    "duration": 14,
    "start_time": "2023-02-24T09:46:36.430Z"
   },
   {
    "duration": 135,
    "start_time": "2023-02-24T09:46:36.446Z"
   },
   {
    "duration": 6,
    "start_time": "2023-02-24T09:46:36.584Z"
   },
   {
    "duration": 13,
    "start_time": "2023-02-24T09:46:36.592Z"
   },
   {
    "duration": 319,
    "start_time": "2023-02-24T09:46:36.607Z"
   },
   {
    "duration": 28,
    "start_time": "2023-02-24T09:46:36.929Z"
   },
   {
    "duration": 176,
    "start_time": "2023-02-24T09:46:36.959Z"
   },
   {
    "duration": 19,
    "start_time": "2023-02-24T09:46:37.140Z"
   },
   {
    "duration": 281,
    "start_time": "2023-02-24T09:46:37.161Z"
   },
   {
    "duration": 22,
    "start_time": "2023-02-24T09:46:37.444Z"
   },
   {
    "duration": 200,
    "start_time": "2023-02-24T09:46:37.468Z"
   },
   {
    "duration": 19,
    "start_time": "2023-02-24T09:46:37.670Z"
   },
   {
    "duration": 184,
    "start_time": "2023-02-24T09:46:37.691Z"
   },
   {
    "duration": 20,
    "start_time": "2023-02-24T09:46:37.877Z"
   },
   {
    "duration": 195,
    "start_time": "2023-02-24T09:46:37.900Z"
   },
   {
    "duration": 17,
    "start_time": "2023-02-24T09:46:38.097Z"
   },
   {
    "duration": 183,
    "start_time": "2023-02-24T09:46:38.117Z"
   },
   {
    "duration": 18,
    "start_time": "2023-02-24T09:46:38.303Z"
   },
   {
    "duration": 194,
    "start_time": "2023-02-24T09:46:38.323Z"
   },
   {
    "duration": 27,
    "start_time": "2023-02-24T09:46:38.519Z"
   },
   {
    "duration": 180,
    "start_time": "2023-02-24T09:46:38.552Z"
   },
   {
    "duration": 18,
    "start_time": "2023-02-24T09:46:38.740Z"
   },
   {
    "duration": 215,
    "start_time": "2023-02-24T09:46:38.760Z"
   },
   {
    "duration": 14,
    "start_time": "2023-02-24T09:46:38.977Z"
   },
   {
    "duration": 32,
    "start_time": "2023-02-24T09:46:38.994Z"
   },
   {
    "duration": 79,
    "start_time": "2023-02-24T18:29:50.563Z"
   },
   {
    "duration": 192,
    "start_time": "2023-02-25T08:22:30.575Z"
   },
   {
    "duration": 49,
    "start_time": "2023-02-25T08:23:00.751Z"
   },
   {
    "duration": 1418,
    "start_time": "2023-02-25T08:23:05.615Z"
   },
   {
    "duration": 213,
    "start_time": "2023-02-25T08:23:07.035Z"
   },
   {
    "duration": 19,
    "start_time": "2023-02-25T08:23:07.250Z"
   },
   {
    "duration": 3,
    "start_time": "2023-02-25T08:23:07.271Z"
   },
   {
    "duration": 10,
    "start_time": "2023-02-25T08:23:07.277Z"
   },
   {
    "duration": 13,
    "start_time": "2023-02-25T08:23:07.288Z"
   },
   {
    "duration": 33,
    "start_time": "2023-02-25T08:23:07.302Z"
   },
   {
    "duration": 18,
    "start_time": "2023-02-25T08:23:07.337Z"
   },
   {
    "duration": 13,
    "start_time": "2023-02-25T08:23:07.357Z"
   },
   {
    "duration": 6,
    "start_time": "2023-02-25T08:23:07.373Z"
   },
   {
    "duration": 23,
    "start_time": "2023-02-25T08:23:07.381Z"
   },
   {
    "duration": 300,
    "start_time": "2023-02-25T08:23:07.407Z"
   },
   {
    "duration": 0,
    "start_time": "2023-02-25T08:23:07.709Z"
   },
   {
    "duration": 0,
    "start_time": "2023-02-25T08:23:07.710Z"
   },
   {
    "duration": 0,
    "start_time": "2023-02-25T08:23:07.712Z"
   },
   {
    "duration": 0,
    "start_time": "2023-02-25T08:23:07.713Z"
   },
   {
    "duration": 0,
    "start_time": "2023-02-25T08:23:07.714Z"
   },
   {
    "duration": 0,
    "start_time": "2023-02-25T08:23:07.715Z"
   },
   {
    "duration": 0,
    "start_time": "2023-02-25T08:23:07.717Z"
   },
   {
    "duration": 0,
    "start_time": "2023-02-25T08:23:07.718Z"
   },
   {
    "duration": 0,
    "start_time": "2023-02-25T08:23:07.719Z"
   },
   {
    "duration": 0,
    "start_time": "2023-02-25T08:23:07.720Z"
   },
   {
    "duration": 0,
    "start_time": "2023-02-25T08:23:07.749Z"
   },
   {
    "duration": 0,
    "start_time": "2023-02-25T08:23:07.750Z"
   },
   {
    "duration": 0,
    "start_time": "2023-02-25T08:23:07.752Z"
   },
   {
    "duration": 0,
    "start_time": "2023-02-25T08:23:07.753Z"
   },
   {
    "duration": 0,
    "start_time": "2023-02-25T08:23:07.754Z"
   },
   {
    "duration": 0,
    "start_time": "2023-02-25T08:23:07.755Z"
   },
   {
    "duration": 0,
    "start_time": "2023-02-25T08:23:07.756Z"
   },
   {
    "duration": 0,
    "start_time": "2023-02-25T08:23:07.757Z"
   },
   {
    "duration": 0,
    "start_time": "2023-02-25T08:23:07.758Z"
   },
   {
    "duration": 0,
    "start_time": "2023-02-25T08:23:07.759Z"
   },
   {
    "duration": 0,
    "start_time": "2023-02-25T08:23:07.760Z"
   },
   {
    "duration": 0,
    "start_time": "2023-02-25T08:23:07.761Z"
   },
   {
    "duration": 0,
    "start_time": "2023-02-25T08:23:07.763Z"
   },
   {
    "duration": 0,
    "start_time": "2023-02-25T08:23:07.764Z"
   },
   {
    "duration": 0,
    "start_time": "2023-02-25T08:23:07.764Z"
   },
   {
    "duration": 0,
    "start_time": "2023-02-25T08:23:07.765Z"
   },
   {
    "duration": 0,
    "start_time": "2023-02-25T08:23:07.766Z"
   },
   {
    "duration": 0,
    "start_time": "2023-02-25T08:23:07.768Z"
   },
   {
    "duration": 0,
    "start_time": "2023-02-25T08:23:07.769Z"
   },
   {
    "duration": 0,
    "start_time": "2023-02-25T08:23:07.770Z"
   },
   {
    "duration": 0,
    "start_time": "2023-02-25T08:23:07.772Z"
   },
   {
    "duration": 0,
    "start_time": "2023-02-25T08:23:07.773Z"
   },
   {
    "duration": 0,
    "start_time": "2023-02-25T08:23:07.774Z"
   },
   {
    "duration": 280,
    "start_time": "2023-02-25T08:23:31.706Z"
   },
   {
    "duration": 134,
    "start_time": "2023-02-25T08:28:24.007Z"
   },
   {
    "duration": 134,
    "start_time": "2023-02-25T08:28:30.097Z"
   },
   {
    "duration": 142,
    "start_time": "2023-02-25T08:29:39.861Z"
   },
   {
    "duration": 138,
    "start_time": "2023-02-25T08:30:00.556Z"
   },
   {
    "duration": 187,
    "start_time": "2023-02-25T08:30:14.556Z"
   },
   {
    "duration": 341,
    "start_time": "2023-02-25T08:30:28.571Z"
   },
   {
    "duration": 272,
    "start_time": "2023-02-25T08:30:38.660Z"
   },
   {
    "duration": 286,
    "start_time": "2023-02-25T08:30:49.147Z"
   },
   {
    "duration": 263,
    "start_time": "2023-02-25T08:31:06.700Z"
   },
   {
    "duration": 263,
    "start_time": "2023-02-25T08:31:11.268Z"
   },
   {
    "duration": 1120,
    "start_time": "2023-02-25T08:31:37.678Z"
   },
   {
    "duration": 67,
    "start_time": "2023-02-25T08:31:38.799Z"
   },
   {
    "duration": 16,
    "start_time": "2023-02-25T08:31:38.868Z"
   },
   {
    "duration": 3,
    "start_time": "2023-02-25T08:31:38.886Z"
   },
   {
    "duration": 6,
    "start_time": "2023-02-25T08:31:38.891Z"
   },
   {
    "duration": 11,
    "start_time": "2023-02-25T08:31:38.899Z"
   },
   {
    "duration": 41,
    "start_time": "2023-02-25T08:31:38.912Z"
   },
   {
    "duration": 9,
    "start_time": "2023-02-25T08:31:38.955Z"
   },
   {
    "duration": 14,
    "start_time": "2023-02-25T08:31:38.966Z"
   },
   {
    "duration": 7,
    "start_time": "2023-02-25T08:31:38.983Z"
   },
   {
    "duration": 7,
    "start_time": "2023-02-25T08:31:38.992Z"
   },
   {
    "duration": 333,
    "start_time": "2023-02-25T08:31:39.001Z"
   },
   {
    "duration": 25,
    "start_time": "2023-02-25T08:31:39.336Z"
   },
   {
    "duration": 186,
    "start_time": "2023-02-25T08:31:39.363Z"
   },
   {
    "duration": 9,
    "start_time": "2023-02-25T08:31:39.551Z"
   },
   {
    "duration": 14,
    "start_time": "2023-02-25T08:31:39.561Z"
   },
   {
    "duration": 252,
    "start_time": "2023-02-25T08:31:39.576Z"
   },
   {
    "duration": 110,
    "start_time": "2023-02-25T08:31:39.830Z"
   },
   {
    "duration": 6,
    "start_time": "2023-02-25T08:31:39.949Z"
   },
   {
    "duration": 145,
    "start_time": "2023-02-25T08:31:39.956Z"
   },
   {
    "duration": 5,
    "start_time": "2023-02-25T08:31:40.103Z"
   },
   {
    "duration": 134,
    "start_time": "2023-02-25T08:31:40.110Z"
   },
   {
    "duration": 5,
    "start_time": "2023-02-25T08:31:40.248Z"
   },
   {
    "duration": 19,
    "start_time": "2023-02-25T08:31:40.255Z"
   },
   {
    "duration": 305,
    "start_time": "2023-02-25T08:31:40.276Z"
   },
   {
    "duration": 14,
    "start_time": "2023-02-25T08:31:40.583Z"
   },
   {
    "duration": 158,
    "start_time": "2023-02-25T08:31:40.598Z"
   },
   {
    "duration": 14,
    "start_time": "2023-02-25T08:31:40.759Z"
   },
   {
    "duration": 254,
    "start_time": "2023-02-25T08:31:40.775Z"
   },
   {
    "duration": 19,
    "start_time": "2023-02-25T08:31:41.030Z"
   },
   {
    "duration": 165,
    "start_time": "2023-02-25T08:31:41.051Z"
   },
   {
    "duration": 15,
    "start_time": "2023-02-25T08:31:41.217Z"
   },
   {
    "duration": 163,
    "start_time": "2023-02-25T08:31:41.235Z"
   },
   {
    "duration": 16,
    "start_time": "2023-02-25T08:31:41.400Z"
   },
   {
    "duration": 167,
    "start_time": "2023-02-25T08:31:41.418Z"
   },
   {
    "duration": 15,
    "start_time": "2023-02-25T08:31:41.587Z"
   },
   {
    "duration": 170,
    "start_time": "2023-02-25T08:31:41.604Z"
   },
   {
    "duration": 19,
    "start_time": "2023-02-25T08:31:41.777Z"
   },
   {
    "duration": 182,
    "start_time": "2023-02-25T08:31:41.798Z"
   },
   {
    "duration": 14,
    "start_time": "2023-02-25T08:31:41.982Z"
   },
   {
    "duration": 164,
    "start_time": "2023-02-25T08:31:41.998Z"
   },
   {
    "duration": 13,
    "start_time": "2023-02-25T08:31:42.163Z"
   },
   {
    "duration": 144,
    "start_time": "2023-02-25T08:31:42.178Z"
   },
   {
    "duration": 10,
    "start_time": "2023-02-25T08:31:42.324Z"
   },
   {
    "duration": 9,
    "start_time": "2023-02-25T08:31:42.348Z"
   },
   {
    "duration": 238,
    "start_time": "2023-02-25T08:33:32.959Z"
   },
   {
    "duration": 199,
    "start_time": "2023-02-25T08:33:42.713Z"
   },
   {
    "duration": 175,
    "start_time": "2023-02-25T08:34:21.043Z"
   },
   {
    "duration": 255,
    "start_time": "2023-02-25T08:34:35.004Z"
   },
   {
    "duration": 53,
    "start_time": "2023-02-25T08:37:19.158Z"
   },
   {
    "duration": 1180,
    "start_time": "2023-02-25T08:37:24.447Z"
   },
   {
    "duration": 227,
    "start_time": "2023-02-25T08:37:25.629Z"
   },
   {
    "duration": 22,
    "start_time": "2023-02-25T08:37:25.858Z"
   },
   {
    "duration": 3,
    "start_time": "2023-02-25T08:37:25.885Z"
   },
   {
    "duration": 9,
    "start_time": "2023-02-25T08:37:25.890Z"
   },
   {
    "duration": 9,
    "start_time": "2023-02-25T08:37:25.901Z"
   },
   {
    "duration": 44,
    "start_time": "2023-02-25T08:37:25.911Z"
   },
   {
    "duration": 12,
    "start_time": "2023-02-25T08:37:25.958Z"
   },
   {
    "duration": 13,
    "start_time": "2023-02-25T08:37:25.971Z"
   },
   {
    "duration": 4,
    "start_time": "2023-02-25T08:37:25.987Z"
   },
   {
    "duration": 10,
    "start_time": "2023-02-25T08:37:25.992Z"
   },
   {
    "duration": 366,
    "start_time": "2023-02-25T08:37:26.004Z"
   },
   {
    "duration": 21,
    "start_time": "2023-02-25T08:37:26.372Z"
   },
   {
    "duration": 210,
    "start_time": "2023-02-25T08:37:26.395Z"
   },
   {
    "duration": 7,
    "start_time": "2023-02-25T08:37:26.606Z"
   },
   {
    "duration": 25,
    "start_time": "2023-02-25T08:37:26.615Z"
   },
   {
    "duration": 272,
    "start_time": "2023-02-25T08:37:26.641Z"
   },
   {
    "duration": 117,
    "start_time": "2023-02-25T08:37:26.915Z"
   },
   {
    "duration": 21,
    "start_time": "2023-02-25T08:37:27.034Z"
   },
   {
    "duration": 138,
    "start_time": "2023-02-25T08:37:27.057Z"
   },
   {
    "duration": 4,
    "start_time": "2023-02-25T08:37:27.197Z"
   },
   {
    "duration": 131,
    "start_time": "2023-02-25T08:37:27.203Z"
   },
   {
    "duration": 12,
    "start_time": "2023-02-25T08:37:27.336Z"
   },
   {
    "duration": 9,
    "start_time": "2023-02-25T08:37:27.350Z"
   },
   {
    "duration": 318,
    "start_time": "2023-02-25T08:37:27.361Z"
   },
   {
    "duration": 13,
    "start_time": "2023-02-25T08:37:27.681Z"
   },
   {
    "duration": 161,
    "start_time": "2023-02-25T08:37:27.696Z"
   },
   {
    "duration": 16,
    "start_time": "2023-02-25T08:37:27.863Z"
   },
   {
    "duration": 258,
    "start_time": "2023-02-25T08:37:27.880Z"
   },
   {
    "duration": 22,
    "start_time": "2023-02-25T08:37:28.148Z"
   },
   {
    "duration": 166,
    "start_time": "2023-02-25T08:37:28.172Z"
   },
   {
    "duration": 21,
    "start_time": "2023-02-25T08:37:28.340Z"
   },
   {
    "duration": 171,
    "start_time": "2023-02-25T08:37:28.363Z"
   },
   {
    "duration": 27,
    "start_time": "2023-02-25T08:37:28.535Z"
   },
   {
    "duration": 190,
    "start_time": "2023-02-25T08:37:28.564Z"
   },
   {
    "duration": 17,
    "start_time": "2023-02-25T08:37:28.756Z"
   },
   {
    "duration": 170,
    "start_time": "2023-02-25T08:37:28.775Z"
   },
   {
    "duration": 19,
    "start_time": "2023-02-25T08:37:28.947Z"
   },
   {
    "duration": 181,
    "start_time": "2023-02-25T08:37:28.968Z"
   },
   {
    "duration": 17,
    "start_time": "2023-02-25T08:37:29.151Z"
   },
   {
    "duration": 167,
    "start_time": "2023-02-25T08:37:29.169Z"
   },
   {
    "duration": 28,
    "start_time": "2023-02-25T08:37:29.337Z"
   },
   {
    "duration": 150,
    "start_time": "2023-02-25T08:37:29.366Z"
   },
   {
    "duration": 11,
    "start_time": "2023-02-25T08:37:29.518Z"
   },
   {
    "duration": 25,
    "start_time": "2023-02-25T08:37:29.530Z"
   },
   {
    "duration": 265,
    "start_time": "2023-02-25T08:38:30.490Z"
   },
   {
    "duration": 275,
    "start_time": "2023-02-25T08:38:35.294Z"
   },
   {
    "duration": 241,
    "start_time": "2023-02-25T08:38:59.143Z"
   },
   {
    "duration": 448,
    "start_time": "2023-02-25T08:41:35.638Z"
   },
   {
    "duration": 359,
    "start_time": "2023-02-25T08:41:52.061Z"
   },
   {
    "duration": 272,
    "start_time": "2023-02-25T08:42:03.137Z"
   },
   {
    "duration": 379,
    "start_time": "2023-02-25T08:42:57.540Z"
   },
   {
    "duration": 2951,
    "start_time": "2023-02-25T08:44:21.666Z"
   },
   {
    "duration": 483,
    "start_time": "2023-02-25T08:44:31.076Z"
   },
   {
    "duration": 400,
    "start_time": "2023-02-25T08:44:39.511Z"
   },
   {
    "duration": 400,
    "start_time": "2023-02-25T08:44:47.676Z"
   },
   {
    "duration": 263,
    "start_time": "2023-02-25T08:44:54.411Z"
   },
   {
    "duration": 261,
    "start_time": "2023-02-25T08:44:59.900Z"
   },
   {
    "duration": 298,
    "start_time": "2023-02-25T08:45:05.909Z"
   },
   {
    "duration": 421,
    "start_time": "2023-02-25T08:45:13.733Z"
   },
   {
    "duration": 287,
    "start_time": "2023-02-25T08:45:29.401Z"
   },
   {
    "duration": 290,
    "start_time": "2023-02-25T08:46:40.289Z"
   },
   {
    "duration": 342,
    "start_time": "2023-02-25T08:46:58.398Z"
   },
   {
    "duration": 330,
    "start_time": "2023-02-25T08:47:05.204Z"
   },
   {
    "duration": 347,
    "start_time": "2023-02-25T08:47:11.526Z"
   },
   {
    "duration": 347,
    "start_time": "2023-02-25T08:47:21.777Z"
   },
   {
    "duration": 116,
    "start_time": "2023-02-25T08:53:31.672Z"
   },
   {
    "duration": 193,
    "start_time": "2023-02-25T08:53:39.599Z"
   },
   {
    "duration": 189,
    "start_time": "2023-02-25T08:53:52.142Z"
   },
   {
    "duration": 215,
    "start_time": "2023-02-25T08:54:07.907Z"
   },
   {
    "duration": 113,
    "start_time": "2023-02-25T08:54:17.543Z"
   },
   {
    "duration": 813,
    "start_time": "2023-02-25T08:57:34.757Z"
   },
   {
    "duration": 120,
    "start_time": "2023-02-25T08:57:47.157Z"
   },
   {
    "duration": 105,
    "start_time": "2023-02-25T08:58:12.304Z"
   },
   {
    "duration": 16,
    "start_time": "2023-02-25T09:00:22.305Z"
   },
   {
    "duration": 199,
    "start_time": "2023-02-25T09:02:23.106Z"
   },
   {
    "duration": 14,
    "start_time": "2023-02-25T09:02:58.951Z"
   },
   {
    "duration": 24,
    "start_time": "2023-02-25T09:03:12.811Z"
   },
   {
    "duration": 24,
    "start_time": "2023-02-25T09:03:41.754Z"
   },
   {
    "duration": 9,
    "start_time": "2023-02-25T09:03:51.744Z"
   },
   {
    "duration": 106,
    "start_time": "2023-02-25T09:04:13.899Z"
   },
   {
    "duration": 29,
    "start_time": "2023-02-25T09:07:29.997Z"
   },
   {
    "duration": 215,
    "start_time": "2023-02-25T09:07:35.697Z"
   },
   {
    "duration": 148,
    "start_time": "2023-02-25T09:08:27.602Z"
   },
   {
    "duration": 1114,
    "start_time": "2023-02-26T07:43:29.533Z"
   },
   {
    "duration": 59,
    "start_time": "2023-02-26T07:43:30.649Z"
   },
   {
    "duration": 17,
    "start_time": "2023-02-26T07:43:30.709Z"
   },
   {
    "duration": 58,
    "start_time": "2023-02-26T07:43:30.728Z"
   },
   {
    "duration": 44,
    "start_time": "2023-02-26T07:43:30.787Z"
   },
   {
    "duration": 43,
    "start_time": "2023-02-26T07:43:30.832Z"
   },
   {
    "duration": 71,
    "start_time": "2023-02-26T07:43:30.877Z"
   },
   {
    "duration": 12,
    "start_time": "2023-02-26T07:43:30.949Z"
   },
   {
    "duration": 27,
    "start_time": "2023-02-26T07:43:30.963Z"
   },
   {
    "duration": 15,
    "start_time": "2023-02-26T07:43:30.993Z"
   },
   {
    "duration": 23,
    "start_time": "2023-02-26T07:43:31.009Z"
   },
   {
    "duration": 296,
    "start_time": "2023-02-26T07:43:31.033Z"
   },
   {
    "duration": 21,
    "start_time": "2023-02-26T07:43:31.331Z"
   },
   {
    "duration": 175,
    "start_time": "2023-02-26T07:43:31.353Z"
   },
   {
    "duration": 8,
    "start_time": "2023-02-26T07:43:31.530Z"
   },
   {
    "duration": 14,
    "start_time": "2023-02-26T07:43:31.540Z"
   },
   {
    "duration": 281,
    "start_time": "2023-02-26T07:43:31.556Z"
   },
   {
    "duration": 171,
    "start_time": "2023-02-26T07:43:31.839Z"
   },
   {
    "duration": 4,
    "start_time": "2023-02-26T07:43:32.012Z"
   },
   {
    "duration": 130,
    "start_time": "2023-02-26T07:43:32.018Z"
   },
   {
    "duration": 4,
    "start_time": "2023-02-26T07:43:32.150Z"
   },
   {
    "duration": 125,
    "start_time": "2023-02-26T07:43:32.156Z"
   },
   {
    "duration": 4,
    "start_time": "2023-02-26T07:43:32.283Z"
   },
   {
    "duration": 15,
    "start_time": "2023-02-26T07:43:32.289Z"
   },
   {
    "duration": 390,
    "start_time": "2023-02-26T07:43:32.306Z"
   },
   {
    "duration": 15,
    "start_time": "2023-02-26T07:43:32.698Z"
   },
   {
    "duration": 148,
    "start_time": "2023-02-26T07:43:32.715Z"
   },
   {
    "duration": 13,
    "start_time": "2023-02-26T07:43:32.866Z"
   },
   {
    "duration": 253,
    "start_time": "2023-02-26T07:43:32.880Z"
   },
   {
    "duration": 15,
    "start_time": "2023-02-26T07:43:33.134Z"
   },
   {
    "duration": 169,
    "start_time": "2023-02-26T07:43:33.150Z"
   },
   {
    "duration": 12,
    "start_time": "2023-02-26T07:43:33.320Z"
   },
   {
    "duration": 156,
    "start_time": "2023-02-26T07:43:33.334Z"
   },
   {
    "duration": 21,
    "start_time": "2023-02-26T07:43:33.492Z"
   },
   {
    "duration": 160,
    "start_time": "2023-02-26T07:43:33.515Z"
   },
   {
    "duration": 14,
    "start_time": "2023-02-26T07:43:33.677Z"
   },
   {
    "duration": 163,
    "start_time": "2023-02-26T07:43:33.704Z"
   },
   {
    "duration": 14,
    "start_time": "2023-02-26T07:43:33.868Z"
   },
   {
    "duration": 160,
    "start_time": "2023-02-26T07:43:33.883Z"
   },
   {
    "duration": 13,
    "start_time": "2023-02-26T07:43:34.045Z"
   },
   {
    "duration": 157,
    "start_time": "2023-02-26T07:43:34.060Z"
   },
   {
    "duration": 13,
    "start_time": "2023-02-26T07:43:34.219Z"
   },
   {
    "duration": 145,
    "start_time": "2023-02-26T07:43:34.233Z"
   },
   {
    "duration": 11,
    "start_time": "2023-02-26T07:43:34.380Z"
   },
   {
    "duration": 10,
    "start_time": "2023-02-26T07:43:34.404Z"
   },
   {
    "duration": 23,
    "start_time": "2023-02-26T07:51:03.990Z"
   },
   {
    "duration": 5,
    "start_time": "2023-02-26T07:51:24.425Z"
   },
   {
    "duration": 5,
    "start_time": "2023-02-26T07:51:38.030Z"
   },
   {
    "duration": 4,
    "start_time": "2023-02-26T07:53:10.108Z"
   },
   {
    "duration": 136,
    "start_time": "2023-02-26T07:53:12.088Z"
   },
   {
    "duration": 5,
    "start_time": "2023-02-26T07:53:17.888Z"
   },
   {
    "duration": 3,
    "start_time": "2023-02-26T07:54:58.623Z"
   },
   {
    "duration": 69,
    "start_time": "2023-02-26T07:55:00.089Z"
   },
   {
    "duration": 17,
    "start_time": "2023-02-26T07:55:02.012Z"
   },
   {
    "duration": 3,
    "start_time": "2023-02-26T07:55:08.602Z"
   },
   {
    "duration": 5,
    "start_time": "2023-02-26T07:55:10.109Z"
   },
   {
    "duration": 7,
    "start_time": "2023-02-26T07:55:27.050Z"
   },
   {
    "duration": 11,
    "start_time": "2023-02-26T07:56:28.591Z"
   },
   {
    "duration": 1112,
    "start_time": "2023-02-26T07:56:44.595Z"
   },
   {
    "duration": 59,
    "start_time": "2023-02-26T07:56:45.709Z"
   },
   {
    "duration": 16,
    "start_time": "2023-02-26T07:56:45.769Z"
   },
   {
    "duration": 6,
    "start_time": "2023-02-26T07:56:45.787Z"
   },
   {
    "duration": 10,
    "start_time": "2023-02-26T07:56:45.794Z"
   },
   {
    "duration": 13,
    "start_time": "2023-02-26T07:56:45.806Z"
   },
   {
    "duration": 21,
    "start_time": "2023-02-26T07:56:45.821Z"
   },
   {
    "duration": 9,
    "start_time": "2023-02-26T07:56:45.844Z"
   },
   {
    "duration": 17,
    "start_time": "2023-02-26T07:56:45.855Z"
   },
   {
    "duration": 6,
    "start_time": "2023-02-26T07:56:45.902Z"
   },
   {
    "duration": 8,
    "start_time": "2023-02-26T07:56:45.910Z"
   },
   {
    "duration": 305,
    "start_time": "2023-02-26T07:56:45.919Z"
   },
   {
    "duration": 19,
    "start_time": "2023-02-26T07:56:46.226Z"
   },
   {
    "duration": 179,
    "start_time": "2023-02-26T07:56:46.247Z"
   },
   {
    "duration": 7,
    "start_time": "2023-02-26T07:56:46.428Z"
   },
   {
    "duration": 9,
    "start_time": "2023-02-26T07:56:46.437Z"
   },
   {
    "duration": 314,
    "start_time": "2023-02-26T07:56:46.448Z"
   },
   {
    "duration": 154,
    "start_time": "2023-02-26T07:56:46.764Z"
   },
   {
    "duration": 4,
    "start_time": "2023-02-26T07:56:46.920Z"
   },
   {
    "duration": 128,
    "start_time": "2023-02-26T07:56:46.926Z"
   },
   {
    "duration": 5,
    "start_time": "2023-02-26T07:56:47.055Z"
   },
   {
    "duration": 135,
    "start_time": "2023-02-26T07:56:47.061Z"
   },
   {
    "duration": 8,
    "start_time": "2023-02-26T07:56:47.198Z"
   },
   {
    "duration": 13,
    "start_time": "2023-02-26T07:56:47.208Z"
   },
   {
    "duration": 406,
    "start_time": "2023-02-26T07:56:47.223Z"
   },
   {
    "duration": 12,
    "start_time": "2023-02-26T07:56:47.631Z"
   },
   {
    "duration": 134,
    "start_time": "2023-02-26T07:56:47.645Z"
   },
   {
    "duration": 23,
    "start_time": "2023-02-26T07:56:47.782Z"
   },
   {
    "duration": 224,
    "start_time": "2023-02-26T07:56:47.806Z"
   },
   {
    "duration": 14,
    "start_time": "2023-02-26T07:56:48.032Z"
   },
   {
    "duration": 171,
    "start_time": "2023-02-26T07:56:48.048Z"
   },
   {
    "duration": 14,
    "start_time": "2023-02-26T07:56:48.221Z"
   },
   {
    "duration": 154,
    "start_time": "2023-02-26T07:56:48.237Z"
   },
   {
    "duration": 20,
    "start_time": "2023-02-26T07:56:48.393Z"
   },
   {
    "duration": 162,
    "start_time": "2023-02-26T07:56:48.415Z"
   },
   {
    "duration": 15,
    "start_time": "2023-02-26T07:56:48.579Z"
   },
   {
    "duration": 157,
    "start_time": "2023-02-26T07:56:48.604Z"
   },
   {
    "duration": 16,
    "start_time": "2023-02-26T07:56:48.763Z"
   },
   {
    "duration": 163,
    "start_time": "2023-02-26T07:56:48.781Z"
   },
   {
    "duration": 14,
    "start_time": "2023-02-26T07:56:48.946Z"
   },
   {
    "duration": 164,
    "start_time": "2023-02-26T07:56:48.962Z"
   },
   {
    "duration": 14,
    "start_time": "2023-02-26T07:56:49.127Z"
   },
   {
    "duration": 150,
    "start_time": "2023-02-26T07:56:49.143Z"
   },
   {
    "duration": 15,
    "start_time": "2023-02-26T07:56:49.294Z"
   },
   {
    "duration": 12,
    "start_time": "2023-02-26T07:56:49.310Z"
   },
   {
    "duration": 7,
    "start_time": "2023-02-26T07:56:59.283Z"
   },
   {
    "duration": 1094,
    "start_time": "2023-02-26T07:57:44.650Z"
   },
   {
    "duration": 65,
    "start_time": "2023-02-26T07:57:45.746Z"
   },
   {
    "duration": 18,
    "start_time": "2023-02-26T07:57:45.812Z"
   },
   {
    "duration": 3,
    "start_time": "2023-02-26T07:57:45.832Z"
   },
   {
    "duration": 12,
    "start_time": "2023-02-26T07:57:45.837Z"
   },
   {
    "duration": 11,
    "start_time": "2023-02-26T07:57:45.851Z"
   },
   {
    "duration": 18,
    "start_time": "2023-02-26T07:57:45.863Z"
   },
   {
    "duration": 26,
    "start_time": "2023-02-26T07:57:45.882Z"
   },
   {
    "duration": 13,
    "start_time": "2023-02-26T07:57:45.910Z"
   },
   {
    "duration": 5,
    "start_time": "2023-02-26T07:57:45.925Z"
   },
   {
    "duration": 8,
    "start_time": "2023-02-26T07:57:45.931Z"
   },
   {
    "duration": 313,
    "start_time": "2023-02-26T07:57:45.941Z"
   },
   {
    "duration": 21,
    "start_time": "2023-02-26T07:57:46.256Z"
   },
   {
    "duration": 171,
    "start_time": "2023-02-26T07:57:46.278Z"
   },
   {
    "duration": 7,
    "start_time": "2023-02-26T07:57:46.451Z"
   },
   {
    "duration": 9,
    "start_time": "2023-02-26T07:57:46.460Z"
   },
   {
    "duration": 285,
    "start_time": "2023-02-26T07:57:46.471Z"
   },
   {
    "duration": 172,
    "start_time": "2023-02-26T07:57:46.758Z"
   },
   {
    "duration": 5,
    "start_time": "2023-02-26T07:57:46.932Z"
   },
   {
    "duration": 140,
    "start_time": "2023-02-26T07:57:46.939Z"
   },
   {
    "duration": 5,
    "start_time": "2023-02-26T07:57:47.080Z"
   },
   {
    "duration": 135,
    "start_time": "2023-02-26T07:57:47.086Z"
   },
   {
    "duration": 6,
    "start_time": "2023-02-26T07:57:47.223Z"
   },
   {
    "duration": 15,
    "start_time": "2023-02-26T07:57:47.231Z"
   },
   {
    "duration": 429,
    "start_time": "2023-02-26T07:57:47.248Z"
   },
   {
    "duration": 8,
    "start_time": "2023-02-26T07:57:47.679Z"
   },
   {
    "duration": 44,
    "start_time": "2023-02-26T07:57:47.689Z"
   },
   {
    "duration": 160,
    "start_time": "2023-02-26T07:57:47.737Z"
   },
   {
    "duration": 13,
    "start_time": "2023-02-26T07:57:47.899Z"
   },
   {
    "duration": 241,
    "start_time": "2023-02-26T07:57:47.914Z"
   },
   {
    "duration": 14,
    "start_time": "2023-02-26T07:57:48.157Z"
   },
   {
    "duration": 162,
    "start_time": "2023-02-26T07:57:48.173Z"
   },
   {
    "duration": 14,
    "start_time": "2023-02-26T07:57:48.338Z"
   },
   {
    "duration": 155,
    "start_time": "2023-02-26T07:57:48.354Z"
   },
   {
    "duration": 15,
    "start_time": "2023-02-26T07:57:48.511Z"
   },
   {
    "duration": 180,
    "start_time": "2023-02-26T07:57:48.528Z"
   },
   {
    "duration": 14,
    "start_time": "2023-02-26T07:57:48.710Z"
   },
   {
    "duration": 167,
    "start_time": "2023-02-26T07:57:48.726Z"
   },
   {
    "duration": 19,
    "start_time": "2023-02-26T07:57:48.896Z"
   },
   {
    "duration": 161,
    "start_time": "2023-02-26T07:57:48.917Z"
   },
   {
    "duration": 23,
    "start_time": "2023-02-26T07:57:49.080Z"
   },
   {
    "duration": 170,
    "start_time": "2023-02-26T07:57:49.105Z"
   },
   {
    "duration": 14,
    "start_time": "2023-02-26T07:57:49.277Z"
   },
   {
    "duration": 136,
    "start_time": "2023-02-26T07:57:49.303Z"
   },
   {
    "duration": 10,
    "start_time": "2023-02-26T07:57:49.441Z"
   },
   {
    "duration": 15,
    "start_time": "2023-02-26T07:57:49.453Z"
   },
   {
    "duration": 1093,
    "start_time": "2023-02-26T07:58:49.764Z"
   },
   {
    "duration": 60,
    "start_time": "2023-02-26T07:58:50.859Z"
   },
   {
    "duration": 17,
    "start_time": "2023-02-26T07:58:50.920Z"
   },
   {
    "duration": 3,
    "start_time": "2023-02-26T07:58:50.939Z"
   },
   {
    "duration": 6,
    "start_time": "2023-02-26T07:58:50.943Z"
   },
   {
    "duration": 11,
    "start_time": "2023-02-26T07:58:50.951Z"
   },
   {
    "duration": 17,
    "start_time": "2023-02-26T07:58:50.964Z"
   },
   {
    "duration": 8,
    "start_time": "2023-02-26T07:58:51.003Z"
   },
   {
    "duration": 20,
    "start_time": "2023-02-26T07:58:51.013Z"
   },
   {
    "duration": 5,
    "start_time": "2023-02-26T07:58:51.036Z"
   },
   {
    "duration": 11,
    "start_time": "2023-02-26T07:58:51.043Z"
   },
   {
    "duration": 9,
    "start_time": "2023-02-26T07:58:51.056Z"
   },
   {
    "duration": 295,
    "start_time": "2023-02-26T07:58:51.066Z"
   },
   {
    "duration": 21,
    "start_time": "2023-02-26T07:58:51.363Z"
   },
   {
    "duration": 176,
    "start_time": "2023-02-26T07:58:51.386Z"
   },
   {
    "duration": 7,
    "start_time": "2023-02-26T07:58:51.564Z"
   },
   {
    "duration": 9,
    "start_time": "2023-02-26T07:58:51.573Z"
   },
   {
    "duration": 302,
    "start_time": "2023-02-26T07:58:51.584Z"
   },
   {
    "duration": 167,
    "start_time": "2023-02-26T07:58:51.887Z"
   },
   {
    "duration": 6,
    "start_time": "2023-02-26T07:58:52.055Z"
   },
   {
    "duration": 141,
    "start_time": "2023-02-26T07:58:52.062Z"
   },
   {
    "duration": 5,
    "start_time": "2023-02-26T07:58:52.205Z"
   },
   {
    "duration": 117,
    "start_time": "2023-02-26T07:58:52.212Z"
   },
   {
    "duration": 5,
    "start_time": "2023-02-26T07:58:52.331Z"
   },
   {
    "duration": 10,
    "start_time": "2023-02-26T07:58:52.337Z"
   },
   {
    "duration": 412,
    "start_time": "2023-02-26T07:58:52.349Z"
   },
   {
    "duration": 15,
    "start_time": "2023-02-26T07:58:52.762Z"
   },
   {
    "duration": 137,
    "start_time": "2023-02-26T07:58:52.780Z"
   },
   {
    "duration": 14,
    "start_time": "2023-02-26T07:58:52.918Z"
   },
   {
    "duration": 248,
    "start_time": "2023-02-26T07:58:52.933Z"
   },
   {
    "duration": 21,
    "start_time": "2023-02-26T07:58:53.183Z"
   },
   {
    "duration": 152,
    "start_time": "2023-02-26T07:58:53.206Z"
   },
   {
    "duration": 14,
    "start_time": "2023-02-26T07:58:53.360Z"
   },
   {
    "duration": 151,
    "start_time": "2023-02-26T07:58:53.375Z"
   },
   {
    "duration": 15,
    "start_time": "2023-02-26T07:58:53.528Z"
   },
   {
    "duration": 169,
    "start_time": "2023-02-26T07:58:53.544Z"
   },
   {
    "duration": 14,
    "start_time": "2023-02-26T07:58:53.714Z"
   },
   {
    "duration": 162,
    "start_time": "2023-02-26T07:58:53.730Z"
   },
   {
    "duration": 18,
    "start_time": "2023-02-26T07:58:53.894Z"
   },
   {
    "duration": 158,
    "start_time": "2023-02-26T07:58:53.913Z"
   },
   {
    "duration": 31,
    "start_time": "2023-02-26T07:58:54.073Z"
   },
   {
    "duration": 175,
    "start_time": "2023-02-26T07:58:54.106Z"
   },
   {
    "duration": 13,
    "start_time": "2023-02-26T07:58:54.283Z"
   },
   {
    "duration": 138,
    "start_time": "2023-02-26T07:58:54.303Z"
   },
   {
    "duration": 11,
    "start_time": "2023-02-26T07:58:54.443Z"
   },
   {
    "duration": 17,
    "start_time": "2023-02-26T07:58:54.455Z"
   }
  ],
  "kernelspec": {
   "display_name": "Python 3 (ipykernel)",
   "language": "python",
   "name": "python3"
  },
  "language_info": {
   "codemirror_mode": {
    "name": "ipython",
    "version": 3
   },
   "file_extension": ".py",
   "mimetype": "text/x-python",
   "name": "python",
   "nbconvert_exporter": "python",
   "pygments_lexer": "ipython3",
   "version": "3.9.5"
  },
  "toc": {
   "base_numbering": 1,
   "nav_menu": {},
   "number_sections": true,
   "sideBar": true,
   "skip_h1_title": true,
   "title_cell": "Table of Contents",
   "title_sidebar": "Contents",
   "toc_cell": false,
   "toc_position": {
    "height": "calc(100% - 180px)",
    "left": "10px",
    "top": "150px",
    "width": "366.188px"
   },
   "toc_section_display": true,
   "toc_window_display": true
  }
 },
 "nbformat": 4,
 "nbformat_minor": 2
}
