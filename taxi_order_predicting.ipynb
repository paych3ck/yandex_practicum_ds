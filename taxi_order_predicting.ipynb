{
 "cells": [
  {
   "cell_type": "markdown",
   "metadata": {
    "toc": true
   },
   "source": [
    "<h1>Содержание<span class=\"tocSkip\"></span></h1>\n",
    "<div class=\"toc\"><ul class=\"toc-item\"><li><span><a href=\"#Подготовка\" data-toc-modified-id=\"Подготовка-1\"><span class=\"toc-item-num\">1&nbsp;&nbsp;</span>Подготовка</a></span></li><li><span><a href=\"#Анализ\" data-toc-modified-id=\"Анализ-2\"><span class=\"toc-item-num\">2&nbsp;&nbsp;</span>Анализ</a></span></li><li><span><a href=\"#Обучение\" data-toc-modified-id=\"Обучение-3\"><span class=\"toc-item-num\">3&nbsp;&nbsp;</span>Обучение</a></span></li><li><span><a href=\"#Тестирование\" data-toc-modified-id=\"Тестирование-4\"><span class=\"toc-item-num\">4&nbsp;&nbsp;</span>Тестирование</a></span></li><li><span><a href=\"#Вывод\" data-toc-modified-id=\"Вывод-5\"><span class=\"toc-item-num\">5&nbsp;&nbsp;</span>Вывод</a></span></li><li><span><a href=\"#Чек-лист-проверки\" data-toc-modified-id=\"Чек-лист-проверки-6\"><span class=\"toc-item-num\">6&nbsp;&nbsp;</span>Чек-лист проверки</a></span></li></ul></div>"
   ]
  },
  {
   "cell_type": "markdown",
   "metadata": {},
   "source": [
    "#  Прогнозирование заказов такси"
   ]
  },
  {
   "cell_type": "markdown",
   "metadata": {},
   "source": [
    "Компания «Чётенькое такси» собрала исторические данные о заказах такси в аэропортах. Чтобы привлекать больше водителей в период пиковой нагрузки, нужно спрогнозировать количество заказов такси на следующий час. Постройте модель для такого предсказания.\n",
    "\n",
    "Значение метрики *RMSE* на тестовой выборке должно быть не больше 48.\n",
    "\n",
    "Вам нужно:\n",
    "\n",
    "1. Загрузить данные и выполнить их ресемплирование по одному часу.\n",
    "2. Проанализировать данные.\n",
    "3. Обучить разные модели с различными гиперпараметрами. Сделать тестовую выборку размером 10% от исходных данных.\n",
    "4. Проверить данные на тестовой выборке и сделать выводы.\n",
    "\n",
    "\n",
    "Данные лежат в файле `taxi.csv`. Количество заказов находится в столбце `num_orders` (от англ. *number of orders*, «число заказов»)."
   ]
  },
  {
   "cell_type": "markdown",
   "metadata": {},
   "source": [
    "## Подготовка"
   ]
  },
  {
   "cell_type": "code",
   "execution_count": 1,
   "metadata": {},
   "outputs": [],
   "source": [
    "import pandas as pd\n",
    "import numpy as np\n",
    "import matplotlib.pyplot as plt\n",
    "import seaborn as sns\n",
    "\n",
    "from statsmodels.tsa.seasonal import seasonal_decompose\n",
    "from sklearn.model_selection import train_test_split, GridSearchCV, TimeSeriesSplit\n",
    "from sklearn.linear_model import LinearRegression\n",
    "\n",
    "from sklearn.tree import DecisionTreeRegressor\n",
    "from sklearn.metrics import mean_squared_error, make_scorer\n",
    "from sklearn.ensemble import GradientBoostingRegressor"
   ]
  },
  {
   "cell_type": "code",
   "execution_count": 2,
   "metadata": {},
   "outputs": [
    {
     "data": {
      "text/html": [
       "<div>\n",
       "<style scoped>\n",
       "    .dataframe tbody tr th:only-of-type {\n",
       "        vertical-align: middle;\n",
       "    }\n",
       "\n",
       "    .dataframe tbody tr th {\n",
       "        vertical-align: top;\n",
       "    }\n",
       "\n",
       "    .dataframe thead th {\n",
       "        text-align: right;\n",
       "    }\n",
       "</style>\n",
       "<table border=\"1\" class=\"dataframe\">\n",
       "  <thead>\n",
       "    <tr style=\"text-align: right;\">\n",
       "      <th></th>\n",
       "      <th>datetime</th>\n",
       "      <th>num_orders</th>\n",
       "    </tr>\n",
       "  </thead>\n",
       "  <tbody>\n",
       "    <tr>\n",
       "      <th>0</th>\n",
       "      <td>2018-03-01 00:00:00</td>\n",
       "      <td>9</td>\n",
       "    </tr>\n",
       "    <tr>\n",
       "      <th>1</th>\n",
       "      <td>2018-03-01 00:10:00</td>\n",
       "      <td>14</td>\n",
       "    </tr>\n",
       "    <tr>\n",
       "      <th>2</th>\n",
       "      <td>2018-03-01 00:20:00</td>\n",
       "      <td>28</td>\n",
       "    </tr>\n",
       "    <tr>\n",
       "      <th>3</th>\n",
       "      <td>2018-03-01 00:30:00</td>\n",
       "      <td>20</td>\n",
       "    </tr>\n",
       "    <tr>\n",
       "      <th>4</th>\n",
       "      <td>2018-03-01 00:40:00</td>\n",
       "      <td>32</td>\n",
       "    </tr>\n",
       "  </tbody>\n",
       "</table>\n",
       "</div>"
      ],
      "text/plain": [
       "              datetime  num_orders\n",
       "0  2018-03-01 00:00:00           9\n",
       "1  2018-03-01 00:10:00          14\n",
       "2  2018-03-01 00:20:00          28\n",
       "3  2018-03-01 00:30:00          20\n",
       "4  2018-03-01 00:40:00          32"
      ]
     },
     "execution_count": 2,
     "metadata": {},
     "output_type": "execute_result"
    }
   ],
   "source": [
    "data = pd.read_csv('taxi.csv')\n",
    "data.head()"
   ]
  },
  {
   "cell_type": "code",
   "execution_count": 3,
   "metadata": {},
   "outputs": [
    {
     "name": "stdout",
     "output_type": "stream",
     "text": [
      "<class 'pandas.core.frame.DataFrame'>\n",
      "RangeIndex: 26496 entries, 0 to 26495\n",
      "Data columns (total 2 columns):\n",
      " #   Column      Non-Null Count  Dtype \n",
      "---  ------      --------------  ----- \n",
      " 0   datetime    26496 non-null  object\n",
      " 1   num_orders  26496 non-null  int64 \n",
      "dtypes: int64(1), object(1)\n",
      "memory usage: 414.1+ KB\n"
     ]
    }
   ],
   "source": [
    "data.info()"
   ]
  },
  {
   "cell_type": "code",
   "execution_count": 4,
   "metadata": {},
   "outputs": [
    {
     "data": {
      "text/plain": [
       "datetime      0\n",
       "num_orders    0\n",
       "dtype: int64"
      ]
     },
     "execution_count": 4,
     "metadata": {},
     "output_type": "execute_result"
    }
   ],
   "source": [
    "data.isnull().sum()"
   ]
  },
  {
   "cell_type": "code",
   "execution_count": 5,
   "metadata": {},
   "outputs": [
    {
     "data": {
      "text/html": [
       "<div>\n",
       "<style scoped>\n",
       "    .dataframe tbody tr th:only-of-type {\n",
       "        vertical-align: middle;\n",
       "    }\n",
       "\n",
       "    .dataframe tbody tr th {\n",
       "        vertical-align: top;\n",
       "    }\n",
       "\n",
       "    .dataframe thead th {\n",
       "        text-align: right;\n",
       "    }\n",
       "</style>\n",
       "<table border=\"1\" class=\"dataframe\">\n",
       "  <thead>\n",
       "    <tr style=\"text-align: right;\">\n",
       "      <th></th>\n",
       "      <th>num_orders</th>\n",
       "    </tr>\n",
       "    <tr>\n",
       "      <th>datetime</th>\n",
       "      <th></th>\n",
       "    </tr>\n",
       "  </thead>\n",
       "  <tbody>\n",
       "    <tr>\n",
       "      <th>2018-03-01 00:00:00</th>\n",
       "      <td>124</td>\n",
       "    </tr>\n",
       "    <tr>\n",
       "      <th>2018-03-01 01:00:00</th>\n",
       "      <td>85</td>\n",
       "    </tr>\n",
       "    <tr>\n",
       "      <th>2018-03-01 02:00:00</th>\n",
       "      <td>71</td>\n",
       "    </tr>\n",
       "    <tr>\n",
       "      <th>2018-03-01 03:00:00</th>\n",
       "      <td>66</td>\n",
       "    </tr>\n",
       "    <tr>\n",
       "      <th>2018-03-01 04:00:00</th>\n",
       "      <td>43</td>\n",
       "    </tr>\n",
       "  </tbody>\n",
       "</table>\n",
       "</div>"
      ],
      "text/plain": [
       "                     num_orders\n",
       "datetime                       \n",
       "2018-03-01 00:00:00         124\n",
       "2018-03-01 01:00:00          85\n",
       "2018-03-01 02:00:00          71\n",
       "2018-03-01 03:00:00          66\n",
       "2018-03-01 04:00:00          43"
      ]
     },
     "execution_count": 5,
     "metadata": {},
     "output_type": "execute_result"
    }
   ],
   "source": [
    "data['datetime'] = pd.to_datetime(data['datetime'])\n",
    "data = data.set_index('datetime').resample('H').sum()\n",
    "data.head()"
   ]
  },
  {
   "cell_type": "markdown",
   "metadata": {},
   "source": [
    "## Анализ"
   ]
  },
  {
   "cell_type": "code",
   "execution_count": 6,
   "metadata": {},
   "outputs": [
    {
     "data": {
      "image/png": "[encoded data removed]",
      "text/plain": [
       "<Figure size 432x288 with 1 Axes>"
      ]
     },
     "metadata": {
      "needs_background": "light"
     },
     "output_type": "display_data"
    }
   ],
   "source": [
    "data['rolling_mean'] = data.rolling(10).mean().fillna(0)\n",
    "data.plot();"
   ]
  },
  {
   "cell_type": "code",
   "execution_count": 7,
   "metadata": {},
   "outputs": [
    {
     "data": {
      "image/png": "[encoded data removed]",
      "text/plain": [
       "<Figure size 432x576 with 3 Axes>"
      ]
     },
     "metadata": {
      "needs_background": "light"
     },
     "output_type": "display_data"
    }
   ],
   "source": [
    "data = data.drop('rolling_mean', axis=1)\n",
    "decomposed = seasonal_decompose(data) \n",
    "\n",
    "plt.figure(figsize=(6, 8))\n",
    "plt.subplot(311)\n",
    "decomposed.trend.plot(ax=plt.gca())\n",
    "plt.title('Trend')\n",
    "plt.subplot(312)\n",
    "decomposed.seasonal.plot(ax=plt.gca())\n",
    "plt.title('Seasonality')\n",
    "plt.subplot(313)\n",
    "decomposed.resid.plot(ax=plt.gca())\n",
    "plt.title('Residuals')\n",
    "plt.tight_layout()"
   ]
  },
  {
   "cell_type": "markdown",
   "metadata": {},
   "source": [
    "По графикам видим, что тренд с ускорением."
   ]
  },
  {
   "cell_type": "code",
   "execution_count": 8,
   "metadata": {},
   "outputs": [
    {
     "data": {
      "image/png": "[encoded data removed]",
      "text/plain": [
       "<Figure size 864x432 with 1 Axes>"
      ]
     },
     "metadata": {
      "needs_background": "light"
     },
     "output_type": "display_data"
    }
   ],
   "source": [
    "hourly_counts = data['2018-03-03':'2018-03-06'].resample('H').sum()\n",
    "\n",
    "plt.figure(figsize=(12, 6))\n",
    "sns.lineplot(x=hourly_counts.index.hour, y=hourly_counts['num_orders'])\n",
    "plt.xlabel('Часы')\n",
    "plt.ylabel('Количество заказов')\n",
    "plt.title('Сезонность заказов по часам')\n",
    "plt.show()"
   ]
  },
  {
   "cell_type": "markdown",
   "metadata": {},
   "source": [
    "Можно сделать вывод, что меньше всего заказов ранним утром (~6 часов утра), больше - ближе к полуночи."
   ]
  },
  {
   "cell_type": "code",
   "execution_count": 9,
   "metadata": {},
   "outputs": [
    {
     "data": {
      "image/png": "[encoded data removed]",
      "text/plain": [
       "<Figure size 432x576 with 3 Axes>"
      ]
     },
     "metadata": {
      "needs_background": "light"
     },
     "output_type": "display_data"
    }
   ],
   "source": [
    "data_d = data.resample('D').sum()\n",
    "\n",
    "decomposed = seasonal_decompose(data_d) \n",
    "\n",
    "plt.figure(figsize=(6, 8))\n",
    "plt.subplot(311)\n",
    "decomposed.trend.plot(ax=plt.gca())\n",
    "plt.title('Trend')\n",
    "plt.subplot(312)\n",
    "decomposed.seasonal.plot(ax=plt.gca())\n",
    "plt.title('Seasonality')\n",
    "plt.subplot(313)\n",
    "decomposed.resid.plot(ax=plt.gca())\n",
    "plt.title('Residuals')\n",
    "plt.tight_layout()"
   ]
  },
  {
   "cell_type": "code",
   "execution_count": 10,
   "metadata": {},
   "outputs": [
    {
     "data": {
      "image/png": "[encoded data removed]",
      "text/plain": [
       "<Figure size 432x576 with 1 Axes>"
      ]
     },
     "metadata": {
      "needs_background": "light"
     },
     "output_type": "display_data"
    }
   ],
   "source": [
    "data_1d = data.resample('1D').sum()\n",
    "decomposed_1d = seasonal_decompose(data_1d)\n",
    "\n",
    "plt.figure(figsize=(6, 8))\n",
    "plt.subplot(311)\n",
    "decomposed_1d.seasonal['2018-03-03':'2018-03-17'].resample('H').sum().plot(ax=plt.gca())\n",
    "plt.tight_layout()"
   ]
  },
  {
   "cell_type": "markdown",
   "metadata": {},
   "source": [
    "**Вывод:**: тренд с ускорением, сезонность присутствует. Меньше всего заказов ранним утром (~6 часов утра), больше - ближе к полуночи. Выделяем признаки часа, дня и дня недели."
   ]
  },
  {
   "cell_type": "markdown",
   "metadata": {},
   "source": [
    "## Обучение"
   ]
  },
  {
   "cell_type": "code",
   "execution_count": 11,
   "metadata": {},
   "outputs": [],
   "source": [
    "def make_features(data, max_lag, rolling_mean_size):\n",
    "    #data['year'] = data.index.year\n",
    "    #data['month'] = data.index.month\n",
    "    data['hour'] = data.index.hour\n",
    "    data['day'] = data.index.day\n",
    "    data['dayofweek'] = data.index.dayofweek\n",
    "    \n",
    "    for lag in range(1, max_lag + 1):\n",
    "        data['lag_{}'.format(lag)] = data['num_orders'].shift(lag)\n",
    "\n",
    "    data['rolling_mean'] = data['num_orders'].shift().rolling(rolling_mean_size).mean()"
   ]
  },
  {
   "cell_type": "code",
   "execution_count": 12,
   "metadata": {},
   "outputs": [],
   "source": [
    "make_features(data, 25, 10)\n",
    "\n",
    "train, test = train_test_split(data, shuffle=False, test_size=0.1)\n",
    "train = train.dropna()\n",
    "\n",
    "X_train = train.drop('num_orders', axis=1)\n",
    "y_train = train['num_orders']\n",
    "\n",
    "X_test = test.drop('num_orders', axis=1)\n",
    "y_test = test['num_orders']\n",
    "\n",
    "rmse_scorer = make_scorer(mean_squared_error, squared=False)"
   ]
  },
  {
   "cell_type": "code",
   "execution_count": 13,
   "metadata": {},
   "outputs": [
    {
     "data": {
      "image/png": "[encoded data removed]",
      "text/plain": [
       "<Figure size 1332x432 with 1 Axes>"
      ]
     },
     "metadata": {
      "needs_background": "light"
     },
     "output_type": "display_data"
    }
   ],
   "source": [
    "# Код ревьюера\n",
    "from statsmodels.graphics import tsaplots\n",
    "\n",
    "taxi = pd.read_csv(\"taxi.csv\", index_col=[0], parse_dates=[0]).resample('1H').sum()\n",
    "ts = taxi['num_orders']\n",
    "\n",
    "fig = tsaplots.plot_acf(ts,lags= 190)\n",
    "fig.set_size_inches(18.5, 6)\n",
    "plt.ylim(-.1, 1.1)\n",
    "plt.show() "
   ]
  },
  {
   "cell_type": "markdown",
   "metadata": {},
   "source": [
    "**LinearRegression**"
   ]
  },
  {
   "cell_type": "code",
   "execution_count": 14,
   "metadata": {},
   "outputs": [
    {
     "name": "stdout",
     "output_type": "stream",
     "text": [
      "LinearRegression\n",
      "RMSE: 27.17714636960763\n",
      "Лучшие параметры: {}\n"
     ]
    }
   ],
   "source": [
    "model_lr = LinearRegression()\n",
    "\n",
    "param_grid_lr = {}\n",
    "tscv = TimeSeriesSplit(n_splits=5)\n",
    "grid_search_lr = GridSearchCV(model_lr, param_grid_lr, scoring=rmse_scorer, cv=tscv)\n",
    "grid_search_lr.fit(X_train, y_train)\n",
    "\n",
    "best_params_lr = grid_search_lr.best_params_\n",
    "best_rmse_lr = grid_search_lr.best_score_\n",
    "\n",
    "print(\"LinearRegression\")\n",
    "print(\"RMSE:\", best_rmse_lr)\n",
    "print(\"Лучшие параметры:\", best_params_lr)"
   ]
  },
  {
   "cell_type": "markdown",
   "metadata": {},
   "source": [
    "**DecisionTreeRegressor**"
   ]
  },
  {
   "cell_type": "code",
   "execution_count": 15,
   "metadata": {},
   "outputs": [
    {
     "name": "stdout",
     "output_type": "stream",
     "text": [
      "DecisionTreeRegressor\n",
      "RMSE: 36.16100824769248\n",
      "Лучшие параметры: {'max_depth': None, 'min_samples_leaf': 1, 'min_samples_split': 2}\n"
     ]
    }
   ],
   "source": [
    "model_dtr = DecisionTreeRegressor()\n",
    "\n",
    "param_grid_dtr = {'max_depth': [None, 5, 10, 15],\n",
    "              'min_samples_split': [2, 5, 10], \n",
    "              'min_samples_leaf': [1, 2, 4]}\n",
    "\n",
    "grid_search_dtr = GridSearchCV(estimator=model_dtr, param_grid=param_grid_dtr, scoring=rmse_scorer, cv=tscv)\n",
    "\n",
    "grid_search_dtr.fit(X_train, y_train)\n",
    "best_params_dtr = grid_search_dtr.best_params_\n",
    "best_rmse_dtr = grid_search_dtr.best_score_\n",
    "\n",
    "print(\"DecisionTreeRegressor\")\n",
    "print(\"RMSE:\", best_rmse_dtr)\n",
    "print(\"Лучшие параметры:\", best_params_dtr)"
   ]
  },
  {
   "cell_type": "markdown",
   "metadata": {},
   "source": [
    "**GradientBoostingRegressor**"
   ]
  },
  {
   "cell_type": "code",
   "execution_count": 16,
   "metadata": {},
   "outputs": [
    {
     "name": "stdout",
     "output_type": "stream",
     "text": [
      "GradientBoostingRegressor\n",
      "RMSE: 36.16100824769248\n",
      "Лучшие параметры: {'max_depth': None, 'min_samples_leaf': 1, 'min_samples_split': 2}\n"
     ]
    }
   ],
   "source": [
    "model_gbr = GradientBoostingRegressor()\n",
    "\n",
    "param_grid_gbr = {'n_estimators': [100, 200, 300],\n",
    "              'max_depth': [3, 5, 7],\n",
    "              'learning_rate': [0.1, 0.05, 0.01]}\n",
    "\n",
    "grid_search_gbr = GridSearchCV(estimator=model_gbr, param_grid=param_grid_gbr, scoring=rmse_scorer, cv=tscv)\n",
    "\n",
    "grid_search_gbr.fit(X_train, y_train)\n",
    "best_params_gbr = grid_search_dtr.best_params_\n",
    "best_rmse_gbr = grid_search_dtr.best_score_\n",
    "\n",
    "print(\"GradientBoostingRegressor\")\n",
    "print(\"RMSE:\", best_rmse_gbr)\n",
    "print(\"Лучшие параметры:\", best_params_gbr)"
   ]
  },
  {
   "cell_type": "markdown",
   "metadata": {},
   "source": [
    "## Тестирование"
   ]
  },
  {
   "cell_type": "markdown",
   "metadata": {},
   "source": [
    "В качестве лучшей модели выберем линейную регрессию ввиду наилучшего результата RMSE во время кросс-валидации."
   ]
  },
  {
   "cell_type": "code",
   "execution_count": 17,
   "metadata": {},
   "outputs": [
    {
     "name": "stdout",
     "output_type": "stream",
     "text": [
      "RMSE линейной регрессии: 45.18111201631725\n"
     ]
    }
   ],
   "source": [
    "model_lr.fit(X_train, y_train)\n",
    "predicted = model_lr.predict(X_test)\n",
    "print(\"RMSE линейной регрессии:\", mean_squared_error(y_test, predicted, squared=False))"
   ]
  },
  {
   "cell_type": "markdown",
   "metadata": {},
   "source": [
    "## Вывод"
   ]
  },
  {
   "cell_type": "markdown",
   "metadata": {},
   "source": [
    "В ходе работы были проанализированы данные, выбраны три модели для обучения - **LinearRegression**, **DecisionTreeRegressor** и **GradientBoostingRegressor**. В качестве модели для тестирования была выбрана линейная регрессия - метрика RMSE на кросс-валидации - 25.8. На тестовой выборке модель показала удовлетворительный результат RMSE - 45.7"
   ]
  }
 ],
 "metadata": {
  "ExecuteTimeLog": [
   {
    "duration": 1724,
    "start_time": "2023-07-03T06:59:11.334Z"
   },
   {
    "duration": 145,
    "start_time": "2023-07-03T06:59:13.060Z"
   },
   {
    "duration": 16,
    "start_time": "2023-07-03T06:59:13.206Z"
   },
   {
    "duration": 15,
    "start_time": "2023-07-03T06:59:13.224Z"
   },
   {
    "duration": 40,
    "start_time": "2023-07-03T06:59:13.242Z"
   },
   {
    "duration": 289,
    "start_time": "2023-07-03T06:59:13.284Z"
   },
   {
    "duration": 896,
    "start_time": "2023-07-03T06:59:13.574Z"
   },
   {
    "duration": 4,
    "start_time": "2023-07-03T06:59:14.472Z"
   },
   {
    "duration": 34,
    "start_time": "2023-07-03T06:59:14.478Z"
   },
   {
    "duration": 863,
    "start_time": "2023-07-03T06:59:14.514Z"
   },
   {
    "duration": 10100,
    "start_time": "2023-07-03T06:59:15.380Z"
   },
   {
    "duration": 148,
    "start_time": "2023-07-03T06:59:25.481Z"
   },
   {
    "duration": 1484,
    "start_time": "2023-07-03T07:03:41.504Z"
   },
   {
    "duration": 54,
    "start_time": "2023-07-03T07:03:42.990Z"
   },
   {
    "duration": 13,
    "start_time": "2023-07-03T07:03:43.046Z"
   },
   {
    "duration": 14,
    "start_time": "2023-07-03T07:03:43.060Z"
   },
   {
    "duration": 43,
    "start_time": "2023-07-03T07:03:43.076Z"
   },
   {
    "duration": 292,
    "start_time": "2023-07-03T07:03:43.122Z"
   },
   {
    "duration": 851,
    "start_time": "2023-07-03T07:03:43.416Z"
   },
   {
    "duration": 5,
    "start_time": "2023-07-03T07:03:44.268Z"
   },
   {
    "duration": 45,
    "start_time": "2023-07-03T07:03:44.274Z"
   },
   {
    "duration": 957,
    "start_time": "2023-07-03T07:03:44.321Z"
   },
   {
    "duration": 9736,
    "start_time": "2023-07-03T07:03:45.366Z"
   },
   {
    "duration": 221413,
    "start_time": "2023-07-03T07:03:55.103Z"
   },
   {
    "duration": 6095,
    "start_time": "2023-07-03T07:55:00.223Z"
   },
   {
    "duration": 203,
    "start_time": "2023-07-03T07:55:06.320Z"
   },
   {
    "duration": 13,
    "start_time": "2023-07-03T07:55:06.526Z"
   },
   {
    "duration": 8,
    "start_time": "2023-07-03T07:55:06.541Z"
   },
   {
    "duration": 42,
    "start_time": "2023-07-03T07:55:06.552Z"
   },
   {
    "duration": 369,
    "start_time": "2023-07-03T07:55:06.608Z"
   },
   {
    "duration": 1042,
    "start_time": "2023-07-03T07:55:06.987Z"
   },
   {
    "duration": 6,
    "start_time": "2023-07-03T07:55:08.031Z"
   },
   {
    "duration": 53,
    "start_time": "2023-07-03T07:55:08.039Z"
   },
   {
    "duration": 521,
    "start_time": "2023-07-03T07:55:08.095Z"
   },
   {
    "duration": 65,
    "start_time": "2023-07-03T07:57:07.685Z"
   },
   {
    "duration": 8,
    "start_time": "2023-07-03T10:44:55.743Z"
   },
   {
    "duration": 57,
    "start_time": "2023-07-03T10:45:02.680Z"
   },
   {
    "duration": 1492,
    "start_time": "2023-07-03T10:45:23.906Z"
   },
   {
    "duration": 51,
    "start_time": "2023-07-03T10:45:25.400Z"
   },
   {
    "duration": 13,
    "start_time": "2023-07-03T10:45:25.453Z"
   },
   {
    "duration": 31,
    "start_time": "2023-07-03T10:45:25.468Z"
   },
   {
    "duration": 42,
    "start_time": "2023-07-03T10:45:25.501Z"
   },
   {
    "duration": 330,
    "start_time": "2023-07-03T10:45:25.545Z"
   },
   {
    "duration": 815,
    "start_time": "2023-07-03T10:45:25.877Z"
   },
   {
    "duration": 13,
    "start_time": "2023-07-03T10:45:26.694Z"
   },
   {
    "duration": 47,
    "start_time": "2023-07-03T10:45:26.709Z"
   },
   {
    "duration": 51,
    "start_time": "2023-07-03T10:45:26.758Z"
   },
   {
    "duration": 360,
    "start_time": "2023-07-03T10:45:26.811Z"
   },
   {
    "duration": 134,
    "start_time": "2023-07-03T10:45:27.172Z"
   },
   {
    "duration": 0,
    "start_time": "2023-07-03T10:45:27.308Z"
   },
   {
    "duration": 0,
    "start_time": "2023-07-03T10:45:27.310Z"
   },
   {
    "duration": 0,
    "start_time": "2023-07-03T10:45:27.310Z"
   },
   {
    "duration": 21,
    "start_time": "2023-07-03T10:46:56.767Z"
   },
   {
    "duration": 29,
    "start_time": "2023-07-03T10:49:42.719Z"
   },
   {
    "duration": 1627,
    "start_time": "2023-07-03T10:50:02.651Z"
   },
   {
    "duration": 53,
    "start_time": "2023-07-03T10:50:04.280Z"
   },
   {
    "duration": 15,
    "start_time": "2023-07-03T10:50:04.335Z"
   },
   {
    "duration": 18,
    "start_time": "2023-07-03T10:50:04.352Z"
   },
   {
    "duration": 27,
    "start_time": "2023-07-03T10:50:04.372Z"
   },
   {
    "duration": 316,
    "start_time": "2023-07-03T10:50:04.401Z"
   },
   {
    "duration": 894,
    "start_time": "2023-07-03T10:50:04.719Z"
   },
   {
    "duration": 698,
    "start_time": "2023-07-03T10:50:05.615Z"
   },
   {
    "duration": 5,
    "start_time": "2023-07-03T10:50:06.315Z"
   },
   {
    "duration": 60,
    "start_time": "2023-07-03T10:50:06.323Z"
   },
   {
    "duration": 388,
    "start_time": "2023-07-03T10:50:06.385Z"
   },
   {
    "duration": 139,
    "start_time": "2023-07-03T10:50:06.774Z"
   },
   {
    "duration": 0,
    "start_time": "2023-07-03T10:50:06.914Z"
   },
   {
    "duration": 0,
    "start_time": "2023-07-03T10:50:06.915Z"
   },
   {
    "duration": 0,
    "start_time": "2023-07-03T10:50:06.916Z"
   },
   {
    "duration": 1478,
    "start_time": "2023-07-03T10:50:45.798Z"
   },
   {
    "duration": 54,
    "start_time": "2023-07-03T10:50:47.278Z"
   },
   {
    "duration": 13,
    "start_time": "2023-07-03T10:50:47.334Z"
   },
   {
    "duration": 20,
    "start_time": "2023-07-03T10:50:47.349Z"
   },
   {
    "duration": 21,
    "start_time": "2023-07-03T10:50:47.371Z"
   },
   {
    "duration": 284,
    "start_time": "2023-07-03T10:50:47.394Z"
   },
   {
    "duration": 790,
    "start_time": "2023-07-03T10:50:47.679Z"
   },
   {
    "duration": 706,
    "start_time": "2023-07-03T10:50:48.471Z"
   },
   {
    "duration": 134,
    "start_time": "2023-07-03T10:50:49.179Z"
   },
   {
    "duration": 0,
    "start_time": "2023-07-03T10:50:49.315Z"
   },
   {
    "duration": 0,
    "start_time": "2023-07-03T10:50:49.316Z"
   },
   {
    "duration": 0,
    "start_time": "2023-07-03T10:50:49.317Z"
   },
   {
    "duration": 0,
    "start_time": "2023-07-03T10:50:49.318Z"
   },
   {
    "duration": 0,
    "start_time": "2023-07-03T10:50:49.320Z"
   },
   {
    "duration": 0,
    "start_time": "2023-07-03T10:50:49.321Z"
   },
   {
    "duration": 0,
    "start_time": "2023-07-03T10:50:49.322Z"
   },
   {
    "duration": 1513,
    "start_time": "2023-07-03T10:54:03.602Z"
   },
   {
    "duration": 53,
    "start_time": "2023-07-03T10:54:05.117Z"
   },
   {
    "duration": 13,
    "start_time": "2023-07-03T10:54:05.172Z"
   },
   {
    "duration": 13,
    "start_time": "2023-07-03T10:54:05.187Z"
   },
   {
    "duration": 32,
    "start_time": "2023-07-03T10:54:05.202Z"
   },
   {
    "duration": 283,
    "start_time": "2023-07-03T10:54:05.236Z"
   },
   {
    "duration": 813,
    "start_time": "2023-07-03T10:54:05.520Z"
   },
   {
    "duration": 699,
    "start_time": "2023-07-03T10:54:06.335Z"
   },
   {
    "duration": 139,
    "start_time": "2023-07-03T10:54:07.036Z"
   },
   {
    "duration": 0,
    "start_time": "2023-07-03T10:54:07.176Z"
   },
   {
    "duration": 0,
    "start_time": "2023-07-03T10:54:07.178Z"
   },
   {
    "duration": 0,
    "start_time": "2023-07-03T10:54:07.179Z"
   },
   {
    "duration": 0,
    "start_time": "2023-07-03T10:54:07.180Z"
   },
   {
    "duration": 0,
    "start_time": "2023-07-03T10:54:07.181Z"
   },
   {
    "duration": 0,
    "start_time": "2023-07-03T10:54:07.182Z"
   },
   {
    "duration": 0,
    "start_time": "2023-07-03T10:54:07.183Z"
   },
   {
    "duration": 710,
    "start_time": "2023-07-03T10:54:45.000Z"
   },
   {
    "duration": 728,
    "start_time": "2023-07-03T10:55:15.668Z"
   },
   {
    "duration": 17,
    "start_time": "2023-07-03T10:57:01.122Z"
   },
   {
    "duration": 1463,
    "start_time": "2023-07-03T10:57:09.320Z"
   },
   {
    "duration": 53,
    "start_time": "2023-07-03T10:57:10.786Z"
   },
   {
    "duration": 14,
    "start_time": "2023-07-03T10:57:10.847Z"
   },
   {
    "duration": 8,
    "start_time": "2023-07-03T10:57:10.866Z"
   },
   {
    "duration": 25,
    "start_time": "2023-07-03T10:57:10.876Z"
   },
   {
    "duration": 297,
    "start_time": "2023-07-03T10:57:10.903Z"
   },
   {
    "duration": 806,
    "start_time": "2023-07-03T10:57:11.201Z"
   },
   {
    "duration": 738,
    "start_time": "2023-07-03T10:57:12.008Z"
   },
   {
    "duration": 141,
    "start_time": "2023-07-03T10:57:12.749Z"
   },
   {
    "duration": 0,
    "start_time": "2023-07-03T10:57:12.892Z"
   },
   {
    "duration": 0,
    "start_time": "2023-07-03T10:57:12.893Z"
   },
   {
    "duration": 0,
    "start_time": "2023-07-03T10:57:12.894Z"
   },
   {
    "duration": 0,
    "start_time": "2023-07-03T10:57:12.895Z"
   },
   {
    "duration": 0,
    "start_time": "2023-07-03T10:57:12.896Z"
   },
   {
    "duration": 0,
    "start_time": "2023-07-03T10:57:12.897Z"
   },
   {
    "duration": 0,
    "start_time": "2023-07-03T10:57:12.898Z"
   },
   {
    "duration": 16,
    "start_time": "2023-07-03T10:57:31.000Z"
   },
   {
    "duration": 16,
    "start_time": "2023-07-03T10:58:21.993Z"
   },
   {
    "duration": 195,
    "start_time": "2023-07-03T10:58:35.330Z"
   },
   {
    "duration": 196,
    "start_time": "2023-07-03T10:58:44.475Z"
   },
   {
    "duration": 200,
    "start_time": "2023-07-03T10:58:52.396Z"
   },
   {
    "duration": 1542,
    "start_time": "2023-07-03T10:59:01.510Z"
   },
   {
    "duration": 53,
    "start_time": "2023-07-03T10:59:03.054Z"
   },
   {
    "duration": 13,
    "start_time": "2023-07-03T10:59:03.109Z"
   },
   {
    "duration": 34,
    "start_time": "2023-07-03T10:59:03.124Z"
   },
   {
    "duration": 57,
    "start_time": "2023-07-03T10:59:03.161Z"
   },
   {
    "duration": 306,
    "start_time": "2023-07-03T10:59:03.220Z"
   },
   {
    "duration": 860,
    "start_time": "2023-07-03T10:59:03.528Z"
   },
   {
    "duration": 698,
    "start_time": "2023-07-03T10:59:04.390Z"
   },
   {
    "duration": 240,
    "start_time": "2023-07-03T10:59:05.090Z"
   },
   {
    "duration": 4,
    "start_time": "2023-07-03T10:59:05.331Z"
   },
   {
    "duration": 49,
    "start_time": "2023-07-03T10:59:05.337Z"
   },
   {
    "duration": 385,
    "start_time": "2023-07-03T10:59:05.388Z"
   },
   {
    "duration": 136,
    "start_time": "2023-07-03T10:59:05.775Z"
   },
   {
    "duration": 0,
    "start_time": "2023-07-03T10:59:05.913Z"
   },
   {
    "duration": 0,
    "start_time": "2023-07-03T10:59:05.914Z"
   },
   {
    "duration": 0,
    "start_time": "2023-07-03T10:59:05.915Z"
   },
   {
    "duration": 1678,
    "start_time": "2023-07-03T10:59:41.542Z"
   },
   {
    "duration": 66,
    "start_time": "2023-07-03T10:59:43.222Z"
   },
   {
    "duration": 13,
    "start_time": "2023-07-03T10:59:43.290Z"
   },
   {
    "duration": 12,
    "start_time": "2023-07-03T10:59:43.305Z"
   },
   {
    "duration": 33,
    "start_time": "2023-07-03T10:59:43.319Z"
   },
   {
    "duration": 318,
    "start_time": "2023-07-03T10:59:43.353Z"
   },
   {
    "duration": 956,
    "start_time": "2023-07-03T10:59:43.673Z"
   },
   {
    "duration": 754,
    "start_time": "2023-07-03T10:59:44.631Z"
   },
   {
    "duration": 280,
    "start_time": "2023-07-03T10:59:45.387Z"
   },
   {
    "duration": 0,
    "start_time": "2023-07-03T10:59:45.669Z"
   },
   {
    "duration": 0,
    "start_time": "2023-07-03T10:59:45.671Z"
   },
   {
    "duration": 0,
    "start_time": "2023-07-03T10:59:45.672Z"
   },
   {
    "duration": 0,
    "start_time": "2023-07-03T10:59:45.673Z"
   },
   {
    "duration": 0,
    "start_time": "2023-07-03T10:59:45.675Z"
   },
   {
    "duration": 1,
    "start_time": "2023-07-03T10:59:45.675Z"
   },
   {
    "duration": 0,
    "start_time": "2023-07-03T10:59:45.677Z"
   },
   {
    "duration": 228,
    "start_time": "2023-07-03T10:59:56.904Z"
   },
   {
    "duration": 1557,
    "start_time": "2023-07-03T11:00:04.338Z"
   },
   {
    "duration": 58,
    "start_time": "2023-07-03T11:00:05.897Z"
   },
   {
    "duration": 13,
    "start_time": "2023-07-03T11:00:05.957Z"
   },
   {
    "duration": 34,
    "start_time": "2023-07-03T11:00:05.972Z"
   },
   {
    "duration": 40,
    "start_time": "2023-07-03T11:00:06.010Z"
   },
   {
    "duration": 316,
    "start_time": "2023-07-03T11:00:06.052Z"
   },
   {
    "duration": 867,
    "start_time": "2023-07-03T11:00:06.370Z"
   },
   {
    "duration": 779,
    "start_time": "2023-07-03T11:00:07.239Z"
   },
   {
    "duration": 318,
    "start_time": "2023-07-03T11:00:08.020Z"
   },
   {
    "duration": 0,
    "start_time": "2023-07-03T11:00:08.340Z"
   },
   {
    "duration": 0,
    "start_time": "2023-07-03T11:00:08.341Z"
   },
   {
    "duration": 0,
    "start_time": "2023-07-03T11:00:08.343Z"
   },
   {
    "duration": 0,
    "start_time": "2023-07-03T11:00:08.344Z"
   },
   {
    "duration": 0,
    "start_time": "2023-07-03T11:00:08.345Z"
   },
   {
    "duration": 0,
    "start_time": "2023-07-03T11:00:08.346Z"
   },
   {
    "duration": 0,
    "start_time": "2023-07-03T11:00:08.348Z"
   },
   {
    "duration": 1461,
    "start_time": "2023-07-03T11:00:57.429Z"
   },
   {
    "duration": 53,
    "start_time": "2023-07-03T11:00:58.893Z"
   },
   {
    "duration": 13,
    "start_time": "2023-07-03T11:00:58.948Z"
   },
   {
    "duration": 11,
    "start_time": "2023-07-03T11:00:58.963Z"
   },
   {
    "duration": 23,
    "start_time": "2023-07-03T11:00:58.976Z"
   },
   {
    "duration": 292,
    "start_time": "2023-07-03T11:00:59.001Z"
   },
   {
    "duration": 804,
    "start_time": "2023-07-03T11:00:59.295Z"
   },
   {
    "duration": 750,
    "start_time": "2023-07-03T11:01:00.102Z"
   },
   {
    "duration": 326,
    "start_time": "2023-07-03T11:01:00.854Z"
   },
   {
    "duration": 0,
    "start_time": "2023-07-03T11:01:01.183Z"
   },
   {
    "duration": 0,
    "start_time": "2023-07-03T11:01:01.184Z"
   },
   {
    "duration": 1,
    "start_time": "2023-07-03T11:01:01.185Z"
   },
   {
    "duration": 0,
    "start_time": "2023-07-03T11:01:01.187Z"
   },
   {
    "duration": 0,
    "start_time": "2023-07-03T11:01:01.189Z"
   },
   {
    "duration": 0,
    "start_time": "2023-07-03T11:01:01.190Z"
   },
   {
    "duration": 0,
    "start_time": "2023-07-03T11:01:01.191Z"
   },
   {
    "duration": 210,
    "start_time": "2023-07-03T11:01:58.920Z"
   },
   {
    "duration": 1489,
    "start_time": "2023-07-03T11:02:05.220Z"
   },
   {
    "duration": 54,
    "start_time": "2023-07-03T11:02:06.712Z"
   },
   {
    "duration": 14,
    "start_time": "2023-07-03T11:02:06.772Z"
   },
   {
    "duration": 9,
    "start_time": "2023-07-03T11:02:06.788Z"
   },
   {
    "duration": 31,
    "start_time": "2023-07-03T11:02:06.799Z"
   },
   {
    "duration": 339,
    "start_time": "2023-07-03T11:02:06.832Z"
   },
   {
    "duration": 812,
    "start_time": "2023-07-03T11:02:07.173Z"
   },
   {
    "duration": 697,
    "start_time": "2023-07-03T11:02:07.987Z"
   },
   {
    "duration": 328,
    "start_time": "2023-07-03T11:02:08.686Z"
   },
   {
    "duration": 0,
    "start_time": "2023-07-03T11:02:09.016Z"
   },
   {
    "duration": 0,
    "start_time": "2023-07-03T11:02:09.018Z"
   },
   {
    "duration": 0,
    "start_time": "2023-07-03T11:02:09.019Z"
   },
   {
    "duration": 0,
    "start_time": "2023-07-03T11:02:09.021Z"
   },
   {
    "duration": 0,
    "start_time": "2023-07-03T11:02:09.022Z"
   },
   {
    "duration": 0,
    "start_time": "2023-07-03T11:02:09.023Z"
   },
   {
    "duration": 0,
    "start_time": "2023-07-03T11:02:09.025Z"
   },
   {
    "duration": 237,
    "start_time": "2023-07-03T11:02:26.570Z"
   },
   {
    "duration": 370,
    "start_time": "2023-07-03T11:03:03.768Z"
   },
   {
    "duration": 240,
    "start_time": "2023-07-03T11:03:12.654Z"
   },
   {
    "duration": 275,
    "start_time": "2023-07-03T11:03:24.948Z"
   },
   {
    "duration": 1562,
    "start_time": "2023-07-03T11:04:49.338Z"
   },
   {
    "duration": 53,
    "start_time": "2023-07-03T11:04:50.903Z"
   },
   {
    "duration": 15,
    "start_time": "2023-07-03T11:04:50.961Z"
   },
   {
    "duration": 7,
    "start_time": "2023-07-03T11:04:50.979Z"
   },
   {
    "duration": 55,
    "start_time": "2023-07-03T11:04:50.988Z"
   },
   {
    "duration": 297,
    "start_time": "2023-07-03T11:04:51.045Z"
   },
   {
    "duration": 854,
    "start_time": "2023-07-03T11:04:51.344Z"
   },
   {
    "duration": 768,
    "start_time": "2023-07-03T11:04:52.200Z"
   },
   {
    "duration": 337,
    "start_time": "2023-07-03T11:04:52.970Z"
   },
   {
    "duration": 5,
    "start_time": "2023-07-03T11:04:53.309Z"
   },
   {
    "duration": 144,
    "start_time": "2023-07-03T11:04:53.315Z"
   },
   {
    "duration": 0,
    "start_time": "2023-07-03T11:04:53.461Z"
   },
   {
    "duration": 0,
    "start_time": "2023-07-03T11:04:53.466Z"
   },
   {
    "duration": 0,
    "start_time": "2023-07-03T11:04:53.467Z"
   },
   {
    "duration": 0,
    "start_time": "2023-07-03T11:04:53.469Z"
   },
   {
    "duration": 0,
    "start_time": "2023-07-03T11:04:53.470Z"
   },
   {
    "duration": 5,
    "start_time": "2023-07-03T11:05:09.903Z"
   },
   {
    "duration": 47,
    "start_time": "2023-07-03T11:05:11.167Z"
   },
   {
    "duration": 418,
    "start_time": "2023-07-03T11:05:13.951Z"
   },
   {
    "duration": 1027,
    "start_time": "2023-07-03T11:05:17.143Z"
   },
   {
    "duration": 1459,
    "start_time": "2023-07-03T11:05:26.637Z"
   },
   {
    "duration": 54,
    "start_time": "2023-07-03T11:05:28.098Z"
   },
   {
    "duration": 14,
    "start_time": "2023-07-03T11:05:28.153Z"
   },
   {
    "duration": 9,
    "start_time": "2023-07-03T11:05:28.168Z"
   },
   {
    "duration": 22,
    "start_time": "2023-07-03T11:05:28.179Z"
   },
   {
    "duration": 294,
    "start_time": "2023-07-03T11:05:28.203Z"
   },
   {
    "duration": 814,
    "start_time": "2023-07-03T11:05:28.498Z"
   },
   {
    "duration": 686,
    "start_time": "2023-07-03T11:05:29.314Z"
   },
   {
    "duration": 299,
    "start_time": "2023-07-03T11:05:30.001Z"
   },
   {
    "duration": 5,
    "start_time": "2023-07-03T11:05:30.302Z"
   },
   {
    "duration": 60,
    "start_time": "2023-07-03T11:05:30.309Z"
   },
   {
    "duration": 381,
    "start_time": "2023-07-03T11:05:30.372Z"
   },
   {
    "duration": 1121,
    "start_time": "2023-07-03T11:05:30.754Z"
   },
   {
    "duration": 8444,
    "start_time": "2023-07-03T11:05:31.878Z"
   },
   {
    "duration": 14103,
    "start_time": "2023-07-03T11:05:40.324Z"
   },
   {
    "duration": 0,
    "start_time": "2023-07-03T11:05:54.429Z"
   },
   {
    "duration": 31,
    "start_time": "2023-07-03T11:06:23.602Z"
   },
   {
    "duration": 1586,
    "start_time": "2023-07-03T11:06:32.523Z"
   },
   {
    "duration": 58,
    "start_time": "2023-07-03T11:06:34.112Z"
   },
   {
    "duration": 13,
    "start_time": "2023-07-03T11:06:34.172Z"
   },
   {
    "duration": 21,
    "start_time": "2023-07-03T11:06:34.186Z"
   },
   {
    "duration": 30,
    "start_time": "2023-07-03T11:06:34.210Z"
   },
   {
    "duration": 286,
    "start_time": "2023-07-03T11:06:34.242Z"
   },
   {
    "duration": 858,
    "start_time": "2023-07-03T11:06:34.530Z"
   },
   {
    "duration": 714,
    "start_time": "2023-07-03T11:06:35.390Z"
   },
   {
    "duration": 270,
    "start_time": "2023-07-03T11:06:36.105Z"
   },
   {
    "duration": 4,
    "start_time": "2023-07-03T11:06:36.377Z"
   },
   {
    "duration": 49,
    "start_time": "2023-07-03T11:06:36.383Z"
   },
   {
    "duration": 408,
    "start_time": "2023-07-03T11:06:36.434Z"
   },
   {
    "duration": 628,
    "start_time": "2023-07-03T11:06:36.844Z"
   },
   {
    "duration": 8042,
    "start_time": "2023-07-03T11:06:37.475Z"
   },
   {
    "duration": 1453,
    "start_time": "2023-07-03T12:51:34.653Z"
   },
   {
    "duration": 1411,
    "start_time": "2023-07-03T12:51:49.604Z"
   },
   {
    "duration": 23,
    "start_time": "2023-07-03T12:54:00.094Z"
   },
   {
    "duration": 1577,
    "start_time": "2023-07-03T12:54:16.700Z"
   },
   {
    "duration": 166,
    "start_time": "2023-07-03T12:54:18.279Z"
   },
   {
    "duration": 0,
    "start_time": "2023-07-03T12:54:18.447Z"
   },
   {
    "duration": 0,
    "start_time": "2023-07-03T12:54:18.448Z"
   },
   {
    "duration": 0,
    "start_time": "2023-07-03T12:54:18.449Z"
   },
   {
    "duration": 0,
    "start_time": "2023-07-03T12:54:18.450Z"
   },
   {
    "duration": 0,
    "start_time": "2023-07-03T12:54:18.452Z"
   },
   {
    "duration": 0,
    "start_time": "2023-07-03T12:54:18.452Z"
   },
   {
    "duration": 0,
    "start_time": "2023-07-03T12:54:18.454Z"
   },
   {
    "duration": 0,
    "start_time": "2023-07-03T12:54:18.455Z"
   },
   {
    "duration": 0,
    "start_time": "2023-07-03T12:54:18.467Z"
   },
   {
    "duration": 0,
    "start_time": "2023-07-03T12:54:18.468Z"
   },
   {
    "duration": 0,
    "start_time": "2023-07-03T12:54:18.470Z"
   },
   {
    "duration": 0,
    "start_time": "2023-07-03T12:54:18.471Z"
   },
   {
    "duration": 0,
    "start_time": "2023-07-03T12:54:18.472Z"
   },
   {
    "duration": 0,
    "start_time": "2023-07-03T12:54:18.473Z"
   },
   {
    "duration": 0,
    "start_time": "2023-07-03T12:54:18.474Z"
   },
   {
    "duration": 1521,
    "start_time": "2023-07-03T12:54:42.410Z"
   },
   {
    "duration": 61,
    "start_time": "2023-07-03T12:54:43.934Z"
   },
   {
    "duration": 17,
    "start_time": "2023-07-03T12:54:43.998Z"
   },
   {
    "duration": 9,
    "start_time": "2023-07-03T12:54:44.018Z"
   },
   {
    "duration": 53,
    "start_time": "2023-07-03T12:54:44.029Z"
   },
   {
    "duration": 292,
    "start_time": "2023-07-03T12:54:44.084Z"
   },
   {
    "duration": 801,
    "start_time": "2023-07-03T12:54:44.378Z"
   },
   {
    "duration": 623,
    "start_time": "2023-07-03T12:54:45.181Z"
   },
   {
    "duration": 665,
    "start_time": "2023-07-03T12:54:45.806Z"
   },
   {
    "duration": 232,
    "start_time": "2023-07-03T12:54:46.475Z"
   },
   {
    "duration": 4,
    "start_time": "2023-07-03T12:54:46.709Z"
   },
   {
    "duration": 67,
    "start_time": "2023-07-03T12:54:46.715Z"
   },
   {
    "duration": 205,
    "start_time": "2023-07-03T12:54:46.784Z"
   },
   {
    "duration": 0,
    "start_time": "2023-07-03T12:54:46.990Z"
   },
   {
    "duration": 0,
    "start_time": "2023-07-03T12:54:46.992Z"
   },
   {
    "duration": 0,
    "start_time": "2023-07-03T12:54:46.993Z"
   },
   {
    "duration": 0,
    "start_time": "2023-07-03T12:54:46.994Z"
   },
   {
    "duration": 1567,
    "start_time": "2023-07-03T12:54:58.074Z"
   },
   {
    "duration": 54,
    "start_time": "2023-07-03T12:54:59.643Z"
   },
   {
    "duration": 14,
    "start_time": "2023-07-03T12:54:59.699Z"
   },
   {
    "duration": 18,
    "start_time": "2023-07-03T12:54:59.715Z"
   },
   {
    "duration": 36,
    "start_time": "2023-07-03T12:54:59.735Z"
   },
   {
    "duration": 279,
    "start_time": "2023-07-03T12:54:59.772Z"
   },
   {
    "duration": 822,
    "start_time": "2023-07-03T12:55:00.053Z"
   },
   {
    "duration": 626,
    "start_time": "2023-07-03T12:55:00.877Z"
   },
   {
    "duration": 738,
    "start_time": "2023-07-03T12:55:01.505Z"
   },
   {
    "duration": 264,
    "start_time": "2023-07-03T12:55:02.245Z"
   },
   {
    "duration": 5,
    "start_time": "2023-07-03T12:55:02.511Z"
   },
   {
    "duration": 96,
    "start_time": "2023-07-03T12:55:02.518Z"
   },
   {
    "duration": 357,
    "start_time": "2023-07-03T12:55:02.616Z"
   },
   {
    "duration": 996,
    "start_time": "2023-07-03T12:55:02.976Z"
   },
   {
    "duration": 6572,
    "start_time": "2023-07-03T12:55:03.974Z"
   },
   {
    "duration": 1585,
    "start_time": "2023-07-03T12:56:25.437Z"
   },
   {
    "duration": 53,
    "start_time": "2023-07-03T12:56:27.025Z"
   },
   {
    "duration": 14,
    "start_time": "2023-07-03T12:56:27.081Z"
   },
   {
    "duration": 21,
    "start_time": "2023-07-03T12:56:27.098Z"
   },
   {
    "duration": 44,
    "start_time": "2023-07-03T12:56:27.123Z"
   },
   {
    "duration": 331,
    "start_time": "2023-07-03T12:56:27.168Z"
   },
   {
    "duration": 861,
    "start_time": "2023-07-03T12:56:27.501Z"
   },
   {
    "duration": 608,
    "start_time": "2023-07-03T12:56:28.363Z"
   },
   {
    "duration": 704,
    "start_time": "2023-07-03T12:56:28.972Z"
   },
   {
    "duration": 229,
    "start_time": "2023-07-03T12:56:29.677Z"
   },
   {
    "duration": 4,
    "start_time": "2023-07-03T12:56:29.908Z"
   },
   {
    "duration": 73,
    "start_time": "2023-07-03T12:56:29.914Z"
   },
   {
    "duration": 390,
    "start_time": "2023-07-03T12:56:29.989Z"
   },
   {
    "duration": 992,
    "start_time": "2023-07-03T12:56:30.382Z"
   },
   {
    "duration": 6718,
    "start_time": "2023-07-03T12:56:31.376Z"
   },
   {
    "duration": 1542,
    "start_time": "2023-07-03T12:58:24.415Z"
   },
   {
    "duration": 54,
    "start_time": "2023-07-03T12:58:25.960Z"
   },
   {
    "duration": 14,
    "start_time": "2023-07-03T12:58:26.016Z"
   },
   {
    "duration": 17,
    "start_time": "2023-07-03T12:58:26.032Z"
   },
   {
    "duration": 21,
    "start_time": "2023-07-03T12:58:26.051Z"
   },
   {
    "duration": 327,
    "start_time": "2023-07-03T12:58:26.073Z"
   },
   {
    "duration": 867,
    "start_time": "2023-07-03T12:58:26.403Z"
   },
   {
    "duration": 656,
    "start_time": "2023-07-03T12:58:27.272Z"
   },
   {
    "duration": 769,
    "start_time": "2023-07-03T12:58:27.930Z"
   },
   {
    "duration": 329,
    "start_time": "2023-07-03T12:58:28.701Z"
   },
   {
    "duration": 5,
    "start_time": "2023-07-03T12:58:29.031Z"
   },
   {
    "duration": 58,
    "start_time": "2023-07-03T12:58:29.037Z"
   },
   {
    "duration": 381,
    "start_time": "2023-07-03T12:58:29.097Z"
   },
   {
    "duration": 893,
    "start_time": "2023-07-03T12:58:29.481Z"
   },
   {
    "duration": 6794,
    "start_time": "2023-07-03T12:58:30.377Z"
   },
   {
    "duration": 1580,
    "start_time": "2023-07-03T13:00:16.575Z"
   },
   {
    "duration": 54,
    "start_time": "2023-07-03T13:00:18.157Z"
   },
   {
    "duration": 14,
    "start_time": "2023-07-03T13:00:18.217Z"
   },
   {
    "duration": 16,
    "start_time": "2023-07-03T13:00:18.233Z"
   },
   {
    "duration": 41,
    "start_time": "2023-07-03T13:00:18.251Z"
   },
   {
    "duration": 282,
    "start_time": "2023-07-03T13:00:18.294Z"
   },
   {
    "duration": 823,
    "start_time": "2023-07-03T13:00:18.579Z"
   },
   {
    "duration": 248,
    "start_time": "2023-07-03T13:00:19.404Z"
   },
   {
    "duration": 0,
    "start_time": "2023-07-03T13:00:19.654Z"
   },
   {
    "duration": 0,
    "start_time": "2023-07-03T13:00:19.655Z"
   },
   {
    "duration": 0,
    "start_time": "2023-07-03T13:00:19.657Z"
   },
   {
    "duration": 0,
    "start_time": "2023-07-03T13:00:19.667Z"
   },
   {
    "duration": 0,
    "start_time": "2023-07-03T13:00:19.668Z"
   },
   {
    "duration": 0,
    "start_time": "2023-07-03T13:00:19.669Z"
   },
   {
    "duration": 0,
    "start_time": "2023-07-03T13:00:19.671Z"
   },
   {
    "duration": 0,
    "start_time": "2023-07-03T13:00:19.672Z"
   },
   {
    "duration": 0,
    "start_time": "2023-07-03T13:00:19.673Z"
   },
   {
    "duration": 303,
    "start_time": "2023-07-03T13:00:29.038Z"
   },
   {
    "duration": 643,
    "start_time": "2023-07-03T13:00:55.853Z"
   }
  ],
  "kernelspec": {
   "display_name": "Python 3 (ipykernel)",
   "language": "python",
   "name": "python3"
  },
  "language_info": {
   "codemirror_mode": {
    "name": "ipython",
    "version": 3
   },
   "file_extension": ".py",
   "mimetype": "text/x-python",
   "name": "python",
   "nbconvert_exporter": "python",
   "pygments_lexer": "ipython3",
   "version": "3.9.5"
  },
  "toc": {
   "base_numbering": 1,
   "nav_menu": {},
   "number_sections": true,
   "sideBar": true,
   "skip_h1_title": true,
   "title_cell": "Содержание",
   "title_sidebar": "Contents",
   "toc_cell": true,
   "toc_position": {},
   "toc_section_display": true,
   "toc_window_display": false
  }
 },
 "nbformat": 4,
 "nbformat_minor": 2
}
