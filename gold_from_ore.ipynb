{
 "cells": [
  {
   "cell_type": "markdown",
   "metadata": {
    "toc": true
   },
   "source": [
    "<h1>Содержание<span class=\"tocSkip\"></span></h1>\n",
    "<div class=\"toc\"><ul class=\"toc-item\"><li><span><a href=\"#Подготовка-данных\" data-toc-modified-id=\"Подготовка-данных-1\"><span class=\"toc-item-num\">1&nbsp;&nbsp;</span>Подготовка данных</a></span></li><li><span><a href=\"#Анализ-данных\" data-toc-modified-id=\"Анализ-данных-2\"><span class=\"toc-item-num\">2&nbsp;&nbsp;</span>Анализ данных</a></span><ul class=\"toc-item\"><li><span><a href=\"#Концентрация-металлов-(Au,-Ag,-Pb)-на-различных-этапах-очистки\" data-toc-modified-id=\"Концентрация-металлов-(Au,-Ag,-Pb)-на-различных-этапах-очистки-2.1\"><span class=\"toc-item-num\">2.1&nbsp;&nbsp;</span>Концентрация металлов (Au, Ag, Pb) на различных этапах очистки</a></span></li><li><span><a href=\"#Распределения-размеров-гранул-сырья-на-обучающей-и-тестовой-выборках\" data-toc-modified-id=\"Распределения-размеров-гранул-сырья-на-обучающей-и-тестовой-выборках-2.2\"><span class=\"toc-item-num\">2.2&nbsp;&nbsp;</span>Распределения размеров гранул сырья на обучающей и тестовой выборках</a></span></li><li><span><a href=\"#Суммарная-концентрация-всех-веществ-(Au,-Ag,-Pb,-Sol)-на-разных-стадиях:-в-сырье,-в-черновом-и-финальном-концентратах.\" data-toc-modified-id=\"Суммарная-концентрация-всех-веществ-(Au,-Ag,-Pb,-Sol)-на-разных-стадиях:-в-сырье,-в-черновом-и-финальном-концентратах.-2.3\"><span class=\"toc-item-num\">2.3&nbsp;&nbsp;</span>Суммарная концентрация всех веществ (Au, Ag, Pb, Sol) на разных стадиях: в сырье, в черновом и финальном концентратах.</a></span></li></ul></li><li><span><a href=\"#Модель\" data-toc-modified-id=\"Модель-3\"><span class=\"toc-item-num\">3&nbsp;&nbsp;</span>Модель</a></span><ul class=\"toc-item\"><li><span><a href=\"#Функция-для-вычисления-итогового-sMAPE.\" data-toc-modified-id=\"Функция-для-вычисления-итогового-sMAPE.-3.1\"><span class=\"toc-item-num\">3.1&nbsp;&nbsp;</span>Функция для вычисления итогового sMAPE.</a></span></li><li><span><a href=\"#Обучено-и-проверено-несколько-моделей.\" data-toc-modified-id=\"Обучено-и-проверено-несколько-моделей.-3.2\"><span class=\"toc-item-num\">3.2&nbsp;&nbsp;</span>Обучено и проверено несколько моделей.</a></span></li><li><span><a href=\"#Проверка-на-тестовой-выборке.\" data-toc-modified-id=\"Проверка-на-тестовой-выборке.-3.3\"><span class=\"toc-item-num\">3.3&nbsp;&nbsp;</span>Проверка на тестовой выборке.</a></span></li></ul></li><li><span><a href=\"#Вывод.\" data-toc-modified-id=\"Вывод.-4\"><span class=\"toc-item-num\">4&nbsp;&nbsp;</span>Вывод.</a></span></li></ul></div>"
   ]
  },
  {
   "cell_type": "markdown",
   "metadata": {},
   "source": [
    "# Восстановление золота из руды"
   ]
  },
  {
   "cell_type": "markdown",
   "metadata": {},
   "source": [
    "Подготовьте прототип модели машинного обучения для «Цифры». Компания разрабатывает решения для эффективной работы промышленных предприятий.\n",
    "\n",
    "Модель должна предсказать коэффициент восстановления золота из золотосодержащей руды. Используйте данные с параметрами добычи и очистки. \n",
    "\n",
    "Модель поможет оптимизировать производство, чтобы не запускать предприятие с убыточными характеристиками.\n",
    "\n",
    "Вам нужно:\n",
    "\n",
    "1. Подготовить данные;\n",
    "2. Провести исследовательский анализ данных;\n",
    "3. Построить и обучить модель.\n",
    "\n",
    "Чтобы выполнить проект, обращайтесь к библиотекам *pandas*, *matplotlib* и *sklearn.* Вам поможет их документация."
   ]
  },
  {
   "cell_type": "markdown",
   "metadata": {},
   "source": [
    "## Подготовка данных"
   ]
  },
  {
   "cell_type": "code",
   "execution_count": 1,
   "metadata": {},
   "outputs": [],
   "source": [
    "import pandas as pd\n",
    "import numpy as np\n",
    "import matplotlib.pyplot as plt\n",
    "import seaborn\n",
    "import scipy.stats as stats\n",
    "\n",
    "from sklearn.metrics import mean_absolute_error, make_scorer, fbeta_score\n",
    "\n",
    "from sklearn.tree import DecisionTreeRegressor\n",
    "from sklearn.ensemble import RandomForestRegressor\n",
    "from sklearn.linear_model import Lasso, LinearRegression\n",
    "from sklearn.dummy import DummyRegressor\n",
    "\n",
    "from sklearn.model_selection import RandomizedSearchCV\n",
    "\n",
    "pd.options.display.max_rows = 90"
   ]
  },
  {
   "cell_type": "markdown",
   "metadata": {},
   "source": [
    "Импорт библиотек *pandas*, *numpy*, *seaborn* и *sklearn*."
   ]
  },
  {
   "cell_type": "code",
   "execution_count": 2,
   "metadata": {},
   "outputs": [],
   "source": [
    "df_train = pd.read_csv('/datasets/gold_recovery_train_new.csv')\n",
    "df_test = pd.read_csv('/datasets/gold_recovery_test_new.csv')\n",
    "df_full = pd.read_csv('/datasets/gold_recovery_full_new.csv')"
   ]
  },
  {
   "cell_type": "markdown",
   "metadata": {},
   "source": [
    "Загрузка датасетов."
   ]
  },
  {
   "cell_type": "code",
   "execution_count": 3,
   "metadata": {
    "scrolled": true
   },
   "outputs": [
    {
     "name": "stdout",
     "output_type": "stream",
     "text": [
      "<class 'pandas.core.frame.DataFrame'>\n",
      "RangeIndex: 19439 entries, 0 to 19438\n",
      "Data columns (total 87 columns):\n",
      " #   Column                                              Non-Null Count  Dtype  \n",
      "---  ------                                              --------------  -----  \n",
      " 0   date                                                19439 non-null  object \n",
      " 1   final.output.concentrate_ag                         19438 non-null  float64\n",
      " 2   final.output.concentrate_pb                         19438 non-null  float64\n",
      " 3   final.output.concentrate_sol                        19228 non-null  float64\n",
      " 4   final.output.concentrate_au                         19439 non-null  float64\n",
      " 5   final.output.recovery                               19439 non-null  float64\n",
      " 6   final.output.tail_ag                                19438 non-null  float64\n",
      " 7   final.output.tail_pb                                19338 non-null  float64\n",
      " 8   final.output.tail_sol                               19433 non-null  float64\n",
      " 9   final.output.tail_au                                19439 non-null  float64\n",
      " 10  primary_cleaner.input.sulfate                       19415 non-null  float64\n",
      " 11  primary_cleaner.input.depressant                    19402 non-null  float64\n",
      " 12  primary_cleaner.input.feed_size                     19439 non-null  float64\n",
      " 13  primary_cleaner.input.xanthate                      19335 non-null  float64\n",
      " 14  primary_cleaner.output.concentrate_ag               19439 non-null  float64\n",
      " 15  primary_cleaner.output.concentrate_pb               19323 non-null  float64\n",
      " 16  primary_cleaner.output.concentrate_sol              19069 non-null  float64\n",
      " 17  primary_cleaner.output.concentrate_au               19439 non-null  float64\n",
      " 18  primary_cleaner.output.tail_ag                      19435 non-null  float64\n",
      " 19  primary_cleaner.output.tail_pb                      19418 non-null  float64\n",
      " 20  primary_cleaner.output.tail_sol                     19377 non-null  float64\n",
      " 21  primary_cleaner.output.tail_au                      19439 non-null  float64\n",
      " 22  primary_cleaner.state.floatbank8_a_air              19435 non-null  float64\n",
      " 23  primary_cleaner.state.floatbank8_a_level            19438 non-null  float64\n",
      " 24  primary_cleaner.state.floatbank8_b_air              19435 non-null  float64\n",
      " 25  primary_cleaner.state.floatbank8_b_level            19438 non-null  float64\n",
      " 26  primary_cleaner.state.floatbank8_c_air              19437 non-null  float64\n",
      " 27  primary_cleaner.state.floatbank8_c_level            19438 non-null  float64\n",
      " 28  primary_cleaner.state.floatbank8_d_air              19436 non-null  float64\n",
      " 29  primary_cleaner.state.floatbank8_d_level            19438 non-null  float64\n",
      " 30  rougher.calculation.sulfate_to_au_concentrate       19437 non-null  float64\n",
      " 31  rougher.calculation.floatbank10_sulfate_to_au_feed  19437 non-null  float64\n",
      " 32  rougher.calculation.floatbank11_sulfate_to_au_feed  19437 non-null  float64\n",
      " 33  rougher.calculation.au_pb_ratio                     19439 non-null  float64\n",
      " 34  rougher.input.feed_ag                               19439 non-null  float64\n",
      " 35  rougher.input.feed_pb                               19339 non-null  float64\n",
      " 36  rougher.input.feed_rate                             19428 non-null  float64\n",
      " 37  rougher.input.feed_size                             19294 non-null  float64\n",
      " 38  rougher.input.feed_sol                              19340 non-null  float64\n",
      " 39  rougher.input.feed_au                               19439 non-null  float64\n",
      " 40  rougher.input.floatbank10_sulfate                   19405 non-null  float64\n",
      " 41  rougher.input.floatbank10_xanthate                  19431 non-null  float64\n",
      " 42  rougher.input.floatbank11_sulfate                   19395 non-null  float64\n",
      " 43  rougher.input.floatbank11_xanthate                  18986 non-null  float64\n",
      " 44  rougher.output.concentrate_ag                       19439 non-null  float64\n",
      " 45  rougher.output.concentrate_pb                       19439 non-null  float64\n",
      " 46  rougher.output.concentrate_sol                      19416 non-null  float64\n",
      " 47  rougher.output.concentrate_au                       19439 non-null  float64\n",
      " 48  rougher.output.recovery                             19439 non-null  float64\n",
      " 49  rougher.output.tail_ag                              19438 non-null  float64\n",
      " 50  rougher.output.tail_pb                              19439 non-null  float64\n",
      " 51  rougher.output.tail_sol                             19439 non-null  float64\n",
      " 52  rougher.output.tail_au                              19439 non-null  float64\n",
      " 53  rougher.state.floatbank10_a_air                     19438 non-null  float64\n",
      " 54  rougher.state.floatbank10_a_level                   19438 non-null  float64\n",
      " 55  rougher.state.floatbank10_b_air                     19438 non-null  float64\n",
      " 56  rougher.state.floatbank10_b_level                   19438 non-null  float64\n",
      " 57  rougher.state.floatbank10_c_air                     19438 non-null  float64\n",
      " 58  rougher.state.floatbank10_c_level                   19438 non-null  float64\n",
      " 59  rougher.state.floatbank10_d_air                     19439 non-null  float64\n",
      " 60  rougher.state.floatbank10_d_level                   19439 non-null  float64\n",
      " 61  rougher.state.floatbank10_e_air                     19003 non-null  float64\n",
      " 62  rougher.state.floatbank10_e_level                   19439 non-null  float64\n",
      " 63  rougher.state.floatbank10_f_air                     19439 non-null  float64\n",
      " 64  rougher.state.floatbank10_f_level                   19439 non-null  float64\n",
      " 65  secondary_cleaner.output.tail_ag                    19437 non-null  float64\n",
      " 66  secondary_cleaner.output.tail_pb                    19427 non-null  float64\n",
      " 67  secondary_cleaner.output.tail_sol                   17691 non-null  float64\n",
      " 68  secondary_cleaner.output.tail_au                    19439 non-null  float64\n",
      " 69  secondary_cleaner.state.floatbank2_a_air            19219 non-null  float64\n",
      " 70  secondary_cleaner.state.floatbank2_a_level          19438 non-null  float64\n",
      " 71  secondary_cleaner.state.floatbank2_b_air            19416 non-null  float64\n",
      " 72  secondary_cleaner.state.floatbank2_b_level          19438 non-null  float64\n",
      " 73  secondary_cleaner.state.floatbank3_a_air            19426 non-null  float64\n",
      " 74  secondary_cleaner.state.floatbank3_a_level          19438 non-null  float64\n",
      " 75  secondary_cleaner.state.floatbank3_b_air            19438 non-null  float64\n",
      " 76  secondary_cleaner.state.floatbank3_b_level          19438 non-null  float64\n",
      " 77  secondary_cleaner.state.floatbank4_a_air            19433 non-null  float64\n",
      " 78  secondary_cleaner.state.floatbank4_a_level          19438 non-null  float64\n",
      " 79  secondary_cleaner.state.floatbank4_b_air            19438 non-null  float64\n",
      " 80  secondary_cleaner.state.floatbank4_b_level          19438 non-null  float64\n",
      " 81  secondary_cleaner.state.floatbank5_a_air            19438 non-null  float64\n",
      " 82  secondary_cleaner.state.floatbank5_a_level          19438 non-null  float64\n",
      " 83  secondary_cleaner.state.floatbank5_b_air            19438 non-null  float64\n",
      " 84  secondary_cleaner.state.floatbank5_b_level          19438 non-null  float64\n",
      " 85  secondary_cleaner.state.floatbank6_a_air            19437 non-null  float64\n",
      " 86  secondary_cleaner.state.floatbank6_a_level          19438 non-null  float64\n",
      "dtypes: float64(86), object(1)\n",
      "memory usage: 12.9+ MB\n"
     ]
    }
   ],
   "source": [
    "df_full.info()"
   ]
  },
  {
   "cell_type": "markdown",
   "metadata": {},
   "source": [
    "Информация о полном датасете."
   ]
  },
  {
   "cell_type": "code",
   "execution_count": 4,
   "metadata": {
    "scrolled": true
   },
   "outputs": [
    {
     "data": {
      "text/plain": [
       "date                                                     0\n",
       "final.output.concentrate_ag                              1\n",
       "final.output.concentrate_pb                              1\n",
       "final.output.concentrate_sol                           211\n",
       "final.output.concentrate_au                              0\n",
       "final.output.recovery                                    0\n",
       "final.output.tail_ag                                     1\n",
       "final.output.tail_pb                                   101\n",
       "final.output.tail_sol                                    6\n",
       "final.output.tail_au                                     0\n",
       "primary_cleaner.input.sulfate                           24\n",
       "primary_cleaner.input.depressant                        37\n",
       "primary_cleaner.input.feed_size                          0\n",
       "primary_cleaner.input.xanthate                         104\n",
       "primary_cleaner.output.concentrate_ag                    0\n",
       "primary_cleaner.output.concentrate_pb                  116\n",
       "primary_cleaner.output.concentrate_sol                 370\n",
       "primary_cleaner.output.concentrate_au                    0\n",
       "primary_cleaner.output.tail_ag                           4\n",
       "primary_cleaner.output.tail_pb                          21\n",
       "primary_cleaner.output.tail_sol                         62\n",
       "primary_cleaner.output.tail_au                           0\n",
       "primary_cleaner.state.floatbank8_a_air                   4\n",
       "primary_cleaner.state.floatbank8_a_level                 1\n",
       "primary_cleaner.state.floatbank8_b_air                   4\n",
       "primary_cleaner.state.floatbank8_b_level                 1\n",
       "primary_cleaner.state.floatbank8_c_air                   2\n",
       "primary_cleaner.state.floatbank8_c_level                 1\n",
       "primary_cleaner.state.floatbank8_d_air                   3\n",
       "primary_cleaner.state.floatbank8_d_level                 1\n",
       "rougher.calculation.sulfate_to_au_concentrate            2\n",
       "rougher.calculation.floatbank10_sulfate_to_au_feed       2\n",
       "rougher.calculation.floatbank11_sulfate_to_au_feed       2\n",
       "rougher.calculation.au_pb_ratio                          0\n",
       "rougher.input.feed_ag                                    0\n",
       "rougher.input.feed_pb                                  100\n",
       "rougher.input.feed_rate                                 11\n",
       "rougher.input.feed_size                                145\n",
       "rougher.input.feed_sol                                  99\n",
       "rougher.input.feed_au                                    0\n",
       "rougher.input.floatbank10_sulfate                       34\n",
       "rougher.input.floatbank10_xanthate                       8\n",
       "rougher.input.floatbank11_sulfate                       44\n",
       "rougher.input.floatbank11_xanthate                     453\n",
       "rougher.output.concentrate_ag                            0\n",
       "rougher.output.concentrate_pb                            0\n",
       "rougher.output.concentrate_sol                          23\n",
       "rougher.output.concentrate_au                            0\n",
       "rougher.output.recovery                                  0\n",
       "rougher.output.tail_ag                                   1\n",
       "rougher.output.tail_pb                                   0\n",
       "rougher.output.tail_sol                                  0\n",
       "rougher.output.tail_au                                   0\n",
       "rougher.state.floatbank10_a_air                          1\n",
       "rougher.state.floatbank10_a_level                        1\n",
       "rougher.state.floatbank10_b_air                          1\n",
       "rougher.state.floatbank10_b_level                        1\n",
       "rougher.state.floatbank10_c_air                          1\n",
       "rougher.state.floatbank10_c_level                        1\n",
       "rougher.state.floatbank10_d_air                          0\n",
       "rougher.state.floatbank10_d_level                        0\n",
       "rougher.state.floatbank10_e_air                        436\n",
       "rougher.state.floatbank10_e_level                        0\n",
       "rougher.state.floatbank10_f_air                          0\n",
       "rougher.state.floatbank10_f_level                        0\n",
       "secondary_cleaner.output.tail_ag                         2\n",
       "secondary_cleaner.output.tail_pb                        12\n",
       "secondary_cleaner.output.tail_sol                     1748\n",
       "secondary_cleaner.output.tail_au                         0\n",
       "secondary_cleaner.state.floatbank2_a_air               220\n",
       "secondary_cleaner.state.floatbank2_a_level               1\n",
       "secondary_cleaner.state.floatbank2_b_air                23\n",
       "secondary_cleaner.state.floatbank2_b_level               1\n",
       "secondary_cleaner.state.floatbank3_a_air                13\n",
       "secondary_cleaner.state.floatbank3_a_level               1\n",
       "secondary_cleaner.state.floatbank3_b_air                 1\n",
       "secondary_cleaner.state.floatbank3_b_level               1\n",
       "secondary_cleaner.state.floatbank4_a_air                 6\n",
       "secondary_cleaner.state.floatbank4_a_level               1\n",
       "secondary_cleaner.state.floatbank4_b_air                 1\n",
       "secondary_cleaner.state.floatbank4_b_level               1\n",
       "secondary_cleaner.state.floatbank5_a_air                 1\n",
       "secondary_cleaner.state.floatbank5_a_level               1\n",
       "secondary_cleaner.state.floatbank5_b_air                 1\n",
       "secondary_cleaner.state.floatbank5_b_level               1\n",
       "secondary_cleaner.state.floatbank6_a_air                 2\n",
       "secondary_cleaner.state.floatbank6_a_level               1\n",
       "dtype: int64"
      ]
     },
     "execution_count": 4,
     "metadata": {},
     "output_type": "execute_result"
    }
   ],
   "source": [
    "df_full.isna().sum()"
   ]
  },
  {
   "cell_type": "markdown",
   "metadata": {},
   "source": [
    "Количество пропусков в полном датасете."
   ]
  },
  {
   "cell_type": "code",
   "execution_count": 5,
   "metadata": {},
   "outputs": [],
   "source": [
    "df_full = df_full.interpolate()\n",
    "df_train = df_train.interpolate()\n",
    "df_test = df_test.interpolate()"
   ]
  },
  {
   "cell_type": "markdown",
   "metadata": {},
   "source": [
    "Заполнение пропусков во всех датасетах интерполяцией и удаление столбца *date*. **Метод интерполяции хорошо подходит для заполнения пропусков в упорядоченных данных.**"
   ]
  },
  {
   "cell_type": "code",
   "execution_count": 6,
   "metadata": {},
   "outputs": [
    {
     "data": {
      "text/plain": [
       "9.73512347450521e-15"
      ]
     },
     "execution_count": 6,
     "metadata": {},
     "output_type": "execute_result"
    }
   ],
   "source": [
    "C = df_train['rougher.output.concentrate_au']\n",
    "F = df_train['rougher.input.feed_au']\n",
    "T = df_train['rougher.output.tail_au']\n",
    "\n",
    "df_train['recovery'] = ((C * (F - T)) / (F * (C - T))) * 100\n",
    "mean_absolute_error(df_train['rougher.output.recovery'], df_train['recovery'])"
   ]
  },
  {
   "cell_type": "markdown",
   "metadata": {},
   "source": [
    "Эффективность обогащения расчитана правильно."
   ]
  },
  {
   "cell_type": "code",
   "execution_count": 7,
   "metadata": {},
   "outputs": [],
   "source": [
    "df_train = df_train.drop('recovery', axis=1);"
   ]
  },
  {
   "cell_type": "code",
   "execution_count": 8,
   "metadata": {
    "scrolled": true
   },
   "outputs": [
    {
     "data": {
      "text/plain": [
       "Index(['final.output.concentrate_ag', 'final.output.concentrate_au',\n",
       "       'final.output.concentrate_pb', 'final.output.concentrate_sol',\n",
       "       'final.output.recovery', 'final.output.tail_ag', 'final.output.tail_au',\n",
       "       'final.output.tail_pb', 'final.output.tail_sol',\n",
       "       'primary_cleaner.output.concentrate_ag',\n",
       "       'primary_cleaner.output.concentrate_au',\n",
       "       'primary_cleaner.output.concentrate_pb',\n",
       "       'primary_cleaner.output.concentrate_sol',\n",
       "       'primary_cleaner.output.tail_ag', 'primary_cleaner.output.tail_au',\n",
       "       'primary_cleaner.output.tail_pb', 'primary_cleaner.output.tail_sol',\n",
       "       'rougher.calculation.au_pb_ratio',\n",
       "       'rougher.calculation.floatbank10_sulfate_to_au_feed',\n",
       "       'rougher.calculation.floatbank11_sulfate_to_au_feed',\n",
       "       'rougher.calculation.sulfate_to_au_concentrate',\n",
       "       'rougher.output.concentrate_ag', 'rougher.output.concentrate_au',\n",
       "       'rougher.output.concentrate_pb', 'rougher.output.concentrate_sol',\n",
       "       'rougher.output.recovery', 'rougher.output.tail_ag',\n",
       "       'rougher.output.tail_au', 'rougher.output.tail_pb',\n",
       "       'rougher.output.tail_sol', 'secondary_cleaner.output.tail_ag',\n",
       "       'secondary_cleaner.output.tail_au', 'secondary_cleaner.output.tail_pb',\n",
       "       'secondary_cleaner.output.tail_sol'],\n",
       "      dtype='object')"
      ]
     },
     "execution_count": 8,
     "metadata": {},
     "output_type": "execute_result"
    }
   ],
   "source": [
    "df_train.columns.difference(df_test.columns)"
   ]
  },
  {
   "cell_type": "markdown",
   "metadata": {},
   "source": [
    "Параметры, недоступные в тестовой выборке, **ввиду того что эти параметры замеряются/рассчитываются значительно позже.**"
   ]
  },
  {
   "cell_type": "code",
   "execution_count": 9,
   "metadata": {},
   "outputs": [],
   "source": [
    "df_train = df_train.set_index('date')\n",
    "df_test = df_test.set_index('date')\n",
    "df_full = df_full.set_index('date')\n",
    "\n",
    "df_train['rougher.output.recovery'] = df_full.loc[df_train.index]['rougher.output.recovery']\n",
    "df_test['rougher.output.recovery'] = df_full.loc[df_test.index]['rougher.output.recovery']\n",
    "df_test['final.output.recovery'] = df_full.loc[df_test.index]['final.output.recovery']"
   ]
  },
  {
   "cell_type": "code",
   "execution_count": 10,
   "metadata": {},
   "outputs": [],
   "source": [
    "train_full_conc = [\n",
    "        'rougher.output.concentrate_au', \n",
    "        'rougher.input.feed_au', \n",
    "        'primary_cleaner.output.concentrate_au', \n",
    "        'final.output.concentrate_au',\n",
    "\n",
    "        'rougher.output.concentrate_ag',\n",
    "        'rougher.input.feed_ag',\n",
    "        'primary_cleaner.output.concentrate_ag',\n",
    "        'final.output.concentrate_ag',\n",
    "    \n",
    "        'rougher.output.concentrate_pb',\n",
    "        'rougher.input.feed_pb',\n",
    "        'primary_cleaner.output.concentrate_pb',\n",
    "        'final.output.concentrate_pb',\n",
    "        \n",
    "        'rougher.output.concentrate_sol',\n",
    "        'rougher.input.feed_sol',\n",
    "        'primary_cleaner.output.concentrate_sol',\n",
    "        'final.output.concentrate_sol'\n",
    "        ]\n",
    "\n",
    "test_conc = [\n",
    "        'rougher.input.feed_au', \n",
    "        'rougher.input.feed_ag',\n",
    "        'rougher.input.feed_pb',\n",
    "        'rougher.input.feed_sol',\n",
    "        ]\n",
    "\n",
    "\n",
    "\n",
    "for tfc in train_full_conc:\n",
    "    df_full = df_full.loc[df_full[tfc] > 0.01]\n",
    "    df_train = df_train.loc[df_train[tfc] > 0.01]\n",
    "    \n",
    "for tc in test_conc:\n",
    "    df_test = df_test.loc[df_test[tc] > 0.01]"
   ]
  },
  {
   "cell_type": "markdown",
   "metadata": {},
   "source": [
    "**Были импортированы необходимые библиотеки и подгружены файлы с данными, выведена информация о датасетах. Пропуски в данных были заполнены интерполяцией, была проверена формула расчета эффективности обогащения и добавленые недостающие столбцы в *df_train* и *df_test*. Аномальные значения были удалены из обучающей, тестовой и итоговой выборок.**"
   ]
  },
  {
   "cell_type": "markdown",
   "metadata": {},
   "source": [
    "## Анализ данных"
   ]
  },
  {
   "cell_type": "markdown",
   "metadata": {},
   "source": [
    "### Концентрация металлов (Au, Ag, Pb) на различных этапах очистки"
   ]
  },
  {
   "cell_type": "code",
   "execution_count": 11,
   "metadata": {},
   "outputs": [
    {
     "data": {
      "image/png": "[encoded data removed]",
      "text/plain": [
       "<Figure size 1080x576 with 1 Axes>"
      ]
     },
     "metadata": {
      "needs_background": "light"
     },
     "output_type": "display_data"
    }
   ],
   "source": [
    "plt.figure(figsize=(15, 8))\n",
    "seaborn.histplot(data=df_train[['rougher.output.concentrate_au',\n",
    "                                'rougher.input.feed_au',\n",
    "                                'primary_cleaner.output.concentrate_au',\n",
    "                                'final.output.concentrate_au']])\n",
    "plt.title('Концентрация Au на различных этапах очистки.')\n",
    "plt.xlabel('Концентрация металла.')\n",
    "plt.ylabel('Количество материала.')\n",
    "plt.legend(['Флотация (параметры продукта)', 'Флотация (параметры сырья)', 'Первичная очистка', 'Финальные характеристики'])\n",
    "plt.show()"
   ]
  },
  {
   "cell_type": "markdown",
   "metadata": {},
   "source": [
    "Концентрация **Au** на различных этапах очистки."
   ]
  },
  {
   "cell_type": "code",
   "execution_count": 12,
   "metadata": {
    "scrolled": false
   },
   "outputs": [
    {
     "data": {
      "image/png": "[encoded data removed]",
      "text/plain": [
       "<Figure size 1080x576 with 1 Axes>"
      ]
     },
     "metadata": {
      "needs_background": "light"
     },
     "output_type": "display_data"
    }
   ],
   "source": [
    "plt.figure(figsize=(15, 8))\n",
    "seaborn.histplot(data=df_train[['rougher.output.concentrate_ag',\n",
    "                                'rougher.input.feed_ag',\n",
    "                                'primary_cleaner.output.concentrate_ag',\n",
    "                                'final.output.concentrate_ag']])\n",
    "plt.title('Концентрация Ag на различных этапах очистки.')\n",
    "plt.xlabel('Концентрация металла.')\n",
    "plt.ylabel('Количество материала.')\n",
    "plt.legend(['Флотация (параметры продукта)', 'Флотация (параметры сырья)', 'Первичная очистка', 'Финальные характеристики'])\n",
    "plt.show()"
   ]
  },
  {
   "cell_type": "markdown",
   "metadata": {},
   "source": [
    "Концентрация **Ag** на различных этапах очистки."
   ]
  },
  {
   "cell_type": "code",
   "execution_count": 13,
   "metadata": {
    "scrolled": false
   },
   "outputs": [
    {
     "data": {
      "image/png": "[encoded data removed]",
      "text/plain": [
       "<Figure size 1080x576 with 1 Axes>"
      ]
     },
     "metadata": {
      "needs_background": "light"
     },
     "output_type": "display_data"
    }
   ],
   "source": [
    "plt.figure(figsize=(15, 8))\n",
    "seaborn.histplot(data=df_train[['rougher.output.concentrate_pb',\n",
    "                                'rougher.input.feed_pb',\n",
    "                                'primary_cleaner.output.concentrate_pb',\n",
    "                                'final.output.concentrate_pb']])\n",
    "plt.title('Концентрация Pb на различных этапах очистки.')\n",
    "plt.xlabel('Концентрация металла.')\n",
    "plt.ylabel('Количество материала.')\n",
    "plt.legend(['Флотация (параметры продукта)', 'Флотация (параметры сырья)', 'Первичная очистка', 'Финальные характеристики'])\n",
    "plt.show()"
   ]
  },
  {
   "cell_type": "markdown",
   "metadata": {},
   "source": [
    "Концентрация **Pb** на различных этапах очистки."
   ]
  },
  {
   "cell_type": "markdown",
   "metadata": {},
   "source": [
    "### Распределения размеров гранул сырья на обучающей и тестовой выборках"
   ]
  },
  {
   "cell_type": "code",
   "execution_count": 14,
   "metadata": {},
   "outputs": [
    {
     "data": {
      "image/png": "[encoded data removed]",
      "text/plain": [
       "<Figure size 1080x576 with 1 Axes>"
      ]
     },
     "metadata": {
      "needs_background": "light"
     },
     "output_type": "display_data"
    }
   ],
   "source": [
    "plt.figure(figsize=(15, 8))\n",
    "seaborn.kdeplot(data=df_train['primary_cleaner.input.feed_size'])\n",
    "seaborn.kdeplot(data=df_test['primary_cleaner.input.feed_size'])\n",
    "plt.title('Распределения размеров гранул сырья на обучающей и тестовой выборках (первичная очистка)')\n",
    "plt.xlabel('Количество гранул сырья.')\n",
    "plt.ylabel('Плотность распределения.')\n",
    "plt.legend(['Обучающая выборка', 'Тестовая выборка'])\n",
    "plt.show()"
   ]
  },
  {
   "cell_type": "code",
   "execution_count": 15,
   "metadata": {},
   "outputs": [
    {
     "data": {
      "image/png": "[encoded data removed]",
      "text/plain": [
       "<Figure size 1080x576 with 1 Axes>"
      ]
     },
     "metadata": {
      "needs_background": "light"
     },
     "output_type": "display_data"
    }
   ],
   "source": [
    "plt.figure(figsize=(15, 8))\n",
    "seaborn.kdeplot(data=df_train['rougher.input.feed_size'])\n",
    "seaborn.kdeplot(data=df_test['rougher.input.feed_size'])\n",
    "plt.title('Распределения размеров гранул сырья на обучающей и тестовой выборках (флотация)')\n",
    "plt.xlabel('Количество гранул сырья.')\n",
    "plt.ylabel('Плотность распределения.')\n",
    "plt.legend(['Обучающая выборка', 'Тестовая выборка'])\n",
    "plt.show()"
   ]
  },
  {
   "cell_type": "markdown",
   "metadata": {},
   "source": [
    "**Визуализировали один признак на двух выборках на одном графике. Особых различий в распределении размеров гранул сырья на обучающей и тестовой выборках не наблюдается.**"
   ]
  },
  {
   "cell_type": "markdown",
   "metadata": {},
   "source": [
    "### Суммарная концентрация всех веществ (Au, Ag, Pb, Sol) на разных стадиях: в сырье, в черновом и финальном концентратах. "
   ]
  },
  {
   "cell_type": "code",
   "execution_count": 16,
   "metadata": {},
   "outputs": [
    {
     "data": {
      "image/png": "[encoded data removed]",
      "text/plain": [
       "<Figure size 1080x576 with 1 Axes>"
      ]
     },
     "metadata": {
      "needs_background": "light"
     },
     "output_type": "display_data"
    }
   ],
   "source": [
    "concentrate = pd.DataFrame({\n",
    "    'rougher': df_full[['rougher.output.concentrate_ag', \n",
    "                        'rougher.output.concentrate_pb',\n",
    "                        'rougher.output.concentrate_sol',\n",
    "                        'rougher.output.concentrate_au']].sum(axis=1),\n",
    "    \n",
    "    'primary_cleaner': df_full[['primary_cleaner.output.concentrate_ag',\n",
    "                                'primary_cleaner.output.concentrate_pb', \n",
    "                                'primary_cleaner.output.concentrate_sol',\n",
    "                                'primary_cleaner.output.concentrate_au']].sum(axis=1),\n",
    "    \n",
    "    'final': df_full[['final.output.concentrate_ag',\n",
    "                      'final.output.concentrate_pb',\n",
    "                      'final.output.concentrate_sol',\n",
    "                      'final.output.concentrate_au']].sum(axis=1)\n",
    "}) \n",
    "\n",
    "plt.figure(figsize=(15, 8))\n",
    "seaborn.histplot(data=concentrate);\n",
    "plt.title('Суммарная концентрация всех веществ на разных стадиях: в сырье, в черновом и финальном концентратах.')\n",
    "plt.xlabel('Количество материала.')\n",
    "plt.ylabel('Суммарная концентрация всех веществ.')\n",
    "plt.legend(['Сырье', 'Черновой концентрат', 'Финальный концентрат'])\n",
    "plt.show()"
   ]
  },
  {
   "cell_type": "markdown",
   "metadata": {},
   "source": [
    "График суммарной концентрации всех веществ на трех стадиях: в сырье, в черновом и финальном концентратах. **Суммарная концентрация больше всего на этапе сырья.**"
   ]
  },
  {
   "cell_type": "markdown",
   "metadata": {},
   "source": [
    "**Исследована концентрация металлов на разных стадиях обработки, проанализирована динамика концентрации в зависимости от этапа техпроцесса. Построены графики. Исследована *суммарная* концентрация всех металлов на разных стадиях техпроцесса. Исследованы распределения размеров гранул сырья на обучающей и тестовой выборках - особых различий не наблюдается.**"
   ]
  },
  {
   "cell_type": "markdown",
   "metadata": {},
   "source": [
    "## Модель"
   ]
  },
  {
   "cell_type": "markdown",
   "metadata": {},
   "source": [
    "### Функция для вычисления итогового sMAPE."
   ]
  },
  {
   "cell_type": "code",
   "execution_count": 17,
   "metadata": {},
   "outputs": [],
   "source": [
    "def sMape(a, f):\n",
    "    return 1 / len(a) * np.sum(2 * np.abs(f - a) / (np.abs(a) + np.abs(f)) * 100)\n",
    "\n",
    "def final_sMape(r, f):\n",
    "    return 0.25 * r + 0.75 * f"
   ]
  },
  {
   "cell_type": "markdown",
   "metadata": {},
   "source": [
    "### Обучено и проверено несколько моделей."
   ]
  },
  {
   "cell_type": "code",
   "execution_count": 18,
   "metadata": {},
   "outputs": [],
   "source": [
    "params = list(df_train.columns.difference(df_test.columns))\n",
    "\n",
    "for param in params:\n",
    "    df_train = df_train.drop([param], axis=1)"
   ]
  },
  {
   "cell_type": "code",
   "execution_count": 19,
   "metadata": {},
   "outputs": [],
   "source": [
    "features_train = df_train.drop(['rougher.output.recovery', 'final.output.recovery'], axis=1)\n",
    "target_train_r = df_train['rougher.output.recovery']\n",
    "target_train_f = df_train['final.output.recovery']\n",
    "\n",
    "features_test = df_test.drop(['rougher.output.recovery', 'final.output.recovery'], axis=1)\n",
    "target_test_r = df_test['rougher.output.recovery']\n",
    "target_test_f = df_test['final.output.recovery']"
   ]
  },
  {
   "cell_type": "code",
   "execution_count": 20,
   "metadata": {},
   "outputs": [],
   "source": [
    "sMape_scoring = make_scorer(sMape, greater_is_better=False)"
   ]
  },
  {
   "cell_type": "markdown",
   "metadata": {},
   "source": [
    "**DecisionTreeRegressor.**"
   ]
  },
  {
   "cell_type": "code",
   "execution_count": 21,
   "metadata": {},
   "outputs": [
    {
     "name": "stdout",
     "output_type": "stream",
     "text": [
      "Лучшие параметры для флотации: {'splitter': 'best', 'min_weight_fraction_leaf': 0.5, 'min_samples_leaf': 6, 'max_leaf_nodes': 20, 'max_features': 'sqrt', 'max_depth': 12}\n",
      "Лучшие параметры для финальной характеристики: {'splitter': 'best', 'min_weight_fraction_leaf': 0.1, 'min_samples_leaf': 2, 'max_leaf_nodes': 10, 'max_features': 'auto', 'max_depth': 1}\n",
      "sMape флотации: 8.606214918148732\n",
      "sMape финальной характеристики: 10.152169715294233\n",
      "Общий sMape: 9.765681016007857\n"
     ]
    }
   ],
   "source": [
    "dtr_params = {\n",
    "    \"splitter\": [\"best\",\"random\"],\n",
    "    \"max_depth\": [1, 3, 5, 7, 9, 11, 12],\n",
    "    \"min_samples_leaf\": [1, 2, 3, 4, 5, 6, 7, 8, 9, 10],\n",
    "    \"min_weight_fraction_leaf\": [0.1, 0.2, 0.3, 0.4, 0.5],\n",
    "    \"max_features\": [\"auto\", \"log2\", \"sqrt\", None],\n",
    "    \"max_leaf_nodes\": [None, 10, 20, 30, 40, 50, 60, 70, 80, 90]}\n",
    "\n",
    "dtr = DecisionTreeRegressor(random_state=12345)\n",
    "\n",
    "dtr_search_r = RandomizedSearchCV(dtr, n_jobs=-1, cv=3, scoring=sMape_scoring, param_distributions = dtr_params)\n",
    "dtr_search_f = RandomizedSearchCV(dtr, n_jobs=-1, cv=3, scoring=sMape_scoring, param_distributions = dtr_params)\n",
    "\n",
    "dtr_search_r.fit(features_train, target_train_r)\n",
    "dtr_search_f.fit(features_train, target_train_f)\n",
    "\n",
    "print(f'Лучшие параметры для флотации: {dtr_search_r.best_params_}')\n",
    "print(f'Лучшие параметры для финальной характеристики: {dtr_search_f.best_params_}')\n",
    "\n",
    "dtr_sMape_r = -dtr_search_r.best_score_\n",
    "dtr_sMape_f = -dtr_search_f.best_score_\n",
    "print(f'sMape флотации: {dtr_sMape_r}')\n",
    "print(f'sMape финальной характеристики: {dtr_sMape_f}')\n",
    "print(f'Общий sMape: {final_sMape(dtr_sMape_r, dtr_sMape_f)}')"
   ]
  },
  {
   "cell_type": "markdown",
   "metadata": {},
   "source": [
    "**RandomForestRegressor.**"
   ]
  },
  {
   "cell_type": "code",
   "execution_count": 22,
   "metadata": {},
   "outputs": [
    {
     "name": "stdout",
     "output_type": "stream",
     "text": [
      "Лучшие параметры для флотации: {'n_estimators': 200, 'max_depth': 4}\n",
      "Лучшие параметры для финальной характеристики: {'n_estimators': 300, 'max_depth': 1}\n",
      "sMape флотации: 8.092159169858787\n",
      "sMape финальной характеристики: 9.898411770330185\n",
      "Общий sMape: 9.446848620212336\n"
     ]
    }
   ],
   "source": [
    "rfr_params = {\n",
    "    'n_estimators': [100, 200, 300], \n",
    "    'max_depth': [1, 2, 3, 4]}\n",
    "\n",
    "rfr = RandomForestRegressor(random_state=12345)\n",
    "\n",
    "rfr_search_r = RandomizedSearchCV(rfr, n_jobs=-1, scoring=sMape_scoring, cv=3, param_distributions = rfr_params)\n",
    "rfr_search_f = RandomizedSearchCV(rfr, n_jobs=-1, scoring=sMape_scoring, cv=3, param_distributions = rfr_params)\n",
    "\n",
    "rfr_search_r.fit(features_train, target_train_r)\n",
    "rfr_search_f.fit(features_train, target_train_f)\n",
    "\n",
    "print(f'Лучшие параметры для флотации: {rfr_search_r.best_params_}')\n",
    "print(f'Лучшие параметры для финальной характеристики: {rfr_search_f.best_params_}')\n",
    "rfr_sMape_r = -rfr_search_r.best_score_\n",
    "rfr_sMape_f = -rfr_search_f.best_score_\n",
    "print(f'sMape флотации: {rfr_sMape_r}')\n",
    "print(f'sMape финальной характеристики: {rfr_sMape_f}')\n",
    "print(f'Общий sMape: {final_sMape(rfr_sMape_r, rfr_sMape_f)}')"
   ]
  },
  {
   "cell_type": "markdown",
   "metadata": {},
   "source": [
    "**Lasso.**"
   ]
  },
  {
   "cell_type": "code",
   "execution_count": 23,
   "metadata": {
    "scrolled": false
   },
   "outputs": [
    {
     "name": "stderr",
     "output_type": "stream",
     "text": [
      "/opt/conda/lib/python3.9/site-packages/sklearn/model_selection/_validation.py:593: UserWarning: With alpha=0, this algorithm does not converge well. You are advised to use the LinearRegression estimator\n",
      "  estimator.fit(X_train, y_train, **fit_params)\n",
      "/opt/conda/lib/python3.9/site-packages/sklearn/linear_model/_coordinate_descent.py:530: UserWarning: Coordinate descent with no regularization may lead to unexpected results and is discouraged.\n",
      "  model = cd_fast.enet_coordinate_descent(\n",
      "/opt/conda/lib/python3.9/site-packages/sklearn/linear_model/_coordinate_descent.py:530: ConvergenceWarning: Objective did not converge. You might want to increase the number of iterations. Duality gap: 84468.41947804835, tolerance: 34.839193704802646\n",
      "  model = cd_fast.enet_coordinate_descent(\n",
      "/opt/conda/lib/python3.9/site-packages/sklearn/model_selection/_validation.py:593: UserWarning: With alpha=0, this algorithm does not converge well. You are advised to use the LinearRegression estimator\n",
      "  estimator.fit(X_train, y_train, **fit_params)\n",
      "/opt/conda/lib/python3.9/site-packages/sklearn/linear_model/_coordinate_descent.py:530: UserWarning: Coordinate descent with no regularization may lead to unexpected results and is discouraged.\n",
      "  model = cd_fast.enet_coordinate_descent(\n",
      "/opt/conda/lib/python3.9/site-packages/sklearn/linear_model/_coordinate_descent.py:530: ConvergenceWarning: Objective did not converge. You might want to increase the number of iterations. Duality gap: 139163.52001598253, tolerance: 69.99541174716737\n",
      "  model = cd_fast.enet_coordinate_descent(\n",
      "/opt/conda/lib/python3.9/site-packages/sklearn/model_selection/_validation.py:593: UserWarning: With alpha=0, this algorithm does not converge well. You are advised to use the LinearRegression estimator\n",
      "  estimator.fit(X_train, y_train, **fit_params)\n",
      "/opt/conda/lib/python3.9/site-packages/sklearn/linear_model/_coordinate_descent.py:530: UserWarning: Coordinate descent with no regularization may lead to unexpected results and is discouraged.\n",
      "  model = cd_fast.enet_coordinate_descent(\n",
      "/opt/conda/lib/python3.9/site-packages/sklearn/linear_model/_coordinate_descent.py:530: ConvergenceWarning: Objective did not converge. You might want to increase the number of iterations. Duality gap: 115328.47642432322, tolerance: 52.90073779895375\n",
      "  model = cd_fast.enet_coordinate_descent(\n"
     ]
    },
    {
     "name": "stdout",
     "output_type": "stream",
     "text": [
      "Лучшие параметры для флотации: {'alpha': 0.24}\n",
      "Лучшие параметры для финальной характеристики: {'alpha': 0.39}\n",
      "sMape флотации: 9.140523678637603\n",
      "sMape финальной характеристики: 11.65243096935309\n",
      "Общий sMape: 11.024454146674216\n"
     ]
    }
   ],
   "source": [
    "l_params = {\n",
    "    'alpha': np.arange(0.00, 1.0, 0.01)\n",
    "}\n",
    "\n",
    "l = Lasso(random_state=12345)\n",
    "\n",
    "l_search_r = RandomizedSearchCV(l, n_jobs=-1, scoring=sMape_scoring, cv=3, param_distributions=l_params)\n",
    "l_search_f = RandomizedSearchCV(l, n_jobs=-1, scoring=sMape_scoring, cv=3, param_distributions=l_params)\n",
    "\n",
    "l_search_r.fit(features_train, target_train_r)\n",
    "l_search_f.fit(features_train, target_train_f)\n",
    "\n",
    "print(f'Лучшие параметры для флотации: {l_search_r.best_params_}')\n",
    "print(f'Лучшие параметры для финальной характеристики: {l_search_f.best_params_}')\n",
    "l_sMape_r = -l_search_r.best_score_\n",
    "l_sMape_f = -l_search_f.best_score_\n",
    "print(f'sMape флотации: {l_sMape_r}')\n",
    "print(f'sMape финальной характеристики: {l_sMape_f}')\n",
    "print(f'Общий sMape: {final_sMape(l_sMape_r, l_sMape_f)}')"
   ]
  },
  {
   "cell_type": "markdown",
   "metadata": {},
   "source": [
    "В качестве лучшей модели выберем *RandomForestRegressor*. Модель показала наилучшие результаты на обучающей выборке."
   ]
  },
  {
   "cell_type": "markdown",
   "metadata": {},
   "source": [
    "### Проверка на тестовой выборке."
   ]
  },
  {
   "cell_type": "code",
   "execution_count": 25,
   "metadata": {},
   "outputs": [
    {
     "name": "stdout",
     "output_type": "stream",
     "text": [
      "sMape флотации (RandomForestRegressor): 8.075644514537174\n",
      "sMape финальной характеристики (RandomForestRegressor): 9.556098219345394\n",
      "Общий sMape (RandomForestRegressor): 9.185984793143339\n",
      "sMape флотации (dummy): 9.059768306886676\n",
      "sMape финальной характеристики (dummy): 10.089114610133995\n",
      "Общий sMape (dummy): 9.831778034322165\n"
     ]
    }
   ],
   "source": [
    "rfr_r = RandomForestRegressor(n_estimators=200, max_depth=4)\n",
    "rfr_f = RandomForestRegressor(n_estimators=300, max_depth=1)\n",
    "\n",
    "d_r = DummyRegressor()\n",
    "d_f = DummyRegressor()\n",
    "\n",
    "rfr_r.fit(features_train, target_train_r)\n",
    "rfr_f.fit(features_train, target_train_f)\n",
    "\n",
    "d_r.fit(features_train, target_train_r)\n",
    "d_f.fit(features_train, target_train_f)\n",
    "\n",
    "rfr_r_predict = rfr_r.predict(features_test)\n",
    "rfr_f_predict = rfr_f.predict(features_test)\n",
    "\n",
    "d_r_predict = d_r.predict(features_test)\n",
    "d_f_predict = d_f.predict(features_test)\n",
    "\n",
    "best_sMape_rfr_r = sMape(target_test_r, rfr_r_predict)\n",
    "best_sMape_rfr_f = sMape(target_test_f, rfr_f_predict)\n",
    "\n",
    "sMape_d_r = sMape(target_test_r, d_r_predict)\n",
    "sMape_d_f = sMape(target_test_f, d_f_predict)\n",
    "\n",
    "print(f'sMape флотации (RandomForestRegressor): {best_sMape_rfr_r}')\n",
    "print(f'sMape финальной характеристики (RandomForestRegressor): {best_sMape_rfr_f}')\n",
    "print(f'Общий sMape (RandomForestRegressor): {final_sMape(best_sMape_rfr_r, best_sMape_rfr_f)}')\n",
    "\n",
    "print(f'sMape флотации (dummy): {sMape_d_r}')\n",
    "print(f'sMape финальной характеристики (dummy): {sMape_d_f}')\n",
    "print(f'Общий sMape (dummy): {final_sMape(sMape_d_r, sMape_d_f)}')"
   ]
  },
  {
   "cell_type": "markdown",
   "metadata": {},
   "source": [
    "Обученная нами модель выдает результаты лучше, чем DummyRegressor."
   ]
  },
  {
   "cell_type": "markdown",
   "metadata": {},
   "source": [
    "## Вывод."
   ]
  },
  {
   "cell_type": "markdown",
   "metadata": {},
   "source": [
    "В ходе работы были изучены и обработаны предоставленные данные: были заполнены пропуски, удалены аномалии. Была изучена концентрация металлов на различных этапах очистки, а также их суммарная концентрация на разных стадиях. Была написана функция для вычисления итогового *sMape*. Были обучены три модели - *lasso*, *RandomForestRegressor* и *DecisionTreeRegressor*. В качестве лучшей из этих трех была выбрана модель *RandomForestRegressor* с *sMape* равным **9.44** на обучающей выборке. Затем данная модель была протестирована и показала отличный результат - *sMape*: **9.2**. Лучше, чем *DummyRegressor* - *sMape*: **9.8**."
   ]
  }
 ],
 "metadata": {
  "ExecuteTimeLog": [
   {
    "duration": 421,
    "start_time": "2023-04-17T16:11:33.348Z"
   },
   {
    "duration": 2212,
    "start_time": "2023-04-17T16:11:34.182Z"
   },
   {
    "duration": 18,
    "start_time": "2023-04-17T16:30:00.719Z"
   },
   {
    "duration": 17,
    "start_time": "2023-04-17T16:30:40.071Z"
   },
   {
    "duration": 105,
    "start_time": "2023-04-17T17:21:04.048Z"
   },
   {
    "duration": 6,
    "start_time": "2023-04-17T17:21:07.528Z"
   },
   {
    "duration": 7,
    "start_time": "2023-04-17T17:27:43.286Z"
   },
   {
    "duration": 18,
    "start_time": "2023-04-17T17:28:40.950Z"
   },
   {
    "duration": 1140,
    "start_time": "2023-04-17T17:28:46.339Z"
   },
   {
    "duration": 2049,
    "start_time": "2023-04-17T17:28:47.482Z"
   },
   {
    "duration": 14,
    "start_time": "2023-04-17T17:28:49.533Z"
   },
   {
    "duration": 10,
    "start_time": "2023-04-17T17:31:58.734Z"
   },
   {
    "duration": 14,
    "start_time": "2023-04-17T17:32:02.074Z"
   },
   {
    "duration": 12,
    "start_time": "2023-04-17T17:32:05.535Z"
   },
   {
    "duration": 9,
    "start_time": "2023-04-17T17:32:12.011Z"
   },
   {
    "duration": 10,
    "start_time": "2023-04-17T17:33:39.709Z"
   },
   {
    "duration": 8,
    "start_time": "2023-04-17T17:33:45.010Z"
   },
   {
    "duration": 8,
    "start_time": "2023-04-17T17:51:21.896Z"
   },
   {
    "duration": 87,
    "start_time": "2023-04-17T21:30:24.998Z"
   },
   {
    "duration": 1357,
    "start_time": "2023-04-17T21:30:30.712Z"
   },
   {
    "duration": 5238,
    "start_time": "2023-04-17T21:30:32.077Z"
   },
   {
    "duration": 16,
    "start_time": "2023-04-17T21:30:37.318Z"
   },
   {
    "duration": 26,
    "start_time": "2023-04-17T21:30:37.338Z"
   },
   {
    "duration": 141,
    "start_time": "2023-04-17T21:46:59.269Z"
   },
   {
    "duration": 2252,
    "start_time": "2023-04-17T21:47:04.964Z"
   },
   {
    "duration": 947,
    "start_time": "2023-04-17T21:47:07.225Z"
   },
   {
    "duration": 19,
    "start_time": "2023-04-17T21:47:08.174Z"
   },
   {
    "duration": 10,
    "start_time": "2023-04-17T21:47:08.195Z"
   },
   {
    "duration": 173,
    "start_time": "2023-04-17T21:47:08.207Z"
   },
   {
    "duration": 878,
    "start_time": "2023-04-17T21:47:23.414Z"
   },
   {
    "duration": 2037,
    "start_time": "2023-04-17T21:48:38.770Z"
   },
   {
    "duration": 1017,
    "start_time": "2023-04-17T21:49:00.790Z"
   },
   {
    "duration": 668,
    "start_time": "2023-04-17T21:49:27.337Z"
   },
   {
    "duration": 1014,
    "start_time": "2023-04-17T21:49:30.764Z"
   },
   {
    "duration": 1332,
    "start_time": "2023-04-17T21:49:53.205Z"
   },
   {
    "duration": 95,
    "start_time": "2023-04-17T21:59:06.715Z"
   },
   {
    "duration": 6,
    "start_time": "2023-04-17T21:59:54.572Z"
   },
   {
    "duration": 21,
    "start_time": "2023-04-17T22:14:38.077Z"
   },
   {
    "duration": 645,
    "start_time": "2023-04-17T22:17:41.067Z"
   },
   {
    "duration": 100,
    "start_time": "2023-04-17T22:18:09.692Z"
   },
   {
    "duration": 551,
    "start_time": "2023-04-17T22:18:20.922Z"
   },
   {
    "duration": 1025,
    "start_time": "2023-04-17T22:18:44.093Z"
   },
   {
    "duration": 460,
    "start_time": "2023-04-17T22:19:15.997Z"
   },
   {
    "duration": 23,
    "start_time": "2023-04-17T22:35:22.098Z"
   },
   {
    "duration": 27,
    "start_time": "2023-04-17T22:36:16.564Z"
   },
   {
    "duration": 38,
    "start_time": "2023-04-17T22:37:33.772Z"
   },
   {
    "duration": 1719,
    "start_time": "2023-04-17T22:51:19.993Z"
   },
   {
    "duration": 760,
    "start_time": "2023-04-17T22:52:43.505Z"
   },
   {
    "duration": 746,
    "start_time": "2023-04-17T22:52:47.873Z"
   },
   {
    "duration": 1606,
    "start_time": "2023-04-17T22:52:54.207Z"
   },
   {
    "duration": 12,
    "start_time": "2023-04-17T22:56:05.079Z"
   },
   {
    "duration": 11,
    "start_time": "2023-04-17T22:57:40.101Z"
   },
   {
    "duration": 14,
    "start_time": "2023-04-17T22:58:25.825Z"
   },
   {
    "duration": 20,
    "start_time": "2023-04-17T22:59:09.068Z"
   },
   {
    "duration": 1630,
    "start_time": "2023-04-17T22:59:40.461Z"
   },
   {
    "duration": 844,
    "start_time": "2023-04-17T22:59:42.093Z"
   },
   {
    "duration": 29,
    "start_time": "2023-04-17T22:59:42.941Z"
   },
   {
    "duration": 16,
    "start_time": "2023-04-17T22:59:42.975Z"
   },
   {
    "duration": 10,
    "start_time": "2023-04-17T22:59:42.994Z"
   },
   {
    "duration": 5,
    "start_time": "2023-04-17T22:59:43.006Z"
   },
   {
    "duration": 571,
    "start_time": "2023-04-17T22:59:43.049Z"
   },
   {
    "duration": 758,
    "start_time": "2023-04-17T22:59:43.623Z"
   },
   {
    "duration": 1026,
    "start_time": "2023-04-17T22:59:44.383Z"
   },
   {
    "duration": 719,
    "start_time": "2023-04-17T22:59:45.411Z"
   },
   {
    "duration": 618,
    "start_time": "2023-04-17T22:59:46.132Z"
   },
   {
    "duration": 1469,
    "start_time": "2023-04-17T22:59:46.753Z"
   },
   {
    "duration": 4,
    "start_time": "2023-04-17T22:59:48.224Z"
   },
   {
    "duration": 169,
    "start_time": "2023-04-17T23:01:51.133Z"
   },
   {
    "duration": 110,
    "start_time": "2023-04-17T23:02:04.293Z"
   },
   {
    "duration": 13,
    "start_time": "2023-04-17T23:02:25.568Z"
   },
   {
    "duration": 120,
    "start_time": "2023-04-17T23:02:49.706Z"
   },
   {
    "duration": 23,
    "start_time": "2023-04-17T23:02:50.729Z"
   },
   {
    "duration": 55,
    "start_time": "2023-04-18T10:56:15.410Z"
   },
   {
    "duration": 1773,
    "start_time": "2023-04-18T10:56:20.414Z"
   },
   {
    "duration": 3045,
    "start_time": "2023-04-18T10:56:22.189Z"
   },
   {
    "duration": 21,
    "start_time": "2023-04-18T10:56:25.236Z"
   },
   {
    "duration": 12,
    "start_time": "2023-04-18T10:56:25.259Z"
   },
   {
    "duration": 107,
    "start_time": "2023-04-18T10:56:25.273Z"
   },
   {
    "duration": 10,
    "start_time": "2023-04-18T10:56:25.387Z"
   },
   {
    "duration": 6,
    "start_time": "2023-04-18T10:56:25.398Z"
   },
   {
    "duration": 492,
    "start_time": "2023-04-18T10:56:25.406Z"
   },
   {
    "duration": 741,
    "start_time": "2023-04-18T10:56:25.900Z"
   },
   {
    "duration": 800,
    "start_time": "2023-04-18T10:56:26.643Z"
   },
   {
    "duration": 613,
    "start_time": "2023-04-18T10:56:27.445Z"
   },
   {
    "duration": 537,
    "start_time": "2023-04-18T10:56:28.060Z"
   },
   {
    "duration": 1441,
    "start_time": "2023-04-18T10:56:28.599Z"
   },
   {
    "duration": 4,
    "start_time": "2023-04-18T10:56:30.043Z"
   },
   {
    "duration": 155,
    "start_time": "2023-04-18T10:56:30.049Z"
   },
   {
    "duration": 0,
    "start_time": "2023-04-18T10:56:30.207Z"
   },
   {
    "duration": 23,
    "start_time": "2023-04-18T10:58:06.112Z"
   },
   {
    "duration": 15,
    "start_time": "2023-04-18T10:59:26.955Z"
   },
   {
    "duration": 15,
    "start_time": "2023-04-18T11:00:31.444Z"
   },
   {
    "duration": 14,
    "start_time": "2023-04-18T11:00:55.053Z"
   },
   {
    "duration": 16,
    "start_time": "2023-04-18T11:02:12.109Z"
   },
   {
    "duration": 20,
    "start_time": "2023-04-18T11:02:21.975Z"
   },
   {
    "duration": 18,
    "start_time": "2023-04-18T11:03:59.805Z"
   },
   {
    "duration": 18,
    "start_time": "2023-04-18T11:04:16.644Z"
   },
   {
    "duration": 18,
    "start_time": "2023-04-18T11:04:59.260Z"
   },
   {
    "duration": 13,
    "start_time": "2023-04-18T11:05:19.313Z"
   },
   {
    "duration": 13,
    "start_time": "2023-04-18T11:05:49.253Z"
   },
   {
    "duration": 12,
    "start_time": "2023-04-18T11:05:53.609Z"
   },
   {
    "duration": 1490,
    "start_time": "2023-04-18T11:07:03.467Z"
   },
   {
    "duration": 752,
    "start_time": "2023-04-18T11:07:04.959Z"
   },
   {
    "duration": 22,
    "start_time": "2023-04-18T11:07:05.713Z"
   },
   {
    "duration": 12,
    "start_time": "2023-04-18T11:07:05.737Z"
   },
   {
    "duration": 205,
    "start_time": "2023-04-18T11:07:05.751Z"
   },
   {
    "duration": 0,
    "start_time": "2023-04-18T11:07:05.958Z"
   },
   {
    "duration": 0,
    "start_time": "2023-04-18T11:07:05.959Z"
   },
   {
    "duration": 0,
    "start_time": "2023-04-18T11:07:05.961Z"
   },
   {
    "duration": 0,
    "start_time": "2023-04-18T11:07:05.962Z"
   },
   {
    "duration": 0,
    "start_time": "2023-04-18T11:07:05.963Z"
   },
   {
    "duration": 0,
    "start_time": "2023-04-18T11:07:05.964Z"
   },
   {
    "duration": 0,
    "start_time": "2023-04-18T11:07:05.965Z"
   },
   {
    "duration": 0,
    "start_time": "2023-04-18T11:07:05.967Z"
   },
   {
    "duration": 0,
    "start_time": "2023-04-18T11:07:05.968Z"
   },
   {
    "duration": 0,
    "start_time": "2023-04-18T11:07:05.970Z"
   },
   {
    "duration": 0,
    "start_time": "2023-04-18T11:07:05.987Z"
   },
   {
    "duration": 0,
    "start_time": "2023-04-18T11:07:05.988Z"
   },
   {
    "duration": 105,
    "start_time": "2023-04-18T11:07:41.827Z"
   },
   {
    "duration": 11,
    "start_time": "2023-04-18T11:07:43.105Z"
   },
   {
    "duration": 5,
    "start_time": "2023-04-18T11:07:43.740Z"
   },
   {
    "duration": 1542,
    "start_time": "2023-04-18T11:07:48.717Z"
   },
   {
    "duration": 821,
    "start_time": "2023-04-18T11:07:50.262Z"
   },
   {
    "duration": 24,
    "start_time": "2023-04-18T11:07:51.084Z"
   },
   {
    "duration": 20,
    "start_time": "2023-04-18T11:07:51.110Z"
   },
   {
    "duration": 137,
    "start_time": "2023-04-18T11:07:51.133Z"
   },
   {
    "duration": 19,
    "start_time": "2023-04-18T11:07:51.272Z"
   },
   {
    "duration": 20,
    "start_time": "2023-04-18T11:07:51.293Z"
   },
   {
    "duration": 494,
    "start_time": "2023-04-18T11:07:51.315Z"
   },
   {
    "duration": 748,
    "start_time": "2023-04-18T11:07:51.811Z"
   },
   {
    "duration": 818,
    "start_time": "2023-04-18T11:07:52.561Z"
   },
   {
    "duration": 595,
    "start_time": "2023-04-18T11:07:53.381Z"
   },
   {
    "duration": 529,
    "start_time": "2023-04-18T11:07:53.978Z"
   },
   {
    "duration": 1413,
    "start_time": "2023-04-18T11:07:54.509Z"
   },
   {
    "duration": 3,
    "start_time": "2023-04-18T11:07:55.925Z"
   },
   {
    "duration": 18,
    "start_time": "2023-04-18T11:07:55.930Z"
   },
   {
    "duration": 15,
    "start_time": "2023-04-18T11:07:55.950Z"
   },
   {
    "duration": 0,
    "start_time": "2023-04-18T11:12:25.933Z"
   },
   {
    "duration": 12,
    "start_time": "2023-04-18T11:14:51.219Z"
   },
   {
    "duration": 1564,
    "start_time": "2023-04-18T11:14:56.275Z"
   },
   {
    "duration": 735,
    "start_time": "2023-04-18T11:14:57.842Z"
   },
   {
    "duration": 22,
    "start_time": "2023-04-18T11:14:58.579Z"
   },
   {
    "duration": 17,
    "start_time": "2023-04-18T11:14:58.603Z"
   },
   {
    "duration": 136,
    "start_time": "2023-04-18T11:14:58.622Z"
   },
   {
    "duration": 12,
    "start_time": "2023-04-18T11:14:58.760Z"
   },
   {
    "duration": 22,
    "start_time": "2023-04-18T11:14:58.774Z"
   },
   {
    "duration": 506,
    "start_time": "2023-04-18T11:14:58.798Z"
   },
   {
    "duration": 739,
    "start_time": "2023-04-18T11:14:59.307Z"
   },
   {
    "duration": 923,
    "start_time": "2023-04-18T11:15:00.049Z"
   },
   {
    "duration": 606,
    "start_time": "2023-04-18T11:15:00.974Z"
   },
   {
    "duration": 539,
    "start_time": "2023-04-18T11:15:01.581Z"
   },
   {
    "duration": 1376,
    "start_time": "2023-04-18T11:15:02.122Z"
   },
   {
    "duration": 4,
    "start_time": "2023-04-18T11:15:03.500Z"
   },
   {
    "duration": 53,
    "start_time": "2023-04-18T11:15:03.506Z"
   },
   {
    "duration": 22,
    "start_time": "2023-04-18T11:15:03.561Z"
   },
   {
    "duration": 5586,
    "start_time": "2023-04-18T11:15:03.585Z"
   },
   {
    "duration": 2355,
    "start_time": "2023-04-18T11:16:28.712Z"
   },
   {
    "duration": 9525,
    "start_time": "2023-04-18T11:19:24.825Z"
   },
   {
    "duration": 128,
    "start_time": "2023-04-18T11:27:44.906Z"
   },
   {
    "duration": 12,
    "start_time": "2023-04-18T11:28:07.169Z"
   },
   {
    "duration": 371,
    "start_time": "2023-04-18T11:28:14.321Z"
   },
   {
    "duration": 12,
    "start_time": "2023-04-18T11:30:21.275Z"
   },
   {
    "duration": 1602,
    "start_time": "2023-04-18T11:30:26.344Z"
   },
   {
    "duration": 780,
    "start_time": "2023-04-18T11:30:27.949Z"
   },
   {
    "duration": 23,
    "start_time": "2023-04-18T11:30:28.734Z"
   },
   {
    "duration": 32,
    "start_time": "2023-04-18T11:30:28.759Z"
   },
   {
    "duration": 161,
    "start_time": "2023-04-18T11:30:28.793Z"
   },
   {
    "duration": 11,
    "start_time": "2023-04-18T11:30:28.956Z"
   },
   {
    "duration": 19,
    "start_time": "2023-04-18T11:30:28.969Z"
   },
   {
    "duration": 500,
    "start_time": "2023-04-18T11:30:28.990Z"
   },
   {
    "duration": 749,
    "start_time": "2023-04-18T11:30:29.493Z"
   },
   {
    "duration": 1067,
    "start_time": "2023-04-18T11:30:30.244Z"
   },
   {
    "duration": 624,
    "start_time": "2023-04-18T11:30:31.313Z"
   },
   {
    "duration": 575,
    "start_time": "2023-04-18T11:30:31.940Z"
   },
   {
    "duration": 1459,
    "start_time": "2023-04-18T11:30:32.517Z"
   },
   {
    "duration": 9,
    "start_time": "2023-04-18T11:30:33.978Z"
   },
   {
    "duration": 45,
    "start_time": "2023-04-18T11:30:33.990Z"
   },
   {
    "duration": 9439,
    "start_time": "2023-04-18T11:30:34.037Z"
   },
   {
    "duration": 133,
    "start_time": "2023-04-18T11:30:43.478Z"
   },
   {
    "duration": 5,
    "start_time": "2023-04-18T11:30:52.335Z"
   },
   {
    "duration": 29,
    "start_time": "2023-04-18T11:32:16.127Z"
   },
   {
    "duration": 485,
    "start_time": "2023-04-18T11:32:40.727Z"
   },
   {
    "duration": 39,
    "start_time": "2023-04-18T11:34:25.426Z"
   },
   {
    "duration": 1563,
    "start_time": "2023-04-18T11:34:58.241Z"
   },
   {
    "duration": 790,
    "start_time": "2023-04-18T11:34:59.806Z"
   },
   {
    "duration": 24,
    "start_time": "2023-04-18T11:35:00.598Z"
   },
   {
    "duration": 12,
    "start_time": "2023-04-18T11:35:00.625Z"
   },
   {
    "duration": 149,
    "start_time": "2023-04-18T11:35:00.640Z"
   },
   {
    "duration": 19,
    "start_time": "2023-04-18T11:35:00.791Z"
   },
   {
    "duration": 83,
    "start_time": "2023-04-18T11:35:00.812Z"
   },
   {
    "duration": 739,
    "start_time": "2023-04-18T11:35:00.898Z"
   },
   {
    "duration": 774,
    "start_time": "2023-04-18T11:35:01.638Z"
   },
   {
    "duration": 820,
    "start_time": "2023-04-18T11:35:02.415Z"
   },
   {
    "duration": 617,
    "start_time": "2023-04-18T11:35:03.237Z"
   },
   {
    "duration": 547,
    "start_time": "2023-04-18T11:35:03.856Z"
   },
   {
    "duration": 1428,
    "start_time": "2023-04-18T11:35:04.405Z"
   },
   {
    "duration": 4,
    "start_time": "2023-04-18T11:35:05.836Z"
   },
   {
    "duration": 27,
    "start_time": "2023-04-18T11:35:05.843Z"
   },
   {
    "duration": 8548,
    "start_time": "2023-04-18T11:35:05.872Z"
   },
   {
    "duration": 134,
    "start_time": "2023-04-18T11:35:14.422Z"
   },
   {
    "duration": 0,
    "start_time": "2023-04-18T11:43:32.914Z"
   },
   {
    "duration": 1522,
    "start_time": "2023-04-18T11:46:54.656Z"
   },
   {
    "duration": 930,
    "start_time": "2023-04-18T11:46:56.180Z"
   },
   {
    "duration": 77,
    "start_time": "2023-04-18T11:46:57.112Z"
   },
   {
    "duration": 14,
    "start_time": "2023-04-18T11:46:57.191Z"
   },
   {
    "duration": 309,
    "start_time": "2023-04-18T11:46:57.209Z"
   },
   {
    "duration": 13,
    "start_time": "2023-04-18T11:46:57.520Z"
   },
   {
    "duration": 6,
    "start_time": "2023-04-18T11:46:57.588Z"
   },
   {
    "duration": 1125,
    "start_time": "2023-04-18T11:46:57.596Z"
   },
   {
    "duration": 949,
    "start_time": "2023-04-18T11:46:58.723Z"
   },
   {
    "duration": 817,
    "start_time": "2023-04-18T11:46:59.674Z"
   },
   {
    "duration": 751,
    "start_time": "2023-04-18T11:47:00.492Z"
   },
   {
    "duration": 580,
    "start_time": "2023-04-18T11:47:01.246Z"
   },
   {
    "duration": 1489,
    "start_time": "2023-04-18T11:47:01.829Z"
   },
   {
    "duration": 5,
    "start_time": "2023-04-18T11:47:03.321Z"
   },
   {
    "duration": 28,
    "start_time": "2023-04-18T11:47:03.328Z"
   },
   {
    "duration": 9863,
    "start_time": "2023-04-18T11:47:03.358Z"
   },
   {
    "duration": 1626,
    "start_time": "2023-04-18T11:52:33.765Z"
   },
   {
    "duration": 776,
    "start_time": "2023-04-18T11:52:35.394Z"
   },
   {
    "duration": 33,
    "start_time": "2023-04-18T11:52:36.172Z"
   },
   {
    "duration": 13,
    "start_time": "2023-04-18T11:52:36.207Z"
   },
   {
    "duration": 142,
    "start_time": "2023-04-18T11:52:36.222Z"
   },
   {
    "duration": 9,
    "start_time": "2023-04-18T11:52:36.366Z"
   },
   {
    "duration": 19,
    "start_time": "2023-04-18T11:52:36.377Z"
   },
   {
    "duration": 45,
    "start_time": "2023-04-18T11:52:36.398Z"
   },
   {
    "duration": 0,
    "start_time": "2023-04-18T11:52:36.445Z"
   },
   {
    "duration": 0,
    "start_time": "2023-04-18T11:52:36.447Z"
   },
   {
    "duration": 0,
    "start_time": "2023-04-18T11:52:36.449Z"
   },
   {
    "duration": 0,
    "start_time": "2023-04-18T11:52:36.450Z"
   },
   {
    "duration": 0,
    "start_time": "2023-04-18T11:52:36.452Z"
   },
   {
    "duration": 0,
    "start_time": "2023-04-18T11:52:36.454Z"
   },
   {
    "duration": 0,
    "start_time": "2023-04-18T11:52:36.455Z"
   },
   {
    "duration": 0,
    "start_time": "2023-04-18T11:52:36.456Z"
   },
   {
    "duration": 0,
    "start_time": "2023-04-18T11:52:36.457Z"
   },
   {
    "duration": 0,
    "start_time": "2023-04-18T11:52:36.459Z"
   },
   {
    "duration": 117,
    "start_time": "2023-04-18T11:52:55.150Z"
   },
   {
    "duration": 135,
    "start_time": "2023-04-18T11:53:09.664Z"
   },
   {
    "duration": 495,
    "start_time": "2023-04-18T11:53:33.625Z"
   },
   {
    "duration": 763,
    "start_time": "2023-04-18T11:55:04.035Z"
   },
   {
    "duration": 907,
    "start_time": "2023-04-18T11:55:21.968Z"
   },
   {
    "duration": 618,
    "start_time": "2023-04-18T11:55:46.020Z"
   },
   {
    "duration": 524,
    "start_time": "2023-04-18T11:55:47.250Z"
   },
   {
    "duration": 361,
    "start_time": "2023-04-18T11:59:17.125Z"
   },
   {
    "duration": 98,
    "start_time": "2023-04-18T11:59:39.838Z"
   },
   {
    "duration": 9,
    "start_time": "2023-04-18T11:59:45.110Z"
   },
   {
    "duration": 1401,
    "start_time": "2023-04-18T12:01:08.822Z"
   },
   {
    "duration": 3,
    "start_time": "2023-04-18T12:02:26.216Z"
   },
   {
    "duration": 1564,
    "start_time": "2023-04-18T12:02:34.902Z"
   },
   {
    "duration": 807,
    "start_time": "2023-04-18T12:02:36.470Z"
   },
   {
    "duration": 29,
    "start_time": "2023-04-18T12:02:37.279Z"
   },
   {
    "duration": 14,
    "start_time": "2023-04-18T12:02:37.309Z"
   },
   {
    "duration": 137,
    "start_time": "2023-04-18T12:02:37.325Z"
   },
   {
    "duration": 10,
    "start_time": "2023-04-18T12:02:37.464Z"
   },
   {
    "duration": 30,
    "start_time": "2023-04-18T12:02:37.476Z"
   },
   {
    "duration": 512,
    "start_time": "2023-04-18T12:02:37.508Z"
   },
   {
    "duration": 780,
    "start_time": "2023-04-18T12:02:38.022Z"
   },
   {
    "duration": 797,
    "start_time": "2023-04-18T12:02:38.804Z"
   },
   {
    "duration": 591,
    "start_time": "2023-04-18T12:02:39.603Z"
   },
   {
    "duration": 631,
    "start_time": "2023-04-18T12:02:40.196Z"
   },
   {
    "duration": 1394,
    "start_time": "2023-04-18T12:02:40.829Z"
   },
   {
    "duration": 4,
    "start_time": "2023-04-18T12:02:42.226Z"
   },
   {
    "duration": 29,
    "start_time": "2023-04-18T12:02:42.232Z"
   },
   {
    "duration": 7856,
    "start_time": "2023-04-18T12:02:42.262Z"
   },
   {
    "duration": 13,
    "start_time": "2023-04-19T06:47:11.803Z"
   },
   {
    "duration": 257,
    "start_time": "2023-04-19T06:47:24.234Z"
   },
   {
    "duration": 2265,
    "start_time": "2023-04-19T06:48:28.450Z"
   },
   {
    "duration": 3154,
    "start_time": "2023-04-19T06:48:30.717Z"
   },
   {
    "duration": 21,
    "start_time": "2023-04-19T06:48:33.873Z"
   },
   {
    "duration": 11,
    "start_time": "2023-04-19T06:48:33.896Z"
   },
   {
    "duration": 105,
    "start_time": "2023-04-19T06:48:33.908Z"
   },
   {
    "duration": 10,
    "start_time": "2023-04-19T06:48:34.015Z"
   },
   {
    "duration": 37,
    "start_time": "2023-04-19T06:48:34.026Z"
   },
   {
    "duration": 450,
    "start_time": "2023-04-19T06:48:34.065Z"
   },
   {
    "duration": 739,
    "start_time": "2023-04-19T06:48:34.518Z"
   },
   {
    "duration": 736,
    "start_time": "2023-04-19T06:48:35.260Z"
   },
   {
    "duration": 526,
    "start_time": "2023-04-19T06:48:35.998Z"
   },
   {
    "duration": 504,
    "start_time": "2023-04-19T06:48:36.526Z"
   },
   {
    "duration": 1274,
    "start_time": "2023-04-19T06:48:37.032Z"
   },
   {
    "duration": 3,
    "start_time": "2023-04-19T06:48:38.308Z"
   },
   {
    "duration": 27,
    "start_time": "2023-04-19T06:48:38.314Z"
   },
   {
    "duration": 4,
    "start_time": "2023-04-19T06:48:50.170Z"
   },
   {
    "duration": 9,
    "start_time": "2023-04-19T06:48:50.266Z"
   },
   {
    "duration": 76,
    "start_time": "2023-04-19T10:07:46.939Z"
   },
   {
    "duration": 1781,
    "start_time": "2023-04-19T10:07:56.817Z"
   },
   {
    "duration": 2085,
    "start_time": "2023-04-19T10:07:58.600Z"
   },
   {
    "duration": 36,
    "start_time": "2023-04-19T10:08:00.687Z"
   },
   {
    "duration": 23,
    "start_time": "2023-04-19T10:08:00.726Z"
   },
   {
    "duration": 151,
    "start_time": "2023-04-19T10:08:00.753Z"
   },
   {
    "duration": 14,
    "start_time": "2023-04-19T10:08:00.907Z"
   },
   {
    "duration": 21,
    "start_time": "2023-04-19T10:08:00.924Z"
   },
   {
    "duration": 578,
    "start_time": "2023-04-19T10:08:00.947Z"
   },
   {
    "duration": 813,
    "start_time": "2023-04-19T10:08:01.527Z"
   },
   {
    "duration": 775,
    "start_time": "2023-04-19T10:08:02.342Z"
   },
   {
    "duration": 626,
    "start_time": "2023-04-19T10:08:03.120Z"
   },
   {
    "duration": 575,
    "start_time": "2023-04-19T10:08:03.748Z"
   },
   {
    "duration": 1455,
    "start_time": "2023-04-19T10:08:04.325Z"
   },
   {
    "duration": 9,
    "start_time": "2023-04-19T10:08:05.789Z"
   },
   {
    "duration": 16,
    "start_time": "2023-04-19T10:08:05.804Z"
   },
   {
    "duration": 4692,
    "start_time": "2023-04-19T10:08:05.822Z"
   },
   {
    "duration": 1658,
    "start_time": "2023-04-19T10:18:14.540Z"
   },
   {
    "duration": 794,
    "start_time": "2023-04-19T10:18:16.203Z"
   },
   {
    "duration": 31,
    "start_time": "2023-04-19T10:18:16.999Z"
   },
   {
    "duration": 13,
    "start_time": "2023-04-19T10:18:17.032Z"
   },
   {
    "duration": 134,
    "start_time": "2023-04-19T10:18:17.048Z"
   },
   {
    "duration": 29,
    "start_time": "2023-04-19T10:18:17.184Z"
   },
   {
    "duration": 7,
    "start_time": "2023-04-19T10:18:17.218Z"
   },
   {
    "duration": 604,
    "start_time": "2023-04-19T10:18:17.227Z"
   },
   {
    "duration": 1275,
    "start_time": "2023-04-19T10:18:17.832Z"
   },
   {
    "duration": 902,
    "start_time": "2023-04-19T10:18:19.110Z"
   },
   {
    "duration": 899,
    "start_time": "2023-04-19T10:18:20.014Z"
   },
   {
    "duration": 461,
    "start_time": "2023-04-19T10:18:20.922Z"
   },
   {
    "duration": 1665,
    "start_time": "2023-04-19T10:18:21.401Z"
   },
   {
    "duration": 4,
    "start_time": "2023-04-19T10:18:23.069Z"
   },
   {
    "duration": 34,
    "start_time": "2023-04-19T10:18:23.075Z"
   },
   {
    "duration": 9898,
    "start_time": "2023-04-19T10:18:23.112Z"
   },
   {
    "duration": 5,
    "start_time": "2023-04-19T10:18:33.012Z"
   },
   {
    "duration": 4,
    "start_time": "2023-04-19T10:18:33.018Z"
   },
   {
    "duration": 50,
    "start_time": "2023-04-19T18:24:39.873Z"
   },
   {
    "duration": 2029,
    "start_time": "2023-04-19T18:25:02.500Z"
   },
   {
    "duration": 3467,
    "start_time": "2023-04-19T18:25:04.531Z"
   },
   {
    "duration": 23,
    "start_time": "2023-04-19T18:25:07.999Z"
   },
   {
    "duration": 26,
    "start_time": "2023-04-19T18:25:08.025Z"
   },
   {
    "duration": 157,
    "start_time": "2023-04-19T18:25:08.053Z"
   },
   {
    "duration": 11,
    "start_time": "2023-04-19T18:25:08.211Z"
   },
   {
    "duration": 7,
    "start_time": "2023-04-19T18:25:08.224Z"
   },
   {
    "duration": 152,
    "start_time": "2023-04-19T18:25:08.234Z"
   },
   {
    "duration": 0,
    "start_time": "2023-04-19T18:25:08.388Z"
   },
   {
    "duration": 0,
    "start_time": "2023-04-19T18:25:08.389Z"
   },
   {
    "duration": 0,
    "start_time": "2023-04-19T18:25:08.391Z"
   },
   {
    "duration": 0,
    "start_time": "2023-04-19T18:25:08.393Z"
   },
   {
    "duration": 0,
    "start_time": "2023-04-19T18:25:08.395Z"
   },
   {
    "duration": 0,
    "start_time": "2023-04-19T18:25:08.396Z"
   },
   {
    "duration": 0,
    "start_time": "2023-04-19T18:25:08.398Z"
   },
   {
    "duration": 0,
    "start_time": "2023-04-19T18:25:08.400Z"
   },
   {
    "duration": 0,
    "start_time": "2023-04-19T18:25:08.402Z"
   },
   {
    "duration": 0,
    "start_time": "2023-04-19T18:25:08.403Z"
   },
   {
    "duration": 12,
    "start_time": "2023-04-19T18:25:42.160Z"
   },
   {
    "duration": 13,
    "start_time": "2023-04-19T18:26:00.869Z"
   },
   {
    "duration": 4,
    "start_time": "2023-04-19T18:27:27.135Z"
   },
   {
    "duration": 609,
    "start_time": "2023-04-19T18:27:31.995Z"
   },
   {
    "duration": 243,
    "start_time": "2023-04-19T18:28:02.547Z"
   },
   {
    "duration": 18,
    "start_time": "2023-04-19T18:28:09.336Z"
   },
   {
    "duration": 650,
    "start_time": "2023-04-19T18:28:59.849Z"
   },
   {
    "duration": 566,
    "start_time": "2023-04-19T18:29:17.536Z"
   },
   {
    "duration": 570,
    "start_time": "2023-04-19T18:31:38.284Z"
   },
   {
    "duration": 1152,
    "start_time": "2023-04-19T18:32:08.248Z"
   },
   {
    "duration": 719,
    "start_time": "2023-04-19T18:32:28.235Z"
   },
   {
    "duration": 695,
    "start_time": "2023-04-19T18:33:07.322Z"
   },
   {
    "duration": 699,
    "start_time": "2023-04-19T18:33:29.753Z"
   },
   {
    "duration": 512,
    "start_time": "2023-04-19T18:33:48.025Z"
   },
   {
    "duration": 913,
    "start_time": "2023-04-19T18:34:29.059Z"
   },
   {
    "duration": 14,
    "start_time": "2023-04-19T18:34:48.075Z"
   },
   {
    "duration": 623,
    "start_time": "2023-04-19T18:34:58.679Z"
   },
   {
    "duration": 256,
    "start_time": "2023-04-19T18:35:23.587Z"
   },
   {
    "duration": 1357,
    "start_time": "2023-04-19T18:35:44.352Z"
   },
   {
    "duration": 1455,
    "start_time": "2023-04-19T18:36:30.813Z"
   },
   {
    "duration": 83,
    "start_time": "2023-04-19T18:42:16.311Z"
   },
   {
    "duration": 3,
    "start_time": "2023-04-19T18:42:32.215Z"
   },
   {
    "duration": 3,
    "start_time": "2023-04-19T18:42:35.519Z"
   },
   {
    "duration": 1471,
    "start_time": "2023-04-19T18:42:40.342Z"
   },
   {
    "duration": 742,
    "start_time": "2023-04-19T18:42:41.815Z"
   },
   {
    "duration": 22,
    "start_time": "2023-04-19T18:42:42.559Z"
   },
   {
    "duration": 12,
    "start_time": "2023-04-19T18:42:42.588Z"
   },
   {
    "duration": 124,
    "start_time": "2023-04-19T18:42:42.602Z"
   },
   {
    "duration": 9,
    "start_time": "2023-04-19T18:42:42.728Z"
   },
   {
    "duration": 18,
    "start_time": "2023-04-19T18:42:42.739Z"
   },
   {
    "duration": 578,
    "start_time": "2023-04-19T18:42:42.759Z"
   },
   {
    "duration": 1062,
    "start_time": "2023-04-19T18:42:43.338Z"
   },
   {
    "duration": 755,
    "start_time": "2023-04-19T18:42:44.403Z"
   },
   {
    "duration": 657,
    "start_time": "2023-04-19T18:42:45.160Z"
   },
   {
    "duration": 268,
    "start_time": "2023-04-19T18:42:45.819Z"
   },
   {
    "duration": 128,
    "start_time": "2023-04-19T18:42:46.089Z"
   },
   {
    "duration": 1442,
    "start_time": "2023-04-19T18:42:46.220Z"
   },
   {
    "duration": 4,
    "start_time": "2023-04-19T18:42:47.664Z"
   },
   {
    "duration": 146,
    "start_time": "2023-04-19T18:42:47.670Z"
   },
   {
    "duration": 0,
    "start_time": "2023-04-19T18:42:47.817Z"
   },
   {
    "duration": 0,
    "start_time": "2023-04-19T18:42:47.818Z"
   },
   {
    "duration": 0,
    "start_time": "2023-04-19T18:42:47.819Z"
   },
   {
    "duration": 46,
    "start_time": "2023-04-19T18:43:27.309Z"
   },
   {
    "duration": 48,
    "start_time": "2023-04-19T18:43:45.478Z"
   },
   {
    "duration": 53,
    "start_time": "2023-04-19T18:43:52.602Z"
   },
   {
    "duration": 48,
    "start_time": "2023-04-19T18:44:50.687Z"
   },
   {
    "duration": 143,
    "start_time": "2023-04-19T18:46:06.129Z"
   },
   {
    "duration": 690,
    "start_time": "2023-04-19T18:46:08.503Z"
   },
   {
    "duration": 14,
    "start_time": "2023-04-19T18:46:41.900Z"
   },
   {
    "duration": 4,
    "start_time": "2023-04-19T18:50:24.769Z"
   },
   {
    "duration": 1539,
    "start_time": "2023-04-19T18:50:29.788Z"
   },
   {
    "duration": 737,
    "start_time": "2023-04-19T18:50:31.329Z"
   },
   {
    "duration": 28,
    "start_time": "2023-04-19T18:50:32.068Z"
   },
   {
    "duration": 12,
    "start_time": "2023-04-19T18:50:32.098Z"
   },
   {
    "duration": 128,
    "start_time": "2023-04-19T18:50:32.112Z"
   },
   {
    "duration": 9,
    "start_time": "2023-04-19T18:50:32.242Z"
   },
   {
    "duration": 11,
    "start_time": "2023-04-19T18:50:32.253Z"
   },
   {
    "duration": 21,
    "start_time": "2023-04-19T18:50:32.266Z"
   },
   {
    "duration": 584,
    "start_time": "2023-04-19T18:50:32.289Z"
   },
   {
    "duration": 1106,
    "start_time": "2023-04-19T18:50:32.875Z"
   },
   {
    "duration": 727,
    "start_time": "2023-04-19T18:50:33.983Z"
   },
   {
    "duration": 703,
    "start_time": "2023-04-19T18:50:34.712Z"
   },
   {
    "duration": 259,
    "start_time": "2023-04-19T18:50:35.416Z"
   },
   {
    "duration": 138,
    "start_time": "2023-04-19T18:50:35.678Z"
   },
   {
    "duration": 652,
    "start_time": "2023-04-19T18:50:35.818Z"
   },
   {
    "duration": 4,
    "start_time": "2023-04-19T18:50:36.472Z"
   },
   {
    "duration": 142,
    "start_time": "2023-04-19T18:50:36.477Z"
   },
   {
    "duration": 0,
    "start_time": "2023-04-19T18:50:36.620Z"
   },
   {
    "duration": 0,
    "start_time": "2023-04-19T18:50:36.622Z"
   },
   {
    "duration": 0,
    "start_time": "2023-04-19T18:50:36.622Z"
   },
   {
    "duration": 5,
    "start_time": "2023-04-19T18:51:22.537Z"
   },
   {
    "duration": 1438,
    "start_time": "2023-04-19T18:51:26.337Z"
   },
   {
    "duration": 729,
    "start_time": "2023-04-19T18:51:27.777Z"
   },
   {
    "duration": 20,
    "start_time": "2023-04-19T18:51:28.508Z"
   },
   {
    "duration": 19,
    "start_time": "2023-04-19T18:51:28.530Z"
   },
   {
    "duration": 136,
    "start_time": "2023-04-19T18:51:28.552Z"
   },
   {
    "duration": 11,
    "start_time": "2023-04-19T18:51:28.689Z"
   },
   {
    "duration": 16,
    "start_time": "2023-04-19T18:51:28.702Z"
   },
   {
    "duration": 21,
    "start_time": "2023-04-19T18:51:28.720Z"
   },
   {
    "duration": 591,
    "start_time": "2023-04-19T18:51:28.743Z"
   },
   {
    "duration": 1101,
    "start_time": "2023-04-19T18:51:29.337Z"
   },
   {
    "duration": 895,
    "start_time": "2023-04-19T18:51:30.440Z"
   },
   {
    "duration": 780,
    "start_time": "2023-04-19T18:51:31.337Z"
   },
   {
    "duration": 260,
    "start_time": "2023-04-19T18:51:32.119Z"
   },
   {
    "duration": 138,
    "start_time": "2023-04-19T18:51:32.386Z"
   },
   {
    "duration": 649,
    "start_time": "2023-04-19T18:51:32.526Z"
   },
   {
    "duration": 5,
    "start_time": "2023-04-19T18:51:33.177Z"
   },
   {
    "duration": 912,
    "start_time": "2023-04-19T18:51:33.188Z"
   },
   {
    "duration": 0,
    "start_time": "2023-04-19T18:51:34.101Z"
   },
   {
    "duration": 0,
    "start_time": "2023-04-19T18:51:34.102Z"
   },
   {
    "duration": 0,
    "start_time": "2023-04-19T18:51:34.103Z"
   },
   {
    "duration": 1473,
    "start_time": "2023-04-19T18:52:13.937Z"
   },
   {
    "duration": 756,
    "start_time": "2023-04-19T18:52:15.412Z"
   },
   {
    "duration": 31,
    "start_time": "2023-04-19T18:52:16.171Z"
   },
   {
    "duration": 14,
    "start_time": "2023-04-19T18:52:16.204Z"
   },
   {
    "duration": 132,
    "start_time": "2023-04-19T18:52:16.221Z"
   },
   {
    "duration": 10,
    "start_time": "2023-04-19T18:52:16.355Z"
   },
   {
    "duration": 22,
    "start_time": "2023-04-19T18:52:16.367Z"
   },
   {
    "duration": 12,
    "start_time": "2023-04-19T18:52:16.391Z"
   },
   {
    "duration": 610,
    "start_time": "2023-04-19T18:52:16.405Z"
   },
   {
    "duration": 1103,
    "start_time": "2023-04-19T18:52:17.017Z"
   },
   {
    "duration": 756,
    "start_time": "2023-04-19T18:52:18.122Z"
   },
   {
    "duration": 635,
    "start_time": "2023-04-19T18:52:18.880Z"
   },
   {
    "duration": 270,
    "start_time": "2023-04-19T18:52:19.517Z"
   },
   {
    "duration": 138,
    "start_time": "2023-04-19T18:52:19.790Z"
   },
   {
    "duration": 696,
    "start_time": "2023-04-19T18:52:19.930Z"
   },
   {
    "duration": 5,
    "start_time": "2023-04-19T18:52:20.628Z"
   },
   {
    "duration": 33,
    "start_time": "2023-04-19T18:52:20.635Z"
   },
   {
    "duration": 138,
    "start_time": "2023-04-19T18:52:20.670Z"
   },
   {
    "duration": 0,
    "start_time": "2023-04-19T18:52:20.810Z"
   },
   {
    "duration": 0,
    "start_time": "2023-04-19T18:52:20.811Z"
   },
   {
    "duration": 17,
    "start_time": "2023-04-19T18:53:29.500Z"
   },
   {
    "duration": 9,
    "start_time": "2023-04-19T18:53:39.439Z"
   },
   {
    "duration": 9958,
    "start_time": "2023-04-19T18:53:50.959Z"
   },
   {
    "duration": 13,
    "start_time": "2023-04-19T18:59:07.698Z"
   },
   {
    "duration": 1424,
    "start_time": "2023-04-19T18:59:12.748Z"
   },
   {
    "duration": 760,
    "start_time": "2023-04-19T18:59:14.175Z"
   },
   {
    "duration": 21,
    "start_time": "2023-04-19T18:59:14.936Z"
   },
   {
    "duration": 28,
    "start_time": "2023-04-19T18:59:14.959Z"
   },
   {
    "duration": 125,
    "start_time": "2023-04-19T18:59:14.991Z"
   },
   {
    "duration": 11,
    "start_time": "2023-04-19T18:59:15.118Z"
   },
   {
    "duration": 18,
    "start_time": "2023-04-19T18:59:15.131Z"
   },
   {
    "duration": 17,
    "start_time": "2023-04-19T18:59:15.151Z"
   },
   {
    "duration": 610,
    "start_time": "2023-04-19T18:59:15.170Z"
   },
   {
    "duration": 1100,
    "start_time": "2023-04-19T18:59:15.788Z"
   },
   {
    "duration": 736,
    "start_time": "2023-04-19T18:59:16.890Z"
   },
   {
    "duration": 680,
    "start_time": "2023-04-19T18:59:17.628Z"
   },
   {
    "duration": 264,
    "start_time": "2023-04-19T18:59:18.310Z"
   },
   {
    "duration": 148,
    "start_time": "2023-04-19T18:59:18.576Z"
   },
   {
    "duration": 653,
    "start_time": "2023-04-19T18:59:18.726Z"
   },
   {
    "duration": 3,
    "start_time": "2023-04-19T18:59:19.387Z"
   },
   {
    "duration": 16,
    "start_time": "2023-04-19T18:59:19.392Z"
   },
   {
    "duration": 122,
    "start_time": "2023-04-19T18:59:19.410Z"
   },
   {
    "duration": 0,
    "start_time": "2023-04-19T18:59:19.534Z"
   },
   {
    "duration": 0,
    "start_time": "2023-04-19T18:59:19.536Z"
   },
   {
    "duration": 0,
    "start_time": "2023-04-19T18:59:19.537Z"
   },
   {
    "duration": 1576,
    "start_time": "2023-04-19T19:00:51.455Z"
   },
   {
    "duration": 854,
    "start_time": "2023-04-19T19:00:53.033Z"
   },
   {
    "duration": 23,
    "start_time": "2023-04-19T19:00:53.889Z"
   },
   {
    "duration": 13,
    "start_time": "2023-04-19T19:00:53.915Z"
   },
   {
    "duration": 158,
    "start_time": "2023-04-19T19:00:53.929Z"
   },
   {
    "duration": 10,
    "start_time": "2023-04-19T19:00:54.089Z"
   },
   {
    "duration": 7,
    "start_time": "2023-04-19T19:00:54.101Z"
   },
   {
    "duration": 11,
    "start_time": "2023-04-19T19:00:54.110Z"
   },
   {
    "duration": 667,
    "start_time": "2023-04-19T19:00:54.123Z"
   },
   {
    "duration": 1129,
    "start_time": "2023-04-19T19:00:54.794Z"
   },
   {
    "duration": 827,
    "start_time": "2023-04-19T19:00:55.925Z"
   },
   {
    "duration": 662,
    "start_time": "2023-04-19T19:00:56.755Z"
   },
   {
    "duration": 293,
    "start_time": "2023-04-19T19:00:57.420Z"
   },
   {
    "duration": 155,
    "start_time": "2023-04-19T19:00:57.714Z"
   },
   {
    "duration": 680,
    "start_time": "2023-04-19T19:00:57.871Z"
   },
   {
    "duration": 4,
    "start_time": "2023-04-19T19:00:58.553Z"
   },
   {
    "duration": 27,
    "start_time": "2023-04-19T19:00:58.559Z"
   },
   {
    "duration": 11,
    "start_time": "2023-04-19T19:00:58.588Z"
   },
   {
    "duration": 2567,
    "start_time": "2023-04-19T19:00:58.601Z"
   },
   {
    "duration": 3,
    "start_time": "2023-04-19T19:01:01.170Z"
   },
   {
    "duration": 72,
    "start_time": "2023-04-19T19:01:01.175Z"
   },
   {
    "duration": 4,
    "start_time": "2023-04-19T19:01:24.791Z"
   },
   {
    "duration": 2580,
    "start_time": "2023-04-19T19:01:25.290Z"
   },
   {
    "duration": 3,
    "start_time": "2023-04-19T19:03:56.502Z"
   },
   {
    "duration": 3570,
    "start_time": "2023-04-19T19:03:56.900Z"
   },
   {
    "duration": 135,
    "start_time": "2023-04-19T19:04:48.528Z"
   },
   {
    "duration": 4309,
    "start_time": "2023-04-19T19:05:00.128Z"
   },
   {
    "duration": 282518,
    "start_time": "2023-04-19T19:05:51.704Z"
   },
   {
    "duration": 434828,
    "start_time": "2023-04-19T19:10:50.172Z"
   },
   {
    "duration": 4272,
    "start_time": "2023-04-19T19:19:02.382Z"
   },
   {
    "duration": 4398,
    "start_time": "2023-04-19T19:19:20.426Z"
   },
   {
    "duration": 4317,
    "start_time": "2023-04-19T19:19:38.380Z"
   },
   {
    "duration": 5052,
    "start_time": "2023-04-19T19:19:55.179Z"
   },
   {
    "duration": 1803,
    "start_time": "2023-04-19T19:20:09.225Z"
   },
   {
    "duration": 3443,
    "start_time": "2023-04-19T19:20:47.003Z"
   },
   {
    "duration": 64,
    "start_time": "2023-04-19T19:23:28.519Z"
   },
   {
    "duration": 2451,
    "start_time": "2023-04-19T19:23:34.891Z"
   },
   {
    "duration": 1401,
    "start_time": "2023-04-19T19:24:38.328Z"
   },
   {
    "duration": 5024,
    "start_time": "2023-04-19T19:24:51.193Z"
   },
   {
    "duration": 4,
    "start_time": "2023-04-19T19:27:11.278Z"
   },
   {
    "duration": 3433,
    "start_time": "2023-04-19T19:27:14.806Z"
   },
   {
    "duration": 2204,
    "start_time": "2023-04-19T19:27:27.471Z"
   },
   {
    "duration": 3415,
    "start_time": "2023-04-19T19:27:37.081Z"
   },
   {
    "duration": 1577,
    "start_time": "2023-04-19T19:32:00.588Z"
   },
   {
    "duration": 760,
    "start_time": "2023-04-19T19:32:02.168Z"
   },
   {
    "duration": 21,
    "start_time": "2023-04-19T19:32:02.930Z"
   },
   {
    "duration": 12,
    "start_time": "2023-04-19T19:32:02.953Z"
   },
   {
    "duration": 136,
    "start_time": "2023-04-19T19:32:02.967Z"
   },
   {
    "duration": 10,
    "start_time": "2023-04-19T19:32:03.104Z"
   },
   {
    "duration": 19,
    "start_time": "2023-04-19T19:32:03.115Z"
   },
   {
    "duration": 12,
    "start_time": "2023-04-19T19:32:03.136Z"
   },
   {
    "duration": 577,
    "start_time": "2023-04-19T19:32:03.150Z"
   },
   {
    "duration": 1069,
    "start_time": "2023-04-19T19:32:03.729Z"
   },
   {
    "duration": 749,
    "start_time": "2023-04-19T19:32:04.800Z"
   },
   {
    "duration": 665,
    "start_time": "2023-04-19T19:32:05.551Z"
   },
   {
    "duration": 268,
    "start_time": "2023-04-19T19:32:06.218Z"
   },
   {
    "duration": 146,
    "start_time": "2023-04-19T19:32:06.489Z"
   },
   {
    "duration": 1456,
    "start_time": "2023-04-19T19:32:06.637Z"
   },
   {
    "duration": 3,
    "start_time": "2023-04-19T19:32:08.095Z"
   },
   {
    "duration": 31,
    "start_time": "2023-04-19T19:32:08.100Z"
   },
   {
    "duration": 54,
    "start_time": "2023-04-19T19:32:08.133Z"
   },
   {
    "duration": 4068,
    "start_time": "2023-04-19T19:32:08.189Z"
   },
   {
    "duration": 1782277,
    "start_time": "2023-04-19T19:32:12.259Z"
   },
   {
    "duration": 969851,
    "start_time": "2023-04-19T20:01:54.538Z"
   },
   {
    "duration": 3096,
    "start_time": "2023-04-19T20:43:39.308Z"
   },
   {
    "duration": 2476,
    "start_time": "2023-04-19T20:44:38.124Z"
   },
   {
    "duration": 3975,
    "start_time": "2023-04-19T20:44:52.821Z"
   },
   {
    "duration": 2968,
    "start_time": "2023-04-19T20:45:07.523Z"
   },
   {
    "duration": 3847,
    "start_time": "2023-04-19T20:46:33.043Z"
   },
   {
    "duration": 2969,
    "start_time": "2023-04-19T20:48:55.049Z"
   },
   {
    "duration": 1846,
    "start_time": "2023-04-19T21:03:03.342Z"
   },
   {
    "duration": 1423,
    "start_time": "2023-04-19T21:20:19.275Z"
   },
   {
    "duration": 2080,
    "start_time": "2023-04-19T21:20:39.519Z"
   },
   {
    "duration": 4,
    "start_time": "2023-04-19T21:25:12.299Z"
   },
   {
    "duration": 1498,
    "start_time": "2023-04-19T21:36:28.602Z"
   },
   {
    "duration": 1715,
    "start_time": "2023-04-19T21:36:36.874Z"
   },
   {
    "duration": 1785,
    "start_time": "2023-04-19T21:39:48.931Z"
   },
   {
    "duration": 3725,
    "start_time": "2023-04-20T18:05:05.861Z"
   },
   {
    "duration": 806,
    "start_time": "2023-04-20T18:05:09.588Z"
   },
   {
    "duration": 22,
    "start_time": "2023-04-20T18:05:10.396Z"
   },
   {
    "duration": 32,
    "start_time": "2023-04-20T18:05:10.421Z"
   },
   {
    "duration": 136,
    "start_time": "2023-04-20T18:05:10.455Z"
   },
   {
    "duration": 11,
    "start_time": "2023-04-20T18:05:10.593Z"
   },
   {
    "duration": 8,
    "start_time": "2023-04-20T18:05:10.605Z"
   },
   {
    "duration": 22,
    "start_time": "2023-04-20T18:05:10.614Z"
   },
   {
    "duration": 658,
    "start_time": "2023-04-20T18:05:10.638Z"
   },
   {
    "duration": 1187,
    "start_time": "2023-04-20T18:05:11.298Z"
   },
   {
    "duration": 785,
    "start_time": "2023-04-20T18:05:12.487Z"
   },
   {
    "duration": 784,
    "start_time": "2023-04-20T18:05:13.275Z"
   },
   {
    "duration": 288,
    "start_time": "2023-04-20T18:05:14.061Z"
   },
   {
    "duration": 137,
    "start_time": "2023-04-20T18:05:14.353Z"
   },
   {
    "duration": 701,
    "start_time": "2023-04-20T18:05:14.493Z"
   },
   {
    "duration": 3,
    "start_time": "2023-04-20T18:05:15.196Z"
   },
   {
    "duration": 15,
    "start_time": "2023-04-20T18:05:15.202Z"
   },
   {
    "duration": 31,
    "start_time": "2023-04-20T18:05:31.650Z"
   },
   {
    "duration": 83,
    "start_time": "2023-04-20T18:37:12.757Z"
   },
   {
    "duration": 42,
    "start_time": "2023-04-20T18:46:43.025Z"
   },
   {
    "duration": 1565,
    "start_time": "2023-04-20T18:47:14.881Z"
   },
   {
    "duration": 2155,
    "start_time": "2023-04-20T18:47:16.449Z"
   },
   {
    "duration": 69,
    "start_time": "2023-04-20T18:47:18.606Z"
   },
   {
    "duration": 13,
    "start_time": "2023-04-20T18:47:18.677Z"
   },
   {
    "duration": 207,
    "start_time": "2023-04-20T18:47:18.692Z"
   },
   {
    "duration": 62,
    "start_time": "2023-04-20T18:47:18.901Z"
   },
   {
    "duration": 4,
    "start_time": "2023-04-20T18:47:18.965Z"
   },
   {
    "duration": 199,
    "start_time": "2023-04-20T18:47:18.971Z"
   },
   {
    "duration": 0,
    "start_time": "2023-04-20T18:47:19.172Z"
   },
   {
    "duration": 0,
    "start_time": "2023-04-20T18:47:19.173Z"
   },
   {
    "duration": 0,
    "start_time": "2023-04-20T18:47:19.174Z"
   },
   {
    "duration": 0,
    "start_time": "2023-04-20T18:47:19.175Z"
   },
   {
    "duration": 0,
    "start_time": "2023-04-20T18:47:19.176Z"
   },
   {
    "duration": 0,
    "start_time": "2023-04-20T18:47:19.177Z"
   },
   {
    "duration": 0,
    "start_time": "2023-04-20T18:47:19.178Z"
   },
   {
    "duration": 0,
    "start_time": "2023-04-20T18:47:19.179Z"
   },
   {
    "duration": 0,
    "start_time": "2023-04-20T18:47:19.180Z"
   },
   {
    "duration": 0,
    "start_time": "2023-04-20T18:47:19.181Z"
   },
   {
    "duration": 0,
    "start_time": "2023-04-20T18:47:19.182Z"
   },
   {
    "duration": 0,
    "start_time": "2023-04-20T18:47:19.183Z"
   },
   {
    "duration": 0,
    "start_time": "2023-04-20T18:47:19.184Z"
   },
   {
    "duration": 0,
    "start_time": "2023-04-20T18:47:19.186Z"
   },
   {
    "duration": 10,
    "start_time": "2023-04-20T18:47:46.722Z"
   },
   {
    "duration": 520,
    "start_time": "2023-04-20T18:47:51.522Z"
   },
   {
    "duration": 1311,
    "start_time": "2023-04-20T18:48:06.592Z"
   },
   {
    "duration": 636,
    "start_time": "2023-04-20T18:48:07.905Z"
   },
   {
    "duration": 26,
    "start_time": "2023-04-20T18:48:08.543Z"
   },
   {
    "duration": 11,
    "start_time": "2023-04-20T18:48:08.571Z"
   },
   {
    "duration": 109,
    "start_time": "2023-04-20T18:48:08.584Z"
   },
   {
    "duration": 10,
    "start_time": "2023-04-20T18:48:08.695Z"
   },
   {
    "duration": 6,
    "start_time": "2023-04-20T18:48:08.707Z"
   },
   {
    "duration": 16,
    "start_time": "2023-04-20T18:48:08.715Z"
   },
   {
    "duration": 540,
    "start_time": "2023-04-20T18:48:08.732Z"
   },
   {
    "duration": 988,
    "start_time": "2023-04-20T18:48:09.274Z"
   },
   {
    "duration": 652,
    "start_time": "2023-04-20T18:48:10.264Z"
   },
   {
    "duration": 626,
    "start_time": "2023-04-20T18:48:10.918Z"
   },
   {
    "duration": 236,
    "start_time": "2023-04-20T18:48:11.545Z"
   },
   {
    "duration": 128,
    "start_time": "2023-04-20T18:48:11.783Z"
   },
   {
    "duration": 1076,
    "start_time": "2023-04-20T18:48:11.913Z"
   },
   {
    "duration": 3,
    "start_time": "2023-04-20T18:48:12.991Z"
   },
   {
    "duration": 60,
    "start_time": "2023-04-20T18:48:12.996Z"
   },
   {
    "duration": 3,
    "start_time": "2023-04-20T18:48:13.058Z"
   },
   {
    "duration": 3312,
    "start_time": "2023-04-20T18:48:13.062Z"
   },
   {
    "duration": 49841,
    "start_time": "2023-04-20T18:48:16.376Z"
   },
   {
    "duration": 0,
    "start_time": "2023-04-20T18:49:06.219Z"
   },
   {
    "duration": 0,
    "start_time": "2023-04-20T18:49:06.221Z"
   },
   {
    "duration": 491,
    "start_time": "2023-04-20T18:52:44.838Z"
   },
   {
    "duration": 500,
    "start_time": "2023-04-20T18:52:52.957Z"
   },
   {
    "duration": 623,
    "start_time": "2023-04-20T18:56:18.835Z"
   },
   {
    "duration": 633,
    "start_time": "2023-04-20T18:56:57.299Z"
   },
   {
    "duration": 494,
    "start_time": "2023-04-20T18:58:14.881Z"
   },
   {
    "duration": 825,
    "start_time": "2023-04-20T19:04:51.686Z"
   },
   {
    "duration": 760,
    "start_time": "2023-04-20T19:07:12.273Z"
   },
   {
    "duration": 189,
    "start_time": "2023-04-20T19:12:13.782Z"
   },
   {
    "duration": 464,
    "start_time": "2023-04-20T19:12:32.466Z"
   },
   {
    "duration": 360,
    "start_time": "2023-04-20T19:13:17.983Z"
   },
   {
    "duration": 409,
    "start_time": "2023-04-20T19:13:29.736Z"
   },
   {
    "duration": 384,
    "start_time": "2023-04-20T19:13:51.666Z"
   },
   {
    "duration": 385,
    "start_time": "2023-04-20T19:14:06.954Z"
   },
   {
    "duration": 491,
    "start_time": "2023-04-20T19:14:15.781Z"
   },
   {
    "duration": 466,
    "start_time": "2023-04-20T19:14:23.191Z"
   },
   {
    "duration": 424,
    "start_time": "2023-04-20T19:14:41.727Z"
   },
   {
    "duration": 1031,
    "start_time": "2023-04-20T19:17:37.516Z"
   },
   {
    "duration": 497,
    "start_time": "2023-04-20T19:18:55.057Z"
   },
   {
    "duration": 490,
    "start_time": "2023-04-20T19:19:36.970Z"
   },
   {
    "duration": 626,
    "start_time": "2023-04-20T19:21:28.569Z"
   },
   {
    "duration": 935,
    "start_time": "2023-04-20T19:23:16.075Z"
   },
   {
    "duration": 661,
    "start_time": "2023-04-20T19:23:39.522Z"
   },
   {
    "duration": 596,
    "start_time": "2023-04-20T19:24:26.777Z"
   },
   {
    "duration": 508,
    "start_time": "2023-04-20T19:25:08.685Z"
   },
   {
    "duration": 1442,
    "start_time": "2023-04-20T19:25:43.499Z"
   },
   {
    "duration": 694,
    "start_time": "2023-04-20T19:25:44.943Z"
   },
   {
    "duration": 22,
    "start_time": "2023-04-20T19:25:45.638Z"
   },
   {
    "duration": 13,
    "start_time": "2023-04-20T19:25:45.661Z"
   },
   {
    "duration": 112,
    "start_time": "2023-04-20T19:25:45.676Z"
   },
   {
    "duration": 9,
    "start_time": "2023-04-20T19:25:45.790Z"
   },
   {
    "duration": 6,
    "start_time": "2023-04-20T19:25:45.801Z"
   },
   {
    "duration": 11,
    "start_time": "2023-04-20T19:25:45.808Z"
   },
   {
    "duration": 511,
    "start_time": "2023-04-20T19:25:45.821Z"
   },
   {
    "duration": 1021,
    "start_time": "2023-04-20T19:25:46.333Z"
   },
   {
    "duration": 774,
    "start_time": "2023-04-20T19:25:47.356Z"
   },
   {
    "duration": 471,
    "start_time": "2023-04-20T19:25:48.132Z"
   },
   {
    "duration": 146,
    "start_time": "2023-04-20T19:25:48.605Z"
   },
   {
    "duration": 740,
    "start_time": "2023-04-20T19:25:48.756Z"
   },
   {
    "duration": 3,
    "start_time": "2023-04-20T19:25:49.498Z"
   },
   {
    "duration": 11,
    "start_time": "2023-04-20T19:25:49.502Z"
   },
   {
    "duration": 4,
    "start_time": "2023-04-20T19:25:49.515Z"
   },
   {
    "duration": 4115,
    "start_time": "2023-04-20T19:25:49.520Z"
   },
   {
    "duration": 24077,
    "start_time": "2023-04-20T19:25:53.636Z"
   },
   {
    "duration": 0,
    "start_time": "2023-04-20T19:26:17.715Z"
   },
   {
    "duration": 0,
    "start_time": "2023-04-20T19:26:17.716Z"
   },
   {
    "duration": 1375,
    "start_time": "2023-04-20T19:28:37.211Z"
   },
   {
    "duration": 676,
    "start_time": "2023-04-20T19:28:38.587Z"
   },
   {
    "duration": 22,
    "start_time": "2023-04-20T19:28:39.265Z"
   },
   {
    "duration": 12,
    "start_time": "2023-04-20T19:28:39.290Z"
   },
   {
    "duration": 137,
    "start_time": "2023-04-20T19:28:39.304Z"
   },
   {
    "duration": 24,
    "start_time": "2023-04-20T19:28:39.443Z"
   },
   {
    "duration": 5,
    "start_time": "2023-04-20T19:28:39.470Z"
   },
   {
    "duration": 12,
    "start_time": "2023-04-20T19:28:39.477Z"
   },
   {
    "duration": 576,
    "start_time": "2023-04-20T19:28:39.490Z"
   },
   {
    "duration": 1160,
    "start_time": "2023-04-20T19:28:40.068Z"
   },
   {
    "duration": 787,
    "start_time": "2023-04-20T19:28:41.231Z"
   },
   {
    "duration": 458,
    "start_time": "2023-04-20T19:28:42.020Z"
   },
   {
    "duration": 135,
    "start_time": "2023-04-20T19:28:42.480Z"
   },
   {
    "duration": 673,
    "start_time": "2023-04-20T19:28:42.617Z"
   },
   {
    "duration": 3,
    "start_time": "2023-04-20T19:28:43.292Z"
   },
   {
    "duration": 11,
    "start_time": "2023-04-20T19:28:43.297Z"
   },
   {
    "duration": 3,
    "start_time": "2023-04-20T19:28:43.310Z"
   },
   {
    "duration": 4364,
    "start_time": "2023-04-20T19:28:43.315Z"
   },
   {
    "duration": 1560205,
    "start_time": "2023-04-20T19:28:47.681Z"
   },
   {
    "duration": 452575,
    "start_time": "2023-04-20T19:54:47.888Z"
   },
   {
    "duration": 10301,
    "start_time": "2023-04-20T20:02:20.465Z"
   },
   {
    "duration": 8668,
    "start_time": "2023-04-20T20:14:03.697Z"
   },
   {
    "duration": 4,
    "start_time": "2023-04-20T20:15:09.071Z"
   },
   {
    "duration": 4,
    "start_time": "2023-04-20T20:15:20.820Z"
   },
   {
    "duration": 7,
    "start_time": "2023-04-20T20:19:47.411Z"
   },
   {
    "duration": 7,
    "start_time": "2023-04-20T20:19:56.885Z"
   },
   {
    "duration": 14,
    "start_time": "2023-04-20T20:20:46.699Z"
   },
   {
    "duration": 21,
    "start_time": "2023-04-20T20:21:10.938Z"
   },
   {
    "duration": 15,
    "start_time": "2023-04-20T20:22:15.593Z"
   },
   {
    "duration": 13,
    "start_time": "2023-04-20T20:23:45.806Z"
   },
   {
    "duration": 16,
    "start_time": "2023-04-20T20:24:02.740Z"
   },
   {
    "duration": 1675,
    "start_time": "2023-04-20T20:24:11.622Z"
   },
   {
    "duration": 1550,
    "start_time": "2023-04-20T20:24:13.299Z"
   },
   {
    "duration": 20,
    "start_time": "2023-04-20T20:24:14.851Z"
   },
   {
    "duration": 12,
    "start_time": "2023-04-20T20:24:14.874Z"
   },
   {
    "duration": 131,
    "start_time": "2023-04-20T20:24:14.888Z"
   },
   {
    "duration": 11,
    "start_time": "2023-04-20T20:24:15.020Z"
   },
   {
    "duration": 7,
    "start_time": "2023-04-20T20:24:15.032Z"
   },
   {
    "duration": 7,
    "start_time": "2023-04-20T20:24:15.056Z"
   },
   {
    "duration": 12,
    "start_time": "2023-04-20T20:24:15.065Z"
   },
   {
    "duration": 567,
    "start_time": "2023-04-20T20:24:15.079Z"
   },
   {
    "duration": 1027,
    "start_time": "2023-04-20T20:24:15.648Z"
   },
   {
    "duration": 720,
    "start_time": "2023-04-20T20:24:16.677Z"
   },
   {
    "duration": 459,
    "start_time": "2023-04-20T20:24:17.399Z"
   },
   {
    "duration": 132,
    "start_time": "2023-04-20T20:24:17.860Z"
   },
   {
    "duration": 640,
    "start_time": "2023-04-20T20:24:17.994Z"
   },
   {
    "duration": 5,
    "start_time": "2023-04-20T20:24:18.636Z"
   },
   {
    "duration": 21,
    "start_time": "2023-04-20T20:24:18.643Z"
   },
   {
    "duration": 4,
    "start_time": "2023-04-20T20:24:18.666Z"
   },
   {
    "duration": 1957,
    "start_time": "2023-04-20T20:24:18.671Z"
   },
   {
    "duration": 0,
    "start_time": "2023-04-20T20:24:20.630Z"
   },
   {
    "duration": 0,
    "start_time": "2023-04-20T20:24:20.631Z"
   },
   {
    "duration": 0,
    "start_time": "2023-04-20T20:24:20.632Z"
   },
   {
    "duration": 16,
    "start_time": "2023-04-20T20:24:37.742Z"
   },
   {
    "duration": 1567,
    "start_time": "2023-04-20T20:24:43.071Z"
   },
   {
    "duration": 715,
    "start_time": "2023-04-20T20:24:44.642Z"
   },
   {
    "duration": 23,
    "start_time": "2023-04-20T20:24:45.358Z"
   },
   {
    "duration": 12,
    "start_time": "2023-04-20T20:24:45.383Z"
   },
   {
    "duration": 154,
    "start_time": "2023-04-20T20:24:45.398Z"
   },
   {
    "duration": 9,
    "start_time": "2023-04-20T20:24:45.556Z"
   },
   {
    "duration": 18,
    "start_time": "2023-04-20T20:24:45.567Z"
   },
   {
    "duration": 129,
    "start_time": "2023-04-20T20:24:45.587Z"
   },
   {
    "duration": 0,
    "start_time": "2023-04-20T20:24:45.718Z"
   },
   {
    "duration": 0,
    "start_time": "2023-04-20T20:24:45.719Z"
   },
   {
    "duration": 0,
    "start_time": "2023-04-20T20:24:45.721Z"
   },
   {
    "duration": 0,
    "start_time": "2023-04-20T20:24:45.723Z"
   },
   {
    "duration": 0,
    "start_time": "2023-04-20T20:24:45.725Z"
   },
   {
    "duration": 0,
    "start_time": "2023-04-20T20:24:45.727Z"
   },
   {
    "duration": 0,
    "start_time": "2023-04-20T20:24:45.729Z"
   },
   {
    "duration": 0,
    "start_time": "2023-04-20T20:24:45.730Z"
   },
   {
    "duration": 0,
    "start_time": "2023-04-20T20:24:45.732Z"
   },
   {
    "duration": 0,
    "start_time": "2023-04-20T20:24:45.755Z"
   },
   {
    "duration": 0,
    "start_time": "2023-04-20T20:24:45.757Z"
   },
   {
    "duration": 0,
    "start_time": "2023-04-20T20:24:45.759Z"
   },
   {
    "duration": 0,
    "start_time": "2023-04-20T20:24:45.760Z"
   },
   {
    "duration": 0,
    "start_time": "2023-04-20T20:24:45.761Z"
   },
   {
    "duration": 1234,
    "start_time": "2023-04-20T20:25:45.591Z"
   },
   {
    "duration": 1409,
    "start_time": "2023-04-20T20:26:09.374Z"
   },
   {
    "duration": 729,
    "start_time": "2023-04-20T20:26:10.785Z"
   },
   {
    "duration": 24,
    "start_time": "2023-04-20T20:26:11.515Z"
   },
   {
    "duration": 18,
    "start_time": "2023-04-20T20:26:11.555Z"
   },
   {
    "duration": 125,
    "start_time": "2023-04-20T20:26:11.576Z"
   },
   {
    "duration": 12,
    "start_time": "2023-04-20T20:26:11.703Z"
   },
   {
    "duration": 6,
    "start_time": "2023-04-20T20:26:11.717Z"
   },
   {
    "duration": 1321,
    "start_time": "2023-04-20T20:26:11.725Z"
   },
   {
    "duration": 0,
    "start_time": "2023-04-20T20:26:13.049Z"
   },
   {
    "duration": 0,
    "start_time": "2023-04-20T20:26:13.050Z"
   },
   {
    "duration": 0,
    "start_time": "2023-04-20T20:26:13.052Z"
   },
   {
    "duration": 0,
    "start_time": "2023-04-20T20:26:13.054Z"
   },
   {
    "duration": 0,
    "start_time": "2023-04-20T20:26:13.055Z"
   },
   {
    "duration": 0,
    "start_time": "2023-04-20T20:26:13.057Z"
   },
   {
    "duration": 0,
    "start_time": "2023-04-20T20:26:13.058Z"
   },
   {
    "duration": 0,
    "start_time": "2023-04-20T20:26:13.059Z"
   },
   {
    "duration": 0,
    "start_time": "2023-04-20T20:26:13.061Z"
   },
   {
    "duration": 0,
    "start_time": "2023-04-20T20:26:13.062Z"
   },
   {
    "duration": 0,
    "start_time": "2023-04-20T20:26:13.064Z"
   },
   {
    "duration": 0,
    "start_time": "2023-04-20T20:26:13.065Z"
   },
   {
    "duration": 0,
    "start_time": "2023-04-20T20:26:13.066Z"
   },
   {
    "duration": 0,
    "start_time": "2023-04-20T20:26:13.068Z"
   },
   {
    "duration": 30,
    "start_time": "2023-04-20T20:27:43.605Z"
   },
   {
    "duration": 15,
    "start_time": "2023-04-20T20:28:04.607Z"
   },
   {
    "duration": 3,
    "start_time": "2023-04-20T20:28:10.085Z"
   },
   {
    "duration": 22,
    "start_time": "2023-04-20T20:28:11.564Z"
   },
   {
    "duration": 5109,
    "start_time": "2023-04-20T20:28:16.853Z"
   },
   {
    "duration": 17,
    "start_time": "2023-04-20T20:29:43.398Z"
   },
   {
    "duration": 34,
    "start_time": "2023-04-20T20:29:48.653Z"
   },
   {
    "duration": 6,
    "start_time": "2023-04-20T20:29:55.490Z"
   },
   {
    "duration": 5,
    "start_time": "2023-04-20T20:29:56.217Z"
   },
   {
    "duration": 7,
    "start_time": "2023-04-20T20:30:12.057Z"
   },
   {
    "duration": 5,
    "start_time": "2023-04-20T20:30:12.549Z"
   },
   {
    "duration": 1355,
    "start_time": "2023-04-20T20:30:17.354Z"
   },
   {
    "duration": 691,
    "start_time": "2023-04-20T20:30:18.711Z"
   },
   {
    "duration": 20,
    "start_time": "2023-04-20T20:30:19.404Z"
   },
   {
    "duration": 11,
    "start_time": "2023-04-20T20:30:19.426Z"
   },
   {
    "duration": 135,
    "start_time": "2023-04-20T20:30:19.439Z"
   },
   {
    "duration": 9,
    "start_time": "2023-04-20T20:30:19.576Z"
   },
   {
    "duration": 16,
    "start_time": "2023-04-20T20:30:19.587Z"
   },
   {
    "duration": 6,
    "start_time": "2023-04-20T20:30:19.605Z"
   },
   {
    "duration": 216,
    "start_time": "2023-04-20T20:30:19.657Z"
   },
   {
    "duration": 0,
    "start_time": "2023-04-20T20:30:19.875Z"
   },
   {
    "duration": 0,
    "start_time": "2023-04-20T20:30:19.876Z"
   },
   {
    "duration": 0,
    "start_time": "2023-04-20T20:30:19.878Z"
   },
   {
    "duration": 0,
    "start_time": "2023-04-20T20:30:19.879Z"
   },
   {
    "duration": 0,
    "start_time": "2023-04-20T20:30:19.880Z"
   },
   {
    "duration": 0,
    "start_time": "2023-04-20T20:30:19.881Z"
   },
   {
    "duration": 0,
    "start_time": "2023-04-20T20:30:19.882Z"
   },
   {
    "duration": 0,
    "start_time": "2023-04-20T20:30:19.883Z"
   },
   {
    "duration": 0,
    "start_time": "2023-04-20T20:30:19.884Z"
   },
   {
    "duration": 0,
    "start_time": "2023-04-20T20:30:19.885Z"
   },
   {
    "duration": 0,
    "start_time": "2023-04-20T20:30:19.886Z"
   },
   {
    "duration": 0,
    "start_time": "2023-04-20T20:30:19.887Z"
   },
   {
    "duration": 0,
    "start_time": "2023-04-20T20:30:19.889Z"
   },
   {
    "duration": 0,
    "start_time": "2023-04-20T20:30:19.890Z"
   },
   {
    "duration": 1345,
    "start_time": "2023-04-20T20:30:34.196Z"
   },
   {
    "duration": 652,
    "start_time": "2023-04-20T20:30:35.544Z"
   },
   {
    "duration": 20,
    "start_time": "2023-04-20T20:30:36.197Z"
   },
   {
    "duration": 12,
    "start_time": "2023-04-20T20:30:36.220Z"
   },
   {
    "duration": 124,
    "start_time": "2023-04-20T20:30:36.235Z"
   },
   {
    "duration": 10,
    "start_time": "2023-04-20T20:30:36.361Z"
   },
   {
    "duration": 13,
    "start_time": "2023-04-20T20:30:36.373Z"
   },
   {
    "duration": 9,
    "start_time": "2023-04-20T20:30:36.388Z"
   },
   {
    "duration": 72,
    "start_time": "2023-04-20T20:30:36.399Z"
   },
   {
    "duration": 10,
    "start_time": "2023-04-20T20:30:36.473Z"
   },
   {
    "duration": 521,
    "start_time": "2023-04-20T20:30:36.484Z"
   },
   {
    "duration": 977,
    "start_time": "2023-04-20T20:30:37.007Z"
   },
   {
    "duration": 647,
    "start_time": "2023-04-20T20:30:37.985Z"
   },
   {
    "duration": 437,
    "start_time": "2023-04-20T20:30:38.636Z"
   },
   {
    "duration": 141,
    "start_time": "2023-04-20T20:30:39.075Z"
   },
   {
    "duration": 635,
    "start_time": "2023-04-20T20:30:39.218Z"
   },
   {
    "duration": 3,
    "start_time": "2023-04-20T20:30:39.856Z"
   },
   {
    "duration": 15,
    "start_time": "2023-04-20T20:30:39.861Z"
   },
   {
    "duration": 5,
    "start_time": "2023-04-20T20:30:39.878Z"
   },
   {
    "duration": 2555,
    "start_time": "2023-04-20T20:30:39.885Z"
   },
   {
    "duration": 3398,
    "start_time": "2023-04-20T20:30:42.441Z"
   },
   {
    "duration": 0,
    "start_time": "2023-04-20T20:30:45.841Z"
   },
   {
    "duration": 0,
    "start_time": "2023-04-20T20:30:45.843Z"
   },
   {
    "duration": 11614,
    "start_time": "2023-04-20T20:30:51.255Z"
   },
   {
    "duration": 4,
    "start_time": "2023-04-20T20:32:29.189Z"
   },
   {
    "duration": 4,
    "start_time": "2023-04-20T20:32:43.185Z"
   },
   {
    "duration": 1367,
    "start_time": "2023-04-20T20:32:57.656Z"
   },
   {
    "duration": 693,
    "start_time": "2023-04-20T20:32:59.025Z"
   },
   {
    "duration": 20,
    "start_time": "2023-04-20T20:32:59.720Z"
   },
   {
    "duration": 22,
    "start_time": "2023-04-20T20:32:59.742Z"
   },
   {
    "duration": 119,
    "start_time": "2023-04-20T20:32:59.766Z"
   },
   {
    "duration": 10,
    "start_time": "2023-04-20T20:32:59.886Z"
   },
   {
    "duration": 13,
    "start_time": "2023-04-20T20:32:59.898Z"
   },
   {
    "duration": 5,
    "start_time": "2023-04-20T20:32:59.913Z"
   },
   {
    "duration": 8,
    "start_time": "2023-04-20T20:32:59.920Z"
   },
   {
    "duration": 34,
    "start_time": "2023-04-20T20:32:59.932Z"
   },
   {
    "duration": 596,
    "start_time": "2023-04-20T20:32:59.968Z"
   },
   {
    "duration": 1032,
    "start_time": "2023-04-20T20:33:00.566Z"
   },
   {
    "duration": 698,
    "start_time": "2023-04-20T20:33:01.600Z"
   },
   {
    "duration": 505,
    "start_time": "2023-04-20T20:33:02.300Z"
   },
   {
    "duration": 138,
    "start_time": "2023-04-20T20:33:02.806Z"
   },
   {
    "duration": 696,
    "start_time": "2023-04-20T20:33:02.946Z"
   },
   {
    "duration": 4,
    "start_time": "2023-04-20T20:33:03.644Z"
   },
   {
    "duration": 16,
    "start_time": "2023-04-20T20:33:03.656Z"
   },
   {
    "duration": 11,
    "start_time": "2023-04-20T20:33:03.674Z"
   },
   {
    "duration": 2534,
    "start_time": "2023-04-20T20:33:03.687Z"
   },
   {
    "duration": 2829,
    "start_time": "2023-04-20T20:33:06.222Z"
   },
   {
    "duration": 0,
    "start_time": "2023-04-20T20:33:09.055Z"
   },
   {
    "duration": 0,
    "start_time": "2023-04-20T20:33:09.057Z"
   },
   {
    "duration": 4,
    "start_time": "2023-04-20T20:33:12.186Z"
   },
   {
    "duration": 4,
    "start_time": "2023-04-20T20:33:18.913Z"
   },
   {
    "duration": 4,
    "start_time": "2023-04-20T20:33:26.127Z"
   },
   {
    "duration": 1388,
    "start_time": "2023-04-20T20:34:22.117Z"
   },
   {
    "duration": 727,
    "start_time": "2023-04-20T20:34:23.507Z"
   },
   {
    "duration": 27,
    "start_time": "2023-04-20T20:34:24.235Z"
   },
   {
    "duration": 12,
    "start_time": "2023-04-20T20:34:24.264Z"
   },
   {
    "duration": 126,
    "start_time": "2023-04-20T20:34:24.278Z"
   },
   {
    "duration": 11,
    "start_time": "2023-04-20T20:34:24.406Z"
   },
   {
    "duration": 12,
    "start_time": "2023-04-20T20:34:24.419Z"
   },
   {
    "duration": 24,
    "start_time": "2023-04-20T20:34:24.433Z"
   },
   {
    "duration": 124,
    "start_time": "2023-04-20T20:34:24.459Z"
   },
   {
    "duration": 46,
    "start_time": "2023-04-20T20:34:24.586Z"
   },
   {
    "duration": 117,
    "start_time": "2023-04-20T20:34:24.634Z"
   },
   {
    "duration": 0,
    "start_time": "2023-04-20T20:34:24.753Z"
   },
   {
    "duration": 0,
    "start_time": "2023-04-20T20:34:24.754Z"
   },
   {
    "duration": 0,
    "start_time": "2023-04-20T20:34:24.756Z"
   },
   {
    "duration": 0,
    "start_time": "2023-04-20T20:34:24.757Z"
   },
   {
    "duration": 0,
    "start_time": "2023-04-20T20:34:24.758Z"
   },
   {
    "duration": 0,
    "start_time": "2023-04-20T20:34:24.759Z"
   },
   {
    "duration": 0,
    "start_time": "2023-04-20T20:34:24.760Z"
   },
   {
    "duration": 0,
    "start_time": "2023-04-20T20:34:24.761Z"
   },
   {
    "duration": 0,
    "start_time": "2023-04-20T20:34:24.762Z"
   },
   {
    "duration": 0,
    "start_time": "2023-04-20T20:34:24.763Z"
   },
   {
    "duration": 0,
    "start_time": "2023-04-20T20:34:24.764Z"
   },
   {
    "duration": 0,
    "start_time": "2023-04-20T20:34:24.766Z"
   },
   {
    "duration": 1536,
    "start_time": "2023-04-20T20:35:02.872Z"
   },
   {
    "duration": 723,
    "start_time": "2023-04-20T20:35:04.410Z"
   },
   {
    "duration": 27,
    "start_time": "2023-04-20T20:35:05.135Z"
   },
   {
    "duration": 12,
    "start_time": "2023-04-20T20:35:05.164Z"
   },
   {
    "duration": 125,
    "start_time": "2023-04-20T20:35:05.179Z"
   },
   {
    "duration": 11,
    "start_time": "2023-04-20T20:35:05.306Z"
   },
   {
    "duration": 13,
    "start_time": "2023-04-20T20:35:05.319Z"
   },
   {
    "duration": 24,
    "start_time": "2023-04-20T20:35:05.333Z"
   },
   {
    "duration": 14,
    "start_time": "2023-04-20T20:35:05.359Z"
   },
   {
    "duration": 508,
    "start_time": "2023-04-20T20:35:05.375Z"
   },
   {
    "duration": 1029,
    "start_time": "2023-04-20T20:35:05.884Z"
   },
   {
    "duration": 693,
    "start_time": "2023-04-20T20:35:06.915Z"
   },
   {
    "duration": 473,
    "start_time": "2023-04-20T20:35:07.610Z"
   },
   {
    "duration": 132,
    "start_time": "2023-04-20T20:35:08.086Z"
   },
   {
    "duration": 622,
    "start_time": "2023-04-20T20:35:08.219Z"
   },
   {
    "duration": 4,
    "start_time": "2023-04-20T20:35:08.844Z"
   },
   {
    "duration": 14,
    "start_time": "2023-04-20T20:35:08.849Z"
   },
   {
    "duration": 3,
    "start_time": "2023-04-20T20:35:08.865Z"
   },
   {
    "duration": 1669,
    "start_time": "2023-04-20T20:35:08.870Z"
   },
   {
    "duration": 8906,
    "start_time": "2023-04-20T20:35:10.541Z"
   },
   {
    "duration": 0,
    "start_time": "2023-04-20T20:35:19.456Z"
   },
   {
    "duration": 0,
    "start_time": "2023-04-20T20:35:19.457Z"
   },
   {
    "duration": 0,
    "start_time": "2023-04-20T20:35:19.458Z"
   },
   {
    "duration": 78,
    "start_time": "2023-04-20T20:35:20.503Z"
   },
   {
    "duration": 11444,
    "start_time": "2023-04-20T20:35:21.313Z"
   },
   {
    "duration": 4,
    "start_time": "2023-04-20T20:36:20.942Z"
   },
   {
    "duration": 12020,
    "start_time": "2023-04-20T20:36:21.638Z"
   },
   {
    "duration": 4,
    "start_time": "2023-04-20T20:37:02.375Z"
   },
   {
    "duration": 8,
    "start_time": "2023-04-20T20:37:02.929Z"
   },
   {
    "duration": 8959,
    "start_time": "2023-04-20T20:37:09.298Z"
   },
   {
    "duration": 37,
    "start_time": "2023-04-20T20:38:01.781Z"
   },
   {
    "duration": 595,
    "start_time": "2023-04-20T20:38:02.448Z"
   },
   {
    "duration": 92,
    "start_time": "2023-04-20T20:39:06.345Z"
   },
   {
    "duration": 1558,
    "start_time": "2023-04-20T20:39:10.557Z"
   },
   {
    "duration": 882,
    "start_time": "2023-04-20T20:39:12.117Z"
   },
   {
    "duration": 21,
    "start_time": "2023-04-20T20:39:13.001Z"
   },
   {
    "duration": 13,
    "start_time": "2023-04-20T20:39:13.024Z"
   },
   {
    "duration": 140,
    "start_time": "2023-04-20T20:39:13.060Z"
   },
   {
    "duration": 9,
    "start_time": "2023-04-20T20:39:13.202Z"
   },
   {
    "duration": 13,
    "start_time": "2023-04-20T20:39:13.213Z"
   },
   {
    "duration": 5,
    "start_time": "2023-04-20T20:39:13.227Z"
   },
   {
    "duration": 37,
    "start_time": "2023-04-20T20:39:13.234Z"
   },
   {
    "duration": 146,
    "start_time": "2023-04-20T20:39:13.274Z"
   },
   {
    "duration": 607,
    "start_time": "2023-04-20T20:39:13.422Z"
   },
   {
    "duration": 931,
    "start_time": "2023-04-20T20:39:14.030Z"
   },
   {
    "duration": 771,
    "start_time": "2023-04-20T20:39:14.964Z"
   },
   {
    "duration": 343,
    "start_time": "2023-04-20T20:39:15.737Z"
   },
   {
    "duration": 143,
    "start_time": "2023-04-20T20:39:16.083Z"
   },
   {
    "duration": 1146,
    "start_time": "2023-04-20T20:39:16.228Z"
   },
   {
    "duration": 12,
    "start_time": "2023-04-20T20:39:17.377Z"
   },
   {
    "duration": 48,
    "start_time": "2023-04-20T20:39:17.394Z"
   },
   {
    "duration": 22,
    "start_time": "2023-04-20T20:39:17.444Z"
   },
   {
    "duration": 7,
    "start_time": "2023-04-20T20:39:17.467Z"
   },
   {
    "duration": 1029,
    "start_time": "2023-04-20T20:39:17.476Z"
   },
   {
    "duration": 19015,
    "start_time": "2023-04-20T20:39:18.507Z"
   },
   {
    "duration": 0,
    "start_time": "2023-04-20T20:39:37.523Z"
   },
   {
    "duration": 0,
    "start_time": "2023-04-20T20:39:37.524Z"
   },
   {
    "duration": 9512,
    "start_time": "2023-04-20T20:39:39.854Z"
   },
   {
    "duration": 271,
    "start_time": "2023-04-20T20:41:18.027Z"
   },
   {
    "duration": 271,
    "start_time": "2023-04-20T20:42:23.375Z"
   },
   {
    "duration": 279,
    "start_time": "2023-04-20T20:42:36.644Z"
   },
   {
    "duration": 1397,
    "start_time": "2023-04-20T20:43:24.584Z"
   },
   {
    "duration": 650,
    "start_time": "2023-04-20T20:43:25.983Z"
   },
   {
    "duration": 35,
    "start_time": "2023-04-20T20:43:26.638Z"
   },
   {
    "duration": 17,
    "start_time": "2023-04-20T20:43:26.676Z"
   },
   {
    "duration": 145,
    "start_time": "2023-04-20T20:43:26.696Z"
   },
   {
    "duration": 17,
    "start_time": "2023-04-20T20:43:26.843Z"
   },
   {
    "duration": 16,
    "start_time": "2023-04-20T20:43:26.862Z"
   },
   {
    "duration": 5,
    "start_time": "2023-04-20T20:43:26.881Z"
   },
   {
    "duration": 14,
    "start_time": "2023-04-20T20:43:26.888Z"
   },
   {
    "duration": 155,
    "start_time": "2023-04-20T20:43:26.904Z"
   },
   {
    "duration": 499,
    "start_time": "2023-04-20T20:43:27.061Z"
   },
   {
    "duration": 744,
    "start_time": "2023-04-20T20:43:27.562Z"
   },
   {
    "duration": 715,
    "start_time": "2023-04-20T20:43:28.309Z"
   },
   {
    "duration": 272,
    "start_time": "2023-04-20T20:43:29.026Z"
   },
   {
    "duration": 273,
    "start_time": "2023-04-20T20:43:29.299Z"
   },
   {
    "duration": 128,
    "start_time": "2023-04-20T20:43:29.574Z"
   },
   {
    "duration": 1002,
    "start_time": "2023-04-20T20:43:29.704Z"
   },
   {
    "duration": 5,
    "start_time": "2023-04-20T20:43:30.708Z"
   },
   {
    "duration": 92,
    "start_time": "2023-04-20T20:43:30.715Z"
   },
   {
    "duration": 43,
    "start_time": "2023-04-20T20:43:30.808Z"
   },
   {
    "duration": 20,
    "start_time": "2023-04-20T20:43:30.854Z"
   },
   {
    "duration": 1131,
    "start_time": "2023-04-20T20:43:30.876Z"
   },
   {
    "duration": 485641,
    "start_time": "2023-04-20T20:43:32.009Z"
   },
   {
    "duration": 205104,
    "start_time": "2023-04-20T20:51:37.656Z"
   },
   {
    "duration": 6693,
    "start_time": "2023-04-20T20:55:02.767Z"
   },
   {
    "duration": 29917,
    "start_time": "2023-04-20T20:57:47.447Z"
   },
   {
    "duration": 27445,
    "start_time": "2023-04-20T20:59:41.933Z"
   },
   {
    "duration": 82,
    "start_time": "2023-04-20T21:02:07.415Z"
   },
   {
    "duration": 80,
    "start_time": "2023-04-20T21:03:59.492Z"
   },
   {
    "duration": 13,
    "start_time": "2023-04-20T21:05:45.630Z"
   },
   {
    "duration": 28124,
    "start_time": "2023-04-20T21:06:14.682Z"
   },
   {
    "duration": 28889,
    "start_time": "2023-04-20T21:06:49.056Z"
   },
   {
    "duration": 29538,
    "start_time": "2023-04-20T21:07:39.594Z"
   },
   {
    "duration": 1463,
    "start_time": "2023-04-20T21:10:15.758Z"
   },
   {
    "duration": 724,
    "start_time": "2023-04-20T21:10:17.223Z"
   },
   {
    "duration": 34,
    "start_time": "2023-04-20T21:10:17.949Z"
   },
   {
    "duration": 11,
    "start_time": "2023-04-20T21:10:17.986Z"
   },
   {
    "duration": 136,
    "start_time": "2023-04-20T21:10:17.999Z"
   },
   {
    "duration": 10,
    "start_time": "2023-04-20T21:10:18.137Z"
   },
   {
    "duration": 16,
    "start_time": "2023-04-20T21:10:18.155Z"
   },
   {
    "duration": 6,
    "start_time": "2023-04-20T21:10:18.173Z"
   },
   {
    "duration": 11,
    "start_time": "2023-04-20T21:10:18.180Z"
   },
   {
    "duration": 150,
    "start_time": "2023-04-20T21:10:18.194Z"
   },
   {
    "duration": 487,
    "start_time": "2023-04-20T21:10:18.346Z"
   },
   {
    "duration": 819,
    "start_time": "2023-04-20T21:10:18.834Z"
   },
   {
    "duration": 583,
    "start_time": "2023-04-20T21:10:19.654Z"
   },
   {
    "duration": 275,
    "start_time": "2023-04-20T21:10:20.238Z"
   },
   {
    "duration": 273,
    "start_time": "2023-04-20T21:10:20.515Z"
   },
   {
    "duration": 127,
    "start_time": "2023-04-20T21:10:20.790Z"
   },
   {
    "duration": 1014,
    "start_time": "2023-04-20T21:10:20.918Z"
   },
   {
    "duration": 3,
    "start_time": "2023-04-20T21:10:21.934Z"
   },
   {
    "duration": 55,
    "start_time": "2023-04-20T21:10:21.939Z"
   },
   {
    "duration": 13,
    "start_time": "2023-04-20T21:10:21.996Z"
   },
   {
    "duration": 19,
    "start_time": "2023-04-20T21:10:22.010Z"
   },
   {
    "duration": 2941,
    "start_time": "2023-04-20T21:10:22.030Z"
   },
   {
    "duration": 6543,
    "start_time": "2023-04-20T21:10:24.973Z"
   },
   {
    "duration": 0,
    "start_time": "2023-04-20T21:10:31.518Z"
   },
   {
    "duration": 0,
    "start_time": "2023-04-20T21:10:31.519Z"
   },
   {
    "duration": 79,
    "start_time": "2023-04-20T21:11:05.467Z"
   },
   {
    "duration": 1513,
    "start_time": "2023-04-20T21:11:09.147Z"
   },
   {
    "duration": 754,
    "start_time": "2023-04-20T21:11:10.662Z"
   },
   {
    "duration": 20,
    "start_time": "2023-04-20T21:11:11.418Z"
   },
   {
    "duration": 28,
    "start_time": "2023-04-20T21:11:11.440Z"
   },
   {
    "duration": 125,
    "start_time": "2023-04-20T21:11:11.471Z"
   },
   {
    "duration": 10,
    "start_time": "2023-04-20T21:11:11.598Z"
   },
   {
    "duration": 13,
    "start_time": "2023-04-20T21:11:11.610Z"
   },
   {
    "duration": 5,
    "start_time": "2023-04-20T21:11:11.625Z"
   },
   {
    "duration": 34,
    "start_time": "2023-04-20T21:11:11.632Z"
   },
   {
    "duration": 152,
    "start_time": "2023-04-20T21:11:11.668Z"
   },
   {
    "duration": 436,
    "start_time": "2023-04-20T21:11:11.821Z"
   },
   {
    "duration": 545,
    "start_time": "2023-04-20T21:11:12.261Z"
   },
   {
    "duration": 621,
    "start_time": "2023-04-20T21:11:12.808Z"
   },
   {
    "duration": 267,
    "start_time": "2023-04-20T21:11:13.432Z"
   },
   {
    "duration": 257,
    "start_time": "2023-04-20T21:11:13.701Z"
   },
   {
    "duration": 172,
    "start_time": "2023-04-20T21:11:13.961Z"
   },
   {
    "duration": 945,
    "start_time": "2023-04-20T21:11:14.136Z"
   },
   {
    "duration": 5,
    "start_time": "2023-04-20T21:11:15.083Z"
   },
   {
    "duration": 31,
    "start_time": "2023-04-20T21:11:15.090Z"
   },
   {
    "duration": 7,
    "start_time": "2023-04-20T21:11:15.123Z"
   },
   {
    "duration": 15,
    "start_time": "2023-04-20T21:11:15.132Z"
   },
   {
    "duration": 530,
    "start_time": "2023-04-20T21:11:15.157Z"
   },
   {
    "duration": 5699,
    "start_time": "2023-04-20T21:11:15.689Z"
   },
   {
    "duration": 0,
    "start_time": "2023-04-20T21:11:21.391Z"
   },
   {
    "duration": 0,
    "start_time": "2023-04-20T21:11:21.392Z"
   },
   {
    "duration": 6873,
    "start_time": "2023-04-20T21:11:27.423Z"
   },
   {
    "duration": 1515,
    "start_time": "2023-04-20T21:12:46.968Z"
   },
   {
    "duration": 706,
    "start_time": "2023-04-20T21:12:48.485Z"
   },
   {
    "duration": 21,
    "start_time": "2023-04-20T21:12:49.193Z"
   },
   {
    "duration": 13,
    "start_time": "2023-04-20T21:12:49.216Z"
   },
   {
    "duration": 139,
    "start_time": "2023-04-20T21:12:49.230Z"
   },
   {
    "duration": 10,
    "start_time": "2023-04-20T21:12:49.371Z"
   },
   {
    "duration": 12,
    "start_time": "2023-04-20T21:12:49.383Z"
   },
   {
    "duration": 18,
    "start_time": "2023-04-20T21:12:49.397Z"
   },
   {
    "duration": 14,
    "start_time": "2023-04-20T21:12:49.418Z"
   },
   {
    "duration": 280,
    "start_time": "2023-04-20T21:12:49.436Z"
   },
   {
    "duration": 386,
    "start_time": "2023-04-20T21:12:49.718Z"
   },
   {
    "duration": 481,
    "start_time": "2023-04-20T21:12:50.106Z"
   },
   {
    "duration": 568,
    "start_time": "2023-04-20T21:12:50.590Z"
   },
   {
    "duration": 243,
    "start_time": "2023-04-20T21:12:51.160Z"
   },
   {
    "duration": 238,
    "start_time": "2023-04-20T21:12:51.405Z"
   },
   {
    "duration": 797,
    "start_time": "2023-04-20T21:12:51.645Z"
   },
   {
    "duration": 3,
    "start_time": "2023-04-20T21:12:52.445Z"
   },
   {
    "duration": 48,
    "start_time": "2023-04-20T21:12:52.455Z"
   },
   {
    "duration": 22,
    "start_time": "2023-04-20T21:12:52.505Z"
   },
   {
    "duration": 4,
    "start_time": "2023-04-20T21:12:52.529Z"
   },
   {
    "duration": 422,
    "start_time": "2023-04-20T21:12:52.535Z"
   },
   {
    "duration": 117829,
    "start_time": "2023-04-20T21:12:52.959Z"
   },
   {
    "duration": 26582,
    "start_time": "2023-04-20T21:14:50.790Z"
   },
   {
    "duration": 6503,
    "start_time": "2023-04-20T21:15:17.456Z"
   },
   {
    "duration": 4127,
    "start_time": "2023-04-20T21:16:05.603Z"
   },
   {
    "duration": 2245,
    "start_time": "2023-04-21T20:39:16.577Z"
   },
   {
    "duration": 853,
    "start_time": "2023-04-21T20:39:18.824Z"
   },
   {
    "duration": 35,
    "start_time": "2023-04-21T20:39:19.679Z"
   },
   {
    "duration": 16,
    "start_time": "2023-04-21T20:39:19.717Z"
   },
   {
    "duration": 139,
    "start_time": "2023-04-21T20:39:19.735Z"
   },
   {
    "duration": 17,
    "start_time": "2023-04-21T20:39:22.198Z"
   },
   {
    "duration": 13,
    "start_time": "2023-04-21T20:39:23.713Z"
   },
   {
    "duration": 5,
    "start_time": "2023-04-21T20:39:24.020Z"
   },
   {
    "duration": 26,
    "start_time": "2023-04-21T20:39:32.223Z"
   },
   {
    "duration": 26,
    "start_time": "2023-04-21T20:39:39.345Z"
   },
   {
    "duration": 26,
    "start_time": "2023-04-21T20:39:48.216Z"
   },
   {
    "duration": 7,
    "start_time": "2023-04-21T20:40:22.461Z"
   },
   {
    "duration": 10,
    "start_time": "2023-04-21T20:40:23.957Z"
   },
   {
    "duration": 6,
    "start_time": "2023-04-21T20:40:26.430Z"
   },
   {
    "duration": 13,
    "start_time": "2023-04-21T20:40:27.383Z"
   },
   {
    "duration": 2213,
    "start_time": "2023-04-21T20:42:30.959Z"
   },
   {
    "duration": 735,
    "start_time": "2023-04-21T20:42:33.173Z"
   },
   {
    "duration": 21,
    "start_time": "2023-04-21T20:42:33.911Z"
   },
   {
    "duration": 12,
    "start_time": "2023-04-21T20:42:33.935Z"
   },
   {
    "duration": 152,
    "start_time": "2023-04-21T20:42:33.949Z"
   },
   {
    "duration": 8,
    "start_time": "2023-04-21T20:42:34.103Z"
   },
   {
    "duration": 12,
    "start_time": "2023-04-21T20:42:34.113Z"
   },
   {
    "duration": 4,
    "start_time": "2023-04-21T20:42:34.127Z"
   },
   {
    "duration": 16,
    "start_time": "2023-04-21T20:42:34.133Z"
   },
   {
    "duration": 273,
    "start_time": "2023-04-21T20:42:34.151Z"
   },
   {
    "duration": 418,
    "start_time": "2023-04-21T20:42:34.426Z"
   },
   {
    "duration": 506,
    "start_time": "2023-04-21T20:42:34.860Z"
   },
   {
    "duration": 524,
    "start_time": "2023-04-21T20:42:35.399Z"
   },
   {
    "duration": 252,
    "start_time": "2023-04-21T20:42:36.374Z"
   },
   {
    "duration": 844,
    "start_time": "2023-04-21T20:42:37.759Z"
   },
   {
    "duration": 4,
    "start_time": "2023-04-21T20:42:40.675Z"
   },
   {
    "duration": 22,
    "start_time": "2023-04-21T20:42:41.731Z"
   },
   {
    "duration": 5,
    "start_time": "2023-04-21T20:42:42.216Z"
   },
   {
    "duration": 29,
    "start_time": "2023-04-21T20:42:47.393Z"
   },
   {
    "duration": 26,
    "start_time": "2023-04-21T20:42:52.923Z"
   },
   {
    "duration": 2090,
    "start_time": "2023-04-21T20:43:40.420Z"
   },
   {
    "duration": 713,
    "start_time": "2023-04-21T20:43:42.512Z"
   },
   {
    "duration": 19,
    "start_time": "2023-04-21T20:43:43.227Z"
   },
   {
    "duration": 10,
    "start_time": "2023-04-21T20:43:43.248Z"
   },
   {
    "duration": 136,
    "start_time": "2023-04-21T20:43:43.259Z"
   },
   {
    "duration": 11,
    "start_time": "2023-04-21T20:43:43.397Z"
   },
   {
    "duration": 16,
    "start_time": "2023-04-21T20:43:43.409Z"
   },
   {
    "duration": 8,
    "start_time": "2023-04-21T20:43:43.426Z"
   },
   {
    "duration": 17,
    "start_time": "2023-04-21T20:43:46.078Z"
   },
   {
    "duration": 3488,
    "start_time": "2023-04-21T20:43:58.980Z"
   },
   {
    "duration": 730,
    "start_time": "2023-04-21T20:44:02.470Z"
   },
   {
    "duration": 22,
    "start_time": "2023-04-21T20:44:03.201Z"
   },
   {
    "duration": 30,
    "start_time": "2023-04-21T20:44:03.225Z"
   },
   {
    "duration": 104,
    "start_time": "2023-04-21T20:44:03.323Z"
   },
   {
    "duration": 9,
    "start_time": "2023-04-21T20:44:26.076Z"
   },
   {
    "duration": 12,
    "start_time": "2023-04-21T20:44:30.318Z"
   },
   {
    "duration": 6,
    "start_time": "2023-04-21T20:44:33.898Z"
   },
   {
    "duration": 31,
    "start_time": "2023-04-21T20:44:40.071Z"
   },
   {
    "duration": 9,
    "start_time": "2023-04-21T20:44:44.540Z"
   },
   {
    "duration": 37,
    "start_time": "2023-04-21T20:44:48.925Z"
   },
   {
    "duration": 240,
    "start_time": "2023-04-21T20:45:03.397Z"
   },
   {
    "duration": 31,
    "start_time": "2023-04-21T20:45:12.871Z"
   },
   {
    "duration": 25,
    "start_time": "2023-04-21T20:45:52.813Z"
   },
   {
    "duration": 1962,
    "start_time": "2023-04-21T20:46:22.092Z"
   },
   {
    "duration": 716,
    "start_time": "2023-04-21T20:46:24.056Z"
   },
   {
    "duration": 32,
    "start_time": "2023-04-21T20:46:24.775Z"
   },
   {
    "duration": 13,
    "start_time": "2023-04-21T20:46:24.809Z"
   },
   {
    "duration": 101,
    "start_time": "2023-04-21T20:46:25.138Z"
   },
   {
    "duration": 8,
    "start_time": "2023-04-21T20:46:27.867Z"
   },
   {
    "duration": 12,
    "start_time": "2023-04-21T20:46:28.917Z"
   },
   {
    "duration": 5,
    "start_time": "2023-04-21T20:46:29.072Z"
   },
   {
    "duration": 9,
    "start_time": "2023-04-21T20:46:36.159Z"
   },
   {
    "duration": 3,
    "start_time": "2023-04-21T20:46:46.593Z"
   },
   {
    "duration": 3,
    "start_time": "2023-04-21T20:46:52.126Z"
   },
   {
    "duration": 246,
    "start_time": "2023-04-21T20:46:55.788Z"
   },
   {
    "duration": 4,
    "start_time": "2023-04-21T20:46:59.602Z"
   },
   {
    "duration": 4,
    "start_time": "2023-04-21T20:47:02.599Z"
   },
   {
    "duration": 89,
    "start_time": "2023-04-21T21:23:41.559Z"
   },
   {
    "duration": 50,
    "start_time": "2023-04-21T22:25:54.584Z"
   },
   {
    "duration": 1677,
    "start_time": "2023-04-21T22:30:17.448Z"
   },
   {
    "duration": 3135,
    "start_time": "2023-04-21T22:30:19.127Z"
   },
   {
    "duration": 23,
    "start_time": "2023-04-21T22:30:22.264Z"
   },
   {
    "duration": 13,
    "start_time": "2023-04-21T22:30:22.289Z"
   },
   {
    "duration": 130,
    "start_time": "2023-04-21T22:30:22.304Z"
   },
   {
    "duration": 9,
    "start_time": "2023-04-21T22:30:22.436Z"
   },
   {
    "duration": 15,
    "start_time": "2023-04-21T22:30:22.447Z"
   },
   {
    "duration": 24,
    "start_time": "2023-04-21T22:30:22.463Z"
   },
   {
    "duration": 11,
    "start_time": "2023-04-21T22:30:22.489Z"
   },
   {
    "duration": 138,
    "start_time": "2023-04-21T22:30:22.502Z"
   },
   {
    "duration": 0,
    "start_time": "2023-04-21T22:30:22.642Z"
   },
   {
    "duration": 0,
    "start_time": "2023-04-21T22:30:22.644Z"
   },
   {
    "duration": 0,
    "start_time": "2023-04-21T22:30:22.645Z"
   },
   {
    "duration": 0,
    "start_time": "2023-04-21T22:30:22.646Z"
   },
   {
    "duration": 0,
    "start_time": "2023-04-21T22:30:22.647Z"
   },
   {
    "duration": 0,
    "start_time": "2023-04-21T22:30:22.648Z"
   },
   {
    "duration": 0,
    "start_time": "2023-04-21T22:30:22.649Z"
   },
   {
    "duration": 0,
    "start_time": "2023-04-21T22:30:22.650Z"
   },
   {
    "duration": 0,
    "start_time": "2023-04-21T22:30:22.652Z"
   },
   {
    "duration": 0,
    "start_time": "2023-04-21T22:30:22.652Z"
   },
   {
    "duration": 0,
    "start_time": "2023-04-21T22:30:22.654Z"
   },
   {
    "duration": 0,
    "start_time": "2023-04-21T22:30:22.655Z"
   },
   {
    "duration": 0,
    "start_time": "2023-04-21T22:30:22.656Z"
   },
   {
    "duration": 0,
    "start_time": "2023-04-21T22:30:22.687Z"
   },
   {
    "duration": 13,
    "start_time": "2023-04-21T22:30:36.549Z"
   },
   {
    "duration": 44,
    "start_time": "2023-04-21T22:32:11.614Z"
   },
   {
    "duration": 8,
    "start_time": "2023-04-21T22:33:40.574Z"
   },
   {
    "duration": 21,
    "start_time": "2023-04-21T22:34:04.529Z"
   },
   {
    "duration": 654,
    "start_time": "2023-04-21T22:34:08.131Z"
   },
   {
    "duration": 6,
    "start_time": "2023-04-21T22:34:29.606Z"
   },
   {
    "duration": 256,
    "start_time": "2023-04-21T22:34:32.851Z"
   },
   {
    "duration": 6,
    "start_time": "2023-04-21T22:34:38.498Z"
   },
   {
    "duration": 855,
    "start_time": "2023-04-21T22:38:02.782Z"
   },
   {
    "duration": 907,
    "start_time": "2023-04-21T22:40:11.961Z"
   },
   {
    "duration": 53,
    "start_time": "2023-04-21T22:41:28.390Z"
   },
   {
    "duration": 1589,
    "start_time": "2023-04-21T22:41:32.646Z"
   },
   {
    "duration": 807,
    "start_time": "2023-04-21T22:41:34.237Z"
   },
   {
    "duration": 23,
    "start_time": "2023-04-21T22:41:35.046Z"
   },
   {
    "duration": 27,
    "start_time": "2023-04-21T22:41:35.072Z"
   },
   {
    "duration": 127,
    "start_time": "2023-04-21T22:41:35.101Z"
   },
   {
    "duration": 11,
    "start_time": "2023-04-21T22:41:35.230Z"
   },
   {
    "duration": 18,
    "start_time": "2023-04-21T22:41:35.242Z"
   },
   {
    "duration": 26,
    "start_time": "2023-04-21T22:41:35.261Z"
   },
   {
    "duration": 30,
    "start_time": "2023-04-21T22:41:35.289Z"
   },
   {
    "duration": 118,
    "start_time": "2023-04-21T22:41:35.322Z"
   },
   {
    "duration": 0,
    "start_time": "2023-04-21T22:41:35.443Z"
   },
   {
    "duration": 0,
    "start_time": "2023-04-21T22:41:35.445Z"
   },
   {
    "duration": 0,
    "start_time": "2023-04-21T22:41:35.446Z"
   },
   {
    "duration": 0,
    "start_time": "2023-04-21T22:41:35.447Z"
   },
   {
    "duration": 0,
    "start_time": "2023-04-21T22:41:35.449Z"
   },
   {
    "duration": 0,
    "start_time": "2023-04-21T22:41:35.450Z"
   },
   {
    "duration": 0,
    "start_time": "2023-04-21T22:41:35.451Z"
   },
   {
    "duration": 0,
    "start_time": "2023-04-21T22:41:35.453Z"
   },
   {
    "duration": 0,
    "start_time": "2023-04-21T22:41:35.454Z"
   },
   {
    "duration": 0,
    "start_time": "2023-04-21T22:41:35.455Z"
   },
   {
    "duration": 0,
    "start_time": "2023-04-21T22:41:35.457Z"
   },
   {
    "duration": 0,
    "start_time": "2023-04-21T22:41:35.458Z"
   },
   {
    "duration": 0,
    "start_time": "2023-04-21T22:41:35.460Z"
   },
   {
    "duration": 0,
    "start_time": "2023-04-21T22:41:35.461Z"
   },
   {
    "duration": 1525,
    "start_time": "2023-04-21T22:41:59.005Z"
   },
   {
    "duration": 859,
    "start_time": "2023-04-21T22:42:00.533Z"
   },
   {
    "duration": 22,
    "start_time": "2023-04-21T22:42:01.394Z"
   },
   {
    "duration": 23,
    "start_time": "2023-04-21T22:42:01.419Z"
   },
   {
    "duration": 142,
    "start_time": "2023-04-21T22:42:01.444Z"
   },
   {
    "duration": 11,
    "start_time": "2023-04-21T22:42:01.588Z"
   },
   {
    "duration": 55,
    "start_time": "2023-04-21T22:42:01.602Z"
   },
   {
    "duration": 32,
    "start_time": "2023-04-21T22:42:01.659Z"
   },
   {
    "duration": 51,
    "start_time": "2023-04-21T22:42:01.692Z"
   },
   {
    "duration": 106,
    "start_time": "2023-04-21T22:42:01.746Z"
   },
   {
    "duration": 585,
    "start_time": "2023-04-21T22:42:01.854Z"
   },
   {
    "duration": 1687,
    "start_time": "2023-04-21T22:42:02.441Z"
   },
   {
    "duration": 1588,
    "start_time": "2023-04-21T22:42:04.131Z"
   },
   {
    "duration": 568,
    "start_time": "2023-04-21T22:42:05.721Z"
   },
   {
    "duration": 565,
    "start_time": "2023-04-21T22:42:06.291Z"
   },
   {
    "duration": 1630,
    "start_time": "2023-04-21T22:42:06.858Z"
   },
   {
    "duration": 4,
    "start_time": "2023-04-21T22:42:08.491Z"
   },
   {
    "duration": 72,
    "start_time": "2023-04-21T22:42:08.497Z"
   },
   {
    "duration": 27,
    "start_time": "2023-04-21T22:42:08.571Z"
   },
   {
    "duration": 12,
    "start_time": "2023-04-21T22:42:08.600Z"
   },
   {
    "duration": 2246,
    "start_time": "2023-04-21T22:42:08.614Z"
   },
   {
    "duration": 41025,
    "start_time": "2023-04-21T22:42:10.862Z"
   },
   {
    "duration": 0,
    "start_time": "2023-04-21T22:42:51.889Z"
   },
   {
    "duration": 0,
    "start_time": "2023-04-21T22:42:51.891Z"
   },
   {
    "duration": 59,
    "start_time": "2023-04-21T22:45:57.668Z"
   },
   {
    "duration": 1600,
    "start_time": "2023-04-21T22:46:01.902Z"
   },
   {
    "duration": 826,
    "start_time": "2023-04-21T22:46:03.508Z"
   },
   {
    "duration": 24,
    "start_time": "2023-04-21T22:46:04.337Z"
   },
   {
    "duration": 36,
    "start_time": "2023-04-21T22:46:04.364Z"
   },
   {
    "duration": 137,
    "start_time": "2023-04-21T22:46:04.402Z"
   },
   {
    "duration": 10,
    "start_time": "2023-04-21T22:46:04.540Z"
   },
   {
    "duration": 14,
    "start_time": "2023-04-21T22:46:04.552Z"
   },
   {
    "duration": 26,
    "start_time": "2023-04-21T22:46:04.567Z"
   },
   {
    "duration": 28,
    "start_time": "2023-04-21T22:46:04.599Z"
   },
   {
    "duration": 64,
    "start_time": "2023-04-21T22:46:04.629Z"
   },
   {
    "duration": 630,
    "start_time": "2023-04-21T22:46:04.696Z"
   },
   {
    "duration": 1179,
    "start_time": "2023-04-21T22:46:05.328Z"
   },
   {
    "duration": 824,
    "start_time": "2023-04-21T22:46:06.511Z"
   },
   {
    "duration": 538,
    "start_time": "2023-04-21T22:46:07.337Z"
   },
   {
    "duration": 476,
    "start_time": "2023-04-21T22:46:07.877Z"
   },
   {
    "duration": 1561,
    "start_time": "2023-04-21T22:46:08.355Z"
   },
   {
    "duration": 4,
    "start_time": "2023-04-21T22:46:09.918Z"
   },
   {
    "duration": 242,
    "start_time": "2023-04-21T22:46:09.923Z"
   },
   {
    "duration": 50,
    "start_time": "2023-04-21T22:46:10.167Z"
   },
   {
    "duration": 21,
    "start_time": "2023-04-21T22:46:10.219Z"
   },
   {
    "duration": 2109,
    "start_time": "2023-04-21T22:46:10.242Z"
   },
   {
    "duration": 1498,
    "start_time": "2023-04-21T22:49:57.973Z"
   },
   {
    "duration": 778,
    "start_time": "2023-04-21T22:49:59.473Z"
   },
   {
    "duration": 22,
    "start_time": "2023-04-21T22:50:00.253Z"
   },
   {
    "duration": 22,
    "start_time": "2023-04-21T22:50:00.276Z"
   },
   {
    "duration": 135,
    "start_time": "2023-04-21T22:50:00.301Z"
   },
   {
    "duration": 10,
    "start_time": "2023-04-21T22:50:00.438Z"
   },
   {
    "duration": 44,
    "start_time": "2023-04-21T22:50:00.449Z"
   },
   {
    "duration": 47,
    "start_time": "2023-04-21T22:50:00.496Z"
   },
   {
    "duration": 73,
    "start_time": "2023-04-21T22:50:00.545Z"
   },
   {
    "duration": 157,
    "start_time": "2023-04-21T22:50:00.620Z"
   },
   {
    "duration": 669,
    "start_time": "2023-04-21T22:50:00.780Z"
   },
   {
    "duration": 1157,
    "start_time": "2023-04-21T22:50:01.450Z"
   },
   {
    "duration": 790,
    "start_time": "2023-04-21T22:50:02.609Z"
   },
   {
    "duration": 463,
    "start_time": "2023-04-21T22:50:03.402Z"
   },
   {
    "duration": 466,
    "start_time": "2023-04-21T22:50:03.867Z"
   },
   {
    "duration": 1489,
    "start_time": "2023-04-21T22:50:04.335Z"
   },
   {
    "duration": 5,
    "start_time": "2023-04-21T22:50:05.826Z"
   },
   {
    "duration": 76,
    "start_time": "2023-04-21T22:50:05.832Z"
   },
   {
    "duration": 23,
    "start_time": "2023-04-21T22:50:05.910Z"
   },
   {
    "duration": 5,
    "start_time": "2023-04-21T22:50:05.935Z"
   },
   {
    "duration": 1287,
    "start_time": "2023-04-21T22:50:05.942Z"
   },
   {
    "duration": 1549,
    "start_time": "2023-04-21T22:52:08.558Z"
   },
   {
    "duration": 826,
    "start_time": "2023-04-21T22:52:10.110Z"
   },
   {
    "duration": 21,
    "start_time": "2023-04-21T22:52:10.938Z"
   },
   {
    "duration": 29,
    "start_time": "2023-04-21T22:52:10.961Z"
   },
   {
    "duration": 124,
    "start_time": "2023-04-21T22:52:10.992Z"
   },
   {
    "duration": 12,
    "start_time": "2023-04-21T22:52:11.118Z"
   },
   {
    "duration": 52,
    "start_time": "2023-04-21T22:52:11.132Z"
   },
   {
    "duration": 6,
    "start_time": "2023-04-21T22:52:11.187Z"
   },
   {
    "duration": 45,
    "start_time": "2023-04-21T22:52:11.195Z"
   },
   {
    "duration": 122,
    "start_time": "2023-04-21T22:52:11.241Z"
   },
   {
    "duration": 569,
    "start_time": "2023-04-21T22:52:11.365Z"
   },
   {
    "duration": 1128,
    "start_time": "2023-04-21T22:52:11.936Z"
   },
   {
    "duration": 771,
    "start_time": "2023-04-21T22:52:13.066Z"
   },
   {
    "duration": 531,
    "start_time": "2023-04-21T22:52:13.840Z"
   },
   {
    "duration": 481,
    "start_time": "2023-04-21T22:52:14.374Z"
   },
   {
    "duration": 1502,
    "start_time": "2023-04-21T22:52:14.857Z"
   },
   {
    "duration": 4,
    "start_time": "2023-04-21T22:52:16.361Z"
   },
   {
    "duration": 76,
    "start_time": "2023-04-21T22:52:16.367Z"
   },
   {
    "duration": 23,
    "start_time": "2023-04-21T22:52:16.449Z"
   },
   {
    "duration": 20,
    "start_time": "2023-04-21T22:52:16.474Z"
   },
   {
    "duration": 1919,
    "start_time": "2023-04-21T22:52:16.496Z"
   },
   {
    "duration": 1671,
    "start_time": "2023-04-21T22:54:00.133Z"
   },
   {
    "duration": 800,
    "start_time": "2023-04-21T22:54:01.807Z"
   },
   {
    "duration": 24,
    "start_time": "2023-04-21T22:54:02.608Z"
   },
   {
    "duration": 14,
    "start_time": "2023-04-21T22:54:02.634Z"
   },
   {
    "duration": 148,
    "start_time": "2023-04-21T22:54:02.651Z"
   },
   {
    "duration": 13,
    "start_time": "2023-04-21T22:54:02.802Z"
   },
   {
    "duration": 25,
    "start_time": "2023-04-21T22:54:02.817Z"
   },
   {
    "duration": 12,
    "start_time": "2023-04-21T22:54:02.844Z"
   },
   {
    "duration": 17,
    "start_time": "2023-04-21T22:54:02.857Z"
   },
   {
    "duration": 102,
    "start_time": "2023-04-21T22:54:02.875Z"
   },
   {
    "duration": 626,
    "start_time": "2023-04-21T22:54:02.979Z"
   },
   {
    "duration": 1099,
    "start_time": "2023-04-21T22:54:03.607Z"
   },
   {
    "duration": 783,
    "start_time": "2023-04-21T22:54:04.708Z"
   },
   {
    "duration": 466,
    "start_time": "2023-04-21T22:54:05.494Z"
   },
   {
    "duration": 465,
    "start_time": "2023-04-21T22:54:05.961Z"
   },
   {
    "duration": 1511,
    "start_time": "2023-04-21T22:54:06.428Z"
   },
   {
    "duration": 4,
    "start_time": "2023-04-21T22:54:07.942Z"
   },
   {
    "duration": 91,
    "start_time": "2023-04-21T22:54:07.948Z"
   },
   {
    "duration": 10,
    "start_time": "2023-04-21T22:54:08.041Z"
   },
   {
    "duration": 6,
    "start_time": "2023-04-21T22:54:08.053Z"
   },
   {
    "duration": 2143,
    "start_time": "2023-04-21T22:54:08.061Z"
   },
   {
    "duration": 1505,
    "start_time": "2023-04-21T22:56:02.666Z"
   },
   {
    "duration": 813,
    "start_time": "2023-04-21T22:56:04.173Z"
   },
   {
    "duration": 21,
    "start_time": "2023-04-21T22:56:04.988Z"
   },
   {
    "duration": 12,
    "start_time": "2023-04-21T22:56:05.011Z"
   },
   {
    "duration": 139,
    "start_time": "2023-04-21T22:56:05.026Z"
   },
   {
    "duration": 11,
    "start_time": "2023-04-21T22:56:05.167Z"
   },
   {
    "duration": 20,
    "start_time": "2023-04-21T22:56:05.187Z"
   },
   {
    "duration": 5,
    "start_time": "2023-04-21T22:56:05.209Z"
   },
   {
    "duration": 28,
    "start_time": "2023-04-21T22:56:05.216Z"
   },
   {
    "duration": 105,
    "start_time": "2023-04-21T22:56:05.246Z"
   },
   {
    "duration": 627,
    "start_time": "2023-04-21T22:56:05.353Z"
   },
   {
    "duration": 1139,
    "start_time": "2023-04-21T22:56:05.981Z"
   },
   {
    "duration": 743,
    "start_time": "2023-04-21T22:56:07.122Z"
   },
   {
    "duration": 712,
    "start_time": "2023-04-21T22:56:07.868Z"
   },
   {
    "duration": 664,
    "start_time": "2023-04-21T22:56:08.582Z"
   },
   {
    "duration": 1567,
    "start_time": "2023-04-21T22:56:09.248Z"
   },
   {
    "duration": 4,
    "start_time": "2023-04-21T22:56:10.817Z"
   },
   {
    "duration": 75,
    "start_time": "2023-04-21T22:56:10.823Z"
   },
   {
    "duration": 12,
    "start_time": "2023-04-21T22:56:10.900Z"
   },
   {
    "duration": 9,
    "start_time": "2023-04-21T22:56:10.914Z"
   },
   {
    "duration": 2803,
    "start_time": "2023-04-21T22:56:10.925Z"
   },
   {
    "duration": 36925,
    "start_time": "2023-04-21T22:56:13.730Z"
   },
   {
    "duration": 0,
    "start_time": "2023-04-21T22:56:50.658Z"
   },
   {
    "duration": 0,
    "start_time": "2023-04-21T22:56:50.659Z"
   },
   {
    "duration": 1505,
    "start_time": "2023-04-21T22:58:54.290Z"
   },
   {
    "duration": 789,
    "start_time": "2023-04-21T22:58:55.797Z"
   },
   {
    "duration": 21,
    "start_time": "2023-04-21T22:58:56.588Z"
   },
   {
    "duration": 12,
    "start_time": "2023-04-21T22:58:56.611Z"
   },
   {
    "duration": 133,
    "start_time": "2023-04-21T22:58:56.625Z"
   },
   {
    "duration": 10,
    "start_time": "2023-04-21T22:58:56.759Z"
   },
   {
    "duration": 26,
    "start_time": "2023-04-21T22:58:56.771Z"
   },
   {
    "duration": 7,
    "start_time": "2023-04-21T22:58:56.799Z"
   },
   {
    "duration": 25,
    "start_time": "2023-04-21T22:58:56.808Z"
   },
   {
    "duration": 99,
    "start_time": "2023-04-21T22:58:56.835Z"
   },
   {
    "duration": 606,
    "start_time": "2023-04-21T22:58:56.936Z"
   },
   {
    "duration": 1111,
    "start_time": "2023-04-21T22:58:57.544Z"
   },
   {
    "duration": 774,
    "start_time": "2023-04-21T22:58:58.657Z"
   },
   {
    "duration": 511,
    "start_time": "2023-04-21T22:58:59.435Z"
   },
   {
    "duration": 493,
    "start_time": "2023-04-21T22:58:59.948Z"
   },
   {
    "duration": 1664,
    "start_time": "2023-04-21T22:59:00.443Z"
   },
   {
    "duration": 4,
    "start_time": "2023-04-21T22:59:02.109Z"
   },
   {
    "duration": 165,
    "start_time": "2023-04-21T22:59:02.115Z"
   },
   {
    "duration": 21,
    "start_time": "2023-04-21T22:59:02.283Z"
   },
   {
    "duration": 14,
    "start_time": "2023-04-21T22:59:02.306Z"
   },
   {
    "duration": 2263,
    "start_time": "2023-04-21T22:59:02.322Z"
   },
   {
    "duration": 16176,
    "start_time": "2023-04-21T22:59:04.588Z"
   },
   {
    "duration": 0,
    "start_time": "2023-04-21T22:59:20.767Z"
   },
   {
    "duration": 0,
    "start_time": "2023-04-21T22:59:20.768Z"
   },
   {
    "duration": 16,
    "start_time": "2023-04-21T23:01:40.697Z"
   },
   {
    "duration": 13,
    "start_time": "2023-04-21T23:01:54.258Z"
   },
   {
    "duration": 19,
    "start_time": "2023-04-21T23:01:58.270Z"
   },
   {
    "duration": 24,
    "start_time": "2023-04-21T23:02:04.433Z"
   },
   {
    "duration": 746,
    "start_time": "2023-04-21T23:02:57.368Z"
   },
   {
    "duration": 1487,
    "start_time": "2023-04-21T23:03:15.412Z"
   },
   {
    "duration": 770,
    "start_time": "2023-04-21T23:03:16.901Z"
   },
   {
    "duration": 28,
    "start_time": "2023-04-21T23:03:17.672Z"
   },
   {
    "duration": 16,
    "start_time": "2023-04-21T23:03:17.702Z"
   },
   {
    "duration": 140,
    "start_time": "2023-04-21T23:03:17.721Z"
   },
   {
    "duration": 12,
    "start_time": "2023-04-21T23:03:17.862Z"
   },
   {
    "duration": 32,
    "start_time": "2023-04-21T23:03:17.876Z"
   },
   {
    "duration": 43,
    "start_time": "2023-04-21T23:03:17.910Z"
   },
   {
    "duration": 20,
    "start_time": "2023-04-21T23:03:17.955Z"
   },
   {
    "duration": 101,
    "start_time": "2023-04-21T23:03:17.977Z"
   },
   {
    "duration": 610,
    "start_time": "2023-04-21T23:03:18.080Z"
   },
   {
    "duration": 14,
    "start_time": "2023-04-21T23:03:18.693Z"
   },
   {
    "duration": 1213,
    "start_time": "2023-04-21T23:03:18.708Z"
   },
   {
    "duration": 886,
    "start_time": "2023-04-21T23:03:19.924Z"
   },
   {
    "duration": 573,
    "start_time": "2023-04-21T23:03:20.812Z"
   },
   {
    "duration": 448,
    "start_time": "2023-04-21T23:03:21.387Z"
   },
   {
    "duration": 1501,
    "start_time": "2023-04-21T23:03:21.837Z"
   },
   {
    "duration": 3,
    "start_time": "2023-04-21T23:03:23.340Z"
   },
   {
    "duration": 72,
    "start_time": "2023-04-21T23:03:23.345Z"
   },
   {
    "duration": 13,
    "start_time": "2023-04-21T23:03:23.419Z"
   },
   {
    "duration": 13,
    "start_time": "2023-04-21T23:03:23.434Z"
   },
   {
    "duration": 1814,
    "start_time": "2023-04-21T23:03:23.449Z"
   },
   {
    "duration": 14005,
    "start_time": "2023-04-21T23:03:25.265Z"
   },
   {
    "duration": 0,
    "start_time": "2023-04-21T23:03:39.272Z"
   },
   {
    "duration": 0,
    "start_time": "2023-04-21T23:03:39.273Z"
   },
   {
    "duration": 0,
    "start_time": "2023-04-21T23:03:39.275Z"
   },
   {
    "duration": 809,
    "start_time": "2023-04-21T23:03:41.258Z"
   },
   {
    "duration": 1489,
    "start_time": "2023-04-21T23:03:57.428Z"
   },
   {
    "duration": 809,
    "start_time": "2023-04-21T23:03:58.920Z"
   },
   {
    "duration": 23,
    "start_time": "2023-04-21T23:03:59.731Z"
   },
   {
    "duration": 14,
    "start_time": "2023-04-21T23:03:59.988Z"
   },
   {
    "duration": 143,
    "start_time": "2023-04-21T23:04:01.086Z"
   },
   {
    "duration": 11,
    "start_time": "2023-04-21T23:04:02.586Z"
   },
   {
    "duration": 15,
    "start_time": "2023-04-21T23:04:03.514Z"
   },
   {
    "duration": 5,
    "start_time": "2023-04-21T23:04:03.841Z"
   },
   {
    "duration": 14,
    "start_time": "2023-04-21T23:04:05.512Z"
   },
   {
    "duration": 108,
    "start_time": "2023-04-21T23:04:07.568Z"
   },
   {
    "duration": 622,
    "start_time": "2023-04-21T23:04:09.567Z"
   },
   {
    "duration": 15,
    "start_time": "2023-04-21T23:04:10.191Z"
   },
   {
    "duration": 1115,
    "start_time": "2023-04-21T23:04:12.928Z"
   },
   {
    "duration": 796,
    "start_time": "2023-04-21T23:04:14.408Z"
   },
   {
    "duration": 35,
    "start_time": "2023-04-21T23:04:26.209Z"
   },
   {
    "duration": 13,
    "start_time": "2023-04-21T23:04:55.339Z"
   },
   {
    "duration": 45,
    "start_time": "2023-04-21T23:05:09.477Z"
   },
   {
    "duration": 19,
    "start_time": "2023-04-21T23:06:29.630Z"
   },
   {
    "duration": 42,
    "start_time": "2023-04-21T23:06:33.432Z"
   },
   {
    "duration": 19,
    "start_time": "2023-04-21T23:06:45.673Z"
   },
   {
    "duration": 23,
    "start_time": "2023-04-21T23:07:01.220Z"
   },
   {
    "duration": 1689,
    "start_time": "2023-04-21T23:07:42.490Z"
   },
   {
    "duration": 834,
    "start_time": "2023-04-21T23:07:44.182Z"
   },
   {
    "duration": 24,
    "start_time": "2023-04-21T23:07:45.018Z"
   },
   {
    "duration": 21,
    "start_time": "2023-04-21T23:07:45.045Z"
   },
   {
    "duration": 140,
    "start_time": "2023-04-21T23:07:45.069Z"
   },
   {
    "duration": 15,
    "start_time": "2023-04-21T23:07:45.212Z"
   },
   {
    "duration": 35,
    "start_time": "2023-04-21T23:07:45.228Z"
   },
   {
    "duration": 8,
    "start_time": "2023-04-21T23:07:45.264Z"
   },
   {
    "duration": 17,
    "start_time": "2023-04-21T23:07:45.274Z"
   },
   {
    "duration": 102,
    "start_time": "2023-04-21T23:07:45.294Z"
   },
   {
    "duration": 674,
    "start_time": "2023-04-21T23:07:45.398Z"
   },
   {
    "duration": 1125,
    "start_time": "2023-04-21T23:07:46.074Z"
   },
   {
    "duration": 789,
    "start_time": "2023-04-21T23:07:47.201Z"
   },
   {
    "duration": 575,
    "start_time": "2023-04-21T23:07:47.992Z"
   },
   {
    "duration": 594,
    "start_time": "2023-04-21T23:07:48.569Z"
   },
   {
    "duration": 1568,
    "start_time": "2023-04-21T23:07:49.165Z"
   },
   {
    "duration": 4,
    "start_time": "2023-04-21T23:07:50.736Z"
   },
   {
    "duration": 74,
    "start_time": "2023-04-21T23:07:50.742Z"
   },
   {
    "duration": 15,
    "start_time": "2023-04-21T23:07:50.818Z"
   },
   {
    "duration": 20,
    "start_time": "2023-04-21T23:07:50.835Z"
   },
   {
    "duration": 971,
    "start_time": "2023-04-21T23:07:50.856Z"
   },
   {
    "duration": 36590,
    "start_time": "2023-04-21T23:07:51.829Z"
   },
   {
    "duration": 0,
    "start_time": "2023-04-21T23:08:28.422Z"
   },
   {
    "duration": 0,
    "start_time": "2023-04-21T23:08:28.423Z"
   },
   {
    "duration": 38343,
    "start_time": "2023-04-21T23:08:36.249Z"
   },
   {
    "duration": 1665,
    "start_time": "2023-04-21T23:10:01.384Z"
   },
   {
    "duration": 1065,
    "start_time": "2023-04-21T23:10:03.560Z"
   },
   {
    "duration": 30,
    "start_time": "2023-04-21T23:10:04.628Z"
   },
   {
    "duration": 17,
    "start_time": "2023-04-21T23:10:05.007Z"
   },
   {
    "duration": 159,
    "start_time": "2023-04-21T23:10:05.851Z"
   },
   {
    "duration": 15,
    "start_time": "2023-04-21T23:10:07.476Z"
   },
   {
    "duration": 15,
    "start_time": "2023-04-21T23:10:08.644Z"
   },
   {
    "duration": 8,
    "start_time": "2023-04-21T23:10:09.713Z"
   },
   {
    "duration": 14,
    "start_time": "2023-04-21T23:10:11.961Z"
   },
   {
    "duration": 1190,
    "start_time": "2023-04-21T23:10:17.116Z"
   },
   {
    "duration": 2373,
    "start_time": "2023-04-21T23:10:43.553Z"
   },
   {
    "duration": 1302,
    "start_time": "2023-04-21T23:10:57.677Z"
   },
   {
    "duration": 1425,
    "start_time": "2023-04-21T23:11:08.406Z"
   },
   {
    "duration": 1710,
    "start_time": "2023-04-21T23:11:17.135Z"
   },
   {
    "duration": 1461,
    "start_time": "2023-04-21T23:11:24.015Z"
   },
   {
    "duration": 1294,
    "start_time": "2023-04-21T23:11:31.202Z"
   },
   {
    "duration": 1603,
    "start_time": "2023-04-21T23:11:39.452Z"
   },
   {
    "duration": 1609,
    "start_time": "2023-04-21T23:11:47.910Z"
   },
   {
    "duration": 1597,
    "start_time": "2023-04-21T23:11:55.199Z"
   },
   {
    "duration": 118,
    "start_time": "2023-04-21T23:12:06.303Z"
   },
   {
    "duration": 1513,
    "start_time": "2023-04-21T23:12:12.904Z"
   },
   {
    "duration": 796,
    "start_time": "2023-04-21T23:12:14.419Z"
   },
   {
    "duration": 24,
    "start_time": "2023-04-21T23:12:15.216Z"
   },
   {
    "duration": 13,
    "start_time": "2023-04-21T23:12:15.243Z"
   },
   {
    "duration": 187,
    "start_time": "2023-04-21T23:12:15.258Z"
   },
   {
    "duration": 12,
    "start_time": "2023-04-21T23:12:15.447Z"
   },
   {
    "duration": 60,
    "start_time": "2023-04-21T23:12:15.460Z"
   },
   {
    "duration": 39,
    "start_time": "2023-04-21T23:12:15.522Z"
   },
   {
    "duration": 25,
    "start_time": "2023-04-21T23:12:15.562Z"
   },
   {
    "duration": 117,
    "start_time": "2023-04-21T23:12:15.591Z"
   },
   {
    "duration": 635,
    "start_time": "2023-04-21T23:12:15.710Z"
   },
   {
    "duration": 1183,
    "start_time": "2023-04-21T23:12:16.347Z"
   },
   {
    "duration": 766,
    "start_time": "2023-04-21T23:12:17.532Z"
   },
   {
    "duration": 496,
    "start_time": "2023-04-21T23:12:18.300Z"
   },
   {
    "duration": 619,
    "start_time": "2023-04-21T23:12:18.799Z"
   },
   {
    "duration": 1653,
    "start_time": "2023-04-21T23:12:19.420Z"
   },
   {
    "duration": 14,
    "start_time": "2023-04-21T23:12:21.075Z"
   },
   {
    "duration": 87,
    "start_time": "2023-04-21T23:12:21.091Z"
   },
   {
    "duration": 29,
    "start_time": "2023-04-21T23:12:21.181Z"
   },
   {
    "duration": 48,
    "start_time": "2023-04-21T23:12:21.212Z"
   },
   {
    "duration": 2151,
    "start_time": "2023-04-21T23:12:21.262Z"
   },
   {
    "duration": 1072164,
    "start_time": "2023-04-21T23:12:23.416Z"
   },
   {
    "duration": 157805,
    "start_time": "2023-04-21T23:30:15.586Z"
   },
   {
    "duration": 38249,
    "start_time": "2023-04-21T23:32:53.393Z"
   },
   {
    "duration": 45610,
    "start_time": "2023-04-21T23:34:59.057Z"
   },
   {
    "duration": 3625,
    "start_time": "2023-04-21T23:40:57.642Z"
   },
   {
    "duration": 55,
    "start_time": "2023-04-21T23:43:42.627Z"
   },
   {
    "duration": 64,
    "start_time": "2023-04-21T23:43:51.919Z"
   },
   {
    "duration": 57,
    "start_time": "2023-04-21T23:43:56.824Z"
   },
   {
    "duration": 6998,
    "start_time": "2023-04-21T23:44:09.774Z"
   },
   {
    "duration": 69,
    "start_time": "2023-04-21T23:44:40.429Z"
   },
   {
    "duration": 63,
    "start_time": "2023-04-21T23:44:43.696Z"
   },
   {
    "duration": 9280,
    "start_time": "2023-04-21T23:59:34.742Z"
   },
   {
    "duration": 397,
    "start_time": "2023-04-22T00:00:52.755Z"
   },
   {
    "duration": 11,
    "start_time": "2023-04-22T00:02:47.803Z"
   },
   {
    "duration": 1630,
    "start_time": "2023-04-22T00:03:29.935Z"
   },
   {
    "duration": 1520,
    "start_time": "2023-04-22T00:03:31.567Z"
   },
   {
    "duration": 30,
    "start_time": "2023-04-22T00:03:33.090Z"
   },
   {
    "duration": 67,
    "start_time": "2023-04-22T00:03:33.122Z"
   },
   {
    "duration": 497,
    "start_time": "2023-04-22T00:03:33.192Z"
   },
   {
    "duration": 0,
    "start_time": "2023-04-22T00:03:33.692Z"
   },
   {
    "duration": 0,
    "start_time": "2023-04-22T00:03:33.696Z"
   },
   {
    "duration": 0,
    "start_time": "2023-04-22T00:03:33.698Z"
   },
   {
    "duration": 0,
    "start_time": "2023-04-22T00:03:33.699Z"
   },
   {
    "duration": 0,
    "start_time": "2023-04-22T00:03:33.700Z"
   },
   {
    "duration": 0,
    "start_time": "2023-04-22T00:03:33.702Z"
   },
   {
    "duration": 0,
    "start_time": "2023-04-22T00:03:33.703Z"
   },
   {
    "duration": 0,
    "start_time": "2023-04-22T00:03:33.705Z"
   },
   {
    "duration": 0,
    "start_time": "2023-04-22T00:03:33.706Z"
   },
   {
    "duration": 0,
    "start_time": "2023-04-22T00:03:33.707Z"
   },
   {
    "duration": 0,
    "start_time": "2023-04-22T00:03:33.708Z"
   },
   {
    "duration": 0,
    "start_time": "2023-04-22T00:03:33.709Z"
   },
   {
    "duration": 0,
    "start_time": "2023-04-22T00:03:33.710Z"
   },
   {
    "duration": 0,
    "start_time": "2023-04-22T00:03:33.712Z"
   },
   {
    "duration": 0,
    "start_time": "2023-04-22T00:03:33.713Z"
   },
   {
    "duration": 0,
    "start_time": "2023-04-22T00:03:33.714Z"
   },
   {
    "duration": 0,
    "start_time": "2023-04-22T00:03:33.716Z"
   },
   {
    "duration": 0,
    "start_time": "2023-04-22T00:03:33.717Z"
   },
   {
    "duration": 0,
    "start_time": "2023-04-22T00:03:33.719Z"
   },
   {
    "duration": 1602,
    "start_time": "2023-04-22T00:04:22.176Z"
   },
   {
    "duration": 811,
    "start_time": "2023-04-22T00:04:23.781Z"
   },
   {
    "duration": 32,
    "start_time": "2023-04-22T00:04:24.595Z"
   },
   {
    "duration": 14,
    "start_time": "2023-04-22T00:04:24.629Z"
   },
   {
    "duration": 78,
    "start_time": "2023-04-22T00:04:24.646Z"
   },
   {
    "duration": 9,
    "start_time": "2023-04-22T00:04:24.726Z"
   },
   {
    "duration": 22,
    "start_time": "2023-04-22T00:04:24.737Z"
   },
   {
    "duration": 7,
    "start_time": "2023-04-22T00:04:24.761Z"
   },
   {
    "duration": 206,
    "start_time": "2023-04-22T00:04:24.770Z"
   },
   {
    "duration": 0,
    "start_time": "2023-04-22T00:04:24.978Z"
   },
   {
    "duration": 0,
    "start_time": "2023-04-22T00:04:24.980Z"
   },
   {
    "duration": 0,
    "start_time": "2023-04-22T00:04:24.987Z"
   },
   {
    "duration": 0,
    "start_time": "2023-04-22T00:04:24.989Z"
   },
   {
    "duration": 0,
    "start_time": "2023-04-22T00:04:24.991Z"
   },
   {
    "duration": 0,
    "start_time": "2023-04-22T00:04:24.992Z"
   },
   {
    "duration": 0,
    "start_time": "2023-04-22T00:04:24.994Z"
   },
   {
    "duration": 0,
    "start_time": "2023-04-22T00:04:24.996Z"
   },
   {
    "duration": 0,
    "start_time": "2023-04-22T00:04:24.997Z"
   },
   {
    "duration": 0,
    "start_time": "2023-04-22T00:04:24.998Z"
   },
   {
    "duration": 0,
    "start_time": "2023-04-22T00:04:24.999Z"
   },
   {
    "duration": 0,
    "start_time": "2023-04-22T00:04:25.001Z"
   },
   {
    "duration": 0,
    "start_time": "2023-04-22T00:04:25.002Z"
   },
   {
    "duration": 0,
    "start_time": "2023-04-22T00:04:25.004Z"
   },
   {
    "duration": 0,
    "start_time": "2023-04-22T00:04:25.005Z"
   },
   {
    "duration": 1579,
    "start_time": "2023-04-22T00:05:31.742Z"
   },
   {
    "duration": 785,
    "start_time": "2023-04-22T00:05:33.323Z"
   },
   {
    "duration": 22,
    "start_time": "2023-04-22T00:05:34.112Z"
   },
   {
    "duration": 19,
    "start_time": "2023-04-22T00:05:34.137Z"
   },
   {
    "duration": 144,
    "start_time": "2023-04-22T00:05:34.158Z"
   },
   {
    "duration": 12,
    "start_time": "2023-04-22T00:05:34.304Z"
   },
   {
    "duration": 23,
    "start_time": "2023-04-22T00:05:34.318Z"
   },
   {
    "duration": 5,
    "start_time": "2023-04-22T00:05:34.343Z"
   },
   {
    "duration": 37,
    "start_time": "2023-04-22T00:05:34.350Z"
   },
   {
    "duration": 131,
    "start_time": "2023-04-22T00:05:34.389Z"
   },
   {
    "duration": 632,
    "start_time": "2023-04-22T00:05:34.522Z"
   },
   {
    "duration": 1139,
    "start_time": "2023-04-22T00:05:35.156Z"
   },
   {
    "duration": 817,
    "start_time": "2023-04-22T00:05:36.299Z"
   },
   {
    "duration": 580,
    "start_time": "2023-04-22T00:05:37.118Z"
   },
   {
    "duration": 463,
    "start_time": "2023-04-22T00:05:37.700Z"
   },
   {
    "duration": 1529,
    "start_time": "2023-04-22T00:05:38.165Z"
   },
   {
    "duration": 5,
    "start_time": "2023-04-22T00:05:39.696Z"
   },
   {
    "duration": 87,
    "start_time": "2023-04-22T00:05:39.703Z"
   },
   {
    "duration": 30,
    "start_time": "2023-04-22T00:05:39.792Z"
   },
   {
    "duration": 14,
    "start_time": "2023-04-22T00:05:39.824Z"
   },
   {
    "duration": 11098,
    "start_time": "2023-04-22T00:05:39.841Z"
   },
   {
    "duration": 221120,
    "start_time": "2023-04-22T00:05:50.941Z"
   },
   {
    "duration": 0,
    "start_time": "2023-04-22T00:09:32.064Z"
   },
   {
    "duration": 0,
    "start_time": "2023-04-22T00:09:32.066Z"
   },
   {
    "duration": 369,
    "start_time": "2023-04-22T00:09:35.687Z"
   },
   {
    "duration": 14,
    "start_time": "2023-04-22T00:18:56.073Z"
   },
   {
    "duration": 1511,
    "start_time": "2023-04-22T00:20:45.401Z"
   },
   {
    "duration": 771,
    "start_time": "2023-04-22T00:20:46.914Z"
   },
   {
    "duration": 22,
    "start_time": "2023-04-22T00:20:47.687Z"
   },
   {
    "duration": 13,
    "start_time": "2023-04-22T00:20:47.712Z"
   },
   {
    "duration": 142,
    "start_time": "2023-04-22T00:20:47.728Z"
   },
   {
    "duration": 20,
    "start_time": "2023-04-22T00:20:47.872Z"
   },
   {
    "duration": 13,
    "start_time": "2023-04-22T00:20:47.893Z"
   },
   {
    "duration": 4,
    "start_time": "2023-04-22T00:20:47.908Z"
   },
   {
    "duration": 13,
    "start_time": "2023-04-22T00:20:47.914Z"
   },
   {
    "duration": 150,
    "start_time": "2023-04-22T00:20:47.929Z"
   },
   {
    "duration": 615,
    "start_time": "2023-04-22T00:20:48.081Z"
   },
   {
    "duration": 1096,
    "start_time": "2023-04-22T00:20:48.699Z"
   },
   {
    "duration": 827,
    "start_time": "2023-04-22T00:20:49.797Z"
   },
   {
    "duration": 542,
    "start_time": "2023-04-22T00:20:50.628Z"
   },
   {
    "duration": 571,
    "start_time": "2023-04-22T00:20:51.172Z"
   },
   {
    "duration": 1481,
    "start_time": "2023-04-22T00:20:51.745Z"
   },
   {
    "duration": 4,
    "start_time": "2023-04-22T00:20:53.228Z"
   },
   {
    "duration": 75,
    "start_time": "2023-04-22T00:20:53.234Z"
   },
   {
    "duration": 25,
    "start_time": "2023-04-22T00:20:53.311Z"
   },
   {
    "duration": 553,
    "start_time": "2023-04-22T00:20:53.337Z"
   },
   {
    "duration": 0,
    "start_time": "2023-04-22T00:20:53.892Z"
   },
   {
    "duration": 0,
    "start_time": "2023-04-22T00:20:53.893Z"
   },
   {
    "duration": 0,
    "start_time": "2023-04-22T00:20:53.894Z"
   },
   {
    "duration": 0,
    "start_time": "2023-04-22T00:20:53.896Z"
   },
   {
    "duration": 0,
    "start_time": "2023-04-22T00:20:53.897Z"
   },
   {
    "duration": 308,
    "start_time": "2023-04-22T00:21:04.991Z"
   },
   {
    "duration": 823,
    "start_time": "2023-04-22T00:21:13.319Z"
   },
   {
    "duration": 516,
    "start_time": "2023-04-22T00:22:46.287Z"
   },
   {
    "duration": 1480,
    "start_time": "2023-04-22T00:26:12.423Z"
   },
   {
    "duration": 776,
    "start_time": "2023-04-22T00:26:13.905Z"
   },
   {
    "duration": 24,
    "start_time": "2023-04-22T00:26:14.683Z"
   },
   {
    "duration": 16,
    "start_time": "2023-04-22T00:26:14.709Z"
   },
   {
    "duration": 166,
    "start_time": "2023-04-22T00:26:14.728Z"
   },
   {
    "duration": 11,
    "start_time": "2023-04-22T00:26:14.896Z"
   },
   {
    "duration": 27,
    "start_time": "2023-04-22T00:26:14.908Z"
   },
   {
    "duration": 9,
    "start_time": "2023-04-22T00:26:14.937Z"
   },
   {
    "duration": 35,
    "start_time": "2023-04-22T00:26:14.947Z"
   },
   {
    "duration": 133,
    "start_time": "2023-04-22T00:26:14.985Z"
   },
   {
    "duration": 636,
    "start_time": "2023-04-22T00:26:15.121Z"
   },
   {
    "duration": 1191,
    "start_time": "2023-04-22T00:26:15.760Z"
   },
   {
    "duration": 778,
    "start_time": "2023-04-22T00:26:16.953Z"
   },
   {
    "duration": 540,
    "start_time": "2023-04-22T00:26:17.735Z"
   },
   {
    "duration": 499,
    "start_time": "2023-04-22T00:26:18.281Z"
   },
   {
    "duration": 1521,
    "start_time": "2023-04-22T00:26:18.782Z"
   },
   {
    "duration": 4,
    "start_time": "2023-04-22T00:26:20.305Z"
   },
   {
    "duration": 86,
    "start_time": "2023-04-22T00:26:20.311Z"
   },
   {
    "duration": 26,
    "start_time": "2023-04-22T00:26:20.400Z"
   },
   {
    "duration": 197,
    "start_time": "2023-04-22T00:26:20.428Z"
   },
   {
    "duration": 0,
    "start_time": "2023-04-22T00:26:20.627Z"
   },
   {
    "duration": 0,
    "start_time": "2023-04-22T00:26:20.629Z"
   },
   {
    "duration": 0,
    "start_time": "2023-04-22T00:26:20.630Z"
   },
   {
    "duration": 0,
    "start_time": "2023-04-22T00:26:20.632Z"
   },
   {
    "duration": 0,
    "start_time": "2023-04-22T00:26:20.633Z"
   },
   {
    "duration": 16,
    "start_time": "2023-04-22T00:26:31.808Z"
   },
   {
    "duration": 4,
    "start_time": "2023-04-22T00:26:53.471Z"
   },
   {
    "duration": 2398,
    "start_time": "2023-04-22T00:26:54.704Z"
   },
   {
    "duration": 2087,
    "start_time": "2023-04-22T00:30:16.449Z"
   },
   {
    "duration": 843,
    "start_time": "2023-04-22T00:30:18.539Z"
   },
   {
    "duration": 27,
    "start_time": "2023-04-22T00:30:19.384Z"
   },
   {
    "duration": 16,
    "start_time": "2023-04-22T00:30:19.413Z"
   },
   {
    "duration": 137,
    "start_time": "2023-04-22T00:30:19.432Z"
   },
   {
    "duration": 17,
    "start_time": "2023-04-22T00:30:19.571Z"
   },
   {
    "duration": 14,
    "start_time": "2023-04-22T00:30:19.590Z"
   },
   {
    "duration": 16,
    "start_time": "2023-04-22T00:30:19.606Z"
   },
   {
    "duration": 12,
    "start_time": "2023-04-22T00:30:19.630Z"
   },
   {
    "duration": 131,
    "start_time": "2023-04-22T00:30:19.644Z"
   },
   {
    "duration": 658,
    "start_time": "2023-04-22T00:30:19.777Z"
   },
   {
    "duration": 1241,
    "start_time": "2023-04-22T00:30:20.437Z"
   },
   {
    "duration": 802,
    "start_time": "2023-04-22T00:30:21.680Z"
   },
   {
    "duration": 489,
    "start_time": "2023-04-22T00:30:22.489Z"
   },
   {
    "duration": 479,
    "start_time": "2023-04-22T00:30:22.980Z"
   },
   {
    "duration": 1542,
    "start_time": "2023-04-22T00:30:23.461Z"
   },
   {
    "duration": 4,
    "start_time": "2023-04-22T00:30:25.009Z"
   },
   {
    "duration": 86,
    "start_time": "2023-04-22T00:30:25.015Z"
   },
   {
    "duration": 10,
    "start_time": "2023-04-22T00:30:25.109Z"
   },
   {
    "duration": 8,
    "start_time": "2023-04-22T00:30:25.121Z"
   },
   {
    "duration": 7221,
    "start_time": "2023-04-22T00:30:25.131Z"
   },
   {
    "duration": 1040895,
    "start_time": "2023-04-22T00:30:32.354Z"
   },
   {
    "duration": 176061,
    "start_time": "2023-04-22T00:47:53.251Z"
   },
   {
    "duration": 496,
    "start_time": "2023-04-22T00:50:49.388Z"
   },
   {
    "duration": 2548,
    "start_time": "2023-04-22T00:51:12.504Z"
   },
   {
    "duration": 2228,
    "start_time": "2023-04-23T00:38:23.902Z"
   },
   {
    "duration": 659,
    "start_time": "2023-04-23T00:38:26.132Z"
   },
   {
    "duration": 19,
    "start_time": "2023-04-23T00:38:26.793Z"
   },
   {
    "duration": 11,
    "start_time": "2023-04-23T00:38:32.111Z"
   },
   {
    "duration": 105,
    "start_time": "2023-04-23T00:38:40.023Z"
   },
   {
    "duration": 12,
    "start_time": "2023-04-23T00:38:54.963Z"
   },
   {
    "duration": 12,
    "start_time": "2023-04-23T00:38:57.470Z"
   },
   {
    "duration": 6,
    "start_time": "2023-04-23T00:38:57.756Z"
   },
   {
    "duration": 8,
    "start_time": "2023-04-23T00:39:09.050Z"
   },
   {
    "duration": 26,
    "start_time": "2023-04-23T00:39:18.328Z"
   },
   {
    "duration": 2149,
    "start_time": "2023-04-23T00:39:30.323Z"
   },
   {
    "duration": 692,
    "start_time": "2023-04-23T00:39:32.474Z"
   },
   {
    "duration": 18,
    "start_time": "2023-04-23T00:39:33.168Z"
   },
   {
    "duration": 11,
    "start_time": "2023-04-23T00:39:34.332Z"
   },
   {
    "duration": 95,
    "start_time": "2023-04-23T00:39:48.912Z"
   },
   {
    "duration": 10,
    "start_time": "2023-04-23T00:39:51.513Z"
   },
   {
    "duration": 15,
    "start_time": "2023-04-23T00:39:53.858Z"
   },
   {
    "duration": 5,
    "start_time": "2023-04-23T00:39:54.018Z"
   },
   {
    "duration": 27,
    "start_time": "2023-04-23T00:39:59.328Z"
   },
   {
    "duration": 9,
    "start_time": "2023-04-23T00:40:01.132Z"
   },
   {
    "duration": 122,
    "start_time": "2023-04-23T00:40:28.671Z"
   },
   {
    "duration": 28,
    "start_time": "2023-04-23T00:40:38.013Z"
   },
   {
    "duration": 43,
    "start_time": "2023-04-23T00:40:55.755Z"
   },
   {
    "duration": 3669,
    "start_time": "2023-04-23T00:41:03.138Z"
   },
   {
    "duration": 62,
    "start_time": "2023-04-23T00:41:28.714Z"
   },
   {
    "duration": 20,
    "start_time": "2023-04-23T00:41:58.003Z"
   },
   {
    "duration": 1614,
    "start_time": "2023-04-23T00:54:55.753Z"
   },
   {
    "duration": 3079,
    "start_time": "2023-04-23T00:54:57.368Z"
   },
   {
    "duration": 25,
    "start_time": "2023-04-23T00:55:00.449Z"
   },
   {
    "duration": 11,
    "start_time": "2023-04-23T00:55:01.720Z"
   },
   {
    "duration": 89,
    "start_time": "2023-04-23T00:55:03.294Z"
   },
   {
    "duration": 9,
    "start_time": "2023-04-23T00:55:07.061Z"
   },
   {
    "duration": 14,
    "start_time": "2023-04-23T00:55:11.151Z"
   },
   {
    "duration": 5,
    "start_time": "2023-04-23T00:55:13.711Z"
   },
   {
    "duration": 16,
    "start_time": "2023-04-23T00:59:06.397Z"
   },
   {
    "duration": 26,
    "start_time": "2023-04-23T01:00:13.269Z"
   },
   {
    "duration": 123,
    "start_time": "2023-04-23T01:00:16.824Z"
   },
   {
    "duration": 622,
    "start_time": "2023-04-23T01:00:24.899Z"
   },
   {
    "duration": 1079,
    "start_time": "2023-04-23T01:00:30.356Z"
   },
   {
    "duration": 1524,
    "start_time": "2023-04-23T01:01:14.317Z"
   },
   {
    "duration": 691,
    "start_time": "2023-04-23T01:01:15.844Z"
   },
   {
    "duration": 20,
    "start_time": "2023-04-23T01:01:16.536Z"
   },
   {
    "duration": 11,
    "start_time": "2023-04-23T01:01:16.557Z"
   },
   {
    "duration": 127,
    "start_time": "2023-04-23T01:01:16.569Z"
   },
   {
    "duration": 9,
    "start_time": "2023-04-23T01:01:16.697Z"
   },
   {
    "duration": 14,
    "start_time": "2023-04-23T01:01:16.734Z"
   },
   {
    "duration": 5,
    "start_time": "2023-04-23T01:01:16.750Z"
   },
   {
    "duration": 35,
    "start_time": "2023-04-23T01:01:16.756Z"
   },
   {
    "duration": 83,
    "start_time": "2023-04-23T01:01:16.793Z"
   },
   {
    "duration": 118,
    "start_time": "2023-04-23T01:01:16.878Z"
   },
   {
    "duration": 548,
    "start_time": "2023-04-23T01:01:16.998Z"
   },
   {
    "duration": 970,
    "start_time": "2023-04-23T01:01:17.548Z"
   },
   {
    "duration": 662,
    "start_time": "2023-04-23T01:01:18.520Z"
   },
   {
    "duration": 495,
    "start_time": "2023-04-23T01:01:19.183Z"
   },
   {
    "duration": 476,
    "start_time": "2023-04-23T01:01:19.680Z"
   },
   {
    "duration": 1261,
    "start_time": "2023-04-23T01:01:20.157Z"
   },
   {
    "duration": 3,
    "start_time": "2023-04-23T01:01:21.419Z"
   },
   {
    "duration": 58,
    "start_time": "2023-04-23T01:01:21.434Z"
   },
   {
    "duration": 112,
    "start_time": "2023-04-23T01:01:21.494Z"
   },
   {
    "duration": 0,
    "start_time": "2023-04-23T01:01:21.607Z"
   },
   {
    "duration": 0,
    "start_time": "2023-04-23T01:01:21.608Z"
   },
   {
    "duration": 0,
    "start_time": "2023-04-23T01:01:21.609Z"
   },
   {
    "duration": 0,
    "start_time": "2023-04-23T01:01:21.610Z"
   },
   {
    "duration": 0,
    "start_time": "2023-04-23T01:01:21.611Z"
   },
   {
    "duration": 1303,
    "start_time": "2023-04-23T01:02:07.475Z"
   },
   {
    "duration": 702,
    "start_time": "2023-04-23T01:02:12.633Z"
   },
   {
    "duration": 22,
    "start_time": "2023-04-23T01:02:13.955Z"
   },
   {
    "duration": 12,
    "start_time": "2023-04-23T01:02:15.669Z"
   },
   {
    "duration": 108,
    "start_time": "2023-04-23T01:02:17.197Z"
   },
   {
    "duration": 9,
    "start_time": "2023-04-23T01:02:19.669Z"
   },
   {
    "duration": 14,
    "start_time": "2023-04-23T01:02:21.049Z"
   },
   {
    "duration": 5,
    "start_time": "2023-04-23T01:02:21.901Z"
   },
   {
    "duration": 22,
    "start_time": "2023-04-23T01:02:23.811Z"
   },
   {
    "duration": 5,
    "start_time": "2023-04-23T01:02:25.842Z"
   },
   {
    "duration": 990,
    "start_time": "2023-04-23T01:02:37.213Z"
   },
   {
    "duration": 57,
    "start_time": "2023-04-23T01:06:09.898Z"
   },
   {
    "duration": 1286,
    "start_time": "2023-04-23T01:08:05.080Z"
   },
   {
    "duration": 641,
    "start_time": "2023-04-23T01:08:06.368Z"
   },
   {
    "duration": 26,
    "start_time": "2023-04-23T01:08:07.011Z"
   },
   {
    "duration": 11,
    "start_time": "2023-04-23T01:08:08.124Z"
   },
   {
    "duration": 106,
    "start_time": "2023-04-23T01:08:09.202Z"
   },
   {
    "duration": 9,
    "start_time": "2023-04-23T01:08:11.656Z"
   },
   {
    "duration": 15,
    "start_time": "2023-04-23T01:08:12.946Z"
   },
   {
    "duration": 5,
    "start_time": "2023-04-23T01:08:13.820Z"
   },
   {
    "duration": 20,
    "start_time": "2023-04-23T01:08:15.784Z"
   },
   {
    "duration": 6,
    "start_time": "2023-04-23T01:08:18.265Z"
   },
   {
    "duration": 10,
    "start_time": "2023-04-23T01:08:41.112Z"
   },
   {
    "duration": 5,
    "start_time": "2023-04-23T01:08:42.379Z"
   },
   {
    "duration": 18,
    "start_time": "2023-04-23T01:08:49.175Z"
   },
   {
    "duration": 6,
    "start_time": "2023-04-23T01:08:49.661Z"
   },
   {
    "duration": 37,
    "start_time": "2023-04-23T01:09:03.019Z"
   },
   {
    "duration": 10,
    "start_time": "2023-04-23T01:09:03.904Z"
   },
   {
    "duration": 1346,
    "start_time": "2023-04-23T01:09:38.144Z"
   },
   {
    "duration": 643,
    "start_time": "2023-04-23T01:09:39.492Z"
   },
   {
    "duration": 18,
    "start_time": "2023-04-23T01:09:40.138Z"
   },
   {
    "duration": 10,
    "start_time": "2023-04-23T01:09:40.157Z"
   },
   {
    "duration": 104,
    "start_time": "2023-04-23T01:09:40.169Z"
   },
   {
    "duration": 8,
    "start_time": "2023-04-23T01:09:40.275Z"
   },
   {
    "duration": 19,
    "start_time": "2023-04-23T01:09:40.284Z"
   },
   {
    "duration": 4,
    "start_time": "2023-04-23T01:09:40.305Z"
   },
   {
    "duration": 45,
    "start_time": "2023-04-23T01:09:40.311Z"
   },
   {
    "duration": 115,
    "start_time": "2023-04-23T01:09:40.358Z"
   },
   {
    "duration": 0,
    "start_time": "2023-04-23T01:09:40.475Z"
   },
   {
    "duration": 0,
    "start_time": "2023-04-23T01:09:40.477Z"
   },
   {
    "duration": 0,
    "start_time": "2023-04-23T01:09:40.478Z"
   },
   {
    "duration": 0,
    "start_time": "2023-04-23T01:09:40.479Z"
   },
   {
    "duration": 0,
    "start_time": "2023-04-23T01:09:40.480Z"
   },
   {
    "duration": 0,
    "start_time": "2023-04-23T01:09:40.481Z"
   },
   {
    "duration": 0,
    "start_time": "2023-04-23T01:09:40.482Z"
   },
   {
    "duration": 0,
    "start_time": "2023-04-23T01:09:40.483Z"
   },
   {
    "duration": 0,
    "start_time": "2023-04-23T01:09:40.484Z"
   },
   {
    "duration": 0,
    "start_time": "2023-04-23T01:09:40.485Z"
   },
   {
    "duration": 0,
    "start_time": "2023-04-23T01:09:40.487Z"
   },
   {
    "duration": 0,
    "start_time": "2023-04-23T01:09:40.487Z"
   },
   {
    "duration": 0,
    "start_time": "2023-04-23T01:09:40.488Z"
   },
   {
    "duration": 0,
    "start_time": "2023-04-23T01:09:40.489Z"
   },
   {
    "duration": 0,
    "start_time": "2023-04-23T01:09:40.491Z"
   },
   {
    "duration": 128,
    "start_time": "2023-04-23T01:10:00.998Z"
   },
   {
    "duration": 498,
    "start_time": "2023-04-23T01:10:03.796Z"
   },
   {
    "duration": 899,
    "start_time": "2023-04-23T01:10:06.247Z"
   },
   {
    "duration": 621,
    "start_time": "2023-04-23T01:10:07.775Z"
   },
   {
    "duration": 493,
    "start_time": "2023-04-23T01:10:10.787Z"
   },
   {
    "duration": 404,
    "start_time": "2023-04-23T01:10:11.874Z"
   },
   {
    "duration": 1380,
    "start_time": "2023-04-23T01:10:14.714Z"
   },
   {
    "duration": 4,
    "start_time": "2023-04-23T01:10:19.397Z"
   },
   {
    "duration": 49,
    "start_time": "2023-04-23T01:10:20.351Z"
   },
   {
    "duration": 7,
    "start_time": "2023-04-23T01:10:20.857Z"
   },
   {
    "duration": 2,
    "start_time": "2023-04-23T01:10:23.281Z"
   },
   {
    "duration": 2184,
    "start_time": "2023-04-23T01:10:24.480Z"
   },
   {
    "duration": 42245,
    "start_time": "2023-04-23T01:10:36.602Z"
   },
   {
    "duration": 337,
    "start_time": "2023-04-23T01:11:18.972Z"
   },
   {
    "duration": 1414,
    "start_time": "2023-04-23T01:12:14.194Z"
   },
   {
    "duration": 651,
    "start_time": "2023-04-23T01:12:15.609Z"
   },
   {
    "duration": 21,
    "start_time": "2023-04-23T01:12:16.262Z"
   },
   {
    "duration": 12,
    "start_time": "2023-04-23T01:12:16.284Z"
   },
   {
    "duration": 117,
    "start_time": "2023-04-23T01:12:16.299Z"
   },
   {
    "duration": 16,
    "start_time": "2023-04-23T01:12:16.418Z"
   },
   {
    "duration": 13,
    "start_time": "2023-04-23T01:12:16.436Z"
   },
   {
    "duration": 5,
    "start_time": "2023-04-23T01:12:16.450Z"
   },
   {
    "duration": 36,
    "start_time": "2023-04-23T01:12:16.456Z"
   },
   {
    "duration": 138,
    "start_time": "2023-04-23T01:12:16.493Z"
   },
   {
    "duration": 502,
    "start_time": "2023-04-23T01:12:16.633Z"
   },
   {
    "duration": 961,
    "start_time": "2023-04-23T01:12:17.136Z"
   },
   {
    "duration": 617,
    "start_time": "2023-04-23T01:12:18.099Z"
   },
   {
    "duration": 442,
    "start_time": "2023-04-23T01:12:18.718Z"
   },
   {
    "duration": 388,
    "start_time": "2023-04-23T01:12:19.162Z"
   },
   {
    "duration": 1227,
    "start_time": "2023-04-23T01:12:19.552Z"
   },
   {
    "duration": 4,
    "start_time": "2023-04-23T01:12:20.780Z"
   },
   {
    "duration": 54,
    "start_time": "2023-04-23T01:12:20.785Z"
   },
   {
    "duration": 20,
    "start_time": "2023-04-23T01:12:20.840Z"
   },
   {
    "duration": 10,
    "start_time": "2023-04-23T01:12:20.861Z"
   },
   {
    "duration": 1909,
    "start_time": "2023-04-23T01:12:20.873Z"
   },
   {
    "duration": 829201,
    "start_time": "2023-04-23T01:12:22.784Z"
   },
   {
    "duration": 148250,
    "start_time": "2023-04-23T01:26:11.986Z"
   },
   {
    "duration": 423,
    "start_time": "2023-04-23T01:28:40.238Z"
   },
   {
    "duration": 44032,
    "start_time": "2023-04-23T01:32:59.258Z"
   }
  ],
  "kernelspec": {
   "display_name": "Python 3 (ipykernel)",
   "language": "python",
   "name": "python3"
  },
  "language_info": {
   "codemirror_mode": {
    "name": "ipython",
    "version": 3
   },
   "file_extension": ".py",
   "mimetype": "text/x-python",
   "name": "python",
   "nbconvert_exporter": "python",
   "pygments_lexer": "ipython3",
   "version": "3.9.5"
  },
  "toc": {
   "base_numbering": 1,
   "nav_menu": {},
   "number_sections": true,
   "sideBar": true,
   "skip_h1_title": true,
   "title_cell": "Содержание",
   "title_sidebar": "Contents",
   "toc_cell": true,
   "toc_position": {
    "height": "calc(100% - 180px)",
    "left": "10px",
    "top": "150px",
    "width": "371px"
   },
   "toc_section_display": true,
   "toc_window_display": true
  }
 },
 "nbformat": 4,
 "nbformat_minor": 2
}
