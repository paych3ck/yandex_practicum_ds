{
 "cells": [
  {
   "cell_type": "markdown",
   "metadata": {},
   "source": [
    "# Описание проекта: телекоммуникации"
   ]
  },
  {
   "cell_type": "markdown",
   "metadata": {},
   "source": [
    "**Общая информация**\n",
    "\n",
    "Оператор связи «Ниединогоразрыва.ком» хочет научиться прогнозировать отток клиентов. Если выяснится, что пользователь планирует уйти, ему будут предложены промокоды и специальные условия. Команда оператора собрала персональные данные о некоторых клиентах, информацию об их тарифах и договорах.\n",
    "\n",
    "Оператор предоставляет два основных типа услуг: \n",
    "* Стационарную телефонную связь. Возможно подключение телефонного аппарата к нескольким линиям одновременно;\n",
    "* Интернет. Подключение может быть двух типов: через телефонную линию (DSL, от англ. digital subscriber line, «цифровая абонентская линия») или оптоволоконный кабель (Fiber optic).\n",
    "\n",
    "Также доступны такие услуги:\n",
    "* Интернет-безопасность: антивирус (DeviceProtection) и блокировка небезопасных сайтов (OnlineSecurity);\n",
    "* Выделенная линия технической поддержки (TechSupport);\n",
    "* Облачное хранилище файлов для резервного копирования данных (OnlineBackup);\n",
    "* Стриминговое телевидение (StreamingTV) и каталог фильмов (StreamingMovies).\n",
    "* За услуги клиенты могут платить каждый месяц или заключить договор на 1–2 года. Доступны различные способы расчёта и возможность получения электронного чека."
   ]
  },
  {
   "cell_type": "markdown",
   "metadata": {},
   "source": [
    "**Описание данных**\n",
    "\n",
    "Данные состоят из файлов, полученных из разных источников:\n",
    "* contract_new.csv — информация о договоре;\n",
    "* personal_new.csv — персональные данные клиента;\n",
    "* internet_new.csv — информация об интернет-услугах;\n",
    "* phone_new.csv — информация об услугах телефонии.\n",
    "\n",
    "Во всех файлах столбец customerID содержит код клиента.\n",
    "Информация о договорах актуальна на 1 февраля 2020."
   ]
  },
  {
   "cell_type": "markdown",
   "metadata": {},
   "source": [
    "**Цели и задачи проекта**\n",
    "\n",
    "Основной целью проекта является прогнозирование оттока клиентов. В ходе достижения данной цели будут решены следующие задачи:\n",
    "* Анализ и предобработка данных: необходимо провести исследовательский анализ данных и выявить возможные проблемы (например, отсутствующие значения) и исправить их. Также требуется преобразовать категориальные признаки в числовые, если это необходимо для обучения моделей машинного обучения.\n",
    "\n",
    "* Создание модели машинного обучения: необходимо выбрать модель машинного обучения (например, логистическую регрессию, случайный лес, градиентный бустинг и так далее) и настроить ее параметры для достижения наилучшего значения целевой метрики.\n",
    "\n",
    "* Интерпретация результатов работы наилучшей модели."
   ]
  },
  {
   "cell_type": "markdown",
   "metadata": {},
   "source": [
    "## Исследовательский анализ данных"
   ]
  },
  {
   "cell_type": "code",
   "execution_count": 1,
   "metadata": {},
   "outputs": [
    {
     "name": "stdout",
     "output_type": "stream",
     "text": [
      "Requirement already satisfied: phik in /opt/conda/lib/python3.9/site-packages (0.12.3)\n",
      "Requirement already satisfied: matplotlib>=2.2.3 in /opt/conda/lib/python3.9/site-packages (from phik) (3.3.4)\n",
      "Requirement already satisfied: pandas>=0.25.1 in /opt/conda/lib/python3.9/site-packages (from phik) (1.2.4)\n",
      "Requirement already satisfied: scipy>=1.5.2 in /opt/conda/lib/python3.9/site-packages (from phik) (1.9.1)\n",
      "Requirement already satisfied: numpy>=1.18.0 in /opt/conda/lib/python3.9/site-packages (from phik) (1.21.1)\n",
      "Requirement already satisfied: joblib>=0.14.1 in /opt/conda/lib/python3.9/site-packages (from phik) (1.1.0)\n",
      "Requirement already satisfied: kiwisolver>=1.0.1 in /opt/conda/lib/python3.9/site-packages (from matplotlib>=2.2.3->phik) (1.4.4)\n",
      "Requirement already satisfied: python-dateutil>=2.1 in /opt/conda/lib/python3.9/site-packages (from matplotlib>=2.2.3->phik) (2.8.1)\n",
      "Requirement already satisfied: pyparsing!=2.0.4,!=2.1.2,!=2.1.6,>=2.0.3 in /opt/conda/lib/python3.9/site-packages (from matplotlib>=2.2.3->phik) (2.4.7)\n",
      "Requirement already satisfied: pillow>=6.2.0 in /opt/conda/lib/python3.9/site-packages (from matplotlib>=2.2.3->phik) (8.4.0)\n",
      "Requirement already satisfied: cycler>=0.10 in /opt/conda/lib/python3.9/site-packages (from matplotlib>=2.2.3->phik) (0.11.0)\n",
      "Requirement already satisfied: pytz>=2017.3 in /opt/conda/lib/python3.9/site-packages (from pandas>=0.25.1->phik) (2021.1)\n",
      "Requirement already satisfied: six>=1.5 in /opt/conda/lib/python3.9/site-packages (from python-dateutil>=2.1->matplotlib>=2.2.3->phik) (1.16.0)\n"
     ]
    }
   ],
   "source": [
    "!pip install phik\n",
    "import phik\n",
    "\n",
    "import pandas as pd\n",
    "import seaborn as sns\n",
    "import matplotlib.pyplot as plt\n",
    "\n",
    "from re import sub\n",
    "\n",
    "from sklearn.linear_model import LogisticRegression\n",
    "from sklearn.preprocessing import OneHotEncoder, StandardScaler\n",
    "from sklearn.ensemble import RandomForestClassifier\n",
    "from sklearn.metrics import roc_auc_score, roc_curve, confusion_matrix\n",
    "from sklearn.utils import shuffle\n",
    "from sklearn.model_selection import train_test_split, GridSearchCV\n",
    "from catboost import CatBoostClassifier\n",
    "\n",
    "from sklearn.preprocessing import StandardScaler\n",
    "\n",
    "RANDOM_STATE = 12345\n",
    "\n",
    "def plot_roc_curve(target_test, predictions):\n",
    "    print('ROC-AUC score', roc_auc_score(target_test, predictions))\n",
    "    \n",
    "    fpr, tpr, thresholds = roc_curve(target_test, predictions)\n",
    "\n",
    "    plt.figure(figsize=(11, 5))\n",
    "    \n",
    "    plt.plot(fpr, tpr)\n",
    "    \n",
    "    plt.plot([0, 1], [0, 1], linestyle='--')\n",
    "    \n",
    "    plt.xlim([0.0, 1.0])\n",
    "    plt.ylim([0.0, 1.0])\n",
    "    \n",
    "    plt.xlabel('False Positive Rate')\n",
    "    plt.ylabel('True Positive Rate')\n",
    "    \n",
    "    plt.title('ROC-кривая')\n",
    "    \n",
    "    plt.show()"
   ]
  },
  {
   "cell_type": "markdown",
   "metadata": {},
   "source": [
    "Импорт необходимых библиотек."
   ]
  },
  {
   "cell_type": "code",
   "execution_count": 2,
   "metadata": {},
   "outputs": [],
   "source": [
    "try:\n",
    "    contract_data = pd.read_csv('contract_new.csv')\n",
    "    personal_data = pd.read_csv('personal_new.csv')\n",
    "    internet_data = pd.read_csv('internet_new.csv')\n",
    "    phone_data = pd.read_csv('phone_new.csv')\n",
    "    \n",
    "except FileNotFoundError:\n",
    "    contract_data = pd.read_csv('/datasets/contract_new.csv')\n",
    "    personal_data = pd.read_csv('/datasets/personal_new.csv')\n",
    "    internet_data = pd.read_csv('/datasets/internet_new.csv')\n",
    "    phone_data = pd.read_csv('/datasets/phone_new.csv')"
   ]
  },
  {
   "cell_type": "markdown",
   "metadata": {},
   "source": [
    "Загрузка данных."
   ]
  },
  {
   "cell_type": "code",
   "execution_count": 3,
   "metadata": {},
   "outputs": [],
   "source": [
    "def view_data(df):\n",
    "    print('Общий вид датафрейма:')\n",
    "    display(df.head())\n",
    "    print('Описательная статистика:')\n",
    "    display(df.describe())\n",
    "    print('Информация о датафрейме:')\n",
    "    display(df.info())\n",
    "    print('Количество пропусков:')\n",
    "    display(df.isna().sum())"
   ]
  },
  {
   "cell_type": "markdown",
   "metadata": {},
   "source": [
    "Функция для вывода общей информация о датасете."
   ]
  },
  {
   "cell_type": "code",
   "execution_count": 4,
   "metadata": {},
   "outputs": [],
   "source": [
    "def snake_case(s):\n",
    "    return '_'.join(\n",
    "        sub('([A-Z][a-z]+)', r' \\1',\n",
    "        sub('([A-Z]+)', r' \\1',\n",
    "        s.replace('-', ' '))).split()).lower()"
   ]
  },
  {
   "cell_type": "markdown",
   "metadata": {},
   "source": [
    "Функция для преобразования названия столбца в snake_case"
   ]
  },
  {
   "cell_type": "markdown",
   "metadata": {},
   "source": [
    "### Информация о договоре"
   ]
  },
  {
   "cell_type": "code",
   "execution_count": 5,
   "metadata": {},
   "outputs": [
    {
     "name": "stdout",
     "output_type": "stream",
     "text": [
      "Общий вид датафрейма:\n"
     ]
    },
    {
     "data": {
      "text/html": [
       "<div>\n",
       "<style scoped>\n",
       "    .dataframe tbody tr th:only-of-type {\n",
       "        vertical-align: middle;\n",
       "    }\n",
       "\n",
       "    .dataframe tbody tr th {\n",
       "        vertical-align: top;\n",
       "    }\n",
       "\n",
       "    .dataframe thead th {\n",
       "        text-align: right;\n",
       "    }\n",
       "</style>\n",
       "<table border=\"1\" class=\"dataframe\">\n",
       "  <thead>\n",
       "    <tr style=\"text-align: right;\">\n",
       "      <th></th>\n",
       "      <th>customerID</th>\n",
       "      <th>BeginDate</th>\n",
       "      <th>EndDate</th>\n",
       "      <th>Type</th>\n",
       "      <th>PaperlessBilling</th>\n",
       "      <th>PaymentMethod</th>\n",
       "      <th>MonthlyCharges</th>\n",
       "      <th>TotalCharges</th>\n",
       "    </tr>\n",
       "  </thead>\n",
       "  <tbody>\n",
       "    <tr>\n",
       "      <th>0</th>\n",
       "      <td>7590-VHVEG</td>\n",
       "      <td>2020-01-01</td>\n",
       "      <td>No</td>\n",
       "      <td>Month-to-month</td>\n",
       "      <td>Yes</td>\n",
       "      <td>Electronic check</td>\n",
       "      <td>29.85</td>\n",
       "      <td>31.04</td>\n",
       "    </tr>\n",
       "    <tr>\n",
       "      <th>1</th>\n",
       "      <td>5575-GNVDE</td>\n",
       "      <td>2017-04-01</td>\n",
       "      <td>No</td>\n",
       "      <td>One year</td>\n",
       "      <td>No</td>\n",
       "      <td>Mailed check</td>\n",
       "      <td>56.95</td>\n",
       "      <td>2071.84</td>\n",
       "    </tr>\n",
       "    <tr>\n",
       "      <th>2</th>\n",
       "      <td>3668-QPYBK</td>\n",
       "      <td>2019-10-01</td>\n",
       "      <td>No</td>\n",
       "      <td>Month-to-month</td>\n",
       "      <td>Yes</td>\n",
       "      <td>Mailed check</td>\n",
       "      <td>53.85</td>\n",
       "      <td>226.17</td>\n",
       "    </tr>\n",
       "    <tr>\n",
       "      <th>3</th>\n",
       "      <td>7795-CFOCW</td>\n",
       "      <td>2016-05-01</td>\n",
       "      <td>No</td>\n",
       "      <td>One year</td>\n",
       "      <td>No</td>\n",
       "      <td>Bank transfer (automatic)</td>\n",
       "      <td>42.30</td>\n",
       "      <td>1960.6</td>\n",
       "    </tr>\n",
       "    <tr>\n",
       "      <th>4</th>\n",
       "      <td>9237-HQITU</td>\n",
       "      <td>2019-09-01</td>\n",
       "      <td>No</td>\n",
       "      <td>Month-to-month</td>\n",
       "      <td>Yes</td>\n",
       "      <td>Electronic check</td>\n",
       "      <td>70.70</td>\n",
       "      <td>353.5</td>\n",
       "    </tr>\n",
       "  </tbody>\n",
       "</table>\n",
       "</div>"
      ],
      "text/plain": [
       "   customerID   BeginDate EndDate            Type PaperlessBilling  \\\n",
       "0  7590-VHVEG  2020-01-01      No  Month-to-month              Yes   \n",
       "1  5575-GNVDE  2017-04-01      No        One year               No   \n",
       "2  3668-QPYBK  2019-10-01      No  Month-to-month              Yes   \n",
       "3  7795-CFOCW  2016-05-01      No        One year               No   \n",
       "4  9237-HQITU  2019-09-01      No  Month-to-month              Yes   \n",
       "\n",
       "               PaymentMethod  MonthlyCharges TotalCharges  \n",
       "0           Electronic check           29.85        31.04  \n",
       "1               Mailed check           56.95      2071.84  \n",
       "2               Mailed check           53.85       226.17  \n",
       "3  Bank transfer (automatic)           42.30       1960.6  \n",
       "4           Electronic check           70.70        353.5  "
      ]
     },
     "metadata": {},
     "output_type": "display_data"
    },
    {
     "name": "stdout",
     "output_type": "stream",
     "text": [
      "Описательная статистика:\n"
     ]
    },
    {
     "data": {
      "text/html": [
       "<div>\n",
       "<style scoped>\n",
       "    .dataframe tbody tr th:only-of-type {\n",
       "        vertical-align: middle;\n",
       "    }\n",
       "\n",
       "    .dataframe tbody tr th {\n",
       "        vertical-align: top;\n",
       "    }\n",
       "\n",
       "    .dataframe thead th {\n",
       "        text-align: right;\n",
       "    }\n",
       "</style>\n",
       "<table border=\"1\" class=\"dataframe\">\n",
       "  <thead>\n",
       "    <tr style=\"text-align: right;\">\n",
       "      <th></th>\n",
       "      <th>MonthlyCharges</th>\n",
       "    </tr>\n",
       "  </thead>\n",
       "  <tbody>\n",
       "    <tr>\n",
       "      <th>count</th>\n",
       "      <td>7043.000000</td>\n",
       "    </tr>\n",
       "    <tr>\n",
       "      <th>mean</th>\n",
       "      <td>64.761692</td>\n",
       "    </tr>\n",
       "    <tr>\n",
       "      <th>std</th>\n",
       "      <td>30.090047</td>\n",
       "    </tr>\n",
       "    <tr>\n",
       "      <th>min</th>\n",
       "      <td>18.250000</td>\n",
       "    </tr>\n",
       "    <tr>\n",
       "      <th>25%</th>\n",
       "      <td>35.500000</td>\n",
       "    </tr>\n",
       "    <tr>\n",
       "      <th>50%</th>\n",
       "      <td>70.350000</td>\n",
       "    </tr>\n",
       "    <tr>\n",
       "      <th>75%</th>\n",
       "      <td>89.850000</td>\n",
       "    </tr>\n",
       "    <tr>\n",
       "      <th>max</th>\n",
       "      <td>118.750000</td>\n",
       "    </tr>\n",
       "  </tbody>\n",
       "</table>\n",
       "</div>"
      ],
      "text/plain": [
       "       MonthlyCharges\n",
       "count     7043.000000\n",
       "mean        64.761692\n",
       "std         30.090047\n",
       "min         18.250000\n",
       "25%         35.500000\n",
       "50%         70.350000\n",
       "75%         89.850000\n",
       "max        118.750000"
      ]
     },
     "metadata": {},
     "output_type": "display_data"
    },
    {
     "name": "stdout",
     "output_type": "stream",
     "text": [
      "Информация о датафрейме:\n",
      "<class 'pandas.core.frame.DataFrame'>\n",
      "RangeIndex: 7043 entries, 0 to 7042\n",
      "Data columns (total 8 columns):\n",
      " #   Column            Non-Null Count  Dtype  \n",
      "---  ------            --------------  -----  \n",
      " 0   customerID        7043 non-null   object \n",
      " 1   BeginDate         7043 non-null   object \n",
      " 2   EndDate           7043 non-null   object \n",
      " 3   Type              7043 non-null   object \n",
      " 4   PaperlessBilling  7043 non-null   object \n",
      " 5   PaymentMethod     7043 non-null   object \n",
      " 6   MonthlyCharges    7043 non-null   float64\n",
      " 7   TotalCharges      7043 non-null   object \n",
      "dtypes: float64(1), object(7)\n",
      "memory usage: 440.3+ KB\n"
     ]
    },
    {
     "data": {
      "text/plain": [
       "None"
      ]
     },
     "metadata": {},
     "output_type": "display_data"
    },
    {
     "name": "stdout",
     "output_type": "stream",
     "text": [
      "Количество пропусков:\n"
     ]
    },
    {
     "data": {
      "text/plain": [
       "customerID          0\n",
       "BeginDate           0\n",
       "EndDate             0\n",
       "Type                0\n",
       "PaperlessBilling    0\n",
       "PaymentMethod       0\n",
       "MonthlyCharges      0\n",
       "TotalCharges        0\n",
       "dtype: int64"
      ]
     },
     "metadata": {},
     "output_type": "display_data"
    }
   ],
   "source": [
    "view_data(contract_data)"
   ]
  },
  {
   "cell_type": "markdown",
   "metadata": {},
   "source": [
    "**Вывод**:\n",
    "* В данных нет пропусков;\n",
    "* Названия столбцов желательно привести к snake_case;\n",
    "* Столбцы BeginDate и EndDate необходимо конвертировать в datetime;\n",
    "* В случае, если значение в EndDate равняется No, необходимо его заменить на 01.02.2020 (так как клиент до сих пор пользуется услугами);\n",
    "* TotalCharges нужно конвертировать в float64;\n",
    "* К столбцам Type, PaperlessBilling и PaymentMethod необходимо применить OHE;"
   ]
  },
  {
   "cell_type": "markdown",
   "metadata": {},
   "source": [
    "### Персональные данные клиента"
   ]
  },
  {
   "cell_type": "code",
   "execution_count": 6,
   "metadata": {},
   "outputs": [
    {
     "name": "stdout",
     "output_type": "stream",
     "text": [
      "Общий вид датафрейма:\n"
     ]
    },
    {
     "data": {
      "text/html": [
       "<div>\n",
       "<style scoped>\n",
       "    .dataframe tbody tr th:only-of-type {\n",
       "        vertical-align: middle;\n",
       "    }\n",
       "\n",
       "    .dataframe tbody tr th {\n",
       "        vertical-align: top;\n",
       "    }\n",
       "\n",
       "    .dataframe thead th {\n",
       "        text-align: right;\n",
       "    }\n",
       "</style>\n",
       "<table border=\"1\" class=\"dataframe\">\n",
       "  <thead>\n",
       "    <tr style=\"text-align: right;\">\n",
       "      <th></th>\n",
       "      <th>customerID</th>\n",
       "      <th>gender</th>\n",
       "      <th>SeniorCitizen</th>\n",
       "      <th>Partner</th>\n",
       "      <th>Dependents</th>\n",
       "    </tr>\n",
       "  </thead>\n",
       "  <tbody>\n",
       "    <tr>\n",
       "      <th>0</th>\n",
       "      <td>7590-VHVEG</td>\n",
       "      <td>Female</td>\n",
       "      <td>0</td>\n",
       "      <td>Yes</td>\n",
       "      <td>No</td>\n",
       "    </tr>\n",
       "    <tr>\n",
       "      <th>1</th>\n",
       "      <td>5575-GNVDE</td>\n",
       "      <td>Male</td>\n",
       "      <td>0</td>\n",
       "      <td>No</td>\n",
       "      <td>No</td>\n",
       "    </tr>\n",
       "    <tr>\n",
       "      <th>2</th>\n",
       "      <td>3668-QPYBK</td>\n",
       "      <td>Male</td>\n",
       "      <td>0</td>\n",
       "      <td>No</td>\n",
       "      <td>No</td>\n",
       "    </tr>\n",
       "    <tr>\n",
       "      <th>3</th>\n",
       "      <td>7795-CFOCW</td>\n",
       "      <td>Male</td>\n",
       "      <td>0</td>\n",
       "      <td>No</td>\n",
       "      <td>No</td>\n",
       "    </tr>\n",
       "    <tr>\n",
       "      <th>4</th>\n",
       "      <td>9237-HQITU</td>\n",
       "      <td>Female</td>\n",
       "      <td>0</td>\n",
       "      <td>No</td>\n",
       "      <td>No</td>\n",
       "    </tr>\n",
       "  </tbody>\n",
       "</table>\n",
       "</div>"
      ],
      "text/plain": [
       "   customerID  gender  SeniorCitizen Partner Dependents\n",
       "0  7590-VHVEG  Female              0     Yes         No\n",
       "1  5575-GNVDE    Male              0      No         No\n",
       "2  3668-QPYBK    Male              0      No         No\n",
       "3  7795-CFOCW    Male              0      No         No\n",
       "4  9237-HQITU  Female              0      No         No"
      ]
     },
     "metadata": {},
     "output_type": "display_data"
    },
    {
     "name": "stdout",
     "output_type": "stream",
     "text": [
      "Описательная статистика:\n"
     ]
    },
    {
     "data": {
      "text/html": [
       "<div>\n",
       "<style scoped>\n",
       "    .dataframe tbody tr th:only-of-type {\n",
       "        vertical-align: middle;\n",
       "    }\n",
       "\n",
       "    .dataframe tbody tr th {\n",
       "        vertical-align: top;\n",
       "    }\n",
       "\n",
       "    .dataframe thead th {\n",
       "        text-align: right;\n",
       "    }\n",
       "</style>\n",
       "<table border=\"1\" class=\"dataframe\">\n",
       "  <thead>\n",
       "    <tr style=\"text-align: right;\">\n",
       "      <th></th>\n",
       "      <th>SeniorCitizen</th>\n",
       "    </tr>\n",
       "  </thead>\n",
       "  <tbody>\n",
       "    <tr>\n",
       "      <th>count</th>\n",
       "      <td>7043.000000</td>\n",
       "    </tr>\n",
       "    <tr>\n",
       "      <th>mean</th>\n",
       "      <td>0.162147</td>\n",
       "    </tr>\n",
       "    <tr>\n",
       "      <th>std</th>\n",
       "      <td>0.368612</td>\n",
       "    </tr>\n",
       "    <tr>\n",
       "      <th>min</th>\n",
       "      <td>0.000000</td>\n",
       "    </tr>\n",
       "    <tr>\n",
       "      <th>25%</th>\n",
       "      <td>0.000000</td>\n",
       "    </tr>\n",
       "    <tr>\n",
       "      <th>50%</th>\n",
       "      <td>0.000000</td>\n",
       "    </tr>\n",
       "    <tr>\n",
       "      <th>75%</th>\n",
       "      <td>0.000000</td>\n",
       "    </tr>\n",
       "    <tr>\n",
       "      <th>max</th>\n",
       "      <td>1.000000</td>\n",
       "    </tr>\n",
       "  </tbody>\n",
       "</table>\n",
       "</div>"
      ],
      "text/plain": [
       "       SeniorCitizen\n",
       "count    7043.000000\n",
       "mean        0.162147\n",
       "std         0.368612\n",
       "min         0.000000\n",
       "25%         0.000000\n",
       "50%         0.000000\n",
       "75%         0.000000\n",
       "max         1.000000"
      ]
     },
     "metadata": {},
     "output_type": "display_data"
    },
    {
     "name": "stdout",
     "output_type": "stream",
     "text": [
      "Информация о датафрейме:\n",
      "<class 'pandas.core.frame.DataFrame'>\n",
      "RangeIndex: 7043 entries, 0 to 7042\n",
      "Data columns (total 5 columns):\n",
      " #   Column         Non-Null Count  Dtype \n",
      "---  ------         --------------  ----- \n",
      " 0   customerID     7043 non-null   object\n",
      " 1   gender         7043 non-null   object\n",
      " 2   SeniorCitizen  7043 non-null   int64 \n",
      " 3   Partner        7043 non-null   object\n",
      " 4   Dependents     7043 non-null   object\n",
      "dtypes: int64(1), object(4)\n",
      "memory usage: 275.2+ KB\n"
     ]
    },
    {
     "data": {
      "text/plain": [
       "None"
      ]
     },
     "metadata": {},
     "output_type": "display_data"
    },
    {
     "name": "stdout",
     "output_type": "stream",
     "text": [
      "Количество пропусков:\n"
     ]
    },
    {
     "data": {
      "text/plain": [
       "customerID       0\n",
       "gender           0\n",
       "SeniorCitizen    0\n",
       "Partner          0\n",
       "Dependents       0\n",
       "dtype: int64"
      ]
     },
     "metadata": {},
     "output_type": "display_data"
    }
   ],
   "source": [
    "view_data(personal_data)"
   ]
  },
  {
   "cell_type": "markdown",
   "metadata": {},
   "source": [
    "**Вывод**:\n",
    "* В данных нет пропусков;\n",
    "* Названия столбцов желательно привести к snake_case;\n",
    "* К столбцам Gender, Partner и Dependents необходимо применить OHE;"
   ]
  },
  {
   "cell_type": "markdown",
   "metadata": {},
   "source": [
    "### Информация об интернет-услугах"
   ]
  },
  {
   "cell_type": "code",
   "execution_count": 7,
   "metadata": {},
   "outputs": [
    {
     "name": "stdout",
     "output_type": "stream",
     "text": [
      "Общий вид датафрейма:\n"
     ]
    },
    {
     "data": {
      "text/html": [
       "<div>\n",
       "<style scoped>\n",
       "    .dataframe tbody tr th:only-of-type {\n",
       "        vertical-align: middle;\n",
       "    }\n",
       "\n",
       "    .dataframe tbody tr th {\n",
       "        vertical-align: top;\n",
       "    }\n",
       "\n",
       "    .dataframe thead th {\n",
       "        text-align: right;\n",
       "    }\n",
       "</style>\n",
       "<table border=\"1\" class=\"dataframe\">\n",
       "  <thead>\n",
       "    <tr style=\"text-align: right;\">\n",
       "      <th></th>\n",
       "      <th>customerID</th>\n",
       "      <th>InternetService</th>\n",
       "      <th>OnlineSecurity</th>\n",
       "      <th>OnlineBackup</th>\n",
       "      <th>DeviceProtection</th>\n",
       "      <th>TechSupport</th>\n",
       "      <th>StreamingTV</th>\n",
       "      <th>StreamingMovies</th>\n",
       "    </tr>\n",
       "  </thead>\n",
       "  <tbody>\n",
       "    <tr>\n",
       "      <th>0</th>\n",
       "      <td>7590-VHVEG</td>\n",
       "      <td>DSL</td>\n",
       "      <td>No</td>\n",
       "      <td>Yes</td>\n",
       "      <td>No</td>\n",
       "      <td>No</td>\n",
       "      <td>No</td>\n",
       "      <td>No</td>\n",
       "    </tr>\n",
       "    <tr>\n",
       "      <th>1</th>\n",
       "      <td>5575-GNVDE</td>\n",
       "      <td>DSL</td>\n",
       "      <td>Yes</td>\n",
       "      <td>No</td>\n",
       "      <td>Yes</td>\n",
       "      <td>No</td>\n",
       "      <td>No</td>\n",
       "      <td>No</td>\n",
       "    </tr>\n",
       "    <tr>\n",
       "      <th>2</th>\n",
       "      <td>3668-QPYBK</td>\n",
       "      <td>DSL</td>\n",
       "      <td>Yes</td>\n",
       "      <td>Yes</td>\n",
       "      <td>No</td>\n",
       "      <td>No</td>\n",
       "      <td>No</td>\n",
       "      <td>No</td>\n",
       "    </tr>\n",
       "    <tr>\n",
       "      <th>3</th>\n",
       "      <td>7795-CFOCW</td>\n",
       "      <td>DSL</td>\n",
       "      <td>Yes</td>\n",
       "      <td>No</td>\n",
       "      <td>Yes</td>\n",
       "      <td>Yes</td>\n",
       "      <td>No</td>\n",
       "      <td>No</td>\n",
       "    </tr>\n",
       "    <tr>\n",
       "      <th>4</th>\n",
       "      <td>9237-HQITU</td>\n",
       "      <td>Fiber optic</td>\n",
       "      <td>No</td>\n",
       "      <td>No</td>\n",
       "      <td>No</td>\n",
       "      <td>No</td>\n",
       "      <td>No</td>\n",
       "      <td>No</td>\n",
       "    </tr>\n",
       "  </tbody>\n",
       "</table>\n",
       "</div>"
      ],
      "text/plain": [
       "   customerID InternetService OnlineSecurity OnlineBackup DeviceProtection  \\\n",
       "0  7590-VHVEG             DSL             No          Yes               No   \n",
       "1  5575-GNVDE             DSL            Yes           No              Yes   \n",
       "2  3668-QPYBK             DSL            Yes          Yes               No   \n",
       "3  7795-CFOCW             DSL            Yes           No              Yes   \n",
       "4  9237-HQITU     Fiber optic             No           No               No   \n",
       "\n",
       "  TechSupport StreamingTV StreamingMovies  \n",
       "0          No          No              No  \n",
       "1          No          No              No  \n",
       "2          No          No              No  \n",
       "3         Yes          No              No  \n",
       "4          No          No              No  "
      ]
     },
     "metadata": {},
     "output_type": "display_data"
    },
    {
     "name": "stdout",
     "output_type": "stream",
     "text": [
      "Описательная статистика:\n"
     ]
    },
    {
     "data": {
      "text/html": [
       "<div>\n",
       "<style scoped>\n",
       "    .dataframe tbody tr th:only-of-type {\n",
       "        vertical-align: middle;\n",
       "    }\n",
       "\n",
       "    .dataframe tbody tr th {\n",
       "        vertical-align: top;\n",
       "    }\n",
       "\n",
       "    .dataframe thead th {\n",
       "        text-align: right;\n",
       "    }\n",
       "</style>\n",
       "<table border=\"1\" class=\"dataframe\">\n",
       "  <thead>\n",
       "    <tr style=\"text-align: right;\">\n",
       "      <th></th>\n",
       "      <th>customerID</th>\n",
       "      <th>InternetService</th>\n",
       "      <th>OnlineSecurity</th>\n",
       "      <th>OnlineBackup</th>\n",
       "      <th>DeviceProtection</th>\n",
       "      <th>TechSupport</th>\n",
       "      <th>StreamingTV</th>\n",
       "      <th>StreamingMovies</th>\n",
       "    </tr>\n",
       "  </thead>\n",
       "  <tbody>\n",
       "    <tr>\n",
       "      <th>count</th>\n",
       "      <td>5517</td>\n",
       "      <td>5517</td>\n",
       "      <td>5517</td>\n",
       "      <td>5517</td>\n",
       "      <td>5517</td>\n",
       "      <td>5517</td>\n",
       "      <td>5517</td>\n",
       "      <td>5517</td>\n",
       "    </tr>\n",
       "    <tr>\n",
       "      <th>unique</th>\n",
       "      <td>5517</td>\n",
       "      <td>2</td>\n",
       "      <td>2</td>\n",
       "      <td>2</td>\n",
       "      <td>2</td>\n",
       "      <td>2</td>\n",
       "      <td>2</td>\n",
       "      <td>2</td>\n",
       "    </tr>\n",
       "    <tr>\n",
       "      <th>top</th>\n",
       "      <td>8824-RWFXJ</td>\n",
       "      <td>Fiber optic</td>\n",
       "      <td>No</td>\n",
       "      <td>No</td>\n",
       "      <td>No</td>\n",
       "      <td>No</td>\n",
       "      <td>No</td>\n",
       "      <td>No</td>\n",
       "    </tr>\n",
       "    <tr>\n",
       "      <th>freq</th>\n",
       "      <td>1</td>\n",
       "      <td>3096</td>\n",
       "      <td>3498</td>\n",
       "      <td>3088</td>\n",
       "      <td>3095</td>\n",
       "      <td>3473</td>\n",
       "      <td>2810</td>\n",
       "      <td>2785</td>\n",
       "    </tr>\n",
       "  </tbody>\n",
       "</table>\n",
       "</div>"
      ],
      "text/plain": [
       "        customerID InternetService OnlineSecurity OnlineBackup  \\\n",
       "count         5517            5517           5517         5517   \n",
       "unique        5517               2              2            2   \n",
       "top     8824-RWFXJ     Fiber optic             No           No   \n",
       "freq             1            3096           3498         3088   \n",
       "\n",
       "       DeviceProtection TechSupport StreamingTV StreamingMovies  \n",
       "count              5517        5517        5517            5517  \n",
       "unique                2           2           2               2  \n",
       "top                  No          No          No              No  \n",
       "freq               3095        3473        2810            2785  "
      ]
     },
     "metadata": {},
     "output_type": "display_data"
    },
    {
     "name": "stdout",
     "output_type": "stream",
     "text": [
      "Информация о датафрейме:\n",
      "<class 'pandas.core.frame.DataFrame'>\n",
      "RangeIndex: 5517 entries, 0 to 5516\n",
      "Data columns (total 8 columns):\n",
      " #   Column            Non-Null Count  Dtype \n",
      "---  ------            --------------  ----- \n",
      " 0   customerID        5517 non-null   object\n",
      " 1   InternetService   5517 non-null   object\n",
      " 2   OnlineSecurity    5517 non-null   object\n",
      " 3   OnlineBackup      5517 non-null   object\n",
      " 4   DeviceProtection  5517 non-null   object\n",
      " 5   TechSupport       5517 non-null   object\n",
      " 6   StreamingTV       5517 non-null   object\n",
      " 7   StreamingMovies   5517 non-null   object\n",
      "dtypes: object(8)\n",
      "memory usage: 344.9+ KB\n"
     ]
    },
    {
     "data": {
      "text/plain": [
       "None"
      ]
     },
     "metadata": {},
     "output_type": "display_data"
    },
    {
     "name": "stdout",
     "output_type": "stream",
     "text": [
      "Количество пропусков:\n"
     ]
    },
    {
     "data": {
      "text/plain": [
       "customerID          0\n",
       "InternetService     0\n",
       "OnlineSecurity      0\n",
       "OnlineBackup        0\n",
       "DeviceProtection    0\n",
       "TechSupport         0\n",
       "StreamingTV         0\n",
       "StreamingMovies     0\n",
       "dtype: int64"
      ]
     },
     "metadata": {},
     "output_type": "display_data"
    }
   ],
   "source": [
    "view_data(internet_data)"
   ]
  },
  {
   "cell_type": "markdown",
   "metadata": {},
   "source": [
    "**Вывод**:\n",
    "* В данных нет пропусков;\n",
    "* Названия столбцов желательно привести к snake_case;\n",
    "* Ко всем столбцам, кроме customerID, необходимо применить OHE;"
   ]
  },
  {
   "cell_type": "markdown",
   "metadata": {},
   "source": [
    "### Информация об услугах телефонии"
   ]
  },
  {
   "cell_type": "code",
   "execution_count": 8,
   "metadata": {},
   "outputs": [
    {
     "name": "stdout",
     "output_type": "stream",
     "text": [
      "Общий вид датафрейма:\n"
     ]
    },
    {
     "data": {
      "text/html": [
       "<div>\n",
       "<style scoped>\n",
       "    .dataframe tbody tr th:only-of-type {\n",
       "        vertical-align: middle;\n",
       "    }\n",
       "\n",
       "    .dataframe tbody tr th {\n",
       "        vertical-align: top;\n",
       "    }\n",
       "\n",
       "    .dataframe thead th {\n",
       "        text-align: right;\n",
       "    }\n",
       "</style>\n",
       "<table border=\"1\" class=\"dataframe\">\n",
       "  <thead>\n",
       "    <tr style=\"text-align: right;\">\n",
       "      <th></th>\n",
       "      <th>customerID</th>\n",
       "      <th>MultipleLines</th>\n",
       "    </tr>\n",
       "  </thead>\n",
       "  <tbody>\n",
       "    <tr>\n",
       "      <th>0</th>\n",
       "      <td>5575-GNVDE</td>\n",
       "      <td>No</td>\n",
       "    </tr>\n",
       "    <tr>\n",
       "      <th>1</th>\n",
       "      <td>3668-QPYBK</td>\n",
       "      <td>No</td>\n",
       "    </tr>\n",
       "    <tr>\n",
       "      <th>2</th>\n",
       "      <td>9237-HQITU</td>\n",
       "      <td>No</td>\n",
       "    </tr>\n",
       "    <tr>\n",
       "      <th>3</th>\n",
       "      <td>9305-CDSKC</td>\n",
       "      <td>Yes</td>\n",
       "    </tr>\n",
       "    <tr>\n",
       "      <th>4</th>\n",
       "      <td>1452-KIOVK</td>\n",
       "      <td>Yes</td>\n",
       "    </tr>\n",
       "  </tbody>\n",
       "</table>\n",
       "</div>"
      ],
      "text/plain": [
       "   customerID MultipleLines\n",
       "0  5575-GNVDE            No\n",
       "1  3668-QPYBK            No\n",
       "2  9237-HQITU            No\n",
       "3  9305-CDSKC           Yes\n",
       "4  1452-KIOVK           Yes"
      ]
     },
     "metadata": {},
     "output_type": "display_data"
    },
    {
     "name": "stdout",
     "output_type": "stream",
     "text": [
      "Описательная статистика:\n"
     ]
    },
    {
     "data": {
      "text/html": [
       "<div>\n",
       "<style scoped>\n",
       "    .dataframe tbody tr th:only-of-type {\n",
       "        vertical-align: middle;\n",
       "    }\n",
       "\n",
       "    .dataframe tbody tr th {\n",
       "        vertical-align: top;\n",
       "    }\n",
       "\n",
       "    .dataframe thead th {\n",
       "        text-align: right;\n",
       "    }\n",
       "</style>\n",
       "<table border=\"1\" class=\"dataframe\">\n",
       "  <thead>\n",
       "    <tr style=\"text-align: right;\">\n",
       "      <th></th>\n",
       "      <th>customerID</th>\n",
       "      <th>MultipleLines</th>\n",
       "    </tr>\n",
       "  </thead>\n",
       "  <tbody>\n",
       "    <tr>\n",
       "      <th>count</th>\n",
       "      <td>6361</td>\n",
       "      <td>6361</td>\n",
       "    </tr>\n",
       "    <tr>\n",
       "      <th>unique</th>\n",
       "      <td>6361</td>\n",
       "      <td>2</td>\n",
       "    </tr>\n",
       "    <tr>\n",
       "      <th>top</th>\n",
       "      <td>8824-RWFXJ</td>\n",
       "      <td>No</td>\n",
       "    </tr>\n",
       "    <tr>\n",
       "      <th>freq</th>\n",
       "      <td>1</td>\n",
       "      <td>3390</td>\n",
       "    </tr>\n",
       "  </tbody>\n",
       "</table>\n",
       "</div>"
      ],
      "text/plain": [
       "        customerID MultipleLines\n",
       "count         6361          6361\n",
       "unique        6361             2\n",
       "top     8824-RWFXJ            No\n",
       "freq             1          3390"
      ]
     },
     "metadata": {},
     "output_type": "display_data"
    },
    {
     "name": "stdout",
     "output_type": "stream",
     "text": [
      "Информация о датафрейме:\n",
      "<class 'pandas.core.frame.DataFrame'>\n",
      "RangeIndex: 6361 entries, 0 to 6360\n",
      "Data columns (total 2 columns):\n",
      " #   Column         Non-Null Count  Dtype \n",
      "---  ------         --------------  ----- \n",
      " 0   customerID     6361 non-null   object\n",
      " 1   MultipleLines  6361 non-null   object\n",
      "dtypes: object(2)\n",
      "memory usage: 99.5+ KB\n"
     ]
    },
    {
     "data": {
      "text/plain": [
       "None"
      ]
     },
     "metadata": {},
     "output_type": "display_data"
    },
    {
     "name": "stdout",
     "output_type": "stream",
     "text": [
      "Количество пропусков:\n"
     ]
    },
    {
     "data": {
      "text/plain": [
       "customerID       0\n",
       "MultipleLines    0\n",
       "dtype: int64"
      ]
     },
     "metadata": {},
     "output_type": "display_data"
    }
   ],
   "source": [
    "view_data(phone_data)"
   ]
  },
  {
   "cell_type": "markdown",
   "metadata": {},
   "source": [
    "**Вывод**:\n",
    "* В данных нет пропусков;\n",
    "* Названия столбцов желательно привести к snake_case;\n",
    "* К столбцу MultipleLines необходимо применить OHE;"
   ]
  },
  {
   "cell_type": "markdown",
   "metadata": {},
   "source": [
    "### Вопросы"
   ]
  },
  {
   "cell_type": "markdown",
   "metadata": {},
   "source": [
    "* Какую метрику использовать для оценки моделей?\n",
    "* Какое знчение целевой метрики является удовлетворительным?"
   ]
  },
  {
   "cell_type": "markdown",
   "metadata": {},
   "source": [
    "### План работы"
   ]
  },
  {
   "cell_type": "markdown",
   "metadata": {},
   "source": [
    "* **Предобработка данных на основе полученной информации**.\n",
    "\n",
    "Переименование столбцов к snake_case. Объединение данных из разных файлов, путем сопоставления их по общему идентификатору клиента.\n",
    "\n",
    "* **Изучение данных**. \n",
    "\n",
    "Более детальный анализ данных в каждом из приложенных файлов. Выделение важных признаков и удаление ненужных.\n",
    "\n",
    "* **Подбор лучшей модели**. \n",
    "\n",
    "Преобразование категориальных признаков в числовые при помощи техники кодирования OHE. Построение нескольких моделей машинного обучения, таких как логистическая регрессия, случайный лес или градиентный бустинг. Настройка гиперпараметров моделей для достижения наилучшего результата. Сравнение их производительности на основе целевой метрики оценивания. \n",
    "* **Вывод**.\n",
    "\n",
    "Анализ полученных результатов, подведение итогов работы, описание возникших сложностей и проблем."
   ]
  },
  {
   "cell_type": "markdown",
   "metadata": {},
   "source": [
    "## Предобработка данных"
   ]
  },
  {
   "cell_type": "code",
   "execution_count": 9,
   "metadata": {},
   "outputs": [
    {
     "data": {
      "text/plain": [
       "['customer_id',\n",
       " 'begin_date',\n",
       " 'end_date',\n",
       " 'type',\n",
       " 'paperless_billing',\n",
       " 'payment_method',\n",
       " 'monthly_charges',\n",
       " 'total_charges']"
      ]
     },
     "execution_count": 9,
     "metadata": {},
     "output_type": "execute_result"
    }
   ],
   "source": [
    "contract_data.rename(columns=snake_case, inplace=True)\n",
    "list(contract_data.columns)"
   ]
  },
  {
   "cell_type": "code",
   "execution_count": 10,
   "metadata": {},
   "outputs": [
    {
     "data": {
      "text/plain": [
       "['customer_id', 'gender', 'senior_citizen', 'partner', 'dependents']"
      ]
     },
     "execution_count": 10,
     "metadata": {},
     "output_type": "execute_result"
    }
   ],
   "source": [
    "personal_data.rename(columns=snake_case, inplace=True)\n",
    "list(personal_data.columns)"
   ]
  },
  {
   "cell_type": "code",
   "execution_count": 11,
   "metadata": {},
   "outputs": [
    {
     "data": {
      "text/plain": [
       "['customer_id',\n",
       " 'internet_service',\n",
       " 'online_security',\n",
       " 'online_backup',\n",
       " 'device_protection',\n",
       " 'tech_support',\n",
       " 'streaming_tv',\n",
       " 'streaming_movies']"
      ]
     },
     "execution_count": 11,
     "metadata": {},
     "output_type": "execute_result"
    }
   ],
   "source": [
    "internet_data.rename(columns=snake_case, inplace=True)\n",
    "list(internet_data.columns)"
   ]
  },
  {
   "cell_type": "code",
   "execution_count": 12,
   "metadata": {},
   "outputs": [
    {
     "data": {
      "text/plain": [
       "['customer_id', 'multiple_lines']"
      ]
     },
     "execution_count": 12,
     "metadata": {},
     "output_type": "execute_result"
    }
   ],
   "source": [
    "phone_data.rename(columns=snake_case, inplace=True)\n",
    "list(phone_data.columns)"
   ]
  },
  {
   "cell_type": "markdown",
   "metadata": {},
   "source": [
    "Приведение названий столбцов датафреймов к snake_case."
   ]
  },
  {
   "cell_type": "code",
   "execution_count": 13,
   "metadata": {},
   "outputs": [
    {
     "data": {
      "text/html": [
       "<div>\n",
       "<style scoped>\n",
       "    .dataframe tbody tr th:only-of-type {\n",
       "        vertical-align: middle;\n",
       "    }\n",
       "\n",
       "    .dataframe tbody tr th {\n",
       "        vertical-align: top;\n",
       "    }\n",
       "\n",
       "    .dataframe thead th {\n",
       "        text-align: right;\n",
       "    }\n",
       "</style>\n",
       "<table border=\"1\" class=\"dataframe\">\n",
       "  <thead>\n",
       "    <tr style=\"text-align: right;\">\n",
       "      <th></th>\n",
       "      <th>customer_id</th>\n",
       "      <th>begin_date</th>\n",
       "      <th>end_date</th>\n",
       "      <th>type</th>\n",
       "      <th>paperless_billing</th>\n",
       "      <th>payment_method</th>\n",
       "      <th>monthly_charges</th>\n",
       "      <th>total_charges</th>\n",
       "      <th>churn</th>\n",
       "    </tr>\n",
       "  </thead>\n",
       "  <tbody>\n",
       "    <tr>\n",
       "      <th>0</th>\n",
       "      <td>7590-VHVEG</td>\n",
       "      <td>2020-01-01</td>\n",
       "      <td>No</td>\n",
       "      <td>Month-to-month</td>\n",
       "      <td>Yes</td>\n",
       "      <td>Electronic check</td>\n",
       "      <td>29.85</td>\n",
       "      <td>31.04</td>\n",
       "      <td>0</td>\n",
       "    </tr>\n",
       "    <tr>\n",
       "      <th>1</th>\n",
       "      <td>5575-GNVDE</td>\n",
       "      <td>2017-04-01</td>\n",
       "      <td>No</td>\n",
       "      <td>One year</td>\n",
       "      <td>No</td>\n",
       "      <td>Mailed check</td>\n",
       "      <td>56.95</td>\n",
       "      <td>2071.84</td>\n",
       "      <td>0</td>\n",
       "    </tr>\n",
       "    <tr>\n",
       "      <th>2</th>\n",
       "      <td>3668-QPYBK</td>\n",
       "      <td>2019-10-01</td>\n",
       "      <td>No</td>\n",
       "      <td>Month-to-month</td>\n",
       "      <td>Yes</td>\n",
       "      <td>Mailed check</td>\n",
       "      <td>53.85</td>\n",
       "      <td>226.17</td>\n",
       "      <td>0</td>\n",
       "    </tr>\n",
       "    <tr>\n",
       "      <th>3</th>\n",
       "      <td>7795-CFOCW</td>\n",
       "      <td>2016-05-01</td>\n",
       "      <td>No</td>\n",
       "      <td>One year</td>\n",
       "      <td>No</td>\n",
       "      <td>Bank transfer (automatic)</td>\n",
       "      <td>42.30</td>\n",
       "      <td>1960.6</td>\n",
       "      <td>0</td>\n",
       "    </tr>\n",
       "    <tr>\n",
       "      <th>4</th>\n",
       "      <td>9237-HQITU</td>\n",
       "      <td>2019-09-01</td>\n",
       "      <td>No</td>\n",
       "      <td>Month-to-month</td>\n",
       "      <td>Yes</td>\n",
       "      <td>Electronic check</td>\n",
       "      <td>70.70</td>\n",
       "      <td>353.5</td>\n",
       "      <td>0</td>\n",
       "    </tr>\n",
       "  </tbody>\n",
       "</table>\n",
       "</div>"
      ],
      "text/plain": [
       "  customer_id  begin_date end_date            type paperless_billing  \\\n",
       "0  7590-VHVEG  2020-01-01       No  Month-to-month               Yes   \n",
       "1  5575-GNVDE  2017-04-01       No        One year                No   \n",
       "2  3668-QPYBK  2019-10-01       No  Month-to-month               Yes   \n",
       "3  7795-CFOCW  2016-05-01       No        One year                No   \n",
       "4  9237-HQITU  2019-09-01       No  Month-to-month               Yes   \n",
       "\n",
       "              payment_method  monthly_charges total_charges  churn  \n",
       "0           Electronic check            29.85         31.04      0  \n",
       "1               Mailed check            56.95       2071.84      0  \n",
       "2               Mailed check            53.85        226.17      0  \n",
       "3  Bank transfer (automatic)            42.30        1960.6      0  \n",
       "4           Electronic check            70.70         353.5      0  "
      ]
     },
     "execution_count": 13,
     "metadata": {},
     "output_type": "execute_result"
    }
   ],
   "source": [
    "contract_data['churn'] = (contract_data['end_date'] != 'No').astype(int)\n",
    "contract_data.head()"
   ]
  },
  {
   "cell_type": "markdown",
   "metadata": {},
   "source": [
    "Добавление целевого признака churn. Если пользователь закончил пользоваться услугами, целевой признак равен одному, иначе - нулю."
   ]
  },
  {
   "cell_type": "code",
   "execution_count": 14,
   "metadata": {},
   "outputs": [
    {
     "data": {
      "text/html": [
       "<div>\n",
       "<style scoped>\n",
       "    .dataframe tbody tr th:only-of-type {\n",
       "        vertical-align: middle;\n",
       "    }\n",
       "\n",
       "    .dataframe tbody tr th {\n",
       "        vertical-align: top;\n",
       "    }\n",
       "\n",
       "    .dataframe thead th {\n",
       "        text-align: right;\n",
       "    }\n",
       "</style>\n",
       "<table border=\"1\" class=\"dataframe\">\n",
       "  <thead>\n",
       "    <tr style=\"text-align: right;\">\n",
       "      <th></th>\n",
       "      <th>customer_id</th>\n",
       "      <th>begin_date</th>\n",
       "      <th>end_date</th>\n",
       "      <th>type</th>\n",
       "      <th>paperless_billing</th>\n",
       "      <th>payment_method</th>\n",
       "      <th>monthly_charges</th>\n",
       "      <th>total_charges</th>\n",
       "      <th>churn</th>\n",
       "    </tr>\n",
       "  </thead>\n",
       "  <tbody>\n",
       "    <tr>\n",
       "      <th>0</th>\n",
       "      <td>7590-VHVEG</td>\n",
       "      <td>2020-01-01</td>\n",
       "      <td>2020-02-01</td>\n",
       "      <td>Month-to-month</td>\n",
       "      <td>Yes</td>\n",
       "      <td>Electronic check</td>\n",
       "      <td>29.85</td>\n",
       "      <td>31.04</td>\n",
       "      <td>0</td>\n",
       "    </tr>\n",
       "    <tr>\n",
       "      <th>1</th>\n",
       "      <td>5575-GNVDE</td>\n",
       "      <td>2017-04-01</td>\n",
       "      <td>2020-02-01</td>\n",
       "      <td>One year</td>\n",
       "      <td>No</td>\n",
       "      <td>Mailed check</td>\n",
       "      <td>56.95</td>\n",
       "      <td>2071.84</td>\n",
       "      <td>0</td>\n",
       "    </tr>\n",
       "    <tr>\n",
       "      <th>2</th>\n",
       "      <td>3668-QPYBK</td>\n",
       "      <td>2019-10-01</td>\n",
       "      <td>2020-02-01</td>\n",
       "      <td>Month-to-month</td>\n",
       "      <td>Yes</td>\n",
       "      <td>Mailed check</td>\n",
       "      <td>53.85</td>\n",
       "      <td>226.17</td>\n",
       "      <td>0</td>\n",
       "    </tr>\n",
       "    <tr>\n",
       "      <th>3</th>\n",
       "      <td>7795-CFOCW</td>\n",
       "      <td>2016-05-01</td>\n",
       "      <td>2020-02-01</td>\n",
       "      <td>One year</td>\n",
       "      <td>No</td>\n",
       "      <td>Bank transfer (automatic)</td>\n",
       "      <td>42.30</td>\n",
       "      <td>1960.6</td>\n",
       "      <td>0</td>\n",
       "    </tr>\n",
       "    <tr>\n",
       "      <th>4</th>\n",
       "      <td>9237-HQITU</td>\n",
       "      <td>2019-09-01</td>\n",
       "      <td>2020-02-01</td>\n",
       "      <td>Month-to-month</td>\n",
       "      <td>Yes</td>\n",
       "      <td>Electronic check</td>\n",
       "      <td>70.70</td>\n",
       "      <td>353.5</td>\n",
       "      <td>0</td>\n",
       "    </tr>\n",
       "  </tbody>\n",
       "</table>\n",
       "</div>"
      ],
      "text/plain": [
       "  customer_id  begin_date    end_date            type paperless_billing  \\\n",
       "0  7590-VHVEG  2020-01-01  2020-02-01  Month-to-month               Yes   \n",
       "1  5575-GNVDE  2017-04-01  2020-02-01        One year                No   \n",
       "2  3668-QPYBK  2019-10-01  2020-02-01  Month-to-month               Yes   \n",
       "3  7795-CFOCW  2016-05-01  2020-02-01        One year                No   \n",
       "4  9237-HQITU  2019-09-01  2020-02-01  Month-to-month               Yes   \n",
       "\n",
       "              payment_method  monthly_charges total_charges  churn  \n",
       "0           Electronic check            29.85         31.04      0  \n",
       "1               Mailed check            56.95       2071.84      0  \n",
       "2               Mailed check            53.85        226.17      0  \n",
       "3  Bank transfer (automatic)            42.30        1960.6      0  \n",
       "4           Electronic check            70.70         353.5      0  "
      ]
     },
     "execution_count": 14,
     "metadata": {},
     "output_type": "execute_result"
    }
   ],
   "source": [
    "contract_data['end_date'] = contract_data['end_date'].replace(['No'], ['2020-02-01'])\n",
    "contract_data.head()"
   ]
  },
  {
   "cell_type": "markdown",
   "metadata": {},
   "source": [
    "Заменяем значения в столбце end_date на дату '2020-02-01', если пользователь не закончил пользоваться услугами."
   ]
  },
  {
   "cell_type": "code",
   "execution_count": 15,
   "metadata": {},
   "outputs": [
    {
     "name": "stdout",
     "output_type": "stream",
     "text": [
      "<class 'pandas.core.frame.DataFrame'>\n",
      "RangeIndex: 7043 entries, 0 to 7042\n",
      "Data columns (total 9 columns):\n",
      " #   Column             Non-Null Count  Dtype         \n",
      "---  ------             --------------  -----         \n",
      " 0   customer_id        7043 non-null   object        \n",
      " 1   begin_date         7043 non-null   datetime64[ns]\n",
      " 2   end_date           7043 non-null   datetime64[ns]\n",
      " 3   type               7043 non-null   object        \n",
      " 4   paperless_billing  7043 non-null   object        \n",
      " 5   payment_method     7043 non-null   object        \n",
      " 6   monthly_charges    7043 non-null   float64       \n",
      " 7   total_charges      7043 non-null   object        \n",
      " 8   churn              7043 non-null   int64         \n",
      "dtypes: datetime64[ns](2), float64(1), int64(1), object(5)\n",
      "memory usage: 495.3+ KB\n"
     ]
    }
   ],
   "source": [
    "for col in ['begin_date', 'end_date']:\n",
    "    contract_data[col] = pd.to_datetime(contract_data[col], format='%Y-%m-%d')\n",
    "\n",
    "contract_data.info()"
   ]
  },
  {
   "cell_type": "markdown",
   "metadata": {},
   "source": [
    "Конвертация begin_date и end_date в datetime."
   ]
  },
  {
   "cell_type": "code",
   "execution_count": 16,
   "metadata": {},
   "outputs": [],
   "source": [
    "contract_data['total_days'] = (contract_data['end_date'] - contract_data['begin_date']).dt.days"
   ]
  },
  {
   "cell_type": "markdown",
   "metadata": {},
   "source": [
    "Новый признак total_days, показывающий то, сколько человек пользовался услугами оператора."
   ]
  },
  {
   "cell_type": "code",
   "execution_count": 17,
   "metadata": {},
   "outputs": [
    {
     "name": "stdout",
     "output_type": "stream",
     "text": [
      "<class 'pandas.core.frame.DataFrame'>\n",
      "RangeIndex: 7043 entries, 0 to 7042\n",
      "Data columns (total 10 columns):\n",
      " #   Column             Non-Null Count  Dtype         \n",
      "---  ------             --------------  -----         \n",
      " 0   customer_id        7043 non-null   object        \n",
      " 1   begin_date         7043 non-null   datetime64[ns]\n",
      " 2   end_date           7043 non-null   datetime64[ns]\n",
      " 3   type               7043 non-null   object        \n",
      " 4   paperless_billing  7043 non-null   object        \n",
      " 5   payment_method     7043 non-null   object        \n",
      " 6   monthly_charges    7043 non-null   float64       \n",
      " 7   total_charges      7032 non-null   float64       \n",
      " 8   churn              7043 non-null   int64         \n",
      " 9   total_days         7043 non-null   int64         \n",
      "dtypes: datetime64[ns](2), float64(2), int64(2), object(4)\n",
      "memory usage: 550.4+ KB\n"
     ]
    }
   ],
   "source": [
    "contract_data['total_charges'] = pd.to_numeric(contract_data['total_charges'], errors ='coerce')\n",
    "contract_data.info()"
   ]
  },
  {
   "cell_type": "markdown",
   "metadata": {},
   "source": [
    "Приведение столбца total_charges к числовому типу."
   ]
  },
  {
   "cell_type": "code",
   "execution_count": 18,
   "metadata": {},
   "outputs": [
    {
     "data": {
      "text/plain": [
       "customer_id           0\n",
       "begin_date            0\n",
       "end_date              0\n",
       "type                  0\n",
       "paperless_billing     0\n",
       "payment_method        0\n",
       "monthly_charges       0\n",
       "total_charges        11\n",
       "churn                 0\n",
       "total_days            0\n",
       "dtype: int64"
      ]
     },
     "execution_count": 18,
     "metadata": {},
     "output_type": "execute_result"
    }
   ],
   "source": [
    "contract_data.isnull().sum()"
   ]
  },
  {
   "cell_type": "markdown",
   "metadata": {},
   "source": [
    "После приведения к числовому типу появились пропуски."
   ]
  },
  {
   "cell_type": "code",
   "execution_count": 19,
   "metadata": {},
   "outputs": [
    {
     "data": {
      "text/html": [
       "<div>\n",
       "<style scoped>\n",
       "    .dataframe tbody tr th:only-of-type {\n",
       "        vertical-align: middle;\n",
       "    }\n",
       "\n",
       "    .dataframe tbody tr th {\n",
       "        vertical-align: top;\n",
       "    }\n",
       "\n",
       "    .dataframe thead th {\n",
       "        text-align: right;\n",
       "    }\n",
       "</style>\n",
       "<table border=\"1\" class=\"dataframe\">\n",
       "  <thead>\n",
       "    <tr style=\"text-align: right;\">\n",
       "      <th></th>\n",
       "      <th>customer_id</th>\n",
       "      <th>begin_date</th>\n",
       "      <th>end_date</th>\n",
       "      <th>type</th>\n",
       "      <th>paperless_billing</th>\n",
       "      <th>payment_method</th>\n",
       "      <th>monthly_charges</th>\n",
       "      <th>total_charges</th>\n",
       "      <th>churn</th>\n",
       "      <th>total_days</th>\n",
       "    </tr>\n",
       "  </thead>\n",
       "  <tbody>\n",
       "    <tr>\n",
       "      <th>488</th>\n",
       "      <td>4472-LVYGI</td>\n",
       "      <td>2020-02-01</td>\n",
       "      <td>2020-02-01</td>\n",
       "      <td>Two year</td>\n",
       "      <td>Yes</td>\n",
       "      <td>Bank transfer (automatic)</td>\n",
       "      <td>52.55</td>\n",
       "      <td>NaN</td>\n",
       "      <td>0</td>\n",
       "      <td>0</td>\n",
       "    </tr>\n",
       "    <tr>\n",
       "      <th>753</th>\n",
       "      <td>3115-CZMZD</td>\n",
       "      <td>2020-02-01</td>\n",
       "      <td>2020-02-01</td>\n",
       "      <td>Two year</td>\n",
       "      <td>No</td>\n",
       "      <td>Mailed check</td>\n",
       "      <td>20.25</td>\n",
       "      <td>NaN</td>\n",
       "      <td>0</td>\n",
       "      <td>0</td>\n",
       "    </tr>\n",
       "    <tr>\n",
       "      <th>936</th>\n",
       "      <td>5709-LVOEQ</td>\n",
       "      <td>2020-02-01</td>\n",
       "      <td>2020-02-01</td>\n",
       "      <td>Two year</td>\n",
       "      <td>No</td>\n",
       "      <td>Mailed check</td>\n",
       "      <td>80.85</td>\n",
       "      <td>NaN</td>\n",
       "      <td>0</td>\n",
       "      <td>0</td>\n",
       "    </tr>\n",
       "    <tr>\n",
       "      <th>1082</th>\n",
       "      <td>4367-NUYAO</td>\n",
       "      <td>2020-02-01</td>\n",
       "      <td>2020-02-01</td>\n",
       "      <td>Two year</td>\n",
       "      <td>No</td>\n",
       "      <td>Mailed check</td>\n",
       "      <td>25.75</td>\n",
       "      <td>NaN</td>\n",
       "      <td>0</td>\n",
       "      <td>0</td>\n",
       "    </tr>\n",
       "    <tr>\n",
       "      <th>1340</th>\n",
       "      <td>1371-DWPAZ</td>\n",
       "      <td>2020-02-01</td>\n",
       "      <td>2020-02-01</td>\n",
       "      <td>Two year</td>\n",
       "      <td>No</td>\n",
       "      <td>Credit card (automatic)</td>\n",
       "      <td>56.05</td>\n",
       "      <td>NaN</td>\n",
       "      <td>0</td>\n",
       "      <td>0</td>\n",
       "    </tr>\n",
       "    <tr>\n",
       "      <th>3331</th>\n",
       "      <td>7644-OMVMY</td>\n",
       "      <td>2020-02-01</td>\n",
       "      <td>2020-02-01</td>\n",
       "      <td>Two year</td>\n",
       "      <td>No</td>\n",
       "      <td>Mailed check</td>\n",
       "      <td>19.85</td>\n",
       "      <td>NaN</td>\n",
       "      <td>0</td>\n",
       "      <td>0</td>\n",
       "    </tr>\n",
       "    <tr>\n",
       "      <th>3826</th>\n",
       "      <td>3213-VVOLG</td>\n",
       "      <td>2020-02-01</td>\n",
       "      <td>2020-02-01</td>\n",
       "      <td>Two year</td>\n",
       "      <td>No</td>\n",
       "      <td>Mailed check</td>\n",
       "      <td>25.35</td>\n",
       "      <td>NaN</td>\n",
       "      <td>0</td>\n",
       "      <td>0</td>\n",
       "    </tr>\n",
       "    <tr>\n",
       "      <th>4380</th>\n",
       "      <td>2520-SGTTA</td>\n",
       "      <td>2020-02-01</td>\n",
       "      <td>2020-02-01</td>\n",
       "      <td>Two year</td>\n",
       "      <td>No</td>\n",
       "      <td>Mailed check</td>\n",
       "      <td>20.00</td>\n",
       "      <td>NaN</td>\n",
       "      <td>0</td>\n",
       "      <td>0</td>\n",
       "    </tr>\n",
       "    <tr>\n",
       "      <th>5218</th>\n",
       "      <td>2923-ARZLG</td>\n",
       "      <td>2020-02-01</td>\n",
       "      <td>2020-02-01</td>\n",
       "      <td>One year</td>\n",
       "      <td>Yes</td>\n",
       "      <td>Mailed check</td>\n",
       "      <td>19.70</td>\n",
       "      <td>NaN</td>\n",
       "      <td>0</td>\n",
       "      <td>0</td>\n",
       "    </tr>\n",
       "    <tr>\n",
       "      <th>6670</th>\n",
       "      <td>4075-WKNIU</td>\n",
       "      <td>2020-02-01</td>\n",
       "      <td>2020-02-01</td>\n",
       "      <td>Two year</td>\n",
       "      <td>No</td>\n",
       "      <td>Mailed check</td>\n",
       "      <td>73.35</td>\n",
       "      <td>NaN</td>\n",
       "      <td>0</td>\n",
       "      <td>0</td>\n",
       "    </tr>\n",
       "    <tr>\n",
       "      <th>6754</th>\n",
       "      <td>2775-SEFEE</td>\n",
       "      <td>2020-02-01</td>\n",
       "      <td>2020-02-01</td>\n",
       "      <td>Two year</td>\n",
       "      <td>Yes</td>\n",
       "      <td>Bank transfer (automatic)</td>\n",
       "      <td>61.90</td>\n",
       "      <td>NaN</td>\n",
       "      <td>0</td>\n",
       "      <td>0</td>\n",
       "    </tr>\n",
       "  </tbody>\n",
       "</table>\n",
       "</div>"
      ],
      "text/plain": [
       "     customer_id begin_date   end_date      type paperless_billing  \\\n",
       "488   4472-LVYGI 2020-02-01 2020-02-01  Two year               Yes   \n",
       "753   3115-CZMZD 2020-02-01 2020-02-01  Two year                No   \n",
       "936   5709-LVOEQ 2020-02-01 2020-02-01  Two year                No   \n",
       "1082  4367-NUYAO 2020-02-01 2020-02-01  Two year                No   \n",
       "1340  1371-DWPAZ 2020-02-01 2020-02-01  Two year                No   \n",
       "3331  7644-OMVMY 2020-02-01 2020-02-01  Two year                No   \n",
       "3826  3213-VVOLG 2020-02-01 2020-02-01  Two year                No   \n",
       "4380  2520-SGTTA 2020-02-01 2020-02-01  Two year                No   \n",
       "5218  2923-ARZLG 2020-02-01 2020-02-01  One year               Yes   \n",
       "6670  4075-WKNIU 2020-02-01 2020-02-01  Two year                No   \n",
       "6754  2775-SEFEE 2020-02-01 2020-02-01  Two year               Yes   \n",
       "\n",
       "                 payment_method  monthly_charges  total_charges  churn  \\\n",
       "488   Bank transfer (automatic)            52.55            NaN      0   \n",
       "753                Mailed check            20.25            NaN      0   \n",
       "936                Mailed check            80.85            NaN      0   \n",
       "1082               Mailed check            25.75            NaN      0   \n",
       "1340    Credit card (automatic)            56.05            NaN      0   \n",
       "3331               Mailed check            19.85            NaN      0   \n",
       "3826               Mailed check            25.35            NaN      0   \n",
       "4380               Mailed check            20.00            NaN      0   \n",
       "5218               Mailed check            19.70            NaN      0   \n",
       "6670               Mailed check            73.35            NaN      0   \n",
       "6754  Bank transfer (automatic)            61.90            NaN      0   \n",
       "\n",
       "      total_days  \n",
       "488            0  \n",
       "753            0  \n",
       "936            0  \n",
       "1082           0  \n",
       "1340           0  \n",
       "3331           0  \n",
       "3826           0  \n",
       "4380           0  \n",
       "5218           0  \n",
       "6670           0  \n",
       "6754           0  "
      ]
     },
     "execution_count": 19,
     "metadata": {},
     "output_type": "execute_result"
    }
   ],
   "source": [
    "contract_data[contract_data['total_charges'].isnull()]"
   ]
  },
  {
   "cell_type": "markdown",
   "metadata": {},
   "source": [
    "Пропуски в строках, где пользователь подключен всего-лишь один день. Заменим пропуски в столбце total_charges на нули."
   ]
  },
  {
   "cell_type": "code",
   "execution_count": 20,
   "metadata": {},
   "outputs": [
    {
     "data": {
      "text/plain": [
       "customer_id          0\n",
       "begin_date           0\n",
       "end_date             0\n",
       "type                 0\n",
       "paperless_billing    0\n",
       "payment_method       0\n",
       "monthly_charges      0\n",
       "total_charges        0\n",
       "churn                0\n",
       "total_days           0\n",
       "dtype: int64"
      ]
     },
     "execution_count": 20,
     "metadata": {},
     "output_type": "execute_result"
    }
   ],
   "source": [
    "contract_data['total_charges'] = contract_data['total_charges'].fillna(0)\n",
    "contract_data.isnull().sum()"
   ]
  },
  {
   "cell_type": "code",
   "execution_count": 21,
   "metadata": {},
   "outputs": [],
   "source": [
    "churn_data = contract_data \\\n",
    "    .merge(personal_data, how='left', on='customer_id') \\\n",
    "    .merge(internet_data, how='left', on='customer_id') \\\n",
    "    .merge(phone_data, how='left', on='customer_id') "
   ]
  },
  {
   "cell_type": "markdown",
   "metadata": {},
   "source": [
    "Соединяем датафреймы по столбцу customer_id."
   ]
  },
  {
   "cell_type": "code",
   "execution_count": 22,
   "metadata": {},
   "outputs": [
    {
     "name": "stdout",
     "output_type": "stream",
     "text": [
      "Общий вид датафрейма:\n"
     ]
    },
    {
     "data": {
      "text/html": [
       "<div>\n",
       "<style scoped>\n",
       "    .dataframe tbody tr th:only-of-type {\n",
       "        vertical-align: middle;\n",
       "    }\n",
       "\n",
       "    .dataframe tbody tr th {\n",
       "        vertical-align: top;\n",
       "    }\n",
       "\n",
       "    .dataframe thead th {\n",
       "        text-align: right;\n",
       "    }\n",
       "</style>\n",
       "<table border=\"1\" class=\"dataframe\">\n",
       "  <thead>\n",
       "    <tr style=\"text-align: right;\">\n",
       "      <th></th>\n",
       "      <th>begin_date</th>\n",
       "      <th>end_date</th>\n",
       "      <th>type</th>\n",
       "      <th>paperless_billing</th>\n",
       "      <th>payment_method</th>\n",
       "      <th>monthly_charges</th>\n",
       "      <th>total_charges</th>\n",
       "      <th>churn</th>\n",
       "      <th>total_days</th>\n",
       "      <th>gender</th>\n",
       "      <th>...</th>\n",
       "      <th>partner</th>\n",
       "      <th>dependents</th>\n",
       "      <th>internet_service</th>\n",
       "      <th>online_security</th>\n",
       "      <th>online_backup</th>\n",
       "      <th>device_protection</th>\n",
       "      <th>tech_support</th>\n",
       "      <th>streaming_tv</th>\n",
       "      <th>streaming_movies</th>\n",
       "      <th>multiple_lines</th>\n",
       "    </tr>\n",
       "    <tr>\n",
       "      <th>customer_id</th>\n",
       "      <th></th>\n",
       "      <th></th>\n",
       "      <th></th>\n",
       "      <th></th>\n",
       "      <th></th>\n",
       "      <th></th>\n",
       "      <th></th>\n",
       "      <th></th>\n",
       "      <th></th>\n",
       "      <th></th>\n",
       "      <th></th>\n",
       "      <th></th>\n",
       "      <th></th>\n",
       "      <th></th>\n",
       "      <th></th>\n",
       "      <th></th>\n",
       "      <th></th>\n",
       "      <th></th>\n",
       "      <th></th>\n",
       "      <th></th>\n",
       "      <th></th>\n",
       "    </tr>\n",
       "  </thead>\n",
       "  <tbody>\n",
       "    <tr>\n",
       "      <th>7590-VHVEG</th>\n",
       "      <td>2020-01-01</td>\n",
       "      <td>2020-02-01</td>\n",
       "      <td>Month-to-month</td>\n",
       "      <td>Yes</td>\n",
       "      <td>Electronic check</td>\n",
       "      <td>29.85</td>\n",
       "      <td>31.04</td>\n",
       "      <td>0</td>\n",
       "      <td>31</td>\n",
       "      <td>Female</td>\n",
       "      <td>...</td>\n",
       "      <td>Yes</td>\n",
       "      <td>No</td>\n",
       "      <td>DSL</td>\n",
       "      <td>No</td>\n",
       "      <td>Yes</td>\n",
       "      <td>No</td>\n",
       "      <td>No</td>\n",
       "      <td>No</td>\n",
       "      <td>No</td>\n",
       "      <td>NaN</td>\n",
       "    </tr>\n",
       "    <tr>\n",
       "      <th>5575-GNVDE</th>\n",
       "      <td>2017-04-01</td>\n",
       "      <td>2020-02-01</td>\n",
       "      <td>One year</td>\n",
       "      <td>No</td>\n",
       "      <td>Mailed check</td>\n",
       "      <td>56.95</td>\n",
       "      <td>2071.84</td>\n",
       "      <td>0</td>\n",
       "      <td>1036</td>\n",
       "      <td>Male</td>\n",
       "      <td>...</td>\n",
       "      <td>No</td>\n",
       "      <td>No</td>\n",
       "      <td>DSL</td>\n",
       "      <td>Yes</td>\n",
       "      <td>No</td>\n",
       "      <td>Yes</td>\n",
       "      <td>No</td>\n",
       "      <td>No</td>\n",
       "      <td>No</td>\n",
       "      <td>No</td>\n",
       "    </tr>\n",
       "    <tr>\n",
       "      <th>3668-QPYBK</th>\n",
       "      <td>2019-10-01</td>\n",
       "      <td>2020-02-01</td>\n",
       "      <td>Month-to-month</td>\n",
       "      <td>Yes</td>\n",
       "      <td>Mailed check</td>\n",
       "      <td>53.85</td>\n",
       "      <td>226.17</td>\n",
       "      <td>0</td>\n",
       "      <td>123</td>\n",
       "      <td>Male</td>\n",
       "      <td>...</td>\n",
       "      <td>No</td>\n",
       "      <td>No</td>\n",
       "      <td>DSL</td>\n",
       "      <td>Yes</td>\n",
       "      <td>Yes</td>\n",
       "      <td>No</td>\n",
       "      <td>No</td>\n",
       "      <td>No</td>\n",
       "      <td>No</td>\n",
       "      <td>No</td>\n",
       "    </tr>\n",
       "    <tr>\n",
       "      <th>7795-CFOCW</th>\n",
       "      <td>2016-05-01</td>\n",
       "      <td>2020-02-01</td>\n",
       "      <td>One year</td>\n",
       "      <td>No</td>\n",
       "      <td>Bank transfer (automatic)</td>\n",
       "      <td>42.30</td>\n",
       "      <td>1960.60</td>\n",
       "      <td>0</td>\n",
       "      <td>1371</td>\n",
       "      <td>Male</td>\n",
       "      <td>...</td>\n",
       "      <td>No</td>\n",
       "      <td>No</td>\n",
       "      <td>DSL</td>\n",
       "      <td>Yes</td>\n",
       "      <td>No</td>\n",
       "      <td>Yes</td>\n",
       "      <td>Yes</td>\n",
       "      <td>No</td>\n",
       "      <td>No</td>\n",
       "      <td>NaN</td>\n",
       "    </tr>\n",
       "    <tr>\n",
       "      <th>9237-HQITU</th>\n",
       "      <td>2019-09-01</td>\n",
       "      <td>2020-02-01</td>\n",
       "      <td>Month-to-month</td>\n",
       "      <td>Yes</td>\n",
       "      <td>Electronic check</td>\n",
       "      <td>70.70</td>\n",
       "      <td>353.50</td>\n",
       "      <td>0</td>\n",
       "      <td>153</td>\n",
       "      <td>Female</td>\n",
       "      <td>...</td>\n",
       "      <td>No</td>\n",
       "      <td>No</td>\n",
       "      <td>Fiber optic</td>\n",
       "      <td>No</td>\n",
       "      <td>No</td>\n",
       "      <td>No</td>\n",
       "      <td>No</td>\n",
       "      <td>No</td>\n",
       "      <td>No</td>\n",
       "      <td>No</td>\n",
       "    </tr>\n",
       "  </tbody>\n",
       "</table>\n",
       "<p>5 rows × 21 columns</p>\n",
       "</div>"
      ],
      "text/plain": [
       "            begin_date   end_date            type paperless_billing  \\\n",
       "customer_id                                                           \n",
       "7590-VHVEG  2020-01-01 2020-02-01  Month-to-month               Yes   \n",
       "5575-GNVDE  2017-04-01 2020-02-01        One year                No   \n",
       "3668-QPYBK  2019-10-01 2020-02-01  Month-to-month               Yes   \n",
       "7795-CFOCW  2016-05-01 2020-02-01        One year                No   \n",
       "9237-HQITU  2019-09-01 2020-02-01  Month-to-month               Yes   \n",
       "\n",
       "                        payment_method  monthly_charges  total_charges  churn  \\\n",
       "customer_id                                                                     \n",
       "7590-VHVEG            Electronic check            29.85          31.04      0   \n",
       "5575-GNVDE                Mailed check            56.95        2071.84      0   \n",
       "3668-QPYBK                Mailed check            53.85         226.17      0   \n",
       "7795-CFOCW   Bank transfer (automatic)            42.30        1960.60      0   \n",
       "9237-HQITU            Electronic check            70.70         353.50      0   \n",
       "\n",
       "             total_days  gender  ...  partner dependents internet_service  \\\n",
       "customer_id                      ...                                        \n",
       "7590-VHVEG           31  Female  ...      Yes         No              DSL   \n",
       "5575-GNVDE         1036    Male  ...       No         No              DSL   \n",
       "3668-QPYBK          123    Male  ...       No         No              DSL   \n",
       "7795-CFOCW         1371    Male  ...       No         No              DSL   \n",
       "9237-HQITU          153  Female  ...       No         No      Fiber optic   \n",
       "\n",
       "            online_security online_backup device_protection tech_support  \\\n",
       "customer_id                                                                \n",
       "7590-VHVEG               No           Yes                No           No   \n",
       "5575-GNVDE              Yes            No               Yes           No   \n",
       "3668-QPYBK              Yes           Yes                No           No   \n",
       "7795-CFOCW              Yes            No               Yes          Yes   \n",
       "9237-HQITU               No            No                No           No   \n",
       "\n",
       "            streaming_tv streaming_movies multiple_lines  \n",
       "customer_id                                               \n",
       "7590-VHVEG            No               No            NaN  \n",
       "5575-GNVDE            No               No             No  \n",
       "3668-QPYBK            No               No             No  \n",
       "7795-CFOCW            No               No            NaN  \n",
       "9237-HQITU            No               No             No  \n",
       "\n",
       "[5 rows x 21 columns]"
      ]
     },
     "metadata": {},
     "output_type": "display_data"
    },
    {
     "name": "stdout",
     "output_type": "stream",
     "text": [
      "Описательная статистика:\n"
     ]
    },
    {
     "data": {
      "text/html": [
       "<div>\n",
       "<style scoped>\n",
       "    .dataframe tbody tr th:only-of-type {\n",
       "        vertical-align: middle;\n",
       "    }\n",
       "\n",
       "    .dataframe tbody tr th {\n",
       "        vertical-align: top;\n",
       "    }\n",
       "\n",
       "    .dataframe thead th {\n",
       "        text-align: right;\n",
       "    }\n",
       "</style>\n",
       "<table border=\"1\" class=\"dataframe\">\n",
       "  <thead>\n",
       "    <tr style=\"text-align: right;\">\n",
       "      <th></th>\n",
       "      <th>monthly_charges</th>\n",
       "      <th>total_charges</th>\n",
       "      <th>churn</th>\n",
       "      <th>total_days</th>\n",
       "      <th>senior_citizen</th>\n",
       "    </tr>\n",
       "  </thead>\n",
       "  <tbody>\n",
       "    <tr>\n",
       "      <th>count</th>\n",
       "      <td>7043.000000</td>\n",
       "      <td>7043.000000</td>\n",
       "      <td>7043.000000</td>\n",
       "      <td>7043.000000</td>\n",
       "      <td>7043.000000</td>\n",
       "    </tr>\n",
       "    <tr>\n",
       "      <th>mean</th>\n",
       "      <td>64.761692</td>\n",
       "      <td>2115.312885</td>\n",
       "      <td>0.156325</td>\n",
       "      <td>898.555729</td>\n",
       "      <td>0.162147</td>\n",
       "    </tr>\n",
       "    <tr>\n",
       "      <th>std</th>\n",
       "      <td>30.090047</td>\n",
       "      <td>2112.742814</td>\n",
       "      <td>0.363189</td>\n",
       "      <td>683.130510</td>\n",
       "      <td>0.368612</td>\n",
       "    </tr>\n",
       "    <tr>\n",
       "      <th>min</th>\n",
       "      <td>18.250000</td>\n",
       "      <td>0.000000</td>\n",
       "      <td>0.000000</td>\n",
       "      <td>0.000000</td>\n",
       "      <td>0.000000</td>\n",
       "    </tr>\n",
       "    <tr>\n",
       "      <th>25%</th>\n",
       "      <td>35.500000</td>\n",
       "      <td>436.750000</td>\n",
       "      <td>0.000000</td>\n",
       "      <td>276.000000</td>\n",
       "      <td>0.000000</td>\n",
       "    </tr>\n",
       "    <tr>\n",
       "      <th>50%</th>\n",
       "      <td>70.350000</td>\n",
       "      <td>1343.350000</td>\n",
       "      <td>0.000000</td>\n",
       "      <td>761.000000</td>\n",
       "      <td>0.000000</td>\n",
       "    </tr>\n",
       "    <tr>\n",
       "      <th>75%</th>\n",
       "      <td>89.850000</td>\n",
       "      <td>3236.690000</td>\n",
       "      <td>0.000000</td>\n",
       "      <td>1461.000000</td>\n",
       "      <td>0.000000</td>\n",
       "    </tr>\n",
       "    <tr>\n",
       "      <th>max</th>\n",
       "      <td>118.750000</td>\n",
       "      <td>9221.380000</td>\n",
       "      <td>1.000000</td>\n",
       "      <td>2314.000000</td>\n",
       "      <td>1.000000</td>\n",
       "    </tr>\n",
       "  </tbody>\n",
       "</table>\n",
       "</div>"
      ],
      "text/plain": [
       "       monthly_charges  total_charges        churn   total_days  \\\n",
       "count      7043.000000    7043.000000  7043.000000  7043.000000   \n",
       "mean         64.761692    2115.312885     0.156325   898.555729   \n",
       "std          30.090047    2112.742814     0.363189   683.130510   \n",
       "min          18.250000       0.000000     0.000000     0.000000   \n",
       "25%          35.500000     436.750000     0.000000   276.000000   \n",
       "50%          70.350000    1343.350000     0.000000   761.000000   \n",
       "75%          89.850000    3236.690000     0.000000  1461.000000   \n",
       "max         118.750000    9221.380000     1.000000  2314.000000   \n",
       "\n",
       "       senior_citizen  \n",
       "count     7043.000000  \n",
       "mean         0.162147  \n",
       "std          0.368612  \n",
       "min          0.000000  \n",
       "25%          0.000000  \n",
       "50%          0.000000  \n",
       "75%          0.000000  \n",
       "max          1.000000  "
      ]
     },
     "metadata": {},
     "output_type": "display_data"
    },
    {
     "name": "stdout",
     "output_type": "stream",
     "text": [
      "Информация о датафрейме:\n",
      "<class 'pandas.core.frame.DataFrame'>\n",
      "Index: 7043 entries, 7590-VHVEG to 3186-AJIEK\n",
      "Data columns (total 21 columns):\n",
      " #   Column             Non-Null Count  Dtype         \n",
      "---  ------             --------------  -----         \n",
      " 0   begin_date         7043 non-null   datetime64[ns]\n",
      " 1   end_date           7043 non-null   datetime64[ns]\n",
      " 2   type               7043 non-null   object        \n",
      " 3   paperless_billing  7043 non-null   object        \n",
      " 4   payment_method     7043 non-null   object        \n",
      " 5   monthly_charges    7043 non-null   float64       \n",
      " 6   total_charges      7043 non-null   float64       \n",
      " 7   churn              7043 non-null   int64         \n",
      " 8   total_days         7043 non-null   int64         \n",
      " 9   gender             7043 non-null   object        \n",
      " 10  senior_citizen     7043 non-null   int64         \n",
      " 11  partner            7043 non-null   object        \n",
      " 12  dependents         7043 non-null   object        \n",
      " 13  internet_service   5517 non-null   object        \n",
      " 14  online_security    5517 non-null   object        \n",
      " 15  online_backup      5517 non-null   object        \n",
      " 16  device_protection  5517 non-null   object        \n",
      " 17  tech_support       5517 non-null   object        \n",
      " 18  streaming_tv       5517 non-null   object        \n",
      " 19  streaming_movies   5517 non-null   object        \n",
      " 20  multiple_lines     6361 non-null   object        \n",
      "dtypes: datetime64[ns](2), float64(2), int64(3), object(14)\n",
      "memory usage: 1.2+ MB\n"
     ]
    },
    {
     "data": {
      "text/plain": [
       "None"
      ]
     },
     "metadata": {},
     "output_type": "display_data"
    },
    {
     "name": "stdout",
     "output_type": "stream",
     "text": [
      "Количество пропусков:\n"
     ]
    },
    {
     "data": {
      "text/plain": [
       "begin_date              0\n",
       "end_date                0\n",
       "type                    0\n",
       "paperless_billing       0\n",
       "payment_method          0\n",
       "monthly_charges         0\n",
       "total_charges           0\n",
       "churn                   0\n",
       "total_days              0\n",
       "gender                  0\n",
       "senior_citizen          0\n",
       "partner                 0\n",
       "dependents              0\n",
       "internet_service     1526\n",
       "online_security      1526\n",
       "online_backup        1526\n",
       "device_protection    1526\n",
       "tech_support         1526\n",
       "streaming_tv         1526\n",
       "streaming_movies     1526\n",
       "multiple_lines        682\n",
       "dtype: int64"
      ]
     },
     "metadata": {},
     "output_type": "display_data"
    }
   ],
   "source": [
    "churn_data = churn_data.set_index('customer_id')\n",
    "view_data(churn_data)"
   ]
  },
  {
   "cell_type": "markdown",
   "metadata": {},
   "source": [
    "Пропуски в указанных столбцах выше обусловены тем, что, скорее всего, данные услуги не подключены. Заменим пропуски на 'No'."
   ]
  },
  {
   "cell_type": "code",
   "execution_count": 23,
   "metadata": {},
   "outputs": [
    {
     "name": "stdout",
     "output_type": "stream",
     "text": [
      "<class 'pandas.core.frame.DataFrame'>\n",
      "Index: 7043 entries, 7590-VHVEG to 3186-AJIEK\n",
      "Data columns (total 21 columns):\n",
      " #   Column             Non-Null Count  Dtype         \n",
      "---  ------             --------------  -----         \n",
      " 0   begin_date         7043 non-null   datetime64[ns]\n",
      " 1   end_date           7043 non-null   datetime64[ns]\n",
      " 2   type               7043 non-null   object        \n",
      " 3   paperless_billing  7043 non-null   object        \n",
      " 4   payment_method     7043 non-null   object        \n",
      " 5   monthly_charges    7043 non-null   float64       \n",
      " 6   total_charges      7043 non-null   float64       \n",
      " 7   churn              7043 non-null   int64         \n",
      " 8   total_days         7043 non-null   int64         \n",
      " 9   gender             7043 non-null   object        \n",
      " 10  senior_citizen     7043 non-null   int64         \n",
      " 11  partner            7043 non-null   object        \n",
      " 12  dependents         7043 non-null   object        \n",
      " 13  internet_service   7043 non-null   object        \n",
      " 14  online_security    7043 non-null   object        \n",
      " 15  online_backup      7043 non-null   object        \n",
      " 16  device_protection  7043 non-null   object        \n",
      " 17  tech_support       7043 non-null   object        \n",
      " 18  streaming_tv       7043 non-null   object        \n",
      " 19  streaming_movies   7043 non-null   object        \n",
      " 20  multiple_lines     7043 non-null   object        \n",
      "dtypes: datetime64[ns](2), float64(2), int64(3), object(14)\n",
      "memory usage: 1.2+ MB\n"
     ]
    }
   ],
   "source": [
    "for column in ('internet_service', 'online_security', 'online_backup', 'device_protection', 'tech_support', 'streaming_tv', 'streaming_movies', 'multiple_lines'):\n",
    "    churn_data[column] = churn_data[column].fillna('No')\n",
    "    \n",
    "churn_data.info()"
   ]
  },
  {
   "cell_type": "markdown",
   "metadata": {},
   "source": [
    "## Изучение данных"
   ]
  },
  {
   "cell_type": "code",
   "execution_count": 24,
   "metadata": {},
   "outputs": [],
   "source": [
    "numeric_features = [\n",
    "    'monthly_charges', \n",
    "    'total_charges', \n",
    "    'total_days'\n",
    "]\n",
    "\n",
    "categorical_features = [\n",
    "    'type',\n",
    "    'paperless_billing',\n",
    "    'payment_method',\n",
    "    'gender',\n",
    "    'senior_citizen',\n",
    "    'partner',\n",
    "    'dependents',\n",
    "    'internet_service', \n",
    "    'online_security', \n",
    "    'online_backup', \n",
    "    'device_protection', \n",
    "    'tech_support', \n",
    "    'streaming_tv', \n",
    "    'streaming_movies', \n",
    "    'multiple_lines',\n",
    "]"
   ]
  },
  {
   "cell_type": "code",
   "execution_count": 25,
   "metadata": {},
   "outputs": [
    {
     "data": {
      "image/png": "[encoded data removed]",
      "text/plain": [
       "<Figure size 432x288 with 1 Axes>"
      ]
     },
     "metadata": {
      "needs_background": "light"
     },
     "output_type": "display_data"
    },
    {
     "data": {
      "image/png": "[encoded data removed]",
      "text/plain": [
       "<Figure size 432x288 with 1 Axes>"
      ]
     },
     "metadata": {
      "needs_background": "light"
     },
     "output_type": "display_data"
    },
    {
     "data": {
      "image/png": "[encoded data removed]",
      "text/plain": [
       "<Figure size 432x288 with 1 Axes>"
      ]
     },
     "metadata": {
      "needs_background": "light"
     },
     "output_type": "display_data"
    },
    {
     "data": {
      "image/png": "[encoded data removed]",
      "text/plain": [
       "<Figure size 432x288 with 1 Axes>"
      ]
     },
     "metadata": {
      "needs_background": "light"
     },
     "output_type": "display_data"
    },
    {
     "data": {
      "image/png": "[encoded data removed]",
      "text/plain": [
       "<Figure size 432x288 with 1 Axes>"
      ]
     },
     "metadata": {
      "needs_background": "light"
     },
     "output_type": "display_data"
    },
    {
     "data": {
      "image/png": "[encoded data removed]",
      "text/plain": [
       "<Figure size 432x288 with 1 Axes>"
      ]
     },
     "metadata": {
      "needs_background": "light"
     },
     "output_type": "display_data"
    },
    {
     "data": {
      "image/png": "[encoded data removed]",
      "text/plain": [
       "<Figure size 432x288 with 1 Axes>"
      ]
     },
     "metadata": {
      "needs_background": "light"
     },
     "output_type": "display_data"
    },
    {
     "data": {
      "image/png": "[encoded data removed]",
      "text/plain": [
       "<Figure size 432x288 with 1 Axes>"
      ]
     },
     "metadata": {
      "needs_background": "light"
     },
     "output_type": "display_data"
    },
    {
     "data": {
      "image/png": "[encoded data removed]",
      "text/plain": [
       "<Figure size 432x288 with 1 Axes>"
      ]
     },
     "metadata": {
      "needs_background": "light"
     },
     "output_type": "display_data"
    },
    {
     "data": {
      "image/png": "[encoded data removed]",
      "text/plain": [
       "<Figure size 432x288 with 1 Axes>"
      ]
     },
     "metadata": {
      "needs_background": "light"
     },
     "output_type": "display_data"
    },
    {
     "data": {
      "image/png": "[encoded data removed]",
      "text/plain": [
       "<Figure size 432x288 with 1 Axes>"
      ]
     },
     "metadata": {
      "needs_background": "light"
     },
     "output_type": "display_data"
    },
    {
     "data": {
      "image/png": "[encoded data removed]",
      "text/plain": [
       "<Figure size 432x288 with 1 Axes>"
      ]
     },
     "metadata": {
      "needs_background": "light"
     },
     "output_type": "display_data"
    },
    {
     "data": {
      "image/png": "[encoded data removed]",
      "text/plain": [
       "<Figure size 432x288 with 1 Axes>"
      ]
     },
     "metadata": {
      "needs_background": "light"
     },
     "output_type": "display_data"
    },
    {
     "data": {
      "image/png": "[encoded data removed]",
      "text/plain": [
       "<Figure size 432x288 with 1 Axes>"
      ]
     },
     "metadata": {
      "needs_background": "light"
     },
     "output_type": "display_data"
    },
    {
     "data": {
      "image/png": "[encoded data removed]",
      "text/plain": [
       "<Figure size 432x288 with 1 Axes>"
      ]
     },
     "metadata": {
      "needs_background": "light"
     },
     "output_type": "display_data"
    }
   ],
   "source": [
    "for feature in categorical_features:\n",
    "    sns.barplot(x=feature, y='churn', data=churn_data)\n",
    "    plt.xlabel(feature)\n",
    "    plt.ylabel('churn')\n",
    "    plt.title(f'churn and {feature}')\n",
    "    plt.show()"
   ]
  },
  {
   "cell_type": "code",
   "execution_count": 26,
   "metadata": {},
   "outputs": [
    {
     "data": {
      "image/png": "[encoded data removed]",
      "text/plain": [
       "<Figure size 432x288 with 1 Axes>"
      ]
     },
     "metadata": {
      "needs_background": "light"
     },
     "output_type": "display_data"
    },
    {
     "data": {
      "image/png": "[encoded data removed]",
      "text/plain": [
       "<Figure size 432x288 with 1 Axes>"
      ]
     },
     "metadata": {
      "needs_background": "light"
     },
     "output_type": "display_data"
    },
    {
     "data": {
      "image/png": "[encoded data removed]",
      "text/plain": [
       "<Figure size 432x288 with 1 Axes>"
      ]
     },
     "metadata": {
      "needs_background": "light"
     },
     "output_type": "display_data"
    }
   ],
   "source": [
    "for feature in numeric_features:\n",
    "    sns.boxplot(x='churn', y=feature, data=churn_data)\n",
    "    plt.xlabel('churn')\n",
    "    plt.ylabel(feature)\n",
    "    plt.title(f'churn and {feature}')\n",
    "    plt.show()"
   ]
  },
  {
   "cell_type": "code",
   "execution_count": 27,
   "metadata": {},
   "outputs": [
    {
     "data": {
      "text/html": [
       "<div>\n",
       "<style scoped>\n",
       "    .dataframe tbody tr th:only-of-type {\n",
       "        vertical-align: middle;\n",
       "    }\n",
       "\n",
       "    .dataframe tbody tr th {\n",
       "        vertical-align: top;\n",
       "    }\n",
       "\n",
       "    .dataframe thead th {\n",
       "        text-align: right;\n",
       "    }\n",
       "</style>\n",
       "<table border=\"1\" class=\"dataframe\">\n",
       "  <thead>\n",
       "    <tr style=\"text-align: right;\">\n",
       "      <th></th>\n",
       "      <th>monthly_charges</th>\n",
       "      <th>total_charges</th>\n",
       "      <th>total_days</th>\n",
       "    </tr>\n",
       "  </thead>\n",
       "  <tbody>\n",
       "    <tr>\n",
       "      <th>monthly_charges</th>\n",
       "      <td>1.000000</td>\n",
       "      <td>0.630440</td>\n",
       "      <td>0.220054</td>\n",
       "    </tr>\n",
       "    <tr>\n",
       "      <th>total_charges</th>\n",
       "      <td>0.630440</td>\n",
       "      <td>1.000000</td>\n",
       "      <td>0.821746</td>\n",
       "    </tr>\n",
       "    <tr>\n",
       "      <th>total_days</th>\n",
       "      <td>0.220054</td>\n",
       "      <td>0.821746</td>\n",
       "      <td>1.000000</td>\n",
       "    </tr>\n",
       "  </tbody>\n",
       "</table>\n",
       "</div>"
      ],
      "text/plain": [
       "                 monthly_charges  total_charges  total_days\n",
       "monthly_charges         1.000000       0.630440    0.220054\n",
       "total_charges           0.630440       1.000000    0.821746\n",
       "total_days              0.220054       0.821746    1.000000"
      ]
     },
     "execution_count": 27,
     "metadata": {},
     "output_type": "execute_result"
    }
   ],
   "source": [
    "churn_data[numeric_features].corr()"
   ]
  },
  {
   "cell_type": "markdown",
   "metadata": {},
   "source": [
    "Заметна мультиколлинеарность в данных - корреляция между total_charges и total_days - 0.82. Удалим столбец total_charges."
   ]
  },
  {
   "cell_type": "code",
   "execution_count": 28,
   "metadata": {},
   "outputs": [],
   "source": [
    "del churn_data['total_charges']\n",
    "del numeric_features[1]"
   ]
  },
  {
   "cell_type": "code",
   "execution_count": 29,
   "metadata": {},
   "outputs": [
    {
     "name": "stdout",
     "output_type": "stream",
     "text": [
      "interval columns not set, guessing: ['monthly_charges', 'churn', 'total_days', 'senior_citizen']\n"
     ]
    },
    {
     "data": {
      "image/png": "[encoded data removed]",
      "text/plain": [
       "<Figure size 864x432 with 2 Axes>"
      ]
     },
     "metadata": {
      "needs_background": "light"
     },
     "output_type": "display_data"
    }
   ],
   "source": [
    "phik_matrix = churn_data.phik_matrix().round(2)\n",
    "plt.figure(figsize=(12, 6))\n",
    "sns.heatmap(phik_matrix, annot=True, cmap='coolwarm')\n",
    "plt.show()"
   ]
  },
  {
   "cell_type": "markdown",
   "metadata": {},
   "source": [
    "## Подбор модели"
   ]
  },
  {
   "cell_type": "code",
   "execution_count": 30,
   "metadata": {},
   "outputs": [],
   "source": [
    "del churn_data['begin_date'], churn_data['end_date']"
   ]
  },
  {
   "cell_type": "markdown",
   "metadata": {},
   "source": [
    "Удаление ненужных столбцов."
   ]
  },
  {
   "cell_type": "code",
   "execution_count": 31,
   "metadata": {},
   "outputs": [
    {
     "name": "stderr",
     "output_type": "stream",
     "text": [
      "/tmp/ipykernel_404/2080959457.py:8: SettingWithCopyWarning: \n",
      "A value is trying to be set on a copy of a slice from a DataFrame.\n",
      "Try using .loc[row_indexer,col_indexer] = value instead\n",
      "\n",
      "See the caveats in the documentation: https://pandas.pydata.org/pandas-docs/stable/user_guide/indexing.html#returning-a-view-versus-a-copy\n",
      "  features_train[encoder_ohe.get_feature_names()] = encoder_ohe.transform(features_train[categorical_features])\n",
      "/opt/conda/lib/python3.9/site-packages/pandas/core/indexing.py:1738: SettingWithCopyWarning: \n",
      "A value is trying to be set on a copy of a slice from a DataFrame.\n",
      "Try using .loc[row_indexer,col_indexer] = value instead\n",
      "\n",
      "See the caveats in the documentation: https://pandas.pydata.org/pandas-docs/stable/user_guide/indexing.html#returning-a-view-versus-a-copy\n",
      "  self._setitem_single_column(loc, value[:, i].tolist(), pi)\n"
     ]
    },
    {
     "data": {
      "text/html": [
       "<div>\n",
       "<style scoped>\n",
       "    .dataframe tbody tr th:only-of-type {\n",
       "        vertical-align: middle;\n",
       "    }\n",
       "\n",
       "    .dataframe tbody tr th {\n",
       "        vertical-align: top;\n",
       "    }\n",
       "\n",
       "    .dataframe thead th {\n",
       "        text-align: right;\n",
       "    }\n",
       "</style>\n",
       "<table border=\"1\" class=\"dataframe\">\n",
       "  <thead>\n",
       "    <tr style=\"text-align: right;\">\n",
       "      <th></th>\n",
       "      <th>monthly_charges</th>\n",
       "      <th>total_days</th>\n",
       "      <th>x0_One year</th>\n",
       "      <th>x0_Two year</th>\n",
       "      <th>x1_Yes</th>\n",
       "      <th>x2_Credit card (automatic)</th>\n",
       "      <th>x2_Electronic check</th>\n",
       "      <th>x2_Mailed check</th>\n",
       "      <th>x3_Male</th>\n",
       "      <th>x4_1</th>\n",
       "      <th>...</th>\n",
       "      <th>x6_Yes</th>\n",
       "      <th>x7_Fiber optic</th>\n",
       "      <th>x7_No</th>\n",
       "      <th>x8_Yes</th>\n",
       "      <th>x9_Yes</th>\n",
       "      <th>x10_Yes</th>\n",
       "      <th>x11_Yes</th>\n",
       "      <th>x12_Yes</th>\n",
       "      <th>x13_Yes</th>\n",
       "      <th>x14_Yes</th>\n",
       "    </tr>\n",
       "    <tr>\n",
       "      <th>customer_id</th>\n",
       "      <th></th>\n",
       "      <th></th>\n",
       "      <th></th>\n",
       "      <th></th>\n",
       "      <th></th>\n",
       "      <th></th>\n",
       "      <th></th>\n",
       "      <th></th>\n",
       "      <th></th>\n",
       "      <th></th>\n",
       "      <th></th>\n",
       "      <th></th>\n",
       "      <th></th>\n",
       "      <th></th>\n",
       "      <th></th>\n",
       "      <th></th>\n",
       "      <th></th>\n",
       "      <th></th>\n",
       "      <th></th>\n",
       "      <th></th>\n",
       "      <th></th>\n",
       "    </tr>\n",
       "  </thead>\n",
       "  <tbody>\n",
       "    <tr>\n",
       "      <th>0422-OHQHQ</th>\n",
       "      <td>-1.475875</td>\n",
       "      <td>-0.656713</td>\n",
       "      <td>1.0</td>\n",
       "      <td>0.0</td>\n",
       "      <td>0.0</td>\n",
       "      <td>0.0</td>\n",
       "      <td>0.0</td>\n",
       "      <td>1.0</td>\n",
       "      <td>0.0</td>\n",
       "      <td>0.0</td>\n",
       "      <td>...</td>\n",
       "      <td>1.0</td>\n",
       "      <td>0.0</td>\n",
       "      <td>1.0</td>\n",
       "      <td>0.0</td>\n",
       "      <td>0.0</td>\n",
       "      <td>0.0</td>\n",
       "      <td>0.0</td>\n",
       "      <td>0.0</td>\n",
       "      <td>0.0</td>\n",
       "      <td>0.0</td>\n",
       "    </tr>\n",
       "    <tr>\n",
       "      <th>6656-GULJQ</th>\n",
       "      <td>0.617064</td>\n",
       "      <td>1.886545</td>\n",
       "      <td>0.0</td>\n",
       "      <td>1.0</td>\n",
       "      <td>1.0</td>\n",
       "      <td>1.0</td>\n",
       "      <td>0.0</td>\n",
       "      <td>0.0</td>\n",
       "      <td>1.0</td>\n",
       "      <td>0.0</td>\n",
       "      <td>...</td>\n",
       "      <td>1.0</td>\n",
       "      <td>0.0</td>\n",
       "      <td>0.0</td>\n",
       "      <td>1.0</td>\n",
       "      <td>0.0</td>\n",
       "      <td>1.0</td>\n",
       "      <td>1.0</td>\n",
       "      <td>1.0</td>\n",
       "      <td>1.0</td>\n",
       "      <td>1.0</td>\n",
       "    </tr>\n",
       "    <tr>\n",
       "      <th>8967-SZQAS</th>\n",
       "      <td>-0.482560</td>\n",
       "      <td>-0.700714</td>\n",
       "      <td>0.0</td>\n",
       "      <td>0.0</td>\n",
       "      <td>0.0</td>\n",
       "      <td>0.0</td>\n",
       "      <td>1.0</td>\n",
       "      <td>0.0</td>\n",
       "      <td>0.0</td>\n",
       "      <td>0.0</td>\n",
       "      <td>...</td>\n",
       "      <td>0.0</td>\n",
       "      <td>0.0</td>\n",
       "      <td>0.0</td>\n",
       "      <td>0.0</td>\n",
       "      <td>1.0</td>\n",
       "      <td>0.0</td>\n",
       "      <td>0.0</td>\n",
       "      <td>0.0</td>\n",
       "      <td>0.0</td>\n",
       "      <td>0.0</td>\n",
       "    </tr>\n",
       "    <tr>\n",
       "      <th>6711-VTNRE</th>\n",
       "      <td>0.749949</td>\n",
       "      <td>0.413978</td>\n",
       "      <td>0.0</td>\n",
       "      <td>0.0</td>\n",
       "      <td>1.0</td>\n",
       "      <td>0.0</td>\n",
       "      <td>1.0</td>\n",
       "      <td>0.0</td>\n",
       "      <td>0.0</td>\n",
       "      <td>0.0</td>\n",
       "      <td>...</td>\n",
       "      <td>0.0</td>\n",
       "      <td>1.0</td>\n",
       "      <td>0.0</td>\n",
       "      <td>0.0</td>\n",
       "      <td>0.0</td>\n",
       "      <td>1.0</td>\n",
       "      <td>1.0</td>\n",
       "      <td>0.0</td>\n",
       "      <td>1.0</td>\n",
       "      <td>0.0</td>\n",
       "    </tr>\n",
       "    <tr>\n",
       "      <th>5913-INRQV</th>\n",
       "      <td>0.836324</td>\n",
       "      <td>0.192506</td>\n",
       "      <td>1.0</td>\n",
       "      <td>0.0</td>\n",
       "      <td>0.0</td>\n",
       "      <td>0.0</td>\n",
       "      <td>0.0</td>\n",
       "      <td>1.0</td>\n",
       "      <td>1.0</td>\n",
       "      <td>1.0</td>\n",
       "      <td>...</td>\n",
       "      <td>0.0</td>\n",
       "      <td>1.0</td>\n",
       "      <td>0.0</td>\n",
       "      <td>1.0</td>\n",
       "      <td>0.0</td>\n",
       "      <td>0.0</td>\n",
       "      <td>1.0</td>\n",
       "      <td>1.0</td>\n",
       "      <td>0.0</td>\n",
       "      <td>0.0</td>\n",
       "    </tr>\n",
       "  </tbody>\n",
       "</table>\n",
       "<p>5 rows × 21 columns</p>\n",
       "</div>"
      ],
      "text/plain": [
       "             monthly_charges  total_days  x0_One year  x0_Two year  x1_Yes  \\\n",
       "customer_id                                                                  \n",
       "0422-OHQHQ         -1.475875   -0.656713          1.0          0.0     0.0   \n",
       "6656-GULJQ          0.617064    1.886545          0.0          1.0     1.0   \n",
       "8967-SZQAS         -0.482560   -0.700714          0.0          0.0     0.0   \n",
       "6711-VTNRE          0.749949    0.413978          0.0          0.0     1.0   \n",
       "5913-INRQV          0.836324    0.192506          1.0          0.0     0.0   \n",
       "\n",
       "             x2_Credit card (automatic)  x2_Electronic check  x2_Mailed check  \\\n",
       "customer_id                                                                     \n",
       "0422-OHQHQ                          0.0                  0.0              1.0   \n",
       "6656-GULJQ                          1.0                  0.0              0.0   \n",
       "8967-SZQAS                          0.0                  1.0              0.0   \n",
       "6711-VTNRE                          0.0                  1.0              0.0   \n",
       "5913-INRQV                          0.0                  0.0              1.0   \n",
       "\n",
       "             x3_Male  x4_1  ...  x6_Yes  x7_Fiber optic  x7_No  x8_Yes  \\\n",
       "customer_id                 ...                                          \n",
       "0422-OHQHQ       0.0   0.0  ...     1.0             0.0    1.0     0.0   \n",
       "6656-GULJQ       1.0   0.0  ...     1.0             0.0    0.0     1.0   \n",
       "8967-SZQAS       0.0   0.0  ...     0.0             0.0    0.0     0.0   \n",
       "6711-VTNRE       0.0   0.0  ...     0.0             1.0    0.0     0.0   \n",
       "5913-INRQV       1.0   1.0  ...     0.0             1.0    0.0     1.0   \n",
       "\n",
       "             x9_Yes  x10_Yes  x11_Yes  x12_Yes  x13_Yes  x14_Yes  \n",
       "customer_id                                                       \n",
       "0422-OHQHQ      0.0      0.0      0.0      0.0      0.0      0.0  \n",
       "6656-GULJQ      0.0      1.0      1.0      1.0      1.0      1.0  \n",
       "8967-SZQAS      1.0      0.0      0.0      0.0      0.0      0.0  \n",
       "6711-VTNRE      0.0      1.0      1.0      0.0      1.0      0.0  \n",
       "5913-INRQV      0.0      0.0      1.0      1.0      0.0      0.0  \n",
       "\n",
       "[5 rows x 21 columns]"
      ]
     },
     "execution_count": 31,
     "metadata": {},
     "output_type": "execute_result"
    }
   ],
   "source": [
    "features = churn_data.drop(columns=['churn'])\n",
    "target = churn_data['churn']\n",
    "\n",
    "features_train, features_test, target_train, target_test = train_test_split(features, target, test_size=0.25, random_state=RANDOM_STATE)\n",
    "encoder_ohe = OneHotEncoder(drop='first', handle_unknown='error', sparse=False)\n",
    "encoder_ohe.fit(features_train[categorical_features])\n",
    "features_train[encoder_ohe.get_feature_names()] = encoder_ohe.transform(features_train[categorical_features])\n",
    "features_train = features_train.drop(categorical_features, axis=1)\n",
    "scaler = StandardScaler()\n",
    "features_train[numeric_features] = scaler.fit_transform(features_train[numeric_features])\n",
    "features_train.head()"
   ]
  },
  {
   "cell_type": "markdown",
   "metadata": {},
   "source": [
    "Кодирование категориальных признаков методом OHE."
   ]
  },
  {
   "cell_type": "code",
   "execution_count": 32,
   "metadata": {},
   "outputs": [
    {
     "name": "stderr",
     "output_type": "stream",
     "text": [
      "/tmp/ipykernel_404/1569238018.py:1: SettingWithCopyWarning: \n",
      "A value is trying to be set on a copy of a slice from a DataFrame.\n",
      "Try using .loc[row_indexer,col_indexer] = value instead\n",
      "\n",
      "See the caveats in the documentation: https://pandas.pydata.org/pandas-docs/stable/user_guide/indexing.html#returning-a-view-versus-a-copy\n",
      "  features_test[encoder_ohe.get_feature_names()] = encoder_ohe.transform(features_test[categorical_features])\n",
      "/opt/conda/lib/python3.9/site-packages/pandas/core/indexing.py:1738: SettingWithCopyWarning: \n",
      "A value is trying to be set on a copy of a slice from a DataFrame.\n",
      "Try using .loc[row_indexer,col_indexer] = value instead\n",
      "\n",
      "See the caveats in the documentation: https://pandas.pydata.org/pandas-docs/stable/user_guide/indexing.html#returning-a-view-versus-a-copy\n",
      "  self._setitem_single_column(loc, value[:, i].tolist(), pi)\n"
     ]
    },
    {
     "data": {
      "text/html": [
       "<div>\n",
       "<style scoped>\n",
       "    .dataframe tbody tr th:only-of-type {\n",
       "        vertical-align: middle;\n",
       "    }\n",
       "\n",
       "    .dataframe tbody tr th {\n",
       "        vertical-align: top;\n",
       "    }\n",
       "\n",
       "    .dataframe thead th {\n",
       "        text-align: right;\n",
       "    }\n",
       "</style>\n",
       "<table border=\"1\" class=\"dataframe\">\n",
       "  <thead>\n",
       "    <tr style=\"text-align: right;\">\n",
       "      <th></th>\n",
       "      <th>monthly_charges</th>\n",
       "      <th>total_days</th>\n",
       "      <th>x0_One year</th>\n",
       "      <th>x0_Two year</th>\n",
       "      <th>x1_Yes</th>\n",
       "      <th>x2_Credit card (automatic)</th>\n",
       "      <th>x2_Electronic check</th>\n",
       "      <th>x2_Mailed check</th>\n",
       "      <th>x3_Male</th>\n",
       "      <th>x4_1</th>\n",
       "      <th>...</th>\n",
       "      <th>x6_Yes</th>\n",
       "      <th>x7_Fiber optic</th>\n",
       "      <th>x7_No</th>\n",
       "      <th>x8_Yes</th>\n",
       "      <th>x9_Yes</th>\n",
       "      <th>x10_Yes</th>\n",
       "      <th>x11_Yes</th>\n",
       "      <th>x12_Yes</th>\n",
       "      <th>x13_Yes</th>\n",
       "      <th>x14_Yes</th>\n",
       "    </tr>\n",
       "    <tr>\n",
       "      <th>customer_id</th>\n",
       "      <th></th>\n",
       "      <th></th>\n",
       "      <th></th>\n",
       "      <th></th>\n",
       "      <th></th>\n",
       "      <th></th>\n",
       "      <th></th>\n",
       "      <th></th>\n",
       "      <th></th>\n",
       "      <th></th>\n",
       "      <th></th>\n",
       "      <th></th>\n",
       "      <th></th>\n",
       "      <th></th>\n",
       "      <th></th>\n",
       "      <th></th>\n",
       "      <th></th>\n",
       "      <th></th>\n",
       "      <th></th>\n",
       "      <th></th>\n",
       "      <th></th>\n",
       "    </tr>\n",
       "  </thead>\n",
       "  <tbody>\n",
       "    <tr>\n",
       "      <th>0098-BOWSO</th>\n",
       "      <td>-1.514079</td>\n",
       "      <td>-0.121368</td>\n",
       "      <td>0.0</td>\n",
       "      <td>0.0</td>\n",
       "      <td>1.0</td>\n",
       "      <td>0.0</td>\n",
       "      <td>1.0</td>\n",
       "      <td>0.0</td>\n",
       "      <td>1.0</td>\n",
       "      <td>0.0</td>\n",
       "      <td>...</td>\n",
       "      <td>0.0</td>\n",
       "      <td>0.0</td>\n",
       "      <td>1.0</td>\n",
       "      <td>0.0</td>\n",
       "      <td>0.0</td>\n",
       "      <td>0.0</td>\n",
       "      <td>0.0</td>\n",
       "      <td>0.0</td>\n",
       "      <td>0.0</td>\n",
       "      <td>0.0</td>\n",
       "    </tr>\n",
       "    <tr>\n",
       "      <th>9992-RRAMN</th>\n",
       "      <td>0.668557</td>\n",
       "      <td>-1.016055</td>\n",
       "      <td>0.0</td>\n",
       "      <td>0.0</td>\n",
       "      <td>1.0</td>\n",
       "      <td>0.0</td>\n",
       "      <td>1.0</td>\n",
       "      <td>0.0</td>\n",
       "      <td>1.0</td>\n",
       "      <td>0.0</td>\n",
       "      <td>...</td>\n",
       "      <td>0.0</td>\n",
       "      <td>1.0</td>\n",
       "      <td>0.0</td>\n",
       "      <td>0.0</td>\n",
       "      <td>0.0</td>\n",
       "      <td>0.0</td>\n",
       "      <td>0.0</td>\n",
       "      <td>0.0</td>\n",
       "      <td>1.0</td>\n",
       "      <td>1.0</td>\n",
       "    </tr>\n",
       "    <tr>\n",
       "      <th>8380-PEFPE</th>\n",
       "      <td>0.221731</td>\n",
       "      <td>-1.102590</td>\n",
       "      <td>0.0</td>\n",
       "      <td>0.0</td>\n",
       "      <td>1.0</td>\n",
       "      <td>0.0</td>\n",
       "      <td>1.0</td>\n",
       "      <td>0.0</td>\n",
       "      <td>1.0</td>\n",
       "      <td>0.0</td>\n",
       "      <td>...</td>\n",
       "      <td>1.0</td>\n",
       "      <td>1.0</td>\n",
       "      <td>0.0</td>\n",
       "      <td>0.0</td>\n",
       "      <td>0.0</td>\n",
       "      <td>0.0</td>\n",
       "      <td>0.0</td>\n",
       "      <td>0.0</td>\n",
       "      <td>0.0</td>\n",
       "      <td>0.0</td>\n",
       "    </tr>\n",
       "    <tr>\n",
       "      <th>9773-PEQBZ</th>\n",
       "      <td>0.494145</td>\n",
       "      <td>-0.878185</td>\n",
       "      <td>0.0</td>\n",
       "      <td>0.0</td>\n",
       "      <td>0.0</td>\n",
       "      <td>0.0</td>\n",
       "      <td>1.0</td>\n",
       "      <td>0.0</td>\n",
       "      <td>1.0</td>\n",
       "      <td>0.0</td>\n",
       "      <td>...</td>\n",
       "      <td>0.0</td>\n",
       "      <td>1.0</td>\n",
       "      <td>0.0</td>\n",
       "      <td>0.0</td>\n",
       "      <td>1.0</td>\n",
       "      <td>0.0</td>\n",
       "      <td>0.0</td>\n",
       "      <td>0.0</td>\n",
       "      <td>0.0</td>\n",
       "      <td>1.0</td>\n",
       "    </tr>\n",
       "    <tr>\n",
       "      <th>8319-QBEHW</th>\n",
       "      <td>-0.831383</td>\n",
       "      <td>-0.165369</td>\n",
       "      <td>1.0</td>\n",
       "      <td>0.0</td>\n",
       "      <td>1.0</td>\n",
       "      <td>0.0</td>\n",
       "      <td>0.0</td>\n",
       "      <td>0.0</td>\n",
       "      <td>1.0</td>\n",
       "      <td>0.0</td>\n",
       "      <td>...</td>\n",
       "      <td>1.0</td>\n",
       "      <td>0.0</td>\n",
       "      <td>0.0</td>\n",
       "      <td>0.0</td>\n",
       "      <td>1.0</td>\n",
       "      <td>0.0</td>\n",
       "      <td>0.0</td>\n",
       "      <td>1.0</td>\n",
       "      <td>0.0</td>\n",
       "      <td>0.0</td>\n",
       "    </tr>\n",
       "  </tbody>\n",
       "</table>\n",
       "<p>5 rows × 21 columns</p>\n",
       "</div>"
      ],
      "text/plain": [
       "             monthly_charges  total_days  x0_One year  x0_Two year  x1_Yes  \\\n",
       "customer_id                                                                  \n",
       "0098-BOWSO         -1.514079   -0.121368          0.0          0.0     1.0   \n",
       "9992-RRAMN          0.668557   -1.016055          0.0          0.0     1.0   \n",
       "8380-PEFPE          0.221731   -1.102590          0.0          0.0     1.0   \n",
       "9773-PEQBZ          0.494145   -0.878185          0.0          0.0     0.0   \n",
       "8319-QBEHW         -0.831383   -0.165369          1.0          0.0     1.0   \n",
       "\n",
       "             x2_Credit card (automatic)  x2_Electronic check  x2_Mailed check  \\\n",
       "customer_id                                                                     \n",
       "0098-BOWSO                          0.0                  1.0              0.0   \n",
       "9992-RRAMN                          0.0                  1.0              0.0   \n",
       "8380-PEFPE                          0.0                  1.0              0.0   \n",
       "9773-PEQBZ                          0.0                  1.0              0.0   \n",
       "8319-QBEHW                          0.0                  0.0              0.0   \n",
       "\n",
       "             x3_Male  x4_1  ...  x6_Yes  x7_Fiber optic  x7_No  x8_Yes  \\\n",
       "customer_id                 ...                                          \n",
       "0098-BOWSO       1.0   0.0  ...     0.0             0.0    1.0     0.0   \n",
       "9992-RRAMN       1.0   0.0  ...     0.0             1.0    0.0     0.0   \n",
       "8380-PEFPE       1.0   0.0  ...     1.0             1.0    0.0     0.0   \n",
       "9773-PEQBZ       1.0   0.0  ...     0.0             1.0    0.0     0.0   \n",
       "8319-QBEHW       1.0   0.0  ...     1.0             0.0    0.0     0.0   \n",
       "\n",
       "             x9_Yes  x10_Yes  x11_Yes  x12_Yes  x13_Yes  x14_Yes  \n",
       "customer_id                                                       \n",
       "0098-BOWSO      0.0      0.0      0.0      0.0      0.0      0.0  \n",
       "9992-RRAMN      0.0      0.0      0.0      0.0      1.0      1.0  \n",
       "8380-PEFPE      0.0      0.0      0.0      0.0      0.0      0.0  \n",
       "9773-PEQBZ      1.0      0.0      0.0      0.0      0.0      1.0  \n",
       "8319-QBEHW      1.0      0.0      0.0      1.0      0.0      0.0  \n",
       "\n",
       "[5 rows x 21 columns]"
      ]
     },
     "execution_count": 32,
     "metadata": {},
     "output_type": "execute_result"
    }
   ],
   "source": [
    "features_test[encoder_ohe.get_feature_names()] = encoder_ohe.transform(features_test[categorical_features])\n",
    "features_test = features_test.drop(categorical_features, axis=1)\n",
    "features_test[numeric_features] = scaler.transform(features_test[numeric_features])\n",
    "features_test.head()"
   ]
  },
  {
   "cell_type": "markdown",
   "metadata": {},
   "source": [
    "**LogisticRegression**"
   ]
  },
  {
   "cell_type": "code",
   "execution_count": 33,
   "metadata": {},
   "outputs": [
    {
     "name": "stdout",
     "output_type": "stream",
     "text": [
      "Лучшие параметры: {'C': 1000}\n",
      "Лучшее значение: 0.750709001538315\n"
     ]
    }
   ],
   "source": [
    "lr_param_grid = {'C': [0.001, 0.01, 0.1, 1, 10, 100, 1000]}\n",
    "\n",
    "lr_model = LogisticRegression(solver='lbfgs', n_jobs=-1)\n",
    "\n",
    "lr_search = GridSearchCV(lr_model, lr_param_grid, cv=5, scoring='roc_auc')\n",
    "lr_search.fit(features_train, target_train)\n",
    "\n",
    "print(f'Лучшие параметры: {lr_search.best_params_}')\n",
    "print(f'Лучшее значение: {lr_search.best_score_}')"
   ]
  },
  {
   "cell_type": "markdown",
   "metadata": {},
   "source": [
    "**CatBoostClassifier**"
   ]
  },
  {
   "cell_type": "code",
   "execution_count": 35,
   "metadata": {},
   "outputs": [
    {
     "name": "stdout",
     "output_type": "stream",
     "text": [
      "Лучшие параметры: {'iterations': 100, 'l2_leaf_reg': 3, 'learning_rate': 0.3}\n",
      "Лучшее значение: 0.8979019009579492\n"
     ]
    }
   ],
   "source": [
    "cb_param_grid = {\n",
    "    'learning_rate': [0.1, 0.3],\n",
    "    'iterations': [50, 100],\n",
    "    'l2_leaf_reg': [3, 9]\n",
    "}\n",
    "\n",
    "cb_model = CatBoostClassifier(random_state=RANDOM_STATE, verbose=0)\n",
    "\n",
    "cb_search = GridSearchCV(cb_model, cb_param_grid, cv=5, scoring='roc_auc')\n",
    "cb_search.fit(features_train, target_train)\n",
    "\n",
    "print(f'Лучшие параметры: {cb_search.best_params_}')\n",
    "print(f'Лучшее значение: {cb_search.best_score_}')"
   ]
  },
  {
   "cell_type": "markdown",
   "metadata": {},
   "source": [
    "**RandomForestClassifier**"
   ]
  },
  {
   "cell_type": "code",
   "execution_count": 37,
   "metadata": {},
   "outputs": [
    {
     "name": "stdout",
     "output_type": "stream",
     "text": [
      "Лучшие параметры: {'max_depth': 10, 'min_samples_leaf': 2, 'min_samples_split': 10, 'n_estimators': 100}\n",
      "Лучшее значение: 0.8145349284158556\n"
     ]
    }
   ],
   "source": [
    "rf_param_grid = {\n",
    "    'max_depth': [5, 10, 20],\n",
    "    'min_samples_split': [2, 10],\n",
    "    'min_samples_leaf': [2, 10],\n",
    "    'n_estimators': [10, 50, 100], \n",
    "}\n",
    "\n",
    "rf_model = RandomForestClassifier(random_state=RANDOM_STATE)\n",
    "\n",
    "rf_search = GridSearchCV(rf_model, rf_param_grid, cv=5, scoring='roc_auc')\n",
    "rf_search.fit(features_train, target_train)\n",
    "\n",
    "print(f'Лучшие параметры: {rf_search.best_params_}')\n",
    "print(f'Лучшее значение: {rf_search.best_score_}')"
   ]
  },
  {
   "cell_type": "markdown",
   "metadata": {},
   "source": [
    "Лучшее значение целевой метрики показала модель CatBoost. Построим ROC-кривую. Узнаем важность признаков."
   ]
  },
  {
   "cell_type": "code",
   "execution_count": 40,
   "metadata": {},
   "outputs": [
    {
     "name": "stdout",
     "output_type": "stream",
     "text": [
      "ROC-AUC score 0.9199379900579102\n"
     ]
    },
    {
     "data": {
      "image/png": "[encoded data removed]",
      "text/plain": [
       "<Figure size 792x360 with 1 Axes>"
      ]
     },
     "metadata": {
      "needs_background": "light"
     },
     "output_type": "display_data"
    }
   ],
   "source": [
    "cb_predicted_probalities = cb_search.best_estimator_.predict_proba(features_test)[:, 1]\n",
    "plot_roc_curve(target_test, cb_predicted_probalities)"
   ]
  },
  {
   "cell_type": "code",
   "execution_count": 39,
   "metadata": {},
   "outputs": [
    {
     "data": {
      "text/html": [
       "<div>\n",
       "<style scoped>\n",
       "    .dataframe tbody tr th:only-of-type {\n",
       "        vertical-align: middle;\n",
       "    }\n",
       "\n",
       "    .dataframe tbody tr th {\n",
       "        vertical-align: top;\n",
       "    }\n",
       "\n",
       "    .dataframe thead th {\n",
       "        text-align: right;\n",
       "    }\n",
       "</style>\n",
       "<table border=\"1\" class=\"dataframe\">\n",
       "  <thead>\n",
       "    <tr style=\"text-align: right;\">\n",
       "      <th></th>\n",
       "      <th>importance</th>\n",
       "    </tr>\n",
       "  </thead>\n",
       "  <tbody>\n",
       "    <tr>\n",
       "      <th>total_days</th>\n",
       "      <td>51.011924</td>\n",
       "    </tr>\n",
       "    <tr>\n",
       "      <th>monthly_charges</th>\n",
       "      <td>12.170539</td>\n",
       "    </tr>\n",
       "    <tr>\n",
       "      <th>x0_Two year</th>\n",
       "      <td>5.158011</td>\n",
       "    </tr>\n",
       "    <tr>\n",
       "      <th>x5_Yes</th>\n",
       "      <td>4.405082</td>\n",
       "    </tr>\n",
       "    <tr>\n",
       "      <th>x0_One year</th>\n",
       "      <td>4.186882</td>\n",
       "    </tr>\n",
       "    <tr>\n",
       "      <th>x14_Yes</th>\n",
       "      <td>2.692867</td>\n",
       "    </tr>\n",
       "    <tr>\n",
       "      <th>x9_Yes</th>\n",
       "      <td>2.439833</td>\n",
       "    </tr>\n",
       "    <tr>\n",
       "      <th>x2_Mailed check</th>\n",
       "      <td>2.050165</td>\n",
       "    </tr>\n",
       "    <tr>\n",
       "      <th>x4_1</th>\n",
       "      <td>1.981592</td>\n",
       "    </tr>\n",
       "    <tr>\n",
       "      <th>x1_Yes</th>\n",
       "      <td>1.581094</td>\n",
       "    </tr>\n",
       "    <tr>\n",
       "      <th>x12_Yes</th>\n",
       "      <td>1.576499</td>\n",
       "    </tr>\n",
       "    <tr>\n",
       "      <th>x10_Yes</th>\n",
       "      <td>1.574739</td>\n",
       "    </tr>\n",
       "    <tr>\n",
       "      <th>x2_Electronic check</th>\n",
       "      <td>1.554239</td>\n",
       "    </tr>\n",
       "    <tr>\n",
       "      <th>x8_Yes</th>\n",
       "      <td>1.486306</td>\n",
       "    </tr>\n",
       "    <tr>\n",
       "      <th>x6_Yes</th>\n",
       "      <td>1.374777</td>\n",
       "    </tr>\n",
       "    <tr>\n",
       "      <th>x2_Credit card (automatic)</th>\n",
       "      <td>1.296200</td>\n",
       "    </tr>\n",
       "    <tr>\n",
       "      <th>x13_Yes</th>\n",
       "      <td>1.120981</td>\n",
       "    </tr>\n",
       "    <tr>\n",
       "      <th>x11_Yes</th>\n",
       "      <td>0.915021</td>\n",
       "    </tr>\n",
       "    <tr>\n",
       "      <th>x3_Male</th>\n",
       "      <td>0.698855</td>\n",
       "    </tr>\n",
       "    <tr>\n",
       "      <th>x7_Fiber optic</th>\n",
       "      <td>0.646332</td>\n",
       "    </tr>\n",
       "    <tr>\n",
       "      <th>x7_No</th>\n",
       "      <td>0.078060</td>\n",
       "    </tr>\n",
       "  </tbody>\n",
       "</table>\n",
       "</div>"
      ],
      "text/plain": [
       "                            importance\n",
       "total_days                   51.011924\n",
       "monthly_charges              12.170539\n",
       "x0_Two year                   5.158011\n",
       "x5_Yes                        4.405082\n",
       "x0_One year                   4.186882\n",
       "x14_Yes                       2.692867\n",
       "x9_Yes                        2.439833\n",
       "x2_Mailed check               2.050165\n",
       "x4_1                          1.981592\n",
       "x1_Yes                        1.581094\n",
       "x12_Yes                       1.576499\n",
       "x10_Yes                       1.574739\n",
       "x2_Electronic check           1.554239\n",
       "x8_Yes                        1.486306\n",
       "x6_Yes                        1.374777\n",
       "x2_Credit card (automatic)    1.296200\n",
       "x13_Yes                       1.120981\n",
       "x11_Yes                       0.915021\n",
       "x3_Male                       0.698855\n",
       "x7_Fiber optic                0.646332\n",
       "x7_No                         0.078060"
      ]
     },
     "execution_count": 39,
     "metadata": {},
     "output_type": "execute_result"
    }
   ],
   "source": [
    "imp = pd.DataFrame(cb_search.best_estimator_.feature_importances_, index = features_test.columns, columns=['importance'])\n",
    "imp = imp.sort_values(by='importance', ascending=False)\n",
    "imp"
   ]
  },
  {
   "cell_type": "code",
   "execution_count": 41,
   "metadata": {},
   "outputs": [
    {
     "data": {
      "image/png": "[encoded data removed]",
      "text/plain": [
       "<Figure size 720x360 with 1 Axes>"
      ]
     },
     "metadata": {
      "needs_background": "light"
     },
     "output_type": "display_data"
    }
   ],
   "source": [
    "imp.plot(kind='bar', figsize=(10, 5), title='Важность признаков')\n",
    "plt.show()"
   ]
  },
  {
   "cell_type": "code",
   "execution_count": 42,
   "metadata": {},
   "outputs": [
    {
     "data": {
      "text/plain": [
       "array([[1474,   27],\n",
       "       [ 129,  131]])"
      ]
     },
     "execution_count": 42,
     "metadata": {},
     "output_type": "execute_result"
    }
   ],
   "source": [
    "predicted_target = cb_search.best_estimator_.predict(features_test)\n",
    "confusion_matrix(target_test, predicted_target)"
   ]
  },
  {
   "cell_type": "markdown",
   "metadata": {},
   "source": [
    "Матрица ошибок."
   ]
  },
  {
   "cell_type": "markdown",
   "metadata": {},
   "source": [
    "## Вывод "
   ]
  },
  {
   "cell_type": "markdown",
   "metadata": {},
   "source": [
    "Были проанализированы предоставленные данные и по результатам анализа были приняты решения по дальнейшей обработки данных.\n",
    "В процессе предобработки данных были ереименованы столбцы (snake_case), изменены типы данных.\n",
    "\n",
    "Были добавлены два новых признака - целевой признак churn, который означает, отказался ли клиент от услуг, и признак total_days, означающий, сколько дней пользователь использует услуги провайдера.\n",
    "\n",
    "Была проведена подготовка данных к обучению моделей машинного обучения: удалены ненужные столбцы, категориальные признаки закодированы техникой OHE, было проведено масштабирование количественных признаков и upsampling.\n",
    "\n",
    "Затем на данных были обучены 3 модели: LogisticRegression, CatBoostClassifier и RandomForestClassifier.\n",
    "\n",
    "Лучший результат целевой метрики показала модель CatBoostClassifier, равный 0.9114.\n",
    "\n",
    "Самые важные факторы - total_days - длительность пользования услугами, и monthly_charges - оплата в месяц."
   ]
  },
  {
   "cell_type": "markdown",
   "metadata": {},
   "source": [
    "## Отчет о проделанной работе"
   ]
  },
  {
   "cell_type": "markdown",
   "metadata": {},
   "source": [
    "* В ходе работы над проектом были выполнены все пункты, описанные в первоначальном плане. Значение RANDOM_STATE для дальнейшей работы: 12345\n",
    "* Возникли трудности с построением графика корелляции всех признаков датафрема, но данная проблема была успешно решена с помощью библиотеки *phik*. Также возникли трудности с корректным кодированием признаков методом OHE, тем не менее, проблема была решена - вместо *pd.get_dummies* использовался *OneHotEncoder*\n",
    "* Ключевые шаги в решении задачи: анализ файлов, предобработка данных, исследовательский анализ, подбор параметров и обучение моделей.\n",
    "* В ходе обучения модели категориальные признаки были закодированы методом OHE, также признаки *begin_date* и *end_date* были удалены.\n",
    "* Лучшая модель: CatBoostClassifier. Ее параметры: {'iterations': 100, 'l2_leaf_reg': 3, 'learning_rate': 0.3}. Значение целевой метрики на обучающих данных: 0.898, на тестовых: 0.919"
   ]
  },
  {
   "attachments": {
    "image.png": {
     "image/png": "[encoded data removed]"
    }
   },
   "cell_type": "markdown",
   "metadata": {},
   "source": [
    "**Визуализация ROC-кривой**\n",
    "![image.png](attachment:image.png)"
   ]
  },
  {
   "attachments": {
    "image.png": {
     "image/png": "[encoded data removed]"
    }
   },
   "cell_type": "markdown",
   "metadata": {},
   "source": [
    "**Матрица ошибок**\n",
    "![image.png](attachment:image.png)"
   ]
  },
  {
   "attachments": {
    "image.png": {
     "image/png": "[encoded data removed]"
    }
   },
   "cell_type": "markdown",
   "metadata": {},
   "source": [
    "**Важность признаков**\n",
    "![image.png](attachment:image.png)"
   ]
  }
 ],
 "metadata": {
  "ExecuteTimeLog": [
   {
    "duration": 377,
    "start_time": "2023-08-21T22:33:07.933Z"
   },
   {
    "duration": 113,
    "start_time": "2023-08-21T22:33:08.312Z"
   },
   {
    "duration": 0,
    "start_time": "2023-08-21T22:33:08.427Z"
   },
   {
    "duration": 0,
    "start_time": "2023-08-21T22:33:08.428Z"
   },
   {
    "duration": 0,
    "start_time": "2023-08-21T22:33:08.429Z"
   },
   {
    "duration": 0,
    "start_time": "2023-08-21T22:33:08.430Z"
   },
   {
    "duration": 0,
    "start_time": "2023-08-21T22:33:08.430Z"
   },
   {
    "duration": 0,
    "start_time": "2023-08-21T22:33:08.431Z"
   },
   {
    "duration": 0,
    "start_time": "2023-08-21T22:33:08.432Z"
   },
   {
    "duration": 0,
    "start_time": "2023-08-21T22:33:08.433Z"
   },
   {
    "duration": 0,
    "start_time": "2023-08-21T22:33:08.434Z"
   },
   {
    "duration": 0,
    "start_time": "2023-08-21T22:33:08.435Z"
   },
   {
    "duration": 360,
    "start_time": "2023-08-21T22:41:23.080Z"
   },
   {
    "duration": 337,
    "start_time": "2023-08-21T22:41:25.896Z"
   },
   {
    "duration": 401,
    "start_time": "2023-08-21T23:02:45.402Z"
   },
   {
    "duration": 123,
    "start_time": "2023-08-21T23:02:45.804Z"
   },
   {
    "duration": 3,
    "start_time": "2023-08-21T23:02:45.929Z"
   },
   {
    "duration": 11,
    "start_time": "2023-08-21T23:02:45.933Z"
   },
   {
    "duration": 42,
    "start_time": "2023-08-21T23:02:45.946Z"
   },
   {
    "duration": 2,
    "start_time": "2023-08-21T23:02:45.990Z"
   },
   {
    "duration": 53,
    "start_time": "2023-08-21T23:02:45.993Z"
   },
   {
    "duration": 2,
    "start_time": "2023-08-21T23:02:46.048Z"
   },
   {
    "duration": 53,
    "start_time": "2023-08-21T23:02:46.051Z"
   },
   {
    "duration": 3,
    "start_time": "2023-08-21T23:02:46.134Z"
   },
   {
    "duration": 35,
    "start_time": "2023-08-21T23:02:46.138Z"
   },
   {
    "duration": 2,
    "start_time": "2023-08-21T23:02:46.175Z"
   },
   {
    "duration": 1499,
    "start_time": "2023-08-22T20:57:54.838Z"
   },
   {
    "duration": 493,
    "start_time": "2023-08-22T20:57:56.344Z"
   },
   {
    "duration": 4,
    "start_time": "2023-08-22T20:57:56.839Z"
   },
   {
    "duration": 90,
    "start_time": "2023-08-22T20:57:56.849Z"
   },
   {
    "duration": 303,
    "start_time": "2023-08-22T20:57:56.946Z"
   },
   {
    "duration": 3,
    "start_time": "2023-08-22T20:57:57.338Z"
   },
   {
    "duration": 392,
    "start_time": "2023-08-22T20:57:57.342Z"
   },
   {
    "duration": 5,
    "start_time": "2023-08-22T20:57:57.745Z"
   },
   {
    "duration": 401,
    "start_time": "2023-08-22T20:57:57.833Z"
   },
   {
    "duration": 7,
    "start_time": "2023-08-22T20:57:58.245Z"
   },
   {
    "duration": 286,
    "start_time": "2023-08-22T20:57:58.259Z"
   },
   {
    "duration": 84,
    "start_time": "2023-08-22T20:57:58.550Z"
   },
   {
    "duration": 2726,
    "start_time": "2023-08-27T01:40:55.663Z"
   },
   {
    "duration": 147,
    "start_time": "2023-08-27T01:40:58.391Z"
   },
   {
    "duration": 4,
    "start_time": "2023-08-27T01:40:58.539Z"
   },
   {
    "duration": 31,
    "start_time": "2023-08-27T01:40:58.544Z"
   },
   {
    "duration": 39,
    "start_time": "2023-08-27T01:40:58.577Z"
   },
   {
    "duration": 27,
    "start_time": "2023-08-27T01:40:58.617Z"
   },
   {
    "duration": 62,
    "start_time": "2023-08-27T01:40:58.645Z"
   },
   {
    "duration": 27,
    "start_time": "2023-08-27T01:40:58.708Z"
   },
   {
    "duration": 10,
    "start_time": "2023-08-27T01:40:58.749Z"
   },
   {
    "duration": 15,
    "start_time": "2023-08-27T01:40:58.760Z"
   },
   {
    "duration": 6,
    "start_time": "2023-08-27T01:40:58.776Z"
   },
   {
    "duration": 5,
    "start_time": "2023-08-27T01:40:58.784Z"
   },
   {
    "duration": 14,
    "start_time": "2023-08-27T01:40:58.791Z"
   },
   {
    "duration": 11,
    "start_time": "2023-08-27T01:40:58.807Z"
   },
   {
    "duration": 22,
    "start_time": "2023-08-27T01:40:58.819Z"
   },
   {
    "duration": 15,
    "start_time": "2023-08-27T01:40:58.843Z"
   },
   {
    "duration": 17,
    "start_time": "2023-08-27T01:40:58.861Z"
   },
   {
    "duration": 9,
    "start_time": "2023-08-27T01:40:58.880Z"
   },
   {
    "duration": 12,
    "start_time": "2023-08-27T01:40:58.890Z"
   },
   {
    "duration": 22,
    "start_time": "2023-08-27T01:40:58.904Z"
   },
   {
    "duration": 38,
    "start_time": "2023-08-27T01:40:58.927Z"
   },
   {
    "duration": 61,
    "start_time": "2023-08-27T01:40:58.966Z"
   },
   {
    "duration": 36,
    "start_time": "2023-08-27T01:40:59.028Z"
   },
   {
    "duration": 39,
    "start_time": "2023-08-27T01:40:59.067Z"
   },
   {
    "duration": 2707,
    "start_time": "2023-08-27T01:40:59.108Z"
   },
   {
    "duration": 207,
    "start_time": "2023-08-27T01:41:01.817Z"
   },
   {
    "duration": 4,
    "start_time": "2023-08-27T01:41:02.025Z"
   },
   {
    "duration": 67,
    "start_time": "2023-08-27T01:41:02.031Z"
   },
   {
    "duration": 6,
    "start_time": "2023-08-27T01:41:02.100Z"
   },
   {
    "duration": 58,
    "start_time": "2023-08-27T01:41:02.108Z"
   },
   {
    "duration": 29902,
    "start_time": "2023-08-27T01:41:02.168Z"
   },
   {
    "duration": 19364,
    "start_time": "2023-08-27T01:41:32.071Z"
   },
   {
    "duration": 15988,
    "start_time": "2023-08-27T01:41:51.437Z"
   },
   {
    "duration": 2834,
    "start_time": "2023-08-27T16:16:15.595Z"
   },
   {
    "duration": 450,
    "start_time": "2023-08-27T16:16:18.430Z"
   },
   {
    "duration": 3,
    "start_time": "2023-08-27T16:16:18.882Z"
   },
   {
    "duration": 23,
    "start_time": "2023-08-27T16:16:18.887Z"
   },
   {
    "duration": 56,
    "start_time": "2023-08-27T16:16:18.912Z"
   },
   {
    "duration": 28,
    "start_time": "2023-08-27T16:16:18.970Z"
   },
   {
    "duration": 73,
    "start_time": "2023-08-27T16:16:19.000Z"
   },
   {
    "duration": 28,
    "start_time": "2023-08-27T16:16:19.074Z"
   },
   {
    "duration": 9,
    "start_time": "2023-08-27T16:16:19.133Z"
   },
   {
    "duration": 11,
    "start_time": "2023-08-27T16:16:19.152Z"
   },
   {
    "duration": 24,
    "start_time": "2023-08-27T16:16:19.164Z"
   },
   {
    "duration": 22,
    "start_time": "2023-08-27T16:16:19.189Z"
   },
   {
    "duration": 15,
    "start_time": "2023-08-27T16:16:19.213Z"
   },
   {
    "duration": 28,
    "start_time": "2023-08-27T16:16:19.230Z"
   },
   {
    "duration": 24,
    "start_time": "2023-08-27T16:16:19.260Z"
   },
   {
    "duration": 4,
    "start_time": "2023-08-27T16:16:19.286Z"
   },
   {
    "duration": 20,
    "start_time": "2023-08-27T16:16:19.291Z"
   },
   {
    "duration": 14,
    "start_time": "2023-08-27T16:16:19.312Z"
   },
   {
    "duration": 20,
    "start_time": "2023-08-27T16:16:19.327Z"
   },
   {
    "duration": 15,
    "start_time": "2023-08-27T16:16:19.348Z"
   },
   {
    "duration": 29,
    "start_time": "2023-08-27T16:16:19.364Z"
   },
   {
    "duration": 73,
    "start_time": "2023-08-27T16:16:19.394Z"
   },
   {
    "duration": 18,
    "start_time": "2023-08-27T16:16:19.469Z"
   },
   {
    "duration": 5,
    "start_time": "2023-08-27T16:16:19.489Z"
   },
   {
    "duration": 3059,
    "start_time": "2023-08-27T16:16:19.495Z"
   },
   {
    "duration": 426,
    "start_time": "2023-08-27T16:16:22.556Z"
   },
   {
    "duration": 62,
    "start_time": "2023-08-27T16:16:22.984Z"
   },
   {
    "duration": 101,
    "start_time": "2023-08-27T16:16:23.051Z"
   },
   {
    "duration": 7,
    "start_time": "2023-08-27T16:16:23.153Z"
   },
   {
    "duration": 14,
    "start_time": "2023-08-27T16:16:23.161Z"
   },
   {
    "duration": 18778,
    "start_time": "2023-08-27T16:16:23.176Z"
   },
   {
    "duration": 19256,
    "start_time": "2023-08-27T16:16:42.034Z"
   },
   {
    "duration": 15818,
    "start_time": "2023-08-27T16:17:01.292Z"
   },
   {
    "duration": 21,
    "start_time": "2023-08-27T16:47:10.811Z"
   },
   {
    "duration": 173,
    "start_time": "2023-08-27T20:31:56.830Z"
   },
   {
    "duration": 2244,
    "start_time": "2023-08-27T20:33:37.187Z"
   },
   {
    "duration": 460,
    "start_time": "2023-08-27T20:33:39.435Z"
   },
   {
    "duration": 14,
    "start_time": "2023-08-27T20:33:39.897Z"
   },
   {
    "duration": 13,
    "start_time": "2023-08-27T20:33:39.914Z"
   },
   {
    "duration": 79,
    "start_time": "2023-08-27T20:33:39.930Z"
   },
   {
    "duration": 51,
    "start_time": "2023-08-27T20:33:40.012Z"
   },
   {
    "duration": 105,
    "start_time": "2023-08-27T20:33:40.065Z"
   },
   {
    "duration": 84,
    "start_time": "2023-08-27T20:33:40.172Z"
   },
   {
    "duration": 6,
    "start_time": "2023-08-27T20:33:40.259Z"
   },
   {
    "duration": 42,
    "start_time": "2023-08-27T20:33:40.267Z"
   },
   {
    "duration": 16,
    "start_time": "2023-08-27T20:33:40.311Z"
   },
   {
    "duration": 29,
    "start_time": "2023-08-27T20:33:40.329Z"
   },
   {
    "duration": 29,
    "start_time": "2023-08-27T20:33:40.360Z"
   },
   {
    "duration": 30,
    "start_time": "2023-08-27T20:33:40.390Z"
   },
   {
    "duration": 33,
    "start_time": "2023-08-27T20:33:40.422Z"
   },
   {
    "duration": 5,
    "start_time": "2023-08-27T20:33:40.457Z"
   },
   {
    "duration": 19,
    "start_time": "2023-08-27T20:33:40.464Z"
   },
   {
    "duration": 11,
    "start_time": "2023-08-27T20:33:40.501Z"
   },
   {
    "duration": 41,
    "start_time": "2023-08-27T20:33:40.513Z"
   },
   {
    "duration": 11,
    "start_time": "2023-08-27T20:33:40.556Z"
   },
   {
    "duration": 65,
    "start_time": "2023-08-27T20:33:40.568Z"
   },
   {
    "duration": 130,
    "start_time": "2023-08-27T20:33:40.635Z"
   },
   {
    "duration": 57,
    "start_time": "2023-08-27T20:33:40.767Z"
   },
   {
    "duration": 9,
    "start_time": "2023-08-27T20:33:40.826Z"
   },
   {
    "duration": 3537,
    "start_time": "2023-08-27T20:33:40.837Z"
   },
   {
    "duration": 313,
    "start_time": "2023-08-27T20:33:44.376Z"
   },
   {
    "duration": 170,
    "start_time": "2023-08-27T20:33:44.691Z"
   },
   {
    "duration": 0,
    "start_time": "2023-08-27T20:33:44.864Z"
   },
   {
    "duration": 0,
    "start_time": "2023-08-27T20:33:44.866Z"
   },
   {
    "duration": 0,
    "start_time": "2023-08-27T20:33:44.868Z"
   },
   {
    "duration": 0,
    "start_time": "2023-08-27T20:33:44.869Z"
   },
   {
    "duration": 0,
    "start_time": "2023-08-27T20:33:44.871Z"
   },
   {
    "duration": 0,
    "start_time": "2023-08-27T20:33:44.873Z"
   },
   {
    "duration": 0,
    "start_time": "2023-08-27T20:33:44.875Z"
   },
   {
    "duration": 0,
    "start_time": "2023-08-27T20:33:44.876Z"
   },
   {
    "duration": 14,
    "start_time": "2023-08-27T20:33:54.574Z"
   },
   {
    "duration": 12,
    "start_time": "2023-08-27T20:34:05.713Z"
   },
   {
    "duration": 14,
    "start_time": "2023-08-27T20:34:36.977Z"
   },
   {
    "duration": 25,
    "start_time": "2023-08-27T20:34:38.350Z"
   },
   {
    "duration": 7,
    "start_time": "2023-08-27T20:34:39.588Z"
   },
   {
    "duration": 114,
    "start_time": "2023-08-27T20:35:18.339Z"
   },
   {
    "duration": 4,
    "start_time": "2023-08-27T20:36:00.749Z"
   },
   {
    "duration": 1911,
    "start_time": "2023-08-27T20:36:08.869Z"
   },
   {
    "duration": 289,
    "start_time": "2023-08-27T20:36:10.783Z"
   },
   {
    "duration": 5,
    "start_time": "2023-08-27T20:36:11.074Z"
   },
   {
    "duration": 13,
    "start_time": "2023-08-27T20:36:11.082Z"
   },
   {
    "duration": 98,
    "start_time": "2023-08-27T20:36:11.097Z"
   },
   {
    "duration": 73,
    "start_time": "2023-08-27T20:36:11.197Z"
   },
   {
    "duration": 88,
    "start_time": "2023-08-27T20:36:11.271Z"
   },
   {
    "duration": 83,
    "start_time": "2023-08-27T20:36:11.360Z"
   },
   {
    "duration": 7,
    "start_time": "2023-08-27T20:36:11.445Z"
   },
   {
    "duration": 14,
    "start_time": "2023-08-27T20:36:11.456Z"
   },
   {
    "duration": 38,
    "start_time": "2023-08-27T20:36:11.472Z"
   },
   {
    "duration": 16,
    "start_time": "2023-08-27T20:36:11.514Z"
   },
   {
    "duration": 32,
    "start_time": "2023-08-27T20:36:11.533Z"
   },
   {
    "duration": 30,
    "start_time": "2023-08-27T20:36:11.566Z"
   },
   {
    "duration": 45,
    "start_time": "2023-08-27T20:36:11.598Z"
   },
   {
    "duration": 5,
    "start_time": "2023-08-27T20:36:11.645Z"
   },
   {
    "duration": 18,
    "start_time": "2023-08-27T20:36:11.652Z"
   },
   {
    "duration": 8,
    "start_time": "2023-08-27T20:36:11.672Z"
   },
   {
    "duration": 20,
    "start_time": "2023-08-27T20:36:11.705Z"
   },
   {
    "duration": 10,
    "start_time": "2023-08-27T20:36:11.726Z"
   },
   {
    "duration": 30,
    "start_time": "2023-08-27T20:36:11.738Z"
   },
   {
    "duration": 120,
    "start_time": "2023-08-27T20:36:11.771Z"
   },
   {
    "duration": 32,
    "start_time": "2023-08-27T20:36:11.904Z"
   },
   {
    "duration": 4,
    "start_time": "2023-08-27T20:36:11.938Z"
   },
   {
    "duration": 3447,
    "start_time": "2023-08-27T20:36:11.944Z"
   },
   {
    "duration": 273,
    "start_time": "2023-08-27T20:36:15.393Z"
   },
   {
    "duration": 13,
    "start_time": "2023-08-27T20:36:15.669Z"
   },
   {
    "duration": 15,
    "start_time": "2023-08-27T20:36:15.703Z"
   },
   {
    "duration": 60,
    "start_time": "2023-08-27T20:36:15.724Z"
   },
   {
    "duration": 12,
    "start_time": "2023-08-27T20:36:15.786Z"
   },
   {
    "duration": 35,
    "start_time": "2023-08-27T20:36:15.800Z"
   },
   {
    "duration": 7,
    "start_time": "2023-08-27T20:36:15.837Z"
   },
   {
    "duration": 196,
    "start_time": "2023-08-27T20:36:15.847Z"
   },
   {
    "duration": 0,
    "start_time": "2023-08-27T20:36:16.045Z"
   },
   {
    "duration": 0,
    "start_time": "2023-08-27T20:36:16.047Z"
   },
   {
    "duration": 0,
    "start_time": "2023-08-27T20:36:16.048Z"
   },
   {
    "duration": 0,
    "start_time": "2023-08-27T20:36:16.050Z"
   },
   {
    "duration": 1602,
    "start_time": "2023-08-27T20:36:39.858Z"
   },
   {
    "duration": 217,
    "start_time": "2023-08-27T20:36:41.462Z"
   },
   {
    "duration": 3,
    "start_time": "2023-08-27T20:36:41.681Z"
   },
   {
    "duration": 6,
    "start_time": "2023-08-27T20:36:41.686Z"
   },
   {
    "duration": 81,
    "start_time": "2023-08-27T20:36:41.693Z"
   },
   {
    "duration": 61,
    "start_time": "2023-08-27T20:36:41.776Z"
   },
   {
    "duration": 96,
    "start_time": "2023-08-27T20:36:41.840Z"
   },
   {
    "duration": 31,
    "start_time": "2023-08-27T20:36:41.938Z"
   },
   {
    "duration": 6,
    "start_time": "2023-08-27T20:36:42.012Z"
   },
   {
    "duration": 5,
    "start_time": "2023-08-27T20:36:42.020Z"
   },
   {
    "duration": 13,
    "start_time": "2023-08-27T20:36:42.030Z"
   },
   {
    "duration": 9,
    "start_time": "2023-08-27T20:36:42.044Z"
   },
   {
    "duration": 14,
    "start_time": "2023-08-27T20:36:42.055Z"
   },
   {
    "duration": 42,
    "start_time": "2023-08-27T20:36:42.071Z"
   },
   {
    "duration": 25,
    "start_time": "2023-08-27T20:36:42.117Z"
   },
   {
    "duration": 5,
    "start_time": "2023-08-27T20:36:42.144Z"
   },
   {
    "duration": 15,
    "start_time": "2023-08-27T20:36:42.150Z"
   },
   {
    "duration": 43,
    "start_time": "2023-08-27T20:36:42.167Z"
   },
   {
    "duration": 25,
    "start_time": "2023-08-27T20:36:42.212Z"
   },
   {
    "duration": 8,
    "start_time": "2023-08-27T20:36:42.239Z"
   },
   {
    "duration": 63,
    "start_time": "2023-08-27T20:36:42.250Z"
   },
   {
    "duration": 112,
    "start_time": "2023-08-27T20:36:42.315Z"
   },
   {
    "duration": 24,
    "start_time": "2023-08-27T20:36:42.429Z"
   },
   {
    "duration": 3,
    "start_time": "2023-08-27T20:36:42.454Z"
   },
   {
    "duration": 3335,
    "start_time": "2023-08-27T20:36:42.458Z"
   },
   {
    "duration": 264,
    "start_time": "2023-08-27T20:36:45.795Z"
   },
   {
    "duration": 8,
    "start_time": "2023-08-27T20:36:46.061Z"
   },
   {
    "duration": 4,
    "start_time": "2023-08-27T20:36:46.072Z"
   },
   {
    "duration": 78,
    "start_time": "2023-08-27T20:36:46.077Z"
   },
   {
    "duration": 8,
    "start_time": "2023-08-27T20:36:46.156Z"
   },
   {
    "duration": 57,
    "start_time": "2023-08-27T20:36:46.165Z"
   },
   {
    "duration": 6,
    "start_time": "2023-08-27T20:36:46.232Z"
   },
   {
    "duration": 16,
    "start_time": "2023-08-27T20:36:46.239Z"
   },
   {
    "duration": 5,
    "start_time": "2023-08-27T20:36:46.257Z"
   },
   {
    "duration": 29274,
    "start_time": "2023-08-27T20:36:46.263Z"
   },
   {
    "duration": 27572,
    "start_time": "2023-08-27T20:37:15.623Z"
   },
   {
    "duration": 62398,
    "start_time": "2023-08-27T20:37:43.197Z"
   },
   {
    "duration": 5,
    "start_time": "2023-08-27T20:39:03.472Z"
   },
   {
    "duration": 1541,
    "start_time": "2023-08-27T20:40:39.167Z"
   },
   {
    "duration": 1465,
    "start_time": "2023-08-27T20:40:49.367Z"
   },
   {
    "duration": 1616,
    "start_time": "2023-08-27T20:40:57.015Z"
   },
   {
    "duration": 3243,
    "start_time": "2023-08-27T20:41:32.826Z"
   },
   {
    "duration": 163,
    "start_time": "2023-08-27T20:42:22.772Z"
   },
   {
    "duration": 14,
    "start_time": "2023-08-27T20:42:26.646Z"
   },
   {
    "duration": 251,
    "start_time": "2023-08-27T20:42:27.149Z"
   },
   {
    "duration": 18,
    "start_time": "2023-08-27T20:42:39.655Z"
   },
   {
    "duration": 124,
    "start_time": "2023-08-27T20:42:40.148Z"
   },
   {
    "duration": 1682,
    "start_time": "2023-08-27T20:42:55.966Z"
   },
   {
    "duration": 176,
    "start_time": "2023-08-27T20:42:57.650Z"
   },
   {
    "duration": 6,
    "start_time": "2023-08-27T20:42:57.829Z"
   },
   {
    "duration": 5,
    "start_time": "2023-08-27T20:42:57.838Z"
   },
   {
    "duration": 71,
    "start_time": "2023-08-27T20:42:57.846Z"
   },
   {
    "duration": 56,
    "start_time": "2023-08-27T20:42:57.918Z"
   },
   {
    "duration": 98,
    "start_time": "2023-08-27T20:42:57.976Z"
   },
   {
    "duration": 79,
    "start_time": "2023-08-27T20:42:58.075Z"
   },
   {
    "duration": 5,
    "start_time": "2023-08-27T20:42:58.155Z"
   },
   {
    "duration": 15,
    "start_time": "2023-08-27T20:42:58.162Z"
   },
   {
    "duration": 33,
    "start_time": "2023-08-27T20:42:58.178Z"
   },
   {
    "duration": 19,
    "start_time": "2023-08-27T20:42:58.213Z"
   },
   {
    "duration": 22,
    "start_time": "2023-08-27T20:42:58.234Z"
   },
   {
    "duration": 14,
    "start_time": "2023-08-27T20:42:58.259Z"
   },
   {
    "duration": 49,
    "start_time": "2023-08-27T20:42:58.275Z"
   },
   {
    "duration": 8,
    "start_time": "2023-08-27T20:42:58.326Z"
   },
   {
    "duration": 23,
    "start_time": "2023-08-27T20:42:58.338Z"
   },
   {
    "duration": 11,
    "start_time": "2023-08-27T20:42:58.363Z"
   },
   {
    "duration": 47,
    "start_time": "2023-08-27T20:42:58.376Z"
   },
   {
    "duration": 14,
    "start_time": "2023-08-27T20:42:58.425Z"
   },
   {
    "duration": 34,
    "start_time": "2023-08-27T20:42:58.442Z"
   },
   {
    "duration": 108,
    "start_time": "2023-08-27T20:42:58.478Z"
   },
   {
    "duration": 38,
    "start_time": "2023-08-27T20:42:58.604Z"
   },
   {
    "duration": 5,
    "start_time": "2023-08-27T20:42:58.644Z"
   },
   {
    "duration": 3479,
    "start_time": "2023-08-27T20:42:58.651Z"
   },
   {
    "duration": 336,
    "start_time": "2023-08-27T20:43:02.136Z"
   },
   {
    "duration": 12,
    "start_time": "2023-08-27T20:43:02.475Z"
   },
   {
    "duration": 10,
    "start_time": "2023-08-27T20:43:02.501Z"
   },
   {
    "duration": 58,
    "start_time": "2023-08-27T20:43:02.513Z"
   },
   {
    "duration": 13,
    "start_time": "2023-08-27T20:43:02.573Z"
   },
   {
    "duration": 36,
    "start_time": "2023-08-27T20:43:02.587Z"
   },
   {
    "duration": 6,
    "start_time": "2023-08-27T20:43:02.626Z"
   },
   {
    "duration": 30,
    "start_time": "2023-08-27T20:43:02.634Z"
   },
   {
    "duration": 5,
    "start_time": "2023-08-27T20:43:02.666Z"
   },
   {
    "duration": 29970,
    "start_time": "2023-08-27T20:43:02.672Z"
   },
   {
    "duration": 4698,
    "start_time": "2023-08-27T20:43:32.714Z"
   },
   {
    "duration": 0,
    "start_time": "2023-08-27T20:43:37.416Z"
   },
   {
    "duration": 0,
    "start_time": "2023-08-27T20:43:37.417Z"
   },
   {
    "duration": 7,
    "start_time": "2023-08-27T20:43:39.278Z"
   },
   {
    "duration": 1605,
    "start_time": "2023-08-27T20:43:51.578Z"
   },
   {
    "duration": 156,
    "start_time": "2023-08-27T20:43:53.185Z"
   },
   {
    "duration": 3,
    "start_time": "2023-08-27T20:43:53.343Z"
   },
   {
    "duration": 7,
    "start_time": "2023-08-27T20:43:53.348Z"
   },
   {
    "duration": 62,
    "start_time": "2023-08-27T20:43:53.356Z"
   },
   {
    "duration": 43,
    "start_time": "2023-08-27T20:43:53.420Z"
   },
   {
    "duration": 93,
    "start_time": "2023-08-27T20:43:53.464Z"
   },
   {
    "duration": 80,
    "start_time": "2023-08-27T20:43:53.559Z"
   },
   {
    "duration": 5,
    "start_time": "2023-08-27T20:43:53.640Z"
   },
   {
    "duration": 6,
    "start_time": "2023-08-27T20:43:53.647Z"
   },
   {
    "duration": 5,
    "start_time": "2023-08-27T20:43:53.655Z"
   },
   {
    "duration": 5,
    "start_time": "2023-08-27T20:43:53.662Z"
   },
   {
    "duration": 50,
    "start_time": "2023-08-27T20:43:53.669Z"
   },
   {
    "duration": 17,
    "start_time": "2023-08-27T20:43:53.720Z"
   },
   {
    "duration": 19,
    "start_time": "2023-08-27T20:43:53.738Z"
   },
   {
    "duration": 58,
    "start_time": "2023-08-27T20:43:53.759Z"
   },
   {
    "duration": 23,
    "start_time": "2023-08-27T20:43:53.818Z"
   },
   {
    "duration": 18,
    "start_time": "2023-08-27T20:43:53.843Z"
   },
   {
    "duration": 15,
    "start_time": "2023-08-27T20:43:53.863Z"
   },
   {
    "duration": 7,
    "start_time": "2023-08-27T20:43:53.880Z"
   },
   {
    "duration": 51,
    "start_time": "2023-08-27T20:43:53.888Z"
   },
   {
    "duration": 97,
    "start_time": "2023-08-27T20:43:53.940Z"
   },
   {
    "duration": 22,
    "start_time": "2023-08-27T20:43:54.039Z"
   },
   {
    "duration": 3,
    "start_time": "2023-08-27T20:43:54.063Z"
   },
   {
    "duration": 3302,
    "start_time": "2023-08-27T20:43:54.068Z"
   },
   {
    "duration": 284,
    "start_time": "2023-08-27T20:43:57.372Z"
   },
   {
    "duration": 10,
    "start_time": "2023-08-27T20:43:57.658Z"
   },
   {
    "duration": 59,
    "start_time": "2023-08-27T20:43:57.671Z"
   },
   {
    "duration": 46,
    "start_time": "2023-08-27T20:43:57.732Z"
   },
   {
    "duration": 8,
    "start_time": "2023-08-27T20:43:57.779Z"
   },
   {
    "duration": 45,
    "start_time": "2023-08-27T20:43:57.789Z"
   },
   {
    "duration": 19,
    "start_time": "2023-08-27T20:43:57.835Z"
   },
   {
    "duration": 39,
    "start_time": "2023-08-27T20:43:57.855Z"
   },
   {
    "duration": 37,
    "start_time": "2023-08-27T20:43:57.896Z"
   },
   {
    "duration": 102,
    "start_time": "2023-08-27T20:43:57.935Z"
   },
   {
    "duration": 31579,
    "start_time": "2023-08-27T20:43:58.039Z"
   },
   {
    "duration": 29205,
    "start_time": "2023-08-27T20:44:29.620Z"
   },
   {
    "duration": 45821,
    "start_time": "2023-08-27T20:44:58.827Z"
   },
   {
    "duration": 1754,
    "start_time": "2023-08-27T20:47:24.874Z"
   },
   {
    "duration": 162,
    "start_time": "2023-08-27T20:47:26.636Z"
   },
   {
    "duration": 7,
    "start_time": "2023-08-27T20:47:26.800Z"
   },
   {
    "duration": 28,
    "start_time": "2023-08-27T20:47:26.811Z"
   },
   {
    "duration": 71,
    "start_time": "2023-08-27T20:47:26.842Z"
   },
   {
    "duration": 39,
    "start_time": "2023-08-27T20:47:26.915Z"
   },
   {
    "duration": 177,
    "start_time": "2023-08-27T20:47:26.956Z"
   },
   {
    "duration": 37,
    "start_time": "2023-08-27T20:47:27.135Z"
   },
   {
    "duration": 29,
    "start_time": "2023-08-27T20:47:27.173Z"
   },
   {
    "duration": 41,
    "start_time": "2023-08-27T20:47:27.207Z"
   },
   {
    "duration": 6,
    "start_time": "2023-08-27T20:47:27.251Z"
   },
   {
    "duration": 7,
    "start_time": "2023-08-27T20:47:27.259Z"
   },
   {
    "duration": 29,
    "start_time": "2023-08-27T20:47:27.268Z"
   },
   {
    "duration": 27,
    "start_time": "2023-08-27T20:47:27.299Z"
   },
   {
    "duration": 26,
    "start_time": "2023-08-27T20:47:27.328Z"
   },
   {
    "duration": 5,
    "start_time": "2023-08-27T20:47:27.356Z"
   },
   {
    "duration": 29,
    "start_time": "2023-08-27T20:47:27.363Z"
   },
   {
    "duration": 35,
    "start_time": "2023-08-27T20:47:27.394Z"
   },
   {
    "duration": 34,
    "start_time": "2023-08-27T20:47:27.433Z"
   },
   {
    "duration": 8,
    "start_time": "2023-08-27T20:47:27.469Z"
   },
   {
    "duration": 51,
    "start_time": "2023-08-27T20:47:27.478Z"
   },
   {
    "duration": 88,
    "start_time": "2023-08-27T20:47:27.539Z"
   },
   {
    "duration": 35,
    "start_time": "2023-08-27T20:47:27.628Z"
   },
   {
    "duration": 4,
    "start_time": "2023-08-27T20:47:27.665Z"
   },
   {
    "duration": 3623,
    "start_time": "2023-08-27T20:47:27.671Z"
   },
   {
    "duration": 286,
    "start_time": "2023-08-27T20:47:31.296Z"
   },
   {
    "duration": 23,
    "start_time": "2023-08-27T20:47:31.584Z"
   },
   {
    "duration": 10,
    "start_time": "2023-08-27T20:47:31.613Z"
   },
   {
    "duration": 71,
    "start_time": "2023-08-27T20:47:31.624Z"
   },
   {
    "duration": 27,
    "start_time": "2023-08-27T20:47:31.698Z"
   },
   {
    "duration": 34,
    "start_time": "2023-08-27T20:47:31.731Z"
   },
   {
    "duration": 8,
    "start_time": "2023-08-27T20:47:31.767Z"
   },
   {
    "duration": 63,
    "start_time": "2023-08-27T20:47:31.777Z"
   },
   {
    "duration": 17,
    "start_time": "2023-08-27T20:47:31.846Z"
   },
   {
    "duration": 16,
    "start_time": "2023-08-27T20:47:31.865Z"
   },
   {
    "duration": 35250,
    "start_time": "2023-08-27T20:47:31.882Z"
   },
   {
    "duration": 214,
    "start_time": "2023-08-27T20:48:07.216Z"
   },
   {
    "duration": 0,
    "start_time": "2023-08-27T20:48:07.432Z"
   },
   {
    "duration": 11495,
    "start_time": "2023-08-27T20:48:39.641Z"
   },
   {
    "duration": 36678,
    "start_time": "2023-08-27T20:48:51.229Z"
   },
   {
    "duration": 86858,
    "start_time": "2023-08-27T20:51:13.118Z"
   },
   {
    "duration": 1133,
    "start_time": "2023-08-27T20:52:42.827Z"
   },
   {
    "duration": 996,
    "start_time": "2023-08-27T20:52:58.854Z"
   },
   {
    "duration": 1057,
    "start_time": "2023-08-27T20:53:05.600Z"
   },
   {
    "duration": 1568,
    "start_time": "2023-08-27T20:53:36.524Z"
   },
   {
    "duration": 157,
    "start_time": "2023-08-27T20:53:38.094Z"
   },
   {
    "duration": 5,
    "start_time": "2023-08-27T20:53:38.253Z"
   },
   {
    "duration": 57,
    "start_time": "2023-08-27T20:53:38.260Z"
   },
   {
    "duration": 73,
    "start_time": "2023-08-27T20:53:38.326Z"
   },
   {
    "duration": 50,
    "start_time": "2023-08-27T20:53:38.401Z"
   },
   {
    "duration": 119,
    "start_time": "2023-08-27T20:53:38.453Z"
   },
   {
    "duration": 66,
    "start_time": "2023-08-27T20:53:38.574Z"
   },
   {
    "duration": 6,
    "start_time": "2023-08-27T20:53:38.642Z"
   },
   {
    "duration": 35,
    "start_time": "2023-08-27T20:53:38.649Z"
   },
   {
    "duration": 92,
    "start_time": "2023-08-27T20:53:38.687Z"
   },
   {
    "duration": 18,
    "start_time": "2023-08-27T20:53:38.781Z"
   },
   {
    "duration": 19,
    "start_time": "2023-08-27T20:53:38.805Z"
   },
   {
    "duration": 20,
    "start_time": "2023-08-27T20:53:38.833Z"
   },
   {
    "duration": 23,
    "start_time": "2023-08-27T20:53:38.856Z"
   },
   {
    "duration": 8,
    "start_time": "2023-08-27T20:53:38.901Z"
   },
   {
    "duration": 27,
    "start_time": "2023-08-27T20:53:38.919Z"
   },
   {
    "duration": 11,
    "start_time": "2023-08-27T20:53:38.948Z"
   },
   {
    "duration": 48,
    "start_time": "2023-08-27T20:53:38.963Z"
   },
   {
    "duration": 14,
    "start_time": "2023-08-27T20:53:39.013Z"
   },
   {
    "duration": 37,
    "start_time": "2023-08-27T20:53:39.029Z"
   },
   {
    "duration": 101,
    "start_time": "2023-08-27T20:53:39.068Z"
   },
   {
    "duration": 71,
    "start_time": "2023-08-27T20:53:39.171Z"
   },
   {
    "duration": 9,
    "start_time": "2023-08-27T20:53:39.244Z"
   },
   {
    "duration": 3326,
    "start_time": "2023-08-27T20:53:39.254Z"
   },
   {
    "duration": 265,
    "start_time": "2023-08-27T20:53:42.583Z"
   },
   {
    "duration": 10,
    "start_time": "2023-08-27T20:53:42.850Z"
   },
   {
    "duration": 7,
    "start_time": "2023-08-27T20:53:42.862Z"
   },
   {
    "duration": 73,
    "start_time": "2023-08-27T20:53:42.870Z"
   },
   {
    "duration": 10,
    "start_time": "2023-08-27T20:53:42.946Z"
   },
   {
    "duration": 25,
    "start_time": "2023-08-27T20:53:42.958Z"
   },
   {
    "duration": 25,
    "start_time": "2023-08-27T20:53:42.985Z"
   },
   {
    "duration": 18,
    "start_time": "2023-08-27T20:53:43.012Z"
   },
   {
    "duration": 6,
    "start_time": "2023-08-27T20:53:43.033Z"
   },
   {
    "duration": 31159,
    "start_time": "2023-08-27T20:53:43.042Z"
   },
   {
    "duration": 36655,
    "start_time": "2023-08-27T20:54:14.203Z"
   },
   {
    "duration": 108206,
    "start_time": "2023-08-27T20:54:50.860Z"
   },
   {
    "duration": 982,
    "start_time": "2023-08-27T20:56:39.068Z"
   },
   {
    "duration": 1026,
    "start_time": "2023-08-27T20:57:09.684Z"
   },
   {
    "duration": 1569,
    "start_time": "2023-08-27T21:04:48.079Z"
   },
   {
    "duration": 184,
    "start_time": "2023-08-27T21:04:49.650Z"
   },
   {
    "duration": 3,
    "start_time": "2023-08-27T21:04:49.836Z"
   },
   {
    "duration": 28,
    "start_time": "2023-08-27T21:04:49.841Z"
   },
   {
    "duration": 61,
    "start_time": "2023-08-27T21:04:49.871Z"
   },
   {
    "duration": 32,
    "start_time": "2023-08-27T21:04:49.934Z"
   },
   {
    "duration": 91,
    "start_time": "2023-08-27T21:04:49.968Z"
   },
   {
    "duration": 72,
    "start_time": "2023-08-27T21:04:50.061Z"
   },
   {
    "duration": 6,
    "start_time": "2023-08-27T21:04:50.135Z"
   },
   {
    "duration": 15,
    "start_time": "2023-08-27T21:04:50.143Z"
   },
   {
    "duration": 49,
    "start_time": "2023-08-27T21:04:50.160Z"
   },
   {
    "duration": 5,
    "start_time": "2023-08-27T21:04:50.220Z"
   },
   {
    "duration": 21,
    "start_time": "2023-08-27T21:04:50.226Z"
   },
   {
    "duration": 24,
    "start_time": "2023-08-27T21:04:50.250Z"
   },
   {
    "duration": 41,
    "start_time": "2023-08-27T21:04:50.276Z"
   },
   {
    "duration": 8,
    "start_time": "2023-08-27T21:04:50.318Z"
   },
   {
    "duration": 27,
    "start_time": "2023-08-27T21:04:50.329Z"
   },
   {
    "duration": 8,
    "start_time": "2023-08-27T21:04:50.358Z"
   },
   {
    "duration": 54,
    "start_time": "2023-08-27T21:04:50.367Z"
   },
   {
    "duration": 10,
    "start_time": "2023-08-27T21:04:50.424Z"
   },
   {
    "duration": 60,
    "start_time": "2023-08-27T21:04:50.436Z"
   },
   {
    "duration": 112,
    "start_time": "2023-08-27T21:04:50.497Z"
   },
   {
    "duration": 24,
    "start_time": "2023-08-27T21:04:50.613Z"
   },
   {
    "duration": 4,
    "start_time": "2023-08-27T21:04:50.639Z"
   },
   {
    "duration": 3146,
    "start_time": "2023-08-27T21:04:50.644Z"
   },
   {
    "duration": 261,
    "start_time": "2023-08-27T21:04:53.792Z"
   },
   {
    "duration": 10,
    "start_time": "2023-08-27T21:04:54.055Z"
   },
   {
    "duration": 10,
    "start_time": "2023-08-27T21:04:54.067Z"
   },
   {
    "duration": 83,
    "start_time": "2023-08-27T21:04:54.079Z"
   },
   {
    "duration": 9,
    "start_time": "2023-08-27T21:04:54.164Z"
   },
   {
    "duration": 45,
    "start_time": "2023-08-27T21:04:54.175Z"
   },
   {
    "duration": 7,
    "start_time": "2023-08-27T21:04:54.222Z"
   },
   {
    "duration": 25,
    "start_time": "2023-08-27T21:04:54.231Z"
   },
   {
    "duration": 19,
    "start_time": "2023-08-27T21:04:54.258Z"
   },
   {
    "duration": 39744,
    "start_time": "2023-08-27T21:04:54.279Z"
   },
   {
    "duration": 389,
    "start_time": "2023-08-27T21:05:34.025Z"
   },
   {
    "duration": 50794,
    "start_time": "2023-08-27T21:05:34.416Z"
   },
   {
    "duration": 248,
    "start_time": "2023-08-27T21:06:25.218Z"
   },
   {
    "duration": 126,
    "start_time": "2023-08-27T21:06:25.468Z"
   },
   {
    "duration": 0,
    "start_time": "2023-08-27T21:06:25.595Z"
   },
   {
    "duration": 1452,
    "start_time": "2023-08-27T21:10:16.751Z"
   },
   {
    "duration": 139,
    "start_time": "2023-08-27T21:10:18.207Z"
   },
   {
    "duration": 4,
    "start_time": "2023-08-27T21:10:18.348Z"
   },
   {
    "duration": 25,
    "start_time": "2023-08-27T21:10:18.354Z"
   },
   {
    "duration": 86,
    "start_time": "2023-08-27T21:10:18.381Z"
   },
   {
    "duration": 59,
    "start_time": "2023-08-27T21:10:18.469Z"
   },
   {
    "duration": 85,
    "start_time": "2023-08-27T21:10:18.531Z"
   },
   {
    "duration": 35,
    "start_time": "2023-08-27T21:10:18.618Z"
   },
   {
    "duration": 53,
    "start_time": "2023-08-27T21:10:18.655Z"
   },
   {
    "duration": 21,
    "start_time": "2023-08-27T21:10:18.712Z"
   },
   {
    "duration": 23,
    "start_time": "2023-08-27T21:10:18.736Z"
   },
   {
    "duration": 14,
    "start_time": "2023-08-27T21:10:18.760Z"
   },
   {
    "duration": 24,
    "start_time": "2023-08-27T21:10:18.775Z"
   },
   {
    "duration": 48,
    "start_time": "2023-08-27T21:10:18.802Z"
   },
   {
    "duration": 63,
    "start_time": "2023-08-27T21:10:18.853Z"
   },
   {
    "duration": 5,
    "start_time": "2023-08-27T21:10:18.919Z"
   },
   {
    "duration": 28,
    "start_time": "2023-08-27T21:10:18.926Z"
   },
   {
    "duration": 34,
    "start_time": "2023-08-27T21:10:18.956Z"
   },
   {
    "duration": 34,
    "start_time": "2023-08-27T21:10:18.992Z"
   },
   {
    "duration": 32,
    "start_time": "2023-08-27T21:10:19.028Z"
   },
   {
    "duration": 49,
    "start_time": "2023-08-27T21:10:19.062Z"
   },
   {
    "duration": 99,
    "start_time": "2023-08-27T21:10:19.113Z"
   },
   {
    "duration": 26,
    "start_time": "2023-08-27T21:10:19.214Z"
   },
   {
    "duration": 8,
    "start_time": "2023-08-27T21:10:19.241Z"
   },
   {
    "duration": 3094,
    "start_time": "2023-08-27T21:10:19.250Z"
   },
   {
    "duration": 382,
    "start_time": "2023-08-27T21:10:22.347Z"
   },
   {
    "duration": 10,
    "start_time": "2023-08-27T21:10:22.731Z"
   },
   {
    "duration": 27,
    "start_time": "2023-08-27T21:10:22.744Z"
   },
   {
    "duration": 66,
    "start_time": "2023-08-27T21:10:22.773Z"
   },
   {
    "duration": 9,
    "start_time": "2023-08-27T21:10:22.841Z"
   },
   {
    "duration": 24,
    "start_time": "2023-08-27T21:10:22.852Z"
   },
   {
    "duration": 15,
    "start_time": "2023-08-27T21:10:22.878Z"
   },
   {
    "duration": 25,
    "start_time": "2023-08-27T21:10:22.902Z"
   },
   {
    "duration": 18,
    "start_time": "2023-08-27T21:10:22.928Z"
   },
   {
    "duration": 38872,
    "start_time": "2023-08-27T21:10:22.948Z"
   },
   {
    "duration": 239,
    "start_time": "2023-08-27T21:11:01.912Z"
   },
   {
    "duration": 49981,
    "start_time": "2023-08-27T21:11:02.152Z"
   },
   {
    "duration": 152,
    "start_time": "2023-08-27T21:11:52.135Z"
   },
   {
    "duration": 36495,
    "start_time": "2023-08-27T21:11:52.289Z"
   },
   {
    "duration": 173,
    "start_time": "2023-08-27T21:12:28.786Z"
   },
   {
    "duration": 155,
    "start_time": "2023-08-27T21:12:28.962Z"
   },
   {
    "duration": 1194,
    "start_time": "2023-08-27T21:12:43.806Z"
   },
   {
    "duration": 1632,
    "start_time": "2023-08-27T21:12:52.601Z"
   },
   {
    "duration": 135,
    "start_time": "2023-08-27T21:12:54.238Z"
   },
   {
    "duration": 3,
    "start_time": "2023-08-27T21:12:54.375Z"
   },
   {
    "duration": 36,
    "start_time": "2023-08-27T21:12:54.380Z"
   },
   {
    "duration": 63,
    "start_time": "2023-08-27T21:12:54.421Z"
   },
   {
    "duration": 41,
    "start_time": "2023-08-27T21:12:54.485Z"
   },
   {
    "duration": 98,
    "start_time": "2023-08-27T21:12:54.530Z"
   },
   {
    "duration": 47,
    "start_time": "2023-08-27T21:12:54.630Z"
   },
   {
    "duration": 12,
    "start_time": "2023-08-27T21:12:54.707Z"
   },
   {
    "duration": 27,
    "start_time": "2023-08-27T21:12:54.721Z"
   },
   {
    "duration": 73,
    "start_time": "2023-08-27T21:12:54.751Z"
   },
   {
    "duration": 15,
    "start_time": "2023-08-27T21:12:54.827Z"
   },
   {
    "duration": 85,
    "start_time": "2023-08-27T21:12:54.845Z"
   },
   {
    "duration": 14,
    "start_time": "2023-08-27T21:12:54.940Z"
   },
   {
    "duration": 37,
    "start_time": "2023-08-27T21:12:54.956Z"
   },
   {
    "duration": 6,
    "start_time": "2023-08-27T21:12:54.995Z"
   },
   {
    "duration": 29,
    "start_time": "2023-08-27T21:12:55.003Z"
   },
   {
    "duration": 13,
    "start_time": "2023-08-27T21:12:55.035Z"
   },
   {
    "duration": 22,
    "start_time": "2023-08-27T21:12:55.050Z"
   },
   {
    "duration": 8,
    "start_time": "2023-08-27T21:12:55.074Z"
   },
   {
    "duration": 34,
    "start_time": "2023-08-27T21:12:55.103Z"
   },
   {
    "duration": 110,
    "start_time": "2023-08-27T21:12:55.138Z"
   },
   {
    "duration": 25,
    "start_time": "2023-08-27T21:12:55.250Z"
   },
   {
    "duration": 4,
    "start_time": "2023-08-27T21:12:55.276Z"
   },
   {
    "duration": 3203,
    "start_time": "2023-08-27T21:12:55.305Z"
   },
   {
    "duration": 396,
    "start_time": "2023-08-27T21:12:58.509Z"
   },
   {
    "duration": 24,
    "start_time": "2023-08-27T21:12:58.911Z"
   },
   {
    "duration": 4,
    "start_time": "2023-08-27T21:12:58.937Z"
   },
   {
    "duration": 6,
    "start_time": "2023-08-27T21:12:58.942Z"
   },
   {
    "duration": 67,
    "start_time": "2023-08-27T21:12:58.950Z"
   },
   {
    "duration": 12,
    "start_time": "2023-08-27T21:12:59.019Z"
   },
   {
    "duration": 29,
    "start_time": "2023-08-27T21:12:59.033Z"
   },
   {
    "duration": 7,
    "start_time": "2023-08-27T21:12:59.064Z"
   },
   {
    "duration": 44,
    "start_time": "2023-08-27T21:12:59.073Z"
   },
   {
    "duration": 7,
    "start_time": "2023-08-27T21:12:59.127Z"
   },
   {
    "duration": 48781,
    "start_time": "2023-08-27T21:12:59.136Z"
   },
   {
    "duration": 269,
    "start_time": "2023-08-27T21:13:47.919Z"
   },
   {
    "duration": 48504,
    "start_time": "2023-08-27T21:13:48.189Z"
   },
   {
    "duration": 0,
    "start_time": "2023-08-27T21:14:36.696Z"
   },
   {
    "duration": 0,
    "start_time": "2023-08-27T21:14:36.697Z"
   },
   {
    "duration": 0,
    "start_time": "2023-08-27T21:14:36.698Z"
   },
   {
    "duration": 0,
    "start_time": "2023-08-27T21:14:36.702Z"
   },
   {
    "duration": 1376,
    "start_time": "2023-08-27T21:14:38.575Z"
   },
   {
    "duration": 4,
    "start_time": "2023-08-27T21:14:41.483Z"
   },
   {
    "duration": 1606,
    "start_time": "2023-08-27T21:15:04.971Z"
   },
   {
    "duration": 156,
    "start_time": "2023-08-27T21:15:06.580Z"
   },
   {
    "duration": 5,
    "start_time": "2023-08-27T21:15:06.738Z"
   },
   {
    "duration": 10,
    "start_time": "2023-08-27T21:15:06.745Z"
   },
   {
    "duration": 56,
    "start_time": "2023-08-27T21:15:06.758Z"
   },
   {
    "duration": 37,
    "start_time": "2023-08-27T21:15:06.816Z"
   },
   {
    "duration": 99,
    "start_time": "2023-08-27T21:15:06.855Z"
   },
   {
    "duration": 87,
    "start_time": "2023-08-27T21:15:06.956Z"
   },
   {
    "duration": 5,
    "start_time": "2023-08-27T21:15:07.045Z"
   },
   {
    "duration": 26,
    "start_time": "2023-08-27T21:15:07.052Z"
   },
   {
    "duration": 32,
    "start_time": "2023-08-27T21:15:07.080Z"
   },
   {
    "duration": 24,
    "start_time": "2023-08-27T21:15:07.113Z"
   },
   {
    "duration": 44,
    "start_time": "2023-08-27T21:15:07.138Z"
   },
   {
    "duration": 50,
    "start_time": "2023-08-27T21:15:07.186Z"
   },
   {
    "duration": 35,
    "start_time": "2023-08-27T21:15:07.237Z"
   },
   {
    "duration": 7,
    "start_time": "2023-08-27T21:15:07.274Z"
   },
   {
    "duration": 42,
    "start_time": "2023-08-27T21:15:07.282Z"
   },
   {
    "duration": 15,
    "start_time": "2023-08-27T21:15:07.326Z"
   },
   {
    "duration": 72,
    "start_time": "2023-08-27T21:15:07.343Z"
   },
   {
    "duration": 63,
    "start_time": "2023-08-27T21:15:07.417Z"
   },
   {
    "duration": 46,
    "start_time": "2023-08-27T21:15:07.482Z"
   },
   {
    "duration": 99,
    "start_time": "2023-08-27T21:15:07.535Z"
   },
   {
    "duration": 35,
    "start_time": "2023-08-27T21:15:07.636Z"
   },
   {
    "duration": 5,
    "start_time": "2023-08-27T21:15:07.673Z"
   },
   {
    "duration": 3360,
    "start_time": "2023-08-27T21:15:07.708Z"
   },
   {
    "duration": 394,
    "start_time": "2023-08-27T21:15:11.071Z"
   },
   {
    "duration": 10,
    "start_time": "2023-08-27T21:15:11.467Z"
   },
   {
    "duration": 3,
    "start_time": "2023-08-27T21:15:11.478Z"
   },
   {
    "duration": 5,
    "start_time": "2023-08-27T21:15:11.508Z"
   },
   {
    "duration": 55,
    "start_time": "2023-08-27T21:15:11.515Z"
   },
   {
    "duration": 8,
    "start_time": "2023-08-27T21:15:11.571Z"
   },
   {
    "duration": 24,
    "start_time": "2023-08-27T21:15:11.603Z"
   },
   {
    "duration": 10,
    "start_time": "2023-08-27T21:15:11.631Z"
   },
   {
    "duration": 31,
    "start_time": "2023-08-27T21:15:11.643Z"
   },
   {
    "duration": 5,
    "start_time": "2023-08-27T21:15:11.676Z"
   },
   {
    "duration": 44438,
    "start_time": "2023-08-27T21:15:11.682Z"
   },
   {
    "duration": 326,
    "start_time": "2023-08-27T21:15:56.122Z"
   },
   {
    "duration": 45986,
    "start_time": "2023-08-27T21:15:56.450Z"
   },
   {
    "duration": 156,
    "start_time": "2023-08-27T21:16:42.438Z"
   },
   {
    "duration": 35501,
    "start_time": "2023-08-27T21:16:42.606Z"
   },
   {
    "duration": 152,
    "start_time": "2023-08-27T21:17:18.119Z"
   },
   {
    "duration": 136,
    "start_time": "2023-08-27T21:22:10.689Z"
   },
   {
    "duration": 1634,
    "start_time": "2023-08-27T21:22:16.142Z"
   },
   {
    "duration": 154,
    "start_time": "2023-08-27T21:22:17.778Z"
   },
   {
    "duration": 4,
    "start_time": "2023-08-27T21:22:17.933Z"
   },
   {
    "duration": 21,
    "start_time": "2023-08-27T21:22:17.938Z"
   },
   {
    "duration": 62,
    "start_time": "2023-08-27T21:22:17.963Z"
   },
   {
    "duration": 42,
    "start_time": "2023-08-27T21:22:18.028Z"
   },
   {
    "duration": 66,
    "start_time": "2023-08-27T21:22:18.100Z"
   },
   {
    "duration": 70,
    "start_time": "2023-08-27T21:22:18.168Z"
   },
   {
    "duration": 7,
    "start_time": "2023-08-27T21:22:18.240Z"
   },
   {
    "duration": 10,
    "start_time": "2023-08-27T21:22:18.249Z"
   },
   {
    "duration": 43,
    "start_time": "2023-08-27T21:22:18.261Z"
   },
   {
    "duration": 6,
    "start_time": "2023-08-27T21:22:18.308Z"
   },
   {
    "duration": 18,
    "start_time": "2023-08-27T21:22:18.316Z"
   },
   {
    "duration": 26,
    "start_time": "2023-08-27T21:22:18.337Z"
   },
   {
    "duration": 46,
    "start_time": "2023-08-27T21:22:18.365Z"
   },
   {
    "duration": 6,
    "start_time": "2023-08-27T21:22:18.418Z"
   },
   {
    "duration": 25,
    "start_time": "2023-08-27T21:22:18.426Z"
   },
   {
    "duration": 9,
    "start_time": "2023-08-27T21:22:18.453Z"
   },
   {
    "duration": 38,
    "start_time": "2023-08-27T21:22:18.464Z"
   },
   {
    "duration": 14,
    "start_time": "2023-08-27T21:22:18.508Z"
   },
   {
    "duration": 37,
    "start_time": "2023-08-27T21:22:18.524Z"
   },
   {
    "duration": 110,
    "start_time": "2023-08-27T21:22:18.563Z"
   },
   {
    "duration": 27,
    "start_time": "2023-08-27T21:22:18.702Z"
   },
   {
    "duration": 9,
    "start_time": "2023-08-27T21:22:18.731Z"
   },
   {
    "duration": 3279,
    "start_time": "2023-08-27T21:22:18.744Z"
   },
   {
    "duration": 394,
    "start_time": "2023-08-27T21:22:22.026Z"
   },
   {
    "duration": 11,
    "start_time": "2023-08-27T21:22:22.422Z"
   },
   {
    "duration": 17,
    "start_time": "2023-08-27T21:22:22.435Z"
   },
   {
    "duration": 26,
    "start_time": "2023-08-27T21:22:22.454Z"
   },
   {
    "duration": 76,
    "start_time": "2023-08-27T21:22:22.482Z"
   },
   {
    "duration": 10,
    "start_time": "2023-08-27T21:22:22.560Z"
   },
   {
    "duration": 44,
    "start_time": "2023-08-27T21:22:22.572Z"
   },
   {
    "duration": 16,
    "start_time": "2023-08-27T21:22:22.619Z"
   },
   {
    "duration": 99,
    "start_time": "2023-08-27T21:22:22.637Z"
   },
   {
    "duration": 26,
    "start_time": "2023-08-27T21:22:22.738Z"
   },
   {
    "duration": 31744,
    "start_time": "2023-08-27T21:22:22.766Z"
   },
   {
    "duration": 314,
    "start_time": "2023-08-27T21:22:54.520Z"
   },
   {
    "duration": 33671,
    "start_time": "2023-08-27T21:22:54.837Z"
   },
   {
    "duration": 163,
    "start_time": "2023-08-27T21:23:28.510Z"
   },
   {
    "duration": 43926,
    "start_time": "2023-08-27T21:23:28.675Z"
   },
   {
    "duration": 123,
    "start_time": "2023-08-27T21:24:12.610Z"
   },
   {
    "duration": 0,
    "start_time": "2023-08-27T21:24:12.734Z"
   },
   {
    "duration": 0,
    "start_time": "2023-08-27T21:24:12.735Z"
   },
   {
    "duration": 44044,
    "start_time": "2023-08-27T21:24:22.764Z"
   },
   {
    "duration": 138,
    "start_time": "2023-08-27T21:25:06.815Z"
   },
   {
    "duration": 11,
    "start_time": "2023-08-27T21:25:06.955Z"
   },
   {
    "duration": 307,
    "start_time": "2023-08-27T21:25:06.968Z"
   },
   {
    "duration": 33,
    "start_time": "2023-08-27T21:25:31.894Z"
   },
   {
    "duration": 9,
    "start_time": "2023-08-27T21:25:37.753Z"
   },
   {
    "duration": 2999,
    "start_time": "2023-08-28T19:50:38.320Z"
   },
   {
    "duration": 498,
    "start_time": "2023-08-28T19:50:41.321Z"
   },
   {
    "duration": 4,
    "start_time": "2023-08-28T19:50:41.821Z"
   },
   {
    "duration": 17,
    "start_time": "2023-08-28T19:50:41.826Z"
   },
   {
    "duration": 41,
    "start_time": "2023-08-28T19:50:41.845Z"
   },
   {
    "duration": 48,
    "start_time": "2023-08-28T19:50:41.887Z"
   },
   {
    "duration": 50,
    "start_time": "2023-08-28T19:50:41.939Z"
   },
   {
    "duration": 73,
    "start_time": "2023-08-28T19:50:41.991Z"
   },
   {
    "duration": 10,
    "start_time": "2023-08-28T19:50:42.066Z"
   },
   {
    "duration": 18,
    "start_time": "2023-08-28T19:50:42.077Z"
   },
   {
    "duration": 14,
    "start_time": "2023-08-28T19:50:42.097Z"
   },
   {
    "duration": 18,
    "start_time": "2023-08-28T19:50:42.113Z"
   },
   {
    "duration": 30,
    "start_time": "2023-08-28T19:50:42.133Z"
   },
   {
    "duration": 10,
    "start_time": "2023-08-28T19:50:42.166Z"
   },
   {
    "duration": 21,
    "start_time": "2023-08-28T19:50:42.178Z"
   },
   {
    "duration": 4,
    "start_time": "2023-08-28T19:50:42.200Z"
   },
   {
    "duration": 14,
    "start_time": "2023-08-28T19:50:42.206Z"
   },
   {
    "duration": 29,
    "start_time": "2023-08-28T19:50:42.221Z"
   },
   {
    "duration": 13,
    "start_time": "2023-08-28T19:50:42.252Z"
   },
   {
    "duration": 6,
    "start_time": "2023-08-28T19:50:42.267Z"
   },
   {
    "duration": 27,
    "start_time": "2023-08-28T19:50:42.274Z"
   },
   {
    "duration": 73,
    "start_time": "2023-08-28T19:50:42.303Z"
   },
   {
    "duration": 20,
    "start_time": "2023-08-28T19:50:42.377Z"
   },
   {
    "duration": 11,
    "start_time": "2023-08-28T19:50:42.398Z"
   },
   {
    "duration": 2858,
    "start_time": "2023-08-28T19:50:42.411Z"
   },
   {
    "duration": 315,
    "start_time": "2023-08-28T19:50:45.270Z"
   },
   {
    "duration": 10,
    "start_time": "2023-08-28T19:50:45.587Z"
   },
   {
    "duration": 3,
    "start_time": "2023-08-28T19:50:45.598Z"
   },
   {
    "duration": 13,
    "start_time": "2023-08-28T19:50:45.603Z"
   },
   {
    "duration": 53,
    "start_time": "2023-08-28T19:50:45.617Z"
   },
   {
    "duration": 7,
    "start_time": "2023-08-28T19:50:45.672Z"
   },
   {
    "duration": 25,
    "start_time": "2023-08-28T19:50:45.680Z"
   },
   {
    "duration": 6,
    "start_time": "2023-08-28T19:50:45.707Z"
   },
   {
    "duration": 44,
    "start_time": "2023-08-28T19:50:45.715Z"
   },
   {
    "duration": 12,
    "start_time": "2023-08-28T19:50:45.761Z"
   },
   {
    "duration": 28262,
    "start_time": "2023-08-28T19:50:45.774Z"
   },
   {
    "duration": 249,
    "start_time": "2023-08-28T19:51:14.037Z"
   },
   {
    "duration": 31638,
    "start_time": "2023-08-28T19:51:14.288Z"
   },
   {
    "duration": 143,
    "start_time": "2023-08-28T19:51:45.928Z"
   },
   {
    "duration": 39751,
    "start_time": "2023-08-28T19:51:46.073Z"
   },
   {
    "duration": 139,
    "start_time": "2023-08-28T19:52:25.828Z"
   },
   {
    "duration": 9,
    "start_time": "2023-08-28T19:52:25.969Z"
   },
   {
    "duration": 73,
    "start_time": "2023-08-28T21:49:34.326Z"
   },
   {
    "duration": 4665,
    "start_time": "2023-08-28T21:50:02.473Z"
   },
   {
    "duration": 2325,
    "start_time": "2023-08-28T21:50:53.878Z"
   },
   {
    "duration": 2312,
    "start_time": "2023-08-28T21:51:41.046Z"
   },
   {
    "duration": 1673,
    "start_time": "2023-08-28T21:51:50.967Z"
   },
   {
    "duration": 428,
    "start_time": "2023-08-28T21:51:52.642Z"
   },
   {
    "duration": 3,
    "start_time": "2023-08-28T21:51:53.073Z"
   },
   {
    "duration": 15,
    "start_time": "2023-08-28T21:51:53.078Z"
   },
   {
    "duration": 43,
    "start_time": "2023-08-28T21:51:53.094Z"
   },
   {
    "duration": 54,
    "start_time": "2023-08-28T21:51:53.138Z"
   },
   {
    "duration": 60,
    "start_time": "2023-08-28T21:51:53.193Z"
   },
   {
    "duration": 59,
    "start_time": "2023-08-28T21:51:53.255Z"
   },
   {
    "duration": 5,
    "start_time": "2023-08-28T21:51:53.315Z"
   },
   {
    "duration": 11,
    "start_time": "2023-08-28T21:51:53.322Z"
   },
   {
    "duration": 13,
    "start_time": "2023-08-28T21:51:53.334Z"
   },
   {
    "duration": 7,
    "start_time": "2023-08-28T21:51:53.349Z"
   },
   {
    "duration": 37,
    "start_time": "2023-08-28T21:51:53.358Z"
   },
   {
    "duration": 13,
    "start_time": "2023-08-28T21:51:53.397Z"
   },
   {
    "duration": 17,
    "start_time": "2023-08-28T21:51:53.412Z"
   },
   {
    "duration": 23,
    "start_time": "2023-08-28T21:51:53.431Z"
   },
   {
    "duration": 37,
    "start_time": "2023-08-28T21:51:53.455Z"
   },
   {
    "duration": 9,
    "start_time": "2023-08-28T21:51:53.494Z"
   },
   {
    "duration": 15,
    "start_time": "2023-08-28T21:51:53.505Z"
   },
   {
    "duration": 8,
    "start_time": "2023-08-28T21:51:53.522Z"
   },
   {
    "duration": 51,
    "start_time": "2023-08-28T21:51:53.532Z"
   },
   {
    "duration": 73,
    "start_time": "2023-08-28T21:51:53.585Z"
   },
   {
    "duration": 41,
    "start_time": "2023-08-28T21:51:53.660Z"
   },
   {
    "duration": 3,
    "start_time": "2023-08-28T21:51:53.703Z"
   },
   {
    "duration": 3103,
    "start_time": "2023-08-28T21:51:53.707Z"
   },
   {
    "duration": 361,
    "start_time": "2023-08-28T21:51:56.812Z"
   },
   {
    "duration": 14,
    "start_time": "2023-08-28T21:51:57.176Z"
   },
   {
    "duration": 5,
    "start_time": "2023-08-28T21:51:57.194Z"
   },
   {
    "duration": 4269,
    "start_time": "2023-08-28T21:51:57.201Z"
   },
   {
    "duration": 22,
    "start_time": "2023-08-28T21:52:01.472Z"
   },
   {
    "duration": 60,
    "start_time": "2023-08-28T21:52:01.496Z"
   },
   {
    "duration": 8,
    "start_time": "2023-08-28T21:52:01.558Z"
   },
   {
    "duration": 59,
    "start_time": "2023-08-28T21:52:01.568Z"
   },
   {
    "duration": 22,
    "start_time": "2023-08-28T21:52:01.629Z"
   },
   {
    "duration": 41,
    "start_time": "2023-08-28T21:52:01.652Z"
   },
   {
    "duration": 26,
    "start_time": "2023-08-28T21:52:01.696Z"
   },
   {
    "duration": 40076,
    "start_time": "2023-08-28T21:52:01.723Z"
   },
   {
    "duration": 253,
    "start_time": "2023-08-28T21:52:41.881Z"
   },
   {
    "duration": 29598,
    "start_time": "2023-08-28T21:52:42.136Z"
   },
   {
    "duration": 134,
    "start_time": "2023-08-28T21:53:11.736Z"
   },
   {
    "duration": 6541,
    "start_time": "2023-08-28T21:53:11.872Z"
   },
   {
    "duration": 0,
    "start_time": "2023-08-28T21:53:18.415Z"
   },
   {
    "duration": 1,
    "start_time": "2023-08-28T21:53:18.416Z"
   },
   {
    "duration": 0,
    "start_time": "2023-08-28T21:53:18.418Z"
   },
   {
    "duration": 6796,
    "start_time": "2023-08-28T21:53:23.264Z"
   },
   {
    "duration": 1516,
    "start_time": "2023-08-28T21:53:59.866Z"
   },
   {
    "duration": 150,
    "start_time": "2023-08-28T21:54:01.384Z"
   },
   {
    "duration": 5,
    "start_time": "2023-08-28T21:54:01.536Z"
   },
   {
    "duration": 49,
    "start_time": "2023-08-28T21:54:01.543Z"
   },
   {
    "duration": 109,
    "start_time": "2023-08-28T21:54:01.594Z"
   },
   {
    "duration": 33,
    "start_time": "2023-08-28T21:54:01.705Z"
   },
   {
    "duration": 92,
    "start_time": "2023-08-28T21:54:01.740Z"
   },
   {
    "duration": 61,
    "start_time": "2023-08-28T21:54:01.834Z"
   },
   {
    "duration": 5,
    "start_time": "2023-08-28T21:54:01.897Z"
   },
   {
    "duration": 51,
    "start_time": "2023-08-28T21:54:01.905Z"
   },
   {
    "duration": 26,
    "start_time": "2023-08-28T21:54:01.958Z"
   },
   {
    "duration": 32,
    "start_time": "2023-08-28T21:54:01.986Z"
   },
   {
    "duration": 33,
    "start_time": "2023-08-28T21:54:02.020Z"
   },
   {
    "duration": 42,
    "start_time": "2023-08-28T21:54:02.054Z"
   },
   {
    "duration": 43,
    "start_time": "2023-08-28T21:54:02.098Z"
   },
   {
    "duration": 15,
    "start_time": "2023-08-28T21:54:02.143Z"
   },
   {
    "duration": 44,
    "start_time": "2023-08-28T21:54:02.160Z"
   },
   {
    "duration": 14,
    "start_time": "2023-08-28T21:54:02.208Z"
   },
   {
    "duration": 92,
    "start_time": "2023-08-28T21:54:02.223Z"
   },
   {
    "duration": 84,
    "start_time": "2023-08-28T21:54:02.317Z"
   },
   {
    "duration": 61,
    "start_time": "2023-08-28T21:54:02.403Z"
   },
   {
    "duration": 67,
    "start_time": "2023-08-28T21:54:02.466Z"
   },
   {
    "duration": 22,
    "start_time": "2023-08-28T21:54:02.535Z"
   },
   {
    "duration": 4,
    "start_time": "2023-08-28T21:54:02.580Z"
   },
   {
    "duration": 3022,
    "start_time": "2023-08-28T21:54:02.585Z"
   },
   {
    "duration": 376,
    "start_time": "2023-08-28T21:54:05.609Z"
   },
   {
    "duration": 11,
    "start_time": "2023-08-28T21:54:05.986Z"
   },
   {
    "duration": 3,
    "start_time": "2023-08-28T21:54:06.000Z"
   },
   {
    "duration": 7048,
    "start_time": "2023-08-28T21:54:06.005Z"
   },
   {
    "duration": 6,
    "start_time": "2023-08-28T21:54:13.055Z"
   },
   {
    "duration": 92,
    "start_time": "2023-08-28T21:54:13.063Z"
   },
   {
    "duration": 8,
    "start_time": "2023-08-28T21:54:13.157Z"
   },
   {
    "duration": 49,
    "start_time": "2023-08-28T21:54:13.167Z"
   },
   {
    "duration": 46,
    "start_time": "2023-08-28T21:54:13.218Z"
   },
   {
    "duration": 30,
    "start_time": "2023-08-28T21:54:13.267Z"
   },
   {
    "duration": 26,
    "start_time": "2023-08-28T21:54:13.299Z"
   },
   {
    "duration": 24697,
    "start_time": "2023-08-28T21:54:13.327Z"
   },
   {
    "duration": 0,
    "start_time": "2023-08-28T21:54:38.026Z"
   },
   {
    "duration": 0,
    "start_time": "2023-08-28T21:54:38.028Z"
   },
   {
    "duration": 0,
    "start_time": "2023-08-28T21:54:38.030Z"
   },
   {
    "duration": 0,
    "start_time": "2023-08-28T21:54:38.031Z"
   },
   {
    "duration": 0,
    "start_time": "2023-08-28T21:54:38.033Z"
   },
   {
    "duration": 0,
    "start_time": "2023-08-28T21:54:38.034Z"
   },
   {
    "duration": 7298,
    "start_time": "2023-08-28T21:54:58.088Z"
   },
   {
    "duration": 7093,
    "start_time": "2023-08-28T21:55:17.656Z"
   },
   {
    "duration": 7076,
    "start_time": "2023-08-28T21:55:41.335Z"
   },
   {
    "duration": 1556,
    "start_time": "2023-08-28T21:56:01.209Z"
   },
   {
    "duration": 147,
    "start_time": "2023-08-28T21:56:02.766Z"
   },
   {
    "duration": 4,
    "start_time": "2023-08-28T21:56:02.915Z"
   },
   {
    "duration": 12,
    "start_time": "2023-08-28T21:56:02.921Z"
   },
   {
    "duration": 58,
    "start_time": "2023-08-28T21:56:02.935Z"
   },
   {
    "duration": 38,
    "start_time": "2023-08-28T21:56:02.995Z"
   },
   {
    "duration": 81,
    "start_time": "2023-08-28T21:56:03.035Z"
   },
   {
    "duration": 65,
    "start_time": "2023-08-28T21:56:03.118Z"
   },
   {
    "duration": 12,
    "start_time": "2023-08-28T21:56:03.187Z"
   },
   {
    "duration": 16,
    "start_time": "2023-08-28T21:56:03.201Z"
   },
   {
    "duration": 7,
    "start_time": "2023-08-28T21:56:03.219Z"
   },
   {
    "duration": 7,
    "start_time": "2023-08-28T21:56:03.228Z"
   },
   {
    "duration": 19,
    "start_time": "2023-08-28T21:56:03.236Z"
   },
   {
    "duration": 38,
    "start_time": "2023-08-28T21:56:03.260Z"
   },
   {
    "duration": 18,
    "start_time": "2023-08-28T21:56:03.300Z"
   },
   {
    "duration": 4,
    "start_time": "2023-08-28T21:56:03.320Z"
   },
   {
    "duration": 17,
    "start_time": "2023-08-28T21:56:03.326Z"
   },
   {
    "duration": 7,
    "start_time": "2023-08-28T21:56:03.345Z"
   },
   {
    "duration": 45,
    "start_time": "2023-08-28T21:56:03.354Z"
   },
   {
    "duration": 8,
    "start_time": "2023-08-28T21:56:03.401Z"
   },
   {
    "duration": 26,
    "start_time": "2023-08-28T21:56:03.411Z"
   },
   {
    "duration": 107,
    "start_time": "2023-08-28T21:56:03.438Z"
   },
   {
    "duration": 50,
    "start_time": "2023-08-28T21:56:03.547Z"
   },
   {
    "duration": 5,
    "start_time": "2023-08-28T21:56:03.600Z"
   },
   {
    "duration": 3394,
    "start_time": "2023-08-28T21:56:03.607Z"
   },
   {
    "duration": 395,
    "start_time": "2023-08-28T21:56:07.003Z"
   },
   {
    "duration": 10,
    "start_time": "2023-08-28T21:56:07.400Z"
   },
   {
    "duration": 8,
    "start_time": "2023-08-28T21:56:07.412Z"
   },
   {
    "duration": 7035,
    "start_time": "2023-08-28T21:56:07.421Z"
   },
   {
    "duration": 5,
    "start_time": "2023-08-28T21:56:14.458Z"
   },
   {
    "duration": 65,
    "start_time": "2023-08-28T21:56:14.465Z"
   },
   {
    "duration": 10,
    "start_time": "2023-08-28T21:56:14.532Z"
   },
   {
    "duration": 47,
    "start_time": "2023-08-28T21:56:14.544Z"
   },
   {
    "duration": 10,
    "start_time": "2023-08-28T21:56:14.594Z"
   },
   {
    "duration": 4,
    "start_time": "2023-08-28T21:56:14.606Z"
   },
   {
    "duration": 13,
    "start_time": "2023-08-28T21:56:14.612Z"
   },
   {
    "duration": 32960,
    "start_time": "2023-08-28T21:56:14.627Z"
   },
   {
    "duration": 233,
    "start_time": "2023-08-28T21:56:47.590Z"
   },
   {
    "duration": 29527,
    "start_time": "2023-08-28T21:56:47.825Z"
   },
   {
    "duration": 144,
    "start_time": "2023-08-28T21:57:17.354Z"
   },
   {
    "duration": 32216,
    "start_time": "2023-08-28T21:57:17.502Z"
   },
   {
    "duration": 143,
    "start_time": "2023-08-28T21:57:49.720Z"
   },
   {
    "duration": 26,
    "start_time": "2023-08-28T21:57:49.865Z"
   },
   {
    "duration": 6805,
    "start_time": "2023-08-28T21:57:49.893Z"
   },
   {
    "duration": 4145,
    "start_time": "2023-08-28T21:58:35.335Z"
   },
   {
    "duration": 147,
    "start_time": "2023-08-28T21:58:39.482Z"
   },
   {
    "duration": 4,
    "start_time": "2023-08-28T21:58:39.630Z"
   },
   {
    "duration": 9,
    "start_time": "2023-08-28T21:58:39.636Z"
   },
   {
    "duration": 62,
    "start_time": "2023-08-28T21:58:39.648Z"
   },
   {
    "duration": 38,
    "start_time": "2023-08-28T21:58:39.712Z"
   },
   {
    "duration": 86,
    "start_time": "2023-08-28T21:58:39.752Z"
   },
   {
    "duration": 71,
    "start_time": "2023-08-28T21:58:39.840Z"
   },
   {
    "duration": 6,
    "start_time": "2023-08-28T21:58:39.912Z"
   },
   {
    "duration": 7,
    "start_time": "2023-08-28T21:58:39.919Z"
   },
   {
    "duration": 8,
    "start_time": "2023-08-28T21:58:39.927Z"
   },
   {
    "duration": 4,
    "start_time": "2023-08-28T21:58:39.936Z"
   },
   {
    "duration": 57,
    "start_time": "2023-08-28T21:58:39.942Z"
   },
   {
    "duration": 14,
    "start_time": "2023-08-28T21:58:40.002Z"
   },
   {
    "duration": 42,
    "start_time": "2023-08-28T21:58:40.017Z"
   },
   {
    "duration": 5,
    "start_time": "2023-08-28T21:58:40.060Z"
   },
   {
    "duration": 25,
    "start_time": "2023-08-28T21:58:40.066Z"
   },
   {
    "duration": 10,
    "start_time": "2023-08-28T21:58:40.093Z"
   },
   {
    "duration": 25,
    "start_time": "2023-08-28T21:58:40.104Z"
   },
   {
    "duration": 14,
    "start_time": "2023-08-28T21:58:40.131Z"
   },
   {
    "duration": 50,
    "start_time": "2023-08-28T21:58:40.146Z"
   },
   {
    "duration": 68,
    "start_time": "2023-08-28T21:58:40.198Z"
   },
   {
    "duration": 45,
    "start_time": "2023-08-28T21:58:40.267Z"
   },
   {
    "duration": 3,
    "start_time": "2023-08-28T21:58:40.314Z"
   },
   {
    "duration": 3148,
    "start_time": "2023-08-28T21:58:40.319Z"
   },
   {
    "duration": 376,
    "start_time": "2023-08-28T21:58:43.468Z"
   },
   {
    "duration": 11,
    "start_time": "2023-08-28T21:58:43.845Z"
   },
   {
    "duration": 17,
    "start_time": "2023-08-28T21:58:43.858Z"
   },
   {
    "duration": 4676,
    "start_time": "2023-08-28T21:58:43.877Z"
   },
   {
    "duration": 4,
    "start_time": "2023-08-28T21:58:48.555Z"
   },
   {
    "duration": 51,
    "start_time": "2023-08-28T21:58:48.561Z"
   },
   {
    "duration": 8,
    "start_time": "2023-08-28T21:58:48.613Z"
   },
   {
    "duration": 15,
    "start_time": "2023-08-28T21:58:48.622Z"
   },
   {
    "duration": 5,
    "start_time": "2023-08-28T21:58:48.639Z"
   },
   {
    "duration": 4,
    "start_time": "2023-08-28T21:58:48.645Z"
   },
   {
    "duration": 44,
    "start_time": "2023-08-28T21:58:48.651Z"
   },
   {
    "duration": 35508,
    "start_time": "2023-08-28T21:58:48.697Z"
   },
   {
    "duration": 243,
    "start_time": "2023-08-28T21:59:24.281Z"
   },
   {
    "duration": 31577,
    "start_time": "2023-08-28T21:59:24.526Z"
   },
   {
    "duration": 130,
    "start_time": "2023-08-28T21:59:56.105Z"
   },
   {
    "duration": 32894,
    "start_time": "2023-08-28T21:59:56.238Z"
   },
   {
    "duration": 172,
    "start_time": "2023-08-28T22:00:29.134Z"
   },
   {
    "duration": 9,
    "start_time": "2023-08-28T22:00:29.308Z"
   },
   {
    "duration": 3994,
    "start_time": "2023-08-28T22:07:07.970Z"
   },
   {
    "duration": 174,
    "start_time": "2023-08-28T22:07:11.967Z"
   },
   {
    "duration": 3,
    "start_time": "2023-08-28T22:07:12.143Z"
   },
   {
    "duration": 19,
    "start_time": "2023-08-28T22:07:12.148Z"
   },
   {
    "duration": 69,
    "start_time": "2023-08-28T22:07:12.170Z"
   },
   {
    "duration": 45,
    "start_time": "2023-08-28T22:07:12.241Z"
   },
   {
    "duration": 55,
    "start_time": "2023-08-28T22:07:12.291Z"
   },
   {
    "duration": 64,
    "start_time": "2023-08-28T22:07:12.348Z"
   },
   {
    "duration": 5,
    "start_time": "2023-08-28T22:07:12.414Z"
   },
   {
    "duration": 7,
    "start_time": "2023-08-28T22:07:12.420Z"
   },
   {
    "duration": 4,
    "start_time": "2023-08-28T22:07:12.429Z"
   },
   {
    "duration": 12,
    "start_time": "2023-08-28T22:07:12.435Z"
   },
   {
    "duration": 49,
    "start_time": "2023-08-28T22:07:12.449Z"
   },
   {
    "duration": 20,
    "start_time": "2023-08-28T22:07:12.502Z"
   },
   {
    "duration": 20,
    "start_time": "2023-08-28T22:07:12.524Z"
   },
   {
    "duration": 5,
    "start_time": "2023-08-28T22:07:12.546Z"
   },
   {
    "duration": 47,
    "start_time": "2023-08-28T22:07:12.552Z"
   },
   {
    "duration": 8,
    "start_time": "2023-08-28T22:07:12.601Z"
   },
   {
    "duration": 28,
    "start_time": "2023-08-28T22:07:12.611Z"
   },
   {
    "duration": 8,
    "start_time": "2023-08-28T22:07:12.640Z"
   },
   {
    "duration": 43,
    "start_time": "2023-08-28T22:07:12.649Z"
   },
   {
    "duration": 97,
    "start_time": "2023-08-28T22:07:12.694Z"
   },
   {
    "duration": 30,
    "start_time": "2023-08-28T22:07:12.793Z"
   },
   {
    "duration": 3,
    "start_time": "2023-08-28T22:07:12.825Z"
   },
   {
    "duration": 3282,
    "start_time": "2023-08-28T22:07:12.830Z"
   },
   {
    "duration": 390,
    "start_time": "2023-08-28T22:07:16.115Z"
   },
   {
    "duration": 10,
    "start_time": "2023-08-28T22:07:16.507Z"
   },
   {
    "duration": 4,
    "start_time": "2023-08-28T22:07:16.519Z"
   },
   {
    "duration": 4720,
    "start_time": "2023-08-28T22:07:16.525Z"
   },
   {
    "duration": 4,
    "start_time": "2023-08-28T22:07:21.247Z"
   },
   {
    "duration": 155,
    "start_time": "2023-08-28T22:07:21.252Z"
   },
   {
    "duration": 0,
    "start_time": "2023-08-28T22:07:21.409Z"
   },
   {
    "duration": 0,
    "start_time": "2023-08-28T22:07:21.410Z"
   },
   {
    "duration": 0,
    "start_time": "2023-08-28T22:07:21.411Z"
   },
   {
    "duration": 0,
    "start_time": "2023-08-28T22:07:21.412Z"
   },
   {
    "duration": 0,
    "start_time": "2023-08-28T22:07:21.413Z"
   },
   {
    "duration": 0,
    "start_time": "2023-08-28T22:07:21.414Z"
   },
   {
    "duration": 0,
    "start_time": "2023-08-28T22:07:21.415Z"
   },
   {
    "duration": 0,
    "start_time": "2023-08-28T22:07:21.416Z"
   },
   {
    "duration": 0,
    "start_time": "2023-08-28T22:07:21.417Z"
   },
   {
    "duration": 0,
    "start_time": "2023-08-28T22:07:21.419Z"
   },
   {
    "duration": 0,
    "start_time": "2023-08-28T22:07:21.420Z"
   },
   {
    "duration": 26,
    "start_time": "2023-08-28T22:07:52.530Z"
   },
   {
    "duration": 23,
    "start_time": "2023-08-28T22:08:13.299Z"
   },
   {
    "duration": 19,
    "start_time": "2023-08-28T22:08:46.402Z"
   },
   {
    "duration": 19,
    "start_time": "2023-08-28T22:09:01.261Z"
   },
   {
    "duration": 22,
    "start_time": "2023-08-28T22:12:21.204Z"
   },
   {
    "duration": 4048,
    "start_time": "2023-08-28T22:12:30.028Z"
   },
   {
    "duration": 147,
    "start_time": "2023-08-28T22:12:34.078Z"
   },
   {
    "duration": 4,
    "start_time": "2023-08-28T22:12:34.226Z"
   },
   {
    "duration": 4,
    "start_time": "2023-08-28T22:12:34.232Z"
   },
   {
    "duration": 46,
    "start_time": "2023-08-28T22:12:34.238Z"
   },
   {
    "duration": 34,
    "start_time": "2023-08-28T22:12:34.285Z"
   },
   {
    "duration": 89,
    "start_time": "2023-08-28T22:12:34.321Z"
   },
   {
    "duration": 33,
    "start_time": "2023-08-28T22:12:34.412Z"
   },
   {
    "duration": 35,
    "start_time": "2023-08-28T22:12:34.447Z"
   },
   {
    "duration": 7,
    "start_time": "2023-08-28T22:12:34.485Z"
   },
   {
    "duration": 9,
    "start_time": "2023-08-28T22:12:34.493Z"
   },
   {
    "duration": 11,
    "start_time": "2023-08-28T22:12:34.504Z"
   },
   {
    "duration": 19,
    "start_time": "2023-08-28T22:12:34.517Z"
   },
   {
    "duration": 19,
    "start_time": "2023-08-28T22:12:34.538Z"
   },
   {
    "duration": 37,
    "start_time": "2023-08-28T22:12:34.559Z"
   },
   {
    "duration": 4,
    "start_time": "2023-08-28T22:12:34.598Z"
   },
   {
    "duration": 24,
    "start_time": "2023-08-28T22:12:34.604Z"
   },
   {
    "duration": 8,
    "start_time": "2023-08-28T22:12:34.630Z"
   },
   {
    "duration": 30,
    "start_time": "2023-08-28T22:12:34.639Z"
   },
   {
    "duration": 19,
    "start_time": "2023-08-28T22:12:34.670Z"
   },
   {
    "duration": 26,
    "start_time": "2023-08-28T22:12:34.691Z"
   },
   {
    "duration": 92,
    "start_time": "2023-08-28T22:12:34.719Z"
   },
   {
    "duration": 22,
    "start_time": "2023-08-28T22:12:34.813Z"
   },
   {
    "duration": 12,
    "start_time": "2023-08-28T22:12:34.837Z"
   },
   {
    "duration": 3136,
    "start_time": "2023-08-28T22:12:34.850Z"
   },
   {
    "duration": 369,
    "start_time": "2023-08-28T22:12:37.988Z"
   },
   {
    "duration": 10,
    "start_time": "2023-08-28T22:12:38.359Z"
   },
   {
    "duration": 3,
    "start_time": "2023-08-28T22:12:38.382Z"
   },
   {
    "duration": 4575,
    "start_time": "2023-08-28T22:12:38.386Z"
   },
   {
    "duration": 5,
    "start_time": "2023-08-28T22:12:42.963Z"
   },
   {
    "duration": 129,
    "start_time": "2023-08-28T22:12:42.969Z"
   },
   {
    "duration": 0,
    "start_time": "2023-08-28T22:12:43.100Z"
   },
   {
    "duration": 0,
    "start_time": "2023-08-28T22:12:43.101Z"
   },
   {
    "duration": 0,
    "start_time": "2023-08-28T22:12:43.102Z"
   },
   {
    "duration": 0,
    "start_time": "2023-08-28T22:12:43.103Z"
   },
   {
    "duration": 0,
    "start_time": "2023-08-28T22:12:43.104Z"
   },
   {
    "duration": 0,
    "start_time": "2023-08-28T22:12:43.105Z"
   },
   {
    "duration": 0,
    "start_time": "2023-08-28T22:12:43.107Z"
   },
   {
    "duration": 0,
    "start_time": "2023-08-28T22:12:43.108Z"
   },
   {
    "duration": 0,
    "start_time": "2023-08-28T22:12:43.109Z"
   },
   {
    "duration": 0,
    "start_time": "2023-08-28T22:12:43.110Z"
   },
   {
    "duration": 0,
    "start_time": "2023-08-28T22:12:43.111Z"
   },
   {
    "duration": 47,
    "start_time": "2023-08-28T22:13:47.760Z"
   },
   {
    "duration": 45,
    "start_time": "2023-08-28T22:16:12.098Z"
   },
   {
    "duration": 53,
    "start_time": "2023-08-28T22:16:22.845Z"
   },
   {
    "duration": 57,
    "start_time": "2023-08-28T22:16:35.795Z"
   },
   {
    "duration": 26,
    "start_time": "2023-08-28T22:17:44.533Z"
   },
   {
    "duration": 12,
    "start_time": "2023-08-28T22:18:14.891Z"
   },
   {
    "duration": 20,
    "start_time": "2023-08-28T22:18:54.436Z"
   },
   {
    "duration": 20,
    "start_time": "2023-08-28T22:19:17.625Z"
   },
   {
    "duration": 29,
    "start_time": "2023-08-28T22:19:29.714Z"
   },
   {
    "duration": 21,
    "start_time": "2023-08-28T22:19:50.917Z"
   },
   {
    "duration": 23,
    "start_time": "2023-08-28T22:19:58.176Z"
   },
   {
    "duration": 24,
    "start_time": "2023-08-28T22:21:06.272Z"
   },
   {
    "duration": 34,
    "start_time": "2023-08-28T22:22:37.761Z"
   },
   {
    "duration": 53,
    "start_time": "2023-08-28T22:22:57.494Z"
   },
   {
    "duration": 54,
    "start_time": "2023-08-28T22:23:41.237Z"
   },
   {
    "duration": 19,
    "start_time": "2023-08-28T22:25:44.872Z"
   },
   {
    "duration": 46,
    "start_time": "2023-08-28T22:26:01.410Z"
   },
   {
    "duration": 95,
    "start_time": "2023-08-28T22:26:17.518Z"
   },
   {
    "duration": 25,
    "start_time": "2023-08-28T22:27:41.169Z"
   },
   {
    "duration": 3933,
    "start_time": "2023-08-28T22:27:55.345Z"
   },
   {
    "duration": 143,
    "start_time": "2023-08-28T22:27:59.281Z"
   },
   {
    "duration": 5,
    "start_time": "2023-08-28T22:27:59.426Z"
   },
   {
    "duration": 7,
    "start_time": "2023-08-28T22:27:59.433Z"
   },
   {
    "duration": 49,
    "start_time": "2023-08-28T22:27:59.442Z"
   },
   {
    "duration": 39,
    "start_time": "2023-08-28T22:27:59.493Z"
   },
   {
    "duration": 93,
    "start_time": "2023-08-28T22:27:59.533Z"
   },
   {
    "duration": 60,
    "start_time": "2023-08-28T22:27:59.627Z"
   },
   {
    "duration": 5,
    "start_time": "2023-08-28T22:27:59.689Z"
   },
   {
    "duration": 5,
    "start_time": "2023-08-28T22:27:59.696Z"
   },
   {
    "duration": 11,
    "start_time": "2023-08-28T22:27:59.703Z"
   },
   {
    "duration": 7,
    "start_time": "2023-08-28T22:27:59.716Z"
   },
   {
    "duration": 21,
    "start_time": "2023-08-28T22:27:59.725Z"
   },
   {
    "duration": 15,
    "start_time": "2023-08-28T22:27:59.785Z"
   },
   {
    "duration": 19,
    "start_time": "2023-08-28T22:27:59.802Z"
   },
   {
    "duration": 6,
    "start_time": "2023-08-28T22:27:59.823Z"
   },
   {
    "duration": 51,
    "start_time": "2023-08-28T22:27:59.830Z"
   },
   {
    "duration": 9,
    "start_time": "2023-08-28T22:27:59.884Z"
   },
   {
    "duration": 20,
    "start_time": "2023-08-28T22:27:59.895Z"
   },
   {
    "duration": 16,
    "start_time": "2023-08-28T22:27:59.917Z"
   },
   {
    "duration": 26,
    "start_time": "2023-08-28T22:27:59.935Z"
   },
   {
    "duration": 142,
    "start_time": "2023-08-28T22:27:59.963Z"
   },
   {
    "duration": 23,
    "start_time": "2023-08-28T22:28:00.107Z"
   },
   {
    "duration": 29,
    "start_time": "2023-08-28T22:28:00.132Z"
   },
   {
    "duration": 3093,
    "start_time": "2023-08-28T22:28:00.163Z"
   },
   {
    "duration": 392,
    "start_time": "2023-08-28T22:28:03.258Z"
   },
   {
    "duration": 11,
    "start_time": "2023-08-28T22:28:03.652Z"
   },
   {
    "duration": 19,
    "start_time": "2023-08-28T22:28:03.664Z"
   },
   {
    "duration": 4580,
    "start_time": "2023-08-28T22:28:03.685Z"
   },
   {
    "duration": 5,
    "start_time": "2023-08-28T22:28:08.268Z"
   },
   {
    "duration": 141,
    "start_time": "2023-08-28T22:28:08.275Z"
   },
   {
    "duration": 0,
    "start_time": "2023-08-28T22:28:08.418Z"
   },
   {
    "duration": 0,
    "start_time": "2023-08-28T22:28:08.419Z"
   },
   {
    "duration": 0,
    "start_time": "2023-08-28T22:28:08.420Z"
   },
   {
    "duration": 0,
    "start_time": "2023-08-28T22:28:08.421Z"
   },
   {
    "duration": 0,
    "start_time": "2023-08-28T22:28:08.422Z"
   },
   {
    "duration": 0,
    "start_time": "2023-08-28T22:28:08.423Z"
   },
   {
    "duration": 0,
    "start_time": "2023-08-28T22:28:08.424Z"
   },
   {
    "duration": 0,
    "start_time": "2023-08-28T22:28:08.425Z"
   },
   {
    "duration": 0,
    "start_time": "2023-08-28T22:28:08.426Z"
   },
   {
    "duration": 0,
    "start_time": "2023-08-28T22:28:08.427Z"
   },
   {
    "duration": 0,
    "start_time": "2023-08-28T22:28:08.429Z"
   },
   {
    "duration": 20,
    "start_time": "2023-08-28T22:28:32.497Z"
   },
   {
    "duration": 24,
    "start_time": "2023-08-28T22:28:51.844Z"
   },
   {
    "duration": 105,
    "start_time": "2023-08-28T22:29:31.087Z"
   },
   {
    "duration": 23,
    "start_time": "2023-08-28T22:32:09.556Z"
   },
   {
    "duration": 34,
    "start_time": "2023-08-28T22:32:14.824Z"
   },
   {
    "duration": 54,
    "start_time": "2023-08-28T22:32:29.365Z"
   },
   {
    "duration": 12253,
    "start_time": "2023-08-28T22:32:39.041Z"
   },
   {
    "duration": 155,
    "start_time": "2023-08-28T22:32:56.989Z"
   },
   {
    "duration": 29017,
    "start_time": "2023-08-28T22:33:00.826Z"
   },
   {
    "duration": 140,
    "start_time": "2023-08-28T22:33:29.845Z"
   },
   {
    "duration": 31024,
    "start_time": "2023-08-28T22:33:29.987Z"
   },
   {
    "duration": 161,
    "start_time": "2023-08-28T22:34:01.013Z"
   },
   {
    "duration": 14,
    "start_time": "2023-08-28T22:34:01.184Z"
   },
   {
    "duration": 4005,
    "start_time": "2023-08-28T22:36:29.494Z"
   },
   {
    "duration": 130,
    "start_time": "2023-08-28T22:36:33.502Z"
   },
   {
    "duration": 4,
    "start_time": "2023-08-28T22:36:33.633Z"
   },
   {
    "duration": 20,
    "start_time": "2023-08-28T22:36:33.639Z"
   },
   {
    "duration": 63,
    "start_time": "2023-08-28T22:36:33.662Z"
   },
   {
    "duration": 66,
    "start_time": "2023-08-28T22:36:33.727Z"
   },
   {
    "duration": 52,
    "start_time": "2023-08-28T22:36:33.795Z"
   },
   {
    "duration": 57,
    "start_time": "2023-08-28T22:36:33.849Z"
   },
   {
    "duration": 5,
    "start_time": "2023-08-28T22:36:33.907Z"
   },
   {
    "duration": 18,
    "start_time": "2023-08-28T22:36:33.915Z"
   },
   {
    "duration": 29,
    "start_time": "2023-08-28T22:36:33.935Z"
   },
   {
    "duration": 31,
    "start_time": "2023-08-28T22:36:33.966Z"
   },
   {
    "duration": 38,
    "start_time": "2023-08-28T22:36:33.999Z"
   },
   {
    "duration": 32,
    "start_time": "2023-08-28T22:36:34.039Z"
   },
   {
    "duration": 40,
    "start_time": "2023-08-28T22:36:34.073Z"
   },
   {
    "duration": 16,
    "start_time": "2023-08-28T22:36:34.114Z"
   },
   {
    "duration": 30,
    "start_time": "2023-08-28T22:36:34.132Z"
   },
   {
    "duration": 35,
    "start_time": "2023-08-28T22:36:34.164Z"
   },
   {
    "duration": 21,
    "start_time": "2023-08-28T22:36:34.201Z"
   },
   {
    "duration": 20,
    "start_time": "2023-08-28T22:36:34.223Z"
   },
   {
    "duration": 32,
    "start_time": "2023-08-28T22:36:34.245Z"
   },
   {
    "duration": 73,
    "start_time": "2023-08-28T22:36:34.279Z"
   },
   {
    "duration": 49,
    "start_time": "2023-08-28T22:36:34.354Z"
   },
   {
    "duration": 8,
    "start_time": "2023-08-28T22:36:34.405Z"
   },
   {
    "duration": 3143,
    "start_time": "2023-08-28T22:36:34.415Z"
   },
   {
    "duration": 356,
    "start_time": "2023-08-28T22:36:37.559Z"
   },
   {
    "duration": 9,
    "start_time": "2023-08-28T22:36:37.917Z"
   },
   {
    "duration": 3,
    "start_time": "2023-08-28T22:36:37.929Z"
   },
   {
    "duration": 4503,
    "start_time": "2023-08-28T22:36:37.934Z"
   },
   {
    "duration": 4,
    "start_time": "2023-08-28T22:36:42.439Z"
   },
   {
    "duration": 116,
    "start_time": "2023-08-28T22:36:42.445Z"
   },
   {
    "duration": 62,
    "start_time": "2023-08-28T22:36:42.563Z"
   },
   {
    "duration": 31264,
    "start_time": "2023-08-28T22:36:42.627Z"
   },
   {
    "duration": 319,
    "start_time": "2023-08-28T22:37:13.893Z"
   },
   {
    "duration": 29549,
    "start_time": "2023-08-28T22:37:14.214Z"
   },
   {
    "duration": 161,
    "start_time": "2023-08-28T22:37:43.764Z"
   },
   {
    "duration": 31160,
    "start_time": "2023-08-28T22:37:43.927Z"
   },
   {
    "duration": 140,
    "start_time": "2023-08-28T22:38:15.091Z"
   },
   {
    "duration": 10,
    "start_time": "2023-08-28T22:38:15.233Z"
   },
   {
    "duration": 148,
    "start_time": "2023-08-28T22:39:44.786Z"
   },
   {
    "duration": 290,
    "start_time": "2023-08-28T22:40:57.242Z"
   },
   {
    "duration": 8,
    "start_time": "2023-08-28T22:43:01.383Z"
   }
  ],
  "kernelspec": {
   "display_name": "Python 3 (ipykernel)",
   "language": "python",
   "name": "python3"
  },
  "language_info": {
   "codemirror_mode": {
    "name": "ipython",
    "version": 3
   },
   "file_extension": ".py",
   "mimetype": "text/x-python",
   "name": "python",
   "nbconvert_exporter": "python",
   "pygments_lexer": "ipython3",
   "version": "3.9.5"
  },
  "toc": {
   "base_numbering": 1,
   "nav_menu": {},
   "number_sections": true,
   "sideBar": true,
   "skip_h1_title": true,
   "title_cell": "Table of Contents",
   "title_sidebar": "Contents",
   "toc_cell": false,
   "toc_position": {},
   "toc_section_display": true,
   "toc_window_display": false
  }
 },
 "nbformat": 4,
 "nbformat_minor": 2
}
