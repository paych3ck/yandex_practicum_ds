{
 "cells": [
  {
   "cell_type": "markdown",
   "metadata": {},
   "source": [
    "# Выбор локации для скважины"
   ]
  },
  {
   "cell_type": "markdown",
   "metadata": {},
   "source": [
    "Допустим, вы работаете в добывающей компании «ГлавРосГосНефть». Нужно решить, где бурить новую скважину.\n",
    "\n",
    "Вам предоставлены пробы нефти в трёх регионах: в каждом 10 000 месторождений, где измерили качество нефти и объём её запасов. Постройте модель машинного обучения, которая поможет определить регион, где добыча принесёт наибольшую прибыль. Проанализируйте возможную прибыль и риски техникой *Bootstrap.*\n",
    "\n",
    "Шаги для выбора локации:\n",
    "\n",
    "- В избранном регионе ищут месторождения, для каждого определяют значения признаков;\n",
    "- Строят модель и оценивают объём запасов;\n",
    "- Выбирают месторождения с самым высокими оценками значений. Количество месторождений зависит от бюджета компании и стоимости разработки одной скважины;\n",
    "- Прибыль равна суммарной прибыли отобранных месторождений."
   ]
  },
  {
   "cell_type": "markdown",
   "metadata": {},
   "source": [
    "## Загрузка и подготовка данных"
   ]
  },
  {
   "cell_type": "code",
   "execution_count": 1,
   "metadata": {},
   "outputs": [],
   "source": [
    "import pandas as pd\n",
    "from math import sqrt\n",
    "from numpy.random import RandomState\n",
    "from sklearn.model_selection import train_test_split\n",
    "from sklearn.linear_model import LinearRegression\n",
    "from sklearn.metrics import mean_squared_error"
   ]
  },
  {
   "cell_type": "markdown",
   "metadata": {},
   "source": [
    "Импорт библиотек *pandas*, *math*, *numpy* и *sklearn*."
   ]
  },
  {
   "cell_type": "code",
   "execution_count": 2,
   "metadata": {},
   "outputs": [],
   "source": [
    "df0 = pd.read_csv('/datasets/geo_data_0.csv').drop(['id'], axis=1)\n",
    "df1 = pd.read_csv('/datasets/geo_data_1.csv').drop(['id'], axis=1)\n",
    "df2 = pd.read_csv('/datasets/geo_data_2.csv').drop(['id'], axis=1)"
   ]
  },
  {
   "cell_type": "markdown",
   "metadata": {},
   "source": [
    "Загрузка данных."
   ]
  },
  {
   "cell_type": "markdown",
   "metadata": {},
   "source": [
    "**Первый регион.**"
   ]
  },
  {
   "cell_type": "code",
   "execution_count": 3,
   "metadata": {},
   "outputs": [
    {
     "name": "stdout",
     "output_type": "stream",
     "text": [
      "<class 'pandas.core.frame.DataFrame'>\n",
      "RangeIndex: 100000 entries, 0 to 99999\n",
      "Data columns (total 4 columns):\n",
      " #   Column   Non-Null Count   Dtype  \n",
      "---  ------   --------------   -----  \n",
      " 0   f0       100000 non-null  float64\n",
      " 1   f1       100000 non-null  float64\n",
      " 2   f2       100000 non-null  float64\n",
      " 3   product  100000 non-null  float64\n",
      "dtypes: float64(4)\n",
      "memory usage: 3.1 MB\n"
     ]
    }
   ],
   "source": [
    "df0.info()"
   ]
  },
  {
   "cell_type": "code",
   "execution_count": 4,
   "metadata": {},
   "outputs": [
    {
     "data": {
      "text/html": [
       "<div>\n",
       "<style scoped>\n",
       "    .dataframe tbody tr th:only-of-type {\n",
       "        vertical-align: middle;\n",
       "    }\n",
       "\n",
       "    .dataframe tbody tr th {\n",
       "        vertical-align: top;\n",
       "    }\n",
       "\n",
       "    .dataframe thead th {\n",
       "        text-align: right;\n",
       "    }\n",
       "</style>\n",
       "<table border=\"1\" class=\"dataframe\">\n",
       "  <thead>\n",
       "    <tr style=\"text-align: right;\">\n",
       "      <th></th>\n",
       "      <th>f0</th>\n",
       "      <th>f1</th>\n",
       "      <th>f2</th>\n",
       "      <th>product</th>\n",
       "    </tr>\n",
       "  </thead>\n",
       "  <tbody>\n",
       "    <tr>\n",
       "      <th>0</th>\n",
       "      <td>0.705745</td>\n",
       "      <td>-0.497823</td>\n",
       "      <td>1.221170</td>\n",
       "      <td>105.280062</td>\n",
       "    </tr>\n",
       "    <tr>\n",
       "      <th>1</th>\n",
       "      <td>1.334711</td>\n",
       "      <td>-0.340164</td>\n",
       "      <td>4.365080</td>\n",
       "      <td>73.037750</td>\n",
       "    </tr>\n",
       "    <tr>\n",
       "      <th>2</th>\n",
       "      <td>1.022732</td>\n",
       "      <td>0.151990</td>\n",
       "      <td>1.419926</td>\n",
       "      <td>85.265647</td>\n",
       "    </tr>\n",
       "    <tr>\n",
       "      <th>3</th>\n",
       "      <td>-0.032172</td>\n",
       "      <td>0.139033</td>\n",
       "      <td>2.978566</td>\n",
       "      <td>168.620776</td>\n",
       "    </tr>\n",
       "    <tr>\n",
       "      <th>4</th>\n",
       "      <td>1.988431</td>\n",
       "      <td>0.155413</td>\n",
       "      <td>4.751769</td>\n",
       "      <td>154.036647</td>\n",
       "    </tr>\n",
       "  </tbody>\n",
       "</table>\n",
       "</div>"
      ],
      "text/plain": [
       "         f0        f1        f2     product\n",
       "0  0.705745 -0.497823  1.221170  105.280062\n",
       "1  1.334711 -0.340164  4.365080   73.037750\n",
       "2  1.022732  0.151990  1.419926   85.265647\n",
       "3 -0.032172  0.139033  2.978566  168.620776\n",
       "4  1.988431  0.155413  4.751769  154.036647"
      ]
     },
     "execution_count": 4,
     "metadata": {},
     "output_type": "execute_result"
    }
   ],
   "source": [
    "df0.head()"
   ]
  },
  {
   "cell_type": "code",
   "execution_count": 5,
   "metadata": {},
   "outputs": [
    {
     "data": {
      "text/plain": [
       "f0         0\n",
       "f1         0\n",
       "f2         0\n",
       "product    0\n",
       "dtype: int64"
      ]
     },
     "execution_count": 5,
     "metadata": {},
     "output_type": "execute_result"
    }
   ],
   "source": [
    "df0.isna().sum()"
   ]
  },
  {
   "cell_type": "markdown",
   "metadata": {},
   "source": [
    "Параметры датафрейма с информацией о первом регионе."
   ]
  },
  {
   "cell_type": "markdown",
   "metadata": {},
   "source": [
    "**Второй регион.**"
   ]
  },
  {
   "cell_type": "code",
   "execution_count": 6,
   "metadata": {},
   "outputs": [
    {
     "name": "stdout",
     "output_type": "stream",
     "text": [
      "<class 'pandas.core.frame.DataFrame'>\n",
      "RangeIndex: 100000 entries, 0 to 99999\n",
      "Data columns (total 4 columns):\n",
      " #   Column   Non-Null Count   Dtype  \n",
      "---  ------   --------------   -----  \n",
      " 0   f0       100000 non-null  float64\n",
      " 1   f1       100000 non-null  float64\n",
      " 2   f2       100000 non-null  float64\n",
      " 3   product  100000 non-null  float64\n",
      "dtypes: float64(4)\n",
      "memory usage: 3.1 MB\n"
     ]
    }
   ],
   "source": [
    "df1.info()"
   ]
  },
  {
   "cell_type": "code",
   "execution_count": 7,
   "metadata": {},
   "outputs": [
    {
     "data": {
      "text/html": [
       "<div>\n",
       "<style scoped>\n",
       "    .dataframe tbody tr th:only-of-type {\n",
       "        vertical-align: middle;\n",
       "    }\n",
       "\n",
       "    .dataframe tbody tr th {\n",
       "        vertical-align: top;\n",
       "    }\n",
       "\n",
       "    .dataframe thead th {\n",
       "        text-align: right;\n",
       "    }\n",
       "</style>\n",
       "<table border=\"1\" class=\"dataframe\">\n",
       "  <thead>\n",
       "    <tr style=\"text-align: right;\">\n",
       "      <th></th>\n",
       "      <th>f0</th>\n",
       "      <th>f1</th>\n",
       "      <th>f2</th>\n",
       "      <th>product</th>\n",
       "    </tr>\n",
       "  </thead>\n",
       "  <tbody>\n",
       "    <tr>\n",
       "      <th>0</th>\n",
       "      <td>-15.001348</td>\n",
       "      <td>-8.276000</td>\n",
       "      <td>-0.005876</td>\n",
       "      <td>3.179103</td>\n",
       "    </tr>\n",
       "    <tr>\n",
       "      <th>1</th>\n",
       "      <td>14.272088</td>\n",
       "      <td>-3.475083</td>\n",
       "      <td>0.999183</td>\n",
       "      <td>26.953261</td>\n",
       "    </tr>\n",
       "    <tr>\n",
       "      <th>2</th>\n",
       "      <td>6.263187</td>\n",
       "      <td>-5.948386</td>\n",
       "      <td>5.001160</td>\n",
       "      <td>134.766305</td>\n",
       "    </tr>\n",
       "    <tr>\n",
       "      <th>3</th>\n",
       "      <td>-13.081196</td>\n",
       "      <td>-11.506057</td>\n",
       "      <td>4.999415</td>\n",
       "      <td>137.945408</td>\n",
       "    </tr>\n",
       "    <tr>\n",
       "      <th>4</th>\n",
       "      <td>12.702195</td>\n",
       "      <td>-8.147433</td>\n",
       "      <td>5.004363</td>\n",
       "      <td>134.766305</td>\n",
       "    </tr>\n",
       "  </tbody>\n",
       "</table>\n",
       "</div>"
      ],
      "text/plain": [
       "          f0         f1        f2     product\n",
       "0 -15.001348  -8.276000 -0.005876    3.179103\n",
       "1  14.272088  -3.475083  0.999183   26.953261\n",
       "2   6.263187  -5.948386  5.001160  134.766305\n",
       "3 -13.081196 -11.506057  4.999415  137.945408\n",
       "4  12.702195  -8.147433  5.004363  134.766305"
      ]
     },
     "execution_count": 7,
     "metadata": {},
     "output_type": "execute_result"
    }
   ],
   "source": [
    "df1.head()"
   ]
  },
  {
   "cell_type": "code",
   "execution_count": 8,
   "metadata": {},
   "outputs": [
    {
     "data": {
      "text/plain": [
       "f0         0\n",
       "f1         0\n",
       "f2         0\n",
       "product    0\n",
       "dtype: int64"
      ]
     },
     "execution_count": 8,
     "metadata": {},
     "output_type": "execute_result"
    }
   ],
   "source": [
    "df1.isna().sum()"
   ]
  },
  {
   "cell_type": "markdown",
   "metadata": {},
   "source": [
    "Параметры датафрейма с информацией о втором регионе."
   ]
  },
  {
   "cell_type": "markdown",
   "metadata": {},
   "source": [
    "**Третий регион.**"
   ]
  },
  {
   "cell_type": "code",
   "execution_count": 9,
   "metadata": {},
   "outputs": [
    {
     "name": "stdout",
     "output_type": "stream",
     "text": [
      "<class 'pandas.core.frame.DataFrame'>\n",
      "RangeIndex: 100000 entries, 0 to 99999\n",
      "Data columns (total 4 columns):\n",
      " #   Column   Non-Null Count   Dtype  \n",
      "---  ------   --------------   -----  \n",
      " 0   f0       100000 non-null  float64\n",
      " 1   f1       100000 non-null  float64\n",
      " 2   f2       100000 non-null  float64\n",
      " 3   product  100000 non-null  float64\n",
      "dtypes: float64(4)\n",
      "memory usage: 3.1 MB\n"
     ]
    }
   ],
   "source": [
    "df2.info()"
   ]
  },
  {
   "cell_type": "code",
   "execution_count": 10,
   "metadata": {},
   "outputs": [
    {
     "data": {
      "text/html": [
       "<div>\n",
       "<style scoped>\n",
       "    .dataframe tbody tr th:only-of-type {\n",
       "        vertical-align: middle;\n",
       "    }\n",
       "\n",
       "    .dataframe tbody tr th {\n",
       "        vertical-align: top;\n",
       "    }\n",
       "\n",
       "    .dataframe thead th {\n",
       "        text-align: right;\n",
       "    }\n",
       "</style>\n",
       "<table border=\"1\" class=\"dataframe\">\n",
       "  <thead>\n",
       "    <tr style=\"text-align: right;\">\n",
       "      <th></th>\n",
       "      <th>f0</th>\n",
       "      <th>f1</th>\n",
       "      <th>f2</th>\n",
       "      <th>product</th>\n",
       "    </tr>\n",
       "  </thead>\n",
       "  <tbody>\n",
       "    <tr>\n",
       "      <th>0</th>\n",
       "      <td>-1.146987</td>\n",
       "      <td>0.963328</td>\n",
       "      <td>-0.828965</td>\n",
       "      <td>27.758673</td>\n",
       "    </tr>\n",
       "    <tr>\n",
       "      <th>1</th>\n",
       "      <td>0.262778</td>\n",
       "      <td>0.269839</td>\n",
       "      <td>-2.530187</td>\n",
       "      <td>56.069697</td>\n",
       "    </tr>\n",
       "    <tr>\n",
       "      <th>2</th>\n",
       "      <td>0.194587</td>\n",
       "      <td>0.289035</td>\n",
       "      <td>-5.586433</td>\n",
       "      <td>62.871910</td>\n",
       "    </tr>\n",
       "    <tr>\n",
       "      <th>3</th>\n",
       "      <td>2.236060</td>\n",
       "      <td>-0.553760</td>\n",
       "      <td>0.930038</td>\n",
       "      <td>114.572842</td>\n",
       "    </tr>\n",
       "    <tr>\n",
       "      <th>4</th>\n",
       "      <td>-0.515993</td>\n",
       "      <td>1.716266</td>\n",
       "      <td>5.899011</td>\n",
       "      <td>149.600746</td>\n",
       "    </tr>\n",
       "  </tbody>\n",
       "</table>\n",
       "</div>"
      ],
      "text/plain": [
       "         f0        f1        f2     product\n",
       "0 -1.146987  0.963328 -0.828965   27.758673\n",
       "1  0.262778  0.269839 -2.530187   56.069697\n",
       "2  0.194587  0.289035 -5.586433   62.871910\n",
       "3  2.236060 -0.553760  0.930038  114.572842\n",
       "4 -0.515993  1.716266  5.899011  149.600746"
      ]
     },
     "execution_count": 10,
     "metadata": {},
     "output_type": "execute_result"
    }
   ],
   "source": [
    "df2.head()"
   ]
  },
  {
   "cell_type": "code",
   "execution_count": 11,
   "metadata": {},
   "outputs": [
    {
     "data": {
      "text/plain": [
       "f0         0\n",
       "f1         0\n",
       "f2         0\n",
       "product    0\n",
       "dtype: int64"
      ]
     },
     "execution_count": 11,
     "metadata": {},
     "output_type": "execute_result"
    }
   ],
   "source": [
    "df2.isna().sum()"
   ]
  },
  {
   "cell_type": "markdown",
   "metadata": {},
   "source": [
    "Параметры датафрейма с информацией о третьем регионе."
   ]
  },
  {
   "cell_type": "markdown",
   "metadata": {},
   "source": [
    "## Обучение и проверка модели"
   ]
  },
  {
   "cell_type": "markdown",
   "metadata": {},
   "source": [
    "**Первый регион.**"
   ]
  },
  {
   "cell_type": "code",
   "execution_count": 12,
   "metadata": {},
   "outputs": [
    {
     "name": "stdout",
     "output_type": "stream",
     "text": [
      "RMSE: 37.5794217150813\n",
      "Средний запас предсказанного сырья: 92.59256778438035\n"
     ]
    }
   ],
   "source": [
    "target0 = df0['product']\n",
    "features0 = df0.drop('product', axis=1)\n",
    "\n",
    "features_train0, features_valid0, target_train0, target_valid0 = train_test_split(\n",
    "    features0, target0, test_size=0.25, random_state=12345)\n",
    "\n",
    "model0 = LinearRegression()\n",
    "model0.fit(features_train0, target_train0)\n",
    "predictions_valid0 = model0.predict(features_valid0)\n",
    "rmse0 = sqrt(mean_squared_error(target_valid0, predictions_valid0))\n",
    "print(f'RMSE: {rmse0}')\n",
    "print(f'Средний запас предсказанного сырья: {predictions_valid0.mean()}')"
   ]
  },
  {
   "cell_type": "markdown",
   "metadata": {},
   "source": [
    "**Второй регион.**"
   ]
  },
  {
   "cell_type": "code",
   "execution_count": 13,
   "metadata": {},
   "outputs": [
    {
     "name": "stdout",
     "output_type": "stream",
     "text": [
      "RMSE: 0.893099286775617\n",
      "Средний запас предсказанного сырья: 68.728546895446\n"
     ]
    }
   ],
   "source": [
    "target1 = df1['product']\n",
    "features1 = df1.drop('product', axis=1)\n",
    "\n",
    "features_train1, features_valid1, target_train1, target_valid1 = train_test_split(\n",
    "    features1, target1, test_size=0.25, random_state=12345)\n",
    "\n",
    "model1 = LinearRegression()\n",
    "model1.fit(features_train1, target_train1)\n",
    "predictions_valid1 = model1.predict(features_valid1)\n",
    "rmse1 = sqrt(mean_squared_error(target_valid1, predictions_valid1))\n",
    "print(f'RMSE: {rmse1}')\n",
    "print(f'Средний запас предсказанного сырья: {predictions_valid1.mean()}')"
   ]
  },
  {
   "cell_type": "markdown",
   "metadata": {},
   "source": [
    "**Третий регион.**"
   ]
  },
  {
   "cell_type": "code",
   "execution_count": 14,
   "metadata": {},
   "outputs": [
    {
     "name": "stdout",
     "output_type": "stream",
     "text": [
      "RMSE: 40.02970873393434\n",
      "Средний запас предсказанного сырья: 94.96504596800489\n"
     ]
    }
   ],
   "source": [
    "target2 = df2['product']\n",
    "features2 = df2.drop('product', axis=1)\n",
    "\n",
    "features_train2, features_valid2, target_train2, target_valid2 = train_test_split(\n",
    "    features2, target2, test_size=0.25, random_state=12345)\n",
    "\n",
    "model2 = LinearRegression()\n",
    "model2.fit(features_train2, target_train2)\n",
    "predictions_valid2 = model2.predict(features_valid2)\n",
    "rmse2 = sqrt(mean_squared_error(target_valid2, predictions_valid2))\n",
    "print(f'RMSE: {rmse2}')\n",
    "print(f'Средний запас предсказанного сырья: {predictions_valid2.mean()}')"
   ]
  },
  {
   "cell_type": "markdown",
   "metadata": {},
   "source": [
    "Меньше всего значение среднеквадратической ошибки (**0.9**) получилось при обучении модели на данных второго региона."
   ]
  },
  {
   "cell_type": "markdown",
   "metadata": {},
   "source": [
    "## Подготовка к расчёту прибыли"
   ]
  },
  {
   "cell_type": "code",
   "execution_count": 15,
   "metadata": {},
   "outputs": [],
   "source": [
    "price = 450\n",
    "points = 200\n",
    "budget = 10*(10**6)"
   ]
  },
  {
   "cell_type": "markdown",
   "metadata": {},
   "source": [
    "**Первый регион.**"
   ]
  },
  {
   "cell_type": "code",
   "execution_count": 16,
   "metadata": {},
   "outputs": [
    {
     "data": {
      "text/html": [
       "<div>\n",
       "<style scoped>\n",
       "    .dataframe tbody tr th:only-of-type {\n",
       "        vertical-align: middle;\n",
       "    }\n",
       "\n",
       "    .dataframe tbody tr th {\n",
       "        vertical-align: top;\n",
       "    }\n",
       "\n",
       "    .dataframe thead th {\n",
       "        text-align: right;\n",
       "    }\n",
       "</style>\n",
       "<table border=\"1\" class=\"dataframe\">\n",
       "  <thead>\n",
       "    <tr style=\"text-align: right;\">\n",
       "      <th></th>\n",
       "      <th>true_valid</th>\n",
       "      <th>predictions_valid</th>\n",
       "    </tr>\n",
       "  </thead>\n",
       "  <tbody>\n",
       "    <tr>\n",
       "      <th>71751</th>\n",
       "      <td>10.038645</td>\n",
       "      <td>95.894952</td>\n",
       "    </tr>\n",
       "    <tr>\n",
       "      <th>80493</th>\n",
       "      <td>114.551489</td>\n",
       "      <td>77.572583</td>\n",
       "    </tr>\n",
       "    <tr>\n",
       "      <th>2655</th>\n",
       "      <td>132.603635</td>\n",
       "      <td>77.892640</td>\n",
       "    </tr>\n",
       "    <tr>\n",
       "      <th>53233</th>\n",
       "      <td>169.072125</td>\n",
       "      <td>90.175134</td>\n",
       "    </tr>\n",
       "    <tr>\n",
       "      <th>91141</th>\n",
       "      <td>122.325180</td>\n",
       "      <td>70.510088</td>\n",
       "    </tr>\n",
       "    <tr>\n",
       "      <th>...</th>\n",
       "      <td>...</td>\n",
       "      <td>...</td>\n",
       "    </tr>\n",
       "    <tr>\n",
       "      <th>12581</th>\n",
       "      <td>170.116726</td>\n",
       "      <td>103.037104</td>\n",
       "    </tr>\n",
       "    <tr>\n",
       "      <th>18456</th>\n",
       "      <td>93.632175</td>\n",
       "      <td>85.403255</td>\n",
       "    </tr>\n",
       "    <tr>\n",
       "      <th>73035</th>\n",
       "      <td>127.352259</td>\n",
       "      <td>61.509833</td>\n",
       "    </tr>\n",
       "    <tr>\n",
       "      <th>63834</th>\n",
       "      <td>99.782700</td>\n",
       "      <td>118.180397</td>\n",
       "    </tr>\n",
       "    <tr>\n",
       "      <th>43558</th>\n",
       "      <td>177.821022</td>\n",
       "      <td>118.169392</td>\n",
       "    </tr>\n",
       "  </tbody>\n",
       "</table>\n",
       "<p>25000 rows × 2 columns</p>\n",
       "</div>"
      ],
      "text/plain": [
       "       true_valid  predictions_valid\n",
       "71751   10.038645          95.894952\n",
       "80493  114.551489          77.572583\n",
       "2655   132.603635          77.892640\n",
       "53233  169.072125          90.175134\n",
       "91141  122.325180          70.510088\n",
       "...           ...                ...\n",
       "12581  170.116726         103.037104\n",
       "18456   93.632175          85.403255\n",
       "73035  127.352259          61.509833\n",
       "63834   99.782700         118.180397\n",
       "43558  177.821022         118.169392\n",
       "\n",
       "[25000 rows x 2 columns]"
      ]
     },
     "execution_count": 16,
     "metadata": {},
     "output_type": "execute_result"
    }
   ],
   "source": [
    "d0 = pd.DataFrame(\n",
    "    data={\n",
    "        'true_valid': target_valid0,\n",
    "        'predictions_valid': predictions_valid0\n",
    "        \n",
    "    })\n",
    "d0"
   ]
  },
  {
   "cell_type": "markdown",
   "metadata": {},
   "source": [
    "Истинные значение и предсказания модели по добыче продукта в **первом регионе** были объединены в один датафрейм."
   ]
  },
  {
   "cell_type": "markdown",
   "metadata": {},
   "source": [
    "**Второй регион.**"
   ]
  },
  {
   "cell_type": "code",
   "execution_count": 17,
   "metadata": {},
   "outputs": [
    {
     "data": {
      "text/html": [
       "<div>\n",
       "<style scoped>\n",
       "    .dataframe tbody tr th:only-of-type {\n",
       "        vertical-align: middle;\n",
       "    }\n",
       "\n",
       "    .dataframe tbody tr th {\n",
       "        vertical-align: top;\n",
       "    }\n",
       "\n",
       "    .dataframe thead th {\n",
       "        text-align: right;\n",
       "    }\n",
       "</style>\n",
       "<table border=\"1\" class=\"dataframe\">\n",
       "  <thead>\n",
       "    <tr style=\"text-align: right;\">\n",
       "      <th></th>\n",
       "      <th>true_valid</th>\n",
       "      <th>predictions_valid</th>\n",
       "    </tr>\n",
       "  </thead>\n",
       "  <tbody>\n",
       "    <tr>\n",
       "      <th>71751</th>\n",
       "      <td>80.859783</td>\n",
       "      <td>82.663314</td>\n",
       "    </tr>\n",
       "    <tr>\n",
       "      <th>80493</th>\n",
       "      <td>53.906522</td>\n",
       "      <td>54.431786</td>\n",
       "    </tr>\n",
       "    <tr>\n",
       "      <th>2655</th>\n",
       "      <td>30.132364</td>\n",
       "      <td>29.748760</td>\n",
       "    </tr>\n",
       "    <tr>\n",
       "      <th>53233</th>\n",
       "      <td>53.906522</td>\n",
       "      <td>53.552133</td>\n",
       "    </tr>\n",
       "    <tr>\n",
       "      <th>91141</th>\n",
       "      <td>0.000000</td>\n",
       "      <td>1.243856</td>\n",
       "    </tr>\n",
       "    <tr>\n",
       "      <th>...</th>\n",
       "      <td>...</td>\n",
       "      <td>...</td>\n",
       "    </tr>\n",
       "    <tr>\n",
       "      <th>12581</th>\n",
       "      <td>137.945408</td>\n",
       "      <td>136.869211</td>\n",
       "    </tr>\n",
       "    <tr>\n",
       "      <th>18456</th>\n",
       "      <td>110.992147</td>\n",
       "      <td>110.693465</td>\n",
       "    </tr>\n",
       "    <tr>\n",
       "      <th>73035</th>\n",
       "      <td>137.945408</td>\n",
       "      <td>137.879341</td>\n",
       "    </tr>\n",
       "    <tr>\n",
       "      <th>63834</th>\n",
       "      <td>84.038886</td>\n",
       "      <td>83.761966</td>\n",
       "    </tr>\n",
       "    <tr>\n",
       "      <th>43558</th>\n",
       "      <td>53.906522</td>\n",
       "      <td>53.958466</td>\n",
       "    </tr>\n",
       "  </tbody>\n",
       "</table>\n",
       "<p>25000 rows × 2 columns</p>\n",
       "</div>"
      ],
      "text/plain": [
       "       true_valid  predictions_valid\n",
       "71751   80.859783          82.663314\n",
       "80493   53.906522          54.431786\n",
       "2655    30.132364          29.748760\n",
       "53233   53.906522          53.552133\n",
       "91141    0.000000           1.243856\n",
       "...           ...                ...\n",
       "12581  137.945408         136.869211\n",
       "18456  110.992147         110.693465\n",
       "73035  137.945408         137.879341\n",
       "63834   84.038886          83.761966\n",
       "43558   53.906522          53.958466\n",
       "\n",
       "[25000 rows x 2 columns]"
      ]
     },
     "execution_count": 17,
     "metadata": {},
     "output_type": "execute_result"
    }
   ],
   "source": [
    "d1 = pd.DataFrame(\n",
    "    data={\n",
    "        'true_valid': target_valid1,\n",
    "        'predictions_valid': predictions_valid1\n",
    "        \n",
    "    })\n",
    "d1"
   ]
  },
  {
   "cell_type": "markdown",
   "metadata": {},
   "source": [
    "Истинные значение и предсказания модели по добыче продукта во **втором регионе** были объединены в один датафрейм."
   ]
  },
  {
   "cell_type": "markdown",
   "metadata": {},
   "source": [
    "**Третий регион.**"
   ]
  },
  {
   "cell_type": "code",
   "execution_count": 18,
   "metadata": {},
   "outputs": [
    {
     "data": {
      "text/html": [
       "<div>\n",
       "<style scoped>\n",
       "    .dataframe tbody tr th:only-of-type {\n",
       "        vertical-align: middle;\n",
       "    }\n",
       "\n",
       "    .dataframe tbody tr th {\n",
       "        vertical-align: top;\n",
       "    }\n",
       "\n",
       "    .dataframe thead th {\n",
       "        text-align: right;\n",
       "    }\n",
       "</style>\n",
       "<table border=\"1\" class=\"dataframe\">\n",
       "  <thead>\n",
       "    <tr style=\"text-align: right;\">\n",
       "      <th></th>\n",
       "      <th>true_valid</th>\n",
       "      <th>predictions_valid</th>\n",
       "    </tr>\n",
       "  </thead>\n",
       "  <tbody>\n",
       "    <tr>\n",
       "      <th>71751</th>\n",
       "      <td>61.212375</td>\n",
       "      <td>93.599633</td>\n",
       "    </tr>\n",
       "    <tr>\n",
       "      <th>80493</th>\n",
       "      <td>41.850118</td>\n",
       "      <td>75.105159</td>\n",
       "    </tr>\n",
       "    <tr>\n",
       "      <th>2655</th>\n",
       "      <td>57.776581</td>\n",
       "      <td>90.066809</td>\n",
       "    </tr>\n",
       "    <tr>\n",
       "      <th>53233</th>\n",
       "      <td>100.053761</td>\n",
       "      <td>105.162375</td>\n",
       "    </tr>\n",
       "    <tr>\n",
       "      <th>91141</th>\n",
       "      <td>109.897122</td>\n",
       "      <td>115.303310</td>\n",
       "    </tr>\n",
       "    <tr>\n",
       "      <th>...</th>\n",
       "      <td>...</td>\n",
       "      <td>...</td>\n",
       "    </tr>\n",
       "    <tr>\n",
       "      <th>12581</th>\n",
       "      <td>28.492402</td>\n",
       "      <td>78.765887</td>\n",
       "    </tr>\n",
       "    <tr>\n",
       "      <th>18456</th>\n",
       "      <td>21.431303</td>\n",
       "      <td>95.603394</td>\n",
       "    </tr>\n",
       "    <tr>\n",
       "      <th>73035</th>\n",
       "      <td>125.487229</td>\n",
       "      <td>99.407281</td>\n",
       "    </tr>\n",
       "    <tr>\n",
       "      <th>63834</th>\n",
       "      <td>99.422903</td>\n",
       "      <td>77.779912</td>\n",
       "    </tr>\n",
       "    <tr>\n",
       "      <th>43558</th>\n",
       "      <td>127.445075</td>\n",
       "      <td>129.032417</td>\n",
       "    </tr>\n",
       "  </tbody>\n",
       "</table>\n",
       "<p>25000 rows × 2 columns</p>\n",
       "</div>"
      ],
      "text/plain": [
       "       true_valid  predictions_valid\n",
       "71751   61.212375          93.599633\n",
       "80493   41.850118          75.105159\n",
       "2655    57.776581          90.066809\n",
       "53233  100.053761         105.162375\n",
       "91141  109.897122         115.303310\n",
       "...           ...                ...\n",
       "12581   28.492402          78.765887\n",
       "18456   21.431303          95.603394\n",
       "73035  125.487229          99.407281\n",
       "63834   99.422903          77.779912\n",
       "43558  127.445075         129.032417\n",
       "\n",
       "[25000 rows x 2 columns]"
      ]
     },
     "execution_count": 18,
     "metadata": {},
     "output_type": "execute_result"
    }
   ],
   "source": [
    "d2 = pd.DataFrame(\n",
    "    data={\n",
    "        'true_valid': target_valid2,\n",
    "        'predictions_valid': predictions_valid2\n",
    "        \n",
    "    })\n",
    "d2"
   ]
  },
  {
   "cell_type": "markdown",
   "metadata": {},
   "source": [
    "Истинные значение и предсказания модели по добыче продукта в **третьем регионе** были объединены в один датафрейм."
   ]
  },
  {
   "cell_type": "code",
   "execution_count": 26,
   "metadata": {},
   "outputs": [
    {
     "name": "stdout",
     "output_type": "stream",
     "text": [
      "Расход на одну скважину: 50000.0\n",
      "Объем сырья для безубыточной разработки одной скважины: 111.11111111111111\n"
     ]
    }
   ],
   "source": [
    "r = budget / 200\n",
    "print(f'Расход на одну скважину: {r}')\n",
    "print(f'Объем сырья для безубыточной разработки одной скважины: {r / price}')"
   ]
  },
  {
   "cell_type": "markdown",
   "metadata": {},
   "source": [
    "**Среднее по регионам не превышает достаточный объем сырья для безубыточности.**"
   ]
  },
  {
   "cell_type": "code",
   "execution_count": 20,
   "metadata": {},
   "outputs": [],
   "source": [
    "def oil_profit(target, predicted, points):\n",
    "    probs_sorted = predicted.sort_values(ascending=False)\n",
    "    selected = target[probs_sorted.index][:points]\n",
    "    return price * selected.sum() - budget"
   ]
  },
  {
   "cell_type": "markdown",
   "metadata": {},
   "source": [
    "Функция для расчета прибыли."
   ]
  },
  {
   "cell_type": "markdown",
   "metadata": {},
   "source": [
    "## Расчёт прибыли и рисков "
   ]
  },
  {
   "cell_type": "code",
   "execution_count": 21,
   "metadata": {},
   "outputs": [],
   "source": [
    "state = RandomState(12345)\n",
    "\n",
    "def bootstrap(data):\n",
    "    values = []\n",
    "    lost = 0\n",
    "    \n",
    "    for i in range(1000):\n",
    "        target_sample = data[\"true_valid\"].sample(replace=True, random_state=state, n=500)\n",
    "        probs_sample = data[\"predictions_valid\"][target_sample.index]\n",
    "        profit = oil_profit(data[\"true_valid\"], probs_sample, 200)\n",
    "        \n",
    "        if profit < 0:\n",
    "            lost +=1\n",
    "            \n",
    "        values.append(profit)\n",
    " \n",
    "    values = pd.Series(values)\n",
    "    lower = values.quantile(0.025)\n",
    "    upper = values.quantile(0.975)\n",
    "    average = values.mean()\n",
    "    risk = lost / 1000\n",
    "    return average, lower, upper, risk"
   ]
  },
  {
   "cell_type": "code",
   "execution_count": 22,
   "metadata": {},
   "outputs": [
    {
     "name": "stdout",
     "output_type": "stream",
     "text": [
      "Параметры первого региона:\n",
      "Средняя прибыль: 396164.9848023711, минимальная: -111215.54589049607, максимальная: 909766.9415534219, риск: 0.069.\n"
     ]
    }
   ],
   "source": [
    "params0 = bootstrap(d0)\n",
    "print('Параметры первого региона:')\n",
    "print(f'Средняя прибыль: {params0[0]}, минимальная: {params0[1]}, максимальная: {params0[2]}, риск: {params0[3]}.')"
   ]
  },
  {
   "cell_type": "code",
   "execution_count": 23,
   "metadata": {},
   "outputs": [
    {
     "name": "stdout",
     "output_type": "stream",
     "text": [
      "Параметры второго региона:\n",
      "Средняя прибыль: 461155.8172772397, минимальная: 78050.81075174105, максимальная: 862952.0602637231, риск: 0.007.\n"
     ]
    }
   ],
   "source": [
    "params1 = bootstrap(d1)\n",
    "print('Параметры второго региона:')\n",
    "print(f'Средняя прибыль: {params1[0]}, минимальная: {params1[1]}, максимальная: {params1[2]}, риск: {params1[3]}.')"
   ]
  },
  {
   "cell_type": "code",
   "execution_count": 24,
   "metadata": {},
   "outputs": [
    {
     "name": "stdout",
     "output_type": "stream",
     "text": [
      "Параметры третьего региона:\n",
      "Средняя прибыль: 392950.47517060454, минимальная: -112227.62537857569, максимальная: 934562.914551164, риск: 0.065.\n"
     ]
    }
   ],
   "source": [
    "params2 = bootstrap(d2)\n",
    "print('Параметры третьего региона:')\n",
    "print(f'Средняя прибыль: {params2[0]}, минимальная: {params2[1]}, максимальная: {params2[2]}, риск: {params2[3]}.')"
   ]
  },
  {
   "cell_type": "markdown",
   "metadata": {},
   "source": [
    "Перспективнее всего из трех регионов выглядит второй, в виду наименьшего риска - **0.007** и наибольшей средней прибыли - **461155**."
   ]
  },
  {
   "cell_type": "markdown",
   "metadata": {},
   "source": [
    "## Вывод"
   ]
  },
  {
   "cell_type": "markdown",
   "metadata": {},
   "source": [
    "Были проанализированы три датафрейма с информацией о характеристках скважин. Каждый датафрейм был разбит на две выборки - обучающую и валидационную. Затем была обучена модель **LinearRegression**. Предсказания и истинные значения по добыче продукта каждого из регионов были собраные в отдельные датафреймы, а затем исследованы с помощью техники **Bootstrap**. В качестве выбранного для бурения скважины был выбран второй регион, в виду наименьшего риска - **0.007** и наибольшей средней прибыли - **461155**."
   ]
  }
 ],
 "metadata": {
  "ExecuteTimeLog": [
   {
    "duration": 53,
    "start_time": "2023-04-15T15:55:47.970Z"
   },
   {
    "duration": 392,
    "start_time": "2023-04-15T15:55:52.545Z"
   },
   {
    "duration": 1524,
    "start_time": "2023-04-15T15:55:52.939Z"
   },
   {
    "duration": 17,
    "start_time": "2023-04-15T15:55:54.465Z"
   },
   {
    "duration": 16,
    "start_time": "2023-04-15T15:56:01.612Z"
   },
   {
    "duration": 16,
    "start_time": "2023-04-15T15:56:04.836Z"
   },
   {
    "duration": 18,
    "start_time": "2023-04-15T15:57:38.193Z"
   },
   {
    "duration": 41,
    "start_time": "2023-04-15T15:57:42.257Z"
   },
   {
    "duration": 14,
    "start_time": "2023-04-15T16:00:14.333Z"
   },
   {
    "duration": 15,
    "start_time": "2023-04-15T16:00:20.823Z"
   },
   {
    "duration": 15,
    "start_time": "2023-04-15T16:00:27.420Z"
   },
   {
    "duration": 14,
    "start_time": "2023-04-15T16:01:18.161Z"
   },
   {
    "duration": 12,
    "start_time": "2023-04-15T16:53:25.508Z"
   },
   {
    "duration": 10,
    "start_time": "2023-04-15T16:54:41.705Z"
   },
   {
    "duration": 10,
    "start_time": "2023-04-15T16:54:52.029Z"
   },
   {
    "duration": 10,
    "start_time": "2023-04-15T16:55:15.624Z"
   },
   {
    "duration": 11,
    "start_time": "2023-04-15T16:55:24.207Z"
   },
   {
    "duration": 65,
    "start_time": "2023-04-15T16:59:09.621Z"
   },
   {
    "duration": 1045,
    "start_time": "2023-04-15T17:02:22.727Z"
   },
   {
    "duration": 389,
    "start_time": "2023-04-15T17:02:23.774Z"
   },
   {
    "duration": 15,
    "start_time": "2023-04-15T17:02:24.165Z"
   },
   {
    "duration": 36,
    "start_time": "2023-04-15T17:02:24.182Z"
   },
   {
    "duration": 22,
    "start_time": "2023-04-15T17:02:24.220Z"
   },
   {
    "duration": 23,
    "start_time": "2023-04-15T17:02:24.243Z"
   },
   {
    "duration": 11,
    "start_time": "2023-04-15T17:02:24.268Z"
   },
   {
    "duration": 21,
    "start_time": "2023-04-15T17:02:24.281Z"
   },
   {
    "duration": 15,
    "start_time": "2023-04-15T17:02:24.303Z"
   },
   {
    "duration": 14,
    "start_time": "2023-04-15T17:02:24.320Z"
   },
   {
    "duration": 21,
    "start_time": "2023-04-15T17:02:24.335Z"
   },
   {
    "duration": 43,
    "start_time": "2023-04-15T17:02:24.357Z"
   },
   {
    "duration": 1139,
    "start_time": "2023-04-15T17:08:33.895Z"
   },
   {
    "duration": 405,
    "start_time": "2023-04-15T17:08:35.036Z"
   },
   {
    "duration": 17,
    "start_time": "2023-04-15T17:08:35.443Z"
   },
   {
    "duration": 18,
    "start_time": "2023-04-15T17:08:35.462Z"
   },
   {
    "duration": 25,
    "start_time": "2023-04-15T17:08:35.482Z"
   },
   {
    "duration": 25,
    "start_time": "2023-04-15T17:08:35.509Z"
   },
   {
    "duration": 9,
    "start_time": "2023-04-15T17:08:35.536Z"
   },
   {
    "duration": 14,
    "start_time": "2023-04-15T17:08:35.547Z"
   },
   {
    "duration": 29,
    "start_time": "2023-04-15T17:08:35.563Z"
   },
   {
    "duration": 10,
    "start_time": "2023-04-15T17:08:35.594Z"
   },
   {
    "duration": 31,
    "start_time": "2023-04-15T17:08:35.605Z"
   },
   {
    "duration": 124,
    "start_time": "2023-04-15T17:08:35.638Z"
   },
   {
    "duration": 59,
    "start_time": "2023-04-15T17:09:35.400Z"
   },
   {
    "duration": 1119,
    "start_time": "2023-04-15T17:14:23.436Z"
   },
   {
    "duration": 270,
    "start_time": "2023-04-15T17:14:24.557Z"
   },
   {
    "duration": 0,
    "start_time": "2023-04-15T17:14:24.830Z"
   },
   {
    "duration": 0,
    "start_time": "2023-04-15T17:14:24.831Z"
   },
   {
    "duration": 0,
    "start_time": "2023-04-15T17:14:24.833Z"
   },
   {
    "duration": 0,
    "start_time": "2023-04-15T17:14:24.835Z"
   },
   {
    "duration": 0,
    "start_time": "2023-04-15T17:14:24.836Z"
   },
   {
    "duration": 0,
    "start_time": "2023-04-15T17:14:24.838Z"
   },
   {
    "duration": 0,
    "start_time": "2023-04-15T17:14:24.839Z"
   },
   {
    "duration": 0,
    "start_time": "2023-04-15T17:14:24.841Z"
   },
   {
    "duration": 0,
    "start_time": "2023-04-15T17:14:24.842Z"
   },
   {
    "duration": 0,
    "start_time": "2023-04-15T17:14:24.844Z"
   },
   {
    "duration": 421,
    "start_time": "2023-04-15T17:14:53.714Z"
   },
   {
    "duration": 11,
    "start_time": "2023-04-15T17:14:56.454Z"
   },
   {
    "duration": 17,
    "start_time": "2023-04-15T17:14:57.142Z"
   },
   {
    "duration": 6,
    "start_time": "2023-04-15T17:14:57.942Z"
   },
   {
    "duration": 10,
    "start_time": "2023-04-15T17:14:59.512Z"
   },
   {
    "duration": 8,
    "start_time": "2023-04-15T17:15:00.450Z"
   },
   {
    "duration": 6,
    "start_time": "2023-04-15T17:15:00.828Z"
   },
   {
    "duration": 10,
    "start_time": "2023-04-15T17:15:01.619Z"
   },
   {
    "duration": 10,
    "start_time": "2023-04-15T17:15:01.973Z"
   },
   {
    "duration": 6,
    "start_time": "2023-04-15T17:15:02.339Z"
   },
   {
    "duration": 55,
    "start_time": "2023-04-15T17:15:03.666Z"
   },
   {
    "duration": 29,
    "start_time": "2023-04-15T17:15:23.424Z"
   },
   {
    "duration": 75,
    "start_time": "2023-04-15T17:16:03.744Z"
   },
   {
    "duration": 1019,
    "start_time": "2023-04-15T17:16:08.360Z"
   },
   {
    "duration": 393,
    "start_time": "2023-04-15T17:16:09.381Z"
   },
   {
    "duration": 10,
    "start_time": "2023-04-15T17:16:09.776Z"
   },
   {
    "duration": 13,
    "start_time": "2023-04-15T17:16:09.788Z"
   },
   {
    "duration": 18,
    "start_time": "2023-04-15T17:16:09.803Z"
   },
   {
    "duration": 9,
    "start_time": "2023-04-15T17:16:09.822Z"
   },
   {
    "duration": 7,
    "start_time": "2023-04-15T17:16:09.833Z"
   },
   {
    "duration": 7,
    "start_time": "2023-04-15T17:16:09.842Z"
   },
   {
    "duration": 8,
    "start_time": "2023-04-15T17:16:09.851Z"
   },
   {
    "duration": 7,
    "start_time": "2023-04-15T17:16:09.861Z"
   },
   {
    "duration": 8,
    "start_time": "2023-04-15T17:16:09.870Z"
   },
   {
    "duration": 61,
    "start_time": "2023-04-15T17:16:09.879Z"
   },
   {
    "duration": 26,
    "start_time": "2023-04-15T17:17:43.710Z"
   },
   {
    "duration": 28,
    "start_time": "2023-04-15T17:19:31.713Z"
   },
   {
    "duration": 23,
    "start_time": "2023-04-15T17:20:09.497Z"
   },
   {
    "duration": 24,
    "start_time": "2023-04-15T17:20:11.508Z"
   },
   {
    "duration": 22,
    "start_time": "2023-04-15T17:20:12.037Z"
   },
   {
    "duration": 25,
    "start_time": "2023-04-15T17:21:00.037Z"
   },
   {
    "duration": 28,
    "start_time": "2023-04-15T17:21:12.741Z"
   },
   {
    "duration": 24,
    "start_time": "2023-04-15T17:21:50.362Z"
   },
   {
    "duration": 45,
    "start_time": "2023-04-15T17:22:14.973Z"
   },
   {
    "duration": 23,
    "start_time": "2023-04-15T17:22:42.603Z"
   },
   {
    "duration": 1072,
    "start_time": "2023-04-15T17:31:45.407Z"
   },
   {
    "duration": 419,
    "start_time": "2023-04-15T17:31:46.481Z"
   },
   {
    "duration": 11,
    "start_time": "2023-04-15T17:31:46.902Z"
   },
   {
    "duration": 19,
    "start_time": "2023-04-15T17:31:46.918Z"
   },
   {
    "duration": 11,
    "start_time": "2023-04-15T17:31:46.939Z"
   },
   {
    "duration": 31,
    "start_time": "2023-04-15T17:31:46.951Z"
   },
   {
    "duration": 15,
    "start_time": "2023-04-15T17:31:46.984Z"
   },
   {
    "duration": 13,
    "start_time": "2023-04-15T17:31:47.001Z"
   },
   {
    "duration": 21,
    "start_time": "2023-04-15T17:31:47.016Z"
   },
   {
    "duration": 21,
    "start_time": "2023-04-15T17:31:47.039Z"
   },
   {
    "duration": 18,
    "start_time": "2023-04-15T17:31:47.061Z"
   },
   {
    "duration": 46,
    "start_time": "2023-04-15T17:31:47.081Z"
   },
   {
    "duration": 126,
    "start_time": "2023-04-15T17:31:47.218Z"
   },
   {
    "duration": 192,
    "start_time": "2023-04-15T17:31:47.347Z"
   },
   {
    "duration": 49,
    "start_time": "2023-04-16T10:21:19.107Z"
   },
   {
    "duration": 1059,
    "start_time": "2023-04-16T10:21:26.730Z"
   },
   {
    "duration": 1512,
    "start_time": "2023-04-16T10:21:27.792Z"
   },
   {
    "duration": 12,
    "start_time": "2023-04-16T10:21:29.306Z"
   },
   {
    "duration": 16,
    "start_time": "2023-04-16T10:21:29.319Z"
   },
   {
    "duration": 6,
    "start_time": "2023-04-16T10:21:29.338Z"
   },
   {
    "duration": 10,
    "start_time": "2023-04-16T10:21:29.346Z"
   },
   {
    "duration": 31,
    "start_time": "2023-04-16T10:21:29.358Z"
   },
   {
    "duration": 9,
    "start_time": "2023-04-16T10:21:29.391Z"
   },
   {
    "duration": 12,
    "start_time": "2023-04-16T10:21:29.401Z"
   },
   {
    "duration": 8,
    "start_time": "2023-04-16T10:21:29.415Z"
   },
   {
    "duration": 10,
    "start_time": "2023-04-16T10:21:29.424Z"
   },
   {
    "duration": 54,
    "start_time": "2023-04-16T10:21:29.436Z"
   },
   {
    "duration": 121,
    "start_time": "2023-04-16T10:21:29.493Z"
   },
   {
    "duration": 123,
    "start_time": "2023-04-16T10:21:29.688Z"
   },
   {
    "duration": 272,
    "start_time": "2023-04-16T10:21:29.816Z"
   },
   {
    "duration": 4,
    "start_time": "2023-04-16T10:21:35.905Z"
   },
   {
    "duration": 4,
    "start_time": "2023-04-16T10:21:47.783Z"
   },
   {
    "duration": 4,
    "start_time": "2023-04-16T10:22:01.305Z"
   },
   {
    "duration": 7,
    "start_time": "2023-04-16T10:22:13.940Z"
   },
   {
    "duration": 4,
    "start_time": "2023-04-16T10:22:21.038Z"
   },
   {
    "duration": 11,
    "start_time": "2023-04-16T10:23:16.443Z"
   },
   {
    "duration": 3,
    "start_time": "2023-04-16T10:31:09.344Z"
   },
   {
    "duration": 12,
    "start_time": "2023-04-16T10:32:39.204Z"
   },
   {
    "duration": 5,
    "start_time": "2023-04-16T10:32:52.741Z"
   },
   {
    "duration": 5,
    "start_time": "2023-04-16T10:33:04.100Z"
   },
   {
    "duration": 5,
    "start_time": "2023-04-16T10:33:18.808Z"
   },
   {
    "duration": 7,
    "start_time": "2023-04-16T10:34:16.220Z"
   },
   {
    "duration": 5,
    "start_time": "2023-04-16T10:34:41.864Z"
   },
   {
    "duration": 4,
    "start_time": "2023-04-16T10:34:50.624Z"
   },
   {
    "duration": 4,
    "start_time": "2023-04-16T10:35:11.512Z"
   },
   {
    "duration": 3,
    "start_time": "2023-04-16T10:35:30.805Z"
   },
   {
    "duration": 9,
    "start_time": "2023-04-16T10:37:52.600Z"
   },
   {
    "duration": 8,
    "start_time": "2023-04-16T10:37:56.832Z"
   },
   {
    "duration": 4,
    "start_time": "2023-04-16T10:38:01.703Z"
   },
   {
    "duration": 4,
    "start_time": "2023-04-16T10:38:21.403Z"
   },
   {
    "duration": 4,
    "start_time": "2023-04-16T10:40:42.714Z"
   },
   {
    "duration": 4,
    "start_time": "2023-04-16T10:40:54.234Z"
   },
   {
    "duration": 4,
    "start_time": "2023-04-16T10:41:19.604Z"
   },
   {
    "duration": 9,
    "start_time": "2023-04-16T10:46:42.477Z"
   },
   {
    "duration": 3,
    "start_time": "2023-04-16T10:46:45.235Z"
   },
   {
    "duration": 12,
    "start_time": "2023-04-16T10:46:45.811Z"
   },
   {
    "duration": 7,
    "start_time": "2023-04-16T10:48:29.637Z"
   },
   {
    "duration": 833,
    "start_time": "2023-04-16T10:49:42.011Z"
   },
   {
    "duration": 6,
    "start_time": "2023-04-16T10:51:47.518Z"
   },
   {
    "duration": 5,
    "start_time": "2023-04-16T10:52:01.521Z"
   },
   {
    "duration": 15,
    "start_time": "2023-04-16T10:56:58.997Z"
   },
   {
    "duration": 54,
    "start_time": "2023-04-16T10:59:45.599Z"
   },
   {
    "duration": 11,
    "start_time": "2023-04-16T11:00:03.045Z"
   },
   {
    "duration": 4,
    "start_time": "2023-04-16T11:00:25.337Z"
   },
   {
    "duration": 10,
    "start_time": "2023-04-16T11:00:29.802Z"
   },
   {
    "duration": 11,
    "start_time": "2023-04-16T11:00:45.934Z"
   },
   {
    "duration": 16,
    "start_time": "2023-04-16T11:01:02.884Z"
   },
   {
    "duration": 12,
    "start_time": "2023-04-16T11:01:20.715Z"
   },
   {
    "duration": 5,
    "start_time": "2023-04-16T11:02:23.003Z"
   },
   {
    "duration": 1181,
    "start_time": "2023-04-16T11:02:23.702Z"
   },
   {
    "duration": 1098,
    "start_time": "2023-04-16T11:02:33.939Z"
   },
   {
    "duration": 1056,
    "start_time": "2023-04-16T11:02:52.843Z"
   },
   {
    "duration": 425,
    "start_time": "2023-04-16T11:02:53.903Z"
   },
   {
    "duration": 11,
    "start_time": "2023-04-16T11:02:54.330Z"
   },
   {
    "duration": 15,
    "start_time": "2023-04-16T11:02:54.342Z"
   },
   {
    "duration": 8,
    "start_time": "2023-04-16T11:02:54.359Z"
   },
   {
    "duration": 31,
    "start_time": "2023-04-16T11:02:54.369Z"
   },
   {
    "duration": 14,
    "start_time": "2023-04-16T11:02:54.403Z"
   },
   {
    "duration": 19,
    "start_time": "2023-04-16T11:02:54.419Z"
   },
   {
    "duration": 10,
    "start_time": "2023-04-16T11:02:54.439Z"
   },
   {
    "duration": 11,
    "start_time": "2023-04-16T11:02:54.451Z"
   },
   {
    "duration": 41,
    "start_time": "2023-04-16T11:02:54.464Z"
   },
   {
    "duration": 83,
    "start_time": "2023-04-16T11:02:54.507Z"
   },
   {
    "duration": 123,
    "start_time": "2023-04-16T11:02:54.593Z"
   },
   {
    "duration": 194,
    "start_time": "2023-04-16T11:02:54.719Z"
   },
   {
    "duration": 172,
    "start_time": "2023-04-16T11:02:54.916Z"
   },
   {
    "duration": 22,
    "start_time": "2023-04-16T11:02:55.094Z"
   },
   {
    "duration": 15,
    "start_time": "2023-04-16T11:02:55.118Z"
   },
   {
    "duration": 7,
    "start_time": "2023-04-16T11:02:55.135Z"
   },
   {
    "duration": 8,
    "start_time": "2023-04-16T11:02:55.144Z"
   },
   {
    "duration": 123,
    "start_time": "2023-04-16T11:02:55.154Z"
   },
   {
    "duration": 3,
    "start_time": "2023-04-16T11:03:32.145Z"
   },
   {
    "duration": 5,
    "start_time": "2023-04-16T11:03:32.853Z"
   },
   {
    "duration": 1164,
    "start_time": "2023-04-16T11:03:33.302Z"
   },
   {
    "duration": 1171,
    "start_time": "2023-04-16T11:04:28.951Z"
   },
   {
    "duration": 439,
    "start_time": "2023-04-16T11:04:30.124Z"
   },
   {
    "duration": 13,
    "start_time": "2023-04-16T11:04:30.564Z"
   },
   {
    "duration": 44,
    "start_time": "2023-04-16T11:04:30.578Z"
   },
   {
    "duration": 26,
    "start_time": "2023-04-16T11:04:30.625Z"
   },
   {
    "duration": 30,
    "start_time": "2023-04-16T11:04:30.653Z"
   },
   {
    "duration": 48,
    "start_time": "2023-04-16T11:04:30.686Z"
   },
   {
    "duration": 40,
    "start_time": "2023-04-16T11:04:30.738Z"
   },
   {
    "duration": 91,
    "start_time": "2023-04-16T11:04:30.780Z"
   },
   {
    "duration": 89,
    "start_time": "2023-04-16T11:04:30.874Z"
   },
   {
    "duration": 54,
    "start_time": "2023-04-16T11:04:30.965Z"
   },
   {
    "duration": 66,
    "start_time": "2023-04-16T11:04:31.021Z"
   },
   {
    "duration": 200,
    "start_time": "2023-04-16T11:04:31.089Z"
   },
   {
    "duration": 136,
    "start_time": "2023-04-16T11:04:31.297Z"
   },
   {
    "duration": 168,
    "start_time": "2023-04-16T11:04:31.435Z"
   },
   {
    "duration": 42,
    "start_time": "2023-04-16T11:04:31.605Z"
   },
   {
    "duration": 42,
    "start_time": "2023-04-16T11:04:31.649Z"
   },
   {
    "duration": 42,
    "start_time": "2023-04-16T11:04:31.693Z"
   },
   {
    "duration": 32,
    "start_time": "2023-04-16T11:04:31.736Z"
   },
   {
    "duration": 1035,
    "start_time": "2023-04-16T11:04:31.770Z"
   },
   {
    "duration": 105,
    "start_time": "2023-04-16T11:06:52.316Z"
   },
   {
    "duration": 1043,
    "start_time": "2023-04-16T11:06:58.144Z"
   },
   {
    "duration": 402,
    "start_time": "2023-04-16T11:06:59.189Z"
   },
   {
    "duration": 10,
    "start_time": "2023-04-16T11:06:59.593Z"
   },
   {
    "duration": 27,
    "start_time": "2023-04-16T11:06:59.605Z"
   },
   {
    "duration": 7,
    "start_time": "2023-04-16T11:06:59.636Z"
   },
   {
    "duration": 12,
    "start_time": "2023-04-16T11:06:59.645Z"
   },
   {
    "duration": 31,
    "start_time": "2023-04-16T11:06:59.659Z"
   },
   {
    "duration": 27,
    "start_time": "2023-04-16T11:06:59.692Z"
   },
   {
    "duration": 13,
    "start_time": "2023-04-16T11:06:59.721Z"
   },
   {
    "duration": 12,
    "start_time": "2023-04-16T11:06:59.736Z"
   },
   {
    "duration": 13,
    "start_time": "2023-04-16T11:06:59.750Z"
   },
   {
    "duration": 33,
    "start_time": "2023-04-16T11:06:59.765Z"
   },
   {
    "duration": 207,
    "start_time": "2023-04-16T11:06:59.800Z"
   },
   {
    "duration": 192,
    "start_time": "2023-04-16T11:07:00.011Z"
   },
   {
    "duration": 90,
    "start_time": "2023-04-16T11:07:00.207Z"
   },
   {
    "duration": 14,
    "start_time": "2023-04-16T11:07:00.389Z"
   },
   {
    "duration": 28,
    "start_time": "2023-04-16T11:07:00.405Z"
   },
   {
    "duration": 26,
    "start_time": "2023-04-16T11:07:00.435Z"
   },
   {
    "duration": 80,
    "start_time": "2023-04-16T11:07:00.464Z"
   },
   {
    "duration": 1035,
    "start_time": "2023-04-16T11:07:00.546Z"
   },
   {
    "duration": 952,
    "start_time": "2023-04-16T11:08:10.732Z"
   },
   {
    "duration": 1026,
    "start_time": "2023-04-16T11:08:40.318Z"
   },
   {
    "duration": 908,
    "start_time": "2023-04-16T11:09:12.920Z"
   },
   {
    "duration": 1212,
    "start_time": "2023-04-16T11:15:25.508Z"
   },
   {
    "duration": 462,
    "start_time": "2023-04-16T11:15:26.721Z"
   },
   {
    "duration": 16,
    "start_time": "2023-04-16T11:15:27.186Z"
   },
   {
    "duration": 20,
    "start_time": "2023-04-16T11:15:27.205Z"
   },
   {
    "duration": 8,
    "start_time": "2023-04-16T11:15:27.227Z"
   },
   {
    "duration": 19,
    "start_time": "2023-04-16T11:15:27.236Z"
   },
   {
    "duration": 8,
    "start_time": "2023-04-16T11:15:27.257Z"
   },
   {
    "duration": 10,
    "start_time": "2023-04-16T11:15:27.287Z"
   },
   {
    "duration": 20,
    "start_time": "2023-04-16T11:15:27.302Z"
   },
   {
    "duration": 9,
    "start_time": "2023-04-16T11:15:27.326Z"
   },
   {
    "duration": 11,
    "start_time": "2023-04-16T11:15:27.336Z"
   },
   {
    "duration": 58,
    "start_time": "2023-04-16T11:15:27.349Z"
   },
   {
    "duration": 99,
    "start_time": "2023-04-16T11:15:27.489Z"
   },
   {
    "duration": 128,
    "start_time": "2023-04-16T11:15:27.590Z"
   },
   {
    "duration": 79,
    "start_time": "2023-04-16T11:15:27.720Z"
   },
   {
    "duration": 113,
    "start_time": "2023-04-16T11:15:27.803Z"
   },
   {
    "duration": 14,
    "start_time": "2023-04-16T11:15:27.918Z"
   },
   {
    "duration": 7,
    "start_time": "2023-04-16T11:15:27.934Z"
   },
   {
    "duration": 12,
    "start_time": "2023-04-16T11:15:27.943Z"
   },
   {
    "duration": 123,
    "start_time": "2023-04-16T11:15:27.956Z"
   },
   {
    "duration": 0,
    "start_time": "2023-04-16T11:15:28.081Z"
   },
   {
    "duration": 0,
    "start_time": "2023-04-16T11:15:28.088Z"
   },
   {
    "duration": 6,
    "start_time": "2023-04-16T11:15:40.805Z"
   },
   {
    "duration": 15,
    "start_time": "2023-04-16T11:15:42.111Z"
   },
   {
    "duration": 3,
    "start_time": "2023-04-16T11:15:57.449Z"
   },
   {
    "duration": 5,
    "start_time": "2023-04-16T11:15:58.549Z"
   },
   {
    "duration": 1024,
    "start_time": "2023-04-16T11:15:59.007Z"
   },
   {
    "duration": 1031,
    "start_time": "2023-04-16T11:16:00.619Z"
   },
   {
    "duration": 1032,
    "start_time": "2023-04-16T11:16:03.223Z"
   },
   {
    "duration": 4,
    "start_time": "2023-04-16T11:16:21.052Z"
   },
   {
    "duration": 7,
    "start_time": "2023-04-16T11:16:26.206Z"
   },
   {
    "duration": 981,
    "start_time": "2023-04-16T11:16:28.102Z"
   },
   {
    "duration": 1070,
    "start_time": "2023-04-16T11:16:29.838Z"
   },
   {
    "duration": 988,
    "start_time": "2023-04-16T11:16:31.555Z"
   },
   {
    "duration": 14,
    "start_time": "2023-04-16T11:17:00.248Z"
   },
   {
    "duration": 1114,
    "start_time": "2023-04-16T11:17:00.600Z"
   },
   {
    "duration": 965,
    "start_time": "2023-04-16T11:17:03.021Z"
   },
   {
    "duration": 966,
    "start_time": "2023-04-16T11:17:06.502Z"
   },
   {
    "duration": 3,
    "start_time": "2023-04-16T11:17:43.338Z"
   },
   {
    "duration": 5,
    "start_time": "2023-04-16T11:17:44.836Z"
   },
   {
    "duration": 992,
    "start_time": "2023-04-16T11:17:46.805Z"
   },
   {
    "duration": 974,
    "start_time": "2023-04-16T11:17:48.543Z"
   },
   {
    "duration": 1087,
    "start_time": "2023-04-16T11:17:50.205Z"
   },
   {
    "duration": 1161,
    "start_time": "2023-04-16T11:18:25.354Z"
   },
   {
    "duration": 429,
    "start_time": "2023-04-16T11:18:26.519Z"
   },
   {
    "duration": 12,
    "start_time": "2023-04-16T11:18:26.949Z"
   },
   {
    "duration": 33,
    "start_time": "2023-04-16T11:18:26.964Z"
   },
   {
    "duration": 7,
    "start_time": "2023-04-16T11:18:27.000Z"
   },
   {
    "duration": 15,
    "start_time": "2023-04-16T11:18:27.008Z"
   },
   {
    "duration": 8,
    "start_time": "2023-04-16T11:18:27.024Z"
   },
   {
    "duration": 9,
    "start_time": "2023-04-16T11:18:27.034Z"
   },
   {
    "duration": 10,
    "start_time": "2023-04-16T11:18:27.044Z"
   },
   {
    "duration": 36,
    "start_time": "2023-04-16T11:18:27.057Z"
   },
   {
    "duration": 15,
    "start_time": "2023-04-16T11:18:27.095Z"
   },
   {
    "duration": 28,
    "start_time": "2023-04-16T11:18:27.112Z"
   },
   {
    "duration": 121,
    "start_time": "2023-04-16T11:18:27.198Z"
   },
   {
    "duration": 267,
    "start_time": "2023-04-16T11:18:27.321Z"
   },
   {
    "duration": 101,
    "start_time": "2023-04-16T11:18:27.590Z"
   },
   {
    "duration": 21,
    "start_time": "2023-04-16T11:18:27.693Z"
   },
   {
    "duration": 10,
    "start_time": "2023-04-16T11:18:27.716Z"
   },
   {
    "duration": 5,
    "start_time": "2023-04-16T11:18:27.728Z"
   },
   {
    "duration": 8,
    "start_time": "2023-04-16T11:18:27.734Z"
   },
   {
    "duration": 981,
    "start_time": "2023-04-16T11:18:27.743Z"
   },
   {
    "duration": 980,
    "start_time": "2023-04-16T11:18:28.726Z"
   },
   {
    "duration": 1060,
    "start_time": "2023-04-16T11:18:29.708Z"
   },
   {
    "duration": 62,
    "start_time": "2023-04-16T11:20:21.649Z"
   },
   {
    "duration": 73,
    "start_time": "2023-04-16T11:21:46.406Z"
   },
   {
    "duration": 58,
    "start_time": "2023-04-16T11:22:00.311Z"
   },
   {
    "duration": 1102,
    "start_time": "2023-04-16T11:28:06.415Z"
   },
   {
    "duration": 418,
    "start_time": "2023-04-16T11:28:07.519Z"
   },
   {
    "duration": 10,
    "start_time": "2023-04-16T11:28:07.939Z"
   },
   {
    "duration": 15,
    "start_time": "2023-04-16T11:28:07.951Z"
   },
   {
    "duration": 23,
    "start_time": "2023-04-16T11:28:07.968Z"
   },
   {
    "duration": 10,
    "start_time": "2023-04-16T11:28:07.993Z"
   },
   {
    "duration": 9,
    "start_time": "2023-04-16T11:28:08.005Z"
   },
   {
    "duration": 8,
    "start_time": "2023-04-16T11:28:08.015Z"
   },
   {
    "duration": 9,
    "start_time": "2023-04-16T11:28:08.025Z"
   },
   {
    "duration": 9,
    "start_time": "2023-04-16T11:28:08.036Z"
   },
   {
    "duration": 42,
    "start_time": "2023-04-16T11:28:08.047Z"
   },
   {
    "duration": 99,
    "start_time": "2023-04-16T11:28:08.091Z"
   },
   {
    "duration": 122,
    "start_time": "2023-04-16T11:28:08.192Z"
   },
   {
    "duration": 123,
    "start_time": "2023-04-16T11:28:08.387Z"
   },
   {
    "duration": 177,
    "start_time": "2023-04-16T11:28:08.512Z"
   },
   {
    "duration": 12,
    "start_time": "2023-04-16T11:28:08.691Z"
   },
   {
    "duration": 14,
    "start_time": "2023-04-16T11:28:08.705Z"
   },
   {
    "duration": 6,
    "start_time": "2023-04-16T11:28:08.720Z"
   },
   {
    "duration": 7,
    "start_time": "2023-04-16T11:28:08.728Z"
   },
   {
    "duration": 955,
    "start_time": "2023-04-16T11:28:08.736Z"
   },
   {
    "duration": 1009,
    "start_time": "2023-04-16T11:28:09.693Z"
   },
   {
    "duration": 927,
    "start_time": "2023-04-16T11:28:10.704Z"
   },
   {
    "duration": 1732,
    "start_time": "2023-04-16T15:48:21.590Z"
   },
   {
    "duration": 1094,
    "start_time": "2023-04-16T15:48:23.324Z"
   },
   {
    "duration": 9,
    "start_time": "2023-04-16T15:48:24.420Z"
   },
   {
    "duration": 14,
    "start_time": "2023-04-16T15:48:24.431Z"
   },
   {
    "duration": 6,
    "start_time": "2023-04-16T15:48:24.446Z"
   },
   {
    "duration": 18,
    "start_time": "2023-04-16T15:48:24.453Z"
   },
   {
    "duration": 8,
    "start_time": "2023-04-16T15:48:24.473Z"
   },
   {
    "duration": 20,
    "start_time": "2023-04-16T15:48:24.482Z"
   },
   {
    "duration": 15,
    "start_time": "2023-04-16T15:48:24.503Z"
   },
   {
    "duration": 8,
    "start_time": "2023-04-16T15:48:24.520Z"
   },
   {
    "duration": 14,
    "start_time": "2023-04-16T15:48:24.529Z"
   },
   {
    "duration": 57,
    "start_time": "2023-04-16T15:48:24.544Z"
   },
   {
    "duration": 192,
    "start_time": "2023-04-16T15:48:24.603Z"
   },
   {
    "duration": 125,
    "start_time": "2023-04-16T15:48:24.797Z"
   },
   {
    "duration": 19,
    "start_time": "2023-04-16T15:48:24.998Z"
   },
   {
    "duration": 87,
    "start_time": "2023-04-16T15:48:25.019Z"
   },
   {
    "duration": 9,
    "start_time": "2023-04-16T15:48:25.107Z"
   },
   {
    "duration": 3,
    "start_time": "2023-04-16T15:48:25.117Z"
   },
   {
    "duration": 6,
    "start_time": "2023-04-16T15:48:25.122Z"
   },
   {
    "duration": 877,
    "start_time": "2023-04-16T15:48:25.130Z"
   },
   {
    "duration": 815,
    "start_time": "2023-04-16T15:48:26.014Z"
   },
   {
    "duration": 834,
    "start_time": "2023-04-16T15:48:26.830Z"
   },
   {
    "duration": 56,
    "start_time": "2023-04-16T20:12:19.844Z"
   },
   {
    "duration": 1153,
    "start_time": "2023-04-16T20:12:23.536Z"
   },
   {
    "duration": 1615,
    "start_time": "2023-04-16T20:12:24.691Z"
   },
   {
    "duration": 11,
    "start_time": "2023-04-16T20:12:26.308Z"
   },
   {
    "duration": 15,
    "start_time": "2023-04-16T20:12:26.321Z"
   },
   {
    "duration": 11,
    "start_time": "2023-04-16T20:12:26.339Z"
   },
   {
    "duration": 14,
    "start_time": "2023-04-16T20:12:26.352Z"
   },
   {
    "duration": 8,
    "start_time": "2023-04-16T20:12:26.368Z"
   },
   {
    "duration": 17,
    "start_time": "2023-04-16T20:12:26.378Z"
   },
   {
    "duration": 22,
    "start_time": "2023-04-16T20:12:26.397Z"
   },
   {
    "duration": 8,
    "start_time": "2023-04-16T20:12:26.420Z"
   },
   {
    "duration": 9,
    "start_time": "2023-04-16T20:12:26.430Z"
   },
   {
    "duration": 31,
    "start_time": "2023-04-16T20:12:26.449Z"
   },
   {
    "duration": 190,
    "start_time": "2023-04-16T20:12:26.481Z"
   },
   {
    "duration": 119,
    "start_time": "2023-04-16T20:12:26.749Z"
   },
   {
    "duration": 2,
    "start_time": "2023-04-16T20:12:26.872Z"
   },
   {
    "duration": 107,
    "start_time": "2023-04-16T20:12:26.950Z"
   },
   {
    "duration": 13,
    "start_time": "2023-04-16T20:12:27.059Z"
   },
   {
    "duration": 11,
    "start_time": "2023-04-16T20:12:27.074Z"
   },
   {
    "duration": 9,
    "start_time": "2023-04-16T20:12:27.087Z"
   },
   {
    "duration": 7,
    "start_time": "2023-04-16T20:12:27.097Z"
   },
   {
    "duration": 5,
    "start_time": "2023-04-16T20:12:27.105Z"
   },
   {
    "duration": 763,
    "start_time": "2023-04-16T20:12:27.111Z"
   },
   {
    "duration": 718,
    "start_time": "2023-04-16T20:12:27.876Z"
   },
   {
    "duration": 722,
    "start_time": "2023-04-16T20:12:28.596Z"
   },
   {
    "duration": 4,
    "start_time": "2023-04-16T20:13:44.354Z"
   },
   {
    "duration": 4,
    "start_time": "2023-04-16T20:14:29.269Z"
   }
  ],
  "kernelspec": {
   "display_name": "Python 3 (ipykernel)",
   "language": "python",
   "name": "python3"
  },
  "language_info": {
   "codemirror_mode": {
    "name": "ipython",
    "version": 3
   },
   "file_extension": ".py",
   "mimetype": "text/x-python",
   "name": "python",
   "nbconvert_exporter": "python",
   "pygments_lexer": "ipython3",
   "version": "3.9.5"
  },
  "toc": {
   "base_numbering": 1,
   "nav_menu": {},
   "number_sections": true,
   "sideBar": true,
   "skip_h1_title": true,
   "title_cell": "Table of Contents",
   "title_sidebar": "Contents",
   "toc_cell": false,
   "toc_position": {},
   "toc_section_display": true,
   "toc_window_display": true
  }
 },
 "nbformat": 4,
 "nbformat_minor": 2
}
