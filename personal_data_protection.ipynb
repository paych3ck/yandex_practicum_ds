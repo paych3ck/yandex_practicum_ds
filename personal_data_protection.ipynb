{
 "cells": [
  {
   "cell_type": "markdown",
   "metadata": {
    "toc": true
   },
   "source": [
    "<h1>Содержание<span class=\"tocSkip\"></span></h1>\n",
    "<div class=\"toc\"><ul class=\"toc-item\"><li><span><a href=\"#Загрузка-данных\" data-toc-modified-id=\"Загрузка-данных-1\"><span class=\"toc-item-num\">1&nbsp;&nbsp;</span>Загрузка данных</a></span></li><li><span><a href=\"#Умножение-матриц\" data-toc-modified-id=\"Умножение-матриц-2\"><span class=\"toc-item-num\">2&nbsp;&nbsp;</span>Умножение матриц</a></span></li><li><span><a href=\"#Алгоритм-преобразования\" data-toc-modified-id=\"Алгоритм-преобразования-3\"><span class=\"toc-item-num\">3&nbsp;&nbsp;</span>Алгоритм преобразования</a></span></li><li><span><a href=\"#Проверка-алгоритма\" data-toc-modified-id=\"Проверка-алгоритма-4\"><span class=\"toc-item-num\">4&nbsp;&nbsp;</span>Проверка алгоритма</a></span></li><li><span><a href=\"#Вывод\" data-toc-modified-id=\"Вывод-5\"><span class=\"toc-item-num\">5&nbsp;&nbsp;</span>Вывод</a></span></li><li><span><a href=\"#Чек-лист-проверки\" data-toc-modified-id=\"Чек-лист-проверки-6\"><span class=\"toc-item-num\">6&nbsp;&nbsp;</span>Чек-лист проверки</a></span></li></ul></div>"
   ]
  },
  {
   "cell_type": "markdown",
   "metadata": {},
   "source": [
    "# Защита персональных данных клиентов"
   ]
  },
  {
   "cell_type": "markdown",
   "metadata": {},
   "source": [
    "Вам нужно защитить данные клиентов страховой компании «Хоть потоп». Разработайте такой метод преобразования данных, чтобы по ним было сложно восстановить персональную информацию. Обоснуйте корректность его работы.\n",
    "\n",
    "Нужно защитить данные, чтобы при преобразовании качество моделей машинного обучения не ухудшилось. Подбирать наилучшую модель не требуется."
   ]
  },
  {
   "cell_type": "markdown",
   "metadata": {},
   "source": [
    "## Загрузка данных"
   ]
  },
  {
   "cell_type": "code",
   "execution_count": 1,
   "metadata": {},
   "outputs": [],
   "source": [
    "import pandas as pd\n",
    "import matplotlib.pyplot as plt\n",
    "import numpy as np\n",
    "from sklearn.metrics import r2_score\n",
    "from sklearn.model_selection import train_test_split\n",
    "from sklearn.linear_model import LinearRegression"
   ]
  },
  {
   "cell_type": "code",
   "execution_count": 2,
   "metadata": {},
   "outputs": [
    {
     "data": {
      "text/html": [
       "<div>\n",
       "<style scoped>\n",
       "    .dataframe tbody tr th:only-of-type {\n",
       "        vertical-align: middle;\n",
       "    }\n",
       "\n",
       "    .dataframe tbody tr th {\n",
       "        vertical-align: top;\n",
       "    }\n",
       "\n",
       "    .dataframe thead th {\n",
       "        text-align: right;\n",
       "    }\n",
       "</style>\n",
       "<table border=\"1\" class=\"dataframe\">\n",
       "  <thead>\n",
       "    <tr style=\"text-align: right;\">\n",
       "      <th></th>\n",
       "      <th>Пол</th>\n",
       "      <th>Возраст</th>\n",
       "      <th>Зарплата</th>\n",
       "      <th>Члены семьи</th>\n",
       "      <th>Страховые выплаты</th>\n",
       "    </tr>\n",
       "  </thead>\n",
       "  <tbody>\n",
       "    <tr>\n",
       "      <th>0</th>\n",
       "      <td>1</td>\n",
       "      <td>41.0</td>\n",
       "      <td>49600.0</td>\n",
       "      <td>1</td>\n",
       "      <td>0</td>\n",
       "    </tr>\n",
       "    <tr>\n",
       "      <th>1</th>\n",
       "      <td>0</td>\n",
       "      <td>46.0</td>\n",
       "      <td>38000.0</td>\n",
       "      <td>1</td>\n",
       "      <td>1</td>\n",
       "    </tr>\n",
       "    <tr>\n",
       "      <th>2</th>\n",
       "      <td>0</td>\n",
       "      <td>29.0</td>\n",
       "      <td>21000.0</td>\n",
       "      <td>0</td>\n",
       "      <td>0</td>\n",
       "    </tr>\n",
       "    <tr>\n",
       "      <th>3</th>\n",
       "      <td>0</td>\n",
       "      <td>21.0</td>\n",
       "      <td>41700.0</td>\n",
       "      <td>2</td>\n",
       "      <td>0</td>\n",
       "    </tr>\n",
       "    <tr>\n",
       "      <th>4</th>\n",
       "      <td>1</td>\n",
       "      <td>28.0</td>\n",
       "      <td>26100.0</td>\n",
       "      <td>0</td>\n",
       "      <td>0</td>\n",
       "    </tr>\n",
       "  </tbody>\n",
       "</table>\n",
       "</div>"
      ],
      "text/plain": [
       "   Пол  Возраст  Зарплата  Члены семьи  Страховые выплаты\n",
       "0    1     41.0   49600.0            1                  0\n",
       "1    0     46.0   38000.0            1                  1\n",
       "2    0     29.0   21000.0            0                  0\n",
       "3    0     21.0   41700.0            2                  0\n",
       "4    1     28.0   26100.0            0                  0"
      ]
     },
     "execution_count": 2,
     "metadata": {},
     "output_type": "execute_result"
    }
   ],
   "source": [
    "data = pd.read_csv('/datasets/insurance.csv')\n",
    "data.head()"
   ]
  },
  {
   "cell_type": "code",
   "execution_count": 3,
   "metadata": {
    "scrolled": true
   },
   "outputs": [
    {
     "data": {
      "text/plain": [
       "Пол                  0\n",
       "Возраст              0\n",
       "Зарплата             0\n",
       "Члены семьи          0\n",
       "Страховые выплаты    0\n",
       "dtype: int64"
      ]
     },
     "execution_count": 3,
     "metadata": {},
     "output_type": "execute_result"
    }
   ],
   "source": [
    "data.isnull().sum()"
   ]
  },
  {
   "cell_type": "code",
   "execution_count": 4,
   "metadata": {},
   "outputs": [],
   "source": [
    "data.columns = ['gender', 'age', 'salary', 'family_members', 'insurance_payouts']"
   ]
  },
  {
   "cell_type": "code",
   "execution_count": 5,
   "metadata": {},
   "outputs": [
    {
     "name": "stdout",
     "output_type": "stream",
     "text": [
      "<class 'pandas.core.frame.DataFrame'>\n",
      "RangeIndex: 5000 entries, 0 to 4999\n",
      "Data columns (total 5 columns):\n",
      " #   Column             Non-Null Count  Dtype  \n",
      "---  ------             --------------  -----  \n",
      " 0   gender             5000 non-null   int64  \n",
      " 1   age                5000 non-null   float64\n",
      " 2   salary             5000 non-null   float64\n",
      " 3   family_members     5000 non-null   int64  \n",
      " 4   insurance_payouts  5000 non-null   int64  \n",
      "dtypes: float64(2), int64(3)\n",
      "memory usage: 195.4 KB\n"
     ]
    }
   ],
   "source": [
    "data.info()"
   ]
  },
  {
   "cell_type": "code",
   "execution_count": 6,
   "metadata": {},
   "outputs": [
    {
     "data": {
      "image/png": "[encoded data removed]",
      "text/plain": [
       "<Figure size 432x288 with 1 Axes>"
      ]
     },
     "metadata": {
      "needs_background": "light"
     },
     "output_type": "display_data"
    }
   ],
   "source": [
    "data['gender'].value_counts().plot(kind='bar', title='Пол');"
   ]
  },
  {
   "cell_type": "code",
   "execution_count": 7,
   "metadata": {},
   "outputs": [
    {
     "data": {
      "image/png": "[encoded data removed]",
      "text/plain": [
       "<Figure size 432x288 with 1 Axes>"
      ]
     },
     "metadata": {
      "needs_background": "light"
     },
     "output_type": "display_data"
    }
   ],
   "source": [
    "data['age'].plot(kind='hist', title='Возраст');"
   ]
  },
  {
   "cell_type": "code",
   "execution_count": 8,
   "metadata": {},
   "outputs": [
    {
     "data": {
      "image/png": "[encoded data removed]",
      "text/plain": [
       "<Figure size 432x288 with 1 Axes>"
      ]
     },
     "metadata": {
      "needs_background": "light"
     },
     "output_type": "display_data"
    }
   ],
   "source": [
    "data['salary'].plot(kind='hist', title='Зарплата');"
   ]
  },
  {
   "cell_type": "code",
   "execution_count": 9,
   "metadata": {},
   "outputs": [
    {
     "data": {
      "image/png": "[encoded data removed]",
      "text/plain": [
       "<Figure size 432x288 with 1 Axes>"
      ]
     },
     "metadata": {
      "needs_background": "light"
     },
     "output_type": "display_data"
    }
   ],
   "source": [
    "data['family_members'].value_counts().plot(kind='bar', title='Члены семьи');"
   ]
  },
  {
   "cell_type": "code",
   "execution_count": 10,
   "metadata": {},
   "outputs": [
    {
     "data": {
      "image/png": "[encoded data removed]",
      "text/plain": [
       "<Figure size 432x288 with 1 Axes>"
      ]
     },
     "metadata": {
      "needs_background": "light"
     },
     "output_type": "display_data"
    }
   ],
   "source": [
    "data['insurance_payouts'].value_counts().plot(kind='bar', title='Страховые выплаты');"
   ]
  },
  {
   "cell_type": "markdown",
   "metadata": {},
   "source": [
    "## Умножение матриц"
   ]
  },
  {
   "cell_type": "markdown",
   "metadata": {},
   "source": [
    "**Ответ:** Параметры линейной регрессии в исходной задаче и в преобразованной задаче связаны таким образом, что качество модели линейной регрессии не изменится.\n",
    "\n",
    "**Обоснование:** Исходная модель линейной регрессии обучается на исходных признаках, тогда как преобразованная модель линейной регрессии обучается на преобразованных признаках (путем умножения на обратимую матрицу). Признаки умножаются на обратимую матрицу, поэтому связь между признаками и целевой переменной остается линейной. \n",
    "\n",
    "Если мы рассмотрим связь параметров модели линейной регрессии, то при умножении признаков на обратимую матрицу, эти параметры также будут преобразованы. Но в то же время, при предсказании новых значений целевой переменной с использованием новых параметров модели и преобразованных признаков, связь между признаками и целевой переменной будет сохранена.\n",
    "\n",
    "Поэтому, даже после преобразования данных, модель линейной регрессии снова может учиться и предсказывать целевую переменную с тем же качеством, что и до преобразования."
   ]
  },
  {
   "cell_type": "markdown",
   "metadata": {},
   "source": [
    "## Алгоритм преобразования"
   ]
  },
  {
   "cell_type": "markdown",
   "metadata": {},
   "source": [
    "**Алгоритм**\n",
    "\n",
    "Для начала мы делим наш датасет на обучающую и тестовую выборки. Затем мы должны создать модель линейной регрессии, обучить ее и получить предсказания. В качестве оценки модели будем использовать метрику R2-score. Затем необходимо сгенерировать обратимую матрицу. **Если матрица является обратимой, используем ее. Иначе - генерируем новую матрицу.** После создания обратимой матрицы нужно преобразовать исходные данные. Умножаем признаки на на обратимую матрицу. Затем мы обучаем модель линеной регрессии, но уже на преобразованных данных, получаем предсказания и сравниваем значения метрик с оригинальной моделью."
   ]
  },
  {
   "cell_type": "markdown",
   "metadata": {},
   "source": [
    "**Обоснование**\n",
    "\n",
    "При умножении признаков на обратимую матрицу, мы выполняем линейное преобразование, которое не меняет линейную зависимость между признаками и целевой переменной. Параметры модели линейной регрессии в исходной задаче и в преобразованной связаны таким образом, что качество модели линейной регрессии остается неизменным. Несмотря на изменение значения параметров, измененная модель все равно будет способна сохранять связь между признаками и целевой переменной с тем же качеством, как и до преобразования."
   ]
  },
  {
   "cell_type": "markdown",
   "metadata": {},
   "source": [
    "## Проверка алгоритма"
   ]
  },
  {
   "cell_type": "code",
   "execution_count": 11,
   "metadata": {},
   "outputs": [],
   "source": [
    "features = data.drop('insurance_payouts', axis=1)\n",
    "target = data['insurance_payouts']\n",
    "\n",
    "features_train, features_valid, target_train, target_valid = train_test_split(features, target, test_size=0.2)"
   ]
  },
  {
   "cell_type": "markdown",
   "metadata": {},
   "source": [
    "**Модель линейной регрессии на исходных данных.**"
   ]
  },
  {
   "cell_type": "code",
   "execution_count": 12,
   "metadata": {},
   "outputs": [],
   "source": [
    "model_original = LinearRegression()\n",
    "model_original.fit(features_train, target_train)\n",
    "predictions_original = model_original.predict(features_valid)\n",
    "r2_original = r2_score(target_valid, predictions_original)"
   ]
  },
  {
   "cell_type": "markdown",
   "metadata": {},
   "source": [
    "**Преобразование данных.**"
   ]
  },
  {
   "cell_type": "code",
   "execution_count": 13,
   "metadata": {},
   "outputs": [
    {
     "name": "stdout",
     "output_type": "stream",
     "text": [
      "Матрица обратима.\n"
     ]
    }
   ],
   "source": [
    "matrix = np.random.rand(features_train.shape[1], features_train.shape[1])\n",
    "inverse_matrix = np.linalg.inv(matrix)\n",
    "\n",
    "if np.linalg.det(matrix) != 0:\n",
    "    print(\"Матрица обратима.\")\n",
    "else:\n",
    "    print(\"Матрица необратима.\")\n",
    "\n",
    "features_train_transformed = features_train.dot(inverse_matrix)\n",
    "features_valid_transformed = features_valid.dot(inverse_matrix)"
   ]
  },
  {
   "cell_type": "markdown",
   "metadata": {},
   "source": [
    "**Модель линейной регрессии на преобразованных данных.**"
   ]
  },
  {
   "cell_type": "code",
   "execution_count": 14,
   "metadata": {},
   "outputs": [],
   "source": [
    "model_transformed = LinearRegression()\n",
    "model_transformed.fit(features_train_transformed, target_train)\n",
    "predictions_transformed = model_transformed.predict(features_valid_transformed)\n",
    "r2_transformed = r2_score(target_valid, predictions_transformed)"
   ]
  },
  {
   "cell_type": "code",
   "execution_count": 15,
   "metadata": {},
   "outputs": [
    {
     "name": "stdout",
     "output_type": "stream",
     "text": [
      "R2 исходной модели: 0.4055469573290009\n",
      "R2 преобразованной модели: 0.40554695732909385\n"
     ]
    }
   ],
   "source": [
    "print(\"R2 исходной модели:\", r2_original)\n",
    "print(\"R2 преобразованной модели:\", r2_transformed)"
   ]
  },
  {
   "cell_type": "markdown",
   "metadata": {},
   "source": [
    "Что до преобразования, что после, метрика R2 одинакова."
   ]
  },
  {
   "cell_type": "markdown",
   "metadata": {},
   "source": [
    "## Вывод"
   ]
  },
  {
   "cell_type": "markdown",
   "metadata": {},
   "source": [
    "В ходе работы были изучены предоставленные данные. Был изучен вопрос измнения качество линейной регресси в связи с умножением на обратную матрицу - качество модели не изменится. Был предложен алгоритм преобразования данных, после использования которого качество линейной регресси не поменялось. Итоговые метрики R2 на исходных данных и преобразованных одинаковые."
   ]
  }
 ],
 "metadata": {
  "ExecuteTimeLog": [
   {
    "duration": 417,
    "start_time": "2023-06-25T12:04:17.336Z"
   },
   {
    "duration": 122,
    "start_time": "2023-06-25T12:04:18.169Z"
   },
   {
    "duration": 23,
    "start_time": "2023-06-25T12:07:26.414Z"
   },
   {
    "duration": 20,
    "start_time": "2023-06-25T12:07:45.451Z"
   },
   {
    "duration": 7,
    "start_time": "2023-06-25T12:08:51.285Z"
   },
   {
    "duration": 442,
    "start_time": "2023-06-25T12:11:16.734Z"
   },
   {
    "duration": 43,
    "start_time": "2023-06-25T12:11:17.181Z"
   },
   {
    "duration": 7,
    "start_time": "2023-06-25T12:11:17.226Z"
   },
   {
    "duration": 13,
    "start_time": "2023-06-25T12:11:17.235Z"
   },
   {
    "duration": 16,
    "start_time": "2023-06-25T12:11:17.250Z"
   },
   {
    "duration": 1174,
    "start_time": "2023-06-25T12:19:54.259Z"
   },
   {
    "duration": 42,
    "start_time": "2023-06-25T12:19:55.435Z"
   },
   {
    "duration": 6,
    "start_time": "2023-06-25T12:19:55.479Z"
   },
   {
    "duration": 13,
    "start_time": "2023-06-25T12:19:55.487Z"
   },
   {
    "duration": 16,
    "start_time": "2023-06-25T12:19:55.502Z"
   },
   {
    "duration": 5,
    "start_time": "2023-06-25T12:19:55.520Z"
   },
   {
    "duration": 71,
    "start_time": "2023-06-25T12:19:55.527Z"
   },
   {
    "duration": 14,
    "start_time": "2023-06-25T12:21:36.025Z"
   },
   {
    "duration": 6,
    "start_time": "2023-06-25T12:21:37.926Z"
   },
   {
    "duration": 9,
    "start_time": "2023-06-25T12:21:38.303Z"
   },
   {
    "duration": 1224,
    "start_time": "2023-06-25T12:23:54.839Z"
   },
   {
    "duration": 50,
    "start_time": "2023-06-25T12:23:56.065Z"
   },
   {
    "duration": 7,
    "start_time": "2023-06-25T12:23:56.117Z"
   },
   {
    "duration": 7,
    "start_time": "2023-06-25T12:23:56.127Z"
   },
   {
    "duration": 23,
    "start_time": "2023-06-25T12:23:56.136Z"
   },
   {
    "duration": 7,
    "start_time": "2023-06-25T12:23:56.161Z"
   },
   {
    "duration": 93,
    "start_time": "2023-06-25T12:23:56.170Z"
   },
   {
    "duration": 122,
    "start_time": "2023-06-25T12:24:01.051Z"
   },
   {
    "duration": 112,
    "start_time": "2023-06-25T12:31:01.702Z"
   },
   {
    "duration": 1360,
    "start_time": "2023-06-25T12:31:08.256Z"
   },
   {
    "duration": 46,
    "start_time": "2023-06-25T12:31:09.618Z"
   },
   {
    "duration": 11,
    "start_time": "2023-06-25T12:31:09.666Z"
   },
   {
    "duration": 10,
    "start_time": "2023-06-25T12:31:09.679Z"
   },
   {
    "duration": 21,
    "start_time": "2023-06-25T12:31:09.691Z"
   },
   {
    "duration": 10,
    "start_time": "2023-06-25T12:31:09.714Z"
   },
   {
    "duration": 164,
    "start_time": "2023-06-25T12:31:09.725Z"
   },
   {
    "duration": 10,
    "start_time": "2023-06-25T12:31:27.306Z"
   },
   {
    "duration": 1641,
    "start_time": "2023-06-25T12:36:21.005Z"
   },
   {
    "duration": 54,
    "start_time": "2023-06-25T12:36:22.648Z"
   },
   {
    "duration": 7,
    "start_time": "2023-06-25T12:36:22.704Z"
   },
   {
    "duration": 6,
    "start_time": "2023-06-25T12:36:22.713Z"
   },
   {
    "duration": 14,
    "start_time": "2023-06-25T12:36:22.721Z"
   },
   {
    "duration": 5,
    "start_time": "2023-06-25T12:36:22.738Z"
   },
   {
    "duration": 38,
    "start_time": "2023-06-25T12:36:22.745Z"
   },
   {
    "duration": 302,
    "start_time": "2023-06-25T12:36:22.786Z"
   },
   {
    "duration": 0,
    "start_time": "2023-06-25T12:36:23.096Z"
   },
   {
    "duration": 1603,
    "start_time": "2023-06-25T12:36:47.590Z"
   },
   {
    "duration": 60,
    "start_time": "2023-06-25T12:36:49.195Z"
   },
   {
    "duration": 16,
    "start_time": "2023-06-25T12:36:49.261Z"
   },
   {
    "duration": 4,
    "start_time": "2023-06-25T12:36:49.280Z"
   },
   {
    "duration": 25,
    "start_time": "2023-06-25T12:36:49.286Z"
   },
   {
    "duration": 9,
    "start_time": "2023-06-25T12:36:49.313Z"
   },
   {
    "duration": 20,
    "start_time": "2023-06-25T12:36:49.324Z"
   },
   {
    "duration": 303,
    "start_time": "2023-06-25T12:36:49.357Z"
   },
   {
    "duration": 0,
    "start_time": "2023-06-25T12:36:49.662Z"
   },
   {
    "duration": 13,
    "start_time": "2023-06-25T12:37:24.585Z"
   },
   {
    "duration": 4,
    "start_time": "2023-06-25T12:37:26.550Z"
   },
   {
    "duration": 1574,
    "start_time": "2023-06-25T14:37:18.720Z"
   },
   {
    "duration": 144,
    "start_time": "2023-06-25T14:37:20.297Z"
   },
   {
    "duration": 15,
    "start_time": "2023-06-25T14:37:20.445Z"
   },
   {
    "duration": 24,
    "start_time": "2023-06-25T14:37:20.463Z"
   },
   {
    "duration": 118,
    "start_time": "2023-06-25T14:37:20.490Z"
   },
   {
    "duration": 25,
    "start_time": "2023-06-25T14:37:20.611Z"
   },
   {
    "duration": 19,
    "start_time": "2023-06-25T14:37:20.642Z"
   },
   {
    "duration": 67,
    "start_time": "2023-06-25T14:37:20.664Z"
   },
   {
    "duration": 22,
    "start_time": "2023-06-25T14:37:20.733Z"
   },
   {
    "duration": 11,
    "start_time": "2023-06-25T14:37:20.758Z"
   },
   {
    "duration": 1060,
    "start_time": "2023-06-25T16:38:13.356Z"
   },
   {
    "duration": 89,
    "start_time": "2023-06-25T16:38:14.418Z"
   },
   {
    "duration": 6,
    "start_time": "2023-06-25T16:38:14.508Z"
   },
   {
    "duration": 40,
    "start_time": "2023-06-25T16:38:14.516Z"
   },
   {
    "duration": 20,
    "start_time": "2023-06-25T16:38:14.558Z"
   },
   {
    "duration": 14,
    "start_time": "2023-06-25T16:38:14.580Z"
   },
   {
    "duration": 28,
    "start_time": "2023-06-25T16:38:14.595Z"
   },
   {
    "duration": 37,
    "start_time": "2023-06-25T16:38:14.625Z"
   },
   {
    "duration": 82,
    "start_time": "2023-06-25T16:38:14.664Z"
   },
   {
    "duration": 82,
    "start_time": "2023-06-25T16:38:14.752Z"
   },
   {
    "duration": 860,
    "start_time": "2023-06-25T16:43:45.292Z"
   },
   {
    "duration": 286,
    "start_time": "2023-06-25T16:44:50.614Z"
   },
   {
    "duration": 3,
    "start_time": "2023-06-25T16:45:24.617Z"
   },
   {
    "duration": 1407,
    "start_time": "2023-06-25T16:45:31.523Z"
   },
   {
    "duration": 50,
    "start_time": "2023-06-25T16:45:32.937Z"
   },
   {
    "duration": 6,
    "start_time": "2023-06-25T16:45:32.989Z"
   },
   {
    "duration": 12,
    "start_time": "2023-06-25T16:45:32.997Z"
   },
   {
    "duration": 25,
    "start_time": "2023-06-25T16:45:33.013Z"
   },
   {
    "duration": 331,
    "start_time": "2023-06-25T16:45:33.039Z"
   },
   {
    "duration": 0,
    "start_time": "2023-06-25T16:45:33.372Z"
   },
   {
    "duration": 0,
    "start_time": "2023-06-25T16:45:33.374Z"
   },
   {
    "duration": 0,
    "start_time": "2023-06-25T16:45:33.376Z"
   },
   {
    "duration": 0,
    "start_time": "2023-06-25T16:45:33.377Z"
   },
   {
    "duration": 0,
    "start_time": "2023-06-25T16:45:33.378Z"
   },
   {
    "duration": 103,
    "start_time": "2023-06-25T16:45:45.104Z"
   },
   {
    "duration": 1422,
    "start_time": "2023-06-25T16:46:08.628Z"
   },
   {
    "duration": 42,
    "start_time": "2023-06-25T16:46:10.053Z"
   },
   {
    "duration": 7,
    "start_time": "2023-06-25T16:46:10.097Z"
   },
   {
    "duration": 17,
    "start_time": "2023-06-25T16:46:10.106Z"
   },
   {
    "duration": 52,
    "start_time": "2023-06-25T16:46:10.127Z"
   },
   {
    "duration": 129,
    "start_time": "2023-06-25T16:46:10.180Z"
   },
   {
    "duration": 7,
    "start_time": "2023-06-25T16:46:10.310Z"
   },
   {
    "duration": 86,
    "start_time": "2023-06-25T16:46:10.318Z"
   },
   {
    "duration": 57,
    "start_time": "2023-06-25T16:46:10.406Z"
   },
   {
    "duration": 81,
    "start_time": "2023-06-25T16:46:10.465Z"
   },
   {
    "duration": 87,
    "start_time": "2023-06-25T16:46:10.551Z"
   },
   {
    "duration": 98,
    "start_time": "2023-06-25T16:46:45.707Z"
   },
   {
    "duration": 111,
    "start_time": "2023-06-25T16:47:02.690Z"
   },
   {
    "duration": 126,
    "start_time": "2023-06-25T16:47:06.305Z"
   },
   {
    "duration": 156,
    "start_time": "2023-06-25T16:47:23.552Z"
   },
   {
    "duration": 169,
    "start_time": "2023-06-25T16:47:35.564Z"
   },
   {
    "duration": 145,
    "start_time": "2023-06-25T16:47:47.205Z"
   },
   {
    "duration": 190,
    "start_time": "2023-06-25T16:47:50.889Z"
   },
   {
    "duration": 9,
    "start_time": "2023-06-25T16:48:00.563Z"
   },
   {
    "duration": 106,
    "start_time": "2023-06-25T16:48:03.910Z"
   },
   {
    "duration": 156,
    "start_time": "2023-06-25T16:48:24.148Z"
   },
   {
    "duration": 150,
    "start_time": "2023-06-25T16:48:31.504Z"
   },
   {
    "duration": 106,
    "start_time": "2023-06-25T16:49:09.797Z"
   },
   {
    "duration": 1382,
    "start_time": "2023-06-25T16:49:16.691Z"
   },
   {
    "duration": 37,
    "start_time": "2023-06-25T16:49:18.075Z"
   },
   {
    "duration": 6,
    "start_time": "2023-06-25T16:49:18.114Z"
   },
   {
    "duration": 43,
    "start_time": "2023-06-25T16:49:18.122Z"
   },
   {
    "duration": 13,
    "start_time": "2023-06-25T16:49:18.169Z"
   },
   {
    "duration": 113,
    "start_time": "2023-06-25T16:49:18.184Z"
   },
   {
    "duration": 131,
    "start_time": "2023-06-25T16:49:18.299Z"
   },
   {
    "duration": 147,
    "start_time": "2023-06-25T16:49:18.438Z"
   },
   {
    "duration": 140,
    "start_time": "2023-06-25T16:49:18.586Z"
   },
   {
    "duration": 122,
    "start_time": "2023-06-25T16:49:18.732Z"
   },
   {
    "duration": 6,
    "start_time": "2023-06-25T16:49:18.857Z"
   },
   {
    "duration": 19,
    "start_time": "2023-06-25T16:49:18.864Z"
   },
   {
    "duration": 20,
    "start_time": "2023-06-25T16:49:18.885Z"
   },
   {
    "duration": 132,
    "start_time": "2023-06-25T16:49:18.907Z"
   },
   {
    "duration": 26,
    "start_time": "2023-06-25T16:49:19.042Z"
   }
  ],
  "kernelspec": {
   "display_name": "Python 3 (ipykernel)",
   "language": "python",
   "name": "python3"
  },
  "language_info": {
   "codemirror_mode": {
    "name": "ipython",
    "version": 3
   },
   "file_extension": ".py",
   "mimetype": "text/x-python",
   "name": "python",
   "nbconvert_exporter": "python",
   "pygments_lexer": "ipython3",
   "version": "3.9.5"
  },
  "toc": {
   "base_numbering": 1,
   "nav_menu": {},
   "number_sections": true,
   "sideBar": false,
   "skip_h1_title": true,
   "title_cell": "Содержание",
   "title_sidebar": "Contents",
   "toc_cell": true,
   "toc_position": {
    "height": "47.6875px",
    "left": "721px",
    "top": "111.125px",
    "width": "159px"
   },
   "toc_section_display": false,
   "toc_window_display": true
  }
 },
 "nbformat": 4,
 "nbformat_minor": 2
}
